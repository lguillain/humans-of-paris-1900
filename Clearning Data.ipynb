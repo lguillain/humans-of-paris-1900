{
 "cells": [
  {
   "cell_type": "code",
   "execution_count": 1,
   "metadata": {},
   "outputs": [
    {
     "name": "stderr",
     "output_type": "stream",
     "text": [
      "/anaconda3/envs/fdh/lib/python3.7/site-packages/tqdm/autonotebook.py:17: TqdmExperimentalWarning: Using `tqdm.autonotebook.tqdm` in notebook mode. Use `tqdm.tqdm` instead to force console mode (e.g. in jupyter console)\n",
      "  \" (e.g. in jupyter console)\", TqdmExperimentalWarning)\n"
     ]
    }
   ],
   "source": [
    "from fdh_gallica import Periodical, Search, Document\n",
    "from fdh_gallica.parallel_process import iiif_urls_for_documents\n",
    "\n",
    "from tqdm.autonotebook import tqdm\n",
    "\n",
    "import json\n",
    "import pandas as pd\n",
    "from pandas.io.json import json_normalize"
   ]
  },
  {
   "cell_type": "markdown",
   "metadata": {},
   "source": [
    "get all images with relevant query"
   ]
  },
  {
   "cell_type": "code",
   "execution_count": 2,
   "metadata": {},
   "outputs": [],
   "source": [
    "re_execute = False\n",
    "if re_execute:\n",
    "    obj = Search(all_fields='atelier Nadar', dc_type='image', dc_creator='Atelier Nadar')\n",
    "    obj.execute()\n",
    "    print(f'number of fetched documents: {len(obj.documents)}')\n",
    "    print(f'total records {obj.total_records}')\n",
    "    print('retry fetching ...')\n",
    "    obj.retry()\n",
    "    print(f'number of fetched documents: {len(obj.documents)}')\n",
    "\n",
    "    df = json_normalize(json.loads(json.dumps(obj.records)))\n",
    "    print('save documents to local')\n",
    "    # list handling becomes a pain of we save as csv\n",
    "    df.to_pickle('raw_df.pkl')"
   ]
  },
  {
   "cell_type": "code",
   "execution_count": 3,
   "metadata": {},
   "outputs": [],
   "source": [
    "df = pd.read_pickle('raw_df.pkl')"
   ]
  },
  {
   "cell_type": "markdown",
   "metadata": {},
   "source": [
    "parse identifier for easier access:"
   ]
  },
  {
   "cell_type": "code",
   "execution_count": 4,
   "metadata": {},
   "outputs": [],
   "source": [
    "image_dataframe = pd.DataFrame(df['dc:identifier']\\\n",
    "                               .map(lambda x: x[0] if type(x) == list else x))\\\n",
    "                               .rename(columns={'dc:identifier':'identifier'})\n",
    "\n",
    "df['id'] = image_dataframe"
   ]
  },
  {
   "cell_type": "code",
   "execution_count": 5,
   "metadata": {},
   "outputs": [
    {
     "data": {
      "text/html": [
       "<div>\n",
       "<style scoped>\n",
       "    .dataframe tbody tr th:only-of-type {\n",
       "        vertical-align: middle;\n",
       "    }\n",
       "\n",
       "    .dataframe tbody tr th {\n",
       "        vertical-align: top;\n",
       "    }\n",
       "\n",
       "    .dataframe thead th {\n",
       "        text-align: right;\n",
       "    }\n",
       "</style>\n",
       "<table border=\"1\" class=\"dataframe\">\n",
       "  <thead>\n",
       "    <tr style=\"text-align: right;\">\n",
       "      <th></th>\n",
       "      <th>dc:creator</th>\n",
       "      <th>dc:date</th>\n",
       "      <th>dc:description</th>\n",
       "      <th>dc:format</th>\n",
       "      <th>dc:identifier</th>\n",
       "      <th>dc:language</th>\n",
       "      <th>dc:publisher</th>\n",
       "      <th>dc:relation</th>\n",
       "      <th>dc:rights</th>\n",
       "      <th>dc:source</th>\n",
       "      <th>dc:subject</th>\n",
       "      <th>dc:title</th>\n",
       "      <th>dc:type</th>\n",
       "      <th>id</th>\n",
       "    </tr>\n",
       "  </thead>\n",
       "  <tbody>\n",
       "    <tr>\n",
       "      <th>0</th>\n",
       "      <td>Atelier Nadar. Photographe</td>\n",
       "      <td>1875-1895</td>\n",
       "      <td>NaN</td>\n",
       "      <td>[1 photogr. pos. sur papier albuminé : d'après...</td>\n",
       "      <td>[https://gallica.bnf.fr/ark:/12148/btv1b531634...</td>\n",
       "      <td>[fre, français]</td>\n",
       "      <td>NaN</td>\n",
       "      <td>[Extrait de : [Album de référence de l'Atelier...</td>\n",
       "      <td>[domaine public, public domain]</td>\n",
       "      <td>Bibliothèque nationale de France, département ...</td>\n",
       "      <td>Portraits du théâtre -- 19e siècle</td>\n",
       "      <td>Holda. Eldorado : [photographie, tirage de dém...</td>\n",
       "      <td>[image fixe, image, still image, photographie,...</td>\n",
       "      <td>https://gallica.bnf.fr/ark:/12148/btv1b53163492h</td>\n",
       "    </tr>\n",
       "    <tr>\n",
       "      <th>1</th>\n",
       "      <td>Atelier Nadar. Photographe</td>\n",
       "      <td>1875-1895</td>\n",
       "      <td>NaN</td>\n",
       "      <td>[1 photogr. pos. sur papier albuminé : d'après...</td>\n",
       "      <td>[https://gallica.bnf.fr/ark:/12148/btv1b531634...</td>\n",
       "      <td>[fre, français]</td>\n",
       "      <td>NaN</td>\n",
       "      <td>[Extrait de : [Album de référence de l'Atelier...</td>\n",
       "      <td>[domaine public, public domain]</td>\n",
       "      <td>Bibliothèque nationale de France, département ...</td>\n",
       "      <td>Portraits du théâtre -- 19e siècle</td>\n",
       "      <td>Supra. Opéra : [photographie, tirage de démons...</td>\n",
       "      <td>[image fixe, image, still image, photographie,...</td>\n",
       "      <td>https://gallica.bnf.fr/ark:/12148/btv1b531634912</td>\n",
       "    </tr>\n",
       "    <tr>\n",
       "      <th>2</th>\n",
       "      <td>Atelier Nadar. Photographe</td>\n",
       "      <td>1875-1895</td>\n",
       "      <td>NaN</td>\n",
       "      <td>[1 photogr. pos. sur papier albuminé : d'après...</td>\n",
       "      <td>[https://gallica.bnf.fr/ark:/12148/btv1b531638...</td>\n",
       "      <td>[fre, français]</td>\n",
       "      <td>NaN</td>\n",
       "      <td>[Extrait de : [Album de référence de l'Atelier...</td>\n",
       "      <td>[domaine public, public domain]</td>\n",
       "      <td>Bibliothèque nationale de France, département ...</td>\n",
       "      <td>Portraits de studio -- 19e siècle</td>\n",
       "      <td>Bébé Ullmann : [photographie, tirage de démons...</td>\n",
       "      <td>[image fixe, image, still image, photographie,...</td>\n",
       "      <td>https://gallica.bnf.fr/ark:/12148/btv1b531638493</td>\n",
       "    </tr>\n",
       "    <tr>\n",
       "      <th>3</th>\n",
       "      <td>Atelier Nadar. Photographe</td>\n",
       "      <td>1875-1895</td>\n",
       "      <td>NaN</td>\n",
       "      <td>[1 photogr. pos. sur papier albuminé : d'après...</td>\n",
       "      <td>[https://gallica.bnf.fr/ark:/12148/btv1b531649...</td>\n",
       "      <td>[fre, français]</td>\n",
       "      <td>NaN</td>\n",
       "      <td>[Extrait de : [Album de référence de l'Atelier...</td>\n",
       "      <td>[domaine public, public domain]</td>\n",
       "      <td>Bibliothèque nationale de France, département ...</td>\n",
       "      <td>Portraits collectifs -- 19e siècle</td>\n",
       "      <td>Groupe de paysannes : [photographie, tirage de...</td>\n",
       "      <td>[image fixe, image, still image, photographie,...</td>\n",
       "      <td>https://gallica.bnf.fr/ark:/12148/btv1b53164917p</td>\n",
       "    </tr>\n",
       "    <tr>\n",
       "      <th>4</th>\n",
       "      <td>Atelier Nadar. Photographe</td>\n",
       "      <td>1875-1895</td>\n",
       "      <td>NaN</td>\n",
       "      <td>[1 photogr. pos. sur papier albuminé : d'après...</td>\n",
       "      <td>[https://gallica.bnf.fr/ark:/12148/btv1b531688...</td>\n",
       "      <td>[fre, français]</td>\n",
       "      <td>NaN</td>\n",
       "      <td>[Extrait de : [Album de référence de l'Atelier...</td>\n",
       "      <td>[domaine public, public domain]</td>\n",
       "      <td>Bibliothèque nationale de France, département ...</td>\n",
       "      <td>Portraits du théâtre -- 19e siècle</td>\n",
       "      <td>Me Debaude : [photographie, tirage de démonstr...</td>\n",
       "      <td>[image fixe, image, still image, photographie,...</td>\n",
       "      <td>https://gallica.bnf.fr/ark:/12148/btv1b531688758</td>\n",
       "    </tr>\n",
       "  </tbody>\n",
       "</table>\n",
       "</div>"
      ],
      "text/plain": [
       "                   dc:creator    dc:date dc:description  \\\n",
       "0  Atelier Nadar. Photographe  1875-1895            NaN   \n",
       "1  Atelier Nadar. Photographe  1875-1895            NaN   \n",
       "2  Atelier Nadar. Photographe  1875-1895            NaN   \n",
       "3  Atelier Nadar. Photographe  1875-1895            NaN   \n",
       "4  Atelier Nadar. Photographe  1875-1895            NaN   \n",
       "\n",
       "                                           dc:format  \\\n",
       "0  [1 photogr. pos. sur papier albuminé : d'après...   \n",
       "1  [1 photogr. pos. sur papier albuminé : d'après...   \n",
       "2  [1 photogr. pos. sur papier albuminé : d'après...   \n",
       "3  [1 photogr. pos. sur papier albuminé : d'après...   \n",
       "4  [1 photogr. pos. sur papier albuminé : d'après...   \n",
       "\n",
       "                                       dc:identifier      dc:language  \\\n",
       "0  [https://gallica.bnf.fr/ark:/12148/btv1b531634...  [fre, français]   \n",
       "1  [https://gallica.bnf.fr/ark:/12148/btv1b531634...  [fre, français]   \n",
       "2  [https://gallica.bnf.fr/ark:/12148/btv1b531638...  [fre, français]   \n",
       "3  [https://gallica.bnf.fr/ark:/12148/btv1b531649...  [fre, français]   \n",
       "4  [https://gallica.bnf.fr/ark:/12148/btv1b531688...  [fre, français]   \n",
       "\n",
       "  dc:publisher                                        dc:relation  \\\n",
       "0          NaN  [Extrait de : [Album de référence de l'Atelier...   \n",
       "1          NaN  [Extrait de : [Album de référence de l'Atelier...   \n",
       "2          NaN  [Extrait de : [Album de référence de l'Atelier...   \n",
       "3          NaN  [Extrait de : [Album de référence de l'Atelier...   \n",
       "4          NaN  [Extrait de : [Album de référence de l'Atelier...   \n",
       "\n",
       "                         dc:rights  \\\n",
       "0  [domaine public, public domain]   \n",
       "1  [domaine public, public domain]   \n",
       "2  [domaine public, public domain]   \n",
       "3  [domaine public, public domain]   \n",
       "4  [domaine public, public domain]   \n",
       "\n",
       "                                           dc:source  \\\n",
       "0  Bibliothèque nationale de France, département ...   \n",
       "1  Bibliothèque nationale de France, département ...   \n",
       "2  Bibliothèque nationale de France, département ...   \n",
       "3  Bibliothèque nationale de France, département ...   \n",
       "4  Bibliothèque nationale de France, département ...   \n",
       "\n",
       "                           dc:subject  \\\n",
       "0  Portraits du théâtre -- 19e siècle   \n",
       "1  Portraits du théâtre -- 19e siècle   \n",
       "2   Portraits de studio -- 19e siècle   \n",
       "3  Portraits collectifs -- 19e siècle   \n",
       "4  Portraits du théâtre -- 19e siècle   \n",
       "\n",
       "                                            dc:title  \\\n",
       "0  Holda. Eldorado : [photographie, tirage de dém...   \n",
       "1  Supra. Opéra : [photographie, tirage de démons...   \n",
       "2  Bébé Ullmann : [photographie, tirage de démons...   \n",
       "3  Groupe de paysannes : [photographie, tirage de...   \n",
       "4  Me Debaude : [photographie, tirage de démonstr...   \n",
       "\n",
       "                                             dc:type  \\\n",
       "0  [image fixe, image, still image, photographie,...   \n",
       "1  [image fixe, image, still image, photographie,...   \n",
       "2  [image fixe, image, still image, photographie,...   \n",
       "3  [image fixe, image, still image, photographie,...   \n",
       "4  [image fixe, image, still image, photographie,...   \n",
       "\n",
       "                                                 id  \n",
       "0  https://gallica.bnf.fr/ark:/12148/btv1b53163492h  \n",
       "1  https://gallica.bnf.fr/ark:/12148/btv1b531634912  \n",
       "2  https://gallica.bnf.fr/ark:/12148/btv1b531638493  \n",
       "3  https://gallica.bnf.fr/ark:/12148/btv1b53164917p  \n",
       "4  https://gallica.bnf.fr/ark:/12148/btv1b531688758  "
      ]
     },
     "execution_count": 5,
     "metadata": {},
     "output_type": "execute_result"
    }
   ],
   "source": [
    "df.head()"
   ]
  },
  {
   "cell_type": "markdown",
   "metadata": {},
   "source": [
    "### useless dataframes"
   ]
  },
  {
   "cell_type": "markdown",
   "metadata": {},
   "source": [
    "remove them for ease of use, next ones contain all the same content"
   ]
  },
  {
   "cell_type": "code",
   "execution_count": 6,
   "metadata": {},
   "outputs": [
    {
     "data": {
      "text/plain": [
       "[domaine public, public domain]    23550\n",
       "Name: dc:rights, dtype: int64"
      ]
     },
     "execution_count": 6,
     "metadata": {},
     "output_type": "execute_result"
    }
   ],
   "source": [
    "df['dc:rights'].value_counts()"
   ]
  },
  {
   "cell_type": "code",
   "execution_count": 7,
   "metadata": {},
   "outputs": [
    {
     "data": {
      "text/plain": [
       "[image fixe, image, still image, photographie, photograph]    23550\n",
       "Name: dc:type, dtype: int64"
      ]
     },
     "execution_count": 7,
     "metadata": {},
     "output_type": "execute_result"
    }
   ],
   "source": [
    "df['dc:type'].value_counts()"
   ]
  },
  {
   "cell_type": "code",
   "execution_count": 8,
   "metadata": {},
   "outputs": [
    {
     "data": {
      "text/plain": [
       "[fre, français]              23545\n",
       "Sans contenu linguistique        5\n",
       "Name: dc:language, dtype: int64"
      ]
     },
     "execution_count": 8,
     "metadata": {},
     "output_type": "execute_result"
    }
   ],
   "source": [
    "df['dc:language'].value_counts()"
   ]
  },
  {
   "cell_type": "code",
   "execution_count": 9,
   "metadata": {},
   "outputs": [
    {
     "data": {
      "text/plain": [
       "0    [1 photogr. pos. sur papier albuminé : d'après...\n",
       "1    [1 photogr. pos. sur papier albuminé : d'après...\n",
       "2    [1 photogr. pos. sur papier albuminé : d'après...\n",
       "3    [1 photogr. pos. sur papier albuminé : d'après...\n",
       "4    [1 photogr. pos. sur papier albuminé : d'après...\n",
       "Name: dc:format, dtype: object"
      ]
     },
     "execution_count": 9,
     "metadata": {},
     "output_type": "execute_result"
    }
   ],
   "source": [
    "df['dc:format'].head()"
   ]
  },
  {
   "cell_type": "code",
   "execution_count": 10,
   "metadata": {},
   "outputs": [
    {
     "data": {
      "text/plain": [
       "0    [https://gallica.bnf.fr/ark:/12148/btv1b531634...\n",
       "1    [https://gallica.bnf.fr/ark:/12148/btv1b531634...\n",
       "2    [https://gallica.bnf.fr/ark:/12148/btv1b531638...\n",
       "3    [https://gallica.bnf.fr/ark:/12148/btv1b531649...\n",
       "4    [https://gallica.bnf.fr/ark:/12148/btv1b531688...\n",
       "Name: dc:identifier, dtype: object"
      ]
     },
     "execution_count": 10,
     "metadata": {},
     "output_type": "execute_result"
    }
   ],
   "source": [
    "df['dc:identifier'].head()"
   ]
  },
  {
   "cell_type": "code",
   "execution_count": 11,
   "metadata": {},
   "outputs": [
    {
     "data": {
      "text/plain": [
       "(Paris)          1\n",
       "Nadar (Paris)    1\n",
       "Name: dc:publisher, dtype: int64"
      ]
     },
     "execution_count": 11,
     "metadata": {},
     "output_type": "execute_result"
    }
   ],
   "source": [
    "df['dc:publisher'].value_counts()"
   ]
  },
  {
   "cell_type": "markdown",
   "metadata": {},
   "source": [
    "### removing them"
   ]
  },
  {
   "cell_type": "code",
   "execution_count": 12,
   "metadata": {},
   "outputs": [],
   "source": [
    "del df['dc:type']\n",
    "del df['dc:language']\n",
    "del df['dc:format']\n",
    "del df['dc:identifier']\n",
    "del df['dc:rights']\n",
    "del df['dc:publisher']"
   ]
  },
  {
   "cell_type": "markdown",
   "metadata": {},
   "source": [
    "# getting information about subjects"
   ]
  },
  {
   "cell_type": "code",
   "execution_count": 13,
   "metadata": {},
   "outputs": [],
   "source": [
    "#some objects are stored as list, others arent, use if else to handle\n",
    "df['subject_is_list'] = df['dc:subject'].map(lambda x: type(x) == list)"
   ]
  },
  {
   "cell_type": "code",
   "execution_count": 14,
   "metadata": {},
   "outputs": [],
   "source": [
    "df['len_list'] = df[df.subject_is_list]['dc:subject'].map(len)"
   ]
  },
  {
   "cell_type": "markdown",
   "metadata": {},
   "source": [
    "length is non uniform ... we will have to unnest"
   ]
  },
  {
   "cell_type": "code",
   "execution_count": 15,
   "metadata": {},
   "outputs": [
    {
     "data": {
      "text/plain": [
       "2.0    12847\n",
       "3.0      748\n",
       "4.0      239\n",
       "5.0      233\n",
       "6.0       10\n",
       "7.0        9\n",
       "Name: len_list, dtype: int64"
      ]
     },
     "execution_count": 15,
     "metadata": {},
     "output_type": "execute_result"
    }
   ],
   "source": [
    "df.len_list.value_counts()"
   ]
  },
  {
   "cell_type": "code",
   "execution_count": 16,
   "metadata": {},
   "outputs": [
    {
     "data": {
      "text/plain": [
       "[Bernhardt, Sarah (1844-1923) -- Portraits, Portraits du théâtre -- 19e siècle]          266\n",
       "[Réjane (1856-1920) -- Portraits, Portraits du théâtre -- 19e siècle]                    118\n",
       "[Théo, Louise (1854-1922) -- Portraits, Portraits du théâtre -- 19e siècle]              110\n",
       "[Simon-Girard, Juliette (1859-1959) -- Portraits, Portraits du théâtre -- 19e siècle]     84\n",
       "[Lantelme, Marie -- Portraits, Portraits du théâtre -- 19e siècle]                        83\n",
       "Name: dc:subject, dtype: int64"
      ]
     },
     "execution_count": 16,
     "metadata": {},
     "output_type": "execute_result"
    }
   ],
   "source": [
    "df[df.subject_is_list]['dc:subject'].map(lambda x: x).value_counts().head()"
   ]
  },
  {
   "cell_type": "markdown",
   "metadata": {},
   "source": [
    "unnest list to get better view"
   ]
  },
  {
   "cell_type": "code",
   "execution_count": 17,
   "metadata": {},
   "outputs": [],
   "source": [
    "to_unnest = df[df.subject_is_list]['dc:subject'].tolist()\n",
    "to_unnest = df[df.subject_is_list][['dc:subject', 'id']].apply(lambda x: (x['dc:subject'], x.id), axis=1).tolist()\n",
    "unnested = [(i, id_) for (list_, id_) in to_unnest for i in list_]"
   ]
  },
  {
   "cell_type": "markdown",
   "metadata": {},
   "source": [
    "we will also need to use the title ..."
   ]
  },
  {
   "cell_type": "code",
   "execution_count": 18,
   "metadata": {},
   "outputs": [
    {
     "data": {
      "text/html": [
       "<div>\n",
       "<style scoped>\n",
       "    .dataframe tbody tr th:only-of-type {\n",
       "        vertical-align: middle;\n",
       "    }\n",
       "\n",
       "    .dataframe tbody tr th {\n",
       "        vertical-align: top;\n",
       "    }\n",
       "\n",
       "    .dataframe thead th {\n",
       "        text-align: right;\n",
       "    }\n",
       "</style>\n",
       "<table border=\"1\" class=\"dataframe\">\n",
       "  <thead>\n",
       "    <tr style=\"text-align: right;\">\n",
       "      <th></th>\n",
       "      <th>dc:subject</th>\n",
       "      <th>id</th>\n",
       "      <th>dc:title</th>\n",
       "    </tr>\n",
       "  </thead>\n",
       "  <tbody>\n",
       "    <tr>\n",
       "      <th>0</th>\n",
       "      <td>Portraits du théâtre -- 19e siècle</td>\n",
       "      <td>https://gallica.bnf.fr/ark:/12148/btv1b53163492h</td>\n",
       "      <td>Holda. Eldorado : [photographie, tirage de dém...</td>\n",
       "    </tr>\n",
       "    <tr>\n",
       "      <th>1</th>\n",
       "      <td>Portraits du théâtre -- 19e siècle</td>\n",
       "      <td>https://gallica.bnf.fr/ark:/12148/btv1b531634912</td>\n",
       "      <td>Supra. Opéra : [photographie, tirage de démons...</td>\n",
       "    </tr>\n",
       "    <tr>\n",
       "      <th>2</th>\n",
       "      <td>Portraits de studio -- 19e siècle</td>\n",
       "      <td>https://gallica.bnf.fr/ark:/12148/btv1b531638493</td>\n",
       "      <td>Bébé Ullmann : [photographie, tirage de démons...</td>\n",
       "    </tr>\n",
       "    <tr>\n",
       "      <th>3</th>\n",
       "      <td>Portraits collectifs -- 19e siècle</td>\n",
       "      <td>https://gallica.bnf.fr/ark:/12148/btv1b53164917p</td>\n",
       "      <td>Groupe de paysannes : [photographie, tirage de...</td>\n",
       "    </tr>\n",
       "    <tr>\n",
       "      <th>4</th>\n",
       "      <td>Portraits du théâtre -- 19e siècle</td>\n",
       "      <td>https://gallica.bnf.fr/ark:/12148/btv1b531688758</td>\n",
       "      <td>Me Debaude : [photographie, tirage de démonstr...</td>\n",
       "    </tr>\n",
       "  </tbody>\n",
       "</table>\n",
       "</div>"
      ],
      "text/plain": [
       "                           dc:subject  \\\n",
       "0  Portraits du théâtre -- 19e siècle   \n",
       "1  Portraits du théâtre -- 19e siècle   \n",
       "2   Portraits de studio -- 19e siècle   \n",
       "3  Portraits collectifs -- 19e siècle   \n",
       "4  Portraits du théâtre -- 19e siècle   \n",
       "\n",
       "                                                 id  \\\n",
       "0  https://gallica.bnf.fr/ark:/12148/btv1b53163492h   \n",
       "1  https://gallica.bnf.fr/ark:/12148/btv1b531634912   \n",
       "2  https://gallica.bnf.fr/ark:/12148/btv1b531638493   \n",
       "3  https://gallica.bnf.fr/ark:/12148/btv1b53164917p   \n",
       "4  https://gallica.bnf.fr/ark:/12148/btv1b531688758   \n",
       "\n",
       "                                            dc:title  \n",
       "0  Holda. Eldorado : [photographie, tirage de dém...  \n",
       "1  Supra. Opéra : [photographie, tirage de démons...  \n",
       "2  Bébé Ullmann : [photographie, tirage de démons...  \n",
       "3  Groupe de paysannes : [photographie, tirage de...  \n",
       "4  Me Debaude : [photographie, tirage de démonstr...  "
      ]
     },
     "execution_count": 18,
     "metadata": {},
     "output_type": "execute_result"
    }
   ],
   "source": [
    "df[~df.subject_is_list][['dc:subject', 'id', 'dc:title']].head()"
   ]
  },
  {
   "cell_type": "code",
   "execution_count": 19,
   "metadata": {},
   "outputs": [],
   "source": [
    "to_append = df[~df.subject_is_list][['dc:subject', 'id']].rename(columns={'dc:subject':'descriptor'})"
   ]
  },
  {
   "cell_type": "code",
   "execution_count": 20,
   "metadata": {},
   "outputs": [
    {
     "data": {
      "text/plain": [
       "30182"
      ]
     },
     "execution_count": 20,
     "metadata": {},
     "output_type": "execute_result"
    }
   ],
   "source": [
    "unnested.__len__()"
   ]
  },
  {
   "cell_type": "code",
   "execution_count": 21,
   "metadata": {},
   "outputs": [],
   "source": [
    "subject_frame = pd.DataFrame(unnested, columns=['descriptor', 'id'])"
   ]
  },
  {
   "cell_type": "code",
   "execution_count": 22,
   "metadata": {},
   "outputs": [],
   "source": [
    "subject_frame = pd.concat([subject_frame, to_append], sort=False)"
   ]
  },
  {
   "cell_type": "code",
   "execution_count": 23,
   "metadata": {},
   "outputs": [
    {
     "data": {
      "text/plain": [
       "descriptor    39646\n",
       "id            39646\n",
       "dtype: int64"
      ]
     },
     "execution_count": 23,
     "metadata": {},
     "output_type": "execute_result"
    }
   ],
   "source": [
    "subject_frame.count()"
   ]
  },
  {
   "cell_type": "markdown",
   "metadata": {},
   "source": [
    "associate each descriptior of one object (given by id)"
   ]
  },
  {
   "cell_type": "code",
   "execution_count": 24,
   "metadata": {},
   "outputs": [
    {
     "data": {
      "text/html": [
       "<div>\n",
       "<style scoped>\n",
       "    .dataframe tbody tr th:only-of-type {\n",
       "        vertical-align: middle;\n",
       "    }\n",
       "\n",
       "    .dataframe tbody tr th {\n",
       "        vertical-align: top;\n",
       "    }\n",
       "\n",
       "    .dataframe thead th {\n",
       "        text-align: right;\n",
       "    }\n",
       "</style>\n",
       "<table border=\"1\" class=\"dataframe\">\n",
       "  <thead>\n",
       "    <tr style=\"text-align: right;\">\n",
       "      <th></th>\n",
       "      <th>descriptor</th>\n",
       "      <th>id</th>\n",
       "    </tr>\n",
       "  </thead>\n",
       "  <tbody>\n",
       "    <tr>\n",
       "      <th>0</th>\n",
       "      <td>Auguez, Mathilde (1868-1955) -- Portraits</td>\n",
       "      <td>https://gallica.bnf.fr/ark:/12148/btv1b53168872x</td>\n",
       "    </tr>\n",
       "    <tr>\n",
       "      <th>1</th>\n",
       "      <td>Portraits de studio -- 19e siècle</td>\n",
       "      <td>https://gallica.bnf.fr/ark:/12148/btv1b53168872x</td>\n",
       "    </tr>\n",
       "    <tr>\n",
       "      <th>2</th>\n",
       "      <td>Auguez, Mathilde (1868-1955) -- Portraits</td>\n",
       "      <td>https://gallica.bnf.fr/ark:/12148/btv1b531688701</td>\n",
       "    </tr>\n",
       "    <tr>\n",
       "      <th>3</th>\n",
       "      <td>Portraits de studio -- 19e siècle</td>\n",
       "      <td>https://gallica.bnf.fr/ark:/12148/btv1b531688701</td>\n",
       "    </tr>\n",
       "    <tr>\n",
       "      <th>4</th>\n",
       "      <td>Bruant, Aristide (1851-1925) -- Portraits</td>\n",
       "      <td>https://gallica.bnf.fr/ark:/12148/btv1b53171770j</td>\n",
       "    </tr>\n",
       "  </tbody>\n",
       "</table>\n",
       "</div>"
      ],
      "text/plain": [
       "                                  descriptor  \\\n",
       "0  Auguez, Mathilde (1868-1955) -- Portraits   \n",
       "1          Portraits de studio -- 19e siècle   \n",
       "2  Auguez, Mathilde (1868-1955) -- Portraits   \n",
       "3          Portraits de studio -- 19e siècle   \n",
       "4  Bruant, Aristide (1851-1925) -- Portraits   \n",
       "\n",
       "                                                 id  \n",
       "0  https://gallica.bnf.fr/ark:/12148/btv1b53168872x  \n",
       "1  https://gallica.bnf.fr/ark:/12148/btv1b53168872x  \n",
       "2  https://gallica.bnf.fr/ark:/12148/btv1b531688701  \n",
       "3  https://gallica.bnf.fr/ark:/12148/btv1b531688701  \n",
       "4  https://gallica.bnf.fr/ark:/12148/btv1b53171770j  "
      ]
     },
     "execution_count": 24,
     "metadata": {},
     "output_type": "execute_result"
    }
   ],
   "source": [
    "subject_frame.head()"
   ]
  },
  {
   "cell_type": "markdown",
   "metadata": {},
   "source": [
    "do some keyword searching"
   ]
  },
  {
   "cell_type": "code",
   "execution_count": 25,
   "metadata": {},
   "outputs": [],
   "source": [
    "subject_frame['19e'] = subject_frame.descriptor.map(lambda x: x[-len('-- 19e siècle'):] == '-- 19e siècle')\n",
    "subject_frame['Portraits'] = subject_frame.descriptor.map(lambda x: 'portraits' in x.lower())"
   ]
  },
  {
   "cell_type": "code",
   "execution_count": 26,
   "metadata": {},
   "outputs": [],
   "source": [
    "is_19e = subject_frame[subject_frame['19e']].id.unique()"
   ]
  },
  {
   "cell_type": "code",
   "execution_count": 27,
   "metadata": {},
   "outputs": [
    {
     "data": {
      "text/plain": [
       "23254"
      ]
     },
     "execution_count": 27,
     "metadata": {},
     "output_type": "execute_result"
    }
   ],
   "source": [
    "subject_frame[subject_frame.Portraits].id.unique().__len__()"
   ]
  },
  {
   "cell_type": "code",
   "execution_count": 28,
   "metadata": {},
   "outputs": [],
   "source": [
    "portrait_ids = subject_frame[subject_frame.Portraits].id.unique()"
   ]
  },
  {
   "cell_type": "markdown",
   "metadata": {},
   "source": [
    "dessin humoristiques & caricatures seams important"
   ]
  },
  {
   "cell_type": "code",
   "execution_count": 29,
   "metadata": {},
   "outputs": [
    {
     "data": {
      "text/html": [
       "<div>\n",
       "<style scoped>\n",
       "    .dataframe tbody tr th:only-of-type {\n",
       "        vertical-align: middle;\n",
       "    }\n",
       "\n",
       "    .dataframe tbody tr th {\n",
       "        vertical-align: top;\n",
       "    }\n",
       "\n",
       "    .dataframe thead th {\n",
       "        text-align: right;\n",
       "    }\n",
       "</style>\n",
       "<table border=\"1\" class=\"dataframe\">\n",
       "  <thead>\n",
       "    <tr style=\"text-align: right;\">\n",
       "      <th></th>\n",
       "      <th>descriptor</th>\n",
       "      <th>id</th>\n",
       "      <th>19e</th>\n",
       "      <th>Portraits</th>\n",
       "    </tr>\n",
       "  </thead>\n",
       "  <tbody>\n",
       "    <tr>\n",
       "      <th>98</th>\n",
       "      <td>Offenbach, Jacques (1819-1880) -- Caricatures ...</td>\n",
       "      <td>https://gallica.bnf.fr/ark:/12148/btv1b53065466g</td>\n",
       "      <td>False</td>\n",
       "      <td>False</td>\n",
       "    </tr>\n",
       "    <tr>\n",
       "      <th>99</th>\n",
       "      <td>Caricatures et dessins humoristiques -- 19e si...</td>\n",
       "      <td>https://gallica.bnf.fr/ark:/12148/btv1b53065466g</td>\n",
       "      <td>True</td>\n",
       "      <td>False</td>\n",
       "    </tr>\n",
       "    <tr>\n",
       "      <th>186</th>\n",
       "      <td>Clairville (1811-1879) -- Caricatures et dessi...</td>\n",
       "      <td>https://gallica.bnf.fr/ark:/12148/btv1b53066427m</td>\n",
       "      <td>False</td>\n",
       "      <td>False</td>\n",
       "    </tr>\n",
       "    <tr>\n",
       "      <th>187</th>\n",
       "      <td>Caricatures et dessins humoristiques -- 19e si...</td>\n",
       "      <td>https://gallica.bnf.fr/ark:/12148/btv1b53066427m</td>\n",
       "      <td>True</td>\n",
       "      <td>False</td>\n",
       "    </tr>\n",
       "    <tr>\n",
       "      <th>194</th>\n",
       "      <td>Crémieux, Adolphe (1796-1880) -- Caricatures e...</td>\n",
       "      <td>https://gallica.bnf.fr/ark:/12148/btv1b53065960p</td>\n",
       "      <td>False</td>\n",
       "      <td>False</td>\n",
       "    </tr>\n",
       "  </tbody>\n",
       "</table>\n",
       "</div>"
      ],
      "text/plain": [
       "                                            descriptor  \\\n",
       "98   Offenbach, Jacques (1819-1880) -- Caricatures ...   \n",
       "99   Caricatures et dessins humoristiques -- 19e si...   \n",
       "186  Clairville (1811-1879) -- Caricatures et dessi...   \n",
       "187  Caricatures et dessins humoristiques -- 19e si...   \n",
       "194  Crémieux, Adolphe (1796-1880) -- Caricatures e...   \n",
       "\n",
       "                                                   id    19e  Portraits  \n",
       "98   https://gallica.bnf.fr/ark:/12148/btv1b53065466g  False      False  \n",
       "99   https://gallica.bnf.fr/ark:/12148/btv1b53065466g   True      False  \n",
       "186  https://gallica.bnf.fr/ark:/12148/btv1b53066427m  False      False  \n",
       "187  https://gallica.bnf.fr/ark:/12148/btv1b53066427m   True      False  \n",
       "194  https://gallica.bnf.fr/ark:/12148/btv1b53065960p  False      False  "
      ]
     },
     "execution_count": 29,
     "metadata": {},
     "output_type": "execute_result"
    }
   ],
   "source": [
    "subject_frame[~subject_frame.id.isin(portrait_ids)].head()"
   ]
  },
  {
   "cell_type": "markdown",
   "metadata": {},
   "source": [
    "we also get sculptures!"
   ]
  },
  {
   "cell_type": "code",
   "execution_count": 30,
   "metadata": {},
   "outputs": [
    {
     "data": {
      "text/plain": [
       "Scènes théâtrales -- 19e siècle                        111\n",
       "Sculpture de figures humaines                           57\n",
       "Grévin, Alfred (1827-1892) -- Oeuvres -- Sculpture      53\n",
       "Beer, Friedrich (1846-1912) -- Oeuvres -- Sculpture     53\n",
       "Caricatures et dessins humoristiques -- 19e siècle      37\n",
       "Name: descriptor, dtype: int64"
      ]
     },
     "execution_count": 30,
     "metadata": {},
     "output_type": "execute_result"
    }
   ],
   "source": [
    "subject_frame[~subject_frame.id.isin(portrait_ids)].descriptor.value_counts().head()"
   ]
  },
  {
   "cell_type": "code",
   "execution_count": 31,
   "metadata": {},
   "outputs": [],
   "source": [
    "subject_frame['caricature'] = subject_frame.descriptor.map(lambda x: 'Caricatures et dessins humoristiques' in x)"
   ]
  },
  {
   "cell_type": "code",
   "execution_count": 32,
   "metadata": {},
   "outputs": [
    {
     "data": {
      "text/plain": [
       "Scènes théâtrales -- 19e siècle                        111\n",
       "Sculpture de figures humaines                           57\n",
       "Grévin, Alfred (1827-1892) -- Oeuvres -- Sculpture      53\n",
       "Beer, Friedrich (1846-1912) -- Oeuvres -- Sculpture     53\n",
       "Vues d'intérieur -- 19e siècle                          21\n",
       "Name: descriptor, dtype: int64"
      ]
     },
     "execution_count": 32,
     "metadata": {},
     "output_type": "execute_result"
    }
   ],
   "source": [
    "subject_frame[~subject_frame.id.isin(portrait_ids) & ~subject_frame.caricature].descriptor.value_counts().head()"
   ]
  },
  {
   "cell_type": "markdown",
   "metadata": {},
   "source": [
    "## Extracting individual names:"
   ]
  },
  {
   "cell_type": "code",
   "execution_count": 33,
   "metadata": {},
   "outputs": [],
   "source": [
    "import re"
   ]
  },
  {
   "cell_type": "code",
   "execution_count": 34,
   "metadata": {},
   "outputs": [],
   "source": [
    "name = \"Grévin, Alfred (1827-1892)\"\n",
    "name_2 = \"Gobin (1982\"\n",
    "name_3 = 'Labounskaya, Marie -- Portraits'"
   ]
  },
  {
   "cell_type": "code",
   "execution_count": 35,
   "metadata": {},
   "outputs": [],
   "source": [
    "def find_names(name):\n",
    "    return re.findall('([\\S]* [\\S]*|[\\S]*|[\\S]*\\, [\\S]*[ \\S*]+) \\([\\d]{2}', name)\n",
    "\n",
    "def find_names_undated(name):\n",
    "    return re.findall('([\\S]*|[\\S]*\\, [\\S]*[ \\S*]+) -- Portraits', name)"
   ]
  },
  {
   "cell_type": "code",
   "execution_count": 36,
   "metadata": {},
   "outputs": [
    {
     "data": {
      "text/plain": [
       "(['Grévin, Alfred'], ['Gobin'], ['Labounskaya, Marie'])"
      ]
     },
     "execution_count": 36,
     "metadata": {},
     "output_type": "execute_result"
    }
   ],
   "source": [
    "find_names(name), find_names(name_2), find_names_undated(name_3)"
   ]
  },
  {
   "cell_type": "code",
   "execution_count": 37,
   "metadata": {},
   "outputs": [],
   "source": [
    "subject_frame['subject_name'] = subject_frame.descriptor.map(find_names)"
   ]
  },
  {
   "cell_type": "code",
   "execution_count": 38,
   "metadata": {},
   "outputs": [],
   "source": [
    "no_name = subject_frame.subject_name.map(len) == 0\n",
    "subject_frame.loc[ no_name, 'subject_name'] = subject_frame[no_name].descriptor.map(find_names_undated)"
   ]
  },
  {
   "cell_type": "code",
   "execution_count": 39,
   "metadata": {},
   "outputs": [],
   "source": [
    "no_name = subject_frame.subject_name.map(len) == 0"
   ]
  },
  {
   "cell_type": "code",
   "execution_count": 40,
   "metadata": {},
   "outputs": [
    {
     "data": {
      "text/plain": [
       "1                        Portraits de studio -- 19e siècle\n",
       "9                       Portraits du théâtre -- 19e siècle\n",
       "24                         Scènes théâtrales -- 19e siècle\n",
       "45                              Cour et courtisans -- Iran\n",
       "48                                 Portraits -- 19e siècle\n",
       "53                                             Violonistes\n",
       "64                                               Cyclistes\n",
       "88                         Ambassadeurs japonais -- France\n",
       "90                          Ambassadeurs chinois -- France\n",
       "99       Caricatures et dessins humoristiques -- 19e si...\n",
       "105                            Autoportraits -- 19e siècle\n",
       "158                                                Ballons\n",
       "182                    Portraits d'intérieur -- 19e siècle\n",
       "244                                 Déguisements (costume)\n",
       "262                                 Dessin -- Reproduction\n",
       "263                         Vues d'intérieur -- 19e siècle\n",
       "292                                                 Géants\n",
       "298                                              Chasseurs\n",
       "465                                                Statues\n",
       "598                                              Danseuses\n",
       "614                                            Trapézistes\n",
       "618                                            Nourrissons\n",
       "936                                                  Chien\n",
       "937               Représentations animalières -- 1870-1913\n",
       "1102                                               Enfants\n",
       "1226                                             Mandoline\n",
       "1230                    Portraits collectifs -- 19e siècle\n",
       "1463                       Ballons -- France -- 19e siècle\n",
       "1464                 Représentations d'objet -- 19e siècle\n",
       "1475                                            Casseroles\n",
       "                               ...                        \n",
       "12813                                                Piano\n",
       "12846                                Autobus -- Au théâtre\n",
       "13004                                      Violoncellistes\n",
       "13233                                   Bustes (sculpture)\n",
       "14027                                                  Âne\n",
       "14571                                                Vigne\n",
       "14673                            Bicyclettes -- Au théâtre\n",
       "14707                                   Indiens d'Amérique\n",
       "15577                                       Paquin (Firme)\n",
       "17801                                  Sang -- Transfusion\n",
       "17802                        Hôpitaux -- Personnel médical\n",
       "18012               Violoncellistes -- Hollande (Pays-Bas)\n",
       "18099                     Ambassadeurs portugais -- France\n",
       "18369                          Diplomates danois -- France\n",
       "18602         Bureaux (pièces) -- France -- Paris (France)\n",
       "18608    Colonisation -- Afrique subsaharienne -- 19e s...\n",
       "18818                    Ateliers d'artistes -- Au théâtre\n",
       "19193                                                Roues\n",
       "19284                                       Minstrel shows\n",
       "22259                                  Actrices travesties\n",
       "23606                          Diplomates russes -- France\n",
       "23660                                 Présidents -- France\n",
       "24027                                    Acteurs travestis\n",
       "24543    Rueil-Malmaison (Hauts-de-Seine) -- Château de...\n",
       "27549                                Maison Doucet (Paris)\n",
       "650                      Portraits équestres -- 19e siècle\n",
       "3671                           Expositions de photographie\n",
       "4871                  Portraits de plein air -- 19e siècle\n",
       "6250                                   Portraits de studio\n",
       "8457                                Paysages -- 19e siècle\n",
       "Name: descriptor, Length: 124, dtype: object"
      ]
     },
     "execution_count": 40,
     "metadata": {},
     "output_type": "execute_result"
    }
   ],
   "source": [
    "subject_frame[no_name]['descriptor'].drop_duplicates()"
   ]
  },
  {
   "cell_type": "code",
   "execution_count": 41,
   "metadata": {},
   "outputs": [],
   "source": [
    "named_subjects = subject_frame[subject_frame.subject_name.map(len) > 0].id.unique()"
   ]
  },
  {
   "cell_type": "markdown",
   "metadata": {},
   "source": [
    "number of images we can find a name to:"
   ]
  },
  {
   "cell_type": "code",
   "execution_count": 42,
   "metadata": {},
   "outputs": [
    {
     "data": {
      "text/plain": [
       "13400"
      ]
     },
     "execution_count": 42,
     "metadata": {},
     "output_type": "execute_result"
    }
   ],
   "source": [
    "len(named_subjects)"
   ]
  },
  {
   "cell_type": "code",
   "execution_count": 43,
   "metadata": {},
   "outputs": [],
   "source": [
    "subject_frame.loc[~no_name, 'named_subject'] = subject_frame[~no_name].subject_name.map(lambda x: x[0])"
   ]
  },
  {
   "cell_type": "code",
   "execution_count": 44,
   "metadata": {},
   "outputs": [
    {
     "data": {
      "text/plain": [
       "Bernhardt, Sarah      424\n",
       "Réjane                168\n",
       "Théo, Louise          148\n",
       "Mily-Meyer, Emilie    136\n",
       "Brasseur, Albert      115\n",
       "Name: named_subject, dtype: int64"
      ]
     },
     "execution_count": 44,
     "metadata": {},
     "output_type": "execute_result"
    }
   ],
   "source": [
    "subject_frame.named_subject.value_counts().head()"
   ]
  },
  {
   "cell_type": "markdown",
   "metadata": {},
   "source": [
    "number of names we have:"
   ]
  },
  {
   "cell_type": "code",
   "execution_count": 45,
   "metadata": {},
   "outputs": [
    {
     "data": {
      "text/plain": [
       "1940"
      ]
     },
     "execution_count": 45,
     "metadata": {},
     "output_type": "execute_result"
    }
   ],
   "source": [
    "subject_frame.named_subject.value_counts().count()"
   ]
  },
  {
   "cell_type": "markdown",
   "metadata": {},
   "source": [
    "how many resources does that correspond to:"
   ]
  },
  {
   "cell_type": "code",
   "execution_count": 46,
   "metadata": {},
   "outputs": [],
   "source": [
    "id_identified = subject_frame[subject_frame.named_subject.notna()].id.unique()"
   ]
  },
  {
   "cell_type": "code",
   "execution_count": 47,
   "metadata": {},
   "outputs": [
    {
     "data": {
      "text/plain": [
       "23550"
      ]
     },
     "execution_count": 47,
     "metadata": {},
     "output_type": "execute_result"
    }
   ],
   "source": [
    "len(set(subject_frame.id.unique())) # nbr unique ids"
   ]
  },
  {
   "cell_type": "markdown",
   "metadata": {},
   "source": [
    "a lot of them don't tell us the name in the source, but it can be found in the title"
   ]
  },
  {
   "cell_type": "code",
   "execution_count": 48,
   "metadata": {},
   "outputs": [
    {
     "data": {
      "text/plain": [
       "10150"
      ]
     },
     "execution_count": 48,
     "metadata": {},
     "output_type": "execute_result"
    }
   ],
   "source": [
    "len(set(subject_frame.id.unique()).difference(set(id_identified)))"
   ]
  },
  {
   "cell_type": "code",
   "execution_count": 49,
   "metadata": {},
   "outputs": [
    {
     "data": {
      "text/plain": [
       "Portraits du théâtre -- 19e siècle    6130\n",
       "Portraits de studio -- 19e siècle     2513\n",
       "Portraits -- 19e siècle               1280\n",
       "Scènes théâtrales -- 19e siècle        212\n",
       "Portraits collectifs -- 19e siècle     208\n",
       "Costumes -- 19e siècle                  79\n",
       "Danseuses                               67\n",
       "Lanvin (Maison de couture)              67\n",
       "Enfants                                 55\n",
       "Tournée Brasseur                        44\n",
       "Name: descriptor, dtype: int64"
      ]
     },
     "execution_count": 49,
     "metadata": {},
     "output_type": "execute_result"
    }
   ],
   "source": [
    "subject_frame[~subject_frame.id.isin(named_subjects)].descriptor.value_counts().head(10)"
   ]
  },
  {
   "cell_type": "code",
   "execution_count": 50,
   "metadata": {},
   "outputs": [
    {
     "data": {
      "text/plain": [
       "Scènes théâtrales -- 19e siècle                     111\n",
       "Représentations d'objet -- 19e siècle                17\n",
       "Représentations animalières -- 19e siècle            12\n",
       "Tableaux vivants et mises en scène -- 19e siècle     10\n",
       "Tournée Brasseur                                      8\n",
       "Name: descriptor, dtype: int64"
      ]
     },
     "execution_count": 50,
     "metadata": {},
     "output_type": "execute_result"
    }
   ],
   "source": [
    "subject_frame[~subject_frame.id.isin(portrait_ids) & ~subject_frame.id.isin(named_subjects)].descriptor.value_counts().head()"
   ]
  },
  {
   "cell_type": "code",
   "execution_count": 51,
   "metadata": {},
   "outputs": [
    {
     "data": {
      "text/html": [
       "<div>\n",
       "<style scoped>\n",
       "    .dataframe tbody tr th:only-of-type {\n",
       "        vertical-align: middle;\n",
       "    }\n",
       "\n",
       "    .dataframe tbody tr th {\n",
       "        vertical-align: top;\n",
       "    }\n",
       "\n",
       "    .dataframe thead th {\n",
       "        text-align: right;\n",
       "    }\n",
       "</style>\n",
       "<table border=\"1\" class=\"dataframe\">\n",
       "  <thead>\n",
       "    <tr style=\"text-align: right;\">\n",
       "      <th></th>\n",
       "      <th>descriptor</th>\n",
       "      <th>id</th>\n",
       "      <th>19e</th>\n",
       "      <th>Portraits</th>\n",
       "      <th>caricature</th>\n",
       "      <th>subject_name</th>\n",
       "      <th>named_subject</th>\n",
       "    </tr>\n",
       "  </thead>\n",
       "  <tbody>\n",
       "    <tr>\n",
       "      <th>98</th>\n",
       "      <td>Offenbach, Jacques (1819-1880) -- Caricatures ...</td>\n",
       "      <td>https://gallica.bnf.fr/ark:/12148/btv1b53065466g</td>\n",
       "      <td>False</td>\n",
       "      <td>False</td>\n",
       "      <td>True</td>\n",
       "      <td>[Offenbach, Jacques]</td>\n",
       "      <td>Offenbach, Jacques</td>\n",
       "    </tr>\n",
       "    <tr>\n",
       "      <th>99</th>\n",
       "      <td>Caricatures et dessins humoristiques -- 19e si...</td>\n",
       "      <td>https://gallica.bnf.fr/ark:/12148/btv1b53065466g</td>\n",
       "      <td>True</td>\n",
       "      <td>False</td>\n",
       "      <td>True</td>\n",
       "      <td>[]</td>\n",
       "      <td>NaN</td>\n",
       "    </tr>\n",
       "    <tr>\n",
       "      <th>186</th>\n",
       "      <td>Clairville (1811-1879) -- Caricatures et dessi...</td>\n",
       "      <td>https://gallica.bnf.fr/ark:/12148/btv1b53066427m</td>\n",
       "      <td>False</td>\n",
       "      <td>False</td>\n",
       "      <td>True</td>\n",
       "      <td>[Clairville]</td>\n",
       "      <td>Clairville</td>\n",
       "    </tr>\n",
       "    <tr>\n",
       "      <th>187</th>\n",
       "      <td>Caricatures et dessins humoristiques -- 19e si...</td>\n",
       "      <td>https://gallica.bnf.fr/ark:/12148/btv1b53066427m</td>\n",
       "      <td>True</td>\n",
       "      <td>False</td>\n",
       "      <td>True</td>\n",
       "      <td>[]</td>\n",
       "      <td>NaN</td>\n",
       "    </tr>\n",
       "    <tr>\n",
       "      <th>194</th>\n",
       "      <td>Crémieux, Adolphe (1796-1880) -- Caricatures e...</td>\n",
       "      <td>https://gallica.bnf.fr/ark:/12148/btv1b53065960p</td>\n",
       "      <td>False</td>\n",
       "      <td>False</td>\n",
       "      <td>True</td>\n",
       "      <td>[Crémieux, Adolphe]</td>\n",
       "      <td>Crémieux, Adolphe</td>\n",
       "    </tr>\n",
       "  </tbody>\n",
       "</table>\n",
       "</div>"
      ],
      "text/plain": [
       "                                            descriptor  \\\n",
       "98   Offenbach, Jacques (1819-1880) -- Caricatures ...   \n",
       "99   Caricatures et dessins humoristiques -- 19e si...   \n",
       "186  Clairville (1811-1879) -- Caricatures et dessi...   \n",
       "187  Caricatures et dessins humoristiques -- 19e si...   \n",
       "194  Crémieux, Adolphe (1796-1880) -- Caricatures e...   \n",
       "\n",
       "                                                   id    19e  Portraits  \\\n",
       "98   https://gallica.bnf.fr/ark:/12148/btv1b53065466g  False      False   \n",
       "99   https://gallica.bnf.fr/ark:/12148/btv1b53065466g   True      False   \n",
       "186  https://gallica.bnf.fr/ark:/12148/btv1b53066427m  False      False   \n",
       "187  https://gallica.bnf.fr/ark:/12148/btv1b53066427m   True      False   \n",
       "194  https://gallica.bnf.fr/ark:/12148/btv1b53065960p  False      False   \n",
       "\n",
       "     caricature          subject_name       named_subject  \n",
       "98         True  [Offenbach, Jacques]  Offenbach, Jacques  \n",
       "99         True                    []                 NaN  \n",
       "186        True          [Clairville]          Clairville  \n",
       "187        True                    []                 NaN  \n",
       "194        True   [Crémieux, Adolphe]   Crémieux, Adolphe  "
      ]
     },
     "execution_count": 51,
     "metadata": {},
     "output_type": "execute_result"
    }
   ],
   "source": [
    "subject_frame[~subject_frame.id.isin(portrait_ids)].head()"
   ]
  },
  {
   "cell_type": "code",
   "execution_count": 52,
   "metadata": {},
   "outputs": [
    {
     "data": {
      "text/plain": [
       "1    23518\n",
       "2       32\n",
       "Name: dc:title, dtype: int64"
      ]
     },
     "execution_count": 52,
     "metadata": {},
     "output_type": "execute_result"
    }
   ],
   "source": [
    "df['dc:title'].map(lambda x: len(x) if type(x) == list else 1).value_counts()"
   ]
  },
  {
   "cell_type": "code",
   "execution_count": 53,
   "metadata": {},
   "outputs": [],
   "source": [
    "df['nbr_title'] = df['dc:title'].map(lambda x: len(x) if type(x) == list else 1)"
   ]
  },
  {
   "cell_type": "code",
   "execution_count": 54,
   "metadata": {},
   "outputs": [
    {
     "data": {
      "text/plain": [
       "['M. Fugère. [(Opéra-Comique). \"Portrait de Manon\"] : [photographie, tirage de démonstration] / [Atelier Nadar]',\n",
       " 'Stella. [Nouveautés. Royaume de femmes] : [photographie, tirage de démonstration] / [Atelier Nadar]',\n",
       " 'Devaux. Folies-Dramatiques. Paris en général : [photographie, tirage de démonstration] / [Atelier Nadar]',\n",
       " 'Febvre, comédien : [photographie, tirage de démonstration] / [Atelier Nadar]',\n",
       " 'M[lle] Parent : [photographie, tirage de démonstration] / [Atelier Nadar]',\n",
       " '[Baretti Marguerite]. Odéon. \"Severo Torelli\" : [photographie, tirage de démonstration] / [Atelier Nadar]',\n",
       " '[Mme Labounskaya. Gaîté. Les bicyclistes en voyage] : [photographie, tirage de démonstration] / [Atelier Nadar]',\n",
       " 'Me Berthet : [photographie, tirage de démonstration] / [Atelier Nadar]',\n",
       " \"Me Auguez. [Variétés. Les variétés de l'année] : [photographie, tirage de démonstration] / [Atelier Nadar]\",\n",
       " 'Mme Nordéa : [photographie, tirage de démonstration] / [Atelier Nadar]']"
      ]
     },
     "execution_count": 54,
     "metadata": {},
     "output_type": "execute_result"
    }
   ],
   "source": [
    "df[df.nbr_title == 1]['dc:title'].sample(10).tolist()"
   ]
  },
  {
   "cell_type": "code",
   "execution_count": 55,
   "metadata": {},
   "outputs": [],
   "source": [
    "def find_names_title(name):\n",
    "    return [x.strip() for x in re.findall('([\\S\\s ^(\\:)]*) \\: ', name) if len(x.strip()) > 0]"
   ]
  },
  {
   "cell_type": "code",
   "execution_count": 56,
   "metadata": {},
   "outputs": [],
   "source": [
    "def extract_from_brackets(name):\n",
    "    return re.findall('\\[([\\w \\-\\,\\.]*)\\]', name)"
   ]
  },
  {
   "cell_type": "code",
   "execution_count": 57,
   "metadata": {},
   "outputs": [],
   "source": [
    "def fix_bad_naming(name):\n",
    "    return re.sub('[\\[\\]]*', '', name)"
   ]
  },
  {
   "cell_type": "code",
   "execution_count": 58,
   "metadata": {},
   "outputs": [],
   "source": [
    "text_1 = 'Huguet. Folies-Dramatiques. La petite fronde : [photographie, tirage de démonstration] / [Atelier Nadar]'"
   ]
  },
  {
   "cell_type": "code",
   "execution_count": 59,
   "metadata": {},
   "outputs": [],
   "source": [
    "text_2 = 'Armand.[lol] Châtelet : [photographie :,'"
   ]
  },
  {
   "cell_type": "code",
   "execution_count": 60,
   "metadata": {},
   "outputs": [
    {
     "data": {
      "text/plain": [
       "'Armand.lol Châtelet : photographie :,'"
      ]
     },
     "execution_count": 60,
     "metadata": {},
     "output_type": "execute_result"
    }
   ],
   "source": [
    "fix_bad_naming(text_2)"
   ]
  },
  {
   "cell_type": "code",
   "execution_count": 61,
   "metadata": {},
   "outputs": [
    {
     "data": {
      "text/plain": [
       "['photographie, tirage de démonstration', 'Atelier Nadar']"
      ]
     },
     "execution_count": 61,
     "metadata": {},
     "output_type": "execute_result"
    }
   ],
   "source": [
    "extract_from_brackets(text_1)"
   ]
  },
  {
   "cell_type": "code",
   "execution_count": 62,
   "metadata": {},
   "outputs": [
    {
     "data": {
      "text/plain": [
       "[photographie, tirage de démonstration, Atelier Nadar]                                           14929\n",
       "[lle, photographie, tirage de démonstration, Atelier Nadar]                                       1008\n",
       "[me, photographie, tirage de démonstration, Atelier Nadar]                                         110\n",
       "[Renaissance. En scène, mesdemoiselles, photographie, tirage de démonstration, Atelier Nadar]       51\n",
       "[i.e. Lantelme, photographie, tirage de démonstration, Atelier Nadar]                               45\n",
       "Name: dc:title, dtype: int64"
      ]
     },
     "execution_count": 62,
     "metadata": {},
     "output_type": "execute_result"
    }
   ],
   "source": [
    "df[df.nbr_title == 1]['dc:title'].map(extract_from_brackets).value_counts().head()"
   ]
  },
  {
   "cell_type": "code",
   "execution_count": 63,
   "metadata": {},
   "outputs": [],
   "source": [
    "df.loc[df.nbr_title == 1, 'first_title'] = df[df.nbr_title == 1]['dc:title'].map(find_names_title)"
   ]
  },
  {
   "cell_type": "code",
   "execution_count": 64,
   "metadata": {},
   "outputs": [
    {
     "data": {
      "text/plain": [
       "1    23517\n",
       "0        1\n",
       "Name: first_title, dtype: int64"
      ]
     },
     "execution_count": 64,
     "metadata": {},
     "output_type": "execute_result"
    }
   ],
   "source": [
    "df.first_title.dropna().map(len).value_counts()"
   ]
  },
  {
   "cell_type": "code",
   "execution_count": 65,
   "metadata": {},
   "outputs": [
    {
     "data": {
      "text/plain": [
       "['[Gabrielle Figuet / [Atelier Nadar]']"
      ]
     },
     "execution_count": 65,
     "metadata": {},
     "output_type": "execute_result"
    }
   ],
   "source": [
    "df[df.first_title.map(lambda x: len(x)==0 if type(x) ==list else False)]['dc:title'].tolist()"
   ]
  },
  {
   "cell_type": "code",
   "execution_count": 66,
   "metadata": {},
   "outputs": [],
   "source": [
    "df.loc[df.first_title.notna(), 'first_title'] = df[\n",
    "    df.first_title.notna()].first_title.map(\n",
    "    lambda x: fix_bad_naming(x[0]) if len(x)>0  else x)#.value_counts()"
   ]
  },
  {
   "cell_type": "code",
   "execution_count": 67,
   "metadata": {},
   "outputs": [
    {
     "data": {
      "text/plain": [
       "dc:creator         23550\n",
       "dc:date            23550\n",
       "dc:description       180\n",
       "dc:relation        23550\n",
       "dc:source          23550\n",
       "dc:subject         23550\n",
       "dc:title           23550\n",
       "id                 23550\n",
       "subject_is_list    23550\n",
       "len_list           14086\n",
       "nbr_title          23550\n",
       "first_title        23518\n",
       "dtype: int64"
      ]
     },
     "execution_count": 67,
     "metadata": {},
     "output_type": "execute_result"
    }
   ],
   "source": [
    "df.count()"
   ]
  },
  {
   "cell_type": "code",
   "execution_count": 68,
   "metadata": {},
   "outputs": [],
   "source": [
    "df = pd.merge(df, subject_frame[['id', 'named_subject']].dropna(), on='id', how='outer')"
   ]
  },
  {
   "cell_type": "code",
   "execution_count": 69,
   "metadata": {},
   "outputs": [
    {
     "data": {
      "text/plain": [
       "dc:creator         24332\n",
       "dc:date            24332\n",
       "dc:description       187\n",
       "dc:relation        24332\n",
       "dc:source          24332\n",
       "dc:subject         24332\n",
       "dc:title           24332\n",
       "id                 24332\n",
       "subject_is_list    24332\n",
       "len_list           14868\n",
       "nbr_title          24332\n",
       "first_title        24300\n",
       "named_subject      14182\n",
       "dtype: int64"
      ]
     },
     "execution_count": 69,
     "metadata": {},
     "output_type": "execute_result"
    }
   ],
   "source": [
    "df.count()"
   ]
  },
  {
   "cell_type": "code",
   "execution_count": 70,
   "metadata": {
    "scrolled": false
   },
   "outputs": [],
   "source": [
    "df.loc[df.first_title.isna() & df['dc:title'].notna(), 'first_title'] = df[    df.first_title.isna( )& df['dc:title'].notna()]['dc:title'].map(lambda x: fix_bad_naming(find_names_title(x[0])[0])).tolist()"
   ]
  },
  {
   "cell_type": "code",
   "execution_count": 71,
   "metadata": {},
   "outputs": [
    {
     "data": {
      "text/html": [
       "<div>\n",
       "<style scoped>\n",
       "    .dataframe tbody tr th:only-of-type {\n",
       "        vertical-align: middle;\n",
       "    }\n",
       "\n",
       "    .dataframe tbody tr th {\n",
       "        vertical-align: top;\n",
       "    }\n",
       "\n",
       "    .dataframe thead th {\n",
       "        text-align: right;\n",
       "    }\n",
       "</style>\n",
       "<table border=\"1\" class=\"dataframe\">\n",
       "  <thead>\n",
       "    <tr style=\"text-align: right;\">\n",
       "      <th></th>\n",
       "      <th>dc:creator</th>\n",
       "      <th>dc:date</th>\n",
       "      <th>dc:description</th>\n",
       "      <th>dc:relation</th>\n",
       "      <th>dc:source</th>\n",
       "      <th>dc:subject</th>\n",
       "      <th>dc:title</th>\n",
       "      <th>id</th>\n",
       "      <th>subject_is_list</th>\n",
       "      <th>len_list</th>\n",
       "      <th>nbr_title</th>\n",
       "      <th>first_title</th>\n",
       "      <th>named_subject</th>\n",
       "    </tr>\n",
       "  </thead>\n",
       "  <tbody>\n",
       "  </tbody>\n",
       "</table>\n",
       "</div>"
      ],
      "text/plain": [
       "Empty DataFrame\n",
       "Columns: [dc:creator, dc:date, dc:description, dc:relation, dc:source, dc:subject, dc:title, id, subject_is_list, len_list, nbr_title, first_title, named_subject]\n",
       "Index: []"
      ]
     },
     "execution_count": 71,
     "metadata": {},
     "output_type": "execute_result"
    }
   ],
   "source": [
    "df[df.first_title.isna()]"
   ]
  },
  {
   "cell_type": "code",
   "execution_count": 72,
   "metadata": {},
   "outputs": [
    {
     "data": {
      "text/plain": [
       "Ghinassi                                                                       48\n",
       "Marie-Thérèse                                                                  35\n",
       "Ambassade japonaise                                                            31\n",
       "Modes Lanvin                                                                   29\n",
       "Gabrielle                                                                      27\n",
       "Marie-Thérèse. Variétés                                                        27\n",
       "Portrait d'une femme                                                           25\n",
       "Portrait d'un homme                                                            25\n",
       "Portrait d'une femme non identifiée                                            23\n",
       "Andrée Dalti                                                                   22\n",
       "Jaeger                                                                         22\n",
       "Me Cernay                                                                      21\n",
       "Loetitia. Châtelet. \"La queue du chat\"                                         20\n",
       "Soukaret. 1er prix de beauté de Spa                                            20\n",
       "Mme Prelly. Folies dramatiques                                                 19\n",
       "Mlle Engalli                                                                   18\n",
       "Modes. Lanvin                                                                  18\n",
       "Potter i.e. Potters                                                            18\n",
       "Laurence                                                                       17\n",
       "Me Rivolta                                                                     17\n",
       "Me Demoreuil                                                                   17\n",
       "Me de Nory                                                                     16\n",
       "Engally. Opéra comique                                                         16\n",
       "Lhéry                                                                          16\n",
       "Mlle Gabrielle                                                                 15\n",
       "Mlle Stuart                                                                    15\n",
       "Beaumaine. Variétés                                                            15\n",
       "Paulette                                                                       15\n",
       "Me de Breuil                                                                   15\n",
       "Rey. Lyrique. Amants de Vérone                                                 14\n",
       "                                                                               ..\n",
       "Lucy Jane et Varenne. Folies Dramatiques i.e. Nouveautés. \"Droit d'aînesse\"     1\n",
       "Mme Méra                                                                        1\n",
       "Fuoco                                                                           1\n",
       "Portait d'une femme non identifiée                                              1\n",
       "Officier de la suite                                                            1\n",
       "Dinelli                                                                         1\n",
       "M. Gauthier-Villars                                                             1\n",
       "Mlle Lydie                                                                      1\n",
       "Mlles Gabrielle Renée et Desprez. (Casino de Paris)                             1\n",
       "Ghinassy i.e. Ghinassi                                                          1\n",
       "Mlle Marcilly                                                                   1\n",
       "Petit favori fils de Sa Majesté le shah de Perse                                1\n",
       "Valette jeune. Porte St-Martin. Macbeth                                         1\n",
       "Chien de M. Febvre                                                              1\n",
       "Me Marlys                                                                       1\n",
       "Groupe. Renaissance. En scène, mesdemoiselles                                   1\n",
       "Aubry. Gaulois                                                                  1\n",
       "Mac Ghan ?                                                                      1\n",
       "Oliva                                                                           1\n",
       "Marcolini aînée. Opéra-Comique. Carmen                                          1\n",
       "De Courcelles                                                                   1\n",
       "Claye, imprimeur                                                                1\n",
       "De Costa                                                                        1\n",
       "Artiste non identifié. Théâtre de la Renaissance.                               1\n",
       "M. Ducousseau                                                                   1\n",
       "Ellen Andrée                                                                    1\n",
       "Général Rotib                                                                   1\n",
       "M. Hervé. Théâtre de l'Odéon                                                    1\n",
       "Bébé Tribout                                                                    1\n",
       "Mlle Dreyfus                                                                    1\n",
       "Name: first_title, Length: 3943, dtype: int64"
      ]
     },
     "execution_count": 72,
     "metadata": {},
     "output_type": "execute_result"
    }
   ],
   "source": [
    "df[df.first_title.notna() & df.named_subject.isna()].first_title.value_counts()"
   ]
  },
  {
   "cell_type": "markdown",
   "metadata": {},
   "source": [
    "## now that we have extracted names for most people, get years lived where available (from subject)"
   ]
  },
  {
   "cell_type": "code",
   "execution_count": 73,
   "metadata": {},
   "outputs": [],
   "source": [
    "def get_years(string):\n",
    "    x = re.findall('\\(([\\d{4}  -]+)\\)', string)\n",
    "    if len(x) == 0:\n",
    "        return None\n",
    "    return x[0]\n",
    "\n",
    "def get_years_special(string):\n",
    "    x = re.findall('\\(([\\d{4}\\d{2}  -\\.\\?]+)[\\S \\;]*\\)', string)\n",
    "    if len(x) == 0:\n",
    "        return None\n",
    "    return x[0]"
   ]
  },
  {
   "cell_type": "code",
   "execution_count": 74,
   "metadata": {},
   "outputs": [],
   "source": [
    "subject_frame['years'] = subject_frame.descriptor.map(get_years) "
   ]
  },
  {
   "cell_type": "code",
   "execution_count": 75,
   "metadata": {},
   "outputs": [
    {
     "data": {
      "text/plain": [
       "'18..-1928'"
      ]
     },
     "execution_count": 75,
     "metadata": {},
     "output_type": "execute_result"
    }
   ],
   "source": [
    "get_years_special('Febvre, Paul (18..-1928)')"
   ]
  },
  {
   "cell_type": "markdown",
   "metadata": {},
   "source": [
    "41 for which we can't find perfect match"
   ]
  },
  {
   "cell_type": "code",
   "execution_count": 76,
   "metadata": {},
   "outputs": [
    {
     "data": {
      "text/plain": [
       "descriptor       3180\n",
       "id               3180\n",
       "19e              3180\n",
       "Portraits        3180\n",
       "caricature       3180\n",
       "subject_name     3180\n",
       "named_subject    3180\n",
       "years               0\n",
       "dtype: int64"
      ]
     },
     "execution_count": 76,
     "metadata": {},
     "output_type": "execute_result"
    }
   ],
   "source": [
    "unmatched = subject_frame.years.isna() & subject_frame.descriptor.map(lambda x: '(1' in x)\n",
    "subject_frame[unmatched].count()"
   ]
  },
  {
   "cell_type": "code",
   "execution_count": 77,
   "metadata": {},
   "outputs": [
    {
     "data": {
      "text/plain": [
       "12              Decroza, Francine (1868-19..) -- Portraits\n",
       "23              Decroza, Francine (1868-19..) -- Portraits\n",
       "26              Decroza, Francine (1868-19..) -- Portraits\n",
       "34               Dauville, Louise (18..-19..) -- Portraits\n",
       "44       Nâser ed-Din (1831-1896 ; shah d'Iran) -- Port...\n",
       "49       Gélabert, Conchita, Marie (1858-19.. ; actrice...\n",
       "55       Nâser ed-Din (1831-1896 ; shah d'Iran) -- Port...\n",
       "67               Armand, Victorin (18..-1896) -- Portraits\n",
       "68                         Bellot (18..-19..) -- Portraits\n",
       "74       Nâser ed-Din (1831-1896 ; shah d'Iran) -- Port...\n",
       "84       Joséphine (1763-1814 ; impératrice des Françai...\n",
       "308                 Kelm, Joseph (1802?-1882) -- Portraits\n",
       "310                 Kelm, Joseph (1802?-1882) -- Portraits\n",
       "312                 Kelm, Joseph (1802?-1882) -- Portraits\n",
       "316                 Kelm, Joseph (1802?-1882) -- Portraits\n",
       "318                 Kelm, Joseph (1802?-1882) -- Portraits\n",
       "333             Bianca (1841?-1912 ; actrice) -- Portraits\n",
       "355      Faivre, Céleste (18..-1... ; actrice) -- Portr...\n",
       "365      Faivre, Céleste (18..-1... ; actrice) -- Portr...\n",
       "431                   Pasca, Alix (1835-19..) -- Portraits\n",
       "455              Angèle (18..-19.. ; actrice) -- Portraits\n",
       "459                     Cornélie (1830?-1876) -- Portraits\n",
       "478      Faivre, Céleste (18..-1... ; actrice) -- Portr...\n",
       "488                     Dieudonné (18..-1903) -- Portraits\n",
       "498               Salla, Caroline (1852-....) -- Portraits\n",
       "512                        Angelo (18..-18..) -- Portraits\n",
       "518              Philipon, Eugène (18..-1874) -- Portraits\n",
       "542                 Sermet, Mario (1857-19..) -- Portraits\n",
       "578                               Febvre, Paul (18..-1928)\n",
       "582                Patry, Pauline (1856-19..) -- Portraits\n",
       "                               ...                        \n",
       "29893            Scipion (18..-19.. ; acteur) -- Portraits\n",
       "29897            Scipion (18..-19.. ; acteur) -- Portraits\n",
       "29949                 Evans, Jane (18..-19..) -- Portraits\n",
       "29951                 Evans, Jane (18..-19..) -- Portraits\n",
       "29953          Hamburger, Edouard (18..-1886) -- Portraits\n",
       "29955              Lamy, François (18..-1903) -- Portraits\n",
       "29968              Elven, Suzanne (18..-1906) -- Portraits\n",
       "29970              Elven, Suzanne (18..-1906) -- Portraits\n",
       "29974            Brunais (18..-19.. ; acteur) -- Portraits\n",
       "29984    Gélabert, Conchita, Marie (1858-19.. ; actrice...\n",
       "29989    Gélabert, Conchita, Marie (1858-19.. ; actrice...\n",
       "30013             Larcher, Eugène (1856-19..) -- Portraits\n",
       "30018             Larcher, Eugène (1856-19..) -- Portraits\n",
       "30032             Larcher, Eugène (1856-19..) -- Portraits\n",
       "30038         Mary-Albert, Madame (1855-....) -- Portraits\n",
       "30041            Scipion (18..-19.. ; acteur) -- Portraits\n",
       "30045         Mary-Albert, Madame (1855-....) -- Portraits\n",
       "30048            Scipion (18..-19.. ; acteur) -- Portraits\n",
       "30080                Aubray, Jane (18..-1...) -- Portraits\n",
       "30109               Mlle Verneuil (1869-19..) -- Portraits\n",
       "30111    Drunzer, Camille-Gabrielle (1873-19..) -- Port...\n",
       "30113    Drunzer, Camille-Gabrielle (1873-19..) -- Port...\n",
       "30115      Dacheux, Paul (18..-19.. ; acteur) -- Portraits\n",
       "30129               Dartaux, Anna (18..-1887) -- Portraits\n",
       "30148                     Ploton (1839?-1910) -- Portraits\n",
       "30152    Montbazon, Marie (18..-19.. ; actrice) -- Port...\n",
       "30160    Baréty, Henriette (18..-19..? ; actrice) -- Po...\n",
       "30162    Baréty, Henriette (18..-19..? ; actrice) -- Po...\n",
       "30164    Baréty, Henriette (18..-19..? ; actrice) -- Po...\n",
       "8294               Luco, François (18..-1882) -- Portraits\n",
       "Name: descriptor, Length: 3180, dtype: object"
      ]
     },
     "execution_count": 77,
     "metadata": {},
     "output_type": "execute_result"
    }
   ],
   "source": [
    "subject_frame[unmatched].descriptor"
   ]
  },
  {
   "cell_type": "code",
   "execution_count": 78,
   "metadata": {},
   "outputs": [],
   "source": [
    "subject_frame.loc[unmatched, 'years'] = subject_frame[unmatched].descriptor.map(get_years_special)"
   ]
  },
  {
   "cell_type": "code",
   "execution_count": 79,
   "metadata": {},
   "outputs": [
    {
     "data": {
      "text/plain": [
       "13053"
      ]
     },
     "execution_count": 79,
     "metadata": {},
     "output_type": "execute_result"
    }
   ],
   "source": [
    "subject_frame[subject_frame.years.notna()].id.unique().__len__()"
   ]
  },
  {
   "cell_type": "code",
   "execution_count": 80,
   "metadata": {},
   "outputs": [],
   "source": [
    "id_years = subject_frame[subject_frame.years.notna()].id.unique()"
   ]
  },
  {
   "cell_type": "code",
   "execution_count": 81,
   "metadata": {},
   "outputs": [],
   "source": [
    "df = pd.merge(df, subject_frame[['id', 'years']].dropna(), on='id', how='outer')"
   ]
  },
  {
   "cell_type": "markdown",
   "metadata": {},
   "source": [
    "we never have more than one named individual ... it seems"
   ]
  },
  {
   "cell_type": "code",
   "execution_count": 82,
   "metadata": {},
   "outputs": [
    {
     "data": {
      "text/plain": [
       "False    26051\n",
       "Name: named_subject, dtype: int64"
      ]
     },
     "execution_count": 82,
     "metadata": {},
     "output_type": "execute_result"
    }
   ],
   "source": [
    "(df.groupby(id).named_subject.count() > 1).value_counts()"
   ]
  },
  {
   "cell_type": "code",
   "execution_count": 83,
   "metadata": {},
   "outputs": [
    {
     "data": {
      "text/html": [
       "<div>\n",
       "<style scoped>\n",
       "    .dataframe tbody tr th:only-of-type {\n",
       "        vertical-align: middle;\n",
       "    }\n",
       "\n",
       "    .dataframe tbody tr th {\n",
       "        vertical-align: top;\n",
       "    }\n",
       "\n",
       "    .dataframe thead th {\n",
       "        text-align: right;\n",
       "    }\n",
       "</style>\n",
       "<table border=\"1\" class=\"dataframe\">\n",
       "  <thead>\n",
       "    <tr style=\"text-align: right;\">\n",
       "      <th></th>\n",
       "      <th>dc:creator</th>\n",
       "      <th>dc:date</th>\n",
       "      <th>dc:description</th>\n",
       "      <th>dc:relation</th>\n",
       "      <th>dc:source</th>\n",
       "      <th>dc:subject</th>\n",
       "      <th>dc:title</th>\n",
       "      <th>id</th>\n",
       "      <th>subject_is_list</th>\n",
       "      <th>len_list</th>\n",
       "      <th>nbr_title</th>\n",
       "      <th>first_title</th>\n",
       "      <th>named_subject</th>\n",
       "      <th>years</th>\n",
       "    </tr>\n",
       "  </thead>\n",
       "  <tbody>\n",
       "    <tr>\n",
       "      <th>0</th>\n",
       "      <td>Atelier Nadar. Photographe</td>\n",
       "      <td>1875-1895</td>\n",
       "      <td>NaN</td>\n",
       "      <td>[Extrait de : [Album de référence de l'Atelier...</td>\n",
       "      <td>Bibliothèque nationale de France, département ...</td>\n",
       "      <td>Portraits du théâtre -- 19e siècle</td>\n",
       "      <td>Holda. Eldorado : [photographie, tirage de dém...</td>\n",
       "      <td>https://gallica.bnf.fr/ark:/12148/btv1b53163492h</td>\n",
       "      <td>False</td>\n",
       "      <td>NaN</td>\n",
       "      <td>1</td>\n",
       "      <td>Holda. Eldorado</td>\n",
       "      <td>NaN</td>\n",
       "      <td>NaN</td>\n",
       "    </tr>\n",
       "    <tr>\n",
       "      <th>1</th>\n",
       "      <td>Atelier Nadar. Photographe</td>\n",
       "      <td>1875-1895</td>\n",
       "      <td>NaN</td>\n",
       "      <td>[Extrait de : [Album de référence de l'Atelier...</td>\n",
       "      <td>Bibliothèque nationale de France, département ...</td>\n",
       "      <td>Portraits du théâtre -- 19e siècle</td>\n",
       "      <td>Supra. Opéra : [photographie, tirage de démons...</td>\n",
       "      <td>https://gallica.bnf.fr/ark:/12148/btv1b531634912</td>\n",
       "      <td>False</td>\n",
       "      <td>NaN</td>\n",
       "      <td>1</td>\n",
       "      <td>Supra. Opéra</td>\n",
       "      <td>NaN</td>\n",
       "      <td>NaN</td>\n",
       "    </tr>\n",
       "    <tr>\n",
       "      <th>2</th>\n",
       "      <td>Atelier Nadar. Photographe</td>\n",
       "      <td>1875-1895</td>\n",
       "      <td>NaN</td>\n",
       "      <td>[Extrait de : [Album de référence de l'Atelier...</td>\n",
       "      <td>Bibliothèque nationale de France, département ...</td>\n",
       "      <td>Portraits de studio -- 19e siècle</td>\n",
       "      <td>Bébé Ullmann : [photographie, tirage de démons...</td>\n",
       "      <td>https://gallica.bnf.fr/ark:/12148/btv1b531638493</td>\n",
       "      <td>False</td>\n",
       "      <td>NaN</td>\n",
       "      <td>1</td>\n",
       "      <td>Bébé Ullmann</td>\n",
       "      <td>NaN</td>\n",
       "      <td>NaN</td>\n",
       "    </tr>\n",
       "    <tr>\n",
       "      <th>3</th>\n",
       "      <td>Atelier Nadar. Photographe</td>\n",
       "      <td>1875-1895</td>\n",
       "      <td>NaN</td>\n",
       "      <td>[Extrait de : [Album de référence de l'Atelier...</td>\n",
       "      <td>Bibliothèque nationale de France, département ...</td>\n",
       "      <td>Portraits collectifs -- 19e siècle</td>\n",
       "      <td>Groupe de paysannes : [photographie, tirage de...</td>\n",
       "      <td>https://gallica.bnf.fr/ark:/12148/btv1b53164917p</td>\n",
       "      <td>False</td>\n",
       "      <td>NaN</td>\n",
       "      <td>1</td>\n",
       "      <td>Groupe de paysannes</td>\n",
       "      <td>NaN</td>\n",
       "      <td>NaN</td>\n",
       "    </tr>\n",
       "    <tr>\n",
       "      <th>4</th>\n",
       "      <td>Atelier Nadar. Photographe</td>\n",
       "      <td>1875-1895</td>\n",
       "      <td>NaN</td>\n",
       "      <td>[Extrait de : [Album de référence de l'Atelier...</td>\n",
       "      <td>Bibliothèque nationale de France, département ...</td>\n",
       "      <td>Portraits du théâtre -- 19e siècle</td>\n",
       "      <td>Me Debaude : [photographie, tirage de démonstr...</td>\n",
       "      <td>https://gallica.bnf.fr/ark:/12148/btv1b531688758</td>\n",
       "      <td>False</td>\n",
       "      <td>NaN</td>\n",
       "      <td>1</td>\n",
       "      <td>Me Debaude</td>\n",
       "      <td>NaN</td>\n",
       "      <td>NaN</td>\n",
       "    </tr>\n",
       "    <tr>\n",
       "      <th>5</th>\n",
       "      <td>Atelier Nadar. Photographe</td>\n",
       "      <td>1875-1895</td>\n",
       "      <td>NaN</td>\n",
       "      <td>[Extrait de : [Album de référence de l'Atelier...</td>\n",
       "      <td>Bibliothèque nationale de France, département ...</td>\n",
       "      <td>Portraits du théâtre -- 19e siècle</td>\n",
       "      <td>Me Debaude : [photographie, tirage de démonstr...</td>\n",
       "      <td>https://gallica.bnf.fr/ark:/12148/btv1b53168876q</td>\n",
       "      <td>False</td>\n",
       "      <td>NaN</td>\n",
       "      <td>1</td>\n",
       "      <td>Me Debaude</td>\n",
       "      <td>NaN</td>\n",
       "      <td>NaN</td>\n",
       "    </tr>\n",
       "    <tr>\n",
       "      <th>6</th>\n",
       "      <td>Atelier Nadar. Photographe</td>\n",
       "      <td>1875-1895</td>\n",
       "      <td>NaN</td>\n",
       "      <td>[Extrait de : [Album de référence de l'Atelier...</td>\n",
       "      <td>Bibliothèque nationale de France, département ...</td>\n",
       "      <td>Portraits du théâtre -- 19e siècle</td>\n",
       "      <td>Me Nau. (Théâtre libre) : [photographie, tirag...</td>\n",
       "      <td>https://gallica.bnf.fr/ark:/12148/btv1b531651477</td>\n",
       "      <td>False</td>\n",
       "      <td>NaN</td>\n",
       "      <td>1</td>\n",
       "      <td>Me Nau. (Théâtre libre)</td>\n",
       "      <td>NaN</td>\n",
       "      <td>NaN</td>\n",
       "    </tr>\n",
       "    <tr>\n",
       "      <th>7</th>\n",
       "      <td>Atelier Nadar. Photographe</td>\n",
       "      <td>1875-1895</td>\n",
       "      <td>NaN</td>\n",
       "      <td>[Extrait de : [Album de référence de l'Atelier...</td>\n",
       "      <td>Bibliothèque nationale de France, département ...</td>\n",
       "      <td>[Auguez, Mathilde (1868-1955) -- Portraits, Po...</td>\n",
       "      <td>[Me Auguez] : [photographie, tirage de démonst...</td>\n",
       "      <td>https://gallica.bnf.fr/ark:/12148/btv1b53168872x</td>\n",
       "      <td>True</td>\n",
       "      <td>2.0</td>\n",
       "      <td>1</td>\n",
       "      <td>Me Auguez</td>\n",
       "      <td>Auguez, Mathilde</td>\n",
       "      <td>1868-1955</td>\n",
       "    </tr>\n",
       "    <tr>\n",
       "      <th>8</th>\n",
       "      <td>Atelier Nadar. Photographe</td>\n",
       "      <td>1875-1895</td>\n",
       "      <td>NaN</td>\n",
       "      <td>[Extrait de : [Album de référence de l'Atelier...</td>\n",
       "      <td>Bibliothèque nationale de France, département ...</td>\n",
       "      <td>[Auguez, Mathilde (1868-1955) -- Portraits, Po...</td>\n",
       "      <td>[Me Auguez] : [photographie, tirage de démonst...</td>\n",
       "      <td>https://gallica.bnf.fr/ark:/12148/btv1b531688701</td>\n",
       "      <td>True</td>\n",
       "      <td>2.0</td>\n",
       "      <td>1</td>\n",
       "      <td>Me Auguez</td>\n",
       "      <td>Auguez, Mathilde</td>\n",
       "      <td>1868-1955</td>\n",
       "    </tr>\n",
       "    <tr>\n",
       "      <th>9</th>\n",
       "      <td>Atelier Nadar. Photographe</td>\n",
       "      <td>1875-1895</td>\n",
       "      <td>NaN</td>\n",
       "      <td>[Extrait de : [Album de référence de l'Atelier...</td>\n",
       "      <td>Bibliothèque nationale de France, département ...</td>\n",
       "      <td>[Bruant, Aristide (1851-1925) -- Portraits, Po...</td>\n",
       "      <td>M. Bruant : [photographie, tirage de démonstra...</td>\n",
       "      <td>https://gallica.bnf.fr/ark:/12148/btv1b53171770j</td>\n",
       "      <td>True</td>\n",
       "      <td>2.0</td>\n",
       "      <td>1</td>\n",
       "      <td>M. Bruant</td>\n",
       "      <td>Bruant, Aristide</td>\n",
       "      <td>1851-1925</td>\n",
       "    </tr>\n",
       "    <tr>\n",
       "      <th>10</th>\n",
       "      <td>Atelier Nadar. Photographe</td>\n",
       "      <td>1875-1895</td>\n",
       "      <td>NaN</td>\n",
       "      <td>[Extrait de : [Album de référence de l'Atelier...</td>\n",
       "      <td>Bibliothèque nationale de France, département ...</td>\n",
       "      <td>[Auguez, Mathilde (1868-1955) -- Portraits, Po...</td>\n",
       "      <td>Me Auguez : [photographie, tirage de démonstra...</td>\n",
       "      <td>https://gallica.bnf.fr/ark:/12148/btv1b53168873c</td>\n",
       "      <td>True</td>\n",
       "      <td>2.0</td>\n",
       "      <td>1</td>\n",
       "      <td>Me Auguez</td>\n",
       "      <td>Auguez, Mathilde</td>\n",
       "      <td>1868-1955</td>\n",
       "    </tr>\n",
       "    <tr>\n",
       "      <th>11</th>\n",
       "      <td>Atelier Nadar. Photographe</td>\n",
       "      <td>1875-1895</td>\n",
       "      <td>NaN</td>\n",
       "      <td>[Extrait de : [Album de référence de l'Atelier...</td>\n",
       "      <td>Bibliothèque nationale de France, département ...</td>\n",
       "      <td>Portraits du théâtre -- 19e siècle</td>\n",
       "      <td>Me Delorne. Opéra-Comique. Carmen : [photograp...</td>\n",
       "      <td>https://gallica.bnf.fr/ark:/12148/btv1b531709271</td>\n",
       "      <td>False</td>\n",
       "      <td>NaN</td>\n",
       "      <td>1</td>\n",
       "      <td>Me Delorne. Opéra-Comique. Carmen</td>\n",
       "      <td>NaN</td>\n",
       "      <td>NaN</td>\n",
       "    </tr>\n",
       "    <tr>\n",
       "      <th>12</th>\n",
       "      <td>Atelier Nadar. Photographe</td>\n",
       "      <td>1890</td>\n",
       "      <td>NaN</td>\n",
       "      <td>[Extrait de : [Album de référence de l'Atelier...</td>\n",
       "      <td>Bibliothèque nationale de France, département ...</td>\n",
       "      <td>Portraits du théâtre -- 19e siècle</td>\n",
       "      <td>Me Maury. [Gaîté. Le petit Poucet] : [photogra...</td>\n",
       "      <td>https://gallica.bnf.fr/ark:/12148/btv1b53164915s</td>\n",
       "      <td>False</td>\n",
       "      <td>NaN</td>\n",
       "      <td>1</td>\n",
       "      <td>Me Maury. Gaîté. Le petit Poucet</td>\n",
       "      <td>NaN</td>\n",
       "      <td>NaN</td>\n",
       "    </tr>\n",
       "    <tr>\n",
       "      <th>13</th>\n",
       "      <td>Atelier Nadar. Photographe</td>\n",
       "      <td>1875-1895</td>\n",
       "      <td>NaN</td>\n",
       "      <td>[Extrait de : [Album de référence de l'Atelier...</td>\n",
       "      <td>Bibliothèque nationale de France, département ...</td>\n",
       "      <td>[Brasseur, Albert (1862-1932) -- Portraits, Po...</td>\n",
       "      <td>M. A. Brasseur : [photographie, tirage de démo...</td>\n",
       "      <td>https://gallica.bnf.fr/ark:/12148/btv1b531651494</td>\n",
       "      <td>True</td>\n",
       "      <td>2.0</td>\n",
       "      <td>1</td>\n",
       "      <td>M. A. Brasseur</td>\n",
       "      <td>Brasseur, Albert</td>\n",
       "      <td>1862-1932</td>\n",
       "    </tr>\n",
       "    <tr>\n",
       "      <th>14</th>\n",
       "      <td>Atelier Nadar. Photographe</td>\n",
       "      <td>1875-1895</td>\n",
       "      <td>NaN</td>\n",
       "      <td>[Extrait de : [Album de référence de l'Atelier...</td>\n",
       "      <td>Bibliothèque nationale de France, département ...</td>\n",
       "      <td>[Auguez, Mathilde (1868-1955) -- Portraits, Po...</td>\n",
       "      <td>Me Auguez. (Opéra-Comique) : [photographie, ti...</td>\n",
       "      <td>https://gallica.bnf.fr/ark:/12148/btv1b53168871g</td>\n",
       "      <td>True</td>\n",
       "      <td>2.0</td>\n",
       "      <td>1</td>\n",
       "      <td>Me Auguez. (Opéra-Comique)</td>\n",
       "      <td>Auguez, Mathilde</td>\n",
       "      <td>1868-1955</td>\n",
       "    </tr>\n",
       "    <tr>\n",
       "      <th>15</th>\n",
       "      <td>Atelier Nadar. Photographe</td>\n",
       "      <td>1875-1895</td>\n",
       "      <td>NaN</td>\n",
       "      <td>[Extrait de : [Album de référence de l'Atelier...</td>\n",
       "      <td>Bibliothèque nationale de France, département ...</td>\n",
       "      <td>Portraits de studio -- 19e siècle</td>\n",
       "      <td>Bébé Gérard : [photographie, tirage de démonst...</td>\n",
       "      <td>https://gallica.bnf.fr/ark:/12148/btv1b531638476</td>\n",
       "      <td>False</td>\n",
       "      <td>NaN</td>\n",
       "      <td>1</td>\n",
       "      <td>Bébé Gérard</td>\n",
       "      <td>NaN</td>\n",
       "      <td>NaN</td>\n",
       "    </tr>\n",
       "    <tr>\n",
       "      <th>16</th>\n",
       "      <td>Atelier Nadar. Photographe</td>\n",
       "      <td>1875-1895</td>\n",
       "      <td>NaN</td>\n",
       "      <td>[Extrait de : [Album de référence de l'Atelier...</td>\n",
       "      <td>Bibliothèque nationale de France, département ...</td>\n",
       "      <td>Portraits du théâtre -- 19e siècle</td>\n",
       "      <td>[Me Genel] : [photographie, tirage de démonstr...</td>\n",
       "      <td>https://gallica.bnf.fr/ark:/12148/btv1b53165144w</td>\n",
       "      <td>False</td>\n",
       "      <td>NaN</td>\n",
       "      <td>1</td>\n",
       "      <td>Me Genel</td>\n",
       "      <td>NaN</td>\n",
       "      <td>NaN</td>\n",
       "    </tr>\n",
       "    <tr>\n",
       "      <th>17</th>\n",
       "      <td>Atelier Nadar. Photographe</td>\n",
       "      <td>1890</td>\n",
       "      <td>NaN</td>\n",
       "      <td>[Extrait de : [Album de référence de l'Atelier...</td>\n",
       "      <td>Bibliothèque nationale de France, département ...</td>\n",
       "      <td>Scènes théâtrales -- 19e siècle</td>\n",
       "      <td>Mlle Mignot et [Mlle Lata]. Gaîté. Le petit Po...</td>\n",
       "      <td>https://gallica.bnf.fr/ark:/12148/btv1b531649167</td>\n",
       "      <td>False</td>\n",
       "      <td>NaN</td>\n",
       "      <td>1</td>\n",
       "      <td>Mlle Mignot et Mlle Lata. Gaîté. Le petit Poucet</td>\n",
       "      <td>NaN</td>\n",
       "      <td>NaN</td>\n",
       "    </tr>\n",
       "    <tr>\n",
       "      <th>18</th>\n",
       "      <td>Atelier Nadar. Photographe</td>\n",
       "      <td>1875-1895</td>\n",
       "      <td>NaN</td>\n",
       "      <td>[Extrait de : [Album de référence de l'Atelier...</td>\n",
       "      <td>Bibliothèque nationale de France, département ...</td>\n",
       "      <td>Portraits du théâtre -- 19e siècle</td>\n",
       "      <td>Me Demoreuil : [photographie, tirage de démons...</td>\n",
       "      <td>https://gallica.bnf.fr/ark:/12148/btv1b53163719g</td>\n",
       "      <td>False</td>\n",
       "      <td>NaN</td>\n",
       "      <td>1</td>\n",
       "      <td>Me Demoreuil</td>\n",
       "      <td>NaN</td>\n",
       "      <td>NaN</td>\n",
       "    </tr>\n",
       "    <tr>\n",
       "      <th>19</th>\n",
       "      <td>Atelier Nadar. Photographe</td>\n",
       "      <td>1890</td>\n",
       "      <td>NaN</td>\n",
       "      <td>[Extrait de : [Album de référence de l'Atelier...</td>\n",
       "      <td>Bibliothèque nationale de France, département ...</td>\n",
       "      <td>[Decroza, Francine (1868-19..) -- Portraits, P...</td>\n",
       "      <td>Me Decroza. [Renaissance. En scène, mesdemoise...</td>\n",
       "      <td>https://gallica.bnf.fr/ark:/12148/btv1b53163717k</td>\n",
       "      <td>True</td>\n",
       "      <td>2.0</td>\n",
       "      <td>1</td>\n",
       "      <td>Me Decroza. Renaissance. En scène, mesdemoiselles</td>\n",
       "      <td>Decroza, Francine</td>\n",
       "      <td>1868-19..</td>\n",
       "    </tr>\n",
       "    <tr>\n",
       "      <th>20</th>\n",
       "      <td>Atelier Nadar. Photographe</td>\n",
       "      <td>1875-1895</td>\n",
       "      <td>NaN</td>\n",
       "      <td>[Extrait de : [Album de référence de l'Atelier...</td>\n",
       "      <td>Bibliothèque nationale de France, département ...</td>\n",
       "      <td>Portraits du théâtre -- 19e siècle</td>\n",
       "      <td>[Me Nau. (Théâtre libre)] : [photographie, tir...</td>\n",
       "      <td>https://gallica.bnf.fr/ark:/12148/btv1b53165148p</td>\n",
       "      <td>False</td>\n",
       "      <td>NaN</td>\n",
       "      <td>1</td>\n",
       "      <td>Me Nau. (Théâtre libre)</td>\n",
       "      <td>NaN</td>\n",
       "      <td>NaN</td>\n",
       "    </tr>\n",
       "    <tr>\n",
       "      <th>21</th>\n",
       "      <td>Atelier Nadar. Photographe</td>\n",
       "      <td>1890</td>\n",
       "      <td>NaN</td>\n",
       "      <td>[Extrait de : [Album de référence de l'Atelier...</td>\n",
       "      <td>Bibliothèque nationale de France, département ...</td>\n",
       "      <td>Portraits du théâtre -- 19e siècle</td>\n",
       "      <td>Me Em. Georges [i.e. Emma George. Renaissance....</td>\n",
       "      <td>https://gallica.bnf.fr/ark:/12148/btv1b53163712b</td>\n",
       "      <td>False</td>\n",
       "      <td>NaN</td>\n",
       "      <td>1</td>\n",
       "      <td>Me Em. Georges i.e. Emma George. Renaissance. ...</td>\n",
       "      <td>NaN</td>\n",
       "      <td>NaN</td>\n",
       "    </tr>\n",
       "    <tr>\n",
       "      <th>22</th>\n",
       "      <td>Atelier Nadar. Photographe</td>\n",
       "      <td>1875-1895</td>\n",
       "      <td>NaN</td>\n",
       "      <td>[Extrait de : [Album de référence de l'Atelier...</td>\n",
       "      <td>Bibliothèque nationale de France, département ...</td>\n",
       "      <td>[Auguez, Mathilde (1868-1955) -- Portraits, Po...</td>\n",
       "      <td>Me Auguez : [photographie, tirage de démonstra...</td>\n",
       "      <td>https://gallica.bnf.fr/ark:/12148/btv1b53168874t</td>\n",
       "      <td>True</td>\n",
       "      <td>2.0</td>\n",
       "      <td>1</td>\n",
       "      <td>Me Auguez</td>\n",
       "      <td>Auguez, Mathilde</td>\n",
       "      <td>1868-1955</td>\n",
       "    </tr>\n",
       "    <tr>\n",
       "      <th>23</th>\n",
       "      <td>Atelier Nadar. Photographe</td>\n",
       "      <td>1875-1895</td>\n",
       "      <td>NaN</td>\n",
       "      <td>[Extrait de : [Album de référence de l'Atelier...</td>\n",
       "      <td>Bibliothèque nationale de France, département ...</td>\n",
       "      <td>Portraits du théâtre -- 19e siècle</td>\n",
       "      <td>[Me Delorne. Opéra-Comique. Carmen] : [photogr...</td>\n",
       "      <td>https://gallica.bnf.fr/ark:/12148/btv1b53170928g</td>\n",
       "      <td>False</td>\n",
       "      <td>NaN</td>\n",
       "      <td>1</td>\n",
       "      <td>Me Delorne. Opéra-Comique. Carmen</td>\n",
       "      <td>NaN</td>\n",
       "      <td>NaN</td>\n",
       "    </tr>\n",
       "    <tr>\n",
       "      <th>24</th>\n",
       "      <td>Atelier Nadar. Photographe</td>\n",
       "      <td>1891</td>\n",
       "      <td>NaN</td>\n",
       "      <td>[Extrait de : [Album de référence de l'Atelier...</td>\n",
       "      <td>Bibliothèque nationale de France, département ...</td>\n",
       "      <td>Portraits collectifs -- 19e siècle</td>\n",
       "      <td>[Groupe. Folies-Dramatiques]. Juanita : [photo...</td>\n",
       "      <td>https://gallica.bnf.fr/ark:/12148/btv1b53165011x</td>\n",
       "      <td>False</td>\n",
       "      <td>NaN</td>\n",
       "      <td>1</td>\n",
       "      <td>Groupe. Folies-Dramatiques. Juanita</td>\n",
       "      <td>NaN</td>\n",
       "      <td>NaN</td>\n",
       "    </tr>\n",
       "    <tr>\n",
       "      <th>25</th>\n",
       "      <td>Atelier Nadar. Photographe</td>\n",
       "      <td>1890</td>\n",
       "      <td>NaN</td>\n",
       "      <td>[Extrait de : [Album de référence de l'Atelier...</td>\n",
       "      <td>Bibliothèque nationale de France, département ...</td>\n",
       "      <td>Scènes théâtrales -- 19e siècle</td>\n",
       "      <td>Me Maury et Mr Bienfait. (Gaîté). \"Le petit Po...</td>\n",
       "      <td>https://gallica.bnf.fr/ark:/12148/btv1b53164914b</td>\n",
       "      <td>False</td>\n",
       "      <td>NaN</td>\n",
       "      <td>1</td>\n",
       "      <td>Me Maury et Mr Bienfait. (Gaîté). \"Le petit Po...</td>\n",
       "      <td>NaN</td>\n",
       "      <td>NaN</td>\n",
       "    </tr>\n",
       "    <tr>\n",
       "      <th>26</th>\n",
       "      <td>Atelier Nadar. Photographe</td>\n",
       "      <td>1891</td>\n",
       "      <td>NaN</td>\n",
       "      <td>[Extrait de : [Album de référence de l'Atelier...</td>\n",
       "      <td>Bibliothèque nationale de France, département ...</td>\n",
       "      <td>Portraits du théâtre -- 19e siècle</td>\n",
       "      <td>Me Coste. [Folies-Dramatiques. Juanita] : [pho...</td>\n",
       "      <td>https://gallica.bnf.fr/ark:/12148/btv1b531650182</td>\n",
       "      <td>False</td>\n",
       "      <td>NaN</td>\n",
       "      <td>1</td>\n",
       "      <td>Me Coste. Folies-Dramatiques. Juanita</td>\n",
       "      <td>NaN</td>\n",
       "      <td>NaN</td>\n",
       "    </tr>\n",
       "    <tr>\n",
       "      <th>27</th>\n",
       "      <td>Atelier Nadar. Photographe</td>\n",
       "      <td>1891</td>\n",
       "      <td>NaN</td>\n",
       "      <td>[Extrait de : [Album de référence de l'Atelier...</td>\n",
       "      <td>Bibliothèque nationale de France, département ...</td>\n",
       "      <td>Portraits du théâtre -- 19e siècle</td>\n",
       "      <td>Me Villiers. [Folies-Dramatiques. Juanita] : [...</td>\n",
       "      <td>https://gallica.bnf.fr/ark:/12148/btv1b531650165</td>\n",
       "      <td>False</td>\n",
       "      <td>NaN</td>\n",
       "      <td>1</td>\n",
       "      <td>Me Villiers. Folies-Dramatiques. Juanita</td>\n",
       "      <td>NaN</td>\n",
       "      <td>NaN</td>\n",
       "    </tr>\n",
       "    <tr>\n",
       "      <th>28</th>\n",
       "      <td>Atelier Nadar. Photographe</td>\n",
       "      <td>1875-1895</td>\n",
       "      <td>NaN</td>\n",
       "      <td>[Extrait de : [Album de référence de l'Atelier...</td>\n",
       "      <td>Bibliothèque nationale de France, département ...</td>\n",
       "      <td>Portraits du théâtre -- 19e siècle</td>\n",
       "      <td>Me Demoreuil : [photographie, tirage de démons...</td>\n",
       "      <td>https://gallica.bnf.fr/ark:/12148/btv1b531637181</td>\n",
       "      <td>False</td>\n",
       "      <td>NaN</td>\n",
       "      <td>1</td>\n",
       "      <td>Me Demoreuil</td>\n",
       "      <td>NaN</td>\n",
       "      <td>NaN</td>\n",
       "    </tr>\n",
       "    <tr>\n",
       "      <th>29</th>\n",
       "      <td>Atelier Nadar. Photographe</td>\n",
       "      <td>1875-1895</td>\n",
       "      <td>NaN</td>\n",
       "      <td>[Extrait de : [Album de référence de l'Atelier...</td>\n",
       "      <td>Bibliothèque nationale de France, département ...</td>\n",
       "      <td>Portraits du théâtre -- 19e siècle</td>\n",
       "      <td>Me Genel : [photographie, tirage de démonstrat...</td>\n",
       "      <td>https://gallica.bnf.fr/ark:/12148/btv1b53165143f</td>\n",
       "      <td>False</td>\n",
       "      <td>NaN</td>\n",
       "      <td>1</td>\n",
       "      <td>Me Genel</td>\n",
       "      <td>NaN</td>\n",
       "      <td>NaN</td>\n",
       "    </tr>\n",
       "    <tr>\n",
       "      <th>...</th>\n",
       "      <td>...</td>\n",
       "      <td>...</td>\n",
       "      <td>...</td>\n",
       "      <td>...</td>\n",
       "      <td>...</td>\n",
       "      <td>...</td>\n",
       "      <td>...</td>\n",
       "      <td>...</td>\n",
       "      <td>...</td>\n",
       "      <td>...</td>\n",
       "      <td>...</td>\n",
       "      <td>...</td>\n",
       "      <td>...</td>\n",
       "      <td>...</td>\n",
       "    </tr>\n",
       "    <tr>\n",
       "      <th>26021</th>\n",
       "      <td>Atelier Nadar. Photographe</td>\n",
       "      <td>1877</td>\n",
       "      <td>NaN</td>\n",
       "      <td>[Extrait de : [Album de référence de l'Atelier...</td>\n",
       "      <td>Bibliothèque nationale de France, département ...</td>\n",
       "      <td>Portraits du théâtre -- 19e siècle</td>\n",
       "      <td>M. Habey. Châtelet. \"Voyage dans la Lune\" : [p...</td>\n",
       "      <td>https://gallica.bnf.fr/ark:/12148/btv1b53080295d</td>\n",
       "      <td>False</td>\n",
       "      <td>NaN</td>\n",
       "      <td>1</td>\n",
       "      <td>M. Habey. Châtelet. \"Voyage dans la Lune\"</td>\n",
       "      <td>NaN</td>\n",
       "      <td>NaN</td>\n",
       "    </tr>\n",
       "    <tr>\n",
       "      <th>26022</th>\n",
       "      <td>Atelier Nadar. Photographe</td>\n",
       "      <td>1875-1895</td>\n",
       "      <td>NaN</td>\n",
       "      <td>[Extrait de : [Album de référence de l'Atelier...</td>\n",
       "      <td>Bibliothèque nationale de France, département ...</td>\n",
       "      <td>Portraits du théâtre -- 19e siècle</td>\n",
       "      <td>Me Morsans. [République. Pierre Vaux] : [photo...</td>\n",
       "      <td>https://gallica.bnf.fr/ark:/12148/btv1b531878387</td>\n",
       "      <td>False</td>\n",
       "      <td>NaN</td>\n",
       "      <td>1</td>\n",
       "      <td>Me Morsans. République. Pierre Vaux</td>\n",
       "      <td>NaN</td>\n",
       "      <td>NaN</td>\n",
       "    </tr>\n",
       "    <tr>\n",
       "      <th>26023</th>\n",
       "      <td>Atelier Nadar. Photographe</td>\n",
       "      <td>1876</td>\n",
       "      <td>NaN</td>\n",
       "      <td>[Extrait de : [Album de référence de l'Atelier...</td>\n",
       "      <td>Bibliothèque nationale de France, département ...</td>\n",
       "      <td>Portraits du théâtre -- 19e siècle</td>\n",
       "      <td>[Mlle Engalli. Lyrique. \"Paul et Virginie\"] : ...</td>\n",
       "      <td>https://gallica.bnf.fr/ark:/12148/btv1b531271160</td>\n",
       "      <td>False</td>\n",
       "      <td>NaN</td>\n",
       "      <td>1</td>\n",
       "      <td>Mlle Engalli. Lyrique. \"Paul et Virginie\"</td>\n",
       "      <td>NaN</td>\n",
       "      <td>NaN</td>\n",
       "    </tr>\n",
       "    <tr>\n",
       "      <th>26024</th>\n",
       "      <td>Atelier Nadar. Photographe</td>\n",
       "      <td>1876</td>\n",
       "      <td>NaN</td>\n",
       "      <td>[Extrait de : [Album de référence de l'Atelier...</td>\n",
       "      <td>Bibliothèque nationale de France, département ...</td>\n",
       "      <td>[Febvre, Frédéric (1833-1916) -- Portraits, Po...</td>\n",
       "      <td>Febvre. \"L'ami Fritz\" : [photographie, tirage ...</td>\n",
       "      <td>https://gallica.bnf.fr/ark:/12148/btv1b531289131</td>\n",
       "      <td>True</td>\n",
       "      <td>2.0</td>\n",
       "      <td>1</td>\n",
       "      <td>Febvre. \"L'ami Fritz\"</td>\n",
       "      <td>Febvre, Frédéric</td>\n",
       "      <td>1833-1916</td>\n",
       "    </tr>\n",
       "    <tr>\n",
       "      <th>26025</th>\n",
       "      <td>Atelier Nadar. Photographe</td>\n",
       "      <td>1879</td>\n",
       "      <td>NaN</td>\n",
       "      <td>[Extrait de : [Album de référence de l'Atelier...</td>\n",
       "      <td>Bibliothèque nationale de France, département ...</td>\n",
       "      <td>[Delessart, Louis (1840-1883) -- Portraits, Po...</td>\n",
       "      <td>Delessart. [Ambigu. \"Assommoir\"] : [photograph...</td>\n",
       "      <td>https://gallica.bnf.fr/ark:/12148/btv1b531270496</td>\n",
       "      <td>True</td>\n",
       "      <td>2.0</td>\n",
       "      <td>1</td>\n",
       "      <td>Delessart. Ambigu. \"Assommoir\"</td>\n",
       "      <td>Delessart, Louis</td>\n",
       "      <td>1840-1883</td>\n",
       "    </tr>\n",
       "    <tr>\n",
       "      <th>26026</th>\n",
       "      <td>Atelier Nadar. Photographe</td>\n",
       "      <td>1880</td>\n",
       "      <td>NaN</td>\n",
       "      <td>[Extrait de : [Album de référence de l'Atelier...</td>\n",
       "      <td>Bibliothèque nationale de France, département ...</td>\n",
       "      <td>[Portraits collectifs -- 19e siècle, Portraits...</td>\n",
       "      <td>[Groupe. Bouffes. \"Mascotte\"] : [photographie,...</td>\n",
       "      <td>https://gallica.bnf.fr/ark:/12148/btv1b531312422</td>\n",
       "      <td>True</td>\n",
       "      <td>2.0</td>\n",
       "      <td>1</td>\n",
       "      <td>Groupe. Bouffes. \"Mascotte\"</td>\n",
       "      <td>NaN</td>\n",
       "      <td>NaN</td>\n",
       "    </tr>\n",
       "    <tr>\n",
       "      <th>26027</th>\n",
       "      <td>Atelier Nadar. Photographe</td>\n",
       "      <td>1884</td>\n",
       "      <td>NaN</td>\n",
       "      <td>[Extrait de : [Album de référence de l'Atelier...</td>\n",
       "      <td>Bibliothèque nationale de France, département ...</td>\n",
       "      <td>[Heilbronn, Marie (1851-1886) -- Portraits, Po...</td>\n",
       "      <td>[Heilbronn]. Opéra comique. \"Manon\" : [photogr...</td>\n",
       "      <td>https://gallica.bnf.fr/ark:/12148/btv1b53131358j</td>\n",
       "      <td>True</td>\n",
       "      <td>2.0</td>\n",
       "      <td>1</td>\n",
       "      <td>Heilbronn. Opéra comique. \"Manon\"</td>\n",
       "      <td>Heilbronn, Marie</td>\n",
       "      <td>1851-1886</td>\n",
       "    </tr>\n",
       "    <tr>\n",
       "      <th>26028</th>\n",
       "      <td>Atelier Nadar. Photographe</td>\n",
       "      <td>1880</td>\n",
       "      <td>NaN</td>\n",
       "      <td>[Extrait de : [Album de référence de l'Atelier...</td>\n",
       "      <td>Bibliothèque nationale de France, département ...</td>\n",
       "      <td>[Portraits collectifs -- 19e siècle, Portraits...</td>\n",
       "      <td>[Groupe. Bouffes. \"Mascotte\"] : [photographie,...</td>\n",
       "      <td>https://gallica.bnf.fr/ark:/12148/btv1b53131239s</td>\n",
       "      <td>True</td>\n",
       "      <td>2.0</td>\n",
       "      <td>1</td>\n",
       "      <td>Groupe. Bouffes. \"Mascotte\"</td>\n",
       "      <td>NaN</td>\n",
       "      <td>NaN</td>\n",
       "    </tr>\n",
       "    <tr>\n",
       "      <th>26029</th>\n",
       "      <td>Atelier Nadar. Photographe</td>\n",
       "      <td>1880</td>\n",
       "      <td>NaN</td>\n",
       "      <td>[Extrait de : [Album de référence de l'Atelier...</td>\n",
       "      <td>Bibliothèque nationale de France, département ...</td>\n",
       "      <td>[Portraits collectifs -- 19e siècle, Portraits...</td>\n",
       "      <td>Groupe. Bouffes. \"Mascotte\" : [photographie, t...</td>\n",
       "      <td>https://gallica.bnf.fr/ark:/12148/btv1b531312405</td>\n",
       "      <td>True</td>\n",
       "      <td>2.0</td>\n",
       "      <td>1</td>\n",
       "      <td>Groupe. Bouffes. \"Mascotte\"</td>\n",
       "      <td>NaN</td>\n",
       "      <td>NaN</td>\n",
       "    </tr>\n",
       "    <tr>\n",
       "      <th>26030</th>\n",
       "      <td>Atelier Nadar. Photographe</td>\n",
       "      <td>1878</td>\n",
       "      <td>NaN</td>\n",
       "      <td>[Extrait de : [Album de référence de l'Atelier...</td>\n",
       "      <td>Bibliothèque nationale de France, département ...</td>\n",
       "      <td>[Krauss, Maria Gabriele (1842-1906) -- Portrai...</td>\n",
       "      <td>Krauss. Polyeucte : [photographie, tirage de d...</td>\n",
       "      <td>https://gallica.bnf.fr/ark:/12148/btv1b53132919z</td>\n",
       "      <td>True</td>\n",
       "      <td>2.0</td>\n",
       "      <td>1</td>\n",
       "      <td>Krauss. Polyeucte</td>\n",
       "      <td>Krauss, Maria Gabriele</td>\n",
       "      <td>1842-1906</td>\n",
       "    </tr>\n",
       "    <tr>\n",
       "      <th>26031</th>\n",
       "      <td>Atelier Nadar. Photographe</td>\n",
       "      <td>1870-1890</td>\n",
       "      <td>NaN</td>\n",
       "      <td>[Extrait de : [Album de référence de l'Atelier...</td>\n",
       "      <td>Bibliothèque nationale de France, département ...</td>\n",
       "      <td>[Leriche, Augustine (1860-1938) -- Portraits, ...</td>\n",
       "      <td>Leriche et Pluton [i.e. Ploton] : [photographi...</td>\n",
       "      <td>https://gallica.bnf.fr/ark:/12148/btv1b53133233s</td>\n",
       "      <td>True</td>\n",
       "      <td>5.0</td>\n",
       "      <td>1</td>\n",
       "      <td>Leriche et Pluton i.e. Ploton</td>\n",
       "      <td>Leriche, Augustine</td>\n",
       "      <td>1860-1938</td>\n",
       "    </tr>\n",
       "    <tr>\n",
       "      <th>26032</th>\n",
       "      <td>Atelier Nadar. Photographe</td>\n",
       "      <td>1870-1890</td>\n",
       "      <td>NaN</td>\n",
       "      <td>[Extrait de : [Album de référence de l'Atelier...</td>\n",
       "      <td>Bibliothèque nationale de France, département ...</td>\n",
       "      <td>[Leriche, Augustine (1860-1938) -- Portraits, ...</td>\n",
       "      <td>Leriche et Pluton [i.e. Ploton] : [photographi...</td>\n",
       "      <td>https://gallica.bnf.fr/ark:/12148/btv1b53133233s</td>\n",
       "      <td>True</td>\n",
       "      <td>5.0</td>\n",
       "      <td>1</td>\n",
       "      <td>Leriche et Pluton i.e. Ploton</td>\n",
       "      <td>Leriche, Augustine</td>\n",
       "      <td>1839?-1910</td>\n",
       "    </tr>\n",
       "    <tr>\n",
       "      <th>26033</th>\n",
       "      <td>Atelier Nadar. Photographe</td>\n",
       "      <td>1870-1890</td>\n",
       "      <td>NaN</td>\n",
       "      <td>[Extrait de : [Album de référence de l'Atelier...</td>\n",
       "      <td>Bibliothèque nationale de France, département ...</td>\n",
       "      <td>[Leriche, Augustine (1860-1938) -- Portraits, ...</td>\n",
       "      <td>Leriche et Pluton [i.e. Ploton] : [photographi...</td>\n",
       "      <td>https://gallica.bnf.fr/ark:/12148/btv1b53133233s</td>\n",
       "      <td>True</td>\n",
       "      <td>5.0</td>\n",
       "      <td>1</td>\n",
       "      <td>Leriche et Pluton i.e. Ploton</td>\n",
       "      <td>Ploton</td>\n",
       "      <td>1860-1938</td>\n",
       "    </tr>\n",
       "    <tr>\n",
       "      <th>26034</th>\n",
       "      <td>Atelier Nadar. Photographe</td>\n",
       "      <td>1870-1890</td>\n",
       "      <td>NaN</td>\n",
       "      <td>[Extrait de : [Album de référence de l'Atelier...</td>\n",
       "      <td>Bibliothèque nationale de France, département ...</td>\n",
       "      <td>[Leriche, Augustine (1860-1938) -- Portraits, ...</td>\n",
       "      <td>Leriche et Pluton [i.e. Ploton] : [photographi...</td>\n",
       "      <td>https://gallica.bnf.fr/ark:/12148/btv1b53133233s</td>\n",
       "      <td>True</td>\n",
       "      <td>5.0</td>\n",
       "      <td>1</td>\n",
       "      <td>Leriche et Pluton i.e. Ploton</td>\n",
       "      <td>Ploton</td>\n",
       "      <td>1839?-1910</td>\n",
       "    </tr>\n",
       "    <tr>\n",
       "      <th>26035</th>\n",
       "      <td>Atelier Nadar. Photographe</td>\n",
       "      <td>1880</td>\n",
       "      <td>NaN</td>\n",
       "      <td>[Extrait de : [Album de référence de l'Atelier...</td>\n",
       "      <td>Bibliothèque nationale de France, département ...</td>\n",
       "      <td>[Montbazon, Marie (18..-19.. ; actrice) -- Por...</td>\n",
       "      <td>[Montbazon. Bouffes]. \"Mascotte\" : [photograph...</td>\n",
       "      <td>https://gallica.bnf.fr/ark:/12148/btv1b531343680</td>\n",
       "      <td>True</td>\n",
       "      <td>2.0</td>\n",
       "      <td>1</td>\n",
       "      <td>Montbazon. Bouffes. \"Mascotte\"</td>\n",
       "      <td>Montbazon, Marie</td>\n",
       "      <td>18..-19..</td>\n",
       "    </tr>\n",
       "    <tr>\n",
       "      <th>26036</th>\n",
       "      <td>Atelier Nadar. Photographe</td>\n",
       "      <td>1900-1916</td>\n",
       "      <td>NaN</td>\n",
       "      <td>[Extrait de : [Album de référence de l'Atelier...</td>\n",
       "      <td>Bibliothèque nationale de France, département ...</td>\n",
       "      <td>[Delarue-Mardrus, Lucie (1874-1945) -- Portrai...</td>\n",
       "      <td>Mme Mardrus. Ecrivain : [photographie, tirage ...</td>\n",
       "      <td>https://gallica.bnf.fr/ark:/12148/btv1b53120407r</td>\n",
       "      <td>True</td>\n",
       "      <td>2.0</td>\n",
       "      <td>1</td>\n",
       "      <td>Mme Mardrus. Ecrivain</td>\n",
       "      <td>Delarue-Mardrus, Lucie</td>\n",
       "      <td>1874-1945</td>\n",
       "    </tr>\n",
       "    <tr>\n",
       "      <th>26037</th>\n",
       "      <td>Atelier Nadar. Photographe</td>\n",
       "      <td>1900</td>\n",
       "      <td>NaN</td>\n",
       "      <td>[Extrait de : [Album de référence de l'Atelier...</td>\n",
       "      <td>Bibliothèque nationale de France, département ...</td>\n",
       "      <td>[Blache, René Henri (1839-1908) -- Portraits, ...</td>\n",
       "      <td>Docteur Blache. Médecin : [photographie, tirag...</td>\n",
       "      <td>https://gallica.bnf.fr/ark:/12148/btv1b53123938c</td>\n",
       "      <td>True</td>\n",
       "      <td>2.0</td>\n",
       "      <td>1</td>\n",
       "      <td>Docteur Blache. Médecin</td>\n",
       "      <td>Blache, René Henri</td>\n",
       "      <td>1839-1908</td>\n",
       "    </tr>\n",
       "    <tr>\n",
       "      <th>26038</th>\n",
       "      <td>Atelier Nadar. Photographe</td>\n",
       "      <td>1900</td>\n",
       "      <td>NaN</td>\n",
       "      <td>[Extrait de : [Album de référence de l'Atelier...</td>\n",
       "      <td>Bibliothèque nationale de France, département ...</td>\n",
       "      <td>[Blache, René Henri (1839-1908) -- Portraits, ...</td>\n",
       "      <td>Docteur Blache. Médecin : [photographie, tirag...</td>\n",
       "      <td>https://gallica.bnf.fr/ark:/12148/btv1b53123939t</td>\n",
       "      <td>True</td>\n",
       "      <td>2.0</td>\n",
       "      <td>1</td>\n",
       "      <td>Docteur Blache. Médecin</td>\n",
       "      <td>Blache, René Henri</td>\n",
       "      <td>1839-1908</td>\n",
       "    </tr>\n",
       "    <tr>\n",
       "      <th>26039</th>\n",
       "      <td>Atelier Nadar. Photographe</td>\n",
       "      <td>1900</td>\n",
       "      <td>NaN</td>\n",
       "      <td>[Extrait de : [Album de référence de l'Atelier...</td>\n",
       "      <td>Bibliothèque nationale de France, département ...</td>\n",
       "      <td>[Baréty, Henriette (18..-19..? ; actrice) -- P...</td>\n",
       "      <td>Baretti Henriette. Variétés : [photographie, t...</td>\n",
       "      <td>https://gallica.bnf.fr/ark:/12148/btv1b531249969</td>\n",
       "      <td>True</td>\n",
       "      <td>2.0</td>\n",
       "      <td>1</td>\n",
       "      <td>Baretti Henriette. Variétés</td>\n",
       "      <td>Baréty, Henriette</td>\n",
       "      <td>18..-19..?</td>\n",
       "    </tr>\n",
       "    <tr>\n",
       "      <th>26040</th>\n",
       "      <td>Atelier Nadar. Photographe</td>\n",
       "      <td>1900</td>\n",
       "      <td>NaN</td>\n",
       "      <td>[Extrait de : [Album de référence de l'Atelier...</td>\n",
       "      <td>Bibliothèque nationale de France, département ...</td>\n",
       "      <td>[Baréty, Henriette (18..-19..? ; actrice) -- P...</td>\n",
       "      <td>Baretti Henriette. Variétés : [photographie, t...</td>\n",
       "      <td>https://gallica.bnf.fr/ark:/12148/btv1b53124997r</td>\n",
       "      <td>True</td>\n",
       "      <td>2.0</td>\n",
       "      <td>1</td>\n",
       "      <td>Baretti Henriette. Variétés</td>\n",
       "      <td>Baréty, Henriette</td>\n",
       "      <td>18..-19..?</td>\n",
       "    </tr>\n",
       "    <tr>\n",
       "      <th>26041</th>\n",
       "      <td>Atelier Nadar. Photographe</td>\n",
       "      <td>1900</td>\n",
       "      <td>NaN</td>\n",
       "      <td>[Extrait de : [Album de référence de l'Atelier...</td>\n",
       "      <td>Bibliothèque nationale de France, département ...</td>\n",
       "      <td>[Baréty, Henriette (18..-19..? ; actrice) -- P...</td>\n",
       "      <td>[Baretti Henriette. Variétés] : [photographie,...</td>\n",
       "      <td>https://gallica.bnf.fr/ark:/12148/btv1b531249986</td>\n",
       "      <td>True</td>\n",
       "      <td>2.0</td>\n",
       "      <td>1</td>\n",
       "      <td>Baretti Henriette. Variétés</td>\n",
       "      <td>Baréty, Henriette</td>\n",
       "      <td>18..-19..?</td>\n",
       "    </tr>\n",
       "    <tr>\n",
       "      <th>26042</th>\n",
       "      <td>Atelier Nadar. Photographe</td>\n",
       "      <td>1900</td>\n",
       "      <td>NaN</td>\n",
       "      <td>[Extrait de : [Album de référence de l'Atelier...</td>\n",
       "      <td>Bibliothèque nationale de France, département ...</td>\n",
       "      <td>[Callias, Horace de (1847-1924) -- Portraits, ...</td>\n",
       "      <td>De Callias. Peintre : [photographie, tirage de...</td>\n",
       "      <td>https://gallica.bnf.fr/ark:/12148/btv1b53126679c</td>\n",
       "      <td>True</td>\n",
       "      <td>2.0</td>\n",
       "      <td>1</td>\n",
       "      <td>De Callias. Peintre</td>\n",
       "      <td>Callias, Horace de</td>\n",
       "      <td>1847-1924</td>\n",
       "    </tr>\n",
       "    <tr>\n",
       "      <th>26043</th>\n",
       "      <td>Atelier Nadar. Photographe</td>\n",
       "      <td>1900</td>\n",
       "      <td>NaN</td>\n",
       "      <td>[Extrait de : [Album de référence de l'Atelier...</td>\n",
       "      <td>Bibliothèque nationale de France, département ...</td>\n",
       "      <td>[Callias, Horace de (1847-1924) -- Portraits, ...</td>\n",
       "      <td>De Callias. Peintre : [photographie, tirage de...</td>\n",
       "      <td>https://gallica.bnf.fr/ark:/12148/btv1b53126680r</td>\n",
       "      <td>True</td>\n",
       "      <td>2.0</td>\n",
       "      <td>1</td>\n",
       "      <td>De Callias. Peintre</td>\n",
       "      <td>Callias, Horace de</td>\n",
       "      <td>1847-1924</td>\n",
       "    </tr>\n",
       "    <tr>\n",
       "      <th>26044</th>\n",
       "      <td>Atelier Nadar. Photographe</td>\n",
       "      <td>1870-1890</td>\n",
       "      <td>NaN</td>\n",
       "      <td>[Extrait de : [Album de référence de l'Atelier...</td>\n",
       "      <td>Bibliothèque nationale de France, département ...</td>\n",
       "      <td>[Feyghine (1863-1882) -- Portraits, Portraits ...</td>\n",
       "      <td>Feighine [i.e. Feyghine] : [photographie, tira...</td>\n",
       "      <td>https://gallica.bnf.fr/ark:/12148/btv1b53128825z</td>\n",
       "      <td>True</td>\n",
       "      <td>2.0</td>\n",
       "      <td>1</td>\n",
       "      <td>Feighine i.e. Feyghine</td>\n",
       "      <td>Feyghine</td>\n",
       "      <td>1863-1882</td>\n",
       "    </tr>\n",
       "    <tr>\n",
       "      <th>26045</th>\n",
       "      <td>Atelier Nadar. Photographe</td>\n",
       "      <td>1879</td>\n",
       "      <td>NaN</td>\n",
       "      <td>[Extrait de : [Album de référence de l'Atelier...</td>\n",
       "      <td>Bibliothèque nationale de France, département ...</td>\n",
       "      <td>[Desclauzas, Marie (1840-1912) -- Portraits, P...</td>\n",
       "      <td>[Desclauzas]. \"Rendez-vous bourgeois\" : [photo...</td>\n",
       "      <td>https://gallica.bnf.fr/ark:/12148/btv1b53126794b</td>\n",
       "      <td>True</td>\n",
       "      <td>2.0</td>\n",
       "      <td>1</td>\n",
       "      <td>Desclauzas. \"Rendez-vous bourgeois\"</td>\n",
       "      <td>Desclauzas, Marie</td>\n",
       "      <td>1840-1912</td>\n",
       "    </tr>\n",
       "    <tr>\n",
       "      <th>26046</th>\n",
       "      <td>Atelier Nadar. Photographe</td>\n",
       "      <td>1870-1890</td>\n",
       "      <td>NaN</td>\n",
       "      <td>[Extrait de : [Album de référence de l'Atelier...</td>\n",
       "      <td>Bibliothèque nationale de France, département ...</td>\n",
       "      <td>Portraits de studio -- 19e siècle</td>\n",
       "      <td>[Gireaud. Chemin de fer de l'Est] : [photograp...</td>\n",
       "      <td>https://gallica.bnf.fr/ark:/12148/btv1b53129253c</td>\n",
       "      <td>False</td>\n",
       "      <td>NaN</td>\n",
       "      <td>1</td>\n",
       "      <td>Gireaud. Chemin de fer de l'Est</td>\n",
       "      <td>NaN</td>\n",
       "      <td>NaN</td>\n",
       "    </tr>\n",
       "    <tr>\n",
       "      <th>26047</th>\n",
       "      <td>Atelier Nadar. Photographe</td>\n",
       "      <td>1870-1890</td>\n",
       "      <td>NaN</td>\n",
       "      <td>[Extrait de : [Album de référence de l'Atelier...</td>\n",
       "      <td>Bibliothèque nationale de France, département ...</td>\n",
       "      <td>[Feyghine (1863-1882) -- Portraits, Portraits ...</td>\n",
       "      <td>Feighine [i.e. Feyghine] : [photographie, tira...</td>\n",
       "      <td>https://gallica.bnf.fr/ark:/12148/btv1b53128819b</td>\n",
       "      <td>True</td>\n",
       "      <td>2.0</td>\n",
       "      <td>1</td>\n",
       "      <td>Feighine i.e. Feyghine</td>\n",
       "      <td>Feyghine</td>\n",
       "      <td>1863-1882</td>\n",
       "    </tr>\n",
       "    <tr>\n",
       "      <th>26048</th>\n",
       "      <td>Atelier Nadar. Photographe</td>\n",
       "      <td>1870-1890</td>\n",
       "      <td>NaN</td>\n",
       "      <td>[Extrait de : [Album de référence de l'Atelier...</td>\n",
       "      <td>Bibliothèque nationale de France, département ...</td>\n",
       "      <td>[Barretta, Blanche (1856-1939) -- Portraits, P...</td>\n",
       "      <td>Fayolles [i.e. Baretta] : [photographie, tirag...</td>\n",
       "      <td>https://gallica.bnf.fr/ark:/12148/btv1b53128890m</td>\n",
       "      <td>True</td>\n",
       "      <td>2.0</td>\n",
       "      <td>1</td>\n",
       "      <td>Fayolles i.e. Baretta</td>\n",
       "      <td>Barretta, Blanche</td>\n",
       "      <td>1856-1939</td>\n",
       "    </tr>\n",
       "    <tr>\n",
       "      <th>26049</th>\n",
       "      <td>Atelier Nadar. Photographe</td>\n",
       "      <td>1900</td>\n",
       "      <td>NaN</td>\n",
       "      <td>[Extrait de : [Album de référence de l'Atelier...</td>\n",
       "      <td>Bibliothèque nationale de France, département ...</td>\n",
       "      <td>[Daubray (1837-1892) -- Portraits, Portraits d...</td>\n",
       "      <td>Daubray. [Bouffes. \"Petite Muette\"] : [photogr...</td>\n",
       "      <td>https://gallica.bnf.fr/ark:/12148/btv1b53127034j</td>\n",
       "      <td>True</td>\n",
       "      <td>2.0</td>\n",
       "      <td>1</td>\n",
       "      <td>Daubray. Bouffes. \"Petite Muette\"</td>\n",
       "      <td>Daubray</td>\n",
       "      <td>1837-1892</td>\n",
       "    </tr>\n",
       "    <tr>\n",
       "      <th>26050</th>\n",
       "      <td>Atelier Nadar. Photographe</td>\n",
       "      <td>1870-1890</td>\n",
       "      <td>NaN</td>\n",
       "      <td>[Extrait de : [Album de référence de l'Atelier...</td>\n",
       "      <td>Bibliothèque nationale de France, département ...</td>\n",
       "      <td>[Simon-Girard, Juliette (1859-1959) -- Portrai...</td>\n",
       "      <td>Girard. Folies-Dramatiques : [photographie, ti...</td>\n",
       "      <td>https://gallica.bnf.fr/ark:/12148/btv1b53129021g</td>\n",
       "      <td>True</td>\n",
       "      <td>2.0</td>\n",
       "      <td>1</td>\n",
       "      <td>Girard. Folies-Dramatiques</td>\n",
       "      <td>Simon-Girard, Juliette</td>\n",
       "      <td>1859-1959</td>\n",
       "    </tr>\n",
       "  </tbody>\n",
       "</table>\n",
       "<p>26051 rows × 14 columns</p>\n",
       "</div>"
      ],
      "text/plain": [
       "                       dc:creator    dc:date dc:description  \\\n",
       "0      Atelier Nadar. Photographe  1875-1895            NaN   \n",
       "1      Atelier Nadar. Photographe  1875-1895            NaN   \n",
       "2      Atelier Nadar. Photographe  1875-1895            NaN   \n",
       "3      Atelier Nadar. Photographe  1875-1895            NaN   \n",
       "4      Atelier Nadar. Photographe  1875-1895            NaN   \n",
       "5      Atelier Nadar. Photographe  1875-1895            NaN   \n",
       "6      Atelier Nadar. Photographe  1875-1895            NaN   \n",
       "7      Atelier Nadar. Photographe  1875-1895            NaN   \n",
       "8      Atelier Nadar. Photographe  1875-1895            NaN   \n",
       "9      Atelier Nadar. Photographe  1875-1895            NaN   \n",
       "10     Atelier Nadar. Photographe  1875-1895            NaN   \n",
       "11     Atelier Nadar. Photographe  1875-1895            NaN   \n",
       "12     Atelier Nadar. Photographe       1890            NaN   \n",
       "13     Atelier Nadar. Photographe  1875-1895            NaN   \n",
       "14     Atelier Nadar. Photographe  1875-1895            NaN   \n",
       "15     Atelier Nadar. Photographe  1875-1895            NaN   \n",
       "16     Atelier Nadar. Photographe  1875-1895            NaN   \n",
       "17     Atelier Nadar. Photographe       1890            NaN   \n",
       "18     Atelier Nadar. Photographe  1875-1895            NaN   \n",
       "19     Atelier Nadar. Photographe       1890            NaN   \n",
       "20     Atelier Nadar. Photographe  1875-1895            NaN   \n",
       "21     Atelier Nadar. Photographe       1890            NaN   \n",
       "22     Atelier Nadar. Photographe  1875-1895            NaN   \n",
       "23     Atelier Nadar. Photographe  1875-1895            NaN   \n",
       "24     Atelier Nadar. Photographe       1891            NaN   \n",
       "25     Atelier Nadar. Photographe       1890            NaN   \n",
       "26     Atelier Nadar. Photographe       1891            NaN   \n",
       "27     Atelier Nadar. Photographe       1891            NaN   \n",
       "28     Atelier Nadar. Photographe  1875-1895            NaN   \n",
       "29     Atelier Nadar. Photographe  1875-1895            NaN   \n",
       "...                           ...        ...            ...   \n",
       "26021  Atelier Nadar. Photographe       1877            NaN   \n",
       "26022  Atelier Nadar. Photographe  1875-1895            NaN   \n",
       "26023  Atelier Nadar. Photographe       1876            NaN   \n",
       "26024  Atelier Nadar. Photographe       1876            NaN   \n",
       "26025  Atelier Nadar. Photographe       1879            NaN   \n",
       "26026  Atelier Nadar. Photographe       1880            NaN   \n",
       "26027  Atelier Nadar. Photographe       1884            NaN   \n",
       "26028  Atelier Nadar. Photographe       1880            NaN   \n",
       "26029  Atelier Nadar. Photographe       1880            NaN   \n",
       "26030  Atelier Nadar. Photographe       1878            NaN   \n",
       "26031  Atelier Nadar. Photographe  1870-1890            NaN   \n",
       "26032  Atelier Nadar. Photographe  1870-1890            NaN   \n",
       "26033  Atelier Nadar. Photographe  1870-1890            NaN   \n",
       "26034  Atelier Nadar. Photographe  1870-1890            NaN   \n",
       "26035  Atelier Nadar. Photographe       1880            NaN   \n",
       "26036  Atelier Nadar. Photographe  1900-1916            NaN   \n",
       "26037  Atelier Nadar. Photographe       1900            NaN   \n",
       "26038  Atelier Nadar. Photographe       1900            NaN   \n",
       "26039  Atelier Nadar. Photographe       1900            NaN   \n",
       "26040  Atelier Nadar. Photographe       1900            NaN   \n",
       "26041  Atelier Nadar. Photographe       1900            NaN   \n",
       "26042  Atelier Nadar. Photographe       1900            NaN   \n",
       "26043  Atelier Nadar. Photographe       1900            NaN   \n",
       "26044  Atelier Nadar. Photographe  1870-1890            NaN   \n",
       "26045  Atelier Nadar. Photographe       1879            NaN   \n",
       "26046  Atelier Nadar. Photographe  1870-1890            NaN   \n",
       "26047  Atelier Nadar. Photographe  1870-1890            NaN   \n",
       "26048  Atelier Nadar. Photographe  1870-1890            NaN   \n",
       "26049  Atelier Nadar. Photographe       1900            NaN   \n",
       "26050  Atelier Nadar. Photographe  1870-1890            NaN   \n",
       "\n",
       "                                             dc:relation  \\\n",
       "0      [Extrait de : [Album de référence de l'Atelier...   \n",
       "1      [Extrait de : [Album de référence de l'Atelier...   \n",
       "2      [Extrait de : [Album de référence de l'Atelier...   \n",
       "3      [Extrait de : [Album de référence de l'Atelier...   \n",
       "4      [Extrait de : [Album de référence de l'Atelier...   \n",
       "5      [Extrait de : [Album de référence de l'Atelier...   \n",
       "6      [Extrait de : [Album de référence de l'Atelier...   \n",
       "7      [Extrait de : [Album de référence de l'Atelier...   \n",
       "8      [Extrait de : [Album de référence de l'Atelier...   \n",
       "9      [Extrait de : [Album de référence de l'Atelier...   \n",
       "10     [Extrait de : [Album de référence de l'Atelier...   \n",
       "11     [Extrait de : [Album de référence de l'Atelier...   \n",
       "12     [Extrait de : [Album de référence de l'Atelier...   \n",
       "13     [Extrait de : [Album de référence de l'Atelier...   \n",
       "14     [Extrait de : [Album de référence de l'Atelier...   \n",
       "15     [Extrait de : [Album de référence de l'Atelier...   \n",
       "16     [Extrait de : [Album de référence de l'Atelier...   \n",
       "17     [Extrait de : [Album de référence de l'Atelier...   \n",
       "18     [Extrait de : [Album de référence de l'Atelier...   \n",
       "19     [Extrait de : [Album de référence de l'Atelier...   \n",
       "20     [Extrait de : [Album de référence de l'Atelier...   \n",
       "21     [Extrait de : [Album de référence de l'Atelier...   \n",
       "22     [Extrait de : [Album de référence de l'Atelier...   \n",
       "23     [Extrait de : [Album de référence de l'Atelier...   \n",
       "24     [Extrait de : [Album de référence de l'Atelier...   \n",
       "25     [Extrait de : [Album de référence de l'Atelier...   \n",
       "26     [Extrait de : [Album de référence de l'Atelier...   \n",
       "27     [Extrait de : [Album de référence de l'Atelier...   \n",
       "28     [Extrait de : [Album de référence de l'Atelier...   \n",
       "29     [Extrait de : [Album de référence de l'Atelier...   \n",
       "...                                                  ...   \n",
       "26021  [Extrait de : [Album de référence de l'Atelier...   \n",
       "26022  [Extrait de : [Album de référence de l'Atelier...   \n",
       "26023  [Extrait de : [Album de référence de l'Atelier...   \n",
       "26024  [Extrait de : [Album de référence de l'Atelier...   \n",
       "26025  [Extrait de : [Album de référence de l'Atelier...   \n",
       "26026  [Extrait de : [Album de référence de l'Atelier...   \n",
       "26027  [Extrait de : [Album de référence de l'Atelier...   \n",
       "26028  [Extrait de : [Album de référence de l'Atelier...   \n",
       "26029  [Extrait de : [Album de référence de l'Atelier...   \n",
       "26030  [Extrait de : [Album de référence de l'Atelier...   \n",
       "26031  [Extrait de : [Album de référence de l'Atelier...   \n",
       "26032  [Extrait de : [Album de référence de l'Atelier...   \n",
       "26033  [Extrait de : [Album de référence de l'Atelier...   \n",
       "26034  [Extrait de : [Album de référence de l'Atelier...   \n",
       "26035  [Extrait de : [Album de référence de l'Atelier...   \n",
       "26036  [Extrait de : [Album de référence de l'Atelier...   \n",
       "26037  [Extrait de : [Album de référence de l'Atelier...   \n",
       "26038  [Extrait de : [Album de référence de l'Atelier...   \n",
       "26039  [Extrait de : [Album de référence de l'Atelier...   \n",
       "26040  [Extrait de : [Album de référence de l'Atelier...   \n",
       "26041  [Extrait de : [Album de référence de l'Atelier...   \n",
       "26042  [Extrait de : [Album de référence de l'Atelier...   \n",
       "26043  [Extrait de : [Album de référence de l'Atelier...   \n",
       "26044  [Extrait de : [Album de référence de l'Atelier...   \n",
       "26045  [Extrait de : [Album de référence de l'Atelier...   \n",
       "26046  [Extrait de : [Album de référence de l'Atelier...   \n",
       "26047  [Extrait de : [Album de référence de l'Atelier...   \n",
       "26048  [Extrait de : [Album de référence de l'Atelier...   \n",
       "26049  [Extrait de : [Album de référence de l'Atelier...   \n",
       "26050  [Extrait de : [Album de référence de l'Atelier...   \n",
       "\n",
       "                                               dc:source  \\\n",
       "0      Bibliothèque nationale de France, département ...   \n",
       "1      Bibliothèque nationale de France, département ...   \n",
       "2      Bibliothèque nationale de France, département ...   \n",
       "3      Bibliothèque nationale de France, département ...   \n",
       "4      Bibliothèque nationale de France, département ...   \n",
       "5      Bibliothèque nationale de France, département ...   \n",
       "6      Bibliothèque nationale de France, département ...   \n",
       "7      Bibliothèque nationale de France, département ...   \n",
       "8      Bibliothèque nationale de France, département ...   \n",
       "9      Bibliothèque nationale de France, département ...   \n",
       "10     Bibliothèque nationale de France, département ...   \n",
       "11     Bibliothèque nationale de France, département ...   \n",
       "12     Bibliothèque nationale de France, département ...   \n",
       "13     Bibliothèque nationale de France, département ...   \n",
       "14     Bibliothèque nationale de France, département ...   \n",
       "15     Bibliothèque nationale de France, département ...   \n",
       "16     Bibliothèque nationale de France, département ...   \n",
       "17     Bibliothèque nationale de France, département ...   \n",
       "18     Bibliothèque nationale de France, département ...   \n",
       "19     Bibliothèque nationale de France, département ...   \n",
       "20     Bibliothèque nationale de France, département ...   \n",
       "21     Bibliothèque nationale de France, département ...   \n",
       "22     Bibliothèque nationale de France, département ...   \n",
       "23     Bibliothèque nationale de France, département ...   \n",
       "24     Bibliothèque nationale de France, département ...   \n",
       "25     Bibliothèque nationale de France, département ...   \n",
       "26     Bibliothèque nationale de France, département ...   \n",
       "27     Bibliothèque nationale de France, département ...   \n",
       "28     Bibliothèque nationale de France, département ...   \n",
       "29     Bibliothèque nationale de France, département ...   \n",
       "...                                                  ...   \n",
       "26021  Bibliothèque nationale de France, département ...   \n",
       "26022  Bibliothèque nationale de France, département ...   \n",
       "26023  Bibliothèque nationale de France, département ...   \n",
       "26024  Bibliothèque nationale de France, département ...   \n",
       "26025  Bibliothèque nationale de France, département ...   \n",
       "26026  Bibliothèque nationale de France, département ...   \n",
       "26027  Bibliothèque nationale de France, département ...   \n",
       "26028  Bibliothèque nationale de France, département ...   \n",
       "26029  Bibliothèque nationale de France, département ...   \n",
       "26030  Bibliothèque nationale de France, département ...   \n",
       "26031  Bibliothèque nationale de France, département ...   \n",
       "26032  Bibliothèque nationale de France, département ...   \n",
       "26033  Bibliothèque nationale de France, département ...   \n",
       "26034  Bibliothèque nationale de France, département ...   \n",
       "26035  Bibliothèque nationale de France, département ...   \n",
       "26036  Bibliothèque nationale de France, département ...   \n",
       "26037  Bibliothèque nationale de France, département ...   \n",
       "26038  Bibliothèque nationale de France, département ...   \n",
       "26039  Bibliothèque nationale de France, département ...   \n",
       "26040  Bibliothèque nationale de France, département ...   \n",
       "26041  Bibliothèque nationale de France, département ...   \n",
       "26042  Bibliothèque nationale de France, département ...   \n",
       "26043  Bibliothèque nationale de France, département ...   \n",
       "26044  Bibliothèque nationale de France, département ...   \n",
       "26045  Bibliothèque nationale de France, département ...   \n",
       "26046  Bibliothèque nationale de France, département ...   \n",
       "26047  Bibliothèque nationale de France, département ...   \n",
       "26048  Bibliothèque nationale de France, département ...   \n",
       "26049  Bibliothèque nationale de France, département ...   \n",
       "26050  Bibliothèque nationale de France, département ...   \n",
       "\n",
       "                                              dc:subject  \\\n",
       "0                     Portraits du théâtre -- 19e siècle   \n",
       "1                     Portraits du théâtre -- 19e siècle   \n",
       "2                      Portraits de studio -- 19e siècle   \n",
       "3                     Portraits collectifs -- 19e siècle   \n",
       "4                     Portraits du théâtre -- 19e siècle   \n",
       "5                     Portraits du théâtre -- 19e siècle   \n",
       "6                     Portraits du théâtre -- 19e siècle   \n",
       "7      [Auguez, Mathilde (1868-1955) -- Portraits, Po...   \n",
       "8      [Auguez, Mathilde (1868-1955) -- Portraits, Po...   \n",
       "9      [Bruant, Aristide (1851-1925) -- Portraits, Po...   \n",
       "10     [Auguez, Mathilde (1868-1955) -- Portraits, Po...   \n",
       "11                    Portraits du théâtre -- 19e siècle   \n",
       "12                    Portraits du théâtre -- 19e siècle   \n",
       "13     [Brasseur, Albert (1862-1932) -- Portraits, Po...   \n",
       "14     [Auguez, Mathilde (1868-1955) -- Portraits, Po...   \n",
       "15                     Portraits de studio -- 19e siècle   \n",
       "16                    Portraits du théâtre -- 19e siècle   \n",
       "17                       Scènes théâtrales -- 19e siècle   \n",
       "18                    Portraits du théâtre -- 19e siècle   \n",
       "19     [Decroza, Francine (1868-19..) -- Portraits, P...   \n",
       "20                    Portraits du théâtre -- 19e siècle   \n",
       "21                    Portraits du théâtre -- 19e siècle   \n",
       "22     [Auguez, Mathilde (1868-1955) -- Portraits, Po...   \n",
       "23                    Portraits du théâtre -- 19e siècle   \n",
       "24                    Portraits collectifs -- 19e siècle   \n",
       "25                       Scènes théâtrales -- 19e siècle   \n",
       "26                    Portraits du théâtre -- 19e siècle   \n",
       "27                    Portraits du théâtre -- 19e siècle   \n",
       "28                    Portraits du théâtre -- 19e siècle   \n",
       "29                    Portraits du théâtre -- 19e siècle   \n",
       "...                                                  ...   \n",
       "26021                 Portraits du théâtre -- 19e siècle   \n",
       "26022                 Portraits du théâtre -- 19e siècle   \n",
       "26023                 Portraits du théâtre -- 19e siècle   \n",
       "26024  [Febvre, Frédéric (1833-1916) -- Portraits, Po...   \n",
       "26025  [Delessart, Louis (1840-1883) -- Portraits, Po...   \n",
       "26026  [Portraits collectifs -- 19e siècle, Portraits...   \n",
       "26027  [Heilbronn, Marie (1851-1886) -- Portraits, Po...   \n",
       "26028  [Portraits collectifs -- 19e siècle, Portraits...   \n",
       "26029  [Portraits collectifs -- 19e siècle, Portraits...   \n",
       "26030  [Krauss, Maria Gabriele (1842-1906) -- Portrai...   \n",
       "26031  [Leriche, Augustine (1860-1938) -- Portraits, ...   \n",
       "26032  [Leriche, Augustine (1860-1938) -- Portraits, ...   \n",
       "26033  [Leriche, Augustine (1860-1938) -- Portraits, ...   \n",
       "26034  [Leriche, Augustine (1860-1938) -- Portraits, ...   \n",
       "26035  [Montbazon, Marie (18..-19.. ; actrice) -- Por...   \n",
       "26036  [Delarue-Mardrus, Lucie (1874-1945) -- Portrai...   \n",
       "26037  [Blache, René Henri (1839-1908) -- Portraits, ...   \n",
       "26038  [Blache, René Henri (1839-1908) -- Portraits, ...   \n",
       "26039  [Baréty, Henriette (18..-19..? ; actrice) -- P...   \n",
       "26040  [Baréty, Henriette (18..-19..? ; actrice) -- P...   \n",
       "26041  [Baréty, Henriette (18..-19..? ; actrice) -- P...   \n",
       "26042  [Callias, Horace de (1847-1924) -- Portraits, ...   \n",
       "26043  [Callias, Horace de (1847-1924) -- Portraits, ...   \n",
       "26044  [Feyghine (1863-1882) -- Portraits, Portraits ...   \n",
       "26045  [Desclauzas, Marie (1840-1912) -- Portraits, P...   \n",
       "26046                  Portraits de studio -- 19e siècle   \n",
       "26047  [Feyghine (1863-1882) -- Portraits, Portraits ...   \n",
       "26048  [Barretta, Blanche (1856-1939) -- Portraits, P...   \n",
       "26049  [Daubray (1837-1892) -- Portraits, Portraits d...   \n",
       "26050  [Simon-Girard, Juliette (1859-1959) -- Portrai...   \n",
       "\n",
       "                                                dc:title  \\\n",
       "0      Holda. Eldorado : [photographie, tirage de dém...   \n",
       "1      Supra. Opéra : [photographie, tirage de démons...   \n",
       "2      Bébé Ullmann : [photographie, tirage de démons...   \n",
       "3      Groupe de paysannes : [photographie, tirage de...   \n",
       "4      Me Debaude : [photographie, tirage de démonstr...   \n",
       "5      Me Debaude : [photographie, tirage de démonstr...   \n",
       "6      Me Nau. (Théâtre libre) : [photographie, tirag...   \n",
       "7      [Me Auguez] : [photographie, tirage de démonst...   \n",
       "8      [Me Auguez] : [photographie, tirage de démonst...   \n",
       "9      M. Bruant : [photographie, tirage de démonstra...   \n",
       "10     Me Auguez : [photographie, tirage de démonstra...   \n",
       "11     Me Delorne. Opéra-Comique. Carmen : [photograp...   \n",
       "12     Me Maury. [Gaîté. Le petit Poucet] : [photogra...   \n",
       "13     M. A. Brasseur : [photographie, tirage de démo...   \n",
       "14     Me Auguez. (Opéra-Comique) : [photographie, ti...   \n",
       "15     Bébé Gérard : [photographie, tirage de démonst...   \n",
       "16     [Me Genel] : [photographie, tirage de démonstr...   \n",
       "17     Mlle Mignot et [Mlle Lata]. Gaîté. Le petit Po...   \n",
       "18     Me Demoreuil : [photographie, tirage de démons...   \n",
       "19     Me Decroza. [Renaissance. En scène, mesdemoise...   \n",
       "20     [Me Nau. (Théâtre libre)] : [photographie, tir...   \n",
       "21     Me Em. Georges [i.e. Emma George. Renaissance....   \n",
       "22     Me Auguez : [photographie, tirage de démonstra...   \n",
       "23     [Me Delorne. Opéra-Comique. Carmen] : [photogr...   \n",
       "24     [Groupe. Folies-Dramatiques]. Juanita : [photo...   \n",
       "25     Me Maury et Mr Bienfait. (Gaîté). \"Le petit Po...   \n",
       "26     Me Coste. [Folies-Dramatiques. Juanita] : [pho...   \n",
       "27     Me Villiers. [Folies-Dramatiques. Juanita] : [...   \n",
       "28     Me Demoreuil : [photographie, tirage de démons...   \n",
       "29     Me Genel : [photographie, tirage de démonstrat...   \n",
       "...                                                  ...   \n",
       "26021  M. Habey. Châtelet. \"Voyage dans la Lune\" : [p...   \n",
       "26022  Me Morsans. [République. Pierre Vaux] : [photo...   \n",
       "26023  [Mlle Engalli. Lyrique. \"Paul et Virginie\"] : ...   \n",
       "26024  Febvre. \"L'ami Fritz\" : [photographie, tirage ...   \n",
       "26025  Delessart. [Ambigu. \"Assommoir\"] : [photograph...   \n",
       "26026  [Groupe. Bouffes. \"Mascotte\"] : [photographie,...   \n",
       "26027  [Heilbronn]. Opéra comique. \"Manon\" : [photogr...   \n",
       "26028  [Groupe. Bouffes. \"Mascotte\"] : [photographie,...   \n",
       "26029  Groupe. Bouffes. \"Mascotte\" : [photographie, t...   \n",
       "26030  Krauss. Polyeucte : [photographie, tirage de d...   \n",
       "26031  Leriche et Pluton [i.e. Ploton] : [photographi...   \n",
       "26032  Leriche et Pluton [i.e. Ploton] : [photographi...   \n",
       "26033  Leriche et Pluton [i.e. Ploton] : [photographi...   \n",
       "26034  Leriche et Pluton [i.e. Ploton] : [photographi...   \n",
       "26035  [Montbazon. Bouffes]. \"Mascotte\" : [photograph...   \n",
       "26036  Mme Mardrus. Ecrivain : [photographie, tirage ...   \n",
       "26037  Docteur Blache. Médecin : [photographie, tirag...   \n",
       "26038  Docteur Blache. Médecin : [photographie, tirag...   \n",
       "26039  Baretti Henriette. Variétés : [photographie, t...   \n",
       "26040  Baretti Henriette. Variétés : [photographie, t...   \n",
       "26041  [Baretti Henriette. Variétés] : [photographie,...   \n",
       "26042  De Callias. Peintre : [photographie, tirage de...   \n",
       "26043  De Callias. Peintre : [photographie, tirage de...   \n",
       "26044  Feighine [i.e. Feyghine] : [photographie, tira...   \n",
       "26045  [Desclauzas]. \"Rendez-vous bourgeois\" : [photo...   \n",
       "26046  [Gireaud. Chemin de fer de l'Est] : [photograp...   \n",
       "26047  Feighine [i.e. Feyghine] : [photographie, tira...   \n",
       "26048  Fayolles [i.e. Baretta] : [photographie, tirag...   \n",
       "26049  Daubray. [Bouffes. \"Petite Muette\"] : [photogr...   \n",
       "26050  Girard. Folies-Dramatiques : [photographie, ti...   \n",
       "\n",
       "                                                     id  subject_is_list  \\\n",
       "0      https://gallica.bnf.fr/ark:/12148/btv1b53163492h            False   \n",
       "1      https://gallica.bnf.fr/ark:/12148/btv1b531634912            False   \n",
       "2      https://gallica.bnf.fr/ark:/12148/btv1b531638493            False   \n",
       "3      https://gallica.bnf.fr/ark:/12148/btv1b53164917p            False   \n",
       "4      https://gallica.bnf.fr/ark:/12148/btv1b531688758            False   \n",
       "5      https://gallica.bnf.fr/ark:/12148/btv1b53168876q            False   \n",
       "6      https://gallica.bnf.fr/ark:/12148/btv1b531651477            False   \n",
       "7      https://gallica.bnf.fr/ark:/12148/btv1b53168872x             True   \n",
       "8      https://gallica.bnf.fr/ark:/12148/btv1b531688701             True   \n",
       "9      https://gallica.bnf.fr/ark:/12148/btv1b53171770j             True   \n",
       "10     https://gallica.bnf.fr/ark:/12148/btv1b53168873c             True   \n",
       "11     https://gallica.bnf.fr/ark:/12148/btv1b531709271            False   \n",
       "12     https://gallica.bnf.fr/ark:/12148/btv1b53164915s            False   \n",
       "13     https://gallica.bnf.fr/ark:/12148/btv1b531651494             True   \n",
       "14     https://gallica.bnf.fr/ark:/12148/btv1b53168871g             True   \n",
       "15     https://gallica.bnf.fr/ark:/12148/btv1b531638476            False   \n",
       "16     https://gallica.bnf.fr/ark:/12148/btv1b53165144w            False   \n",
       "17     https://gallica.bnf.fr/ark:/12148/btv1b531649167            False   \n",
       "18     https://gallica.bnf.fr/ark:/12148/btv1b53163719g            False   \n",
       "19     https://gallica.bnf.fr/ark:/12148/btv1b53163717k             True   \n",
       "20     https://gallica.bnf.fr/ark:/12148/btv1b53165148p            False   \n",
       "21     https://gallica.bnf.fr/ark:/12148/btv1b53163712b            False   \n",
       "22     https://gallica.bnf.fr/ark:/12148/btv1b53168874t             True   \n",
       "23     https://gallica.bnf.fr/ark:/12148/btv1b53170928g            False   \n",
       "24     https://gallica.bnf.fr/ark:/12148/btv1b53165011x            False   \n",
       "25     https://gallica.bnf.fr/ark:/12148/btv1b53164914b            False   \n",
       "26     https://gallica.bnf.fr/ark:/12148/btv1b531650182            False   \n",
       "27     https://gallica.bnf.fr/ark:/12148/btv1b531650165            False   \n",
       "28     https://gallica.bnf.fr/ark:/12148/btv1b531637181            False   \n",
       "29     https://gallica.bnf.fr/ark:/12148/btv1b53165143f            False   \n",
       "...                                                 ...              ...   \n",
       "26021  https://gallica.bnf.fr/ark:/12148/btv1b53080295d            False   \n",
       "26022  https://gallica.bnf.fr/ark:/12148/btv1b531878387            False   \n",
       "26023  https://gallica.bnf.fr/ark:/12148/btv1b531271160            False   \n",
       "26024  https://gallica.bnf.fr/ark:/12148/btv1b531289131             True   \n",
       "26025  https://gallica.bnf.fr/ark:/12148/btv1b531270496             True   \n",
       "26026  https://gallica.bnf.fr/ark:/12148/btv1b531312422             True   \n",
       "26027  https://gallica.bnf.fr/ark:/12148/btv1b53131358j             True   \n",
       "26028  https://gallica.bnf.fr/ark:/12148/btv1b53131239s             True   \n",
       "26029  https://gallica.bnf.fr/ark:/12148/btv1b531312405             True   \n",
       "26030  https://gallica.bnf.fr/ark:/12148/btv1b53132919z             True   \n",
       "26031  https://gallica.bnf.fr/ark:/12148/btv1b53133233s             True   \n",
       "26032  https://gallica.bnf.fr/ark:/12148/btv1b53133233s             True   \n",
       "26033  https://gallica.bnf.fr/ark:/12148/btv1b53133233s             True   \n",
       "26034  https://gallica.bnf.fr/ark:/12148/btv1b53133233s             True   \n",
       "26035  https://gallica.bnf.fr/ark:/12148/btv1b531343680             True   \n",
       "26036  https://gallica.bnf.fr/ark:/12148/btv1b53120407r             True   \n",
       "26037  https://gallica.bnf.fr/ark:/12148/btv1b53123938c             True   \n",
       "26038  https://gallica.bnf.fr/ark:/12148/btv1b53123939t             True   \n",
       "26039  https://gallica.bnf.fr/ark:/12148/btv1b531249969             True   \n",
       "26040  https://gallica.bnf.fr/ark:/12148/btv1b53124997r             True   \n",
       "26041  https://gallica.bnf.fr/ark:/12148/btv1b531249986             True   \n",
       "26042  https://gallica.bnf.fr/ark:/12148/btv1b53126679c             True   \n",
       "26043  https://gallica.bnf.fr/ark:/12148/btv1b53126680r             True   \n",
       "26044  https://gallica.bnf.fr/ark:/12148/btv1b53128825z             True   \n",
       "26045  https://gallica.bnf.fr/ark:/12148/btv1b53126794b             True   \n",
       "26046  https://gallica.bnf.fr/ark:/12148/btv1b53129253c            False   \n",
       "26047  https://gallica.bnf.fr/ark:/12148/btv1b53128819b             True   \n",
       "26048  https://gallica.bnf.fr/ark:/12148/btv1b53128890m             True   \n",
       "26049  https://gallica.bnf.fr/ark:/12148/btv1b53127034j             True   \n",
       "26050  https://gallica.bnf.fr/ark:/12148/btv1b53129021g             True   \n",
       "\n",
       "       len_list  nbr_title                                        first_title  \\\n",
       "0           NaN          1                                    Holda. Eldorado   \n",
       "1           NaN          1                                       Supra. Opéra   \n",
       "2           NaN          1                                       Bébé Ullmann   \n",
       "3           NaN          1                                Groupe de paysannes   \n",
       "4           NaN          1                                         Me Debaude   \n",
       "5           NaN          1                                         Me Debaude   \n",
       "6           NaN          1                            Me Nau. (Théâtre libre)   \n",
       "7           2.0          1                                          Me Auguez   \n",
       "8           2.0          1                                          Me Auguez   \n",
       "9           2.0          1                                          M. Bruant   \n",
       "10          2.0          1                                          Me Auguez   \n",
       "11          NaN          1                  Me Delorne. Opéra-Comique. Carmen   \n",
       "12          NaN          1                   Me Maury. Gaîté. Le petit Poucet   \n",
       "13          2.0          1                                     M. A. Brasseur   \n",
       "14          2.0          1                         Me Auguez. (Opéra-Comique)   \n",
       "15          NaN          1                                        Bébé Gérard   \n",
       "16          NaN          1                                           Me Genel   \n",
       "17          NaN          1   Mlle Mignot et Mlle Lata. Gaîté. Le petit Poucet   \n",
       "18          NaN          1                                       Me Demoreuil   \n",
       "19          2.0          1  Me Decroza. Renaissance. En scène, mesdemoiselles   \n",
       "20          NaN          1                            Me Nau. (Théâtre libre)   \n",
       "21          NaN          1  Me Em. Georges i.e. Emma George. Renaissance. ...   \n",
       "22          2.0          1                                          Me Auguez   \n",
       "23          NaN          1                  Me Delorne. Opéra-Comique. Carmen   \n",
       "24          NaN          1                Groupe. Folies-Dramatiques. Juanita   \n",
       "25          NaN          1  Me Maury et Mr Bienfait. (Gaîté). \"Le petit Po...   \n",
       "26          NaN          1              Me Coste. Folies-Dramatiques. Juanita   \n",
       "27          NaN          1           Me Villiers. Folies-Dramatiques. Juanita   \n",
       "28          NaN          1                                       Me Demoreuil   \n",
       "29          NaN          1                                           Me Genel   \n",
       "...         ...        ...                                                ...   \n",
       "26021       NaN          1          M. Habey. Châtelet. \"Voyage dans la Lune\"   \n",
       "26022       NaN          1                Me Morsans. République. Pierre Vaux   \n",
       "26023       NaN          1          Mlle Engalli. Lyrique. \"Paul et Virginie\"   \n",
       "26024       2.0          1                              Febvre. \"L'ami Fritz\"   \n",
       "26025       2.0          1                     Delessart. Ambigu. \"Assommoir\"   \n",
       "26026       2.0          1                        Groupe. Bouffes. \"Mascotte\"   \n",
       "26027       2.0          1                  Heilbronn. Opéra comique. \"Manon\"   \n",
       "26028       2.0          1                        Groupe. Bouffes. \"Mascotte\"   \n",
       "26029       2.0          1                        Groupe. Bouffes. \"Mascotte\"   \n",
       "26030       2.0          1                                  Krauss. Polyeucte   \n",
       "26031       5.0          1                      Leriche et Pluton i.e. Ploton   \n",
       "26032       5.0          1                      Leriche et Pluton i.e. Ploton   \n",
       "26033       5.0          1                      Leriche et Pluton i.e. Ploton   \n",
       "26034       5.0          1                      Leriche et Pluton i.e. Ploton   \n",
       "26035       2.0          1                     Montbazon. Bouffes. \"Mascotte\"   \n",
       "26036       2.0          1                              Mme Mardrus. Ecrivain   \n",
       "26037       2.0          1                            Docteur Blache. Médecin   \n",
       "26038       2.0          1                            Docteur Blache. Médecin   \n",
       "26039       2.0          1                        Baretti Henriette. Variétés   \n",
       "26040       2.0          1                        Baretti Henriette. Variétés   \n",
       "26041       2.0          1                        Baretti Henriette. Variétés   \n",
       "26042       2.0          1                                De Callias. Peintre   \n",
       "26043       2.0          1                                De Callias. Peintre   \n",
       "26044       2.0          1                             Feighine i.e. Feyghine   \n",
       "26045       2.0          1                Desclauzas. \"Rendez-vous bourgeois\"   \n",
       "26046       NaN          1                    Gireaud. Chemin de fer de l'Est   \n",
       "26047       2.0          1                             Feighine i.e. Feyghine   \n",
       "26048       2.0          1                              Fayolles i.e. Baretta   \n",
       "26049       2.0          1                  Daubray. Bouffes. \"Petite Muette\"   \n",
       "26050       2.0          1                         Girard. Folies-Dramatiques   \n",
       "\n",
       "                named_subject        years  \n",
       "0                         NaN          NaN  \n",
       "1                         NaN          NaN  \n",
       "2                         NaN          NaN  \n",
       "3                         NaN          NaN  \n",
       "4                         NaN          NaN  \n",
       "5                         NaN          NaN  \n",
       "6                         NaN          NaN  \n",
       "7            Auguez, Mathilde    1868-1955  \n",
       "8            Auguez, Mathilde    1868-1955  \n",
       "9            Bruant, Aristide    1851-1925  \n",
       "10           Auguez, Mathilde    1868-1955  \n",
       "11                        NaN          NaN  \n",
       "12                        NaN          NaN  \n",
       "13           Brasseur, Albert    1862-1932  \n",
       "14           Auguez, Mathilde    1868-1955  \n",
       "15                        NaN          NaN  \n",
       "16                        NaN          NaN  \n",
       "17                        NaN          NaN  \n",
       "18                        NaN          NaN  \n",
       "19          Decroza, Francine    1868-19..  \n",
       "20                        NaN          NaN  \n",
       "21                        NaN          NaN  \n",
       "22           Auguez, Mathilde    1868-1955  \n",
       "23                        NaN          NaN  \n",
       "24                        NaN          NaN  \n",
       "25                        NaN          NaN  \n",
       "26                        NaN          NaN  \n",
       "27                        NaN          NaN  \n",
       "28                        NaN          NaN  \n",
       "29                        NaN          NaN  \n",
       "...                       ...          ...  \n",
       "26021                     NaN          NaN  \n",
       "26022                     NaN          NaN  \n",
       "26023                     NaN          NaN  \n",
       "26024        Febvre, Frédéric    1833-1916  \n",
       "26025        Delessart, Louis    1840-1883  \n",
       "26026                     NaN          NaN  \n",
       "26027        Heilbronn, Marie    1851-1886  \n",
       "26028                     NaN          NaN  \n",
       "26029                     NaN          NaN  \n",
       "26030  Krauss, Maria Gabriele    1842-1906  \n",
       "26031      Leriche, Augustine    1860-1938  \n",
       "26032      Leriche, Augustine   1839?-1910  \n",
       "26033                  Ploton    1860-1938  \n",
       "26034                  Ploton   1839?-1910  \n",
       "26035        Montbazon, Marie   18..-19..   \n",
       "26036  Delarue-Mardrus, Lucie    1874-1945  \n",
       "26037      Blache, René Henri    1839-1908  \n",
       "26038      Blache, René Henri    1839-1908  \n",
       "26039       Baréty, Henriette  18..-19..?   \n",
       "26040       Baréty, Henriette  18..-19..?   \n",
       "26041       Baréty, Henriette  18..-19..?   \n",
       "26042      Callias, Horace de    1847-1924  \n",
       "26043      Callias, Horace de    1847-1924  \n",
       "26044                Feyghine    1863-1882  \n",
       "26045       Desclauzas, Marie    1840-1912  \n",
       "26046                     NaN          NaN  \n",
       "26047                Feyghine    1863-1882  \n",
       "26048       Barretta, Blanche    1856-1939  \n",
       "26049                 Daubray    1837-1892  \n",
       "26050  Simon-Girard, Juliette    1859-1959  \n",
       "\n",
       "[26051 rows x 14 columns]"
      ]
     },
     "execution_count": 83,
     "metadata": {},
     "output_type": "execute_result"
    }
   ],
   "source": [
    "df"
   ]
  },
  {
   "cell_type": "markdown",
   "metadata": {},
   "source": [
    "### there really is no associated year"
   ]
  },
  {
   "cell_type": "code",
   "execution_count": 84,
   "metadata": {},
   "outputs": [
    {
     "data": {
      "text/plain": [
       "Index(['Scènes théâtrales -- 19e siècle', 'Costumes -- 19e siècle',\n",
       "       'Danseuses', 'Lanvin (Maison de couture)', 'Enfants',\n",
       "       'Tournée Brasseur', 'Ambassadeurs japonais -- France', 'Trapézistes',\n",
       "       'Représentations d'objet -- 19e siècle', 'Cour et courtisans -- Iran',\n",
       "       'Cavalières', 'Clowns', 'Représentations animalières -- 19e siècle',\n",
       "       'Travestis', 'Violonistes', 'Singes', 'Bicyclettes', 'Nourrissons',\n",
       "       'Géants', 'Enfants acteurs',\n",
       "       'Tableaux vivants et mises en scène -- 19e siècle',\n",
       "       'Ballons -- France -- 19e siècle', 'Vues d'intérieur -- 19e siècle',\n",
       "       'Mandoline', 'Danse orientale', 'Costumes',\n",
       "       'Pierrot (personnage fictif)', 'Chat domestique', 'Animaux de cirque',\n",
       "       'Bicyclettes -- Au théâtre', 'Journaux français', 'Âne',\n",
       "       'Minstrel shows', 'Géant (ballon)', 'Chien', 'Escrimeurs',\n",
       "       'Représentations animalières -- 1870-1913', 'Religieux',\n",
       "       'Haltérophiles', 'Indiens d'Amérique', 'Statues',\n",
       "       'Hamlet (personnage légendaire)', 'Ambassadeurs uruguayens -- France',\n",
       "       'Phénomènes de cirque',\n",
       "       'Rueil-Malmaison (Hauts-de-Seine) -- Château de Malmaison',\n",
       "       'Ambassadeurs chinois -- France', 'Casseroles', 'Caniche (race canine)',\n",
       "       'Appareils photographiques',\n",
       "       'Ballons -- France -- Paris (France) -- 19e siècle',\n",
       "       'Autobus -- Au théâtre', 'Noirs -- Afrique',\n",
       "       'Caricatures et dessins humoristiques -- 19e siècle',\n",
       "       'Acrobates (arts)', 'Nageurs -- Suède', 'Arlequin (personnage fictif)',\n",
       "       'Harpistes', 'Montreurs d'animaux savants', 'Oiseaux parleurs',\n",
       "       'Ensembles de musique de chambre', 'Ombre portée',\n",
       "       'Mères et nourrissons', 'Paysages urbains -- 19e siècle', 'Chasseurs',\n",
       "       'Décorations militaires', 'Maison Doucet (Paris)',\n",
       "       'Ateliers d'artistes -- Au théâtre', 'Expositions de photographie',\n",
       "       'Paysages -- 19e siècle', 'Scènes -- 19e siècle', 'Paquin (Firme)',\n",
       "       'Avocats', 'Cours (architecture)', 'Sang -- Transfusion',\n",
       "       'Dessin -- Reproduction', 'Actrices travesties', 'Peinture',\n",
       "       'Hôpitaux -- Personnel médical'],\n",
       "      dtype='object')"
      ]
     },
     "execution_count": 84,
     "metadata": {},
     "output_type": "execute_result"
    }
   ],
   "source": [
    "subject_frame[~subject_frame.id.isin(id_years) &\\\n",
    "              subject_frame.named_subject.isna() &\\\n",
    "              ~subject_frame.Portraits].descriptor.value_counts().index"
   ]
  },
  {
   "cell_type": "code",
   "execution_count": null,
   "metadata": {},
   "outputs": [],
   "source": []
  }
 ],
 "metadata": {
  "kernelspec": {
   "display_name": "Python 3",
   "language": "python",
   "name": "python3"
  },
  "language_info": {
   "codemirror_mode": {
    "name": "ipython",
    "version": 3
   },
   "file_extension": ".py",
   "mimetype": "text/x-python",
   "name": "python",
   "nbconvert_exporter": "python",
   "pygments_lexer": "ipython3",
   "version": "3.7.3"
  }
 },
 "nbformat": 4,
 "nbformat_minor": 2
}
