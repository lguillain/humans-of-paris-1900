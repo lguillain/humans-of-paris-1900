{
 "cells": [
  {
   "cell_type": "code",
   "execution_count": 5,
   "metadata": {},
   "outputs": [
    {
     "name": "stderr",
     "output_type": "stream",
     "text": [
      "/Users/lguillain/opt/anaconda3/envs/fdh/lib/python3.7/site-packages/tqdm/autonotebook.py:17: TqdmExperimentalWarning: Using `tqdm.autonotebook.tqdm` in notebook mode. Use `tqdm.tqdm` instead to force console mode (e.g. in jupyter console)\n",
      "  \" (e.g. in jupyter console)\", TqdmExperimentalWarning)\n"
     ]
    }
   ],
   "source": [
    "from fdh_gallica import Periodical, Search, Document\n",
    "from fdh_gallica.parallel_process import iiif_urls_for_documents\n",
    "\n",
    "from tqdm.autonotebook import tqdm\n",
    "\n",
    "import json\n",
    "import pandas as pd\n",
    "from pandas.io.json import json_normalize"
   ]
  },
  {
   "cell_type": "code",
   "execution_count": 68,
   "metadata": {},
   "outputs": [],
   "source": [
    "%matplotlib inline"
   ]
  },
  {
   "cell_type": "markdown",
   "metadata": {},
   "source": [
    "get all images with relevant query"
   ]
  },
  {
   "cell_type": "code",
   "execution_count": 6,
   "metadata": {},
   "outputs": [],
   "source": [
    "re_execute = False\n",
    "if re_execute:\n",
    "    obj = Search(all_fields='atelier Nadar', dc_type='image', dc_creator='Atelier Nadar')\n",
    "    obj.execute()\n",
    "    print(f'number of fetched documents: {len(obj.documents)}')\n",
    "    print(f'total records {obj.total_records}')\n",
    "    print('retry fetching ...')\n",
    "    obj.retry()\n",
    "    print(f'number of fetched documents: {len(obj.documents)}')\n",
    "\n",
    "    df = json_normalize(json.loads(json.dumps(obj.records)))\n",
    "    print('save documents to local')\n",
    "    # list handling becomes a pain of we save as csv\n",
    "    df.to_pickle('raw_df.pkl')"
   ]
  },
  {
   "cell_type": "code",
   "execution_count": 7,
   "metadata": {},
   "outputs": [],
   "source": [
    "df = pd.read_pickle('raw_df.pkl')"
   ]
  },
  {
   "cell_type": "markdown",
   "metadata": {},
   "source": [
    "parse identifier for easier access:"
   ]
  },
  {
   "cell_type": "code",
   "execution_count": 8,
   "metadata": {},
   "outputs": [],
   "source": [
    "image_dataframe = pd.DataFrame(df['dc:identifier']\\\n",
    "                               .map(lambda x: x[0] if type(x) == list else x))\\\n",
    "                               .rename(columns={'dc:identifier':'identifier'})\n",
    "\n",
    "df['id'] = image_dataframe"
   ]
  },
  {
   "cell_type": "code",
   "execution_count": 9,
   "metadata": {},
   "outputs": [
    {
     "data": {
      "text/html": [
       "<div>\n",
       "<style scoped>\n",
       "    .dataframe tbody tr th:only-of-type {\n",
       "        vertical-align: middle;\n",
       "    }\n",
       "\n",
       "    .dataframe tbody tr th {\n",
       "        vertical-align: top;\n",
       "    }\n",
       "\n",
       "    .dataframe thead th {\n",
       "        text-align: right;\n",
       "    }\n",
       "</style>\n",
       "<table border=\"1\" class=\"dataframe\">\n",
       "  <thead>\n",
       "    <tr style=\"text-align: right;\">\n",
       "      <th></th>\n",
       "      <th>dc:creator</th>\n",
       "      <th>dc:date</th>\n",
       "      <th>dc:description</th>\n",
       "      <th>dc:format</th>\n",
       "      <th>dc:identifier</th>\n",
       "      <th>dc:language</th>\n",
       "      <th>dc:publisher</th>\n",
       "      <th>dc:relation</th>\n",
       "      <th>dc:rights</th>\n",
       "      <th>dc:source</th>\n",
       "      <th>dc:subject</th>\n",
       "      <th>dc:title</th>\n",
       "      <th>dc:type</th>\n",
       "      <th>id</th>\n",
       "    </tr>\n",
       "  </thead>\n",
       "  <tbody>\n",
       "    <tr>\n",
       "      <th>0</th>\n",
       "      <td>Atelier Nadar. Photographe</td>\n",
       "      <td>1875-1895</td>\n",
       "      <td>NaN</td>\n",
       "      <td>[1 photogr. pos. sur papier albuminé : d'après...</td>\n",
       "      <td>[https://gallica.bnf.fr/ark:/12148/btv1b531634...</td>\n",
       "      <td>[fre, français]</td>\n",
       "      <td>NaN</td>\n",
       "      <td>[Extrait de : [Album de référence de l'Atelier...</td>\n",
       "      <td>[domaine public, public domain]</td>\n",
       "      <td>Bibliothèque nationale de France, département ...</td>\n",
       "      <td>Portraits du théâtre -- 19e siècle</td>\n",
       "      <td>Holda. Eldorado : [photographie, tirage de dém...</td>\n",
       "      <td>[image fixe, image, still image, photographie,...</td>\n",
       "      <td>https://gallica.bnf.fr/ark:/12148/btv1b53163492h</td>\n",
       "    </tr>\n",
       "    <tr>\n",
       "      <th>1</th>\n",
       "      <td>Atelier Nadar. Photographe</td>\n",
       "      <td>1875-1895</td>\n",
       "      <td>NaN</td>\n",
       "      <td>[1 photogr. pos. sur papier albuminé : d'après...</td>\n",
       "      <td>[https://gallica.bnf.fr/ark:/12148/btv1b531634...</td>\n",
       "      <td>[fre, français]</td>\n",
       "      <td>NaN</td>\n",
       "      <td>[Extrait de : [Album de référence de l'Atelier...</td>\n",
       "      <td>[domaine public, public domain]</td>\n",
       "      <td>Bibliothèque nationale de France, département ...</td>\n",
       "      <td>Portraits du théâtre -- 19e siècle</td>\n",
       "      <td>Supra. Opéra : [photographie, tirage de démons...</td>\n",
       "      <td>[image fixe, image, still image, photographie,...</td>\n",
       "      <td>https://gallica.bnf.fr/ark:/12148/btv1b531634912</td>\n",
       "    </tr>\n",
       "    <tr>\n",
       "      <th>2</th>\n",
       "      <td>Atelier Nadar. Photographe</td>\n",
       "      <td>1875-1895</td>\n",
       "      <td>NaN</td>\n",
       "      <td>[1 photogr. pos. sur papier albuminé : d'après...</td>\n",
       "      <td>[https://gallica.bnf.fr/ark:/12148/btv1b531638...</td>\n",
       "      <td>[fre, français]</td>\n",
       "      <td>NaN</td>\n",
       "      <td>[Extrait de : [Album de référence de l'Atelier...</td>\n",
       "      <td>[domaine public, public domain]</td>\n",
       "      <td>Bibliothèque nationale de France, département ...</td>\n",
       "      <td>Portraits de studio -- 19e siècle</td>\n",
       "      <td>Bébé Ullmann : [photographie, tirage de démons...</td>\n",
       "      <td>[image fixe, image, still image, photographie,...</td>\n",
       "      <td>https://gallica.bnf.fr/ark:/12148/btv1b531638493</td>\n",
       "    </tr>\n",
       "    <tr>\n",
       "      <th>3</th>\n",
       "      <td>Atelier Nadar. Photographe</td>\n",
       "      <td>1875-1895</td>\n",
       "      <td>NaN</td>\n",
       "      <td>[1 photogr. pos. sur papier albuminé : d'après...</td>\n",
       "      <td>[https://gallica.bnf.fr/ark:/12148/btv1b531649...</td>\n",
       "      <td>[fre, français]</td>\n",
       "      <td>NaN</td>\n",
       "      <td>[Extrait de : [Album de référence de l'Atelier...</td>\n",
       "      <td>[domaine public, public domain]</td>\n",
       "      <td>Bibliothèque nationale de France, département ...</td>\n",
       "      <td>Portraits collectifs -- 19e siècle</td>\n",
       "      <td>Groupe de paysannes : [photographie, tirage de...</td>\n",
       "      <td>[image fixe, image, still image, photographie,...</td>\n",
       "      <td>https://gallica.bnf.fr/ark:/12148/btv1b53164917p</td>\n",
       "    </tr>\n",
       "    <tr>\n",
       "      <th>4</th>\n",
       "      <td>Atelier Nadar. Photographe</td>\n",
       "      <td>1875-1895</td>\n",
       "      <td>NaN</td>\n",
       "      <td>[1 photogr. pos. sur papier albuminé : d'après...</td>\n",
       "      <td>[https://gallica.bnf.fr/ark:/12148/btv1b531688...</td>\n",
       "      <td>[fre, français]</td>\n",
       "      <td>NaN</td>\n",
       "      <td>[Extrait de : [Album de référence de l'Atelier...</td>\n",
       "      <td>[domaine public, public domain]</td>\n",
       "      <td>Bibliothèque nationale de France, département ...</td>\n",
       "      <td>Portraits du théâtre -- 19e siècle</td>\n",
       "      <td>Me Debaude : [photographie, tirage de démonstr...</td>\n",
       "      <td>[image fixe, image, still image, photographie,...</td>\n",
       "      <td>https://gallica.bnf.fr/ark:/12148/btv1b531688758</td>\n",
       "    </tr>\n",
       "  </tbody>\n",
       "</table>\n",
       "</div>"
      ],
      "text/plain": [
       "                   dc:creator    dc:date dc:description  \\\n",
       "0  Atelier Nadar. Photographe  1875-1895            NaN   \n",
       "1  Atelier Nadar. Photographe  1875-1895            NaN   \n",
       "2  Atelier Nadar. Photographe  1875-1895            NaN   \n",
       "3  Atelier Nadar. Photographe  1875-1895            NaN   \n",
       "4  Atelier Nadar. Photographe  1875-1895            NaN   \n",
       "\n",
       "                                           dc:format  \\\n",
       "0  [1 photogr. pos. sur papier albuminé : d'après...   \n",
       "1  [1 photogr. pos. sur papier albuminé : d'après...   \n",
       "2  [1 photogr. pos. sur papier albuminé : d'après...   \n",
       "3  [1 photogr. pos. sur papier albuminé : d'après...   \n",
       "4  [1 photogr. pos. sur papier albuminé : d'après...   \n",
       "\n",
       "                                       dc:identifier      dc:language  \\\n",
       "0  [https://gallica.bnf.fr/ark:/12148/btv1b531634...  [fre, français]   \n",
       "1  [https://gallica.bnf.fr/ark:/12148/btv1b531634...  [fre, français]   \n",
       "2  [https://gallica.bnf.fr/ark:/12148/btv1b531638...  [fre, français]   \n",
       "3  [https://gallica.bnf.fr/ark:/12148/btv1b531649...  [fre, français]   \n",
       "4  [https://gallica.bnf.fr/ark:/12148/btv1b531688...  [fre, français]   \n",
       "\n",
       "  dc:publisher                                        dc:relation  \\\n",
       "0          NaN  [Extrait de : [Album de référence de l'Atelier...   \n",
       "1          NaN  [Extrait de : [Album de référence de l'Atelier...   \n",
       "2          NaN  [Extrait de : [Album de référence de l'Atelier...   \n",
       "3          NaN  [Extrait de : [Album de référence de l'Atelier...   \n",
       "4          NaN  [Extrait de : [Album de référence de l'Atelier...   \n",
       "\n",
       "                         dc:rights  \\\n",
       "0  [domaine public, public domain]   \n",
       "1  [domaine public, public domain]   \n",
       "2  [domaine public, public domain]   \n",
       "3  [domaine public, public domain]   \n",
       "4  [domaine public, public domain]   \n",
       "\n",
       "                                           dc:source  \\\n",
       "0  Bibliothèque nationale de France, département ...   \n",
       "1  Bibliothèque nationale de France, département ...   \n",
       "2  Bibliothèque nationale de France, département ...   \n",
       "3  Bibliothèque nationale de France, département ...   \n",
       "4  Bibliothèque nationale de France, département ...   \n",
       "\n",
       "                           dc:subject  \\\n",
       "0  Portraits du théâtre -- 19e siècle   \n",
       "1  Portraits du théâtre -- 19e siècle   \n",
       "2   Portraits de studio -- 19e siècle   \n",
       "3  Portraits collectifs -- 19e siècle   \n",
       "4  Portraits du théâtre -- 19e siècle   \n",
       "\n",
       "                                            dc:title  \\\n",
       "0  Holda. Eldorado : [photographie, tirage de dém...   \n",
       "1  Supra. Opéra : [photographie, tirage de démons...   \n",
       "2  Bébé Ullmann : [photographie, tirage de démons...   \n",
       "3  Groupe de paysannes : [photographie, tirage de...   \n",
       "4  Me Debaude : [photographie, tirage de démonstr...   \n",
       "\n",
       "                                             dc:type  \\\n",
       "0  [image fixe, image, still image, photographie,...   \n",
       "1  [image fixe, image, still image, photographie,...   \n",
       "2  [image fixe, image, still image, photographie,...   \n",
       "3  [image fixe, image, still image, photographie,...   \n",
       "4  [image fixe, image, still image, photographie,...   \n",
       "\n",
       "                                                 id  \n",
       "0  https://gallica.bnf.fr/ark:/12148/btv1b53163492h  \n",
       "1  https://gallica.bnf.fr/ark:/12148/btv1b531634912  \n",
       "2  https://gallica.bnf.fr/ark:/12148/btv1b531638493  \n",
       "3  https://gallica.bnf.fr/ark:/12148/btv1b53164917p  \n",
       "4  https://gallica.bnf.fr/ark:/12148/btv1b531688758  "
      ]
     },
     "execution_count": 9,
     "metadata": {},
     "output_type": "execute_result"
    }
   ],
   "source": [
    "df.head()"
   ]
  },
  {
   "cell_type": "markdown",
   "metadata": {},
   "source": [
    "### useless dataframes"
   ]
  },
  {
   "cell_type": "markdown",
   "metadata": {},
   "source": [
    "remove them for ease of use, next ones contain all the same content"
   ]
  },
  {
   "cell_type": "code",
   "execution_count": 10,
   "metadata": {},
   "outputs": [
    {
     "data": {
      "text/plain": [
       "[domaine public, public domain]    23550\n",
       "Name: dc:rights, dtype: int64"
      ]
     },
     "execution_count": 10,
     "metadata": {},
     "output_type": "execute_result"
    }
   ],
   "source": [
    "df['dc:rights'].value_counts()"
   ]
  },
  {
   "cell_type": "code",
   "execution_count": 11,
   "metadata": {},
   "outputs": [
    {
     "data": {
      "text/plain": [
       "[image fixe, image, still image, photographie, photograph]    23550\n",
       "Name: dc:type, dtype: int64"
      ]
     },
     "execution_count": 11,
     "metadata": {},
     "output_type": "execute_result"
    }
   ],
   "source": [
    "df['dc:type'].value_counts()"
   ]
  },
  {
   "cell_type": "code",
   "execution_count": 12,
   "metadata": {},
   "outputs": [
    {
     "data": {
      "text/plain": [
       "[fre, français]              23545\n",
       "Sans contenu linguistique        5\n",
       "Name: dc:language, dtype: int64"
      ]
     },
     "execution_count": 12,
     "metadata": {},
     "output_type": "execute_result"
    }
   ],
   "source": [
    "df['dc:language'].value_counts()"
   ]
  },
  {
   "cell_type": "code",
   "execution_count": 13,
   "metadata": {},
   "outputs": [
    {
     "data": {
      "text/plain": [
       "0    [1 photogr. pos. sur papier albuminé : d'après...\n",
       "1    [1 photogr. pos. sur papier albuminé : d'après...\n",
       "2    [1 photogr. pos. sur papier albuminé : d'après...\n",
       "3    [1 photogr. pos. sur papier albuminé : d'après...\n",
       "4    [1 photogr. pos. sur papier albuminé : d'après...\n",
       "Name: dc:format, dtype: object"
      ]
     },
     "execution_count": 13,
     "metadata": {},
     "output_type": "execute_result"
    }
   ],
   "source": [
    "df['dc:format'].head()"
   ]
  },
  {
   "cell_type": "code",
   "execution_count": 14,
   "metadata": {},
   "outputs": [
    {
     "data": {
      "text/plain": [
       "0    [https://gallica.bnf.fr/ark:/12148/btv1b531634...\n",
       "1    [https://gallica.bnf.fr/ark:/12148/btv1b531634...\n",
       "2    [https://gallica.bnf.fr/ark:/12148/btv1b531638...\n",
       "3    [https://gallica.bnf.fr/ark:/12148/btv1b531649...\n",
       "4    [https://gallica.bnf.fr/ark:/12148/btv1b531688...\n",
       "Name: dc:identifier, dtype: object"
      ]
     },
     "execution_count": 14,
     "metadata": {},
     "output_type": "execute_result"
    }
   ],
   "source": [
    "df['dc:identifier'].head()"
   ]
  },
  {
   "cell_type": "code",
   "execution_count": 15,
   "metadata": {},
   "outputs": [
    {
     "data": {
      "text/plain": [
       "Nadar (Paris)    1\n",
       "(Paris)          1\n",
       "Name: dc:publisher, dtype: int64"
      ]
     },
     "execution_count": 15,
     "metadata": {},
     "output_type": "execute_result"
    }
   ],
   "source": [
    "df['dc:publisher'].value_counts()"
   ]
  },
  {
   "cell_type": "markdown",
   "metadata": {},
   "source": [
    "### removing them"
   ]
  },
  {
   "cell_type": "code",
   "execution_count": 16,
   "metadata": {},
   "outputs": [],
   "source": [
    "del df['dc:type']\n",
    "del df['dc:language']\n",
    "del df['dc:format']\n",
    "del df['dc:identifier']\n",
    "del df['dc:rights']\n",
    "del df['dc:publisher']"
   ]
  },
  {
   "cell_type": "markdown",
   "metadata": {},
   "source": [
    "# getting information about subjects"
   ]
  },
  {
   "cell_type": "code",
   "execution_count": 17,
   "metadata": {},
   "outputs": [],
   "source": [
    "#some objects are stored as list, others arent, use if else to handle\n",
    "df['subject_is_list'] = df['dc:subject'].map(lambda x: type(x) == list)"
   ]
  },
  {
   "cell_type": "code",
   "execution_count": 18,
   "metadata": {},
   "outputs": [],
   "source": [
    "df['len_list'] = df[df.subject_is_list]['dc:subject'].map(len)"
   ]
  },
  {
   "cell_type": "markdown",
   "metadata": {},
   "source": [
    "length is non uniform ... we will have to unnest"
   ]
  },
  {
   "cell_type": "code",
   "execution_count": 19,
   "metadata": {},
   "outputs": [
    {
     "data": {
      "text/plain": [
       "2.0    12847\n",
       "3.0      748\n",
       "4.0      239\n",
       "5.0      233\n",
       "6.0       10\n",
       "7.0        9\n",
       "Name: len_list, dtype: int64"
      ]
     },
     "execution_count": 19,
     "metadata": {},
     "output_type": "execute_result"
    }
   ],
   "source": [
    "df.len_list.value_counts()"
   ]
  },
  {
   "cell_type": "code",
   "execution_count": 20,
   "metadata": {},
   "outputs": [
    {
     "data": {
      "text/plain": [
       "[Bernhardt, Sarah (1844-1923) -- Portraits, Portraits du théâtre -- 19e siècle]          266\n",
       "[Réjane (1856-1920) -- Portraits, Portraits du théâtre -- 19e siècle]                    118\n",
       "[Théo, Louise (1854-1922) -- Portraits, Portraits du théâtre -- 19e siècle]              110\n",
       "[Simon-Girard, Juliette (1859-1959) -- Portraits, Portraits du théâtre -- 19e siècle]     84\n",
       "[Lantelme, Marie -- Portraits, Portraits du théâtre -- 19e siècle]                        83\n",
       "Name: dc:subject, dtype: int64"
      ]
     },
     "execution_count": 20,
     "metadata": {},
     "output_type": "execute_result"
    }
   ],
   "source": [
    "df[df.subject_is_list]['dc:subject'].map(lambda x: x).value_counts().head()"
   ]
  },
  {
   "cell_type": "markdown",
   "metadata": {},
   "source": [
    "unnest list to get better view"
   ]
  },
  {
   "cell_type": "code",
   "execution_count": 21,
   "metadata": {},
   "outputs": [],
   "source": [
    "to_unnest = df[df.subject_is_list]['dc:subject'].tolist()\n",
    "to_unnest = df[df.subject_is_list][['dc:subject', 'id']].apply(lambda x: (x['dc:subject'], x.id), axis=1).tolist()\n",
    "unnested = [(i, id_) for (list_, id_) in to_unnest for i in list_]"
   ]
  },
  {
   "cell_type": "markdown",
   "metadata": {},
   "source": [
    "we will also need to use the title ..."
   ]
  },
  {
   "cell_type": "code",
   "execution_count": 22,
   "metadata": {},
   "outputs": [
    {
     "data": {
      "text/html": [
       "<div>\n",
       "<style scoped>\n",
       "    .dataframe tbody tr th:only-of-type {\n",
       "        vertical-align: middle;\n",
       "    }\n",
       "\n",
       "    .dataframe tbody tr th {\n",
       "        vertical-align: top;\n",
       "    }\n",
       "\n",
       "    .dataframe thead th {\n",
       "        text-align: right;\n",
       "    }\n",
       "</style>\n",
       "<table border=\"1\" class=\"dataframe\">\n",
       "  <thead>\n",
       "    <tr style=\"text-align: right;\">\n",
       "      <th></th>\n",
       "      <th>dc:subject</th>\n",
       "      <th>id</th>\n",
       "      <th>dc:title</th>\n",
       "    </tr>\n",
       "  </thead>\n",
       "  <tbody>\n",
       "    <tr>\n",
       "      <th>0</th>\n",
       "      <td>Portraits du théâtre -- 19e siècle</td>\n",
       "      <td>https://gallica.bnf.fr/ark:/12148/btv1b53163492h</td>\n",
       "      <td>Holda. Eldorado : [photographie, tirage de dém...</td>\n",
       "    </tr>\n",
       "    <tr>\n",
       "      <th>1</th>\n",
       "      <td>Portraits du théâtre -- 19e siècle</td>\n",
       "      <td>https://gallica.bnf.fr/ark:/12148/btv1b531634912</td>\n",
       "      <td>Supra. Opéra : [photographie, tirage de démons...</td>\n",
       "    </tr>\n",
       "    <tr>\n",
       "      <th>2</th>\n",
       "      <td>Portraits de studio -- 19e siècle</td>\n",
       "      <td>https://gallica.bnf.fr/ark:/12148/btv1b531638493</td>\n",
       "      <td>Bébé Ullmann : [photographie, tirage de démons...</td>\n",
       "    </tr>\n",
       "    <tr>\n",
       "      <th>3</th>\n",
       "      <td>Portraits collectifs -- 19e siècle</td>\n",
       "      <td>https://gallica.bnf.fr/ark:/12148/btv1b53164917p</td>\n",
       "      <td>Groupe de paysannes : [photographie, tirage de...</td>\n",
       "    </tr>\n",
       "    <tr>\n",
       "      <th>4</th>\n",
       "      <td>Portraits du théâtre -- 19e siècle</td>\n",
       "      <td>https://gallica.bnf.fr/ark:/12148/btv1b531688758</td>\n",
       "      <td>Me Debaude : [photographie, tirage de démonstr...</td>\n",
       "    </tr>\n",
       "  </tbody>\n",
       "</table>\n",
       "</div>"
      ],
      "text/plain": [
       "                           dc:subject  \\\n",
       "0  Portraits du théâtre -- 19e siècle   \n",
       "1  Portraits du théâtre -- 19e siècle   \n",
       "2   Portraits de studio -- 19e siècle   \n",
       "3  Portraits collectifs -- 19e siècle   \n",
       "4  Portraits du théâtre -- 19e siècle   \n",
       "\n",
       "                                                 id  \\\n",
       "0  https://gallica.bnf.fr/ark:/12148/btv1b53163492h   \n",
       "1  https://gallica.bnf.fr/ark:/12148/btv1b531634912   \n",
       "2  https://gallica.bnf.fr/ark:/12148/btv1b531638493   \n",
       "3  https://gallica.bnf.fr/ark:/12148/btv1b53164917p   \n",
       "4  https://gallica.bnf.fr/ark:/12148/btv1b531688758   \n",
       "\n",
       "                                            dc:title  \n",
       "0  Holda. Eldorado : [photographie, tirage de dém...  \n",
       "1  Supra. Opéra : [photographie, tirage de démons...  \n",
       "2  Bébé Ullmann : [photographie, tirage de démons...  \n",
       "3  Groupe de paysannes : [photographie, tirage de...  \n",
       "4  Me Debaude : [photographie, tirage de démonstr...  "
      ]
     },
     "execution_count": 22,
     "metadata": {},
     "output_type": "execute_result"
    }
   ],
   "source": [
    "df[~df.subject_is_list][['dc:subject', 'id', 'dc:title']].head()"
   ]
  },
  {
   "cell_type": "code",
   "execution_count": 23,
   "metadata": {},
   "outputs": [],
   "source": [
    "to_append = df[~df.subject_is_list][['dc:subject', 'id']].rename(columns={'dc:subject':'descriptor'})"
   ]
  },
  {
   "cell_type": "code",
   "execution_count": 24,
   "metadata": {},
   "outputs": [
    {
     "data": {
      "text/plain": [
       "30182"
      ]
     },
     "execution_count": 24,
     "metadata": {},
     "output_type": "execute_result"
    }
   ],
   "source": [
    "unnested.__len__()"
   ]
  },
  {
   "cell_type": "code",
   "execution_count": 25,
   "metadata": {},
   "outputs": [],
   "source": [
    "subject_frame = pd.DataFrame(unnested, columns=['descriptor', 'id'])"
   ]
  },
  {
   "cell_type": "code",
   "execution_count": 26,
   "metadata": {},
   "outputs": [],
   "source": [
    "subject_frame = pd.concat([subject_frame, to_append], sort=False)"
   ]
  },
  {
   "cell_type": "code",
   "execution_count": 27,
   "metadata": {},
   "outputs": [
    {
     "data": {
      "text/plain": [
       "descriptor    39646\n",
       "id            39646\n",
       "dtype: int64"
      ]
     },
     "execution_count": 27,
     "metadata": {},
     "output_type": "execute_result"
    }
   ],
   "source": [
    "subject_frame.count()"
   ]
  },
  {
   "cell_type": "markdown",
   "metadata": {},
   "source": [
    "associate each descriptior of one object (given by id)"
   ]
  },
  {
   "cell_type": "code",
   "execution_count": 28,
   "metadata": {},
   "outputs": [
    {
     "data": {
      "text/html": [
       "<div>\n",
       "<style scoped>\n",
       "    .dataframe tbody tr th:only-of-type {\n",
       "        vertical-align: middle;\n",
       "    }\n",
       "\n",
       "    .dataframe tbody tr th {\n",
       "        vertical-align: top;\n",
       "    }\n",
       "\n",
       "    .dataframe thead th {\n",
       "        text-align: right;\n",
       "    }\n",
       "</style>\n",
       "<table border=\"1\" class=\"dataframe\">\n",
       "  <thead>\n",
       "    <tr style=\"text-align: right;\">\n",
       "      <th></th>\n",
       "      <th>descriptor</th>\n",
       "      <th>id</th>\n",
       "    </tr>\n",
       "  </thead>\n",
       "  <tbody>\n",
       "    <tr>\n",
       "      <th>0</th>\n",
       "      <td>Auguez, Mathilde (1868-1955) -- Portraits</td>\n",
       "      <td>https://gallica.bnf.fr/ark:/12148/btv1b53168872x</td>\n",
       "    </tr>\n",
       "    <tr>\n",
       "      <th>1</th>\n",
       "      <td>Portraits de studio -- 19e siècle</td>\n",
       "      <td>https://gallica.bnf.fr/ark:/12148/btv1b53168872x</td>\n",
       "    </tr>\n",
       "    <tr>\n",
       "      <th>2</th>\n",
       "      <td>Auguez, Mathilde (1868-1955) -- Portraits</td>\n",
       "      <td>https://gallica.bnf.fr/ark:/12148/btv1b531688701</td>\n",
       "    </tr>\n",
       "    <tr>\n",
       "      <th>3</th>\n",
       "      <td>Portraits de studio -- 19e siècle</td>\n",
       "      <td>https://gallica.bnf.fr/ark:/12148/btv1b531688701</td>\n",
       "    </tr>\n",
       "    <tr>\n",
       "      <th>4</th>\n",
       "      <td>Bruant, Aristide (1851-1925) -- Portraits</td>\n",
       "      <td>https://gallica.bnf.fr/ark:/12148/btv1b53171770j</td>\n",
       "    </tr>\n",
       "  </tbody>\n",
       "</table>\n",
       "</div>"
      ],
      "text/plain": [
       "                                  descriptor  \\\n",
       "0  Auguez, Mathilde (1868-1955) -- Portraits   \n",
       "1          Portraits de studio -- 19e siècle   \n",
       "2  Auguez, Mathilde (1868-1955) -- Portraits   \n",
       "3          Portraits de studio -- 19e siècle   \n",
       "4  Bruant, Aristide (1851-1925) -- Portraits   \n",
       "\n",
       "                                                 id  \n",
       "0  https://gallica.bnf.fr/ark:/12148/btv1b53168872x  \n",
       "1  https://gallica.bnf.fr/ark:/12148/btv1b53168872x  \n",
       "2  https://gallica.bnf.fr/ark:/12148/btv1b531688701  \n",
       "3  https://gallica.bnf.fr/ark:/12148/btv1b531688701  \n",
       "4  https://gallica.bnf.fr/ark:/12148/btv1b53171770j  "
      ]
     },
     "execution_count": 28,
     "metadata": {},
     "output_type": "execute_result"
    }
   ],
   "source": [
    "subject_frame.head()"
   ]
  },
  {
   "cell_type": "markdown",
   "metadata": {},
   "source": [
    "do some keyword searching"
   ]
  },
  {
   "cell_type": "code",
   "execution_count": 29,
   "metadata": {},
   "outputs": [],
   "source": [
    "subject_frame['19e'] = subject_frame.descriptor.map(lambda x: x[-len('-- 19e siècle'):] == '-- 19e siècle')\n",
    "subject_frame['Portraits'] = subject_frame.descriptor.map(lambda x: 'portraits' in x.lower())"
   ]
  },
  {
   "cell_type": "code",
   "execution_count": 30,
   "metadata": {},
   "outputs": [],
   "source": [
    "is_19e = subject_frame[subject_frame['19e']].id.unique()"
   ]
  },
  {
   "cell_type": "code",
   "execution_count": 31,
   "metadata": {},
   "outputs": [
    {
     "data": {
      "text/plain": [
       "23254"
      ]
     },
     "execution_count": 31,
     "metadata": {},
     "output_type": "execute_result"
    }
   ],
   "source": [
    "subject_frame[subject_frame.Portraits].id.unique().__len__()"
   ]
  },
  {
   "cell_type": "code",
   "execution_count": 32,
   "metadata": {},
   "outputs": [],
   "source": [
    "portrait_ids = subject_frame[subject_frame.Portraits].id.unique()"
   ]
  },
  {
   "cell_type": "markdown",
   "metadata": {},
   "source": [
    "dessin humoristiques & caricatures seams important"
   ]
  },
  {
   "cell_type": "code",
   "execution_count": 33,
   "metadata": {},
   "outputs": [
    {
     "data": {
      "text/html": [
       "<div>\n",
       "<style scoped>\n",
       "    .dataframe tbody tr th:only-of-type {\n",
       "        vertical-align: middle;\n",
       "    }\n",
       "\n",
       "    .dataframe tbody tr th {\n",
       "        vertical-align: top;\n",
       "    }\n",
       "\n",
       "    .dataframe thead th {\n",
       "        text-align: right;\n",
       "    }\n",
       "</style>\n",
       "<table border=\"1\" class=\"dataframe\">\n",
       "  <thead>\n",
       "    <tr style=\"text-align: right;\">\n",
       "      <th></th>\n",
       "      <th>descriptor</th>\n",
       "      <th>id</th>\n",
       "      <th>19e</th>\n",
       "      <th>Portraits</th>\n",
       "    </tr>\n",
       "  </thead>\n",
       "  <tbody>\n",
       "    <tr>\n",
       "      <th>98</th>\n",
       "      <td>Offenbach, Jacques (1819-1880) -- Caricatures ...</td>\n",
       "      <td>https://gallica.bnf.fr/ark:/12148/btv1b53065466g</td>\n",
       "      <td>False</td>\n",
       "      <td>False</td>\n",
       "    </tr>\n",
       "    <tr>\n",
       "      <th>99</th>\n",
       "      <td>Caricatures et dessins humoristiques -- 19e si...</td>\n",
       "      <td>https://gallica.bnf.fr/ark:/12148/btv1b53065466g</td>\n",
       "      <td>True</td>\n",
       "      <td>False</td>\n",
       "    </tr>\n",
       "    <tr>\n",
       "      <th>186</th>\n",
       "      <td>Clairville (1811-1879) -- Caricatures et dessi...</td>\n",
       "      <td>https://gallica.bnf.fr/ark:/12148/btv1b53066427m</td>\n",
       "      <td>False</td>\n",
       "      <td>False</td>\n",
       "    </tr>\n",
       "    <tr>\n",
       "      <th>187</th>\n",
       "      <td>Caricatures et dessins humoristiques -- 19e si...</td>\n",
       "      <td>https://gallica.bnf.fr/ark:/12148/btv1b53066427m</td>\n",
       "      <td>True</td>\n",
       "      <td>False</td>\n",
       "    </tr>\n",
       "    <tr>\n",
       "      <th>194</th>\n",
       "      <td>Crémieux, Adolphe (1796-1880) -- Caricatures e...</td>\n",
       "      <td>https://gallica.bnf.fr/ark:/12148/btv1b53065960p</td>\n",
       "      <td>False</td>\n",
       "      <td>False</td>\n",
       "    </tr>\n",
       "  </tbody>\n",
       "</table>\n",
       "</div>"
      ],
      "text/plain": [
       "                                            descriptor  \\\n",
       "98   Offenbach, Jacques (1819-1880) -- Caricatures ...   \n",
       "99   Caricatures et dessins humoristiques -- 19e si...   \n",
       "186  Clairville (1811-1879) -- Caricatures et dessi...   \n",
       "187  Caricatures et dessins humoristiques -- 19e si...   \n",
       "194  Crémieux, Adolphe (1796-1880) -- Caricatures e...   \n",
       "\n",
       "                                                   id    19e  Portraits  \n",
       "98   https://gallica.bnf.fr/ark:/12148/btv1b53065466g  False      False  \n",
       "99   https://gallica.bnf.fr/ark:/12148/btv1b53065466g   True      False  \n",
       "186  https://gallica.bnf.fr/ark:/12148/btv1b53066427m  False      False  \n",
       "187  https://gallica.bnf.fr/ark:/12148/btv1b53066427m   True      False  \n",
       "194  https://gallica.bnf.fr/ark:/12148/btv1b53065960p  False      False  "
      ]
     },
     "execution_count": 33,
     "metadata": {},
     "output_type": "execute_result"
    }
   ],
   "source": [
    "subject_frame[~subject_frame.id.isin(portrait_ids)].head()"
   ]
  },
  {
   "cell_type": "markdown",
   "metadata": {},
   "source": [
    "we also get sculptures!"
   ]
  },
  {
   "cell_type": "code",
   "execution_count": 34,
   "metadata": {},
   "outputs": [
    {
     "data": {
      "text/plain": [
       "Scènes théâtrales -- 19e siècle                        111\n",
       "Sculpture de figures humaines                           57\n",
       "Beer, Friedrich (1846-1912) -- Oeuvres -- Sculpture     53\n",
       "Grévin, Alfred (1827-1892) -- Oeuvres -- Sculpture      53\n",
       "Caricatures et dessins humoristiques -- 19e siècle      37\n",
       "Name: descriptor, dtype: int64"
      ]
     },
     "execution_count": 34,
     "metadata": {},
     "output_type": "execute_result"
    }
   ],
   "source": [
    "subject_frame[~subject_frame.id.isin(portrait_ids)].descriptor.value_counts().head()"
   ]
  },
  {
   "cell_type": "code",
   "execution_count": 35,
   "metadata": {},
   "outputs": [],
   "source": [
    "subject_frame['caricature'] = subject_frame.descriptor.map(lambda x: 'Caricatures et dessins humoristiques' in x)"
   ]
  },
  {
   "cell_type": "code",
   "execution_count": 36,
   "metadata": {},
   "outputs": [
    {
     "data": {
      "text/plain": [
       "Scènes théâtrales -- 19e siècle                        111\n",
       "Sculpture de figures humaines                           57\n",
       "Beer, Friedrich (1846-1912) -- Oeuvres -- Sculpture     53\n",
       "Grévin, Alfred (1827-1892) -- Oeuvres -- Sculpture      53\n",
       "Vues d'intérieur -- 19e siècle                          21\n",
       "Name: descriptor, dtype: int64"
      ]
     },
     "execution_count": 36,
     "metadata": {},
     "output_type": "execute_result"
    }
   ],
   "source": [
    "subject_frame[~subject_frame.id.isin(portrait_ids) & ~subject_frame.caricature].descriptor.value_counts().head()"
   ]
  },
  {
   "cell_type": "markdown",
   "metadata": {},
   "source": [
    "## Extracting individual names:"
   ]
  },
  {
   "cell_type": "code",
   "execution_count": 37,
   "metadata": {},
   "outputs": [],
   "source": [
    "import re"
   ]
  },
  {
   "cell_type": "code",
   "execution_count": 38,
   "metadata": {},
   "outputs": [],
   "source": [
    "name = \"Grévin, Alfred (1827-1892)\"\n",
    "name_2 = \"Gobin (1982\"\n",
    "name_3 = 'Labounskaya, Marie -- Portraits'"
   ]
  },
  {
   "cell_type": "code",
   "execution_count": 92,
   "metadata": {},
   "outputs": [],
   "source": [
    "def find_names(name):\n",
    "    return re.findall('([\\S]* [\\S]* [\\S]*|[\\S]* [\\S]*|[\\S]*|[\\S]*\\, [\\S]*[ \\S*]+) \\([\\d]{2}', name)\n",
    "\n",
    "def find_names_undated(name):\n",
    "    return re.findall('([\\S]*|[\\S]*\\, [\\S]*[ \\S*]+) -- Portraits', name)"
   ]
  },
  {
   "cell_type": "code",
   "execution_count": 93,
   "metadata": {},
   "outputs": [
    {
     "data": {
      "text/plain": [
       "(['Grévin, Alfred'], ['Gobin'], ['Labounskaya, Marie'])"
      ]
     },
     "execution_count": 93,
     "metadata": {},
     "output_type": "execute_result"
    }
   ],
   "source": [
    "find_names(name), find_names(name_2), find_names_undated(name_3)"
   ]
  },
  {
   "cell_type": "code",
   "execution_count": 94,
   "metadata": {},
   "outputs": [],
   "source": [
    "subject_frame['subject_name'] = subject_frame.descriptor.map(find_names)"
   ]
  },
  {
   "cell_type": "code",
   "execution_count": 95,
   "metadata": {},
   "outputs": [],
   "source": [
    "no_name = subject_frame.subject_name.map(len) == 0\n",
    "subject_frame.loc[ no_name, 'subject_name'] = subject_frame[no_name].descriptor.map(find_names_undated)"
   ]
  },
  {
   "cell_type": "code",
   "execution_count": 96,
   "metadata": {},
   "outputs": [],
   "source": [
    "no_name = subject_frame.subject_name.map(len) == 0"
   ]
  },
  {
   "cell_type": "code",
   "execution_count": 97,
   "metadata": {},
   "outputs": [
    {
     "data": {
      "text/plain": [
       "1          Portraits de studio -- 19e siècle\n",
       "9         Portraits du théâtre -- 19e siècle\n",
       "24           Scènes théâtrales -- 19e siècle\n",
       "45                Cour et courtisans -- Iran\n",
       "48                   Portraits -- 19e siècle\n",
       "                        ...                 \n",
       "650        Portraits équestres -- 19e siècle\n",
       "3671             Expositions de photographie\n",
       "4871    Portraits de plein air -- 19e siècle\n",
       "6250                     Portraits de studio\n",
       "8457                  Paysages -- 19e siècle\n",
       "Name: descriptor, Length: 124, dtype: object"
      ]
     },
     "execution_count": 97,
     "metadata": {},
     "output_type": "execute_result"
    }
   ],
   "source": [
    "subject_frame[no_name]['descriptor'].drop_duplicates()"
   ]
  },
  {
   "cell_type": "code",
   "execution_count": 98,
   "metadata": {},
   "outputs": [],
   "source": [
    "named_subjects = subject_frame[subject_frame.subject_name.map(len) > 0].id.unique()"
   ]
  },
  {
   "cell_type": "markdown",
   "metadata": {},
   "source": [
    "number of images we can find a name to:"
   ]
  },
  {
   "cell_type": "code",
   "execution_count": 99,
   "metadata": {},
   "outputs": [
    {
     "data": {
      "text/plain": [
       "13400"
      ]
     },
     "execution_count": 99,
     "metadata": {},
     "output_type": "execute_result"
    }
   ],
   "source": [
    "len(named_subjects)"
   ]
  },
  {
   "cell_type": "markdown",
   "metadata": {},
   "source": [
    "# at most 1940"
   ]
  },
  {
   "cell_type": "code",
   "execution_count": 100,
   "metadata": {},
   "outputs": [
    {
     "data": {
      "text/plain": [
       "1940"
      ]
     },
     "execution_count": 100,
     "metadata": {},
     "output_type": "execute_result"
    }
   ],
   "source": [
    "subject_frame[subject_frame.subject_name.map(len) > 0].subject_name.map(str).unique().__len__()"
   ]
  },
  {
   "cell_type": "code",
   "execution_count": 190,
   "metadata": {},
   "outputs": [
    {
     "data": {
      "text/plain": [
       "13400"
      ]
     },
     "execution_count": 190,
     "metadata": {},
     "output_type": "execute_result"
    }
   ],
   "source": [
    "subject_frame[subject_frame.subject_name.map(len) > 0].id.unique().__len__()"
   ]
  },
  {
   "cell_type": "code",
   "execution_count": 101,
   "metadata": {},
   "outputs": [],
   "source": [
    "subject_frame.loc[~no_name, 'named_subject'] = subject_frame[~no_name].subject_name.map(lambda x: x[0])"
   ]
  },
  {
   "cell_type": "code",
   "execution_count": 102,
   "metadata": {},
   "outputs": [
    {
     "data": {
      "text/plain": [
       "Bernhardt, Sarah      424\n",
       "Réjane                168\n",
       "Théo, Louise          148\n",
       "Mily-Meyer, Emilie    136\n",
       "Brasseur, Albert      115\n",
       "Name: named_subject, dtype: int64"
      ]
     },
     "execution_count": 102,
     "metadata": {},
     "output_type": "execute_result"
    }
   ],
   "source": [
    "subject_frame.named_subject.value_counts().head()"
   ]
  },
  {
   "cell_type": "code",
   "execution_count": 119,
   "metadata": {},
   "outputs": [
    {
     "data": {
      "text/plain": [
       "Réjane       168\n",
       "Simon-Max     61\n",
       "Nadar         50\n",
       "Daubray       48\n",
       "Cassive       47\n",
       "            ... \n",
       "Stop           1\n",
       "Bertall        1\n",
       "Joséphine      1\n",
       "Stendhal       1\n",
       "Hommes         1\n",
       "Name: named_subject, Length: 87, dtype: int64"
      ]
     },
     "execution_count": 119,
     "metadata": {},
     "output_type": "execute_result"
    }
   ],
   "source": [
    "explore_names[explore_names.index.map(len) < 10]"
   ]
  },
  {
   "cell_type": "code",
   "execution_count": 189,
   "metadata": {},
   "outputs": [
    {
     "data": {
      "text/plain": [
       "1941"
      ]
     },
     "execution_count": 189,
     "metadata": {},
     "output_type": "execute_result"
    }
   ],
   "source": [
    "subject_frame.named_subject.unique().__len__()"
   ]
  },
  {
   "cell_type": "code",
   "execution_count": 125,
   "metadata": {},
   "outputs": [
    {
     "data": {
      "text/plain": [
       "True     1418\n",
       "False     522\n",
       "Name: named_subject, dtype: int64"
      ]
     },
     "execution_count": 125,
     "metadata": {},
     "output_type": "execute_result"
    }
   ],
   "source": [
    "(subject_frame.named_subject.value_counts() > 1).value_counts()"
   ]
  },
  {
   "cell_type": "code",
   "execution_count": 126,
   "metadata": {},
   "outputs": [
    {
     "data": {
      "text/plain": [
       "<matplotlib.axes._subplots.AxesSubplot at 0x1237eca90>"
      ]
     },
     "execution_count": 126,
     "metadata": {},
     "output_type": "execute_result"
    },
    {
     "data": {
      "image/png": "[encoded data removed]",
      "text/plain": [
       "<Figure size 432x288 with 1 Axes>"
      ]
     },
     "metadata": {
      "needs_background": "light"
     },
     "output_type": "display_data"
    }
   ],
   "source": [
    "explore_names = subject_frame.named_subject.value_counts()\n",
    "explore_names.hist(bins=50)"
   ]
  },
  {
   "cell_type": "markdown",
   "metadata": {},
   "source": [
    "number of names we have:"
   ]
  },
  {
   "cell_type": "code",
   "execution_count": 127,
   "metadata": {},
   "outputs": [
    {
     "data": {
      "text/plain": [
       "1940"
      ]
     },
     "execution_count": 127,
     "metadata": {},
     "output_type": "execute_result"
    }
   ],
   "source": [
    "subject_frame.named_subject.value_counts().count()"
   ]
  },
  {
   "cell_type": "markdown",
   "metadata": {},
   "source": [
    "how many resources does that correspond to:"
   ]
  },
  {
   "cell_type": "code",
   "execution_count": 128,
   "metadata": {},
   "outputs": [],
   "source": [
    "id_identified = subject_frame[subject_frame.named_subject.notna()].id.unique()"
   ]
  },
  {
   "cell_type": "markdown",
   "metadata": {},
   "source": [
    "# about half of the images belong to known person"
   ]
  },
  {
   "cell_type": "code",
   "execution_count": 129,
   "metadata": {},
   "outputs": [
    {
     "data": {
      "text/plain": [
       "13400"
      ]
     },
     "execution_count": 129,
     "metadata": {},
     "output_type": "execute_result"
    }
   ],
   "source": [
    "subject_frame[subject_frame.named_subject.notna()].id.unique().__len__()"
   ]
  },
  {
   "cell_type": "code",
   "execution_count": 130,
   "metadata": {},
   "outputs": [
    {
     "data": {
      "text/plain": [
       "23550"
      ]
     },
     "execution_count": 130,
     "metadata": {},
     "output_type": "execute_result"
    }
   ],
   "source": [
    "len(set(subject_frame.id.unique())) # nbr unique ids"
   ]
  },
  {
   "cell_type": "markdown",
   "metadata": {},
   "source": [
    "a lot of them don't tell us the name in the source, but it can be found in the title"
   ]
  },
  {
   "cell_type": "code",
   "execution_count": 131,
   "metadata": {},
   "outputs": [
    {
     "data": {
      "text/plain": [
       "10150"
      ]
     },
     "execution_count": 131,
     "metadata": {},
     "output_type": "execute_result"
    }
   ],
   "source": [
    "len(set(subject_frame.id.unique()).difference(set(id_identified)))"
   ]
  },
  {
   "cell_type": "code",
   "execution_count": 132,
   "metadata": {},
   "outputs": [
    {
     "data": {
      "text/plain": [
       "Portraits du théâtre -- 19e siècle    6130\n",
       "Portraits de studio -- 19e siècle     2513\n",
       "Portraits -- 19e siècle               1280\n",
       "Scènes théâtrales -- 19e siècle        212\n",
       "Portraits collectifs -- 19e siècle     208\n",
       "Costumes -- 19e siècle                  79\n",
       "Lanvin (Maison de couture)              67\n",
       "Danseuses                               67\n",
       "Enfants                                 55\n",
       "Tournée Brasseur                        44\n",
       "Name: descriptor, dtype: int64"
      ]
     },
     "execution_count": 132,
     "metadata": {},
     "output_type": "execute_result"
    }
   ],
   "source": [
    "subject_frame[~subject_frame.id.isin(named_subjects)].descriptor.value_counts().head(10)"
   ]
  },
  {
   "cell_type": "code",
   "execution_count": 133,
   "metadata": {},
   "outputs": [
    {
     "data": {
      "text/plain": [
       "Scènes théâtrales -- 19e siècle                     111\n",
       "Représentations d'objet -- 19e siècle                17\n",
       "Représentations animalières -- 19e siècle            12\n",
       "Tableaux vivants et mises en scène -- 19e siècle     10\n",
       "Tournée Brasseur                                      8\n",
       "Name: descriptor, dtype: int64"
      ]
     },
     "execution_count": 133,
     "metadata": {},
     "output_type": "execute_result"
    }
   ],
   "source": [
    "subject_frame[~subject_frame.id.isin(portrait_ids) & ~subject_frame.id.isin(named_subjects)].descriptor.value_counts().head()"
   ]
  },
  {
   "cell_type": "code",
   "execution_count": 134,
   "metadata": {},
   "outputs": [
    {
     "data": {
      "text/html": [
       "<div>\n",
       "<style scoped>\n",
       "    .dataframe tbody tr th:only-of-type {\n",
       "        vertical-align: middle;\n",
       "    }\n",
       "\n",
       "    .dataframe tbody tr th {\n",
       "        vertical-align: top;\n",
       "    }\n",
       "\n",
       "    .dataframe thead th {\n",
       "        text-align: right;\n",
       "    }\n",
       "</style>\n",
       "<table border=\"1\" class=\"dataframe\">\n",
       "  <thead>\n",
       "    <tr style=\"text-align: right;\">\n",
       "      <th></th>\n",
       "      <th>descriptor</th>\n",
       "      <th>id</th>\n",
       "      <th>19e</th>\n",
       "      <th>Portraits</th>\n",
       "      <th>caricature</th>\n",
       "      <th>subject_name</th>\n",
       "      <th>named_subject</th>\n",
       "    </tr>\n",
       "  </thead>\n",
       "  <tbody>\n",
       "    <tr>\n",
       "      <th>98</th>\n",
       "      <td>Offenbach, Jacques (1819-1880) -- Caricatures ...</td>\n",
       "      <td>https://gallica.bnf.fr/ark:/12148/btv1b53065466g</td>\n",
       "      <td>False</td>\n",
       "      <td>False</td>\n",
       "      <td>True</td>\n",
       "      <td>[Offenbach, Jacques]</td>\n",
       "      <td>Offenbach, Jacques</td>\n",
       "    </tr>\n",
       "    <tr>\n",
       "      <th>99</th>\n",
       "      <td>Caricatures et dessins humoristiques -- 19e si...</td>\n",
       "      <td>https://gallica.bnf.fr/ark:/12148/btv1b53065466g</td>\n",
       "      <td>True</td>\n",
       "      <td>False</td>\n",
       "      <td>True</td>\n",
       "      <td>[]</td>\n",
       "      <td>NaN</td>\n",
       "    </tr>\n",
       "    <tr>\n",
       "      <th>186</th>\n",
       "      <td>Clairville (1811-1879) -- Caricatures et dessi...</td>\n",
       "      <td>https://gallica.bnf.fr/ark:/12148/btv1b53066427m</td>\n",
       "      <td>False</td>\n",
       "      <td>False</td>\n",
       "      <td>True</td>\n",
       "      <td>[Clairville]</td>\n",
       "      <td>Clairville</td>\n",
       "    </tr>\n",
       "    <tr>\n",
       "      <th>187</th>\n",
       "      <td>Caricatures et dessins humoristiques -- 19e si...</td>\n",
       "      <td>https://gallica.bnf.fr/ark:/12148/btv1b53066427m</td>\n",
       "      <td>True</td>\n",
       "      <td>False</td>\n",
       "      <td>True</td>\n",
       "      <td>[]</td>\n",
       "      <td>NaN</td>\n",
       "    </tr>\n",
       "    <tr>\n",
       "      <th>194</th>\n",
       "      <td>Crémieux, Adolphe (1796-1880) -- Caricatures e...</td>\n",
       "      <td>https://gallica.bnf.fr/ark:/12148/btv1b53065960p</td>\n",
       "      <td>False</td>\n",
       "      <td>False</td>\n",
       "      <td>True</td>\n",
       "      <td>[Crémieux, Adolphe]</td>\n",
       "      <td>Crémieux, Adolphe</td>\n",
       "    </tr>\n",
       "  </tbody>\n",
       "</table>\n",
       "</div>"
      ],
      "text/plain": [
       "                                            descriptor  \\\n",
       "98   Offenbach, Jacques (1819-1880) -- Caricatures ...   \n",
       "99   Caricatures et dessins humoristiques -- 19e si...   \n",
       "186  Clairville (1811-1879) -- Caricatures et dessi...   \n",
       "187  Caricatures et dessins humoristiques -- 19e si...   \n",
       "194  Crémieux, Adolphe (1796-1880) -- Caricatures e...   \n",
       "\n",
       "                                                   id    19e  Portraits  \\\n",
       "98   https://gallica.bnf.fr/ark:/12148/btv1b53065466g  False      False   \n",
       "99   https://gallica.bnf.fr/ark:/12148/btv1b53065466g   True      False   \n",
       "186  https://gallica.bnf.fr/ark:/12148/btv1b53066427m  False      False   \n",
       "187  https://gallica.bnf.fr/ark:/12148/btv1b53066427m   True      False   \n",
       "194  https://gallica.bnf.fr/ark:/12148/btv1b53065960p  False      False   \n",
       "\n",
       "     caricature          subject_name       named_subject  \n",
       "98         True  [Offenbach, Jacques]  Offenbach, Jacques  \n",
       "99         True                    []                 NaN  \n",
       "186        True          [Clairville]          Clairville  \n",
       "187        True                    []                 NaN  \n",
       "194        True   [Crémieux, Adolphe]   Crémieux, Adolphe  "
      ]
     },
     "execution_count": 134,
     "metadata": {},
     "output_type": "execute_result"
    }
   ],
   "source": [
    "subject_frame[~subject_frame.id.isin(portrait_ids)].head()"
   ]
  },
  {
   "cell_type": "code",
   "execution_count": 135,
   "metadata": {},
   "outputs": [
    {
     "data": {
      "text/plain": [
       "1    23518\n",
       "2       32\n",
       "Name: dc:title, dtype: int64"
      ]
     },
     "execution_count": 135,
     "metadata": {},
     "output_type": "execute_result"
    }
   ],
   "source": [
    "df['dc:title'].map(lambda x: len(x) if type(x) == list else 1).value_counts()"
   ]
  },
  {
   "cell_type": "code",
   "execution_count": 136,
   "metadata": {},
   "outputs": [],
   "source": [
    "df['nbr_title'] = df['dc:title'].map(lambda x: len(x) if type(x) == list else 1)"
   ]
  },
  {
   "cell_type": "code",
   "execution_count": 137,
   "metadata": {},
   "outputs": [
    {
     "data": {
      "text/plain": [
       "['[M. Bonvin] : [photographie, tirage de démonstration] / [Atelier Nadar]',\n",
       " 'Me Juliette Darcourt. Châtelet. \"Le chat du diable\" : [photographie, tirage de démonstration] / [Atelier Nadar]',\n",
       " 'M. Desbarolles : [photographie, tirage de démonstration] / [Atelier Nadar]',\n",
       " 'Me Rivolta : [photographie, tirage de démonstration] / [Atelier Nadar]',\n",
       " 'Dieudonné : [photographie, tirage de démonstration] / [Atelier Nadar]',\n",
       " 'Jean-Paul, Bouffes Parisiens : [photographie, tirage de démonstration] / [Atelier Nadar]',\n",
       " '[Dharville. Renaissance] : [photographie, tirage de démonstration] / [Atelier Nadar]',\n",
       " 'Me Eames : [photographie, tirage de démonstration] / [Atelier Nadar]',\n",
       " '[Portrait de Clary] : [photographie, tirage de démonstration] / [Atelier Nadar]',\n",
       " 'Laura Schirmer : [photographie, tirage de démonstration] / [Atelier Nadar]']"
      ]
     },
     "execution_count": 137,
     "metadata": {},
     "output_type": "execute_result"
    }
   ],
   "source": [
    "df[df.nbr_title == 1]['dc:title'].sample(10).tolist()"
   ]
  },
  {
   "cell_type": "code",
   "execution_count": 138,
   "metadata": {},
   "outputs": [],
   "source": [
    "def find_names_title(name):\n",
    "    return [x.strip() for x in re.findall('([\\S\\s ^(\\:)]*) \\: ', name) if len(x.strip()) > 0]"
   ]
  },
  {
   "cell_type": "code",
   "execution_count": 139,
   "metadata": {},
   "outputs": [],
   "source": [
    "def extract_from_brackets(name):\n",
    "    return re.findall('\\[([\\w \\-\\,\\.]*)\\]', name)"
   ]
  },
  {
   "cell_type": "code",
   "execution_count": 140,
   "metadata": {},
   "outputs": [],
   "source": [
    "def fix_bad_naming(name):\n",
    "    return re.sub('[\\[\\]]*', '', name)"
   ]
  },
  {
   "cell_type": "code",
   "execution_count": 141,
   "metadata": {},
   "outputs": [],
   "source": [
    "text_1 = 'Huguet. Folies-Dramatiques. La petite fronde : [photographie, tirage de démonstration] / [Atelier Nadar]'"
   ]
  },
  {
   "cell_type": "code",
   "execution_count": 142,
   "metadata": {},
   "outputs": [],
   "source": [
    "text_2 = 'Armand.[lol] Châtelet : [photographie :,'"
   ]
  },
  {
   "cell_type": "code",
   "execution_count": 143,
   "metadata": {},
   "outputs": [
    {
     "data": {
      "text/plain": [
       "'Armand.lol Châtelet : photographie :,'"
      ]
     },
     "execution_count": 143,
     "metadata": {},
     "output_type": "execute_result"
    }
   ],
   "source": [
    "fix_bad_naming(text_2)"
   ]
  },
  {
   "cell_type": "code",
   "execution_count": 144,
   "metadata": {},
   "outputs": [
    {
     "data": {
      "text/plain": [
       "['photographie, tirage de démonstration', 'Atelier Nadar']"
      ]
     },
     "execution_count": 144,
     "metadata": {},
     "output_type": "execute_result"
    }
   ],
   "source": [
    "extract_from_brackets(text_1)"
   ]
  },
  {
   "cell_type": "code",
   "execution_count": 145,
   "metadata": {},
   "outputs": [
    {
     "data": {
      "text/plain": [
       "[photographie, tirage de démonstration, Atelier Nadar]                                           14929\n",
       "[lle, photographie, tirage de démonstration, Atelier Nadar]                                       1008\n",
       "[me, photographie, tirage de démonstration, Atelier Nadar]                                         110\n",
       "[Renaissance. En scène, mesdemoiselles, photographie, tirage de démonstration, Atelier Nadar]       51\n",
       "[i.e. Lantelme, photographie, tirage de démonstration, Atelier Nadar]                               45\n",
       "Name: dc:title, dtype: int64"
      ]
     },
     "execution_count": 145,
     "metadata": {},
     "output_type": "execute_result"
    }
   ],
   "source": [
    "df[df.nbr_title == 1]['dc:title'].map(extract_from_brackets).value_counts().head()"
   ]
  },
  {
   "cell_type": "code",
   "execution_count": 146,
   "metadata": {},
   "outputs": [],
   "source": [
    "df.loc[df.nbr_title == 1, 'first_title'] = df[df.nbr_title == 1]['dc:title'].map(find_names_title)"
   ]
  },
  {
   "cell_type": "code",
   "execution_count": 147,
   "metadata": {},
   "outputs": [
    {
     "data": {
      "text/plain": [
       "1    23517\n",
       "0        1\n",
       "Name: first_title, dtype: int64"
      ]
     },
     "execution_count": 147,
     "metadata": {},
     "output_type": "execute_result"
    }
   ],
   "source": [
    "df.first_title.dropna().map(len).value_counts()"
   ]
  },
  {
   "cell_type": "code",
   "execution_count": 148,
   "metadata": {},
   "outputs": [
    {
     "data": {
      "text/plain": [
       "['[Gabrielle Figuet / [Atelier Nadar]']"
      ]
     },
     "execution_count": 148,
     "metadata": {},
     "output_type": "execute_result"
    }
   ],
   "source": [
    "df[df.first_title.map(lambda x: len(x)==0 if type(x) ==list else False)]['dc:title'].tolist()"
   ]
  },
  {
   "cell_type": "code",
   "execution_count": 149,
   "metadata": {},
   "outputs": [],
   "source": [
    "df.loc[df.first_title.notna(), 'first_title'] = df[\n",
    "    df.first_title.notna()].first_title.map(\n",
    "    lambda x: fix_bad_naming(x[0]) if len(x)>0  else x)#.value_counts()"
   ]
  },
  {
   "cell_type": "code",
   "execution_count": 150,
   "metadata": {},
   "outputs": [
    {
     "data": {
      "text/plain": [
       "dc:creator         23550\n",
       "dc:date            23550\n",
       "dc:description       180\n",
       "dc:relation        23550\n",
       "dc:source          23550\n",
       "dc:subject         23550\n",
       "dc:title           23550\n",
       "id                 23550\n",
       "subject_is_list    23550\n",
       "len_list           14086\n",
       "nbr_title          23550\n",
       "first_title        23518\n",
       "dtype: int64"
      ]
     },
     "execution_count": 150,
     "metadata": {},
     "output_type": "execute_result"
    }
   ],
   "source": [
    "df.count()"
   ]
  },
  {
   "cell_type": "code",
   "execution_count": 151,
   "metadata": {},
   "outputs": [],
   "source": [
    "df = pd.merge(df, subject_frame[['id', 'named_subject']].dropna(), on='id', how='outer')"
   ]
  },
  {
   "cell_type": "code",
   "execution_count": 152,
   "metadata": {},
   "outputs": [
    {
     "data": {
      "text/plain": [
       "dc:creator         24332\n",
       "dc:date            24332\n",
       "dc:description       187\n",
       "dc:relation        24332\n",
       "dc:source          24332\n",
       "dc:subject         24332\n",
       "dc:title           24332\n",
       "id                 24332\n",
       "subject_is_list    24332\n",
       "len_list           14868\n",
       "nbr_title          24332\n",
       "first_title        24300\n",
       "named_subject      14182\n",
       "dtype: int64"
      ]
     },
     "execution_count": 152,
     "metadata": {},
     "output_type": "execute_result"
    }
   ],
   "source": [
    "df.count()"
   ]
  },
  {
   "cell_type": "code",
   "execution_count": 153,
   "metadata": {
    "scrolled": false
   },
   "outputs": [],
   "source": [
    "df.loc[df.first_title.isna() & df['dc:title'].notna(), 'first_title'] = df[    df.first_title.isna( )& df['dc:title'].notna()]['dc:title'].map(lambda x: fix_bad_naming(find_names_title(x[0])[0])).tolist()"
   ]
  },
  {
   "cell_type": "code",
   "execution_count": 216,
   "metadata": {},
   "outputs": [
    {
     "data": {
      "text/plain": [
       "113"
      ]
     },
     "execution_count": 216,
     "metadata": {},
     "output_type": "execute_result"
    }
   ],
   "source": [
    "df[df.named_subject.isna()]['dc:subject'].value_counts().index.tolist().__len__()"
   ]
  },
  {
   "cell_type": "code",
   "execution_count": 203,
   "metadata": {},
   "outputs": [
    {
     "data": {
      "text/plain": [
       "False    15901\n",
       "Name: named_subject, dtype: int64"
      ]
     },
     "execution_count": 203,
     "metadata": {},
     "output_type": "execute_result"
    }
   ],
   "source": [
    "df.named_subject.dropna().map(lambda x: 'Charlaviski' in x).value_counts()"
   ]
  },
  {
   "cell_type": "code",
   "execution_count": 159,
   "metadata": {},
   "outputs": [
    {
     "data": {
      "text/plain": [
       "3                                      Groupe de paysannes\n",
       "24                     Groupe. Folies-Dramatiques. Juanita\n",
       "103          Groupe de six acteurs. (Gaîté). \"Le Talisman\"\n",
       "616                                   Société Colombophile\n",
       "637                                              Pyrénéens\n",
       "2247                      Groupe. En scène, mesdemoiselles\n",
       "3054                       Rédaction du journal \"Le Droit\"\n",
       "3306     Groupe. (Renaissance). \"En scène, mesdemoiselles\"\n",
       "4217             Souris. Châtelet groupe d'enfants acteurs\n",
       "5235     Mlles Barbier, Margueritte, Millia. Nouveau Ci...\n",
       "6307                                  Congrès astronomique\n",
       "6861                      Pons de Léon I. e. Ponce de Leon\n",
       "7724                  Mis Pons de Léon i. e. Ponce de Leon\n",
       "9090         Groupe. Renaissance. En scène, mesdemoiselles\n",
       "9107                  Groupe. Renaissance. L'hôtel Godelot\n",
       "10458       Groupe. (Renaissance). Les 12 femmes de Japhet\n",
       "10465          Groupe petit Poucet. Gaîté. Le petit Poucet\n",
       "10855                             Groupe. Madame Sans-Gêne\n",
       "12066    Groupe d'acteurs. Folies-Dramatiques. Miss Rob...\n",
       "12821               Groupe acteurs. (Gaîté). \"Le Talisman\"\n",
       "13552           Me Aurat. Gaîté. Les cloches de Corneville\n",
       "13763                            Mlles Suzanne et Lucienne\n",
       "14707      Groupe. Théâtre de la Gaîté. La fée aux chèvres\n",
       "14711      Groupe. Théâtre de la Gaîté. La fée aux chèvres\n",
       "14715      Groupe. Théâtre de la Gaîté. La fée aux chèvres\n",
       "15012      Groupe. Théâtre de la Gaîté. La fée aux chèvres\n",
       "15014      Groupe. Théâtre de la Gaîté. La fée aux chèvres\n",
       "15017    Groupe de cueillette de pommes. Gaîté. Les clo...\n",
       "15022    Groupe de cueillette de pommes. Gaîté. Les clo...\n",
       "15042    Groupe de 5 cinq personnes. Gaîté. Troisième H...\n",
       "16457                          Mille et une Nuits (Groupe)\n",
       "16595                                            Pyrénéens\n",
       "17042                    Groupe. Gaîté. La fée aux chèvres\n",
       "17396    Portrait de femmes non identifiées. Folies-Dra...\n",
       "17540           Me Aurat. Gaîté. Les cloches de Corneville\n",
       "18615    Groupe de femmes et Me Aline Vauthier. Folies-...\n",
       "18625    Groupe sept personnes. Gaîté. Le troisième Hus...\n",
       "18941      Groupe. Théâtre de la Gaîté. La fée aux chèvres\n",
       "19250      Groupe. Théâtre de la Gaîté. La fée aux chèvres\n",
       "19780                             Groupe. Madame Sans-Gêne\n",
       "20359    M. Dacheux et 5 personnes. Folies -Dramatiques...\n",
       "20591    Mlles Barbier, Margueritte, Millia. (Nouveau C...\n",
       "23017                        Groupe Douze femmes de Japhet\n",
       "23694      Groupe. Théâtre de la Gaîté. La fée aux chèvres\n",
       "Name: first_title, dtype: object"
      ]
     },
     "execution_count": 159,
     "metadata": {},
     "output_type": "execute_result"
    }
   ],
   "source": [
    "df[df.first_title.notna() & df.named_subject.isna() & df['dc:subject'].map(lambda x: 'collectifs' in x)].first_title"
   ]
  },
  {
   "cell_type": "markdown",
   "metadata": {},
   "source": [
    "## now that we have extracted names for most people, get years lived where available (from subject)"
   ]
  },
  {
   "cell_type": "code",
   "execution_count": 160,
   "metadata": {},
   "outputs": [],
   "source": [
    "def get_years(string):\n",
    "    x = re.findall('\\(([\\d{4}  -]+)\\)', string)\n",
    "    if len(x) == 0:\n",
    "        return None\n",
    "    return x[0]\n",
    "\n",
    "def get_years_special(string):\n",
    "    x = re.findall('\\(([\\d{4}\\d{2}  -\\.\\?]+)[\\S \\;]*\\)', string)\n",
    "    if len(x) == 0:\n",
    "        return None\n",
    "    return x[0]"
   ]
  },
  {
   "cell_type": "code",
   "execution_count": 161,
   "metadata": {},
   "outputs": [],
   "source": [
    "subject_frame['years'] = subject_frame.descriptor.map(get_years) "
   ]
  },
  {
   "cell_type": "code",
   "execution_count": 162,
   "metadata": {},
   "outputs": [
    {
     "data": {
      "text/plain": [
       "'18..-1928'"
      ]
     },
     "execution_count": 162,
     "metadata": {},
     "output_type": "execute_result"
    }
   ],
   "source": [
    "get_years_special('Febvre, Paul (18..-1928)')"
   ]
  },
  {
   "cell_type": "markdown",
   "metadata": {},
   "source": [
    "41 for which we can't find perfect match"
   ]
  },
  {
   "cell_type": "code",
   "execution_count": 163,
   "metadata": {},
   "outputs": [
    {
     "data": {
      "text/plain": [
       "descriptor       3180\n",
       "id               3180\n",
       "19e              3180\n",
       "Portraits        3180\n",
       "caricature       3180\n",
       "subject_name     3180\n",
       "named_subject    3180\n",
       "years               0\n",
       "dtype: int64"
      ]
     },
     "execution_count": 163,
     "metadata": {},
     "output_type": "execute_result"
    }
   ],
   "source": [
    "unmatched = subject_frame.years.isna() & subject_frame.descriptor.map(lambda x: '(1' in x)\n",
    "subject_frame[unmatched].count()"
   ]
  },
  {
   "cell_type": "code",
   "execution_count": 164,
   "metadata": {},
   "outputs": [
    {
     "data": {
      "text/plain": [
       "12              Decroza, Francine (1868-19..) -- Portraits\n",
       "23              Decroza, Francine (1868-19..) -- Portraits\n",
       "26              Decroza, Francine (1868-19..) -- Portraits\n",
       "34               Dauville, Louise (18..-19..) -- Portraits\n",
       "44       Nâser ed-Din (1831-1896 ; shah d'Iran) -- Port...\n",
       "                               ...                        \n",
       "30152    Montbazon, Marie (18..-19.. ; actrice) -- Port...\n",
       "30160    Baréty, Henriette (18..-19..? ; actrice) -- Po...\n",
       "30162    Baréty, Henriette (18..-19..? ; actrice) -- Po...\n",
       "30164    Baréty, Henriette (18..-19..? ; actrice) -- Po...\n",
       "8294               Luco, François (18..-1882) -- Portraits\n",
       "Name: descriptor, Length: 3180, dtype: object"
      ]
     },
     "execution_count": 164,
     "metadata": {},
     "output_type": "execute_result"
    }
   ],
   "source": [
    "subject_frame[unmatched].descriptor"
   ]
  },
  {
   "cell_type": "code",
   "execution_count": 165,
   "metadata": {},
   "outputs": [],
   "source": [
    "subject_frame.loc[unmatched, 'years'] = subject_frame[unmatched].descriptor.map(get_years_special)"
   ]
  },
  {
   "cell_type": "code",
   "execution_count": 166,
   "metadata": {},
   "outputs": [
    {
     "data": {
      "text/plain": [
       "13053"
      ]
     },
     "execution_count": 166,
     "metadata": {},
     "output_type": "execute_result"
    }
   ],
   "source": [
    "subject_frame[subject_frame.years.notna()].id.unique().__len__()"
   ]
  },
  {
   "cell_type": "code",
   "execution_count": 167,
   "metadata": {},
   "outputs": [],
   "source": [
    "id_years = subject_frame[subject_frame.years.notna()].id.unique()"
   ]
  },
  {
   "cell_type": "code",
   "execution_count": 168,
   "metadata": {},
   "outputs": [],
   "source": [
    "df = pd.merge(df, subject_frame[['id', 'years']].dropna(), on='id', how='outer')"
   ]
  },
  {
   "cell_type": "markdown",
   "metadata": {},
   "source": [
    "we never have more than one named individual ... it seems"
   ]
  },
  {
   "cell_type": "code",
   "execution_count": 169,
   "metadata": {},
   "outputs": [
    {
     "data": {
      "text/plain": [
       "False    26051\n",
       "Name: named_subject, dtype: int64"
      ]
     },
     "execution_count": 169,
     "metadata": {},
     "output_type": "execute_result"
    }
   ],
   "source": [
    "(df.groupby(id).named_subject.count() > 1).value_counts()"
   ]
  },
  {
   "cell_type": "markdown",
   "metadata": {},
   "source": [
    "# we can't get year or name of subject, who are we looking at"
   ]
  },
  {
   "cell_type": "code",
   "execution_count": 173,
   "metadata": {},
   "outputs": [
    {
     "data": {
      "text/plain": [
       "dc:creator         10497\n",
       "dc:date            10497\n",
       "dc:description       140\n",
       "dc:relation        10497\n",
       "dc:source          10497\n",
       "dc:subject         10497\n",
       "dc:title           10497\n",
       "id                 10497\n",
       "subject_is_list    10497\n",
       "len_list            1041\n",
       "nbr_title          10497\n",
       "first_title        10497\n",
       "named_subject        347\n",
       "years                  0\n",
       "dtype: int64"
      ]
     },
     "execution_count": 173,
     "metadata": {},
     "output_type": "execute_result"
    }
   ],
   "source": [
    "df[df.named_subject.isna() | df.years.isna()].count()"
   ]
  },
  {
   "cell_type": "code",
   "execution_count": 187,
   "metadata": {},
   "outputs": [
    {
     "data": {
      "text/plain": [
       "Mlle Bucourt : [photographie, tirage de démonstration] / [Atelier Nadar]                                              1\n",
       "Cuisinier du Shah de Perse : [photographie, tirage de démonstration] / [Atelier Nadar]                                2\n",
       "Mlle Leloir. Gaîté. Bicyclistes en voyage : [photographie, tirage de démonstration] / [Atelier Nadar]                 1\n",
       "Mme Rolla : [photographie, tirage de démonstration] / [Atelier Nadar]                                                 1\n",
       "[Begat. Renaissance. Petite mariée] : [photographie, tirage de démonstration] / [Atelier Nadar]                       2\n",
       "M[lle] Daume : [photographie, tirage de démonstration] / [Atelier Nadar]                                              1\n",
       "De Cléry : [photographie, tirage de démonstration] / [Atelier Nadar]                                                  5\n",
       "Me Bouit. Folies Dramatiques. Les petits mousquetaires : [photographie, tirage de démonstration] / [Atelier Nadar]    2\n",
       "Ainée [Kruger de Vercy] : [photographie, tirage de démonstration] / [Atelier Nadar]                                   3\n",
       "[Miss Potter i.e. Potters]. Américaine. Actrice : [photographie, tirage de démonstration] / [Atelier Nadar]           1\n",
       "Name: dc:title, dtype: int64"
      ]
     },
     "execution_count": 187,
     "metadata": {},
     "output_type": "execute_result"
    }
   ],
   "source": [
    "df[\n",
    "    df.named_subject.isna() |\\\n",
    "    df.years.isna() &\\\n",
    "    df['dc:subject'].map(lambda x: 'Portraits de studio -- 19e siècle' in x) &\\\n",
    "    ~df['dc:subject'].map(lambda x: 'Théâtre' in x)\n",
    "]['dc:title'].value_counts().sample(10)"
   ]
  },
  {
   "cell_type": "code",
   "execution_count": 279,
   "metadata": {},
   "outputs": [],
   "source": [
    "matches = df['dc:title'].map(lambda x: re.match('(?!\\:)([\\s\\S]*) :', str(x)))"
   ]
  },
  {
   "cell_type": "code",
   "execution_count": 280,
   "metadata": {},
   "outputs": [
    {
     "data": {
      "text/plain": [
       "24768    [Gabrielle Figuet / [Atelier Nadar]\n",
       "Name: dc:title, dtype: object"
      ]
     },
     "execution_count": 280,
     "metadata": {},
     "output_type": "execute_result"
    }
   ],
   "source": [
    "df[matches.isna()]['dc:title']"
   ]
  },
  {
   "cell_type": "code",
   "execution_count": 286,
   "metadata": {},
   "outputs": [
    {
     "data": {
      "text/plain": [
       "['Statuettes Grévin ',\n",
       " 'Rosa, Josepha ',\n",
       " 'Groupes Théodora. Sarah Bernhardt et M. Laurent. Porte St Martin ',\n",
       " 'Groupes Théodora. Porte St-Martin. Sarah Bernhardt et M. Laurent ',\n",
       " 'Portrait composite des frères Reclus ',\n",
       " 'Sarah Bernhardt. Porte Saint-Martin. La Tosca ',\n",
       " 'Groupe Poucet Albert, Duhamel, Christian, Scipion. Gaîté. Petit Poucet ',\n",
       " 'Ghinassi ',\n",
       " \"Sarah Bernhardt. Porte Saint-Martin. Jeanne d'Arc \",\n",
       " 'Chevreul père et fils, Nadar ',\n",
       " 'Depoix et Larcher. Menus Plaisirs. \"Ma femme manque de chic\" ',\n",
       " 'H. Petit et Angelo. Ambigu. \"Assommoir\" ',\n",
       " 'Me Debriège ',\n",
       " 'Mary Anderson. Anglaise ',\n",
       " 'Sarah et Berton. Porte Saint-Martin. La Tosca ',\n",
       " 'Febvre et Reichemberg i.e. Reichenberg. Français \"L\\'Ami Fritz\" ',\n",
       " 'Sarah Bernhardt ',\n",
       " 'Deval et Max et Sarah Bernhardt. (Renaissance). \"Gismonda\" ',\n",
       " 'Granier, Vauthier. Gaîté. Orphée aux enfers ',\n",
       " 'Marie-Thérèse ',\n",
       " 'Mme Méaly et M. Fugère. (Gaîté). Le Talisman ',\n",
       " 'Réjane ',\n",
       " 'Albert, Duhamel, Christian, Scipion. Gaîté. Petit Poucet ',\n",
       " 'Chevreul, Nadar ',\n",
       " 'H. Petit et Gil Naza. Ambigu. \"Assommoir\" ',\n",
       " 'Ambassade japonaise ',\n",
       " 'Hélène Petit. Ambigu. Assommoir ',\n",
       " 'Ambassade Siamoise ',\n",
       " 'Modes Lanvin ',\n",
       " 'Girard ',\n",
       " 'Lanthelme i.e. Lantelme. Nouveautés. Adam et Eve ',\n",
       " 'Sarah Bernhardt. Porte St-Martin. \"Macbeth\" ',\n",
       " 'Miss Langtry. Actrice anglaise ',\n",
       " 'Chevreul, Bordas, Nadar ',\n",
       " 'Mlle Peschard ',\n",
       " 'Gabrielle ',\n",
       " \"Hadamard, Crosnier, Lambert. Odéon. L'Arlésienne \",\n",
       " 'Marie-Thérèse. Variétés ',\n",
       " 'Reclus frères ',\n",
       " \"Portrait d'une femme \",\n",
       " \"Portrait d'un homme \",\n",
       " 'Mlle Drunzer. Vaudeville ',\n",
       " 'Capoul et Ritter. Lyrique. \"Paul et Virginie\" ',\n",
       " 'Sarah Bernhardt, Pierre Berton. Porte Saint-Martin. La Tosca ',\n",
       " 'Hading et Montbars ',\n",
       " 'Gélabert ',\n",
       " 'H. Petit et L. Munte. Ambigu. \"Assommoir\" ',\n",
       " \"Portrait d'une femme non identifiée \",\n",
       " 'Me Demarsy. (Gymnase). \"Mon oncle Barbassou\" ',\n",
       " 'Jaeger ',\n",
       " 'Me Sarah Bernhardt. (Renaissance). Izeyl ',\n",
       " 'Sarah Bernhardt. Porte Saint-Martin. Théodora ',\n",
       " 'Detaille. Peintre ',\n",
       " 'Sorel. Nouveautés ',\n",
       " 'Leriche ',\n",
       " 'Pasca ',\n",
       " 'Samary. Français ',\n",
       " 'Andrée Dalti ',\n",
       " 'Ellen Andrée ',\n",
       " 'Me Cernay ',\n",
       " \"Sarah Bernhardt. Jeanne d'Arc \",\n",
       " 'Soukaret. 1er prix de beauté de Spa ',\n",
       " 'Me Wyns ',\n",
       " 'Loetitia. Châtelet. \"La queue du chat\" ',\n",
       " 'Granier et Meyer. Renaissance. \"Petit Duc\" ',\n",
       " 'Mary Albert ',\n",
       " 'Pierson i.e. Pierron Soulacroix. Opéra-Comique. Plutus ',\n",
       " 'Mes J. Granier et G. Gallois. (Porte Saint-Martin). \"Voyage dans la lune\" ',\n",
       " 'Capoul et Heilbronn. Lyrique. \"Paul et Virginie\" ',\n",
       " 'M. Fenoux et Mlle Vanda i.e. Wanda de Boncza. (Odéon). \"Pour la couronne\" ',\n",
       " 'Sa Majesté le prince de Galles ',\n",
       " 'Chevreul, Nadar et Bordas ',\n",
       " 'Christian, Duhamel. Gaîté. Petit Poucet ',\n",
       " 'Mlle Gélabert ',\n",
       " 'Me Cassive. Gaîté. Le voyage de Suzette ',\n",
       " 'Mme Prelly. Folies dramatiques ',\n",
       " 'Mlle Peschard. Gaîté ',\n",
       " 'Montbazon ',\n",
       " 'Leriche, Larcher, Raymond. Renaissance. Cocard et Bicoquet ',\n",
       " 'Napoléon et ses fils ',\n",
       " 'Modes. Lanvin ',\n",
       " 'Mauri, Ottolini, Mérante ',\n",
       " 'Montbazon, Morlet, Lamy. Bouffes ',\n",
       " 'Me Samé, MM. Vauthier et Fugère (Gaîté). La fée aux chèvres ',\n",
       " 'Mlle Engalli ',\n",
       " 'Potter i.e. Potters ',\n",
       " 'Mlle Théo. Ambigu ',\n",
       " 'Gelabert ',\n",
       " 'M. Dupuy i.e. Dupuis, Lavallière et Cooper. Variétés. La vie parisienne ',\n",
       " 'Chevreul père, fils et Nadar ',\n",
       " 'Kolb. Ambigu. As de trèfle ',\n",
       " 'Morlet, Guyon, Gobain. Folies-Dramatiques. Surcouf ',\n",
       " 'Vauthier, Noël, Leclerc, Thibaut i.e. Thibault. Gaîté. Le bossu ',\n",
       " 'Brasseur père, fils et Théo. Nouveautés. Mimi ',\n",
       " 'Me Prelly ',\n",
       " 'Mlle Vaillant, Berthelier, Brasseur. Nouveautés. \"Roi de carreaux\" i.e. carreau ',\n",
       " 'Peschard ',\n",
       " 'Montréal, Blondeau, Grisier ',\n",
       " 'Céline Chaumont ',\n",
       " 'Laurence ']"
      ]
     },
     "execution_count": 286,
     "metadata": {},
     "output_type": "execute_result"
    }
   ],
   "source": [
    "matches.dropna().map(lambda x: re.sub('\\[|\\]|\\:', '', x.group(0))).value_counts().head(100).index.tolist()"
   ]
  },
  {
   "cell_type": "code",
   "execution_count": 231,
   "metadata": {},
   "outputs": [],
   "source": [
    "def find_keywords(x):\n",
    "    \n",
    "    if not x:\n",
    "        return x\n",
    "    x = str(x)\n",
    "    l = re.findall('(?!\\d)[\\w]*', x) # take all words, exclude years\n",
    "    l = list(set([word for word in l if len(word) > 0])) # drop duplicates in one entry\n",
    "    return l"
   ]
  },
  {
   "cell_type": "code",
   "execution_count": 241,
   "metadata": {},
   "outputs": [],
   "source": [
    "tag_list = pd.Series([x for i in df['dc:subject'].map(find_keywords).tolist() for x in i]).value_counts().reset_index()"
   ]
  },
  {
   "cell_type": "code",
   "execution_count": 246,
   "metadata": {},
   "outputs": [],
   "source": [
    "tag_list_title = pd.Series([x for i in df['dc:title'].map(find_keywords).tolist() for x in i]).value_counts().reset_index()"
   ]
  },
  {
   "cell_type": "code",
   "execution_count": 256,
   "metadata": {},
   "outputs": [
    {
     "data": {
      "text/plain": [
       "['photographie',\n",
       " 'tirage',\n",
       " 'démonstration',\n",
       " 'lle',\n",
       " 'aux',\n",
       " 'fils',\n",
       " 'femme',\n",
       " 'des',\n",
       " 'dans',\n",
       " 'comique',\n",
       " 'père',\n",
       " 'dramatiques',\n",
       " 'voyage',\n",
       " 'une',\n",
       " 'non',\n",
       " 'général',\n",
       " 'homme',\n",
       " 'année',\n",
       " 'scène',\n",
       " 'mesdemoiselles',\n",
       " 'peintre',\n",
       " 'dramatique',\n",
       " 'femmes',\n",
       " 'cloches',\n",
       " 'enfers',\n",
       " 'lune',\n",
       " 'rouge',\n",
       " 'journaliste',\n",
       " 'frères',\n",
       " 'petite']"
      ]
     },
     "execution_count": 256,
     "metadata": {},
     "output_type": "execute_result"
    }
   ],
   "source": [
    "tag_list_title[tag_list_title['index'].map(lambda x: x.islower() and len(x) > 2)]['index'].head(30).tolist()"
   ]
  },
  {
   "cell_type": "code",
   "execution_count": 252,
   "metadata": {},
   "outputs": [
    {
     "data": {
      "text/plain": [
       "['siècle',\n",
       " 'théâtre',\n",
       " 'studio',\n",
       " 'théâtrales',\n",
       " 'collectifs',\n",
       " 'actrice',\n",
       " 'acteur',\n",
       " 'lyrique',\n",
       " 'artiste',\n",
       " 'figures',\n",
       " 'humaines',\n",
       " 'siamois',\n",
       " 'danseuse',\n",
       " 'couture',\n",
       " 'roi',\n",
       " 'cantatrice',\n",
       " 'dessins',\n",
       " 'humoristiques',\n",
       " 'chanteur',\n",
       " 'japonais',\n",
       " 'intérieur',\n",
       " 'empereur',\n",
       " 'des',\n",
       " 'duc',\n",
       " 'acteurs',\n",
       " 'prince',\n",
       " 'lieux',\n",
       " 'familiers',\n",
       " 'shah',\n",
       " 'objet',\n",
       " 'courtisans',\n",
       " 'personnage',\n",
       " 'comte',\n",
       " 'animalières',\n",
       " 'chanteuse',\n",
       " 'marquis',\n",
       " 'fictif',\n",
       " 'historiques',\n",
       " 'franco',\n",
       " 'russe',\n",
       " 'grand',\n",
       " 'après',\n",
       " 'décès',\n",
       " 'frères',\n",
       " 'scène',\n",
       " 'mises',\n",
       " 'vivants',\n",
       " 'directeur',\n",
       " 'militaires',\n",
       " 'cirque',\n",
       " 'ténor',\n",
       " 'lithographe',\n",
       " 'orientale',\n",
       " 'dessinateur',\n",
       " 'homme',\n",
       " 'architecture',\n",
       " 'français',\n",
       " 'domestique',\n",
       " 'shows',\n",
       " 'princesse',\n",
       " 'équestres',\n",
       " 'ballon',\n",
       " 'dramatique',\n",
       " 'baron',\n",
       " 'portée',\n",
       " 'jeunesse',\n",
       " 'artistes',\n",
       " 'aéronaute',\n",
       " 'amiral',\n",
       " 'ebyšev',\n",
       " 'médecin',\n",
       " 'van',\n",
       " 'chef',\n",
       " 'légendaire',\n",
       " 'travestis',\n",
       " 'uruguayens',\n",
       " 'duchesse',\n",
       " 'pièces',\n",
       " 'canine',\n",
       " 'finances',\n",
       " 'chinois',\n",
       " 'voltigeurs',\n",
       " 'chorégraphe',\n",
       " 'air',\n",
       " 'italien',\n",
       " 'orchestre',\n",
       " 'ème',\n",
       " 'arts',\n",
       " 'plein',\n",
       " 'nas',\n",
       " 'portugais',\n",
       " 'nourrissons',\n",
       " 'journaliste',\n",
       " 'subsaharienne',\n",
       " 'général',\n",
       " 'danois',\n",
       " 'abbé',\n",
       " 'photographiques',\n",
       " 'race',\n",
       " 'claque',\n",
       " 'sir',\n",
       " 'sculpture',\n",
       " 'parleurs',\n",
       " 'trios',\n",
       " 'urbains',\n",
       " 'opéra',\n",
       " 'compositeur',\n",
       " 'éditeur',\n",
       " 'gardien',\n",
       " 'comique',\n",
       " 'reine',\n",
       " 'baryton',\n",
       " 'médical',\n",
       " 'prison',\n",
       " 'travesties',\n",
       " 'photographie',\n",
       " 'vicomte',\n",
       " 'trappiste',\n",
       " 'musique',\n",
       " 'peintre',\n",
       " 'prêtres',\n",
       " 'chambre',\n",
       " 'particuliers',\n",
       " 'impératrice',\n",
       " 'costume',\n",
       " 'russes',\n",
       " 'religion',\n",
       " 'animaux',\n",
       " 'savants',\n",
       " 'lettres',\n",
       " 'conte']"
      ]
     },
     "execution_count": 252,
     "metadata": {},
     "output_type": "execute_result"
    }
   ],
   "source": [
    "tag_list[tag_list['index'].map(lambda x: x.islower() and len(x) > 2)]['index'].tolist()"
   ]
  },
  {
   "cell_type": "markdown",
   "metadata": {},
   "source": [
    "### there really is no associated year"
   ]
  },
  {
   "cell_type": "code",
   "execution_count": 84,
   "metadata": {},
   "outputs": [
    {
     "data": {
      "text/plain": [
       "Index(['Scènes théâtrales -- 19e siècle', 'Costumes -- 19e siècle',\n",
       "       'Danseuses', 'Lanvin (Maison de couture)', 'Enfants',\n",
       "       'Tournée Brasseur', 'Ambassadeurs japonais -- France', 'Trapézistes',\n",
       "       'Représentations d'objet -- 19e siècle', 'Cour et courtisans -- Iran',\n",
       "       'Cavalières', 'Clowns', 'Représentations animalières -- 19e siècle',\n",
       "       'Travestis', 'Violonistes', 'Singes', 'Bicyclettes', 'Nourrissons',\n",
       "       'Géants', 'Enfants acteurs',\n",
       "       'Tableaux vivants et mises en scène -- 19e siècle',\n",
       "       'Ballons -- France -- 19e siècle', 'Vues d'intérieur -- 19e siècle',\n",
       "       'Mandoline', 'Danse orientale', 'Costumes',\n",
       "       'Pierrot (personnage fictif)', 'Chat domestique', 'Animaux de cirque',\n",
       "       'Bicyclettes -- Au théâtre', 'Journaux français', 'Âne',\n",
       "       'Minstrel shows', 'Géant (ballon)', 'Chien', 'Escrimeurs',\n",
       "       'Représentations animalières -- 1870-1913', 'Religieux',\n",
       "       'Haltérophiles', 'Indiens d'Amérique', 'Statues',\n",
       "       'Hamlet (personnage légendaire)', 'Ambassadeurs uruguayens -- France',\n",
       "       'Phénomènes de cirque',\n",
       "       'Rueil-Malmaison (Hauts-de-Seine) -- Château de Malmaison',\n",
       "       'Ambassadeurs chinois -- France', 'Casseroles', 'Caniche (race canine)',\n",
       "       'Appareils photographiques',\n",
       "       'Ballons -- France -- Paris (France) -- 19e siècle',\n",
       "       'Autobus -- Au théâtre', 'Noirs -- Afrique',\n",
       "       'Caricatures et dessins humoristiques -- 19e siècle',\n",
       "       'Acrobates (arts)', 'Nageurs -- Suède', 'Arlequin (personnage fictif)',\n",
       "       'Harpistes', 'Montreurs d'animaux savants', 'Oiseaux parleurs',\n",
       "       'Ensembles de musique de chambre', 'Ombre portée',\n",
       "       'Mères et nourrissons', 'Paysages urbains -- 19e siècle', 'Chasseurs',\n",
       "       'Décorations militaires', 'Maison Doucet (Paris)',\n",
       "       'Ateliers d'artistes -- Au théâtre', 'Expositions de photographie',\n",
       "       'Paysages -- 19e siècle', 'Scènes -- 19e siècle', 'Paquin (Firme)',\n",
       "       'Avocats', 'Cours (architecture)', 'Sang -- Transfusion',\n",
       "       'Dessin -- Reproduction', 'Actrices travesties', 'Peinture',\n",
       "       'Hôpitaux -- Personnel médical'],\n",
       "      dtype='object')"
      ]
     },
     "execution_count": 84,
     "metadata": {},
     "output_type": "execute_result"
    }
   ],
   "source": [
    "subject_frame[~subject_frame.id.isin(id_years) &\\\n",
    "              subject_frame.named_subject.isna() &\\\n",
    "              ~subject_frame.Portraits].descriptor.value_counts().index"
   ]
  },
  {
   "cell_type": "code",
   "execution_count": 292,
   "metadata": {},
   "outputs": [
    {
     "data": {
      "text/html": [
       "<div>\n",
       "<style scoped>\n",
       "    .dataframe tbody tr th:only-of-type {\n",
       "        vertical-align: middle;\n",
       "    }\n",
       "\n",
       "    .dataframe tbody tr th {\n",
       "        vertical-align: top;\n",
       "    }\n",
       "\n",
       "    .dataframe thead th {\n",
       "        text-align: right;\n",
       "    }\n",
       "</style>\n",
       "<table border=\"1\" class=\"dataframe\">\n",
       "  <thead>\n",
       "    <tr style=\"text-align: right;\">\n",
       "      <th></th>\n",
       "      <th>first_title</th>\n",
       "      <th>named_subject</th>\n",
       "    </tr>\n",
       "  </thead>\n",
       "  <tbody>\n",
       "    <tr>\n",
       "      <th>7</th>\n",
       "      <td>Me Auguez</td>\n",
       "      <td>Auguez, Mathilde</td>\n",
       "    </tr>\n",
       "    <tr>\n",
       "      <th>8</th>\n",
       "      <td>Me Auguez</td>\n",
       "      <td>Auguez, Mathilde</td>\n",
       "    </tr>\n",
       "    <tr>\n",
       "      <th>9</th>\n",
       "      <td>M. Bruant</td>\n",
       "      <td>Bruant, Aristide</td>\n",
       "    </tr>\n",
       "    <tr>\n",
       "      <th>10</th>\n",
       "      <td>Me Auguez</td>\n",
       "      <td>Auguez, Mathilde</td>\n",
       "    </tr>\n",
       "    <tr>\n",
       "      <th>13</th>\n",
       "      <td>M. A. Brasseur</td>\n",
       "      <td>Brasseur, Albert</td>\n",
       "    </tr>\n",
       "    <tr>\n",
       "      <th>...</th>\n",
       "      <td>...</td>\n",
       "      <td>...</td>\n",
       "    </tr>\n",
       "    <tr>\n",
       "      <th>26045</th>\n",
       "      <td>Desclauzas. \"Rendez-vous bourgeois\"</td>\n",
       "      <td>Desclauzas, Marie</td>\n",
       "    </tr>\n",
       "    <tr>\n",
       "      <th>26047</th>\n",
       "      <td>Feighine i.e. Feyghine</td>\n",
       "      <td>Feyghine</td>\n",
       "    </tr>\n",
       "    <tr>\n",
       "      <th>26048</th>\n",
       "      <td>Fayolles i.e. Baretta</td>\n",
       "      <td>Barretta, Blanche</td>\n",
       "    </tr>\n",
       "    <tr>\n",
       "      <th>26049</th>\n",
       "      <td>Daubray. Bouffes. \"Petite Muette\"</td>\n",
       "      <td>Daubray</td>\n",
       "    </tr>\n",
       "    <tr>\n",
       "      <th>26050</th>\n",
       "      <td>Girard. Folies-Dramatiques</td>\n",
       "      <td>Simon-Girard, Juliette</td>\n",
       "    </tr>\n",
       "  </tbody>\n",
       "</table>\n",
       "<p>15901 rows × 2 columns</p>\n",
       "</div>"
      ],
      "text/plain": [
       "                               first_title           named_subject\n",
       "7                                Me Auguez        Auguez, Mathilde\n",
       "8                                Me Auguez        Auguez, Mathilde\n",
       "9                                M. Bruant        Bruant, Aristide\n",
       "10                               Me Auguez        Auguez, Mathilde\n",
       "13                          M. A. Brasseur        Brasseur, Albert\n",
       "...                                    ...                     ...\n",
       "26045  Desclauzas. \"Rendez-vous bourgeois\"       Desclauzas, Marie\n",
       "26047               Feighine i.e. Feyghine                Feyghine\n",
       "26048                Fayolles i.e. Baretta       Barretta, Blanche\n",
       "26049    Daubray. Bouffes. \"Petite Muette\"                 Daubray\n",
       "26050           Girard. Folies-Dramatiques  Simon-Girard, Juliette\n",
       "\n",
       "[15901 rows x 2 columns]"
      ]
     },
     "execution_count": 292,
     "metadata": {},
     "output_type": "execute_result"
    }
   ],
   "source": [
    "df[df.first_title.notna() & df.named_subject.notna()][['first_title', 'named_subject']]"
   ]
  },
  {
   "cell_type": "code",
   "execution_count": 293,
   "metadata": {},
   "outputs": [
    {
     "data": {
      "text/plain": [
       "Bernhardt, Sarah        496\n",
       "Réjane                  186\n",
       "Mily-Meyer, Emilie      171\n",
       "Théo, Louise            152\n",
       "Brasseur, Albert        142\n",
       "                       ... \n",
       "Foudras, Théodore de      1\n",
       "Blanc, Adolphe            1\n",
       "Despine, Constant         1\n",
       "Uchard, Mario             1\n",
       "Duplessis, Paul           1\n",
       "Name: named_subject, Length: 1940, dtype: int64"
      ]
     },
     "execution_count": 293,
     "metadata": {},
     "output_type": "execute_result"
    }
   ],
   "source": [
    "df[df.first_title.notna() & df.named_subject.notna()].named_subject.value_counts()"
   ]
  },
  {
   "cell_type": "code",
   "execution_count": 299,
   "metadata": {},
   "outputs": [
    {
     "data": {
      "text/plain": [
       "15901"
      ]
     },
     "execution_count": 299,
     "metadata": {},
     "output_type": "execute_result"
    }
   ],
   "source": [
    "df[df.first_title.notna() & df.named_subject.notna()].named_subject.count()"
   ]
  },
  {
   "cell_type": "code",
   "execution_count": 298,
   "metadata": {},
   "outputs": [
    {
     "data": {
      "text/plain": [
       "['Ghinassi',\n",
       " 'Marie-Thérèse',\n",
       " 'Ambassade japonaise',\n",
       " 'Modes Lanvin',\n",
       " 'Gabrielle',\n",
       " 'Marie-Thérèse. Variétés',\n",
       " \"Portrait d'un homme\",\n",
       " \"Portrait d'une femme\",\n",
       " \"Portrait d'une femme non identifiée\",\n",
       " 'Jaeger',\n",
       " 'Andrée Dalti',\n",
       " 'Me Cernay',\n",
       " 'Soukaret. 1er prix de beauté de Spa',\n",
       " 'Loetitia. Châtelet. \"La queue du chat\"',\n",
       " 'Mme Prelly. Folies dramatiques',\n",
       " 'Mlle Engalli',\n",
       " 'Modes. Lanvin',\n",
       " 'Potter i.e. Potters',\n",
       " 'Me Demoreuil',\n",
       " 'Laurence',\n",
       " 'Me Rivolta',\n",
       " 'Me de Nory',\n",
       " 'Lhéry',\n",
       " 'Engally. Opéra comique',\n",
       " 'Mlle Stuart',\n",
       " 'Beaumaine. Variétés',\n",
       " 'Me de Breuil',\n",
       " 'Paulette',\n",
       " 'Mlle Gabrielle',\n",
       " 'Me Féridjée']"
      ]
     },
     "execution_count": 298,
     "metadata": {},
     "output_type": "execute_result"
    }
   ],
   "source": [
    "df[df.first_title.notna() & df.named_subject.isna()].first_title.value_counts().head(30).index.tolist()"
   ]
  },
  {
   "cell_type": "code",
   "execution_count": null,
   "metadata": {},
   "outputs": [],
   "source": []
  }
 ],
 "metadata": {
  "kernelspec": {
   "display_name": "Python 3",
   "language": "python",
   "name": "python3"
  },
  "language_info": {
   "codemirror_mode": {
    "name": "ipython",
    "version": 3
   },
   "file_extension": ".py",
   "mimetype": "text/x-python",
   "name": "python",
   "nbconvert_exporter": "python",
   "pygments_lexer": "ipython3",
   "version": "3.7.5"
  }
 },
 "nbformat": 4,
 "nbformat_minor": 2
}
