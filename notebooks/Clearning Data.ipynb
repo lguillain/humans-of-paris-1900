{
 "cells": [
  {
   "cell_type": "code",
   "execution_count": 1,
   "metadata": {},
   "outputs": [],
   "source": [
    "from fdh_gallica import Periodical, Search, Document\n",
    "from fdh_gallica.parallel_process import iiif_urls_for_documents\n",
    "\n",
    "from tqdm.autonotebook import tqdm\n",
    "\n",
    "import json\n",
    "import pandas as pd\n",
    "from pandas.io.json import json_normalize"
   ]
  },
  {
   "cell_type": "code",
   "execution_count": 2,
   "metadata": {},
   "outputs": [],
   "source": [
    "%matplotlib inline"
   ]
  },
  {
   "cell_type": "markdown",
   "metadata": {},
   "source": [
    "get all images with relevant query"
   ]
  },
  {
   "cell_type": "code",
   "execution_count": 3,
   "metadata": {},
   "outputs": [],
   "source": [
    "re_execute = False\n",
    "if re_execute:\n",
    "    obj = Search(all_fields='atelier Nadar', dc_type='image', dc_creator='Atelier Nadar')\n",
    "    obj.execute()\n",
    "    print(f'number of fetched documents: {len(obj.documents)}')\n",
    "    print(f'total records {obj.total_records}')\n",
    "    print('retry fetching ...')\n",
    "    obj.retry()\n",
    "    print(f'number of fetched documents: {len(obj.documents)}')\n",
    "\n",
    "    df = json_normalize(json.loads(json.dumps(obj.records)))\n",
    "    print('save documents to local')\n",
    "    # list handling becomes a pain of we save as csv\n",
    "    df.to_pickle('raw_df.pkl')"
   ]
  },
  {
   "cell_type": "code",
   "execution_count": 4,
   "metadata": {},
   "outputs": [],
   "source": [
    "df = pd.read_pickle('raw_df.pkl')"
   ]
  },
  {
   "cell_type": "markdown",
   "metadata": {},
   "source": [
    "parse identifier for easier access:"
   ]
  },
  {
   "cell_type": "code",
   "execution_count": 5,
   "metadata": {},
   "outputs": [],
   "source": [
    "image_dataframe = pd.DataFrame(df['dc:identifier']\\\n",
    "                               .map(lambda x: x[0] if type(x) == list else x))\\\n",
    "                               .rename(columns={'dc:identifier':'identifier'})\n",
    "\n",
    "df['id'] = image_dataframe"
   ]
  },
  {
   "cell_type": "code",
   "execution_count": 6,
   "metadata": {},
   "outputs": [
    {
     "data": {
      "text/html": [
       "<div>\n",
       "<style scoped>\n",
       "    .dataframe tbody tr th:only-of-type {\n",
       "        vertical-align: middle;\n",
       "    }\n",
       "\n",
       "    .dataframe tbody tr th {\n",
       "        vertical-align: top;\n",
       "    }\n",
       "\n",
       "    .dataframe thead th {\n",
       "        text-align: right;\n",
       "    }\n",
       "</style>\n",
       "<table border=\"1\" class=\"dataframe\">\n",
       "  <thead>\n",
       "    <tr style=\"text-align: right;\">\n",
       "      <th></th>\n",
       "      <th>dc:creator</th>\n",
       "      <th>dc:date</th>\n",
       "      <th>dc:description</th>\n",
       "      <th>dc:format</th>\n",
       "      <th>dc:identifier</th>\n",
       "      <th>dc:language</th>\n",
       "      <th>dc:publisher</th>\n",
       "      <th>dc:relation</th>\n",
       "      <th>dc:rights</th>\n",
       "      <th>dc:source</th>\n",
       "      <th>dc:subject</th>\n",
       "      <th>dc:title</th>\n",
       "      <th>dc:type</th>\n",
       "      <th>id</th>\n",
       "    </tr>\n",
       "  </thead>\n",
       "  <tbody>\n",
       "    <tr>\n",
       "      <th>0</th>\n",
       "      <td>Atelier Nadar. Photographe</td>\n",
       "      <td>1875-1895</td>\n",
       "      <td>NaN</td>\n",
       "      <td>[1 photogr. pos. sur papier albuminé : d'après...</td>\n",
       "      <td>[https://gallica.bnf.fr/ark:/12148/btv1b531634...</td>\n",
       "      <td>[fre, français]</td>\n",
       "      <td>NaN</td>\n",
       "      <td>[Extrait de : [Album de référence de l'Atelier...</td>\n",
       "      <td>[domaine public, public domain]</td>\n",
       "      <td>Bibliothèque nationale de France, département ...</td>\n",
       "      <td>Portraits du théâtre -- 19e siècle</td>\n",
       "      <td>Holda. Eldorado : [photographie, tirage de dém...</td>\n",
       "      <td>[image fixe, image, still image, photographie,...</td>\n",
       "      <td>https://gallica.bnf.fr/ark:/12148/btv1b53163492h</td>\n",
       "    </tr>\n",
       "    <tr>\n",
       "      <th>1</th>\n",
       "      <td>Atelier Nadar. Photographe</td>\n",
       "      <td>1875-1895</td>\n",
       "      <td>NaN</td>\n",
       "      <td>[1 photogr. pos. sur papier albuminé : d'après...</td>\n",
       "      <td>[https://gallica.bnf.fr/ark:/12148/btv1b531634...</td>\n",
       "      <td>[fre, français]</td>\n",
       "      <td>NaN</td>\n",
       "      <td>[Extrait de : [Album de référence de l'Atelier...</td>\n",
       "      <td>[domaine public, public domain]</td>\n",
       "      <td>Bibliothèque nationale de France, département ...</td>\n",
       "      <td>Portraits du théâtre -- 19e siècle</td>\n",
       "      <td>Supra. Opéra : [photographie, tirage de démons...</td>\n",
       "      <td>[image fixe, image, still image, photographie,...</td>\n",
       "      <td>https://gallica.bnf.fr/ark:/12148/btv1b531634912</td>\n",
       "    </tr>\n",
       "    <tr>\n",
       "      <th>2</th>\n",
       "      <td>Atelier Nadar. Photographe</td>\n",
       "      <td>1875-1895</td>\n",
       "      <td>NaN</td>\n",
       "      <td>[1 photogr. pos. sur papier albuminé : d'après...</td>\n",
       "      <td>[https://gallica.bnf.fr/ark:/12148/btv1b531638...</td>\n",
       "      <td>[fre, français]</td>\n",
       "      <td>NaN</td>\n",
       "      <td>[Extrait de : [Album de référence de l'Atelier...</td>\n",
       "      <td>[domaine public, public domain]</td>\n",
       "      <td>Bibliothèque nationale de France, département ...</td>\n",
       "      <td>Portraits de studio -- 19e siècle</td>\n",
       "      <td>Bébé Ullmann : [photographie, tirage de démons...</td>\n",
       "      <td>[image fixe, image, still image, photographie,...</td>\n",
       "      <td>https://gallica.bnf.fr/ark:/12148/btv1b531638493</td>\n",
       "    </tr>\n",
       "    <tr>\n",
       "      <th>3</th>\n",
       "      <td>Atelier Nadar. Photographe</td>\n",
       "      <td>1875-1895</td>\n",
       "      <td>NaN</td>\n",
       "      <td>[1 photogr. pos. sur papier albuminé : d'après...</td>\n",
       "      <td>[https://gallica.bnf.fr/ark:/12148/btv1b531649...</td>\n",
       "      <td>[fre, français]</td>\n",
       "      <td>NaN</td>\n",
       "      <td>[Extrait de : [Album de référence de l'Atelier...</td>\n",
       "      <td>[domaine public, public domain]</td>\n",
       "      <td>Bibliothèque nationale de France, département ...</td>\n",
       "      <td>Portraits collectifs -- 19e siècle</td>\n",
       "      <td>Groupe de paysannes : [photographie, tirage de...</td>\n",
       "      <td>[image fixe, image, still image, photographie,...</td>\n",
       "      <td>https://gallica.bnf.fr/ark:/12148/btv1b53164917p</td>\n",
       "    </tr>\n",
       "    <tr>\n",
       "      <th>4</th>\n",
       "      <td>Atelier Nadar. Photographe</td>\n",
       "      <td>1875-1895</td>\n",
       "      <td>NaN</td>\n",
       "      <td>[1 photogr. pos. sur papier albuminé : d'après...</td>\n",
       "      <td>[https://gallica.bnf.fr/ark:/12148/btv1b531688...</td>\n",
       "      <td>[fre, français]</td>\n",
       "      <td>NaN</td>\n",
       "      <td>[Extrait de : [Album de référence de l'Atelier...</td>\n",
       "      <td>[domaine public, public domain]</td>\n",
       "      <td>Bibliothèque nationale de France, département ...</td>\n",
       "      <td>Portraits du théâtre -- 19e siècle</td>\n",
       "      <td>Me Debaude : [photographie, tirage de démonstr...</td>\n",
       "      <td>[image fixe, image, still image, photographie,...</td>\n",
       "      <td>https://gallica.bnf.fr/ark:/12148/btv1b531688758</td>\n",
       "    </tr>\n",
       "  </tbody>\n",
       "</table>\n",
       "</div>"
      ],
      "text/plain": [
       "                   dc:creator    dc:date dc:description  \\\n",
       "0  Atelier Nadar. Photographe  1875-1895            NaN   \n",
       "1  Atelier Nadar. Photographe  1875-1895            NaN   \n",
       "2  Atelier Nadar. Photographe  1875-1895            NaN   \n",
       "3  Atelier Nadar. Photographe  1875-1895            NaN   \n",
       "4  Atelier Nadar. Photographe  1875-1895            NaN   \n",
       "\n",
       "                                           dc:format  \\\n",
       "0  [1 photogr. pos. sur papier albuminé : d'après...   \n",
       "1  [1 photogr. pos. sur papier albuminé : d'après...   \n",
       "2  [1 photogr. pos. sur papier albuminé : d'après...   \n",
       "3  [1 photogr. pos. sur papier albuminé : d'après...   \n",
       "4  [1 photogr. pos. sur papier albuminé : d'après...   \n",
       "\n",
       "                                       dc:identifier      dc:language  \\\n",
       "0  [https://gallica.bnf.fr/ark:/12148/btv1b531634...  [fre, français]   \n",
       "1  [https://gallica.bnf.fr/ark:/12148/btv1b531634...  [fre, français]   \n",
       "2  [https://gallica.bnf.fr/ark:/12148/btv1b531638...  [fre, français]   \n",
       "3  [https://gallica.bnf.fr/ark:/12148/btv1b531649...  [fre, français]   \n",
       "4  [https://gallica.bnf.fr/ark:/12148/btv1b531688...  [fre, français]   \n",
       "\n",
       "  dc:publisher                                        dc:relation  \\\n",
       "0          NaN  [Extrait de : [Album de référence de l'Atelier...   \n",
       "1          NaN  [Extrait de : [Album de référence de l'Atelier...   \n",
       "2          NaN  [Extrait de : [Album de référence de l'Atelier...   \n",
       "3          NaN  [Extrait de : [Album de référence de l'Atelier...   \n",
       "4          NaN  [Extrait de : [Album de référence de l'Atelier...   \n",
       "\n",
       "                         dc:rights  \\\n",
       "0  [domaine public, public domain]   \n",
       "1  [domaine public, public domain]   \n",
       "2  [domaine public, public domain]   \n",
       "3  [domaine public, public domain]   \n",
       "4  [domaine public, public domain]   \n",
       "\n",
       "                                           dc:source  \\\n",
       "0  Bibliothèque nationale de France, département ...   \n",
       "1  Bibliothèque nationale de France, département ...   \n",
       "2  Bibliothèque nationale de France, département ...   \n",
       "3  Bibliothèque nationale de France, département ...   \n",
       "4  Bibliothèque nationale de France, département ...   \n",
       "\n",
       "                           dc:subject  \\\n",
       "0  Portraits du théâtre -- 19e siècle   \n",
       "1  Portraits du théâtre -- 19e siècle   \n",
       "2   Portraits de studio -- 19e siècle   \n",
       "3  Portraits collectifs -- 19e siècle   \n",
       "4  Portraits du théâtre -- 19e siècle   \n",
       "\n",
       "                                            dc:title  \\\n",
       "0  Holda. Eldorado : [photographie, tirage de dém...   \n",
       "1  Supra. Opéra : [photographie, tirage de démons...   \n",
       "2  Bébé Ullmann : [photographie, tirage de démons...   \n",
       "3  Groupe de paysannes : [photographie, tirage de...   \n",
       "4  Me Debaude : [photographie, tirage de démonstr...   \n",
       "\n",
       "                                             dc:type  \\\n",
       "0  [image fixe, image, still image, photographie,...   \n",
       "1  [image fixe, image, still image, photographie,...   \n",
       "2  [image fixe, image, still image, photographie,...   \n",
       "3  [image fixe, image, still image, photographie,...   \n",
       "4  [image fixe, image, still image, photographie,...   \n",
       "\n",
       "                                                 id  \n",
       "0  https://gallica.bnf.fr/ark:/12148/btv1b53163492h  \n",
       "1  https://gallica.bnf.fr/ark:/12148/btv1b531634912  \n",
       "2  https://gallica.bnf.fr/ark:/12148/btv1b531638493  \n",
       "3  https://gallica.bnf.fr/ark:/12148/btv1b53164917p  \n",
       "4  https://gallica.bnf.fr/ark:/12148/btv1b531688758  "
      ]
     },
     "execution_count": 6,
     "metadata": {},
     "output_type": "execute_result"
    }
   ],
   "source": [
    "df.head()"
   ]
  },
  {
   "cell_type": "markdown",
   "metadata": {},
   "source": [
    "### useless dataframes"
   ]
  },
  {
   "cell_type": "markdown",
   "metadata": {},
   "source": [
    "remove them for ease of use, next ones contain all the same content"
   ]
  },
  {
   "cell_type": "code",
   "execution_count": 7,
   "metadata": {},
   "outputs": [
    {
     "data": {
      "text/plain": [
       "[domaine public, public domain]    23535\n",
       "Name: dc:rights, dtype: int64"
      ]
     },
     "execution_count": 7,
     "metadata": {},
     "output_type": "execute_result"
    }
   ],
   "source": [
    "df['dc:rights'].value_counts()"
   ]
  },
  {
   "cell_type": "code",
   "execution_count": 8,
   "metadata": {},
   "outputs": [
    {
     "data": {
      "text/plain": [
       "[image fixe, image, still image, photographie, photograph]    23535\n",
       "Name: dc:type, dtype: int64"
      ]
     },
     "execution_count": 8,
     "metadata": {},
     "output_type": "execute_result"
    }
   ],
   "source": [
    "df['dc:type'].value_counts()"
   ]
  },
  {
   "cell_type": "code",
   "execution_count": 9,
   "metadata": {},
   "outputs": [
    {
     "data": {
      "text/plain": [
       "[fre, français]              23530\n",
       "Sans contenu linguistique        5\n",
       "Name: dc:language, dtype: int64"
      ]
     },
     "execution_count": 9,
     "metadata": {},
     "output_type": "execute_result"
    }
   ],
   "source": [
    "df['dc:language'].value_counts()"
   ]
  },
  {
   "cell_type": "code",
   "execution_count": 10,
   "metadata": {},
   "outputs": [
    {
     "data": {
      "text/plain": [
       "0    [1 photogr. pos. sur papier albuminé : d'après...\n",
       "1    [1 photogr. pos. sur papier albuminé : d'après...\n",
       "2    [1 photogr. pos. sur papier albuminé : d'après...\n",
       "3    [1 photogr. pos. sur papier albuminé : d'après...\n",
       "4    [1 photogr. pos. sur papier albuminé : d'après...\n",
       "Name: dc:format, dtype: object"
      ]
     },
     "execution_count": 10,
     "metadata": {},
     "output_type": "execute_result"
    }
   ],
   "source": [
    "df['dc:format'].head()"
   ]
  },
  {
   "cell_type": "code",
   "execution_count": 11,
   "metadata": {},
   "outputs": [
    {
     "data": {
      "text/plain": [
       "0    [https://gallica.bnf.fr/ark:/12148/btv1b531634...\n",
       "1    [https://gallica.bnf.fr/ark:/12148/btv1b531634...\n",
       "2    [https://gallica.bnf.fr/ark:/12148/btv1b531638...\n",
       "3    [https://gallica.bnf.fr/ark:/12148/btv1b531649...\n",
       "4    [https://gallica.bnf.fr/ark:/12148/btv1b531688...\n",
       "Name: dc:identifier, dtype: object"
      ]
     },
     "execution_count": 11,
     "metadata": {},
     "output_type": "execute_result"
    }
   ],
   "source": [
    "df['dc:identifier'].head()"
   ]
  },
  {
   "cell_type": "code",
   "execution_count": 12,
   "metadata": {},
   "outputs": [
    {
     "data": {
      "text/plain": [
       "(Paris)          1\n",
       "Nadar (Paris)    1\n",
       "Name: dc:publisher, dtype: int64"
      ]
     },
     "execution_count": 12,
     "metadata": {},
     "output_type": "execute_result"
    }
   ],
   "source": [
    "df['dc:publisher'].value_counts()"
   ]
  },
  {
   "cell_type": "markdown",
   "metadata": {},
   "source": [
    "### removing them"
   ]
  },
  {
   "cell_type": "code",
   "execution_count": 13,
   "metadata": {},
   "outputs": [],
   "source": [
    "del df['dc:type']\n",
    "del df['dc:language']\n",
    "del df['dc:format']\n",
    "del df['dc:identifier']\n",
    "del df['dc:rights']\n",
    "del df['dc:publisher']"
   ]
  },
  {
   "cell_type": "markdown",
   "metadata": {},
   "source": [
    "# getting information about subjects"
   ]
  },
  {
   "cell_type": "code",
   "execution_count": 14,
   "metadata": {},
   "outputs": [],
   "source": [
    "#some objects are stored as list, others arent, use if else to handle\n",
    "df['subject_is_list'] = df['dc:subject'].map(lambda x: type(x) == list)"
   ]
  },
  {
   "cell_type": "code",
   "execution_count": 15,
   "metadata": {},
   "outputs": [],
   "source": [
    "df['len_list'] = df[df.subject_is_list]['dc:subject'].map(len)"
   ]
  },
  {
   "cell_type": "markdown",
   "metadata": {},
   "source": [
    "length is non uniform ... we will have to unnest"
   ]
  },
  {
   "cell_type": "code",
   "execution_count": 16,
   "metadata": {},
   "outputs": [
    {
     "data": {
      "text/plain": [
       "2.0    12834\n",
       "3.0      748\n",
       "4.0      239\n",
       "5.0      233\n",
       "6.0       10\n",
       "7.0        9\n",
       "Name: len_list, dtype: int64"
      ]
     },
     "execution_count": 16,
     "metadata": {},
     "output_type": "execute_result"
    }
   ],
   "source": [
    "df.len_list.value_counts()"
   ]
  },
  {
   "cell_type": "code",
   "execution_count": 17,
   "metadata": {},
   "outputs": [
    {
     "data": {
      "text/plain": [
       "[Bernhardt, Sarah (1844-1923) -- Portraits, Portraits du théâtre -- 19e siècle]          266\n",
       "[Réjane (1856-1920) -- Portraits, Portraits du théâtre -- 19e siècle]                    118\n",
       "[Théo, Louise (1854-1922) -- Portraits, Portraits du théâtre -- 19e siècle]              109\n",
       "[Simon-Girard, Juliette (1859-1959) -- Portraits, Portraits du théâtre -- 19e siècle]     84\n",
       "[Lantelme, Marie -- Portraits, Portraits du théâtre -- 19e siècle]                        83\n",
       "Name: dc:subject, dtype: int64"
      ]
     },
     "execution_count": 17,
     "metadata": {},
     "output_type": "execute_result"
    }
   ],
   "source": [
    "df[df.subject_is_list]['dc:subject'].map(lambda x: x).value_counts().head()"
   ]
  },
  {
   "cell_type": "markdown",
   "metadata": {},
   "source": [
    "unnest list to get better view"
   ]
  },
  {
   "cell_type": "code",
   "execution_count": 18,
   "metadata": {},
   "outputs": [],
   "source": [
    "to_unnest = df[df.subject_is_list]['dc:subject'].tolist()\n",
    "to_unnest = df[df.subject_is_list][['dc:subject', 'id']].apply(lambda x: (x['dc:subject'], x.id), axis=1).tolist()\n",
    "unnested = [(i, id_) for (list_, id_) in to_unnest for i in list_]"
   ]
  },
  {
   "cell_type": "markdown",
   "metadata": {},
   "source": [
    "we will also need to use the title ..."
   ]
  },
  {
   "cell_type": "code",
   "execution_count": 19,
   "metadata": {},
   "outputs": [
    {
     "data": {
      "text/html": [
       "<div>\n",
       "<style scoped>\n",
       "    .dataframe tbody tr th:only-of-type {\n",
       "        vertical-align: middle;\n",
       "    }\n",
       "\n",
       "    .dataframe tbody tr th {\n",
       "        vertical-align: top;\n",
       "    }\n",
       "\n",
       "    .dataframe thead th {\n",
       "        text-align: right;\n",
       "    }\n",
       "</style>\n",
       "<table border=\"1\" class=\"dataframe\">\n",
       "  <thead>\n",
       "    <tr style=\"text-align: right;\">\n",
       "      <th></th>\n",
       "      <th>dc:subject</th>\n",
       "      <th>id</th>\n",
       "      <th>dc:title</th>\n",
       "    </tr>\n",
       "  </thead>\n",
       "  <tbody>\n",
       "    <tr>\n",
       "      <th>0</th>\n",
       "      <td>Portraits du théâtre -- 19e siècle</td>\n",
       "      <td>https://gallica.bnf.fr/ark:/12148/btv1b53163492h</td>\n",
       "      <td>Holda. Eldorado : [photographie, tirage de dém...</td>\n",
       "    </tr>\n",
       "    <tr>\n",
       "      <th>1</th>\n",
       "      <td>Portraits du théâtre -- 19e siècle</td>\n",
       "      <td>https://gallica.bnf.fr/ark:/12148/btv1b531634912</td>\n",
       "      <td>Supra. Opéra : [photographie, tirage de démons...</td>\n",
       "    </tr>\n",
       "    <tr>\n",
       "      <th>2</th>\n",
       "      <td>Portraits de studio -- 19e siècle</td>\n",
       "      <td>https://gallica.bnf.fr/ark:/12148/btv1b531638493</td>\n",
       "      <td>Bébé Ullmann : [photographie, tirage de démons...</td>\n",
       "    </tr>\n",
       "    <tr>\n",
       "      <th>3</th>\n",
       "      <td>Portraits collectifs -- 19e siècle</td>\n",
       "      <td>https://gallica.bnf.fr/ark:/12148/btv1b53164917p</td>\n",
       "      <td>Groupe de paysannes : [photographie, tirage de...</td>\n",
       "    </tr>\n",
       "    <tr>\n",
       "      <th>4</th>\n",
       "      <td>Portraits du théâtre -- 19e siècle</td>\n",
       "      <td>https://gallica.bnf.fr/ark:/12148/btv1b531688758</td>\n",
       "      <td>Me Debaude : [photographie, tirage de démonstr...</td>\n",
       "    </tr>\n",
       "  </tbody>\n",
       "</table>\n",
       "</div>"
      ],
      "text/plain": [
       "                           dc:subject  \\\n",
       "0  Portraits du théâtre -- 19e siècle   \n",
       "1  Portraits du théâtre -- 19e siècle   \n",
       "2   Portraits de studio -- 19e siècle   \n",
       "3  Portraits collectifs -- 19e siècle   \n",
       "4  Portraits du théâtre -- 19e siècle   \n",
       "\n",
       "                                                 id  \\\n",
       "0  https://gallica.bnf.fr/ark:/12148/btv1b53163492h   \n",
       "1  https://gallica.bnf.fr/ark:/12148/btv1b531634912   \n",
       "2  https://gallica.bnf.fr/ark:/12148/btv1b531638493   \n",
       "3  https://gallica.bnf.fr/ark:/12148/btv1b53164917p   \n",
       "4  https://gallica.bnf.fr/ark:/12148/btv1b531688758   \n",
       "\n",
       "                                            dc:title  \n",
       "0  Holda. Eldorado : [photographie, tirage de dém...  \n",
       "1  Supra. Opéra : [photographie, tirage de démons...  \n",
       "2  Bébé Ullmann : [photographie, tirage de démons...  \n",
       "3  Groupe de paysannes : [photographie, tirage de...  \n",
       "4  Me Debaude : [photographie, tirage de démonstr...  "
      ]
     },
     "execution_count": 19,
     "metadata": {},
     "output_type": "execute_result"
    }
   ],
   "source": [
    "df[~df.subject_is_list][['dc:subject', 'id', 'dc:title']].head()"
   ]
  },
  {
   "cell_type": "code",
   "execution_count": 20,
   "metadata": {},
   "outputs": [],
   "source": [
    "to_append = df[~df.subject_is_list][['dc:subject', 'id']].rename(columns={'dc:subject':'descriptor'})"
   ]
  },
  {
   "cell_type": "code",
   "execution_count": 21,
   "metadata": {},
   "outputs": [
    {
     "data": {
      "text/plain": [
       "30156"
      ]
     },
     "execution_count": 21,
     "metadata": {},
     "output_type": "execute_result"
    }
   ],
   "source": [
    "unnested.__len__()"
   ]
  },
  {
   "cell_type": "code",
   "execution_count": 22,
   "metadata": {},
   "outputs": [],
   "source": [
    "subject_frame = pd.DataFrame(unnested, columns=['descriptor', 'id'])"
   ]
  },
  {
   "cell_type": "code",
   "execution_count": 23,
   "metadata": {},
   "outputs": [],
   "source": [
    "subject_frame = pd.concat([subject_frame, to_append], sort=False)"
   ]
  },
  {
   "cell_type": "code",
   "execution_count": 24,
   "metadata": {},
   "outputs": [
    {
     "data": {
      "text/plain": [
       "descriptor    39618\n",
       "id            39618\n",
       "dtype: int64"
      ]
     },
     "execution_count": 24,
     "metadata": {},
     "output_type": "execute_result"
    }
   ],
   "source": [
    "subject_frame.count()"
   ]
  },
  {
   "cell_type": "markdown",
   "metadata": {},
   "source": [
    "associate each descriptior of one object (given by id)"
   ]
  },
  {
   "cell_type": "code",
   "execution_count": 25,
   "metadata": {},
   "outputs": [
    {
     "data": {
      "text/html": [
       "<div>\n",
       "<style scoped>\n",
       "    .dataframe tbody tr th:only-of-type {\n",
       "        vertical-align: middle;\n",
       "    }\n",
       "\n",
       "    .dataframe tbody tr th {\n",
       "        vertical-align: top;\n",
       "    }\n",
       "\n",
       "    .dataframe thead th {\n",
       "        text-align: right;\n",
       "    }\n",
       "</style>\n",
       "<table border=\"1\" class=\"dataframe\">\n",
       "  <thead>\n",
       "    <tr style=\"text-align: right;\">\n",
       "      <th></th>\n",
       "      <th>descriptor</th>\n",
       "      <th>id</th>\n",
       "    </tr>\n",
       "  </thead>\n",
       "  <tbody>\n",
       "    <tr>\n",
       "      <th>0</th>\n",
       "      <td>Auguez, Mathilde (1868-1955) -- Portraits</td>\n",
       "      <td>https://gallica.bnf.fr/ark:/12148/btv1b53168872x</td>\n",
       "    </tr>\n",
       "    <tr>\n",
       "      <th>1</th>\n",
       "      <td>Portraits de studio -- 19e siècle</td>\n",
       "      <td>https://gallica.bnf.fr/ark:/12148/btv1b53168872x</td>\n",
       "    </tr>\n",
       "    <tr>\n",
       "      <th>2</th>\n",
       "      <td>Auguez, Mathilde (1868-1955) -- Portraits</td>\n",
       "      <td>https://gallica.bnf.fr/ark:/12148/btv1b531688701</td>\n",
       "    </tr>\n",
       "    <tr>\n",
       "      <th>3</th>\n",
       "      <td>Portraits de studio -- 19e siècle</td>\n",
       "      <td>https://gallica.bnf.fr/ark:/12148/btv1b531688701</td>\n",
       "    </tr>\n",
       "    <tr>\n",
       "      <th>4</th>\n",
       "      <td>Bruant, Aristide (1851-1925) -- Portraits</td>\n",
       "      <td>https://gallica.bnf.fr/ark:/12148/btv1b53171770j</td>\n",
       "    </tr>\n",
       "  </tbody>\n",
       "</table>\n",
       "</div>"
      ],
      "text/plain": [
       "                                  descriptor  \\\n",
       "0  Auguez, Mathilde (1868-1955) -- Portraits   \n",
       "1          Portraits de studio -- 19e siècle   \n",
       "2  Auguez, Mathilde (1868-1955) -- Portraits   \n",
       "3          Portraits de studio -- 19e siècle   \n",
       "4  Bruant, Aristide (1851-1925) -- Portraits   \n",
       "\n",
       "                                                 id  \n",
       "0  https://gallica.bnf.fr/ark:/12148/btv1b53168872x  \n",
       "1  https://gallica.bnf.fr/ark:/12148/btv1b53168872x  \n",
       "2  https://gallica.bnf.fr/ark:/12148/btv1b531688701  \n",
       "3  https://gallica.bnf.fr/ark:/12148/btv1b531688701  \n",
       "4  https://gallica.bnf.fr/ark:/12148/btv1b53171770j  "
      ]
     },
     "execution_count": 25,
     "metadata": {},
     "output_type": "execute_result"
    }
   ],
   "source": [
    "subject_frame.head()"
   ]
  },
  {
   "cell_type": "markdown",
   "metadata": {},
   "source": [
    "do some keyword searching"
   ]
  },
  {
   "cell_type": "code",
   "execution_count": 26,
   "metadata": {},
   "outputs": [],
   "source": [
    "subject_frame['19e'] = subject_frame.descriptor.map(lambda x: x[-len('-- 19e siècle'):] == '-- 19e siècle')\n",
    "subject_frame['Portraits'] = subject_frame.descriptor.map(lambda x: 'portraits' in x.lower())"
   ]
  },
  {
   "cell_type": "code",
   "execution_count": 27,
   "metadata": {},
   "outputs": [],
   "source": [
    "is_19e = subject_frame[subject_frame['19e']].id.unique()"
   ]
  },
  {
   "cell_type": "code",
   "execution_count": 28,
   "metadata": {},
   "outputs": [
    {
     "data": {
      "text/plain": [
       "23239"
      ]
     },
     "execution_count": 28,
     "metadata": {},
     "output_type": "execute_result"
    }
   ],
   "source": [
    "subject_frame[subject_frame.Portraits].id.unique().__len__()"
   ]
  },
  {
   "cell_type": "code",
   "execution_count": 29,
   "metadata": {},
   "outputs": [],
   "source": [
    "portrait_ids = subject_frame[subject_frame.Portraits].id.unique()"
   ]
  },
  {
   "cell_type": "markdown",
   "metadata": {},
   "source": [
    "dessin humoristiques & caricatures seams important"
   ]
  },
  {
   "cell_type": "code",
   "execution_count": 30,
   "metadata": {},
   "outputs": [
    {
     "data": {
      "text/html": [
       "<div>\n",
       "<style scoped>\n",
       "    .dataframe tbody tr th:only-of-type {\n",
       "        vertical-align: middle;\n",
       "    }\n",
       "\n",
       "    .dataframe tbody tr th {\n",
       "        vertical-align: top;\n",
       "    }\n",
       "\n",
       "    .dataframe thead th {\n",
       "        text-align: right;\n",
       "    }\n",
       "</style>\n",
       "<table border=\"1\" class=\"dataframe\">\n",
       "  <thead>\n",
       "    <tr style=\"text-align: right;\">\n",
       "      <th></th>\n",
       "      <th>descriptor</th>\n",
       "      <th>id</th>\n",
       "      <th>19e</th>\n",
       "      <th>Portraits</th>\n",
       "    </tr>\n",
       "  </thead>\n",
       "  <tbody>\n",
       "    <tr>\n",
       "      <th>98</th>\n",
       "      <td>Offenbach, Jacques (1819-1880) -- Caricatures ...</td>\n",
       "      <td>https://gallica.bnf.fr/ark:/12148/btv1b53065466g</td>\n",
       "      <td>False</td>\n",
       "      <td>False</td>\n",
       "    </tr>\n",
       "    <tr>\n",
       "      <th>99</th>\n",
       "      <td>Caricatures et dessins humoristiques -- 19e si...</td>\n",
       "      <td>https://gallica.bnf.fr/ark:/12148/btv1b53065466g</td>\n",
       "      <td>True</td>\n",
       "      <td>False</td>\n",
       "    </tr>\n",
       "    <tr>\n",
       "      <th>186</th>\n",
       "      <td>Clairville (1811-1879) -- Caricatures et dessi...</td>\n",
       "      <td>https://gallica.bnf.fr/ark:/12148/btv1b53066427m</td>\n",
       "      <td>False</td>\n",
       "      <td>False</td>\n",
       "    </tr>\n",
       "    <tr>\n",
       "      <th>187</th>\n",
       "      <td>Caricatures et dessins humoristiques -- 19e si...</td>\n",
       "      <td>https://gallica.bnf.fr/ark:/12148/btv1b53066427m</td>\n",
       "      <td>True</td>\n",
       "      <td>False</td>\n",
       "    </tr>\n",
       "    <tr>\n",
       "      <th>194</th>\n",
       "      <td>Crémieux, Adolphe (1796-1880) -- Caricatures e...</td>\n",
       "      <td>https://gallica.bnf.fr/ark:/12148/btv1b53065960p</td>\n",
       "      <td>False</td>\n",
       "      <td>False</td>\n",
       "    </tr>\n",
       "  </tbody>\n",
       "</table>\n",
       "</div>"
      ],
      "text/plain": [
       "                                            descriptor  \\\n",
       "98   Offenbach, Jacques (1819-1880) -- Caricatures ...   \n",
       "99   Caricatures et dessins humoristiques -- 19e si...   \n",
       "186  Clairville (1811-1879) -- Caricatures et dessi...   \n",
       "187  Caricatures et dessins humoristiques -- 19e si...   \n",
       "194  Crémieux, Adolphe (1796-1880) -- Caricatures e...   \n",
       "\n",
       "                                                   id    19e  Portraits  \n",
       "98   https://gallica.bnf.fr/ark:/12148/btv1b53065466g  False      False  \n",
       "99   https://gallica.bnf.fr/ark:/12148/btv1b53065466g   True      False  \n",
       "186  https://gallica.bnf.fr/ark:/12148/btv1b53066427m  False      False  \n",
       "187  https://gallica.bnf.fr/ark:/12148/btv1b53066427m   True      False  \n",
       "194  https://gallica.bnf.fr/ark:/12148/btv1b53065960p  False      False  "
      ]
     },
     "execution_count": 30,
     "metadata": {},
     "output_type": "execute_result"
    }
   ],
   "source": [
    "subject_frame[~subject_frame.id.isin(portrait_ids)].head()"
   ]
  },
  {
   "cell_type": "markdown",
   "metadata": {},
   "source": [
    "we also get sculptures!"
   ]
  },
  {
   "cell_type": "code",
   "execution_count": 31,
   "metadata": {},
   "outputs": [
    {
     "data": {
      "text/plain": [
       "Scènes théâtrales -- 19e siècle                        111\n",
       "Sculpture de figures humaines                           57\n",
       "Beer, Friedrich (1846-1912) -- Oeuvres -- Sculpture     53\n",
       "Grévin, Alfred (1827-1892) -- Oeuvres -- Sculpture      53\n",
       "Caricatures et dessins humoristiques -- 19e siècle      37\n",
       "Name: descriptor, dtype: int64"
      ]
     },
     "execution_count": 31,
     "metadata": {},
     "output_type": "execute_result"
    }
   ],
   "source": [
    "subject_frame[~subject_frame.id.isin(portrait_ids)].descriptor.value_counts().head()"
   ]
  },
  {
   "cell_type": "code",
   "execution_count": 32,
   "metadata": {},
   "outputs": [],
   "source": [
    "subject_frame['caricature'] = subject_frame.descriptor.map(lambda x: 'Caricatures et dessins humoristiques' in x)"
   ]
  },
  {
   "cell_type": "code",
   "execution_count": 33,
   "metadata": {},
   "outputs": [
    {
     "data": {
      "text/plain": [
       "Scènes théâtrales -- 19e siècle                        111\n",
       "Sculpture de figures humaines                           57\n",
       "Grévin, Alfred (1827-1892) -- Oeuvres -- Sculpture      53\n",
       "Beer, Friedrich (1846-1912) -- Oeuvres -- Sculpture     53\n",
       "Vues d'intérieur -- 19e siècle                          21\n",
       "Name: descriptor, dtype: int64"
      ]
     },
     "execution_count": 33,
     "metadata": {},
     "output_type": "execute_result"
    }
   ],
   "source": [
    "subject_frame[~subject_frame.id.isin(portrait_ids) & ~subject_frame.caricature].descriptor.value_counts().head()"
   ]
  },
  {
   "cell_type": "markdown",
   "metadata": {},
   "source": [
    "## Extracting individual names:"
   ]
  },
  {
   "cell_type": "code",
   "execution_count": 34,
   "metadata": {},
   "outputs": [],
   "source": [
    "import re"
   ]
  },
  {
   "cell_type": "code",
   "execution_count": 35,
   "metadata": {},
   "outputs": [],
   "source": [
    "name = \"Grévin, Alfred (1827-1892)\"\n",
    "name_2 = \"Gobin (1982\"\n",
    "name_3 = 'Labounskaya, Marie -- Portraits'"
   ]
  },
  {
   "cell_type": "code",
   "execution_count": 36,
   "metadata": {},
   "outputs": [],
   "source": [
    "def find_names(name):\n",
    "    return re.findall('([\\S]* [\\S]* [\\S]*|[\\S]* [\\S]*|[\\S]*|[\\S]*\\, [\\S]*[ \\S*]+) \\([\\d]{2}', name)\n",
    "\n",
    "def find_names_undated(name):\n",
    "    return re.findall('([\\S]*|[\\S]*\\, [\\S]*[ \\S*]+) -- Portraits', name)"
   ]
  },
  {
   "cell_type": "code",
   "execution_count": 37,
   "metadata": {},
   "outputs": [
    {
     "data": {
      "text/plain": [
       "(['Grévin, Alfred'], ['Gobin'], ['Labounskaya, Marie'])"
      ]
     },
     "execution_count": 37,
     "metadata": {},
     "output_type": "execute_result"
    }
   ],
   "source": [
    "find_names(name), find_names(name_2), find_names_undated(name_3)"
   ]
  },
  {
   "cell_type": "code",
   "execution_count": 38,
   "metadata": {},
   "outputs": [],
   "source": [
    "subject_frame['subject_name'] = subject_frame.descriptor.map(find_names)"
   ]
  },
  {
   "cell_type": "code",
   "execution_count": 39,
   "metadata": {},
   "outputs": [],
   "source": [
    "no_name = subject_frame.subject_name.map(len) == 0\n",
    "subject_frame.loc[ no_name, 'subject_name'] = subject_frame[no_name].descriptor.map(find_names_undated)"
   ]
  },
  {
   "cell_type": "code",
   "execution_count": 40,
   "metadata": {},
   "outputs": [],
   "source": [
    "no_name = subject_frame.subject_name.map(len) == 0"
   ]
  },
  {
   "cell_type": "code",
   "execution_count": 41,
   "metadata": {},
   "outputs": [
    {
     "data": {
      "text/plain": [
       "1                        Portraits de studio -- 19e siècle\n",
       "9                       Portraits du théâtre -- 19e siècle\n",
       "24                         Scènes théâtrales -- 19e siècle\n",
       "45                              Cour et courtisans -- Iran\n",
       "48                                 Portraits -- 19e siècle\n",
       "53                                             Violonistes\n",
       "64                                               Cyclistes\n",
       "88                         Ambassadeurs japonais -- France\n",
       "90                          Ambassadeurs chinois -- France\n",
       "99       Caricatures et dessins humoristiques -- 19e si...\n",
       "105                            Autoportraits -- 19e siècle\n",
       "158                                                Ballons\n",
       "182                    Portraits d'intérieur -- 19e siècle\n",
       "244                                 Déguisements (costume)\n",
       "262                                 Dessin -- Reproduction\n",
       "263                         Vues d'intérieur -- 19e siècle\n",
       "292                                                 Géants\n",
       "298                                              Chasseurs\n",
       "462                                                Statues\n",
       "598                                              Danseuses\n",
       "614                                            Trapézistes\n",
       "618                                            Nourrissons\n",
       "936                                                  Chien\n",
       "937               Représentations animalières -- 1870-1913\n",
       "1102                                               Enfants\n",
       "1226                                             Mandoline\n",
       "1230                    Portraits collectifs -- 19e siècle\n",
       "1463                       Ballons -- France -- 19e siècle\n",
       "1464                 Représentations d'objet -- 19e siècle\n",
       "1475                                            Casseroles\n",
       "                               ...                        \n",
       "12771                                Autobus -- Au théâtre\n",
       "12931                                      Violoncellistes\n",
       "13158                                   Bustes (sculpture)\n",
       "13950                                                  Âne\n",
       "14492                                                Vigne\n",
       "14594                            Bicyclettes -- Au théâtre\n",
       "14628                                   Indiens d'Amérique\n",
       "15525                                       Paquin (Firme)\n",
       "17804                                  Sang -- Transfusion\n",
       "17805                        Hôpitaux -- Personnel médical\n",
       "18017               Violoncellistes -- Hollande (Pays-Bas)\n",
       "18094                     Ambassadeurs portugais -- France\n",
       "18364                          Diplomates danois -- France\n",
       "18597         Bureaux (pièces) -- France -- Paris (France)\n",
       "18603    Colonisation -- Afrique subsaharienne -- 19e s...\n",
       "18813                    Ateliers d'artistes -- Au théâtre\n",
       "19188                                                Roues\n",
       "19279                                       Minstrel shows\n",
       "22277                                  Actrices travesties\n",
       "23620                          Diplomates russes -- France\n",
       "23670                                         Ombre portée\n",
       "23674                                 Présidents -- France\n",
       "24043                                    Acteurs travestis\n",
       "24561    Rueil-Malmaison (Hauts-de-Seine) -- Château de...\n",
       "27595                                Maison Doucet (Paris)\n",
       "650                      Portraits équestres -- 19e siècle\n",
       "3670                           Expositions de photographie\n",
       "4795                  Portraits de plein air -- 19e siècle\n",
       "6175                                   Portraits de studio\n",
       "8382                                Paysages -- 19e siècle\n",
       "Name: descriptor, Length: 124, dtype: object"
      ]
     },
     "execution_count": 41,
     "metadata": {},
     "output_type": "execute_result"
    }
   ],
   "source": [
    "subject_frame[no_name]['descriptor'].drop_duplicates()"
   ]
  },
  {
   "cell_type": "code",
   "execution_count": 42,
   "metadata": {},
   "outputs": [],
   "source": [
    "named_subjects = subject_frame[subject_frame.subject_name.map(len) > 0].id.unique()"
   ]
  },
  {
   "cell_type": "markdown",
   "metadata": {},
   "source": [
    "number of images we can find a name to:"
   ]
  },
  {
   "cell_type": "code",
   "execution_count": 43,
   "metadata": {},
   "outputs": [
    {
     "data": {
      "text/plain": [
       "13387"
      ]
     },
     "execution_count": 43,
     "metadata": {},
     "output_type": "execute_result"
    }
   ],
   "source": [
    "len(named_subjects)"
   ]
  },
  {
   "cell_type": "markdown",
   "metadata": {},
   "source": [
    "# at most 1940"
   ]
  },
  {
   "cell_type": "code",
   "execution_count": 44,
   "metadata": {},
   "outputs": [
    {
     "data": {
      "text/plain": [
       "1937"
      ]
     },
     "execution_count": 44,
     "metadata": {},
     "output_type": "execute_result"
    }
   ],
   "source": [
    "subject_frame[subject_frame.subject_name.map(len) > 0].subject_name.map(str).unique().__len__()"
   ]
  },
  {
   "cell_type": "code",
   "execution_count": 45,
   "metadata": {},
   "outputs": [
    {
     "data": {
      "text/plain": [
       "13387"
      ]
     },
     "execution_count": 45,
     "metadata": {},
     "output_type": "execute_result"
    }
   ],
   "source": [
    "subject_frame[subject_frame.subject_name.map(len) > 0].id.unique().__len__()"
   ]
  },
  {
   "cell_type": "code",
   "execution_count": 46,
   "metadata": {},
   "outputs": [],
   "source": [
    "subject_frame.loc[~no_name, 'named_subject'] = subject_frame[~no_name].subject_name.map(lambda x: x[0])"
   ]
  },
  {
   "cell_type": "code",
   "execution_count": 47,
   "metadata": {},
   "outputs": [
    {
     "data": {
      "text/plain": [
       "Bernhardt, Sarah      424\n",
       "Réjane                168\n",
       "Théo, Louise          146\n",
       "Mily-Meyer, Emilie    136\n",
       "Brasseur, Albert      115\n",
       "Name: named_subject, dtype: int64"
      ]
     },
     "execution_count": 47,
     "metadata": {},
     "output_type": "execute_result"
    }
   ],
   "source": [
    "subject_frame.named_subject.value_counts().head()"
   ]
  },
  {
   "cell_type": "code",
   "execution_count": 48,
   "metadata": {},
   "outputs": [],
   "source": [
    "#explore_names[explore_names.index.map(len) < 10]"
   ]
  },
  {
   "cell_type": "code",
   "execution_count": 49,
   "metadata": {},
   "outputs": [
    {
     "data": {
      "text/plain": [
       "1938"
      ]
     },
     "execution_count": 49,
     "metadata": {},
     "output_type": "execute_result"
    }
   ],
   "source": [
    "subject_frame.named_subject.unique().__len__()"
   ]
  },
  {
   "cell_type": "code",
   "execution_count": 50,
   "metadata": {},
   "outputs": [
    {
     "data": {
      "text/plain": [
       "True     1416\n",
       "False     521\n",
       "Name: named_subject, dtype: int64"
      ]
     },
     "execution_count": 50,
     "metadata": {},
     "output_type": "execute_result"
    }
   ],
   "source": [
    "(subject_frame.named_subject.value_counts() > 1).value_counts()"
   ]
  },
  {
   "cell_type": "code",
   "execution_count": 51,
   "metadata": {},
   "outputs": [
    {
     "data": {
      "text/plain": [
       "<matplotlib.axes._subplots.AxesSubplot at 0x204f4e822b0>"
      ]
     },
     "execution_count": 51,
     "metadata": {},
     "output_type": "execute_result"
    },
    {
     "data": {
      "image/png": "[encoded data removed]",
      "text/plain": [
       "<Figure size 432x288 with 1 Axes>"
      ]
     },
     "metadata": {
      "needs_background": "light"
     },
     "output_type": "display_data"
    }
   ],
   "source": [
    "explore_names = subject_frame.named_subject.value_counts()\n",
    "explore_names.hist(bins=50)"
   ]
  },
  {
   "cell_type": "markdown",
   "metadata": {},
   "source": [
    "number of names we have:"
   ]
  },
  {
   "cell_type": "code",
   "execution_count": 52,
   "metadata": {},
   "outputs": [
    {
     "data": {
      "text/plain": [
       "1937"
      ]
     },
     "execution_count": 52,
     "metadata": {},
     "output_type": "execute_result"
    }
   ],
   "source": [
    "subject_frame.named_subject.value_counts().count()"
   ]
  },
  {
   "cell_type": "markdown",
   "metadata": {},
   "source": [
    "how many resources does that correspond to:"
   ]
  },
  {
   "cell_type": "code",
   "execution_count": 53,
   "metadata": {},
   "outputs": [],
   "source": [
    "id_identified = subject_frame[subject_frame.named_subject.notna()].id.unique()"
   ]
  },
  {
   "cell_type": "markdown",
   "metadata": {},
   "source": [
    "# about half of the images belong to known person"
   ]
  },
  {
   "cell_type": "code",
   "execution_count": 54,
   "metadata": {},
   "outputs": [
    {
     "data": {
      "text/plain": [
       "13387"
      ]
     },
     "execution_count": 54,
     "metadata": {},
     "output_type": "execute_result"
    }
   ],
   "source": [
    "subject_frame[subject_frame.named_subject.notna()].id.unique().__len__()"
   ]
  },
  {
   "cell_type": "code",
   "execution_count": 55,
   "metadata": {},
   "outputs": [
    {
     "data": {
      "text/plain": [
       "23535"
      ]
     },
     "execution_count": 55,
     "metadata": {},
     "output_type": "execute_result"
    }
   ],
   "source": [
    "len(set(subject_frame.id.unique())) # nbr unique ids"
   ]
  },
  {
   "cell_type": "markdown",
   "metadata": {},
   "source": [
    "a lot of them don't tell us the name in the source, but it can be found in the title"
   ]
  },
  {
   "cell_type": "code",
   "execution_count": 56,
   "metadata": {},
   "outputs": [
    {
     "data": {
      "text/plain": [
       "10148"
      ]
     },
     "execution_count": 56,
     "metadata": {},
     "output_type": "execute_result"
    }
   ],
   "source": [
    "len(set(subject_frame.id.unique()).difference(set(id_identified)))"
   ]
  },
  {
   "cell_type": "code",
   "execution_count": 57,
   "metadata": {},
   "outputs": [
    {
     "data": {
      "text/plain": [
       "Portraits du théâtre -- 19e siècle    6130\n",
       "Portraits de studio -- 19e siècle     2513\n",
       "Portraits -- 19e siècle               1278\n",
       "Scènes théâtrales -- 19e siècle        212\n",
       "Portraits collectifs -- 19e siècle     208\n",
       "Costumes -- 19e siècle                  79\n",
       "Lanvin (Maison de couture)              67\n",
       "Danseuses                               67\n",
       "Enfants                                 55\n",
       "Tournée Brasseur                        44\n",
       "Name: descriptor, dtype: int64"
      ]
     },
     "execution_count": 57,
     "metadata": {},
     "output_type": "execute_result"
    }
   ],
   "source": [
    "subject_frame[~subject_frame.id.isin(named_subjects)].descriptor.value_counts().head(10)"
   ]
  },
  {
   "cell_type": "code",
   "execution_count": 58,
   "metadata": {},
   "outputs": [
    {
     "data": {
      "text/plain": [
       "Scènes théâtrales -- 19e siècle                     111\n",
       "Représentations d'objet -- 19e siècle                17\n",
       "Représentations animalières -- 19e siècle            12\n",
       "Tableaux vivants et mises en scène -- 19e siècle     10\n",
       "Tournée Brasseur                                      8\n",
       "Name: descriptor, dtype: int64"
      ]
     },
     "execution_count": 58,
     "metadata": {},
     "output_type": "execute_result"
    }
   ],
   "source": [
    "subject_frame[~subject_frame.id.isin(portrait_ids) & ~subject_frame.id.isin(named_subjects)].descriptor.value_counts().head()"
   ]
  },
  {
   "cell_type": "code",
   "execution_count": 59,
   "metadata": {},
   "outputs": [
    {
     "data": {
      "text/html": [
       "<div>\n",
       "<style scoped>\n",
       "    .dataframe tbody tr th:only-of-type {\n",
       "        vertical-align: middle;\n",
       "    }\n",
       "\n",
       "    .dataframe tbody tr th {\n",
       "        vertical-align: top;\n",
       "    }\n",
       "\n",
       "    .dataframe thead th {\n",
       "        text-align: right;\n",
       "    }\n",
       "</style>\n",
       "<table border=\"1\" class=\"dataframe\">\n",
       "  <thead>\n",
       "    <tr style=\"text-align: right;\">\n",
       "      <th></th>\n",
       "      <th>descriptor</th>\n",
       "      <th>id</th>\n",
       "      <th>19e</th>\n",
       "      <th>Portraits</th>\n",
       "      <th>caricature</th>\n",
       "      <th>subject_name</th>\n",
       "      <th>named_subject</th>\n",
       "    </tr>\n",
       "  </thead>\n",
       "  <tbody>\n",
       "    <tr>\n",
       "      <th>98</th>\n",
       "      <td>Offenbach, Jacques (1819-1880) -- Caricatures ...</td>\n",
       "      <td>https://gallica.bnf.fr/ark:/12148/btv1b53065466g</td>\n",
       "      <td>False</td>\n",
       "      <td>False</td>\n",
       "      <td>True</td>\n",
       "      <td>[Offenbach, Jacques]</td>\n",
       "      <td>Offenbach, Jacques</td>\n",
       "    </tr>\n",
       "    <tr>\n",
       "      <th>99</th>\n",
       "      <td>Caricatures et dessins humoristiques -- 19e si...</td>\n",
       "      <td>https://gallica.bnf.fr/ark:/12148/btv1b53065466g</td>\n",
       "      <td>True</td>\n",
       "      <td>False</td>\n",
       "      <td>True</td>\n",
       "      <td>[]</td>\n",
       "      <td>NaN</td>\n",
       "    </tr>\n",
       "    <tr>\n",
       "      <th>186</th>\n",
       "      <td>Clairville (1811-1879) -- Caricatures et dessi...</td>\n",
       "      <td>https://gallica.bnf.fr/ark:/12148/btv1b53066427m</td>\n",
       "      <td>False</td>\n",
       "      <td>False</td>\n",
       "      <td>True</td>\n",
       "      <td>[Clairville]</td>\n",
       "      <td>Clairville</td>\n",
       "    </tr>\n",
       "    <tr>\n",
       "      <th>187</th>\n",
       "      <td>Caricatures et dessins humoristiques -- 19e si...</td>\n",
       "      <td>https://gallica.bnf.fr/ark:/12148/btv1b53066427m</td>\n",
       "      <td>True</td>\n",
       "      <td>False</td>\n",
       "      <td>True</td>\n",
       "      <td>[]</td>\n",
       "      <td>NaN</td>\n",
       "    </tr>\n",
       "    <tr>\n",
       "      <th>194</th>\n",
       "      <td>Crémieux, Adolphe (1796-1880) -- Caricatures e...</td>\n",
       "      <td>https://gallica.bnf.fr/ark:/12148/btv1b53065960p</td>\n",
       "      <td>False</td>\n",
       "      <td>False</td>\n",
       "      <td>True</td>\n",
       "      <td>[Crémieux, Adolphe]</td>\n",
       "      <td>Crémieux, Adolphe</td>\n",
       "    </tr>\n",
       "  </tbody>\n",
       "</table>\n",
       "</div>"
      ],
      "text/plain": [
       "                                            descriptor  \\\n",
       "98   Offenbach, Jacques (1819-1880) -- Caricatures ...   \n",
       "99   Caricatures et dessins humoristiques -- 19e si...   \n",
       "186  Clairville (1811-1879) -- Caricatures et dessi...   \n",
       "187  Caricatures et dessins humoristiques -- 19e si...   \n",
       "194  Crémieux, Adolphe (1796-1880) -- Caricatures e...   \n",
       "\n",
       "                                                   id    19e  Portraits  \\\n",
       "98   https://gallica.bnf.fr/ark:/12148/btv1b53065466g  False      False   \n",
       "99   https://gallica.bnf.fr/ark:/12148/btv1b53065466g   True      False   \n",
       "186  https://gallica.bnf.fr/ark:/12148/btv1b53066427m  False      False   \n",
       "187  https://gallica.bnf.fr/ark:/12148/btv1b53066427m   True      False   \n",
       "194  https://gallica.bnf.fr/ark:/12148/btv1b53065960p  False      False   \n",
       "\n",
       "     caricature          subject_name       named_subject  \n",
       "98         True  [Offenbach, Jacques]  Offenbach, Jacques  \n",
       "99         True                    []                 NaN  \n",
       "186        True          [Clairville]          Clairville  \n",
       "187        True                    []                 NaN  \n",
       "194        True   [Crémieux, Adolphe]   Crémieux, Adolphe  "
      ]
     },
     "execution_count": 59,
     "metadata": {},
     "output_type": "execute_result"
    }
   ],
   "source": [
    "subject_frame[~subject_frame.id.isin(portrait_ids)].head()"
   ]
  },
  {
   "cell_type": "code",
   "execution_count": 60,
   "metadata": {},
   "outputs": [
    {
     "data": {
      "text/plain": [
       "1    23503\n",
       "2       32\n",
       "Name: dc:title, dtype: int64"
      ]
     },
     "execution_count": 60,
     "metadata": {},
     "output_type": "execute_result"
    }
   ],
   "source": [
    "df['dc:title'].map(lambda x: len(x) if type(x) == list else 1).value_counts()"
   ]
  },
  {
   "cell_type": "code",
   "execution_count": 61,
   "metadata": {},
   "outputs": [],
   "source": [
    "df['nbr_title'] = df['dc:title'].map(lambda x: len(x) if type(x) == list else 1)"
   ]
  },
  {
   "cell_type": "code",
   "execution_count": 62,
   "metadata": {},
   "outputs": [
    {
     "data": {
      "text/plain": [
       "['Miss Potter [i.e. Potters]. Américaine. Actrice : [photographie, tirage de démonstration] / [Atelier Nadar]',\n",
       " \"[Martial. Nouveautés. Le misanthrope et l'amour i.e. l'auvergnat] : [photographie, tirage de démonstration] / [Atelier Nadar]\",\n",
       " 'Calvé. Opéra-Comique. [Lalla-Roukh] : [photographie, tirage de démonstration] / [Atelier Nadar]',\n",
       " '[Savoyer] : [photographie, tirage de démonstration] / [Atelier Nadar]',\n",
       " 'Modes Lanvin : [photographie, tirage de démonstration] / [Atelier Nadar]',\n",
       " 'Arnoldson. Opéra-Comique. Le Barbier de Séville : [photographie, tirage de démonstration] / [Atelier Nadar]',\n",
       " 'M[lle] Sallard : [photographie, tirage de démonstration] / [Atelier Nadar]',\n",
       " 'M. Candé. (M[adame] Sans Gêne). Vaudeville : [photographie, tirage de démonstration] / [Atelier Nadar]',\n",
       " \"[Portrait d'un homme] : [photographie, tirage de démonstration] / [Atelier Nadar]\",\n",
       " 'Vaillant et Vauthier : [photographie, tirage de démonstration] / [Atelier Nadar]']"
      ]
     },
     "execution_count": 62,
     "metadata": {},
     "output_type": "execute_result"
    }
   ],
   "source": [
    "df[df.nbr_title == 1]['dc:title'].sample(10).tolist()"
   ]
  },
  {
   "cell_type": "code",
   "execution_count": 63,
   "metadata": {},
   "outputs": [],
   "source": [
    "def find_names_title(name):\n",
    "    return [x.strip() for x in re.findall('([\\S\\s ^(\\:)]*) \\: ', name) if len(x.strip()) > 0]"
   ]
  },
  {
   "cell_type": "code",
   "execution_count": 64,
   "metadata": {},
   "outputs": [],
   "source": [
    "def extract_from_brackets(name):\n",
    "    return re.findall('\\[([\\w \\-\\,\\.]*)\\]', name)"
   ]
  },
  {
   "cell_type": "code",
   "execution_count": 65,
   "metadata": {},
   "outputs": [],
   "source": [
    "def fix_bad_naming(name):\n",
    "    return re.sub('[\\[\\]]*', '', name)"
   ]
  },
  {
   "cell_type": "code",
   "execution_count": 66,
   "metadata": {},
   "outputs": [],
   "source": [
    "text_1 = 'Huguet. Folies-Dramatiques. La petite fronde : [photographie, tirage de démonstration] / [Atelier Nadar]'"
   ]
  },
  {
   "cell_type": "code",
   "execution_count": 67,
   "metadata": {},
   "outputs": [],
   "source": [
    "text_2 = 'Armand.[lol] Châtelet : [photographie :,'"
   ]
  },
  {
   "cell_type": "code",
   "execution_count": 68,
   "metadata": {},
   "outputs": [
    {
     "data": {
      "text/plain": [
       "'Armand.lol Châtelet : photographie :,'"
      ]
     },
     "execution_count": 68,
     "metadata": {},
     "output_type": "execute_result"
    }
   ],
   "source": [
    "fix_bad_naming(text_2)"
   ]
  },
  {
   "cell_type": "code",
   "execution_count": 69,
   "metadata": {},
   "outputs": [
    {
     "data": {
      "text/plain": [
       "['photographie, tirage de démonstration', 'Atelier Nadar']"
      ]
     },
     "execution_count": 69,
     "metadata": {},
     "output_type": "execute_result"
    }
   ],
   "source": [
    "extract_from_brackets(text_1)"
   ]
  },
  {
   "cell_type": "code",
   "execution_count": 70,
   "metadata": {},
   "outputs": [
    {
     "data": {
      "text/plain": [
       "[photographie, tirage de démonstration, Atelier Nadar]                                           14918\n",
       "[lle, photographie, tirage de démonstration, Atelier Nadar]                                       1004\n",
       "[me, photographie, tirage de démonstration, Atelier Nadar]                                         110\n",
       "[Renaissance. En scène, mesdemoiselles, photographie, tirage de démonstration, Atelier Nadar]       51\n",
       "[i.e. Lantelme, photographie, tirage de démonstration, Atelier Nadar]                               45\n",
       "Name: dc:title, dtype: int64"
      ]
     },
     "execution_count": 70,
     "metadata": {},
     "output_type": "execute_result"
    }
   ],
   "source": [
    "df[df.nbr_title == 1]['dc:title'].map(extract_from_brackets).value_counts().head()"
   ]
  },
  {
   "cell_type": "code",
   "execution_count": 71,
   "metadata": {},
   "outputs": [],
   "source": [
    "df.loc[df.nbr_title == 1, 'first_title'] = df[df.nbr_title == 1]['dc:title'].map(find_names_title)"
   ]
  },
  {
   "cell_type": "code",
   "execution_count": 72,
   "metadata": {},
   "outputs": [
    {
     "data": {
      "text/plain": [
       "1    23502\n",
       "0        1\n",
       "Name: first_title, dtype: int64"
      ]
     },
     "execution_count": 72,
     "metadata": {},
     "output_type": "execute_result"
    }
   ],
   "source": [
    "df.first_title.dropna().map(len).value_counts()"
   ]
  },
  {
   "cell_type": "code",
   "execution_count": 73,
   "metadata": {},
   "outputs": [
    {
     "data": {
      "text/plain": [
       "['[Gabrielle Figuet / [Atelier Nadar]']"
      ]
     },
     "execution_count": 73,
     "metadata": {},
     "output_type": "execute_result"
    }
   ],
   "source": [
    "df[df.first_title.map(lambda x: len(x)==0 if type(x) ==list else False)]['dc:title'].tolist()"
   ]
  },
  {
   "cell_type": "code",
   "execution_count": 74,
   "metadata": {},
   "outputs": [],
   "source": [
    "df.loc[df.first_title.notna(), 'first_title'] = df[\n",
    "    df.first_title.notna()].first_title.map(\n",
    "    lambda x: fix_bad_naming(x[0]) if len(x)>0  else x)#.value_counts()"
   ]
  },
  {
   "cell_type": "code",
   "execution_count": 75,
   "metadata": {},
   "outputs": [
    {
     "data": {
      "text/plain": [
       "dc:creator         23535\n",
       "dc:date            23535\n",
       "dc:description       180\n",
       "dc:relation        23535\n",
       "dc:source          23535\n",
       "dc:subject         23535\n",
       "dc:title           23535\n",
       "id                 23535\n",
       "subject_is_list    23535\n",
       "len_list           14073\n",
       "nbr_title          23535\n",
       "first_title        23503\n",
       "dtype: int64"
      ]
     },
     "execution_count": 75,
     "metadata": {},
     "output_type": "execute_result"
    }
   ],
   "source": [
    "df.count()"
   ]
  },
  {
   "cell_type": "code",
   "execution_count": 76,
   "metadata": {},
   "outputs": [],
   "source": [
    "df = pd.merge(df, subject_frame[['id', 'named_subject']].dropna(), on='id', how='outer')"
   ]
  },
  {
   "cell_type": "code",
   "execution_count": 77,
   "metadata": {},
   "outputs": [
    {
     "data": {
      "text/plain": [
       "dc:creator         24317\n",
       "dc:date            24317\n",
       "dc:description       187\n",
       "dc:relation        24317\n",
       "dc:source          24317\n",
       "dc:subject         24317\n",
       "dc:title           24317\n",
       "id                 24317\n",
       "subject_is_list    24317\n",
       "len_list           14855\n",
       "nbr_title          24317\n",
       "first_title        24285\n",
       "named_subject      14169\n",
       "dtype: int64"
      ]
     },
     "execution_count": 77,
     "metadata": {},
     "output_type": "execute_result"
    }
   ],
   "source": [
    "df.count()"
   ]
  },
  {
   "cell_type": "code",
   "execution_count": 78,
   "metadata": {},
   "outputs": [],
   "source": [
    "df.loc[df.first_title.isna() & df['dc:title'].notna(), 'first_title'] = df[    df.first_title.isna( )& df['dc:title'].notna()]['dc:title'].map(lambda x: fix_bad_naming(find_names_title(x[0])[0])).tolist()"
   ]
  },
  {
   "cell_type": "code",
   "execution_count": 79,
   "metadata": {},
   "outputs": [
    {
     "data": {
      "text/plain": [
       "113"
      ]
     },
     "execution_count": 79,
     "metadata": {},
     "output_type": "execute_result"
    }
   ],
   "source": [
    "df[df.named_subject.isna()]['dc:subject'].value_counts().index.tolist().__len__()"
   ]
  },
  {
   "cell_type": "code",
   "execution_count": 80,
   "metadata": {},
   "outputs": [
    {
     "data": {
      "text/plain": [
       "False    14169\n",
       "Name: named_subject, dtype: int64"
      ]
     },
     "execution_count": 80,
     "metadata": {},
     "output_type": "execute_result"
    }
   ],
   "source": [
    "df.named_subject.dropna().map(lambda x: 'Charlaviski' in x).value_counts()"
   ]
  },
  {
   "cell_type": "code",
   "execution_count": 81,
   "metadata": {},
   "outputs": [
    {
     "data": {
      "text/plain": [
       "3                                      Groupe de paysannes\n",
       "24                     Groupe. Folies-Dramatiques. Juanita\n",
       "103          Groupe de six acteurs. (Gaîté). \"Le Talisman\"\n",
       "616                                   Société Colombophile\n",
       "637                                              Pyrénéens\n",
       "2247                      Groupe. En scène, mesdemoiselles\n",
       "3054                       Rédaction du journal \"Le Droit\"\n",
       "3305     Groupe. (Renaissance). \"En scène, mesdemoiselles\"\n",
       "4217             Souris. Châtelet groupe d'enfants acteurs\n",
       "5160     Mlles Barbier, Margueritte, Millia. Nouveau Ci...\n",
       "6231                                  Congrès astronomique\n",
       "6784                      Pons de Léon I. e. Ponce de Leon\n",
       "7651                  Mis Pons de Léon i. e. Ponce de Leon\n",
       "9013         Groupe. Renaissance. En scène, mesdemoiselles\n",
       "9030                  Groupe. Renaissance. L'hôtel Godelot\n",
       "10383       Groupe. (Renaissance). Les 12 femmes de Japhet\n",
       "10390          Groupe petit Poucet. Gaîté. Le petit Poucet\n",
       "10779                             Groupe. Madame Sans-Gêne\n",
       "11991    Groupe d'acteurs. Folies-Dramatiques. Miss Rob...\n",
       "12745               Groupe acteurs. (Gaîté). \"Le Talisman\"\n",
       "13475           Me Aurat. Gaîté. Les cloches de Corneville\n",
       "13686                            Mlles Suzanne et Lucienne\n",
       "14665      Groupe. Théâtre de la Gaîté. La fée aux chèvres\n",
       "14669      Groupe. Théâtre de la Gaîté. La fée aux chèvres\n",
       "14673      Groupe. Théâtre de la Gaîté. La fée aux chèvres\n",
       "14985      Groupe. Théâtre de la Gaîté. La fée aux chèvres\n",
       "14987      Groupe. Théâtre de la Gaîté. La fée aux chèvres\n",
       "14990    Groupe de cueillette de pommes. Gaîté. Les clo...\n",
       "14995    Groupe de cueillette de pommes. Gaîté. Les clo...\n",
       "15015    Groupe de 5 cinq personnes. Gaîté. Troisième H...\n",
       "16430                          Mille et une Nuits (Groupe)\n",
       "16568                                            Pyrénéens\n",
       "17015                    Groupe. Gaîté. La fée aux chèvres\n",
       "17372    Portrait de femmes non identifiées. Folies-Dra...\n",
       "17513           Me Aurat. Gaîté. Les cloches de Corneville\n",
       "18604    Groupe de femmes et Me Aline Vauthier. Folies-...\n",
       "18614    Groupe sept personnes. Gaîté. Le troisième Hus...\n",
       "18930      Groupe. Théâtre de la Gaîté. La fée aux chèvres\n",
       "19239      Groupe. Théâtre de la Gaîté. La fée aux chèvres\n",
       "19771                             Groupe. Madame Sans-Gêne\n",
       "20346    M. Dacheux et 5 personnes. Folies -Dramatiques...\n",
       "20579    Mlles Barbier, Margueritte, Millia. (Nouveau C...\n",
       "23020                        Groupe Douze femmes de Japhet\n",
       "23698      Groupe. Théâtre de la Gaîté. La fée aux chèvres\n",
       "Name: first_title, dtype: object"
      ]
     },
     "execution_count": 81,
     "metadata": {},
     "output_type": "execute_result"
    }
   ],
   "source": [
    "df[df.first_title.notna() & df.named_subject.isna() & df['dc:subject'].map(lambda x: 'collectifs' in x)].first_title"
   ]
  },
  {
   "cell_type": "markdown",
   "metadata": {},
   "source": [
    "## now that we have extracted names for most people, get years lived where available (from subject)"
   ]
  },
  {
   "cell_type": "code",
   "execution_count": 82,
   "metadata": {},
   "outputs": [],
   "source": [
    "def get_years(string):\n",
    "    x = re.findall('\\(([\\d{4}  -]+)\\)', string)\n",
    "    if len(x) == 0:\n",
    "        return None\n",
    "    return x[0]\n",
    "\n",
    "def get_years_special(string):\n",
    "    x = re.findall('\\(([\\d{4}\\d{2}  -\\.\\?]+)[\\S \\;]*\\)', string)\n",
    "    if len(x) == 0:\n",
    "        return None\n",
    "    return x[0]"
   ]
  },
  {
   "cell_type": "code",
   "execution_count": 83,
   "metadata": {},
   "outputs": [],
   "source": [
    "subject_frame['years'] = subject_frame.descriptor.map(get_years) "
   ]
  },
  {
   "cell_type": "code",
   "execution_count": 84,
   "metadata": {},
   "outputs": [
    {
     "data": {
      "text/plain": [
       "'18..-1928'"
      ]
     },
     "execution_count": 84,
     "metadata": {},
     "output_type": "execute_result"
    }
   ],
   "source": [
    "get_years_special('Febvre, Paul (18..-1928)')"
   ]
  },
  {
   "cell_type": "markdown",
   "metadata": {},
   "source": [
    "41 for which we can't find perfect match"
   ]
  },
  {
   "cell_type": "code",
   "execution_count": 85,
   "metadata": {},
   "outputs": [
    {
     "data": {
      "text/plain": [
       "descriptor       3157\n",
       "id               3157\n",
       "19e              3157\n",
       "Portraits        3157\n",
       "caricature       3157\n",
       "subject_name     3157\n",
       "named_subject    3157\n",
       "years               0\n",
       "dtype: int64"
      ]
     },
     "execution_count": 85,
     "metadata": {},
     "output_type": "execute_result"
    }
   ],
   "source": [
    "unmatched = subject_frame.years.isna() & subject_frame.descriptor.map(lambda x: '(1' in x)\n",
    "subject_frame[unmatched].count()"
   ]
  },
  {
   "cell_type": "code",
   "execution_count": 86,
   "metadata": {},
   "outputs": [
    {
     "data": {
      "text/plain": [
       "12              Decroza, Francine (1868-19..) -- Portraits\n",
       "23              Decroza, Francine (1868-19..) -- Portraits\n",
       "26              Decroza, Francine (1868-19..) -- Portraits\n",
       "34               Dauville, Louise (18..-19..) -- Portraits\n",
       "44       Nâser ed-Din (1831-1896 ; shah d'Iran) -- Port...\n",
       "49       Gélabert, Conchita, Marie (1858-19.. ; actrice...\n",
       "55       Nâser ed-Din (1831-1896 ; shah d'Iran) -- Port...\n",
       "67               Armand, Victorin (18..-1896) -- Portraits\n",
       "68                         Bellot (18..-19..) -- Portraits\n",
       "74       Nâser ed-Din (1831-1896 ; shah d'Iran) -- Port...\n",
       "84       Joséphine (1763-1814 ; impératrice des Françai...\n",
       "308                 Kelm, Joseph (1802?-1882) -- Portraits\n",
       "310                 Kelm, Joseph (1802?-1882) -- Portraits\n",
       "312                 Kelm, Joseph (1802?-1882) -- Portraits\n",
       "316                 Kelm, Joseph (1802?-1882) -- Portraits\n",
       "318                 Kelm, Joseph (1802?-1882) -- Portraits\n",
       "322                        Angèle (18..-19..) -- Portraits\n",
       "332             Bianca (1841?-1912 ; actrice) -- Portraits\n",
       "354      Faivre, Céleste (18..-1... ; actrice) -- Portr...\n",
       "364      Faivre, Céleste (18..-1... ; actrice) -- Portr...\n",
       "430                   Pasca, Alix (1835-19..) -- Portraits\n",
       "456                     Cornélie (1830?-1876) -- Portraits\n",
       "478      Faivre, Céleste (18..-1... ; actrice) -- Portr...\n",
       "488                     Dieudonné (18..-1903) -- Portraits\n",
       "498               Salla, Caroline (1852-....) -- Portraits\n",
       "512                        Angelo (18..-18..) -- Portraits\n",
       "518              Philipon, Eugène (18..-1874) -- Portraits\n",
       "542                 Sermet, Mario (1857-19..) -- Portraits\n",
       "578                               Febvre, Paul (18..-1928)\n",
       "582                Patry, Pauline (1856-19..) -- Portraits\n",
       "                               ...                        \n",
       "29874            Armand, Victorin (18..-1896) -- Portraits\n",
       "29876            Thibault, Jeanne (18..-19..) -- Portraits\n",
       "29883    Riga, Jean-Baptiste, Marcelin, Arthur (1850-19...\n",
       "29897       Dezoder, Mademoiselle (18..-19..) -- Portraits\n",
       "29904               Mlle Verneuil (1869-19..) -- Portraits\n",
       "29905    Drunzer, Camille-Gabrielle (1873-19..) -- Port...\n",
       "29924              Petit, Hélène (1852-1880?) -- Portraits\n",
       "29929                 Munte, Lina (18..-1909) -- Portraits\n",
       "29930              Petit, Hélène (1852-1880?) -- Portraits\n",
       "29934              Petit, Hélène (1852-1880?) -- Portraits\n",
       "29939            Scipion (18..-19.. ; acteur) -- Portraits\n",
       "29943            Scipion (18..-19.. ; acteur) -- Portraits\n",
       "29995                 Evans, Jane (18..-19..) -- Portraits\n",
       "29997                 Evans, Jane (18..-19..) -- Portraits\n",
       "29999          Hamburger, Edouard (18..-1886) -- Portraits\n",
       "30001              Lamy, François (18..-1903) -- Portraits\n",
       "30014              Elven, Suzanne (18..-1906) -- Portraits\n",
       "30016              Elven, Suzanne (18..-1906) -- Portraits\n",
       "30020            Brunais (18..-19.. ; acteur) -- Portraits\n",
       "30030    Gélabert, Conchita, Marie (1858-19.. ; actrice...\n",
       "30035    Gélabert, Conchita, Marie (1858-19.. ; actrice...\n",
       "30059             Larcher, Eugène (1856-19..) -- Portraits\n",
       "30064             Larcher, Eugène (1856-19..) -- Portraits\n",
       "30078             Larcher, Eugène (1856-19..) -- Portraits\n",
       "30084         Mary-Albert, Madame (1855-....) -- Portraits\n",
       "30087            Scipion (18..-19.. ; acteur) -- Portraits\n",
       "30091         Mary-Albert, Madame (1855-....) -- Portraits\n",
       "30094            Scipion (18..-19.. ; acteur) -- Portraits\n",
       "30126           Chabot (18..-19.. ; danseuse) -- Portraits\n",
       "8219               Luco, François (18..-1882) -- Portraits\n",
       "Name: descriptor, Length: 3157, dtype: object"
      ]
     },
     "execution_count": 86,
     "metadata": {},
     "output_type": "execute_result"
    }
   ],
   "source": [
    "subject_frame[unmatched].descriptor"
   ]
  },
  {
   "cell_type": "code",
   "execution_count": 87,
   "metadata": {},
   "outputs": [],
   "source": [
    "subject_frame.loc[unmatched, 'years'] = subject_frame[unmatched].descriptor.map(get_years_special)"
   ]
  },
  {
   "cell_type": "code",
   "execution_count": 88,
   "metadata": {},
   "outputs": [
    {
     "data": {
      "text/plain": [
       "13040"
      ]
     },
     "execution_count": 88,
     "metadata": {},
     "output_type": "execute_result"
    }
   ],
   "source": [
    "subject_frame[subject_frame.years.notna()].id.unique().__len__()"
   ]
  },
  {
   "cell_type": "code",
   "execution_count": 89,
   "metadata": {},
   "outputs": [],
   "source": [
    "id_years = subject_frame[subject_frame.years.notna()].id.unique()"
   ]
  },
  {
   "cell_type": "code",
   "execution_count": 90,
   "metadata": {},
   "outputs": [],
   "source": [
    "df = pd.merge(df, subject_frame[['id', 'years']].dropna(), on='id', how='outer')"
   ]
  },
  {
   "cell_type": "markdown",
   "metadata": {},
   "source": [
    "we never have more than one named individual ... it seems"
   ]
  },
  {
   "cell_type": "code",
   "execution_count": 91,
   "metadata": {},
   "outputs": [
    {
     "data": {
      "text/plain": [
       "False    26036\n",
       "Name: named_subject, dtype: int64"
      ]
     },
     "execution_count": 91,
     "metadata": {},
     "output_type": "execute_result"
    }
   ],
   "source": [
    "(df.groupby(id).named_subject.count() > 1).value_counts()"
   ]
  },
  {
   "cell_type": "markdown",
   "metadata": {},
   "source": [
    "# we can't get year or name of subject, who are we looking at"
   ]
  },
  {
   "cell_type": "code",
   "execution_count": 92,
   "metadata": {},
   "outputs": [
    {
     "data": {
      "text/plain": [
       "dc:creator         10495\n",
       "dc:date            10495\n",
       "dc:description       140\n",
       "dc:relation        10495\n",
       "dc:source          10495\n",
       "dc:subject         10495\n",
       "dc:title           10495\n",
       "id                 10495\n",
       "subject_is_list    10495\n",
       "len_list            1041\n",
       "nbr_title          10495\n",
       "first_title        10495\n",
       "named_subject        347\n",
       "years                  0\n",
       "dtype: int64"
      ]
     },
     "execution_count": 92,
     "metadata": {},
     "output_type": "execute_result"
    }
   ],
   "source": [
    "df[df.named_subject.isna() | df.years.isna()].count()"
   ]
  },
  {
   "cell_type": "code",
   "execution_count": 93,
   "metadata": {},
   "outputs": [
    {
     "data": {
      "text/plain": [
       "Danseuse. [La Gaîté. Surcouf] : [photographie, tirage de démonstration] / [Atelier Nadar]                             6\n",
       "[Adrienne] : [photographie, tirage de démonstration] / [Atelier Nadar]                                                1\n",
       "Darienne. Scala. Revue : [photographie, tirage de démonstration] / [Atelier Nadar]                                    2\n",
       "Me Largini. (Folies-Dramatiques) : [photographie, tirage de démonstration] / [Atelier Nadar]                          2\n",
       "Poule aux oeufs d'or. (Groupe). Folies Bergère : [photographie, tirage de démonstration] / [Atelier Nadar]            1\n",
       "Comte de Boissy : [photographie, tirage de démonstration] / [Atelier Nadar]                                           1\n",
       "Christine Berthier. Châtelet. Coco fêlé : [photographie, tirage de démonstration] / [Atelier Nadar]                   2\n",
       "De Guerville. [Folies-Dramatiques]. Riquet à la houppe : [photographie, tirage de démonstration] / [Atelier Nadar]    1\n",
       "Mlle Paula Dheurs. Odéon : [photographie, tirage de démonstration] / [Atelier Nadar]                                  4\n",
       "Wittmann. Châtelet. Chatte blanche : [photographie, tirage de démonstration] / [Atelier Nadar]                        4\n",
       "Name: dc:title, dtype: int64"
      ]
     },
     "execution_count": 93,
     "metadata": {},
     "output_type": "execute_result"
    }
   ],
   "source": [
    "df[\n",
    "    df.named_subject.isna() |\\\n",
    "    df.years.isna() &\\\n",
    "    df['dc:subject'].map(lambda x: 'Portraits de studio -- 19e siècle' in x) &\\\n",
    "    ~df['dc:subject'].map(lambda x: 'Théâtre' in x)\n",
    "]['dc:title'].value_counts().sample(10)"
   ]
  },
  {
   "cell_type": "code",
   "execution_count": 94,
   "metadata": {},
   "outputs": [],
   "source": [
    "matches = df['dc:title'].map(lambda x: re.match('(?!\\:)([\\s\\S]*) :', str(x)))"
   ]
  },
  {
   "cell_type": "code",
   "execution_count": 95,
   "metadata": {},
   "outputs": [
    {
     "data": {
      "text/plain": [
       "24782    [Gabrielle Figuet / [Atelier Nadar]\n",
       "Name: dc:title, dtype: object"
      ]
     },
     "execution_count": 95,
     "metadata": {},
     "output_type": "execute_result"
    }
   ],
   "source": [
    "df[matches.isna()]['dc:title']"
   ]
  },
  {
   "cell_type": "code",
   "execution_count": 96,
   "metadata": {},
   "outputs": [
    {
     "data": {
      "text/plain": [
       "['Statuettes Grévin ',\n",
       " 'Rosa, Josepha ',\n",
       " 'Groupes Théodora. Sarah Bernhardt et M. Laurent. Porte St Martin ',\n",
       " 'Groupes Théodora. Porte St-Martin. Sarah Bernhardt et M. Laurent ',\n",
       " 'Sarah Bernhardt. Porte Saint-Martin. La Tosca ',\n",
       " 'Portrait composite des frères Reclus ',\n",
       " 'Ghinassi ',\n",
       " 'Groupe Poucet Albert, Duhamel, Christian, Scipion. Gaîté. Petit Poucet ',\n",
       " \"Sarah Bernhardt. Porte Saint-Martin. Jeanne d'Arc \",\n",
       " 'Chevreul père et fils, Nadar ',\n",
       " 'H. Petit et Angelo. Ambigu. \"Assommoir\" ',\n",
       " 'Depoix et Larcher. Menus Plaisirs. \"Ma femme manque de chic\" ',\n",
       " 'Me Debriège ',\n",
       " 'Mary Anderson. Anglaise ',\n",
       " 'Febvre et Reichemberg i.e. Reichenberg. Français \"L\\'Ami Fritz\" ',\n",
       " 'Sarah et Berton. Porte Saint-Martin. La Tosca ',\n",
       " 'Sarah Bernhardt ',\n",
       " 'Granier, Vauthier. Gaîté. Orphée aux enfers ',\n",
       " 'Deval et Max et Sarah Bernhardt. (Renaissance). \"Gismonda\" ',\n",
       " 'Marie-Thérèse ',\n",
       " 'Mme Méaly et M. Fugère. (Gaîté). Le Talisman ',\n",
       " 'Réjane ',\n",
       " 'Chevreul, Nadar ',\n",
       " 'H. Petit et Gil Naza. Ambigu. \"Assommoir\" ',\n",
       " 'Albert, Duhamel, Christian, Scipion. Gaîté. Petit Poucet ',\n",
       " 'Ambassade japonaise ',\n",
       " 'Hélène Petit. Ambigu. Assommoir ',\n",
       " 'Ambassade Siamoise ',\n",
       " 'Lanthelme i.e. Lantelme. Nouveautés. Adam et Eve ',\n",
       " 'Modes Lanvin ',\n",
       " 'Girard ',\n",
       " 'Mlle Peschard ',\n",
       " 'Sarah Bernhardt. Porte St-Martin. \"Macbeth\" ',\n",
       " 'Chevreul, Bordas, Nadar ',\n",
       " 'Miss Langtry. Actrice anglaise ',\n",
       " \"Hadamard, Crosnier, Lambert. Odéon. L'Arlésienne \",\n",
       " 'Marie-Thérèse. Variétés ',\n",
       " 'Gabrielle ',\n",
       " 'Reclus frères ',\n",
       " 'Mlle Drunzer. Vaudeville ',\n",
       " \"Portrait d'une femme \",\n",
       " 'Sarah Bernhardt, Pierre Berton. Porte Saint-Martin. La Tosca ',\n",
       " 'Capoul et Ritter. Lyrique. \"Paul et Virginie\" ',\n",
       " 'H. Petit et L. Munte. Ambigu. \"Assommoir\" ',\n",
       " 'Gélabert ',\n",
       " 'Hading et Montbars ',\n",
       " \"Portrait d'un homme \",\n",
       " \"Portrait d'une femme non identifiée \",\n",
       " 'Me Demarsy. (Gymnase). \"Mon oncle Barbassou\" ',\n",
       " 'Samary. Français ',\n",
       " 'Me Sarah Bernhardt. (Renaissance). Izeyl ',\n",
       " 'Pasca ',\n",
       " 'Ellen Andrée ',\n",
       " 'Leriche ',\n",
       " 'Jaeger ',\n",
       " 'Andrée Dalti ',\n",
       " 'Sarah Bernhardt. Porte Saint-Martin. Théodora ',\n",
       " 'Detaille. Peintre ',\n",
       " 'Sorel. Nouveautés ',\n",
       " \"Sarah Bernhardt. Jeanne d'Arc \",\n",
       " 'Me Cernay ',\n",
       " 'Mary Albert ',\n",
       " 'Me Wyns ',\n",
       " 'Granier et Meyer. Renaissance. \"Petit Duc\" ',\n",
       " 'Pierson i.e. Pierron Soulacroix. Opéra-Comique. Plutus ',\n",
       " 'Sa Majesté le prince de Galles ',\n",
       " 'Capoul et Heilbronn. Lyrique. \"Paul et Virginie\" ',\n",
       " 'Loetitia. Châtelet. \"La queue du chat\" ',\n",
       " 'Chevreul, Nadar et Bordas ',\n",
       " 'M. Fenoux et Mlle Vanda i.e. Wanda de Boncza. (Odéon). \"Pour la couronne\" ',\n",
       " 'Christian, Duhamel. Gaîté. Petit Poucet ',\n",
       " 'Mes J. Granier et G. Gallois. (Porte Saint-Martin). \"Voyage dans la lune\" ',\n",
       " 'Soukaret. 1er prix de beauté de Spa ',\n",
       " 'Me Cassive. Gaîté. Le voyage de Suzette ',\n",
       " 'Mme Prelly. Folies dramatiques ',\n",
       " 'Mlle Gélabert ',\n",
       " 'Mlle Peschard. Gaîté ',\n",
       " 'Montbazon ',\n",
       " 'Chevreul père, fils et Nadar ',\n",
       " 'Mlle Vaillant, Berthelier, Brasseur. Nouveautés. \"Roi de carreaux\" i.e. carreau ',\n",
       " 'Kolb. Ambigu. As de trèfle ',\n",
       " 'Me Prelly ',\n",
       " 'Montréal, Blondeau, Grisier ',\n",
       " 'Napoléon et ses fils ',\n",
       " 'Peschard ',\n",
       " 'Mauri, Ottolini, Mérante ',\n",
       " 'Leriche, Larcher, Raymond. Renaissance. Cocard et Bicoquet ',\n",
       " 'Montbazon, Morlet, Lamy. Bouffes ',\n",
       " 'M. Dupuy i.e. Dupuis, Lavallière et Cooper. Variétés. La vie parisienne ',\n",
       " 'Vauthier, Noël, Leclerc, Thibaut i.e. Thibault. Gaîté. Le bossu ',\n",
       " 'Morlet, Guyon, Gobain. Folies-Dramatiques. Surcouf ',\n",
       " 'Brasseur père, fils et Théo. Nouveautés. Mimi ',\n",
       " 'Gelabert ',\n",
       " 'Mlle Théo. Ambigu ',\n",
       " 'Me Samé, MM. Vauthier et Fugère (Gaîté). La fée aux chèvres ',\n",
       " 'Modes. Lanvin ',\n",
       " 'Potter i.e. Potters ',\n",
       " 'Mlle Engalli ',\n",
       " 'Laurence ',\n",
       " 'Croizette. Français ']"
      ]
     },
     "execution_count": 96,
     "metadata": {},
     "output_type": "execute_result"
    }
   ],
   "source": [
    "matches.dropna().map(lambda x: re.sub('\\[|\\]|\\:', '', x.group(0))).value_counts().head(100).index.tolist()"
   ]
  },
  {
   "cell_type": "code",
   "execution_count": 97,
   "metadata": {},
   "outputs": [],
   "source": [
    "def find_keywords(x):\n",
    "    \n",
    "    if not x:\n",
    "        return x\n",
    "    x = str(x)\n",
    "    l = re.findall('(?!\\d)[\\w]*', x) # take all words, exclude years\n",
    "    l = list(set([word for word in l if len(word) > 0])) # drop duplicates in one entry\n",
    "    return l"
   ]
  },
  {
   "cell_type": "code",
   "execution_count": 98,
   "metadata": {},
   "outputs": [],
   "source": [
    "tag_list = pd.Series([x for i in df['dc:subject'].map(find_keywords).tolist() for x in i]).value_counts().reset_index()"
   ]
  },
  {
   "cell_type": "code",
   "execution_count": 99,
   "metadata": {},
   "outputs": [],
   "source": [
    "tag_list_title = pd.Series([x for i in df['dc:title'].map(find_keywords).tolist() for x in i]).value_counts().reset_index()"
   ]
  },
  {
   "cell_type": "code",
   "execution_count": 100,
   "metadata": {},
   "outputs": [
    {
     "data": {
      "text/plain": [
       "['photographie',\n",
       " 'tirage',\n",
       " 'démonstration',\n",
       " 'lle',\n",
       " 'aux',\n",
       " 'fils',\n",
       " 'femme',\n",
       " 'des',\n",
       " 'dans',\n",
       " 'comique',\n",
       " 'père',\n",
       " 'dramatiques',\n",
       " 'voyage',\n",
       " 'une',\n",
       " 'non',\n",
       " 'général',\n",
       " 'homme',\n",
       " 'année',\n",
       " 'scène',\n",
       " 'mesdemoiselles',\n",
       " 'peintre',\n",
       " 'dramatique',\n",
       " 'femmes',\n",
       " 'cloches',\n",
       " 'enfers',\n",
       " 'lune',\n",
       " 'rouge',\n",
       " 'journaliste',\n",
       " 'frères',\n",
       " 'petite']"
      ]
     },
     "execution_count": 100,
     "metadata": {},
     "output_type": "execute_result"
    }
   ],
   "source": [
    "tag_list_title[tag_list_title['index'].map(lambda x: x.islower() and len(x) > 2)]['index'].head(30).tolist()"
   ]
  },
  {
   "cell_type": "code",
   "execution_count": 101,
   "metadata": {},
   "outputs": [
    {
     "data": {
      "text/plain": [
       "['siècle',\n",
       " 'théâtre',\n",
       " 'studio',\n",
       " 'théâtrales',\n",
       " 'collectifs',\n",
       " 'actrice',\n",
       " 'acteur',\n",
       " 'lyrique',\n",
       " 'artiste',\n",
       " 'figures',\n",
       " 'humaines',\n",
       " 'siamois',\n",
       " 'danseuse',\n",
       " 'couture',\n",
       " 'roi',\n",
       " 'cantatrice',\n",
       " 'humoristiques',\n",
       " 'dessins',\n",
       " 'chanteur',\n",
       " 'japonais',\n",
       " 'intérieur',\n",
       " 'des',\n",
       " 'empereur',\n",
       " 'duc',\n",
       " 'prince',\n",
       " 'lieux',\n",
       " 'familiers',\n",
       " 'shah',\n",
       " 'acteurs',\n",
       " 'courtisans',\n",
       " 'objet',\n",
       " 'comte',\n",
       " 'personnage',\n",
       " 'animalières',\n",
       " 'chanteuse',\n",
       " 'historiques',\n",
       " 'fictif',\n",
       " 'russe',\n",
       " 'franco',\n",
       " 'marquis',\n",
       " 'grand',\n",
       " 'décès',\n",
       " 'frères',\n",
       " 'après',\n",
       " 'vivants',\n",
       " 'militaires',\n",
       " 'scène',\n",
       " 'mises',\n",
       " 'directeur',\n",
       " 'cirque',\n",
       " 'ténor',\n",
       " 'homme',\n",
       " 'dessinateur',\n",
       " 'orientale',\n",
       " 'lithographe',\n",
       " 'architecture',\n",
       " 'français',\n",
       " 'domestique',\n",
       " 'baron',\n",
       " 'dramatique',\n",
       " 'équestres',\n",
       " 'shows',\n",
       " 'ballon',\n",
       " 'princesse',\n",
       " 'artistes',\n",
       " 'jeunesse',\n",
       " 'aéronaute',\n",
       " 'portée',\n",
       " 'ebyšev',\n",
       " 'uruguayens',\n",
       " 'van',\n",
       " 'travestis',\n",
       " 'duchesse',\n",
       " 'amiral',\n",
       " 'légendaire',\n",
       " 'médecin',\n",
       " 'air',\n",
       " 'italien',\n",
       " 'arts',\n",
       " 'portugais',\n",
       " 'photographiques',\n",
       " 'chinois',\n",
       " 'chorégraphe',\n",
       " 'ème',\n",
       " 'race',\n",
       " 'finances',\n",
       " 'nourrissons',\n",
       " 'canine',\n",
       " 'danois',\n",
       " 'voltigeurs',\n",
       " 'général',\n",
       " 'abbé',\n",
       " 'subsaharienne',\n",
       " 'plein',\n",
       " 'journaliste',\n",
       " 'pièces',\n",
       " 'nas',\n",
       " 'claque',\n",
       " 'vicomte',\n",
       " 'lettres',\n",
       " 'impératrice',\n",
       " 'éditeur',\n",
       " 'travesties',\n",
       " 'urbains',\n",
       " 'particuliers',\n",
       " 'photographie',\n",
       " 'médical',\n",
       " 'musique',\n",
       " 'russes',\n",
       " 'comique',\n",
       " 'trios',\n",
       " 'parleurs',\n",
       " 'prêtres',\n",
       " 'conte',\n",
       " 'peintre',\n",
       " 'reine',\n",
       " 'costume',\n",
       " 'chef',\n",
       " 'savants',\n",
       " 'prison',\n",
       " 'sir',\n",
       " 'baryton',\n",
       " 'gardien',\n",
       " 'animaux',\n",
       " 'trappiste',\n",
       " 'sculpture',\n",
       " 'religion',\n",
       " 'chambre',\n",
       " 'opéra',\n",
       " 'compositeur']"
      ]
     },
     "execution_count": 101,
     "metadata": {},
     "output_type": "execute_result"
    }
   ],
   "source": [
    "tag_list[tag_list['index'].map(lambda x: x.islower() and len(x) > 2)]['index'].tolist()"
   ]
  },
  {
   "cell_type": "markdown",
   "metadata": {},
   "source": [
    "### associate tags and ids in new dataframe. Remove useless tags. save tag-id association as json file"
   ]
  },
  {
   "cell_type": "code",
   "execution_count": 102,
   "metadata": {},
   "outputs": [],
   "source": [
    "# clear useless tags \n",
    "\n",
    "from itertools import compress\n",
    "\n",
    "\n",
    "def tag_exclude(tag):\n",
    "    \n",
    "    result = False\n",
    "    if len(tag) < 3:\n",
    "        result = False\n",
    "    elif len(tag) == 3:\n",
    "        if tag.islower() and tag != 'roi':\n",
    "            result = False\n",
    "        else:\n",
    "            result = True\n",
    "    else:\n",
    "        # this list may change\n",
    "        if tag in  ['siècle', 'Portraits', 'studio', 'Scènes', 'collectifs', 'photographie', 'Nadar']:\n",
    "            result = False\n",
    "        else:\n",
    "            result = True\n",
    "    return result\n",
    "\n",
    "def tag_list_exclude(tag_list):\n",
    "    mask = list(map(tag_exclude, tag_list))\n",
    "    return list(compress(tag_list, mask))"
   ]
  },
  {
   "cell_type": "code",
   "execution_count": 103,
   "metadata": {},
   "outputs": [],
   "source": [
    "tag_frame = pd.DataFrame(df.id)\n",
    "tag_frame['tags'] = df['dc:subject'].map(find_keywords) + df['dc:title'].map(find_keywords)\n",
    "tag_frame['tags'] = tag_frame['tags'].apply(lambda x: list(set(x)))\n",
    "tag_frame['tags'] = tag_frame.tags.apply(tag_list_exclude)"
   ]
  },
  {
   "cell_type": "code",
   "execution_count": 104,
   "metadata": {},
   "outputs": [],
   "source": [
    "tag_explode = tag_frame.tags.apply(pd.Series) \\\n",
    "            .merge(tag_frame, right_index=True, left_index=True) \\\n",
    "            .drop(['tags'],axis=1) \\\n",
    "            .melt(id_vars=['id'], value_name='tag') \\\n",
    "            .drop('variable', axis=1) \\"
   ]
  },
  {
   "cell_type": "code",
   "execution_count": 105,
   "metadata": {},
   "outputs": [],
   "source": [
    "tag_ids = tag_explode.groupby(tag_explode.tag)['id'].unique().apply(list)"
   ]
  },
  {
   "cell_type": "code",
   "execution_count": 106,
   "metadata": {},
   "outputs": [],
   "source": [
    "tag_ids.to_json('tag_ids.json')"
   ]
  },
  {
   "cell_type": "markdown",
   "metadata": {},
   "source": [
    "### there really is no associated year"
   ]
  },
  {
   "cell_type": "code",
   "execution_count": 107,
   "metadata": {},
   "outputs": [
    {
     "data": {
      "text/plain": [
       "Index(['Scènes théâtrales -- 19e siècle', 'Costumes -- 19e siècle',\n",
       "       'Danseuses', 'Lanvin (Maison de couture)', 'Enfants',\n",
       "       'Tournée Brasseur', 'Ambassadeurs japonais -- France', 'Trapézistes',\n",
       "       'Représentations d'objet -- 19e siècle', 'Cour et courtisans -- Iran',\n",
       "       'Clowns', 'Cavalières', 'Travestis',\n",
       "       'Représentations animalières -- 19e siècle', 'Violonistes',\n",
       "       'Nourrissons', 'Singes', 'Bicyclettes',\n",
       "       'Tableaux vivants et mises en scène -- 19e siècle', 'Enfants acteurs',\n",
       "       'Géants', 'Ballons -- France -- 19e siècle',\n",
       "       'Vues d'intérieur -- 19e siècle', 'Costumes', 'Danse orientale',\n",
       "       'Mandoline', 'Chat domestique', 'Animaux de cirque',\n",
       "       'Bicyclettes -- Au théâtre', 'Journaux français',\n",
       "       'Pierrot (personnage fictif)', 'Géant (ballon)', 'Chien',\n",
       "       'Minstrel shows', 'Escrimeurs', 'Âne', 'Religieux',\n",
       "       'Représentations animalières -- 1870-1913', 'Haltérophiles',\n",
       "       'Indiens d'Amérique', 'Statues', 'Hamlet (personnage légendaire)',\n",
       "       'Phénomènes de cirque', 'Ambassadeurs uruguayens -- France',\n",
       "       'Rueil-Malmaison (Hauts-de-Seine) -- Château de Malmaison',\n",
       "       'Caniche (race canine)', 'Casseroles', 'Ambassadeurs chinois -- France',\n",
       "       'Acrobates (arts)', 'Harpistes', 'Appareils photographiques',\n",
       "       'Arlequin (personnage fictif)', 'Autobus -- Au théâtre',\n",
       "       'Nageurs -- Suède',\n",
       "       'Caricatures et dessins humoristiques -- 19e siècle',\n",
       "       'Noirs -- Afrique', 'Ballons -- France -- Paris (France) -- 19e siècle',\n",
       "       'Dessin -- Reproduction', 'Mères et nourrissons', 'Chasseurs',\n",
       "       'Cours (architecture)', 'Oiseaux parleurs', 'Ombre portée',\n",
       "       'Montreurs d'animaux savants', 'Paysages urbains -- 19e siècle',\n",
       "       'Décorations militaires', 'Maison Doucet (Paris)', 'Peinture',\n",
       "       'Expositions de photographie', 'Paysages -- 19e siècle',\n",
       "       'Hôpitaux -- Personnel médical', 'Scènes -- 19e siècle',\n",
       "       'Ateliers d'artistes -- Au théâtre', 'Avocats',\n",
       "       'Ensembles de musique de chambre', 'Actrices travesties',\n",
       "       'Paquin (Firme)', 'Sang -- Transfusion'],\n",
       "      dtype='object')"
      ]
     },
     "execution_count": 107,
     "metadata": {},
     "output_type": "execute_result"
    }
   ],
   "source": [
    "subject_frame[~subject_frame.id.isin(id_years) &\\\n",
    "              subject_frame.named_subject.isna() &\\\n",
    "              ~subject_frame.Portraits].descriptor.value_counts().index"
   ]
  },
  {
   "cell_type": "code",
   "execution_count": 108,
   "metadata": {},
   "outputs": [
    {
     "data": {
      "text/html": [
       "<div>\n",
       "<style scoped>\n",
       "    .dataframe tbody tr th:only-of-type {\n",
       "        vertical-align: middle;\n",
       "    }\n",
       "\n",
       "    .dataframe tbody tr th {\n",
       "        vertical-align: top;\n",
       "    }\n",
       "\n",
       "    .dataframe thead th {\n",
       "        text-align: right;\n",
       "    }\n",
       "</style>\n",
       "<table border=\"1\" class=\"dataframe\">\n",
       "  <thead>\n",
       "    <tr style=\"text-align: right;\">\n",
       "      <th></th>\n",
       "      <th>first_title</th>\n",
       "      <th>named_subject</th>\n",
       "    </tr>\n",
       "  </thead>\n",
       "  <tbody>\n",
       "    <tr>\n",
       "      <th>7</th>\n",
       "      <td>Me Auguez</td>\n",
       "      <td>Auguez, Mathilde</td>\n",
       "    </tr>\n",
       "    <tr>\n",
       "      <th>8</th>\n",
       "      <td>Me Auguez</td>\n",
       "      <td>Auguez, Mathilde</td>\n",
       "    </tr>\n",
       "    <tr>\n",
       "      <th>9</th>\n",
       "      <td>M. Bruant</td>\n",
       "      <td>Bruant, Aristide</td>\n",
       "    </tr>\n",
       "    <tr>\n",
       "      <th>10</th>\n",
       "      <td>Me Auguez</td>\n",
       "      <td>Auguez, Mathilde</td>\n",
       "    </tr>\n",
       "    <tr>\n",
       "      <th>13</th>\n",
       "      <td>M. A. Brasseur</td>\n",
       "      <td>Brasseur, Albert</td>\n",
       "    </tr>\n",
       "    <tr>\n",
       "      <th>14</th>\n",
       "      <td>Me Auguez. (Opéra-Comique)</td>\n",
       "      <td>Auguez, Mathilde</td>\n",
       "    </tr>\n",
       "    <tr>\n",
       "      <th>19</th>\n",
       "      <td>Me Decroza. Renaissance. En scène, mesdemoiselles</td>\n",
       "      <td>Decroza, Francine</td>\n",
       "    </tr>\n",
       "    <tr>\n",
       "      <th>22</th>\n",
       "      <td>Me Auguez</td>\n",
       "      <td>Auguez, Mathilde</td>\n",
       "    </tr>\n",
       "    <tr>\n",
       "      <th>30</th>\n",
       "      <td>Me Lender. (Variétés). \"Pincés\"</td>\n",
       "      <td>Lender, Marcelle</td>\n",
       "    </tr>\n",
       "    <tr>\n",
       "      <th>31</th>\n",
       "      <td>Me Lender. Variétés. Pincés</td>\n",
       "      <td>Lender, Marcelle</td>\n",
       "    </tr>\n",
       "    <tr>\n",
       "      <th>35</th>\n",
       "      <td>Sarah Bernhardt. Jeanne d'Arc</td>\n",
       "      <td>Bernhardt, Sarah</td>\n",
       "    </tr>\n",
       "    <tr>\n",
       "      <th>36</th>\n",
       "      <td>M. Regnard et Me Decroza. Renaissance. En scèn...</td>\n",
       "      <td>Regnard, Victor-Auguste</td>\n",
       "    </tr>\n",
       "    <tr>\n",
       "      <th>37</th>\n",
       "      <td>M. Regnard et Me Decroza. Renaissance. En scèn...</td>\n",
       "      <td>Regnard, Victor-Auguste</td>\n",
       "    </tr>\n",
       "    <tr>\n",
       "      <th>38</th>\n",
       "      <td>M. Regnard et Me Decroza. Renaissance. En scèn...</td>\n",
       "      <td>Decroza, Francine</td>\n",
       "    </tr>\n",
       "    <tr>\n",
       "      <th>39</th>\n",
       "      <td>M. Regnard et Me Decroza. Renaissance. En scèn...</td>\n",
       "      <td>Decroza, Francine</td>\n",
       "    </tr>\n",
       "    <tr>\n",
       "      <th>40</th>\n",
       "      <td>M. Regnard et Me Decroza. Renaissance. En scèn...</td>\n",
       "      <td>Regnard, Victor-Auguste</td>\n",
       "    </tr>\n",
       "    <tr>\n",
       "      <th>41</th>\n",
       "      <td>M. Regnard et Me Decroza. Renaissance. En scèn...</td>\n",
       "      <td>Regnard, Victor-Auguste</td>\n",
       "    </tr>\n",
       "    <tr>\n",
       "      <th>42</th>\n",
       "      <td>M. Regnard et Me Decroza. Renaissance. En scèn...</td>\n",
       "      <td>Decroza, Francine</td>\n",
       "    </tr>\n",
       "    <tr>\n",
       "      <th>43</th>\n",
       "      <td>M. Regnard et Me Decroza. Renaissance. En scèn...</td>\n",
       "      <td>Decroza, Francine</td>\n",
       "    </tr>\n",
       "    <tr>\n",
       "      <th>44</th>\n",
       "      <td>Me Auguez. Variétés. Les variétés de l'année</td>\n",
       "      <td>Auguez, Mathilde</td>\n",
       "    </tr>\n",
       "    <tr>\n",
       "      <th>45</th>\n",
       "      <td>Me Auguez. (Variétés). \"Les variétés de l'année\"</td>\n",
       "      <td>Auguez, Mathilde</td>\n",
       "    </tr>\n",
       "    <tr>\n",
       "      <th>51</th>\n",
       "      <td>Me Juliette Darcourt. Folies-Dramatiques. Juanita</td>\n",
       "      <td>Darcourt, Juliette</td>\n",
       "    </tr>\n",
       "    <tr>\n",
       "      <th>54</th>\n",
       "      <td>Me Dauville</td>\n",
       "      <td>Dauville, Louise</td>\n",
       "    </tr>\n",
       "    <tr>\n",
       "      <th>56</th>\n",
       "      <td>M. Gobin. Folies-Dramatiques. Juanita</td>\n",
       "      <td>Gobin, Charles Constant</td>\n",
       "    </tr>\n",
       "    <tr>\n",
       "      <th>57</th>\n",
       "      <td>Me Juliette Darcourt. Folies-Dramatiques. Juanita</td>\n",
       "      <td>Darcourt, Juliette</td>\n",
       "    </tr>\n",
       "    <tr>\n",
       "      <th>58</th>\n",
       "      <td>Sarah Bernhardt. Jeanne d'Arc</td>\n",
       "      <td>Bernhardt, Sarah</td>\n",
       "    </tr>\n",
       "    <tr>\n",
       "      <th>59</th>\n",
       "      <td>Me Auguez. (Variétés). \"Les variétés de l'année\"</td>\n",
       "      <td>Auguez, Mathilde</td>\n",
       "    </tr>\n",
       "    <tr>\n",
       "      <th>60</th>\n",
       "      <td>Sa Majesté le shah de Perse</td>\n",
       "      <td>Nâser ed-Din</td>\n",
       "    </tr>\n",
       "    <tr>\n",
       "      <th>64</th>\n",
       "      <td>M. Gille</td>\n",
       "      <td>Gille, Philippe</td>\n",
       "    </tr>\n",
       "    <tr>\n",
       "      <th>65</th>\n",
       "      <td>Gélabert</td>\n",
       "      <td>Gélabert, Conchita, Marie</td>\n",
       "    </tr>\n",
       "    <tr>\n",
       "      <th>...</th>\n",
       "      <td>...</td>\n",
       "      <td>...</td>\n",
       "    </tr>\n",
       "    <tr>\n",
       "      <th>25965</th>\n",
       "      <td>Mes J. Granier et G. Gallois. (Porte Saint-Mar...</td>\n",
       "      <td>Granier, Jeanne</td>\n",
       "    </tr>\n",
       "    <tr>\n",
       "      <th>25966</th>\n",
       "      <td>Mes J. Granier et G. Gallois. (Porte Saint-Mar...</td>\n",
       "      <td>Granier, Jeanne</td>\n",
       "    </tr>\n",
       "    <tr>\n",
       "      <th>25967</th>\n",
       "      <td>Mes J. Granier et G. Gallois. (Porte Saint-Mar...</td>\n",
       "      <td>Gallois, Germaine</td>\n",
       "    </tr>\n",
       "    <tr>\n",
       "      <th>25968</th>\n",
       "      <td>Mes J. Granier et G. Gallois. (Porte Saint-Mar...</td>\n",
       "      <td>Gallois, Germaine</td>\n",
       "    </tr>\n",
       "    <tr>\n",
       "      <th>25970</th>\n",
       "      <td>Francisque Delmas en costume de scène dans le ...</td>\n",
       "      <td>Delmas, Jean-François</td>\n",
       "    </tr>\n",
       "    <tr>\n",
       "      <th>25971</th>\n",
       "      <td>Femme en buste, de profil à droite</td>\n",
       "      <td>Femmes</td>\n",
       "    </tr>\n",
       "    <tr>\n",
       "      <th>25972</th>\n",
       "      <td>Homme barbu, en buste, tête légèrement de troi...</td>\n",
       "      <td>Hommes</td>\n",
       "    </tr>\n",
       "    <tr>\n",
       "      <th>26004</th>\n",
       "      <td>M. Chevreul et M. Nadar père</td>\n",
       "      <td>Chevreul, Eugène</td>\n",
       "    </tr>\n",
       "    <tr>\n",
       "      <th>26005</th>\n",
       "      <td>M. Chevreul et M. Nadar père</td>\n",
       "      <td>Chevreul, Eugène</td>\n",
       "    </tr>\n",
       "    <tr>\n",
       "      <th>26006</th>\n",
       "      <td>M. Chevreul et M. Nadar père</td>\n",
       "      <td>Nadar</td>\n",
       "    </tr>\n",
       "    <tr>\n",
       "      <th>26007</th>\n",
       "      <td>M. Chevreul et M. Nadar père</td>\n",
       "      <td>Nadar</td>\n",
       "    </tr>\n",
       "    <tr>\n",
       "      <th>26008</th>\n",
       "      <td>Alfred d'Almbert, journaliste</td>\n",
       "      <td>Almbert, Alfred d'</td>\n",
       "    </tr>\n",
       "    <tr>\n",
       "      <th>26009</th>\n",
       "      <td>Augustine Brohan, Comédie française</td>\n",
       "      <td>Brohan, Augustine</td>\n",
       "    </tr>\n",
       "    <tr>\n",
       "      <th>26010</th>\n",
       "      <td>Offenbach, compositeur de musique</td>\n",
       "      <td>Offenbach, Jacques</td>\n",
       "    </tr>\n",
       "    <tr>\n",
       "      <th>26011</th>\n",
       "      <td>Broisat. Comédie française</td>\n",
       "      <td>Broisat, Emilie</td>\n",
       "    </tr>\n",
       "    <tr>\n",
       "      <th>26012</th>\n",
       "      <td>Me Sarah Bernhardt</td>\n",
       "      <td>Bernhardt, Sarah</td>\n",
       "    </tr>\n",
       "    <tr>\n",
       "      <th>26013</th>\n",
       "      <td>Chabot. Danseuse. Opéra</td>\n",
       "      <td>Chabot</td>\n",
       "    </tr>\n",
       "    <tr>\n",
       "      <th>26014</th>\n",
       "      <td>M. Frécynet</td>\n",
       "      <td>Freycinet, Charles Louis de Saulces de</td>\n",
       "    </tr>\n",
       "    <tr>\n",
       "      <th>26015</th>\n",
       "      <td>M. Grivot</td>\n",
       "      <td>Grivot, Pierre Antonin François</td>\n",
       "    </tr>\n",
       "    <tr>\n",
       "      <th>26016</th>\n",
       "      <td>Mr Joliet. Cie Française</td>\n",
       "      <td>Joliet, Auguste</td>\n",
       "    </tr>\n",
       "    <tr>\n",
       "      <th>26017</th>\n",
       "      <td>Hector de Callias, journaliste</td>\n",
       "      <td>Callias, Hector de</td>\n",
       "    </tr>\n",
       "    <tr>\n",
       "      <th>26018</th>\n",
       "      <td>Charles Mosont, homme de lettres</td>\n",
       "      <td>Mosont, Charles</td>\n",
       "    </tr>\n",
       "    <tr>\n",
       "      <th>26019</th>\n",
       "      <td>Eugène Delessert, ingénieur fantaisiste</td>\n",
       "      <td>Delessert, Eugène</td>\n",
       "    </tr>\n",
       "    <tr>\n",
       "      <th>26020</th>\n",
       "      <td>Charles Comte, directeur des Bouffes</td>\n",
       "      <td>Comte, Charles</td>\n",
       "    </tr>\n",
       "    <tr>\n",
       "      <th>26024</th>\n",
       "      <td>Docteur Thiercelin</td>\n",
       "      <td>Thiercelin, Jules</td>\n",
       "    </tr>\n",
       "    <tr>\n",
       "      <th>26025</th>\n",
       "      <td>Harpignies</td>\n",
       "      <td>Harpignies, Henri</td>\n",
       "    </tr>\n",
       "    <tr>\n",
       "      <th>26031</th>\n",
       "      <td>Brémont</td>\n",
       "      <td>Brémont, Léon</td>\n",
       "    </tr>\n",
       "    <tr>\n",
       "      <th>26032</th>\n",
       "      <td>Caron</td>\n",
       "      <td>Caron, Cécile</td>\n",
       "    </tr>\n",
       "    <tr>\n",
       "      <th>26034</th>\n",
       "      <td>Croizette</td>\n",
       "      <td>Croizette, Sophie</td>\n",
       "    </tr>\n",
       "    <tr>\n",
       "      <th>26035</th>\n",
       "      <td>Capoul</td>\n",
       "      <td>Capoul, Victor</td>\n",
       "    </tr>\n",
       "  </tbody>\n",
       "</table>\n",
       "<p>15888 rows × 2 columns</p>\n",
       "</div>"
      ],
      "text/plain": [
       "                                             first_title  \\\n",
       "7                                              Me Auguez   \n",
       "8                                              Me Auguez   \n",
       "9                                              M. Bruant   \n",
       "10                                             Me Auguez   \n",
       "13                                        M. A. Brasseur   \n",
       "14                            Me Auguez. (Opéra-Comique)   \n",
       "19     Me Decroza. Renaissance. En scène, mesdemoiselles   \n",
       "22                                             Me Auguez   \n",
       "30                       Me Lender. (Variétés). \"Pincés\"   \n",
       "31                           Me Lender. Variétés. Pincés   \n",
       "35                         Sarah Bernhardt. Jeanne d'Arc   \n",
       "36     M. Regnard et Me Decroza. Renaissance. En scèn...   \n",
       "37     M. Regnard et Me Decroza. Renaissance. En scèn...   \n",
       "38     M. Regnard et Me Decroza. Renaissance. En scèn...   \n",
       "39     M. Regnard et Me Decroza. Renaissance. En scèn...   \n",
       "40     M. Regnard et Me Decroza. Renaissance. En scèn...   \n",
       "41     M. Regnard et Me Decroza. Renaissance. En scèn...   \n",
       "42     M. Regnard et Me Decroza. Renaissance. En scèn...   \n",
       "43     M. Regnard et Me Decroza. Renaissance. En scèn...   \n",
       "44          Me Auguez. Variétés. Les variétés de l'année   \n",
       "45      Me Auguez. (Variétés). \"Les variétés de l'année\"   \n",
       "51     Me Juliette Darcourt. Folies-Dramatiques. Juanita   \n",
       "54                                           Me Dauville   \n",
       "56                 M. Gobin. Folies-Dramatiques. Juanita   \n",
       "57     Me Juliette Darcourt. Folies-Dramatiques. Juanita   \n",
       "58                         Sarah Bernhardt. Jeanne d'Arc   \n",
       "59      Me Auguez. (Variétés). \"Les variétés de l'année\"   \n",
       "60                           Sa Majesté le shah de Perse   \n",
       "64                                              M. Gille   \n",
       "65                                              Gélabert   \n",
       "...                                                  ...   \n",
       "25965  Mes J. Granier et G. Gallois. (Porte Saint-Mar...   \n",
       "25966  Mes J. Granier et G. Gallois. (Porte Saint-Mar...   \n",
       "25967  Mes J. Granier et G. Gallois. (Porte Saint-Mar...   \n",
       "25968  Mes J. Granier et G. Gallois. (Porte Saint-Mar...   \n",
       "25970  Francisque Delmas en costume de scène dans le ...   \n",
       "25971                 Femme en buste, de profil à droite   \n",
       "25972  Homme barbu, en buste, tête légèrement de troi...   \n",
       "26004                       M. Chevreul et M. Nadar père   \n",
       "26005                       M. Chevreul et M. Nadar père   \n",
       "26006                       M. Chevreul et M. Nadar père   \n",
       "26007                       M. Chevreul et M. Nadar père   \n",
       "26008                      Alfred d'Almbert, journaliste   \n",
       "26009                Augustine Brohan, Comédie française   \n",
       "26010                  Offenbach, compositeur de musique   \n",
       "26011                         Broisat. Comédie française   \n",
       "26012                                 Me Sarah Bernhardt   \n",
       "26013                            Chabot. Danseuse. Opéra   \n",
       "26014                                        M. Frécynet   \n",
       "26015                                          M. Grivot   \n",
       "26016                           Mr Joliet. Cie Française   \n",
       "26017                     Hector de Callias, journaliste   \n",
       "26018                   Charles Mosont, homme de lettres   \n",
       "26019            Eugène Delessert, ingénieur fantaisiste   \n",
       "26020               Charles Comte, directeur des Bouffes   \n",
       "26024                                 Docteur Thiercelin   \n",
       "26025                                         Harpignies   \n",
       "26031                                            Brémont   \n",
       "26032                                              Caron   \n",
       "26034                                          Croizette   \n",
       "26035                                             Capoul   \n",
       "\n",
       "                                named_subject  \n",
       "7                            Auguez, Mathilde  \n",
       "8                            Auguez, Mathilde  \n",
       "9                            Bruant, Aristide  \n",
       "10                           Auguez, Mathilde  \n",
       "13                           Brasseur, Albert  \n",
       "14                           Auguez, Mathilde  \n",
       "19                          Decroza, Francine  \n",
       "22                           Auguez, Mathilde  \n",
       "30                           Lender, Marcelle  \n",
       "31                           Lender, Marcelle  \n",
       "35                           Bernhardt, Sarah  \n",
       "36                    Regnard, Victor-Auguste  \n",
       "37                    Regnard, Victor-Auguste  \n",
       "38                          Decroza, Francine  \n",
       "39                          Decroza, Francine  \n",
       "40                    Regnard, Victor-Auguste  \n",
       "41                    Regnard, Victor-Auguste  \n",
       "42                          Decroza, Francine  \n",
       "43                          Decroza, Francine  \n",
       "44                           Auguez, Mathilde  \n",
       "45                           Auguez, Mathilde  \n",
       "51                         Darcourt, Juliette  \n",
       "54                           Dauville, Louise  \n",
       "56                    Gobin, Charles Constant  \n",
       "57                         Darcourt, Juliette  \n",
       "58                           Bernhardt, Sarah  \n",
       "59                           Auguez, Mathilde  \n",
       "60                               Nâser ed-Din  \n",
       "64                            Gille, Philippe  \n",
       "65                  Gélabert, Conchita, Marie  \n",
       "...                                       ...  \n",
       "25965                         Granier, Jeanne  \n",
       "25966                         Granier, Jeanne  \n",
       "25967                       Gallois, Germaine  \n",
       "25968                       Gallois, Germaine  \n",
       "25970                   Delmas, Jean-François  \n",
       "25971                                  Femmes  \n",
       "25972                                  Hommes  \n",
       "26004                        Chevreul, Eugène  \n",
       "26005                        Chevreul, Eugène  \n",
       "26006                                   Nadar  \n",
       "26007                                   Nadar  \n",
       "26008                      Almbert, Alfred d'  \n",
       "26009                       Brohan, Augustine  \n",
       "26010                      Offenbach, Jacques  \n",
       "26011                         Broisat, Emilie  \n",
       "26012                        Bernhardt, Sarah  \n",
       "26013                                  Chabot  \n",
       "26014  Freycinet, Charles Louis de Saulces de  \n",
       "26015         Grivot, Pierre Antonin François  \n",
       "26016                         Joliet, Auguste  \n",
       "26017                      Callias, Hector de  \n",
       "26018                         Mosont, Charles  \n",
       "26019                       Delessert, Eugène  \n",
       "26020                          Comte, Charles  \n",
       "26024                       Thiercelin, Jules  \n",
       "26025                       Harpignies, Henri  \n",
       "26031                           Brémont, Léon  \n",
       "26032                           Caron, Cécile  \n",
       "26034                       Croizette, Sophie  \n",
       "26035                          Capoul, Victor  \n",
       "\n",
       "[15888 rows x 2 columns]"
      ]
     },
     "execution_count": 108,
     "metadata": {},
     "output_type": "execute_result"
    }
   ],
   "source": [
    "df[df.first_title.notna() & df.named_subject.notna()][['first_title', 'named_subject']]"
   ]
  },
  {
   "cell_type": "code",
   "execution_count": 109,
   "metadata": {},
   "outputs": [
    {
     "data": {
      "text/plain": [
       "Bernhardt, Sarah                     496\n",
       "Réjane                               186\n",
       "Mily-Meyer, Emilie                   171\n",
       "Théo, Louise                         150\n",
       "Brasseur, Albert                     142\n",
       "Gélabert, Conchita, Marie            130\n",
       "Granier, Jeanne                      128\n",
       "Simon-Girard, Juliette               114\n",
       "Grévin, Alfred                       113\n",
       "Beer, Friedrich                      106\n",
       "Mary-Albert, Madame                  105\n",
       "Capoul, Victor                       104\n",
       "Fugère, Lucien                       100\n",
       "Reichenberg, Suzanne                  97\n",
       "Chevreul, Eugène                      96\n",
       "Decroza, Francine                     95\n",
       "Leriche, Augustine                    95\n",
       "Vauthier, Eugène                      92\n",
       "Arnoldson, Sigrid                     91\n",
       "Nadar                                 90\n",
       "Montbazon, Marie                      90\n",
       "Laurent, Marie                        88\n",
       "Ugalde, Marguerite                    88\n",
       "Lantelme, Marie                       88\n",
       "Petit, Hélène                         86\n",
       "Vaillant, Marguerite                  86\n",
       "Darcourt, Juliette                    85\n",
       "Auguez, Mathilde                      85\n",
       "Peschard, Marie Blanche               83\n",
       "Morlet, Louis                         79\n",
       "                                    ... \n",
       "Cavaillé-Coll, Cécile                  1\n",
       "Denière, Guillaume                     1\n",
       "Rodenbach, Georges                     1\n",
       "Chassin, Charles-Louis                 1\n",
       "Vattemare, Alexandre                   1\n",
       "Allou, Roger                           1\n",
       "Vallot, Philippe Joseph Auguste        1\n",
       "Penguilly L'Haridon, Octave            1\n",
       "Valserres, Jacques de                  1\n",
       "Wallace, Richard                       1\n",
       "Macé, Jean                             1\n",
       "Fazy, James                            1\n",
       "Vieuxtemps, Henry                      1\n",
       "Bracquemond, Félix                     1\n",
       "Millet, Jean-François                  1\n",
       "Larchey, Lorédan                       1\n",
       "de Volpini, Elisa                      1\n",
       "Chaperon, Philippe                     1\n",
       "Delestre-Poirson, Charles-Gaspard      1\n",
       "(prêtres)                              1\n",
       "Lemoinne, John                         1\n",
       "Horeau, Hector                         1\n",
       "Zamacoïs, Miguel                       1\n",
       "Mariani, Angelo                        1\n",
       "Éon, Charles de Beaumont d'            1\n",
       "Dupuis-Delcourt, Jules-François        1\n",
       "Delaunay, Louis Arsène                 1\n",
       "Dubufe, Édouard                        1\n",
       "Narrey, Charles                        1\n",
       "Desboutin, Marcellin                   1\n",
       "Name: named_subject, Length: 1937, dtype: int64"
      ]
     },
     "execution_count": 109,
     "metadata": {},
     "output_type": "execute_result"
    }
   ],
   "source": [
    "df[df.first_title.notna() & df.named_subject.notna()].named_subject.value_counts()"
   ]
  },
  {
   "cell_type": "code",
   "execution_count": 110,
   "metadata": {},
   "outputs": [
    {
     "data": {
      "text/plain": [
       "15888"
      ]
     },
     "execution_count": 110,
     "metadata": {},
     "output_type": "execute_result"
    }
   ],
   "source": [
    "df[df.first_title.notna() & df.named_subject.notna()].named_subject.count()"
   ]
  },
  {
   "cell_type": "code",
   "execution_count": 111,
   "metadata": {},
   "outputs": [
    {
     "data": {
      "text/plain": [
       "['Ghinassi',\n",
       " 'Marie-Thérèse',\n",
       " 'Ambassade japonaise',\n",
       " 'Modes Lanvin',\n",
       " 'Marie-Thérèse. Variétés',\n",
       " 'Gabrielle',\n",
       " \"Portrait d'une femme\",\n",
       " \"Portrait d'une femme non identifiée\",\n",
       " \"Portrait d'un homme\",\n",
       " 'Andrée Dalti',\n",
       " 'Jaeger',\n",
       " 'Me Cernay',\n",
       " 'Soukaret. 1er prix de beauté de Spa',\n",
       " 'Loetitia. Châtelet. \"La queue du chat\"',\n",
       " 'Mme Prelly. Folies dramatiques',\n",
       " 'Modes. Lanvin',\n",
       " 'Potter i.e. Potters',\n",
       " 'Mlle Engalli',\n",
       " 'Me Demoreuil',\n",
       " 'Laurence',\n",
       " 'Me Rivolta',\n",
       " 'Lhéry',\n",
       " 'Engally. Opéra comique',\n",
       " 'Me de Nory',\n",
       " 'Mlle Stuart',\n",
       " 'Paulette',\n",
       " 'Me de Breuil',\n",
       " 'Mlle Gabrielle',\n",
       " 'Beaumaine. Variétés',\n",
       " 'Jaeger. Eden']"
      ]
     },
     "execution_count": 111,
     "metadata": {},
     "output_type": "execute_result"
    }
   ],
   "source": [
    "df[df.first_title.notna() & df.named_subject.isna()].first_title.value_counts().head(30).index.tolist()"
   ]
  },
  {
   "cell_type": "code",
   "execution_count": null,
   "metadata": {},
   "outputs": [],
   "source": []
  }
 ],
 "metadata": {
  "kernelspec": {
   "display_name": "Python 3",
   "language": "python",
   "name": "python3"
  },
  "language_info": {
   "codemirror_mode": {
    "name": "ipython",
    "version": 3
   },
   "file_extension": ".py",
   "mimetype": "text/x-python",
   "name": "python",
   "nbconvert_exporter": "python",
   "pygments_lexer": "ipython3",
   "version": "3.7.3"
  }
 },
 "nbformat": 4,
 "nbformat_minor": 4
}
