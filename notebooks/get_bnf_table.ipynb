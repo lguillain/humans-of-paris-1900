{
 "cells": [
  {
   "cell_type": "code",
   "execution_count": 1,
   "metadata": {},
   "outputs": [
    {
     "name": "stderr",
     "output_type": "stream",
     "text": [
      "/Users/lia/miniconda3/lib/python3.6/site-packages/tqdm/autonotebook.py:17: TqdmExperimentalWarning: Using `tqdm.autonotebook.tqdm` in notebook mode. Use `tqdm.tqdm` instead to force console mode (e.g. in jupyter console)\n",
      "  \" (e.g. in jupyter console)\", TqdmExperimentalWarning)\n"
     ]
    },
    {
     "ename": "ModuleNotFoundError",
     "evalue": "No module named 'SPARQLWrapper'",
     "output_type": "error",
     "traceback": [
      "\u001b[0;31m---------------------------------------------------------------------------\u001b[0m",
      "\u001b[0;31mModuleNotFoundError\u001b[0m                       Traceback (most recent call last)",
      "\u001b[0;32m<ipython-input-1-702802700c26>\u001b[0m in \u001b[0;36m<module>\u001b[0;34m()\u001b[0m\n\u001b[1;32m     12\u001b[0m \u001b[0;32mfrom\u001b[0m \u001b[0mbs4\u001b[0m \u001b[0;32mimport\u001b[0m \u001b[0mBeautifulSoup\u001b[0m\u001b[0;34m\u001b[0m\u001b[0;34m\u001b[0m\u001b[0m\n\u001b[1;32m     13\u001b[0m \u001b[0;32mimport\u001b[0m \u001b[0mrequests\u001b[0m\u001b[0;34m\u001b[0m\u001b[0;34m\u001b[0m\u001b[0m\n\u001b[0;32m---> 14\u001b[0;31m \u001b[0;32mfrom\u001b[0m \u001b[0mSPARQLWrapper\u001b[0m \u001b[0;32mimport\u001b[0m \u001b[0mSPARQLWrapper\u001b[0m\u001b[0;34m,\u001b[0m \u001b[0mXML\u001b[0m\u001b[0;34m\u001b[0m\u001b[0;34m\u001b[0m\u001b[0m\n\u001b[0m\u001b[1;32m     15\u001b[0m \u001b[0;32mimport\u001b[0m \u001b[0mnumpy\u001b[0m \u001b[0;32mas\u001b[0m \u001b[0mnp\u001b[0m\u001b[0;34m\u001b[0m\u001b[0;34m\u001b[0m\u001b[0m\n",
      "\u001b[0;31mModuleNotFoundError\u001b[0m: No module named 'SPARQLWrapper'"
     ]
    }
   ],
   "source": [
    "from fdh_gallica import Periodical, Search, Document\n",
    "from fdh_gallica.parallel_process import iiif_urls_for_documents\n",
    "from tqdm.autonotebook import tqdm\n",
    "import json\n",
    "import pandas as pd\n",
    "from pandas.io.json import json_normalize\n",
    "import itertools\n",
    "from itertools import chain\n",
    "from itertools import compress\n",
    "import re\n",
    "import wikipedia\n",
    "from bs4 import BeautifulSoup\n",
    "import requests\n",
    "from SPARQLWrapper import SPARQLWrapper, XML\n",
    "import numpy as np"
   ]
  },
  {
   "cell_type": "code",
   "execution_count": 2,
   "metadata": {},
   "outputs": [],
   "source": [
    "# get bnf table using bnf link\n",
    "\n",
    "def get_bnf_table(link):\n",
    "    try:\n",
    "        page = requests.get(link)\n",
    "        soup = BeautifulSoup(page.content, 'html.parser')\n",
    "        s = soup.find('table')\n",
    "        table_rows = s.find_all('tr')\n",
    "\n",
    "        table = {}\n",
    "        for tr in table_rows:\n",
    "            td = tr.find_all('td')\n",
    "            row = [tr.text for tr in td]\n",
    "            if len(row) == 2:\n",
    "                table[row[0]] = row[1]\n",
    "            else:\n",
    "                table[row[0]] = row[1:]\n",
    "        return table\n",
    "\n",
    "    except:\n",
    "        return -1"
   ]
  },
  {
   "cell_type": "code",
   "execution_count": 3,
   "metadata": {},
   "outputs": [],
   "source": [
    "bnf_summary = pd.read_pickle('data/bnf_summaries.pkl')"
   ]
  },
  {
   "cell_type": "code",
   "execution_count": 4,
   "metadata": {},
   "outputs": [
    {
     "data": {
      "text/plain": [
       "0       http://data.bnf.fr/ark:/12148/cb15581791p#about\n",
       "1       http://data.bnf.fr/ark:/12148/cb16295857k#about\n",
       "2       http://data.bnf.fr/ark:/12148/cb122027126#about\n",
       "3       http://data.bnf.fr/ark:/12148/cb162959137#about\n",
       "4       http://data.bnf.fr/ark:/12148/cb13945821b#about\n",
       "                             ...                       \n",
       "1926    http://data.bnf.fr/ark:/12148/cb11901746b#about\n",
       "1927    http://data.bnf.fr/ark:/12148/cb119865877#about\n",
       "1928    http://data.bnf.fr/ark:/12148/cb130148468#about\n",
       "1929    http://data.bnf.fr/ark:/12148/cb14656875b#about\n",
       "1930    http://data.bnf.fr/ark:/12148/cb13517018d#about\n",
       "Name: bnf_link, Length: 1874, dtype: object"
      ]
     },
     "execution_count": 4,
     "metadata": {},
     "output_type": "execute_result"
    }
   ],
   "source": [
    "bnf_summary.bnf_link"
   ]
  },
  {
   "cell_type": "code",
   "execution_count": 9,
   "metadata": {},
   "outputs": [
    {
     "name": "stdout",
     "output_type": "stream",
     "text": [
      "rows missing : 0\n"
     ]
    }
   ],
   "source": [
    "bnf_table_ = bnf_summary.bnf_link.apply(get_bnf_table)\n",
    "bnf_table = bnf_table_.apply(pd.Series)\n",
    "print('rows missing : {0}'.format(bnf_table.shape[0] - bnf_summary.shape[0]))"
   ]
  },
  {
   "cell_type": "code",
   "execution_count": 13,
   "metadata": {},
   "outputs": [
    {
     "data": {
      "text/plain": [
       "[0,\n",
       " '\\n\\n\\n\\n',\n",
       " 'Activité commerciale\\xa0:',\n",
       " 'Autre forme du nom\\xa0:',\n",
       " 'Autres formes du nom\\xa0:',\n",
       " 'Autres identités\\xa0:',\n",
       " 'Domaines\\xa0:',\n",
       " 'ISNI\\xa0:',\n",
       " 'Information (catalogue BnF archives et manuscrits)\\xa0:',\n",
       " 'Langue\\xa0:',\n",
       " 'Mort\\xa0:',\n",
       " 'Naissance\\xa0:',\n",
       " 'Note\\xa0:',\n",
       " 'Pays\\xa0:',\n",
       " 'Sexe\\xa0:',\n",
       " 'Site Web\\xa0:']"
      ]
     },
     "execution_count": 13,
     "metadata": {},
     "output_type": "execute_result"
    }
   ],
   "source": [
    "bnf_table.columns.tolist()"
   ]
  },
  {
   "cell_type": "code",
   "execution_count": 14,
   "metadata": {},
   "outputs": [],
   "source": [
    "# rename columns\n",
    "# may have to fix this after re-running the crawling.\n",
    "bnf_table.columns = ['null1','null2','activity','othername1','othername2','domain','othername3',\\\n",
    "                     'ISNI','information','lang','died','born','note','country','gender','website']"
   ]
  },
  {
   "cell_type": "code",
   "execution_count": 15,
   "metadata": {},
   "outputs": [
    {
     "name": "stdout",
     "output_type": "stream",
     "text": [
      "# rows w/o gender: 68\n"
     ]
    }
   ],
   "source": [
    "# check rows without gender\n",
    "\n",
    "print('# rows w/o gender: {0}'.format(bnf_table[bnf_table.gender.isna()].shape[0]))"
   ]
  },
  {
   "cell_type": "code",
   "execution_count": 16,
   "metadata": {},
   "outputs": [
    {
     "data": {
      "text/plain": [
       "['Soprano américaine (9 décembre 1850 - 5 janvier 1891)',\n",
       " 'Actrice',\n",
       " 'Artiste lyrique (soprano)',\n",
       " 'Linguiste',\n",
       " 'Artiste de variétés',\n",
       " 'Comédienne américaine',\n",
       " 'Ministre de la Marine impériale russe de 1903 à 1905',\n",
       " 'Baryton et professeur de chant français, né à Paris le 30 juin 1865 et mort le 27 septembre 1907',\n",
       " \"Ouvrier typographe, avocat, représentant du peuple à la Constituante de 1848 et à la Législative de 1849. - Militant républicain et socialiste. - ″Plusieurs dictionnaires donnent à Martin Bernard les prénoms d'Aristide-Martin. C'est une erreur que l'examen de l'acte de naissance permet de redresser. Plus tard, le nom de Bernard étant très répandu, l'habitude se prendra de l'appeler Martin-Bernard″ : C. Latta, p. 12, n. 2.\",\n",
       " 'Peintre et graveur',\n",
       " \"Fille du roi François Ier des Deux-Siciles et de l'infante Marie-Isabelle d'Espagne, elle est princesse de la Maison de Bourbon puis devient par son mariage avec Pierre II du Brésil, la troisième et dernière impératrice du Brésil.\",\n",
       " 'Compositeur, sans doute argentin, figurant sans prénom sur une publication citée en référence bibliographique',\n",
       " \"Diplomate de l'empire chinois en France de 1884 à 1891. - Il est le premier Chinois francophone publié\",\n",
       " 'Homme politique français',\n",
       " \"Médecin. - Théoricien de la musique, défenseur de la méthode Galin-Paris-Chevé. - Auteur d'ouvrages de théorie musicale, dont certains en collaboration avec sa femme, Nanine Chevé, née Paris\",\n",
       " 'Danseuse française, elle débute à l\\'Opéra de Paris le 29 décembre 1875 dans le \"Violon du Diable\", pas de deux intercalé pour elle dans le divertissement de \"La Favorite\". Figure parmi les créatrices du divertissement de \"Jeanne d\\'Arc\"',\n",
       " 'Arquebusier et armurier français',\n",
       " \"Ecrivain et peintre. - Fille de : Dumas, Alexandre (1802-1870), et de l'actrice Belle Kreilsamner (Mélanie Serres). - Epouse de : Petel, Olinde\",\n",
       " 'Actrice. - A joué au théâtre Cluny et au Palais-Royal en 1888',\n",
       " \"Chef d'orchestre et compositeur russe, fils  de Nikolay Borisovich Golitsïn\",\n",
       " 'Homme politique. - Fut membre du gouvernement provisoire de 1848 et du gouvernement de la Défense nationale. - Fut député et maire de Paris',\n",
       " \"Chirurgien. - Professeur à l'Ecole supérieure de pharmacie de Paris. - Membre de l'Académie de médecine (en 1860)\",\n",
       " 'Homme politique. - Président de la République (1879-1887), dut présenter sa démission lors du scandale du trafic de décorations auquel son gendre se livrait',\n",
       " 'Acrobates et mimes',\n",
       " \"Commandant dans l'armée sudiste pendant la Guerre de Sécession, États-Unis, 1861-1865\",\n",
       " 'Ingénieur agronome. - Chargé de mission par le gouvernement français en 1894 au Canada',\n",
       " 'Journaliste',\n",
       " \"Capitaine de frégate. - Auteur d'études historiques sur la marine russe\",\n",
       " \"Avocat à la cour d'appel de Paris. - Avocat d'assises. - Candidat au élections de 1869 dans la 8e circonscription de la Seine\",\n",
       " 'Acteur',\n",
       " 'Chanteur lyrique',\n",
       " \"Graveur, illustrateur, peintre de genre et d'histoire\",\n",
       " 'Cantatrice',\n",
       " \"Auteur de romans réalistes, parfois d'inspiration érotique et de pièces de théâtre. - Écrivit aussi en collaboration avec son frère Paul (1896-1908). - Militant pacifiste\",\n",
       " 'Violoniste et pédagogue belge',\n",
       " 'Député de Seine-et-Marne de 1876 à 1881. - Industriel (Chocolat Menier)',\n",
       " 'Banquier. - Journaliste, fondateur du \"Petit journal\". - Auteur dramatique sous le pseudonyme de De Frascati. - Auteur d\\'articles de journaux sous le pseudonyme de \"Duallim\", anagramme de son nom',\n",
       " 'Officier militaire. - Homme politique',\n",
       " \"Homme politique et avocat. - Député des Vosges (1876-1903), sénateur (1903-1925), président de la Chambre (1888), ministre de l'agriculture (1883-1885 et 1915-1916), président du Conseil (1896-1989). - Président de l'Association de l'industrie française. - Prénoms complets : Jules, Félix\",\n",
       " 'Romancier, auteur dramatique',\n",
       " 'Inventeur de la photographie',\n",
       " \"Shah d'Iran de 1848 à 1896\",\n",
       " \"Officier et explorateur. - Sorti de Saint-Cyr en 1892, il participe à la campagne de Madagascar en 1895. En 1898, il est chargé d'une mission en Côte d'ivoire avec Hostains pour relier le golfe de Guinée au Soudan. En 1904, il effectue un voyage de reconnaissance en Chine, puis repart en 1906 en mission. Il  termine son voyage à Pékin en 1908.  En 20 mois, la mission d'Olonne a parcouru 8000 kilomètres et réalisé un travail scientifique considérable.\",\n",
       " 'Jacques Orteig été un guide ossalois né en 1864 aux Eaux-Bonnes où il a toujours vécu. Ses capacités de marcheur étaient connues de toute la vallée d\\'Ossau au point qu\\'il engageait des paris comme celui qui, le 22 juillet 1872, alors qu\\'il avait 38 ans, le conduisit au Pic de Ger, à l\\'Ossau puis à Pau. Ses qualités de montagnard et de guide étaient également reconnues. En 1865, il en fait la première ascension de la face Est et en 1871, la seconde ascension du Palas (2974 m), le plus haut sommet de la vallée d\\'Ossau  Jacques Orteig a laissé son nom au fameux \" passage d\\'Orteig \" pour monter au refuge d\\'Arrémoulit.',\n",
       " 'Journaliste. - Premier rédacteur en chef du \"Petit journal\"',\n",
       " 'Artiste de music-hall',\n",
       " 'Chimiste',\n",
       " \"Graveur, illustrateur, peintre de genre et d'histoire. - Directeur du Musée d'artillerie\",\n",
       " 'Chanteuse lyrique',\n",
       " 'Sténographe',\n",
       " 'Ténor français',\n",
       " 'Violoniste et compositeur. - Installé à Paris à partir de 1855',\n",
       " 'Portraitiste et peintre de genre',\n",
       " 'Illustrateur. - Collaborateur de journaux illustrés et de revues humoristiques',\n",
       " 'Peintre de paysages et de marines. Elève de J.L. Gérôme et de Marius Michel',\n",
       " \"A aussi traduit de l'allemand en françaisMusicographe. - A traduit de nombreuses oeuvres musicales, popularisant l'oeuvre de Richard Wagner\"]"
      ]
     },
     "execution_count": 16,
     "metadata": {},
     "output_type": "execute_result"
    }
   ],
   "source": [
    "# check note field for queers.\n",
    "\n",
    "bnf_table[bnf_table.gender.isna() & (~bnf_table.note.isna())].note.unique().tolist()"
   ]
  },
  {
   "cell_type": "code",
   "execution_count": 17,
   "metadata": {},
   "outputs": [
    {
     "name": "stdout",
     "output_type": "stream",
     "text": [
      "gender can be fixed by looking only at the first word of 'note'\n"
     ]
    }
   ],
   "source": [
    "# seems we can tell their gender with information in note.\n",
    "\n",
    "bnf_table[bnf_table.gender.isna() & (~bnf_table.note.isna())].note.apply(lambda x: x.split()[0]).unique().tolist()\n",
    "print(\"gender can be fixed by looking only at the first word of 'note'\")"
   ]
  },
  {
   "cell_type": "code",
   "execution_count": 18,
   "metadata": {},
   "outputs": [],
   "source": [
    "female = ['soprano','fille','danseuse','actrice','cantatrice','comédienne']\n",
    "\n",
    "def fix_gender(x):\n",
    "    if x.split()[0].lower() in female:\n",
    "        return 'féminin'\n",
    "    else:\n",
    "        return 'masculin'"
   ]
  },
  {
   "cell_type": "code",
   "execution_count": 19,
   "metadata": {},
   "outputs": [
    {
     "name": "stderr",
     "output_type": "stream",
     "text": [
      "C:\\Users\\haeeun\\Anaconda3\\lib\\site-packages\\ipykernel_launcher.py:3: SettingWithCopyWarning: \n",
      "A value is trying to be set on a copy of a slice from a DataFrame\n",
      "\n",
      "See the caveats in the documentation: http://pandas.pydata.org/pandas-docs/stable/user_guide/indexing.html#returning-a-view-versus-a-copy\n",
      "  This is separate from the ipykernel package so we can avoid doing imports until\n"
     ]
    }
   ],
   "source": [
    "_fix_gender_index = bnf_table.gender.isna() & (~bnf_table.note.isna())\n",
    "\n",
    "bnf_table['gender'][_fix_gender_index] = bnf_table[_fix_gender_index].note.apply(fix_gender)"
   ]
  },
  {
   "cell_type": "code",
   "execution_count": null,
   "metadata": {},
   "outputs": [],
   "source": [
    "bnf_table[['name','bnf_link']] = bnf_summary[['raw_name','bnf_link']]\n",
    "bnf_table = bnf_table[['name', 'bnf_link','gender','note','country', 'lang', 'born', 'died','domain',\n",
    "       'othernames1', 'isni', 'othernames2', 'othernames3', 'activity',\n",
    "       'information', 'null1','null2', 'website', ]]"
   ]
  },
  {
   "cell_type": "code",
   "execution_count": null,
   "metadata": {},
   "outputs": [],
   "source": [
    "bnf_table.to_pickle('data/bnf_table_full.pkl')\n",
    "bnf_table.to_pickle('data/bnf_table_summaries.pkl')"
   ]
  },
  {
   "cell_type": "code",
   "execution_count": null,
   "metadata": {},
   "outputs": [],
   "source": []
  }
 ],
 "metadata": {
  "kernelspec": {
   "display_name": "Humans of Paris",
   "language": "python",
   "name": "humans-of-paris"
  },
  "language_info": {
   "codemirror_mode": {
    "name": "ipython",
    "version": 3
   },
   "file_extension": ".py",
   "mimetype": "text/x-python",
   "name": "python",
   "nbconvert_exporter": "python",
   "pygments_lexer": "ipython3",
   "version": "3.6.7"
  }
 },
 "nbformat": 4,
 "nbformat_minor": 4
}
