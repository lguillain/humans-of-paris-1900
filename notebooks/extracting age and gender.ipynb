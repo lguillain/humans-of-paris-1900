{
 "cells": [
  {
   "cell_type": "code",
   "execution_count": 1,
   "metadata": {},
   "outputs": [
    {
     "name": "stderr",
     "output_type": "stream",
     "text": [
      "Using TensorFlow backend.\n"
     ]
    }
   ],
   "source": [
    "import json\n",
    "import re\n",
    "import collections\n",
    "import numpy as np\n",
    "import multiprocessing\n",
    "\n",
    "import pandas as pd\n",
    "\n",
    "from pyagender import PyAgender\n",
    "from io import BytesIO\n",
    "from PIL import Image\n",
    "import requests\n",
    "\n",
    "import cv2"
   ]
  },
  {
   "cell_type": "markdown",
   "metadata": {},
   "source": [
    "In this notebook we get the age and gender based of the picture of a person.\n",
    "For this we consider only a subset of all images, those containing people that have a name associated with them.\n",
    "\n",
    "we do the following processing:\n",
    "\n",
    "1. get ids for photos where only one person is in the image\n",
    "2. get list of images associated with on person\n",
    "3. use py-agender to get the age and gender\n",
    "\n",
    "finally we do some evaluation"
   ]
  },
  {
   "cell_type": "markdown",
   "metadata": {},
   "source": [
    "### 1. get ids of photos where only one person is in the image"
   ]
  },
  {
   "cell_type": "code",
   "execution_count": 2,
   "metadata": {},
   "outputs": [],
   "source": [
    "df = pd.read_pickle('named_subject.pkl')"
   ]
  },
  {
   "cell_type": "code",
   "execution_count": 3,
   "metadata": {},
   "outputs": [
    {
     "data": {
      "text/html": [
       "<div>\n",
       "<style scoped>\n",
       "    .dataframe tbody tr th:only-of-type {\n",
       "        vertical-align: middle;\n",
       "    }\n",
       "\n",
       "    .dataframe tbody tr th {\n",
       "        vertical-align: top;\n",
       "    }\n",
       "\n",
       "    .dataframe thead th {\n",
       "        text-align: right;\n",
       "    }\n",
       "</style>\n",
       "<table border=\"1\" class=\"dataframe\">\n",
       "  <thead>\n",
       "    <tr style=\"text-align: right;\">\n",
       "      <th></th>\n",
       "      <th>descriptor</th>\n",
       "      <th>id</th>\n",
       "      <th>19e</th>\n",
       "      <th>Portraits</th>\n",
       "      <th>caricature</th>\n",
       "      <th>subject_name</th>\n",
       "      <th>named_subject</th>\n",
       "    </tr>\n",
       "  </thead>\n",
       "  <tbody>\n",
       "    <tr>\n",
       "      <th>0</th>\n",
       "      <td>Auguez, Mathilde (1868-1955) -- Portraits</td>\n",
       "      <td>https://gallica.bnf.fr/ark:/12148/btv1b53168872x</td>\n",
       "      <td>False</td>\n",
       "      <td>True</td>\n",
       "      <td>False</td>\n",
       "      <td>[Auguez, Mathilde]</td>\n",
       "      <td>Auguez, Mathilde</td>\n",
       "    </tr>\n",
       "    <tr>\n",
       "      <th>2</th>\n",
       "      <td>Auguez, Mathilde (1868-1955) -- Portraits</td>\n",
       "      <td>https://gallica.bnf.fr/ark:/12148/btv1b531688701</td>\n",
       "      <td>False</td>\n",
       "      <td>True</td>\n",
       "      <td>False</td>\n",
       "      <td>[Auguez, Mathilde]</td>\n",
       "      <td>Auguez, Mathilde</td>\n",
       "    </tr>\n",
       "    <tr>\n",
       "      <th>4</th>\n",
       "      <td>Bruant, Aristide (1851-1925) -- Portraits</td>\n",
       "      <td>https://gallica.bnf.fr/ark:/12148/btv1b53171770j</td>\n",
       "      <td>False</td>\n",
       "      <td>True</td>\n",
       "      <td>False</td>\n",
       "      <td>[Bruant, Aristide]</td>\n",
       "      <td>Bruant, Aristide</td>\n",
       "    </tr>\n",
       "    <tr>\n",
       "      <th>6</th>\n",
       "      <td>Auguez, Mathilde (1868-1955) -- Portraits</td>\n",
       "      <td>https://gallica.bnf.fr/ark:/12148/btv1b53168873c</td>\n",
       "      <td>False</td>\n",
       "      <td>True</td>\n",
       "      <td>False</td>\n",
       "      <td>[Auguez, Mathilde]</td>\n",
       "      <td>Auguez, Mathilde</td>\n",
       "    </tr>\n",
       "    <tr>\n",
       "      <th>8</th>\n",
       "      <td>Brasseur, Albert (1862-1932) -- Portraits</td>\n",
       "      <td>https://gallica.bnf.fr/ark:/12148/btv1b531651494</td>\n",
       "      <td>False</td>\n",
       "      <td>True</td>\n",
       "      <td>False</td>\n",
       "      <td>[Brasseur, Albert]</td>\n",
       "      <td>Brasseur, Albert</td>\n",
       "    </tr>\n",
       "    <tr>\n",
       "      <th>...</th>\n",
       "      <td>...</td>\n",
       "      <td>...</td>\n",
       "      <td>...</td>\n",
       "      <td>...</td>\n",
       "      <td>...</td>\n",
       "      <td>...</td>\n",
       "      <td>...</td>\n",
       "    </tr>\n",
       "    <tr>\n",
       "      <th>9589</th>\n",
       "      <td>Cham (1818-1879) -- Oeuvres -- Dessin</td>\n",
       "      <td>https://gallica.bnf.fr/ark:/12148/btv1b531189073</td>\n",
       "      <td>False</td>\n",
       "      <td>False</td>\n",
       "      <td>False</td>\n",
       "      <td>[Cham]</td>\n",
       "      <td>Cham</td>\n",
       "    </tr>\n",
       "    <tr>\n",
       "      <th>9980</th>\n",
       "      <td>Carvalho, Léon (1825-1897) -- Tombes</td>\n",
       "      <td>https://gallica.bnf.fr/ark:/12148/btv1b53117431d</td>\n",
       "      <td>False</td>\n",
       "      <td>False</td>\n",
       "      <td>False</td>\n",
       "      <td>[Carvalho, Léon]</td>\n",
       "      <td>Carvalho, Léon</td>\n",
       "    </tr>\n",
       "    <tr>\n",
       "      <th>11180</th>\n",
       "      <td>Sand, George (1804-1876) -- Statues</td>\n",
       "      <td>https://gallica.bnf.fr/ark:/12148/btv1b530916961</td>\n",
       "      <td>False</td>\n",
       "      <td>False</td>\n",
       "      <td>False</td>\n",
       "      <td>[Sand, George]</td>\n",
       "      <td>Sand, George</td>\n",
       "    </tr>\n",
       "    <tr>\n",
       "      <th>11795</th>\n",
       "      <td>Sand, George (1804-1876) -- Statues</td>\n",
       "      <td>https://gallica.bnf.fr/ark:/12148/btv1b53091695k</td>\n",
       "      <td>False</td>\n",
       "      <td>False</td>\n",
       "      <td>False</td>\n",
       "      <td>[Sand, George]</td>\n",
       "      <td>Sand, George</td>\n",
       "    </tr>\n",
       "    <tr>\n",
       "      <th>20560</th>\n",
       "      <td>Sand, George (1804-1876) -- Statues</td>\n",
       "      <td>https://gallica.bnf.fr/ark:/12148/btv1b53091697g</td>\n",
       "      <td>False</td>\n",
       "      <td>False</td>\n",
       "      <td>False</td>\n",
       "      <td>[Sand, George]</td>\n",
       "      <td>Sand, George</td>\n",
       "    </tr>\n",
       "  </tbody>\n",
       "</table>\n",
       "<p>14168 rows × 7 columns</p>\n",
       "</div>"
      ],
      "text/plain": [
       "                                      descriptor  \\\n",
       "0      Auguez, Mathilde (1868-1955) -- Portraits   \n",
       "2      Auguez, Mathilde (1868-1955) -- Portraits   \n",
       "4      Bruant, Aristide (1851-1925) -- Portraits   \n",
       "6      Auguez, Mathilde (1868-1955) -- Portraits   \n",
       "8      Brasseur, Albert (1862-1932) -- Portraits   \n",
       "...                                          ...   \n",
       "9589       Cham (1818-1879) -- Oeuvres -- Dessin   \n",
       "9980        Carvalho, Léon (1825-1897) -- Tombes   \n",
       "11180        Sand, George (1804-1876) -- Statues   \n",
       "11795        Sand, George (1804-1876) -- Statues   \n",
       "20560        Sand, George (1804-1876) -- Statues   \n",
       "\n",
       "                                                     id    19e  Portraits  \\\n",
       "0      https://gallica.bnf.fr/ark:/12148/btv1b53168872x  False       True   \n",
       "2      https://gallica.bnf.fr/ark:/12148/btv1b531688701  False       True   \n",
       "4      https://gallica.bnf.fr/ark:/12148/btv1b53171770j  False       True   \n",
       "6      https://gallica.bnf.fr/ark:/12148/btv1b53168873c  False       True   \n",
       "8      https://gallica.bnf.fr/ark:/12148/btv1b531651494  False       True   \n",
       "...                                                 ...    ...        ...   \n",
       "9589   https://gallica.bnf.fr/ark:/12148/btv1b531189073  False      False   \n",
       "9980   https://gallica.bnf.fr/ark:/12148/btv1b53117431d  False      False   \n",
       "11180  https://gallica.bnf.fr/ark:/12148/btv1b530916961  False      False   \n",
       "11795  https://gallica.bnf.fr/ark:/12148/btv1b53091695k  False      False   \n",
       "20560  https://gallica.bnf.fr/ark:/12148/btv1b53091697g  False      False   \n",
       "\n",
       "       caricature        subject_name     named_subject  \n",
       "0           False  [Auguez, Mathilde]  Auguez, Mathilde  \n",
       "2           False  [Auguez, Mathilde]  Auguez, Mathilde  \n",
       "4           False  [Bruant, Aristide]  Bruant, Aristide  \n",
       "6           False  [Auguez, Mathilde]  Auguez, Mathilde  \n",
       "8           False  [Brasseur, Albert]  Brasseur, Albert  \n",
       "...           ...                 ...               ...  \n",
       "9589        False              [Cham]              Cham  \n",
       "9980        False    [Carvalho, Léon]    Carvalho, Léon  \n",
       "11180       False      [Sand, George]      Sand, George  \n",
       "11795       False      [Sand, George]      Sand, George  \n",
       "20560       False      [Sand, George]      Sand, George  \n",
       "\n",
       "[14168 rows x 7 columns]"
      ]
     },
     "execution_count": 3,
     "metadata": {},
     "output_type": "execute_result"
    }
   ],
   "source": [
    "df"
   ]
  },
  {
   "cell_type": "code",
   "execution_count": 4,
   "metadata": {},
   "outputs": [],
   "source": [
    "person_per_image = df.groupby('id').named_subject.count()"
   ]
  },
  {
   "cell_type": "code",
   "execution_count": 5,
   "metadata": {},
   "outputs": [],
   "source": [
    "individual_portraits = person_per_image[person_per_image == 1].index"
   ]
  },
  {
   "cell_type": "markdown",
   "metadata": {},
   "source": [
    "How many pictures do we have of one person?"
   ]
  },
  {
   "cell_type": "code",
   "execution_count": 6,
   "metadata": {},
   "outputs": [
    {
     "data": {
      "text/plain": [
       "named_subject\n",
       "Abbatucci, Séverin               5\n",
       "Abbott, Emma                    50\n",
       "Abbéma, Louise                  12\n",
       "Abney, William de Wiveleslie     3\n",
       "Abott, Bessie                    1\n",
       "                                ..\n",
       "Édouard VII                     25\n",
       "Énault, Louis                    1\n",
       "Éon, Charles de Beaumont d'      1\n",
       "Étex, Antoine                    2\n",
       "Étiévant, Henri                  1\n",
       "Name: id, Length: 1903, dtype: int64"
      ]
     },
     "execution_count": 6,
     "metadata": {},
     "output_type": "execute_result"
    }
   ],
   "source": [
    "df[df.id.isin(individual_portraits)].groupby('named_subject').id.count()"
   ]
  },
  {
   "cell_type": "markdown",
   "metadata": {},
   "source": [
    "12 people don't have portraits. That's okay, we focus on the people that do."
   ]
  },
  {
   "cell_type": "code",
   "execution_count": 7,
   "metadata": {},
   "outputs": [
    {
     "data": {
      "text/plain": [
       "named_subject\n",
       "Abbatucci, Séverin               5\n",
       "Abbott, Emma                    50\n",
       "Abbéma, Louise                  12\n",
       "Abney, William de Wiveleslie     3\n",
       "Abott, Bessie                    1\n",
       "                                ..\n",
       "Édouard VII                     25\n",
       "Énault, Louis                    1\n",
       "Éon, Charles de Beaumont d'      1\n",
       "Étex, Antoine                    2\n",
       "Étiévant, Henri                  1\n",
       "Name: id, Length: 1886, dtype: int64"
      ]
     },
     "execution_count": 7,
     "metadata": {},
     "output_type": "execute_result"
    }
   ],
   "source": [
    "df[df.id.isin(individual_portraits) & df.Portraits].groupby('named_subject').id.count()"
   ]
  },
  {
   "cell_type": "markdown",
   "metadata": {},
   "source": [
    "### 2. get list associated to person"
   ]
  },
  {
   "cell_type": "code",
   "execution_count": 8,
   "metadata": {},
   "outputs": [],
   "source": [
    "personal_portrait_image = df[df.id.isin(individual_portraits) &\\\n",
    "                             df.Portraits].groupby('named_subject').apply(lambda x: x.id.tolist())\n",
    "personal_portrait_image = personal_portrait_image.rename('id').reset_index()"
   ]
  },
  {
   "cell_type": "code",
   "execution_count": 9,
   "metadata": {},
   "outputs": [
    {
     "data": {
      "text/html": [
       "<div>\n",
       "<style scoped>\n",
       "    .dataframe tbody tr th:only-of-type {\n",
       "        vertical-align: middle;\n",
       "    }\n",
       "\n",
       "    .dataframe tbody tr th {\n",
       "        vertical-align: top;\n",
       "    }\n",
       "\n",
       "    .dataframe thead th {\n",
       "        text-align: right;\n",
       "    }\n",
       "</style>\n",
       "<table border=\"1\" class=\"dataframe\">\n",
       "  <thead>\n",
       "    <tr style=\"text-align: right;\">\n",
       "      <th></th>\n",
       "      <th>named_subject</th>\n",
       "      <th>id</th>\n",
       "    </tr>\n",
       "  </thead>\n",
       "  <tbody>\n",
       "    <tr>\n",
       "      <th>0</th>\n",
       "      <td>Abbatucci, Séverin</td>\n",
       "      <td>[https://gallica.bnf.fr/ark:/12148/btv1b530716...</td>\n",
       "    </tr>\n",
       "    <tr>\n",
       "      <th>1</th>\n",
       "      <td>Abbott, Emma</td>\n",
       "      <td>[https://gallica.bnf.fr/ark:/12148/btv1b531637...</td>\n",
       "    </tr>\n",
       "    <tr>\n",
       "      <th>2</th>\n",
       "      <td>Abbéma, Louise</td>\n",
       "      <td>[https://gallica.bnf.fr/ark:/12148/btv1b530715...</td>\n",
       "    </tr>\n",
       "    <tr>\n",
       "      <th>3</th>\n",
       "      <td>Abney, William de Wiveleslie</td>\n",
       "      <td>[https://gallica.bnf.fr/ark:/12148/btv1b531651...</td>\n",
       "    </tr>\n",
       "    <tr>\n",
       "      <th>4</th>\n",
       "      <td>Abott, Bessie</td>\n",
       "      <td>[https://gallica.bnf.fr/ark:/12148/btv1b531175...</td>\n",
       "    </tr>\n",
       "    <tr>\n",
       "      <th>...</th>\n",
       "      <td>...</td>\n",
       "      <td>...</td>\n",
       "    </tr>\n",
       "    <tr>\n",
       "      <th>1881</th>\n",
       "      <td>Édouard VII</td>\n",
       "      <td>[https://gallica.bnf.fr/ark:/12148/btv1b530980...</td>\n",
       "    </tr>\n",
       "    <tr>\n",
       "      <th>1882</th>\n",
       "      <td>Énault, Louis</td>\n",
       "      <td>[https://gallica.bnf.fr/ark:/12148/btv1b530653...</td>\n",
       "    </tr>\n",
       "    <tr>\n",
       "      <th>1883</th>\n",
       "      <td>Éon, Charles de Beaumont d'</td>\n",
       "      <td>[https://gallica.bnf.fr/ark:/12148/btv1b530664...</td>\n",
       "    </tr>\n",
       "    <tr>\n",
       "      <th>1884</th>\n",
       "      <td>Étex, Antoine</td>\n",
       "      <td>[https://gallica.bnf.fr/ark:/12148/btv1b531271...</td>\n",
       "    </tr>\n",
       "    <tr>\n",
       "      <th>1885</th>\n",
       "      <td>Étiévant, Henri</td>\n",
       "      <td>[https://gallica.bnf.fr/ark:/12148/btv1b531119...</td>\n",
       "    </tr>\n",
       "  </tbody>\n",
       "</table>\n",
       "<p>1886 rows × 2 columns</p>\n",
       "</div>"
      ],
      "text/plain": [
       "                     named_subject  \\\n",
       "0               Abbatucci, Séverin   \n",
       "1                     Abbott, Emma   \n",
       "2                   Abbéma, Louise   \n",
       "3     Abney, William de Wiveleslie   \n",
       "4                    Abott, Bessie   \n",
       "...                            ...   \n",
       "1881                   Édouard VII   \n",
       "1882                 Énault, Louis   \n",
       "1883   Éon, Charles de Beaumont d'   \n",
       "1884                 Étex, Antoine   \n",
       "1885               Étiévant, Henri   \n",
       "\n",
       "                                                     id  \n",
       "0     [https://gallica.bnf.fr/ark:/12148/btv1b530716...  \n",
       "1     [https://gallica.bnf.fr/ark:/12148/btv1b531637...  \n",
       "2     [https://gallica.bnf.fr/ark:/12148/btv1b530715...  \n",
       "3     [https://gallica.bnf.fr/ark:/12148/btv1b531651...  \n",
       "4     [https://gallica.bnf.fr/ark:/12148/btv1b531175...  \n",
       "...                                                 ...  \n",
       "1881  [https://gallica.bnf.fr/ark:/12148/btv1b530980...  \n",
       "1882  [https://gallica.bnf.fr/ark:/12148/btv1b530653...  \n",
       "1883  [https://gallica.bnf.fr/ark:/12148/btv1b530664...  \n",
       "1884  [https://gallica.bnf.fr/ark:/12148/btv1b531271...  \n",
       "1885  [https://gallica.bnf.fr/ark:/12148/btv1b531119...  \n",
       "\n",
       "[1886 rows x 2 columns]"
      ]
     },
     "execution_count": 9,
     "metadata": {},
     "output_type": "execute_result"
    }
   ],
   "source": [
    "personal_portrait_image"
   ]
  },
  {
   "cell_type": "code",
   "execution_count": 10,
   "metadata": {},
   "outputs": [
    {
     "name": "stdout",
     "output_type": "stream",
     "text": [
      "WARNING:tensorflow:From /Users/lguillain/opt/anaconda3/envs/fdh/lib/python3.7/site-packages/tensorflow/python/framework/op_def_library.py:263: colocate_with (from tensorflow.python.framework.ops) is deprecated and will be removed in a future version.\n",
      "Instructions for updating:\n",
      "Colocations handled automatically by placer.\n"
     ]
    },
    {
     "name": "stderr",
     "output_type": "stream",
     "text": [
      "WARNING:tensorflow:From /Users/lguillain/opt/anaconda3/envs/fdh/lib/python3.7/site-packages/tensorflow/python/framework/op_def_library.py:263: colocate_with (from tensorflow.python.framework.ops) is deprecated and will be removed in a future version.\n",
      "Instructions for updating:\n",
      "Colocations handled automatically by placer.\n"
     ]
    }
   ],
   "source": [
    "agender = PyAgender() "
   ]
  },
  {
   "cell_type": "markdown",
   "metadata": {},
   "source": [
    "### 3. get age-gender lables "
   ]
  },
  {
   "cell_type": "markdown",
   "metadata": {},
   "source": [
    "the api not only gives us an age and gender estimate, but also the rectangle pointing to the face. We keep that as it can be used for the face map "
   ]
  },
  {
   "cell_type": "code",
   "execution_count": 11,
   "metadata": {},
   "outputs": [],
   "source": [
    "def get_image(doc):\n",
    "    url = doc+'/f1.highres.jpg'\n",
    "    response = requests.get(url)\n",
    "    img = Image.open(BytesIO(response.content))\n",
    "    img = Image.open(BytesIO(response.content)).convert('RGB')\n",
    "    img = np.array(img)\n",
    "    return img\n",
    "\n",
    "def get_age_gender_estimates(image_docs):\n",
    "    i = 0\n",
    "    estimates = []\n",
    "    \n",
    "    #handle case where for one image of personn we can't get estimates\n",
    "    while i < len(image_docs) and len(estimates) == 0:\n",
    "        img = get_image(image_docs[i])\n",
    "        retries = 0\n",
    "        while retries < 5 and len(estimates) == 0:\n",
    "            estimates = agender.detect_genders_ages(img)\n",
    "            retries += 1\n",
    "        i = i+1\n",
    "        \n",
    "    if estimates:\n",
    "        # use first estimate as it is most likely one\n",
    "        result = estimates[0]\n",
    "        result['number'] = len(estimates)\n",
    "        result['id'] = image_docs[i-1]\n",
    "        return result\n",
    "    \n",
    "    return {}"
   ]
  },
  {
   "cell_type": "code",
   "execution_count": 12,
   "metadata": {},
   "outputs": [],
   "source": [
    "if True:\n",
    "    age_gender_lables = personal_portrait_image.id.map(get_age_gender_estimates)  \n",
    "    age_gender_lables = pd.DataFrame(age_gender_lables.tolist())\n",
    "    age_gender_lables['name'] = personal_portrait_image.named_subject\n",
    "    age_gender_lables.to_json('age_gender_labeles.json')"
   ]
  },
  {
   "cell_type": "code",
   "execution_count": 63,
   "metadata": {},
   "outputs": [],
   "source": [
    "#age_gender_lables = pd.read_json('age_gender_labeles.json')"
   ]
  },
  {
   "cell_type": "code",
   "execution_count": 79,
   "metadata": {},
   "outputs": [],
   "source": []
  },
  {
   "cell_type": "markdown",
   "metadata": {},
   "source": [
    "# evaluation of method\n",
    "\n",
    "\n",
    "evaluation of algorithm itself is presented on wikipage of py-agender: https://github.com/yu4u/age-gender-estimation"
   ]
  },
  {
   "cell_type": "code",
   "execution_count": 80,
   "metadata": {},
   "outputs": [
    {
     "data": {
      "text/html": [
       "<div>\n",
       "<style scoped>\n",
       "    .dataframe tbody tr th:only-of-type {\n",
       "        vertical-align: middle;\n",
       "    }\n",
       "\n",
       "    .dataframe tbody tr th {\n",
       "        vertical-align: top;\n",
       "    }\n",
       "\n",
       "    .dataframe thead th {\n",
       "        text-align: right;\n",
       "    }\n",
       "</style>\n",
       "<table border=\"1\" class=\"dataframe\">\n",
       "  <thead>\n",
       "    <tr style=\"text-align: right;\">\n",
       "      <th></th>\n",
       "      <th>left</th>\n",
       "      <th>top</th>\n",
       "      <th>right</th>\n",
       "      <th>bottom</th>\n",
       "      <th>width</th>\n",
       "      <th>height</th>\n",
       "      <th>gender</th>\n",
       "      <th>age</th>\n",
       "      <th>number</th>\n",
       "      <th>id</th>\n",
       "      <th>name</th>\n",
       "    </tr>\n",
       "  </thead>\n",
       "  <tbody>\n",
       "    <tr>\n",
       "      <th>0</th>\n",
       "      <td>269.0</td>\n",
       "      <td>268.0</td>\n",
       "      <td>748.0</td>\n",
       "      <td>747.0</td>\n",
       "      <td>479.0</td>\n",
       "      <td>479.0</td>\n",
       "      <td>0.116277</td>\n",
       "      <td>47.741472</td>\n",
       "      <td>1.0</td>\n",
       "      <td>https://gallica.bnf.fr/ark:/12148/btv1b53071608k</td>\n",
       "      <td>Abbatucci, Séverin</td>\n",
       "    </tr>\n",
       "    <tr>\n",
       "      <th>1</th>\n",
       "      <td>433.0</td>\n",
       "      <td>316.0</td>\n",
       "      <td>580.0</td>\n",
       "      <td>463.0</td>\n",
       "      <td>147.0</td>\n",
       "      <td>147.0</td>\n",
       "      <td>0.585720</td>\n",
       "      <td>27.465579</td>\n",
       "      <td>2.0</td>\n",
       "      <td>https://gallica.bnf.fr/ark:/12148/btv1b531622212</td>\n",
       "      <td>Abbott, Emma</td>\n",
       "    </tr>\n",
       "    <tr>\n",
       "      <th>2</th>\n",
       "      <td>250.0</td>\n",
       "      <td>718.0</td>\n",
       "      <td>403.0</td>\n",
       "      <td>871.0</td>\n",
       "      <td>153.0</td>\n",
       "      <td>153.0</td>\n",
       "      <td>0.377803</td>\n",
       "      <td>40.358822</td>\n",
       "      <td>3.0</td>\n",
       "      <td>https://gallica.bnf.fr/ark:/12148/btv1b53071525p</td>\n",
       "      <td>Abbéma, Louise</td>\n",
       "    </tr>\n",
       "    <tr>\n",
       "      <th>3</th>\n",
       "      <td>155.0</td>\n",
       "      <td>134.0</td>\n",
       "      <td>872.0</td>\n",
       "      <td>851.0</td>\n",
       "      <td>717.0</td>\n",
       "      <td>717.0</td>\n",
       "      <td>0.104841</td>\n",
       "      <td>44.487285</td>\n",
       "      <td>1.0</td>\n",
       "      <td>https://gallica.bnf.fr/ark:/12148/btv1b53165139q</td>\n",
       "      <td>Abney, William de Wiveleslie</td>\n",
       "    </tr>\n",
       "    <tr>\n",
       "      <th>4</th>\n",
       "      <td>415.0</td>\n",
       "      <td>184.0</td>\n",
       "      <td>615.0</td>\n",
       "      <td>384.0</td>\n",
       "      <td>200.0</td>\n",
       "      <td>200.0</td>\n",
       "      <td>0.389818</td>\n",
       "      <td>27.194442</td>\n",
       "      <td>1.0</td>\n",
       "      <td>https://gallica.bnf.fr/ark:/12148/btv1b53117510h</td>\n",
       "      <td>Abott, Bessie</td>\n",
       "    </tr>\n",
       "    <tr>\n",
       "      <th>...</th>\n",
       "      <td>...</td>\n",
       "      <td>...</td>\n",
       "      <td>...</td>\n",
       "      <td>...</td>\n",
       "      <td>...</td>\n",
       "      <td>...</td>\n",
       "      <td>...</td>\n",
       "      <td>...</td>\n",
       "      <td>...</td>\n",
       "      <td>...</td>\n",
       "      <td>...</td>\n",
       "    </tr>\n",
       "    <tr>\n",
       "      <th>1803</th>\n",
       "      <td>266.0</td>\n",
       "      <td>367.0</td>\n",
       "      <td>641.0</td>\n",
       "      <td>742.0</td>\n",
       "      <td>375.0</td>\n",
       "      <td>375.0</td>\n",
       "      <td>0.011937</td>\n",
       "      <td>42.445805</td>\n",
       "      <td>1.0</td>\n",
       "      <td>https://gallica.bnf.fr/ark:/12148/btv1b53066482v</td>\n",
       "      <td>Émile</td>\n",
       "    </tr>\n",
       "    <tr>\n",
       "      <th>1804</th>\n",
       "      <td>355.0</td>\n",
       "      <td>310.0</td>\n",
       "      <td>596.0</td>\n",
       "      <td>551.0</td>\n",
       "      <td>241.0</td>\n",
       "      <td>241.0</td>\n",
       "      <td>0.033713</td>\n",
       "      <td>45.716630</td>\n",
       "      <td>1.0</td>\n",
       "      <td>https://gallica.bnf.fr/ark:/12148/btv1b53065399p</td>\n",
       "      <td>Énault, Louis</td>\n",
       "    </tr>\n",
       "    <tr>\n",
       "      <th>1805</th>\n",
       "      <td>288.0</td>\n",
       "      <td>437.0</td>\n",
       "      <td>583.0</td>\n",
       "      <td>732.0</td>\n",
       "      <td>295.0</td>\n",
       "      <td>295.0</td>\n",
       "      <td>0.358721</td>\n",
       "      <td>26.078685</td>\n",
       "      <td>1.0</td>\n",
       "      <td>https://gallica.bnf.fr/ark:/12148/btv1b530664193</td>\n",
       "      <td>Éon, Charles de Beaumont d'</td>\n",
       "    </tr>\n",
       "    <tr>\n",
       "      <th>1806</th>\n",
       "      <td>310.0</td>\n",
       "      <td>214.0</td>\n",
       "      <td>739.0</td>\n",
       "      <td>643.0</td>\n",
       "      <td>429.0</td>\n",
       "      <td>429.0</td>\n",
       "      <td>0.108013</td>\n",
       "      <td>47.732863</td>\n",
       "      <td>1.0</td>\n",
       "      <td>https://gallica.bnf.fr/ark:/12148/btv1b531271467</td>\n",
       "      <td>Étex, Antoine</td>\n",
       "    </tr>\n",
       "    <tr>\n",
       "      <th>1807</th>\n",
       "      <td>448.0</td>\n",
       "      <td>284.0</td>\n",
       "      <td>601.0</td>\n",
       "      <td>437.0</td>\n",
       "      <td>153.0</td>\n",
       "      <td>153.0</td>\n",
       "      <td>0.081239</td>\n",
       "      <td>31.406526</td>\n",
       "      <td>1.0</td>\n",
       "      <td>https://gallica.bnf.fr/ark:/12148/btv1b53111936g</td>\n",
       "      <td>Étiévant, Henri</td>\n",
       "    </tr>\n",
       "  </tbody>\n",
       "</table>\n",
       "<p>1808 rows × 11 columns</p>\n",
       "</div>"
      ],
      "text/plain": [
       "       left    top  right  bottom  width  height    gender        age  number  \\\n",
       "0     269.0  268.0  748.0   747.0  479.0   479.0  0.116277  47.741472     1.0   \n",
       "1     433.0  316.0  580.0   463.0  147.0   147.0  0.585720  27.465579     2.0   \n",
       "2     250.0  718.0  403.0   871.0  153.0   153.0  0.377803  40.358822     3.0   \n",
       "3     155.0  134.0  872.0   851.0  717.0   717.0  0.104841  44.487285     1.0   \n",
       "4     415.0  184.0  615.0   384.0  200.0   200.0  0.389818  27.194442     1.0   \n",
       "...     ...    ...    ...     ...    ...     ...       ...        ...     ...   \n",
       "1803  266.0  367.0  641.0   742.0  375.0   375.0  0.011937  42.445805     1.0   \n",
       "1804  355.0  310.0  596.0   551.0  241.0   241.0  0.033713  45.716630     1.0   \n",
       "1805  288.0  437.0  583.0   732.0  295.0   295.0  0.358721  26.078685     1.0   \n",
       "1806  310.0  214.0  739.0   643.0  429.0   429.0  0.108013  47.732863     1.0   \n",
       "1807  448.0  284.0  601.0   437.0  153.0   153.0  0.081239  31.406526     1.0   \n",
       "\n",
       "                                                    id  \\\n",
       "0     https://gallica.bnf.fr/ark:/12148/btv1b53071608k   \n",
       "1     https://gallica.bnf.fr/ark:/12148/btv1b531622212   \n",
       "2     https://gallica.bnf.fr/ark:/12148/btv1b53071525p   \n",
       "3     https://gallica.bnf.fr/ark:/12148/btv1b53165139q   \n",
       "4     https://gallica.bnf.fr/ark:/12148/btv1b53117510h   \n",
       "...                                                ...   \n",
       "1803  https://gallica.bnf.fr/ark:/12148/btv1b53066482v   \n",
       "1804  https://gallica.bnf.fr/ark:/12148/btv1b53065399p   \n",
       "1805  https://gallica.bnf.fr/ark:/12148/btv1b530664193   \n",
       "1806  https://gallica.bnf.fr/ark:/12148/btv1b531271467   \n",
       "1807  https://gallica.bnf.fr/ark:/12148/btv1b53111936g   \n",
       "\n",
       "                              name  \n",
       "0               Abbatucci, Séverin  \n",
       "1                     Abbott, Emma  \n",
       "2                   Abbéma, Louise  \n",
       "3     Abney, William de Wiveleslie  \n",
       "4                    Abott, Bessie  \n",
       "...                            ...  \n",
       "1803                         Émile  \n",
       "1804                 Énault, Louis  \n",
       "1805   Éon, Charles de Beaumont d'  \n",
       "1806                 Étex, Antoine  \n",
       "1807               Étiévant, Henri  \n",
       "\n",
       "[1808 rows x 11 columns]"
      ]
     },
     "execution_count": 80,
     "metadata": {},
     "output_type": "execute_result"
    }
   ],
   "source": [
    "age_gender_lables#.map(len).value_counts()"
   ]
  },
  {
   "cell_type": "markdown",
   "metadata": {},
   "source": [
    "can't get lables for 71 people"
   ]
  },
  {
   "cell_type": "code",
   "execution_count": null,
   "metadata": {},
   "outputs": [],
   "source": [
    "personal_portrait_image[age_gender_lables.map(len) == 0]"
   ]
  },
  {
   "cell_type": "markdown",
   "metadata": {},
   "source": [
    "Inspection of 10 images gives two reasons why algorithm doesn't work: images are too dark, profile is from the side, or subject is wearing glasses.\n",
    "\n",
    "This is an issue with the model and underlying traing data used"
   ]
  },
  {
   "cell_type": "code",
   "execution_count": null,
   "metadata": {},
   "outputs": [],
   "source": [
    "personal_portrait_image[age_gender_lables.map(len) == 0].id.map(lambda x: x[-1])"
   ]
  },
  {
   "cell_type": "markdown",
   "metadata": {},
   "source": [
    "labels that we do get:"
   ]
  },
  {
   "cell_type": "code",
   "execution_count": null,
   "metadata": {},
   "outputs": [],
   "source": [
    "df_evaluate = pd.DataFrame(age_gender_lables.tolist())"
   ]
  },
  {
   "cell_type": "markdown",
   "metadata": {},
   "source": [
    "number of faces that we got:"
   ]
  },
  {
   "cell_type": "code",
   "execution_count": null,
   "metadata": {},
   "outputs": [],
   "source": [
    "df_evaluate.number.value_counts()"
   ]
  },
  {
   "cell_type": "code",
   "execution_count": null,
   "metadata": {},
   "outputs": [],
   "source": [
    "df_evaluate.age.plot(kind='hist', bins=100)"
   ]
  },
  {
   "cell_type": "markdown",
   "metadata": {},
   "source": [
    "mostly men"
   ]
  },
  {
   "cell_type": "code",
   "execution_count": null,
   "metadata": {},
   "outputs": [],
   "source": [
    "df_evaluate.gender.plot(kind='hist', bins=100)"
   ]
  },
  {
   "cell_type": "markdown",
   "metadata": {},
   "source": [
    "Clearly, given the name something went wrong"
   ]
  },
  {
   "cell_type": "code",
   "execution_count": null,
   "metadata": {},
   "outputs": [],
   "source": [
    "sample = personal_portrait_image[df_evaluate.gender < .5].sample(20)"
   ]
  },
  {
   "cell_type": "code",
   "execution_count": null,
   "metadata": {},
   "outputs": [],
   "source": [
    "sample"
   ]
  },
  {
   "cell_type": "code",
   "execution_count": null,
   "metadata": {},
   "outputs": [],
   "source": [
    "df_evaluate.iloc[sample.index].age"
   ]
  },
  {
   "cell_type": "markdown",
   "metadata": {},
   "source": [
    "checking the image, gender predictions seem iffy, but age seems okay! maybe there were not enough old women in the dataset ... "
   ]
  },
  {
   "cell_type": "code",
   "execution_count": null,
   "metadata": {},
   "outputs": [],
   "source": [
    "df_evaluate.iloc[sample.index].id"
   ]
  },
  {
   "cell_type": "markdown",
   "metadata": {},
   "source": [
    "## Example of multiple matches or mismatches"
   ]
  },
  {
   "cell_type": "code",
   "execution_count": null,
   "metadata": {},
   "outputs": [],
   "source": [
    "age_gender_estimates[1564]"
   ]
  },
  {
   "cell_type": "code",
   "execution_count": null,
   "metadata": {},
   "outputs": [],
   "source": [
    "import matplotlib.pyplot as plt"
   ]
  },
  {
   "cell_type": "code",
   "execution_count": null,
   "metadata": {},
   "outputs": [],
   "source": [
    "df_evaluate"
   ]
  },
  {
   "cell_type": "code",
   "execution_count": null,
   "metadata": {},
   "outputs": [],
   "source": [
    "font = {'family': 'serif',\n",
    "        'color':  'yellow',\n",
    "        'weight': 'normal',\n",
    "        'size': 16,\n",
    "        }\n",
    "img = get_image(df_evaluate.id[1296])\n",
    "\n",
    "for detect in [age_gender_lables[1296]]:\n",
    "    gender =  'Woman' if detect['gender'] > .5 else 'Man'\n",
    "    plt.figure(figsize=(10, 10))\n",
    "    plt.text(detect['left'], detect['top']-10, str(detect['age'])[:2] + ' ' + gender, fontdict=font)\n",
    "    plt.imshow(cv2.rectangle(img, (detect['left'], detect['top']), (detect['right'], detect['bottom']), (255, 255, 0), 3))"
   ]
  },
  {
   "cell_type": "code",
   "execution_count": null,
   "metadata": {},
   "outputs": [],
   "source": []
  }
 ],
 "metadata": {
  "kernelspec": {
   "display_name": "Python 3",
   "language": "python",
   "name": "python3"
  },
  "language_info": {
   "codemirror_mode": {
    "name": "ipython",
    "version": 3
   },
   "file_extension": ".py",
   "mimetype": "text/x-python",
   "name": "python",
   "nbconvert_exporter": "python",
   "pygments_lexer": "ipython3",
   "version": "3.7.0"
  }
 },
 "nbformat": 4,
 "nbformat_minor": 2
}
