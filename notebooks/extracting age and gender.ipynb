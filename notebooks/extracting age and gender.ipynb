{
 "cells": [
  {
   "cell_type": "code",
   "execution_count": 31,
   "metadata": {},
   "outputs": [],
   "source": [
    "import json\n",
    "import re\n",
    "import collections\n",
    "import numpy as np\n",
    "import multiprocessing\n",
    "\n",
    "import pandas as pd\n",
    "\n",
    "from pyagender import PyAgender\n",
    "from io import BytesIO\n",
    "from PIL import Image\n",
    "import requests\n",
    "\n",
    "import cv2"
   ]
  },
  {
   "cell_type": "markdown",
   "metadata": {},
   "source": [
    "In this notebook we get the age and gender based of the picture of a person.\n",
    "For this we consider only a subset of all images, those containing people that have a name associated with them.\n",
    "\n",
    "we do the following processing:\n",
    "\n",
    "1. get ids for photos where only one person is in the image\n",
    "2. get list of images associated with on person\n",
    "3. use py-agender to get the age and gender\n",
    "\n",
    "finally we do some evaluation"
   ]
  },
  {
   "cell_type": "markdown",
   "metadata": {},
   "source": [
    "### 1. get ids of photos where only one person is in the image"
   ]
  },
  {
   "cell_type": "code",
   "execution_count": 59,
   "metadata": {},
   "outputs": [],
   "source": [
    "df = pd.read_pickle('data/named_subjects.pkl')"
   ]
  },
  {
   "cell_type": "code",
   "execution_count": 60,
   "metadata": {},
   "outputs": [
    {
     "data": {
      "text/html": [
       "<div>\n",
       "<style scoped>\n",
       "    .dataframe tbody tr th:only-of-type {\n",
       "        vertical-align: middle;\n",
       "    }\n",
       "\n",
       "    .dataframe tbody tr th {\n",
       "        vertical-align: top;\n",
       "    }\n",
       "\n",
       "    .dataframe thead th {\n",
       "        text-align: right;\n",
       "    }\n",
       "</style>\n",
       "<table border=\"1\" class=\"dataframe\">\n",
       "  <thead>\n",
       "    <tr style=\"text-align: right;\">\n",
       "      <th></th>\n",
       "      <th>id</th>\n",
       "      <th>dc:title</th>\n",
       "      <th>title</th>\n",
       "      <th>subjects</th>\n",
       "      <th>names</th>\n",
       "    </tr>\n",
       "  </thead>\n",
       "  <tbody>\n",
       "    <tr>\n",
       "      <th>7</th>\n",
       "      <td>https://gallica.bnf.fr/ark:/12148/btv1b53168872x</td>\n",
       "      <td>[Me Auguez] : [photographie, tirage de démonst...</td>\n",
       "      <td>Me Auguez</td>\n",
       "      <td>[Auguez, Mathilde (1868-1955) -- Portraits]</td>\n",
       "      <td>[Auguez, Mathilde (1868-1955)]</td>\n",
       "    </tr>\n",
       "    <tr>\n",
       "      <th>8</th>\n",
       "      <td>https://gallica.bnf.fr/ark:/12148/btv1b531688701</td>\n",
       "      <td>[Me Auguez] : [photographie, tirage de démonst...</td>\n",
       "      <td>Me Auguez</td>\n",
       "      <td>[Auguez, Mathilde (1868-1955) -- Portraits]</td>\n",
       "      <td>[Auguez, Mathilde (1868-1955)]</td>\n",
       "    </tr>\n",
       "    <tr>\n",
       "      <th>9</th>\n",
       "      <td>https://gallica.bnf.fr/ark:/12148/btv1b53171770j</td>\n",
       "      <td>M. Bruant : [photographie, tirage de démonstra...</td>\n",
       "      <td>M  Bruant</td>\n",
       "      <td>[Bruant, Aristide (1851-1925) -- Portraits]</td>\n",
       "      <td>[Bruant, Aristide (1851-1925)]</td>\n",
       "    </tr>\n",
       "    <tr>\n",
       "      <th>10</th>\n",
       "      <td>https://gallica.bnf.fr/ark:/12148/btv1b53168873c</td>\n",
       "      <td>Me Auguez : [photographie, tirage de démonstra...</td>\n",
       "      <td>Me Auguez</td>\n",
       "      <td>[Auguez, Mathilde (1868-1955) -- Portraits]</td>\n",
       "      <td>[Auguez, Mathilde (1868-1955)]</td>\n",
       "    </tr>\n",
       "    <tr>\n",
       "      <th>13</th>\n",
       "      <td>https://gallica.bnf.fr/ark:/12148/btv1b531651494</td>\n",
       "      <td>M. A. Brasseur : [photographie, tirage de démo...</td>\n",
       "      <td>M  A  Brasseur</td>\n",
       "      <td>[Brasseur, Albert (1862-1932) -- Portraits]</td>\n",
       "      <td>[Brasseur, Albert (1862-1932)]</td>\n",
       "    </tr>\n",
       "    <tr>\n",
       "      <th>...</th>\n",
       "      <td>...</td>\n",
       "      <td>...</td>\n",
       "      <td>...</td>\n",
       "      <td>...</td>\n",
       "      <td>...</td>\n",
       "    </tr>\n",
       "    <tr>\n",
       "      <th>23544</th>\n",
       "      <td>https://gallica.bnf.fr/ark:/12148/btv1b53126794b</td>\n",
       "      <td>[Desclauzas]. \"Rendez-vous bourgeois\" : [photo...</td>\n",
       "      <td>Desclauzas    Rendez-vous bourgeois</td>\n",
       "      <td>[Desclauzas, Marie (1840-1912) -- Portraits]</td>\n",
       "      <td>[Desclauzas, Marie (1840-1912)]</td>\n",
       "    </tr>\n",
       "    <tr>\n",
       "      <th>23546</th>\n",
       "      <td>https://gallica.bnf.fr/ark:/12148/btv1b53128819b</td>\n",
       "      <td>Feighine [i.e. Feyghine] : [photographie, tira...</td>\n",
       "      <td>Feighine  i e  Feyghine</td>\n",
       "      <td>[Feyghine (1863-1882) -- Portraits]</td>\n",
       "      <td>[Feyghine (1863-1882)]</td>\n",
       "    </tr>\n",
       "    <tr>\n",
       "      <th>23547</th>\n",
       "      <td>https://gallica.bnf.fr/ark:/12148/btv1b53128890m</td>\n",
       "      <td>Fayolles [i.e. Baretta] : [photographie, tirag...</td>\n",
       "      <td>Fayolles  i e  Baretta</td>\n",
       "      <td>[Barretta, Blanche (1856-1939) -- Portraits]</td>\n",
       "      <td>[Barretta, Blanche (1856-1939)]</td>\n",
       "    </tr>\n",
       "    <tr>\n",
       "      <th>23548</th>\n",
       "      <td>https://gallica.bnf.fr/ark:/12148/btv1b53127034j</td>\n",
       "      <td>Daubray. [Bouffes. \"Petite Muette\"] : [photogr...</td>\n",
       "      <td>Daubray   Bouffes   Petite Muette</td>\n",
       "      <td>[Daubray (1837-1892) -- Portraits]</td>\n",
       "      <td>[Daubray (1837-1892)]</td>\n",
       "    </tr>\n",
       "    <tr>\n",
       "      <th>23549</th>\n",
       "      <td>https://gallica.bnf.fr/ark:/12148/btv1b53129021g</td>\n",
       "      <td>Girard. Folies-Dramatiques : [photographie, ti...</td>\n",
       "      <td>Girard  Folies-Dramatiques</td>\n",
       "      <td>[Simon-Girard, Juliette (1859-1959) -- Portraits]</td>\n",
       "      <td>[Simon-Girard, Juliette (1859-1959)]</td>\n",
       "    </tr>\n",
       "  </tbody>\n",
       "</table>\n",
       "<p>13254 rows × 5 columns</p>\n",
       "</div>"
      ],
      "text/plain": [
       "                                                     id  \\\n",
       "7      https://gallica.bnf.fr/ark:/12148/btv1b53168872x   \n",
       "8      https://gallica.bnf.fr/ark:/12148/btv1b531688701   \n",
       "9      https://gallica.bnf.fr/ark:/12148/btv1b53171770j   \n",
       "10     https://gallica.bnf.fr/ark:/12148/btv1b53168873c   \n",
       "13     https://gallica.bnf.fr/ark:/12148/btv1b531651494   \n",
       "...                                                 ...   \n",
       "23544  https://gallica.bnf.fr/ark:/12148/btv1b53126794b   \n",
       "23546  https://gallica.bnf.fr/ark:/12148/btv1b53128819b   \n",
       "23547  https://gallica.bnf.fr/ark:/12148/btv1b53128890m   \n",
       "23548  https://gallica.bnf.fr/ark:/12148/btv1b53127034j   \n",
       "23549  https://gallica.bnf.fr/ark:/12148/btv1b53129021g   \n",
       "\n",
       "                                                dc:title  \\\n",
       "7      [Me Auguez] : [photographie, tirage de démonst...   \n",
       "8      [Me Auguez] : [photographie, tirage de démonst...   \n",
       "9      M. Bruant : [photographie, tirage de démonstra...   \n",
       "10     Me Auguez : [photographie, tirage de démonstra...   \n",
       "13     M. A. Brasseur : [photographie, tirage de démo...   \n",
       "...                                                  ...   \n",
       "23544  [Desclauzas]. \"Rendez-vous bourgeois\" : [photo...   \n",
       "23546  Feighine [i.e. Feyghine] : [photographie, tira...   \n",
       "23547  Fayolles [i.e. Baretta] : [photographie, tirag...   \n",
       "23548  Daubray. [Bouffes. \"Petite Muette\"] : [photogr...   \n",
       "23549  Girard. Folies-Dramatiques : [photographie, ti...   \n",
       "\n",
       "                                       title  \\\n",
       "7                                 Me Auguez    \n",
       "8                                 Me Auguez    \n",
       "9                                  M  Bruant   \n",
       "10                                 Me Auguez   \n",
       "13                            M  A  Brasseur   \n",
       "...                                      ...   \n",
       "23544   Desclauzas    Rendez-vous bourgeois    \n",
       "23546               Feighine  i e  Feyghine    \n",
       "23547                Fayolles  i e  Baretta    \n",
       "23548    Daubray   Bouffes   Petite Muette     \n",
       "23549             Girard  Folies-Dramatiques   \n",
       "\n",
       "                                                subjects  \\\n",
       "7            [Auguez, Mathilde (1868-1955) -- Portraits]   \n",
       "8            [Auguez, Mathilde (1868-1955) -- Portraits]   \n",
       "9            [Bruant, Aristide (1851-1925) -- Portraits]   \n",
       "10           [Auguez, Mathilde (1868-1955) -- Portraits]   \n",
       "13           [Brasseur, Albert (1862-1932) -- Portraits]   \n",
       "...                                                  ...   \n",
       "23544       [Desclauzas, Marie (1840-1912) -- Portraits]   \n",
       "23546                [Feyghine (1863-1882) -- Portraits]   \n",
       "23547       [Barretta, Blanche (1856-1939) -- Portraits]   \n",
       "23548                 [Daubray (1837-1892) -- Portraits]   \n",
       "23549  [Simon-Girard, Juliette (1859-1959) -- Portraits]   \n",
       "\n",
       "                                      names  \n",
       "7            [Auguez, Mathilde (1868-1955)]  \n",
       "8            [Auguez, Mathilde (1868-1955)]  \n",
       "9            [Bruant, Aristide (1851-1925)]  \n",
       "10           [Auguez, Mathilde (1868-1955)]  \n",
       "13           [Brasseur, Albert (1862-1932)]  \n",
       "...                                     ...  \n",
       "23544       [Desclauzas, Marie (1840-1912)]  \n",
       "23546                [Feyghine (1863-1882)]  \n",
       "23547       [Barretta, Blanche (1856-1939)]  \n",
       "23548                 [Daubray (1837-1892)]  \n",
       "23549  [Simon-Girard, Juliette (1859-1959)]  \n",
       "\n",
       "[13254 rows x 5 columns]"
      ]
     },
     "execution_count": 60,
     "metadata": {},
     "output_type": "execute_result"
    }
   ],
   "source": [
    "df"
   ]
  },
  {
   "cell_type": "code",
   "execution_count": 61,
   "metadata": {},
   "outputs": [],
   "source": [
    "person_per_image = df.names.map(len)"
   ]
  },
  {
   "cell_type": "code",
   "execution_count": 62,
   "metadata": {},
   "outputs": [
    {
     "data": {
      "text/plain": [
       "1    12425\n",
       "2      711\n",
       "3      105\n",
       "4        9\n",
       "5        3\n",
       "6        1\n",
       "Name: names, dtype: int64"
      ]
     },
     "execution_count": 62,
     "metadata": {},
     "output_type": "execute_result"
    }
   ],
   "source": [
    "person_per_image.value_counts()"
   ]
  },
  {
   "cell_type": "code",
   "execution_count": 63,
   "metadata": {},
   "outputs": [],
   "source": [
    "individual_portraits = person_per_image == 1"
   ]
  },
  {
   "cell_type": "markdown",
   "metadata": {},
   "source": [
    "How many pictures do we have of one person?"
   ]
  },
  {
   "cell_type": "code",
   "execution_count": 65,
   "metadata": {},
   "outputs": [],
   "source": [
    "individual_portraits_df = df[individual_portraits].copy()\n",
    "individual_portraits_df['name'] = individual_portraits_df.names.map(lambda x: x[0])"
   ]
  },
  {
   "cell_type": "code",
   "execution_count": 68,
   "metadata": {},
   "outputs": [
    {
     "data": {
      "text/plain": [
       "name\n",
       "Moigno, François (1804-1884)                         1\n",
       "Huet, Paul (1803-1869)                               1\n",
       "Huerta, Trinidad (1800-1874)                         1\n",
       "Stewart, Julius Leblanc (1855-1919)                  1\n",
       "Clapisson, Antoine-Louis (1808-1866)                 1\n",
       "                                                  ... \n",
       "Mily-Meyer, Emilie (1862-1927)                     101\n",
       "Gélabert, Conchita, Marie (1858-19.. ; actrice)    102\n",
       "Théo, Louise (1854-1922)                           146\n",
       "Réjane (1856-1920)                                 147\n",
       "Bernhardt, Sarah (1844-1923)                       356\n",
       "Name: id, Length: 1894, dtype: int64"
      ]
     },
     "execution_count": 68,
     "metadata": {},
     "output_type": "execute_result"
    }
   ],
   "source": [
    "individual_portraits_df.groupby('name').id.count().sort_values()"
   ]
  },
  {
   "cell_type": "markdown",
   "metadata": {},
   "source": [
    "49 people don't have portraits. That's okay, we focus on the people that do."
   ]
  },
  {
   "cell_type": "code",
   "execution_count": 77,
   "metadata": {},
   "outputs": [],
   "source": [
    "unmatched_people = set([i for x in df.names.to_list() for i in x])\\\n",
    "    .difference(set(individual_portraits_df['name'].tolist()))"
   ]
  },
  {
   "cell_type": "code",
   "execution_count": 78,
   "metadata": {},
   "outputs": [
    {
     "data": {
      "text/plain": [
       "49"
      ]
     },
     "execution_count": 78,
     "metadata": {},
     "output_type": "execute_result"
    }
   ],
   "source": [
    "len(unmatched_people)"
   ]
  },
  {
   "cell_type": "markdown",
   "metadata": {},
   "source": [
    "### 2. get list associated to person"
   ]
  },
  {
   "cell_type": "code",
   "execution_count": 80,
   "metadata": {},
   "outputs": [
    {
     "data": {
      "text/plain": [
       "name\n",
       "Abbatucci, Séverin (1821-1888)              [https://gallica.bnf.fr/ark:/12148/btv1b530716...\n",
       "Abbott, Emma (1850-1891)                    [https://gallica.bnf.fr/ark:/12148/btv1b531637...\n",
       "Abbéma, Louise (1858-1927)                  [https://gallica.bnf.fr/ark:/12148/btv1b530715...\n",
       "Abney, William de Wiveleslie (1843-1920)    [https://gallica.bnf.fr/ark:/12148/btv1b531651...\n",
       "Abott, Bessie (1878-1919)                   [https://gallica.bnf.fr/ark:/12148/btv1b531175...\n",
       "                                                                  ...                        \n",
       "Énault, Louis (1824-1900)                   [https://gallica.bnf.fr/ark:/12148/btv1b530653...\n",
       "Éon, Charles de Beaumont d' (1728-1810)     [https://gallica.bnf.fr/ark:/12148/btv1b530664...\n",
       "Étex, Antoine (1808-1888)                   [https://gallica.bnf.fr/ark:/12148/btv1b531271...\n",
       "Étiévant, Henri (1870-1953)                 [https://gallica.bnf.fr/ark:/12148/btv1b531119...\n",
       "Č̌ebyšev, Pafnutij Lʹvovič (1821-1894)      [https://gallica.bnf.fr/ark:/12148/btv1b531813...\n",
       "Length: 1894, dtype: object"
      ]
     },
     "execution_count": 80,
     "metadata": {},
     "output_type": "execute_result"
    }
   ],
   "source": []
  },
  {
   "cell_type": "code",
   "execution_count": 81,
   "metadata": {},
   "outputs": [],
   "source": [
    "personal_portrait_image = individual_portraits_df.groupby('name').apply(lambda x: x.id.tolist())\n",
    "personal_portrait_image = personal_portrait_image.rename('id').reset_index()"
   ]
  },
  {
   "cell_type": "code",
   "execution_count": 82,
   "metadata": {},
   "outputs": [
    {
     "data": {
      "text/html": [
       "<div>\n",
       "<style scoped>\n",
       "    .dataframe tbody tr th:only-of-type {\n",
       "        vertical-align: middle;\n",
       "    }\n",
       "\n",
       "    .dataframe tbody tr th {\n",
       "        vertical-align: top;\n",
       "    }\n",
       "\n",
       "    .dataframe thead th {\n",
       "        text-align: right;\n",
       "    }\n",
       "</style>\n",
       "<table border=\"1\" class=\"dataframe\">\n",
       "  <thead>\n",
       "    <tr style=\"text-align: right;\">\n",
       "      <th></th>\n",
       "      <th>name</th>\n",
       "      <th>id</th>\n",
       "    </tr>\n",
       "  </thead>\n",
       "  <tbody>\n",
       "    <tr>\n",
       "      <th>0</th>\n",
       "      <td>Abbatucci, Séverin (1821-1888)</td>\n",
       "      <td>[https://gallica.bnf.fr/ark:/12148/btv1b530716...</td>\n",
       "    </tr>\n",
       "    <tr>\n",
       "      <th>1</th>\n",
       "      <td>Abbott, Emma (1850-1891)</td>\n",
       "      <td>[https://gallica.bnf.fr/ark:/12148/btv1b531637...</td>\n",
       "    </tr>\n",
       "    <tr>\n",
       "      <th>2</th>\n",
       "      <td>Abbéma, Louise (1858-1927)</td>\n",
       "      <td>[https://gallica.bnf.fr/ark:/12148/btv1b530715...</td>\n",
       "    </tr>\n",
       "    <tr>\n",
       "      <th>3</th>\n",
       "      <td>Abney, William de Wiveleslie (1843-1920)</td>\n",
       "      <td>[https://gallica.bnf.fr/ark:/12148/btv1b531651...</td>\n",
       "    </tr>\n",
       "    <tr>\n",
       "      <th>4</th>\n",
       "      <td>Abott, Bessie (1878-1919)</td>\n",
       "      <td>[https://gallica.bnf.fr/ark:/12148/btv1b531175...</td>\n",
       "    </tr>\n",
       "    <tr>\n",
       "      <th>...</th>\n",
       "      <td>...</td>\n",
       "      <td>...</td>\n",
       "    </tr>\n",
       "    <tr>\n",
       "      <th>1889</th>\n",
       "      <td>Énault, Louis (1824-1900)</td>\n",
       "      <td>[https://gallica.bnf.fr/ark:/12148/btv1b530653...</td>\n",
       "    </tr>\n",
       "    <tr>\n",
       "      <th>1890</th>\n",
       "      <td>Éon, Charles de Beaumont d' (1728-1810)</td>\n",
       "      <td>[https://gallica.bnf.fr/ark:/12148/btv1b530664...</td>\n",
       "    </tr>\n",
       "    <tr>\n",
       "      <th>1891</th>\n",
       "      <td>Étex, Antoine (1808-1888)</td>\n",
       "      <td>[https://gallica.bnf.fr/ark:/12148/btv1b531271...</td>\n",
       "    </tr>\n",
       "    <tr>\n",
       "      <th>1892</th>\n",
       "      <td>Étiévant, Henri (1870-1953)</td>\n",
       "      <td>[https://gallica.bnf.fr/ark:/12148/btv1b531119...</td>\n",
       "    </tr>\n",
       "    <tr>\n",
       "      <th>1893</th>\n",
       "      <td>Č̌ebyšev, Pafnutij Lʹvovič (1821-1894)</td>\n",
       "      <td>[https://gallica.bnf.fr/ark:/12148/btv1b531813...</td>\n",
       "    </tr>\n",
       "  </tbody>\n",
       "</table>\n",
       "<p>1894 rows × 2 columns</p>\n",
       "</div>"
      ],
      "text/plain": [
       "                                          name  \\\n",
       "0               Abbatucci, Séverin (1821-1888)   \n",
       "1                     Abbott, Emma (1850-1891)   \n",
       "2                   Abbéma, Louise (1858-1927)   \n",
       "3     Abney, William de Wiveleslie (1843-1920)   \n",
       "4                    Abott, Bessie (1878-1919)   \n",
       "...                                        ...   \n",
       "1889                 Énault, Louis (1824-1900)   \n",
       "1890   Éon, Charles de Beaumont d' (1728-1810)   \n",
       "1891                 Étex, Antoine (1808-1888)   \n",
       "1892               Étiévant, Henri (1870-1953)   \n",
       "1893    Č̌ebyšev, Pafnutij Lʹvovič (1821-1894)   \n",
       "\n",
       "                                                     id  \n",
       "0     [https://gallica.bnf.fr/ark:/12148/btv1b530716...  \n",
       "1     [https://gallica.bnf.fr/ark:/12148/btv1b531637...  \n",
       "2     [https://gallica.bnf.fr/ark:/12148/btv1b530715...  \n",
       "3     [https://gallica.bnf.fr/ark:/12148/btv1b531651...  \n",
       "4     [https://gallica.bnf.fr/ark:/12148/btv1b531175...  \n",
       "...                                                 ...  \n",
       "1889  [https://gallica.bnf.fr/ark:/12148/btv1b530653...  \n",
       "1890  [https://gallica.bnf.fr/ark:/12148/btv1b530664...  \n",
       "1891  [https://gallica.bnf.fr/ark:/12148/btv1b531271...  \n",
       "1892  [https://gallica.bnf.fr/ark:/12148/btv1b531119...  \n",
       "1893  [https://gallica.bnf.fr/ark:/12148/btv1b531813...  \n",
       "\n",
       "[1894 rows x 2 columns]"
      ]
     },
     "execution_count": 82,
     "metadata": {},
     "output_type": "execute_result"
    }
   ],
   "source": [
    "personal_portrait_image"
   ]
  },
  {
   "cell_type": "code",
   "execution_count": 83,
   "metadata": {},
   "outputs": [],
   "source": [
    "agender = PyAgender() "
   ]
  },
  {
   "cell_type": "markdown",
   "metadata": {},
   "source": [
    "### 3. get age-gender lables "
   ]
  },
  {
   "cell_type": "markdown",
   "metadata": {},
   "source": [
    "the api not only gives us an age and gender estimate, but also the rectangle pointing to the face. We keep that as it can be used for the face map "
   ]
  },
  {
   "cell_type": "code",
   "execution_count": 84,
   "metadata": {},
   "outputs": [],
   "source": [
    "def get_image(doc):\n",
    "    url = doc+'/f1.highres.jpg'\n",
    "    response = requests.get(url)\n",
    "    img = Image.open(BytesIO(response.content))\n",
    "    img = Image.open(BytesIO(response.content)).convert('RGB')\n",
    "    img = np.array(img)\n",
    "    return img\n",
    "\n",
    "def get_age_gender_estimates(image_docs):\n",
    "    i = 0\n",
    "    estimates = []\n",
    "    \n",
    "    #handle case where for one image of personn we can't get estimates\n",
    "    while i < len(image_docs) and len(estimates) == 0:\n",
    "        img = get_image(image_docs[i])\n",
    "        retries = 0\n",
    "        while retries < 5 and len(estimates) == 0:\n",
    "            estimates = agender.detect_genders_ages(img)\n",
    "            retries += 1\n",
    "        i = i+1\n",
    "        \n",
    "    if estimates:\n",
    "        # use first estimate as it is most likely one\n",
    "        result = estimates[0]\n",
    "        result['number'] = len(estimates)\n",
    "        result['id'] = image_docs[i-1]\n",
    "        return result\n",
    "    \n",
    "    return {}"
   ]
  },
  {
   "cell_type": "code",
   "execution_count": 92,
   "metadata": {},
   "outputs": [],
   "source": [
    "if False:\n",
    "    age_gender_lables = personal_portrait_image.id.map(get_age_gender_estimates)  \n",
    "    age_gender_lables = pd.DataFrame(age_gender_lables.tolist())\n",
    "    age_gender_lables['name'] = personal_portrait_image.name\n",
    "    age_gender_lables.to_json('data/age_gender_labeles.json')"
   ]
  },
  {
   "cell_type": "code",
   "execution_count": 166,
   "metadata": {},
   "outputs": [],
   "source": [
    "age_gender_lables = pd.read_json('data/age_gender_labeles.json')"
   ]
  },
  {
   "cell_type": "code",
   "execution_count": 167,
   "metadata": {},
   "outputs": [],
   "source": [
    "true_gender = pd.read_pickle('data/bnf_table_full.pkl')"
   ]
  },
  {
   "cell_type": "code",
   "execution_count": 168,
   "metadata": {},
   "outputs": [
    {
     "data": {
      "text/plain": [
       "-20"
      ]
     },
     "execution_count": 168,
     "metadata": {},
     "output_type": "execute_result"
    }
   ],
   "source": [
    "len(true_gender) - len(age_gender_lables)"
   ]
  },
  {
   "cell_type": "code",
   "execution_count": 169,
   "metadata": {},
   "outputs": [],
   "source": [
    "true_gender = true_gender[['name', 'gender']]"
   ]
  },
  {
   "cell_type": "code",
   "execution_count": 170,
   "metadata": {},
   "outputs": [],
   "source": [
    "age_gender_lables = pd.merge(true_gender, age_gender_lables, on='name', suffixes=('_true', '_estimated'),how='left')"
   ]
  },
  {
   "cell_type": "code",
   "execution_count": 171,
   "metadata": {},
   "outputs": [
    {
     "data": {
      "text/plain": [
       "masculin    1507\n",
       "féminin      359\n",
       "Name: gender_true, dtype: int64"
      ]
     },
     "execution_count": 171,
     "metadata": {},
     "output_type": "execute_result"
    }
   ],
   "source": [
    "age_gender_lables.gender_true.value_counts()"
   ]
  },
  {
   "cell_type": "code",
   "execution_count": 172,
   "metadata": {},
   "outputs": [],
   "source": [
    "age_gender_lables['gender_estimates_binary'] =\\\n",
    "    age_gender_lables.loc[age_gender_lables.gender_estimated.notna(), 'gender_estimated'].map(lambda x: 'féminin' if x>.5 else 'masculin')"
   ]
  },
  {
   "cell_type": "code",
   "execution_count": 194,
   "metadata": {},
   "outputs": [
    {
     "data": {
      "text/plain": [
       "False    1752\n",
       "True      122\n",
       "Name: gender_estimates_binary, dtype: int64"
      ]
     },
     "execution_count": 194,
     "metadata": {},
     "output_type": "execute_result"
    }
   ],
   "source": [
    "age_gender_lables.gender_estimates_binary.isna().value_counts()"
   ]
  },
  {
   "cell_type": "code",
   "execution_count": 175,
   "metadata": {},
   "outputs": [
    {
     "data": {
      "text/plain": [
       "masculin    1630\n",
       "féminin      122\n",
       "Name: gender_estimates_binary, dtype: int64"
      ]
     },
     "execution_count": 175,
     "metadata": {},
     "output_type": "execute_result"
    }
   ],
   "source": [
    "age_gender_lables.gender_estimates_binary.value_counts()"
   ]
  },
  {
   "cell_type": "code",
   "execution_count": 198,
   "metadata": {},
   "outputs": [],
   "source": [
    "age_gender_lables.to_json('data/age_gender_labeles_augmented.json')"
   ]
  },
  {
   "cell_type": "markdown",
   "metadata": {},
   "source": [
    "# evaluation of method\n",
    "\n",
    "\n",
    "evaluation of algorithm itself is presented on wikipage of py-agender: https://github.com/yu4u/age-gender-estimation"
   ]
  },
  {
   "cell_type": "code",
   "execution_count": 150,
   "metadata": {},
   "outputs": [
    {
     "data": {
      "text/plain": [
       "122"
      ]
     },
     "execution_count": 150,
     "metadata": {},
     "output_type": "execute_result"
    }
   ],
   "source": [
    "len(age_gender_lables[age_gender_lables.age.isna()])"
   ]
  },
  {
   "cell_type": "markdown",
   "metadata": {},
   "source": [
    "can't get lables for 46 people"
   ]
  },
  {
   "cell_type": "code",
   "execution_count": 156,
   "metadata": {},
   "outputs": [],
   "source": [
    "unfound = age_gender_lables[age_gender_lables.age.isna()].name.tolist()"
   ]
  },
  {
   "cell_type": "code",
   "execution_count": 160,
   "metadata": {},
   "outputs": [
    {
     "data": {
      "text/plain": [
       "42      https://gallica.bnf.fr/ark:/12148/btv1b53092428m\n",
       "54      https://gallica.bnf.fr/ark:/12148/btv1b531189234\n",
       "122     https://gallica.bnf.fr/ark:/12148/btv1b53146883g\n",
       "195     https://gallica.bnf.fr/ark:/12148/btv1b531007953\n",
       "196     https://gallica.bnf.fr/ark:/12148/btv1b53100866p\n",
       "                              ...                       \n",
       "1714    https://gallica.bnf.fr/ark:/12148/btv1b53118782d\n",
       "1753    https://gallica.bnf.fr/ark:/12148/btv1b531044920\n",
       "1773    https://gallica.bnf.fr/ark:/12148/btv1b53066502x\n",
       "1806    https://gallica.bnf.fr/ark:/12148/btv1b53117422f\n",
       "1812    https://gallica.bnf.fr/ark:/12148/btv1b53120301p\n",
       "Name: id, Length: 76, dtype: object"
      ]
     },
     "execution_count": 160,
     "metadata": {},
     "output_type": "execute_result"
    }
   ],
   "source": [
    "personal_portrait_image[personal_portrait_image.name.isin(unfound)].id.map(lambda x:x[0])"
   ]
  },
  {
   "cell_type": "markdown",
   "metadata": {},
   "source": [
    "number of faces that we got:"
   ]
  },
  {
   "cell_type": "code",
   "execution_count": 161,
   "metadata": {},
   "outputs": [
    {
     "data": {
      "text/plain": [
       "1.0    1604\n",
       "2.0     136\n",
       "3.0       8\n",
       "4.0       4\n",
       "Name: number, dtype: int64"
      ]
     },
     "execution_count": 161,
     "metadata": {},
     "output_type": "execute_result"
    }
   ],
   "source": [
    "age_gender_lables.number.value_counts()"
   ]
  },
  {
   "cell_type": "code",
   "execution_count": 162,
   "metadata": {},
   "outputs": [
    {
     "data": {
      "text/plain": [
       "<matplotlib.axes._subplots.AxesSubplot at 0x65d929c18>"
      ]
     },
     "execution_count": 162,
     "metadata": {},
     "output_type": "execute_result"
    },
    {
     "data": {
      "image/png": "[encoded data removed]",
      "text/plain": [
       "<Figure size 432x288 with 1 Axes>"
      ]
     },
     "metadata": {
      "needs_background": "light"
     },
     "output_type": "display_data"
    }
   ],
   "source": [
    "age_gender_lables.age.plot(kind='hist', bins=100)"
   ]
  },
  {
   "cell_type": "markdown",
   "metadata": {},
   "source": [
    "mostly men"
   ]
  },
  {
   "cell_type": "code",
   "execution_count": 199,
   "metadata": {},
   "outputs": [],
   "source": [
    "import seaborn as sns"
   ]
  },
  {
   "cell_type": "code",
   "execution_count": 204,
   "metadata": {},
   "outputs": [
    {
     "data": {
      "text/plain": [
       "<matplotlib.axes._subplots.AxesSubplot at 0x6610519b0>"
      ]
     },
     "execution_count": 204,
     "metadata": {},
     "output_type": "execute_result"
    },
    {
     "data": {
      "image/png": "[encoded data removed]",
      "text/plain": [
       "<Figure size 432x288 with 1 Axes>"
      ]
     },
     "metadata": {
      "needs_background": "light"
     },
     "output_type": "display_data"
    }
   ],
   "source": [
    "sns.distplot(age_gender_lables[age_gender_lables.gender_true=='masculin'].gender_estimated.dropna())\n",
    "sns.distplot(age_gender_lables[age_gender_lables.gender_true!='masculin'].gender_estimated.dropna())"
   ]
  },
  {
   "cell_type": "markdown",
   "metadata": {},
   "source": [
    "Clearly, given the name something went wrong"
   ]
  },
  {
   "cell_type": "code",
   "execution_count": 179,
   "metadata": {},
   "outputs": [],
   "source": [
    "from sklearn.metrics import confusion_matrix"
   ]
  },
  {
   "cell_type": "code",
   "execution_count": 185,
   "metadata": {},
   "outputs": [
    {
     "data": {
      "text/plain": [
       "0       masculin\n",
       "1        féminin\n",
       "2        féminin\n",
       "3       masculin\n",
       "4        féminin\n",
       "          ...   \n",
       "1869    masculin\n",
       "1870    masculin\n",
       "1871    masculin\n",
       "1872    masculin\n",
       "1873    masculin\n",
       "Name: gender_true, Length: 1874, dtype: object"
      ]
     },
     "execution_count": 185,
     "metadata": {},
     "output_type": "execute_result"
    }
   ],
   "source": [
    "age_gender_lables.gender_true == "
   ]
  },
  {
   "cell_type": "code",
   "execution_count": 192,
   "metadata": {},
   "outputs": [],
   "source": [
    "CM = confusion_matrix(age_gender_lables.gender_true == 'masculin',\n",
    "                 age_gender_lables.gender_estimates_binary == 'masculin')"
   ]
  },
  {
   "cell_type": "code",
   "execution_count": 193,
   "metadata": {},
   "outputs": [
    {
     "data": {
      "text/plain": [
       "array([[ 130,  237],\n",
       "       [ 114, 1393]])"
      ]
     },
     "execution_count": 193,
     "metadata": {},
     "output_type": "execute_result"
    }
   ],
   "source": [
    "CM"
   ]
  },
  {
   "cell_type": "code",
   "execution_count": 188,
   "metadata": {},
   "outputs": [],
   "source": [
    "TN = CM[0][0]\n",
    "FN = CM[1][0]\n",
    "TP = CM[1][1]\n",
    "FP = CM[0][1]"
   ]
  },
  {
   "cell_type": "code",
   "execution_count": 196,
   "metadata": {},
   "outputs": [
    {
     "data": {
      "text/plain": [
       "114"
      ]
     },
     "execution_count": 196,
     "metadata": {},
     "output_type": "execute_result"
    }
   ],
   "source": [
    "FN"
   ]
  },
  {
   "cell_type": "code",
   "execution_count": 189,
   "metadata": {},
   "outputs": [],
   "source": [
    "\n",
    "# Sensitivity, hit rate, recall, or true positive rate\n",
    "TPR = TP/(TP+FN)\n",
    "# Specificity or true negative rate\n",
    "TNR = TN/(TN+FP) \n",
    "# Precision or positive predictive value\n",
    "PPV = TP/(TP+FP)\n",
    "# Negative predictive value\n",
    "NPV = TN/(TN+FN)\n",
    "# Fall out or false positive rate\n",
    "FPR = FP/(FP+TN)\n",
    "# False negative rate\n",
    "FNR = FN/(TP+FN)\n",
    "# False discovery rate\n",
    "FDR = FP/(TP+FP)\n",
    "\n",
    "# Overall accuracy\n",
    "ACC = (TP+TN)/(TP+FP+FN+TN)"
   ]
  },
  {
   "cell_type": "code",
   "execution_count": 190,
   "metadata": {},
   "outputs": [
    {
     "data": {
      "text/plain": [
       "0.812700106723586"
      ]
     },
     "execution_count": 190,
     "metadata": {},
     "output_type": "execute_result"
    }
   ],
   "source": [
    "ACC"
   ]
  },
  {
   "cell_type": "code",
   "execution_count": null,
   "metadata": {},
   "outputs": [],
   "source": []
  },
  {
   "cell_type": "markdown",
   "metadata": {},
   "source": [
    "## Example of multiple matches or mismatches"
   ]
  },
  {
   "cell_type": "code",
   "execution_count": null,
   "metadata": {},
   "outputs": [],
   "source": [
    "age_gender_estimates[1564]"
   ]
  },
  {
   "cell_type": "code",
   "execution_count": null,
   "metadata": {},
   "outputs": [],
   "source": [
    "import matplotlib.pyplot as plt"
   ]
  },
  {
   "cell_type": "code",
   "execution_count": null,
   "metadata": {},
   "outputs": [],
   "source": [
    "df_evaluate"
   ]
  },
  {
   "cell_type": "code",
   "execution_count": null,
   "metadata": {},
   "outputs": [],
   "source": [
    "font = {'family': 'serif',\n",
    "        'color':  'yellow',\n",
    "        'weight': 'normal',\n",
    "        'size': 16,\n",
    "        }\n",
    "img = get_image(df_evaluate.id[1296])\n",
    "\n",
    "for detect in [age_gender_lables[1296]]:\n",
    "    gender =  'Woman' if detect['gender'] > .5 else 'Man'\n",
    "    plt.figure(figsize=(10, 10))\n",
    "    plt.text(detect['left'], detect['top']-10, str(detect['age'])[:2] + ' ' + gender, fontdict=font)\n",
    "    plt.imshow(cv2.rectangle(img, (detect['left'], detect['top']), (detect['right'], detect['bottom']), (255, 255, 0), 3))"
   ]
  },
  {
   "cell_type": "code",
   "execution_count": null,
   "metadata": {},
   "outputs": [],
   "source": []
  }
 ],
 "metadata": {
  "kernelspec": {
   "display_name": "Python 3",
   "language": "python",
   "name": "python3"
  },
  "language_info": {
   "codemirror_mode": {
    "name": "ipython",
    "version": 3
   },
   "file_extension": ".py",
   "mimetype": "text/x-python",
   "name": "python",
   "nbconvert_exporter": "python",
   "pygments_lexer": "ipython3",
   "version": "3.7.0"
  }
 },
 "nbformat": 4,
 "nbformat_minor": 2
}
