{
 "cells": [
  {
   "cell_type": "code",
   "execution_count": 1,
   "metadata": {},
   "outputs": [
    {
     "name": "stderr",
     "output_type": "stream",
     "text": [
      "/Users/lia/miniconda3/lib/python3.6/site-packages/tqdm/autonotebook.py:17: TqdmExperimentalWarning: Using `tqdm.autonotebook.tqdm` in notebook mode. Use `tqdm.tqdm` instead to force console mode (e.g. in jupyter console)\n",
      "  \" (e.g. in jupyter console)\", TqdmExperimentalWarning)\n"
     ]
    }
   ],
   "source": [
    "import wikipedia\n",
    "import fdh_gallica\n",
    "\n",
    "wikipedia.set_lang('en')\n",
    "\n",
    "from fdh_gallica import Search"
   ]
  },
  {
   "cell_type": "code",
   "execution_count": 4,
   "metadata": {},
   "outputs": [
    {
     "data": {
      "application/vnd.jupyter.widget-view+json": {
       "model_id": "2fa65984cd4e4025a9f61d5d77cb3afc",
       "version_major": 2,
       "version_minor": 0
      },
      "text/html": [
       "<p>Failed to display Jupyter Widget of type <code>HBox</code>.</p>\n",
       "<p>\n",
       "  If you're reading this message in the Jupyter Notebook or JupyterLab Notebook, it may mean\n",
       "  that the widgets JavaScript is still loading. If this message persists, it\n",
       "  likely means that the widgets JavaScript library is either not installed or\n",
       "  not enabled. See the <a href=\"https://ipywidgets.readthedocs.io/en/stable/user_install.html\">Jupyter\n",
       "  Widgets Documentation</a> for setup instructions.\n",
       "</p>\n",
       "<p>\n",
       "  If you're reading this message in another frontend (for example, a static\n",
       "  rendering on GitHub or <a href=\"https://nbviewer.jupyter.org/\">NBViewer</a>),\n",
       "  it may mean that your frontend doesn't currently support widgets.\n",
       "</p>\n"
      ],
      "text/plain": [
       "HBox(children=(IntProgress(value=0, max=1570), HTML(value='')))"
      ]
     },
     "metadata": {},
     "output_type": "display_data"
    },
    {
     "name": "stdout",
     "output_type": "stream",
     "text": [
      "\n"
     ]
    },
    {
     "data": {
      "text/plain": [
       "23550"
      ]
     },
     "execution_count": 4,
     "metadata": {},
     "output_type": "execute_result"
    }
   ],
   "source": [
    "search = Search(all_fields=\"atelier nadar\", dc_type=\"image\", dc_creator='atelier nadar')\n",
    "search.execute()\n",
    "search.total_records"
   ]
  },
  {
   "cell_type": "code",
   "execution_count": 6,
   "metadata": {},
   "outputs": [
    {
     "data": {
      "text/plain": [
       "23415"
      ]
     },
     "execution_count": 6,
     "metadata": {},
     "output_type": "execute_result"
    }
   ],
   "source": [
    "len(search.records)"
   ]
  },
  {
   "cell_type": "code",
   "execution_count": 15,
   "metadata": {},
   "outputs": [
    {
     "data": {
      "text/plain": [
       "OrderedDict([('dc:creator', 'Atelier Nadar. Photographe'),\n",
       "             ('dc:date', '1875-1895'),\n",
       "             ('dc:format',\n",
       "              [\"1 photogr. pos. sur papier albuminé : d'après nég. sur verre ; 14,5 x 10,5 cm\",\n",
       "               'image/jpeg',\n",
       "               'Nombre total de vues : 1']),\n",
       "             ('dc:identifier',\n",
       "              ['https://gallica.bnf.fr/ark:/12148/btv1b531634912',\n",
       "               'Numéro commercial : Atelier Nadar 8039 B']),\n",
       "             ('dc:language', ['fre', 'français']),\n",
       "             ('dc:relation',\n",
       "              [\"Extrait de : [Album de référence de l'Atelier Nadar. Vol. 36]\",\n",
       "               'Notice du catalogue : http://catalogue.bnf.fr/ark:/12148/cb454086620']),\n",
       "             ('dc:rights', ['domaine public', 'public domain']),\n",
       "             ('dc:source',\n",
       "              'Bibliothèque nationale de France, département Estampes et photographie, FT 4-NA-238 (22)'),\n",
       "             ('dc:subject', 'Portraits du théâtre -- 19e siècle'),\n",
       "             ('dc:title',\n",
       "              'Supra. Opéra : [photographie, tirage de démonstration] / [Atelier Nadar]'),\n",
       "             ('dc:type',\n",
       "              ['image fixe',\n",
       "               'image',\n",
       "               'still image',\n",
       "               'photographie',\n",
       "               'photograph'])])"
      ]
     },
     "execution_count": 15,
     "metadata": {},
     "output_type": "execute_result"
    }
   ],
   "source": [
    "search.records[1]"
   ]
  },
  {
   "cell_type": "code",
   "execution_count": 14,
   "metadata": {},
   "outputs": [
    {
     "data": {
      "text/plain": [
       "['Stars and planetary systems in fiction']"
      ]
     },
     "execution_count": 14,
     "metadata": {},
     "output_type": "execute_result"
    }
   ],
   "source": [
    "wikipedia.search('Holda Eldorado')"
   ]
  },
  {
   "cell_type": "code",
   "execution_count": 16,
   "metadata": {},
   "outputs": [
    {
     "data": {
      "text/plain": [
       "['World language',\n",
       " 'Joseph Hémard',\n",
       " 'Vincenzo Manfredini',\n",
       " 'Daniel Spoerri',\n",
       " 'Todd Lasance',\n",
       " 'Ithu Namma Veedu',\n",
       " 'List of Latin words with English derivatives',\n",
       " 'Credo quia absurdum',\n",
       " 'Cécile Chaminade',\n",
       " 'Paul Walker']"
      ]
     },
     "execution_count": 16,
     "metadata": {},
     "output_type": "execute_result"
    }
   ],
   "source": [
    "wikipedia.search('Supra. Opéra')"
   ]
  },
  {
   "cell_type": "code",
   "execution_count": 2,
   "metadata": {},
   "outputs": [
    {
     "data": {
      "text/plain": [
       "['Barak',\n",
       " 'Ehud Barak',\n",
       " 'Barak 8',\n",
       " 'Barak 1',\n",
       " 'Barack Obama',\n",
       " 'Barak River',\n",
       " 'Barak Valley',\n",
       " 'Barak (surname)',\n",
       " 'Barak (given name)',\n",
       " 'Aharon Barak']"
      ]
     },
     "execution_count": 2,
     "metadata": {},
     "output_type": "execute_result"
    }
   ],
   "source": [
    "wikipedia.search('Barak')"
   ]
  },
  {
   "cell_type": "code",
   "execution_count": 6,
   "metadata": {},
   "outputs": [],
   "source": [
    "ny = wikipedia.page(\"New York City\")"
   ]
  },
  {
   "cell_type": "code",
   "execution_count": 9,
   "metadata": {},
   "outputs": [
    {
     "data": {
      "text/plain": [
       "'The City of New York, usually called either New York City (NYC) or simply New York (NY), is the most'"
      ]
     },
     "execution_count": 9,
     "metadata": {},
     "output_type": "execute_result"
    }
   ],
   "source": [
    "ny.content[0:100]"
   ]
  },
  {
   "cell_type": "code",
   "execution_count": 12,
   "metadata": {},
   "outputs": [
    {
     "data": {
      "text/plain": [
       "'Google LLC is an American multinational technology company that specializes in Internet-related services and products, which include online advertising technologies, search engine, cloud computing, software, and hardware. It is considered one of the Big Four technology companies, alongside Amazon, Apple, and Facebook.Google was founded in September 1998 by Larry Page and Sergey Brin while they were Ph.D. students at Stanford University in California.'"
      ]
     },
     "execution_count": 12,
     "metadata": {},
     "output_type": "execute_result"
    }
   ],
   "source": [
    "wikipedia.summary('Google', sentences=2)"
   ]
  },
  {
   "cell_type": "code",
   "execution_count": null,
   "metadata": {},
   "outputs": [],
   "source": []
  }
 ],
 "metadata": {
  "kernelspec": {
   "display_name": "Humans of Paris",
   "language": "python",
   "name": "humans-of-paris"
  },
  "language_info": {
   "codemirror_mode": {
    "name": "ipython",
    "version": 3
   },
   "file_extension": ".py",
   "mimetype": "text/x-python",
   "name": "python",
   "nbconvert_exporter": "python",
   "pygments_lexer": "ipython3",
   "version": "3.6.7"
  }
 },
 "nbformat": 4,
 "nbformat_minor": 2
}
