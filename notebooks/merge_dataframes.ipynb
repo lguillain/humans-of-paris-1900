{
 "cells": [
  {
   "cell_type": "code",
   "execution_count": 1,
   "metadata": {},
   "outputs": [],
   "source": [
    "import json\n",
    "import pandas as pd"
   ]
  },
  {
   "cell_type": "code",
   "execution_count": 2,
   "metadata": {},
   "outputs": [],
   "source": [
    "wiki_en = pd.read_pickle('data/wiki_en_summaries.pkl')\n",
    "wiki_fr = pd.read_pickle('data/wiki_fr_summaries.pkl')\n",
    "bnf_summaries = pd.read_pickle('data/bnf_summaries.pkl')\n",
    "\n",
    "named_subjects = pd.read_pickle('data/named_subjects.pkl')\n",
    "age_gender = pd.read_json('age_gender_labeles.json',orient='records')"
   ]
  },
  {
   "cell_type": "code",
   "execution_count": 3,
   "metadata": {},
   "outputs": [],
   "source": [
    "named_subjects = named_subjects[['id','title','names']].explode('names')\n",
    "named_subjects = named_subjects.set_index('id')\n",
    "named_subjects = named_subjects.rename(columns = {'names':'name'})"
   ]
  },
  {
   "cell_type": "code",
   "execution_count": null,
   "metadata": {},
   "outputs": [],
   "source": []
  },
  {
   "cell_type": "code",
   "execution_count": 4,
   "metadata": {},
   "outputs": [],
   "source": [
    "N_SENTENCES=3\n",
    "def get_sentences(x):\n",
    "    n = N_SENTENCES + 1\n",
    "    sentences = x.split('. ')\n",
    "    try:\n",
    "        return '. '.join(sentences[:n])\n",
    "    except:\n",
    "        return '. '.join(sentences)\n",
    "def count_sentenes(x):\n",
    "    return len(x.split('. '))"
   ]
  },
  {
   "cell_type": "code",
   "execution_count": null,
   "metadata": {},
   "outputs": [],
   "source": []
  },
  {
   "cell_type": "code",
   "execution_count": null,
   "metadata": {},
   "outputs": [],
   "source": [
    "data_final = named_subjects.merge(age_gender[['age','gender','id']], on='id')\n",
    "\n",
    "\n"
   ]
  },
  {
   "cell_type": "code",
   "execution_count": 5,
   "metadata": {},
   "outputs": [],
   "source": [
    "wiki_en['wiki_en_text'] = wiki_en.summary.apply(get_sentences)\n",
    "wiki_fr['wiki_fr_text'] = wiki_fr.summary_fr.apply(get_sentences)\n",
    "\n",
    "wiki_en = wiki_en[['name','wiki_en_text','url','rank_en']]\n",
    "wiki_fr = wiki_fr[['name','wiki_fr_text','url_fr','rank_fr']]\n",
    "bnf_summaries = bnf_summaries[['raw_name','bnf_note','bnf_link']]\n",
    "\n",
    "bnf_summaries = bnf_summaries.rename(columns={'raw_name':'name'})\n",
    "wiki_en = wiki_en.rename(columns={'url':'wiki_en_link'})\n",
    "wiki_fr = wiki_fr.rename(columns={'url':'wiki_fr_link'})"
   ]
  },
  {
   "cell_type": "code",
   "execution_count": null,
   "metadata": {},
   "outputs": [],
   "source": []
  },
  {
   "cell_type": "code",
   "execution_count": 10,
   "metadata": {},
   "outputs": [],
   "source": [
    "named_age_gender = named_subjects.merge(age_gender[['age','gender','id']], on='id')"
   ]
  },
  {
   "cell_type": "code",
   "execution_count": 11,
   "metadata": {},
   "outputs": [],
   "source": [
    "data_final = pd.merge(bnf_summaries,wiki_en,how='outer')\n",
    "data_final = pd.merge(data_final,wiki_fr,how='outer')\n",
    "\n",
    "\n",
    "data_final = pd.merge(data_final, named_age_gender, how='outer')"
   ]
  },
  {
   "cell_type": "code",
   "execution_count": null,
   "metadata": {},
   "outputs": [],
   "source": []
  },
  {
   "cell_type": "code",
   "execution_count": 13,
   "metadata": {},
   "outputs": [],
   "source": [
    "data_final.to_pickle('merged_dataframe.pkl')"
   ]
  },
  {
   "cell_type": "code",
   "execution_count": null,
   "metadata": {},
   "outputs": [],
   "source": []
  }
 ],
 "metadata": {
  "kernelspec": {
   "display_name": "Python 3",
   "language": "python",
   "name": "python3"
  },
  "language_info": {
   "codemirror_mode": {
    "name": "ipython",
    "version": 3
   },
   "file_extension": ".py",
   "mimetype": "text/x-python",
   "name": "python",
   "nbconvert_exporter": "python",
   "pygments_lexer": "ipython3",
   "version": "3.7.3"
  }
 },
 "nbformat": 4,
 "nbformat_minor": 4
}
