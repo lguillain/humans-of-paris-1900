{
 "cells": [
  {
   "cell_type": "code",
   "execution_count": 98,
   "metadata": {},
   "outputs": [],
   "source": [
    "import json\n",
    "import pandas as pd"
   ]
  },
  {
   "cell_type": "code",
   "execution_count": 99,
   "metadata": {},
   "outputs": [],
   "source": [
    "# function to get shortened wiki articles\n",
    "\n",
    "N_SENTENCES=3\n",
    "def get_sentences(x):\n",
    "    n = N_SENTENCES + 1\n",
    "    sentences = x.split('. ')\n",
    "    try:\n",
    "        return '. '.join(sentences[:n])\n",
    "    except:\n",
    "        return '. '.join(sentences)\n",
    "def count_sentences(x):\n",
    "    try:\n",
    "        return len(x.split('. '))\n",
    "    except:\n",
    "        return -1"
   ]
  },
  {
   "cell_type": "code",
   "execution_count": 100,
   "metadata": {},
   "outputs": [],
   "source": [
    "# read pickles\n",
    "\n",
    "wiki_en = pd.read_pickle('data/wiki_en_summaries.pkl')\n",
    "wiki_fr = pd.read_pickle('data/wiki_fr_summaries.pkl')\n",
    "bnf_table = pd.read_pickle('data/bnf_table_summaries.pkl')\n",
    "bnf_tags = pd.read_pickle('data/bnf_tags.pkl')\n",
    "\n",
    "named_subjects = pd.read_pickle('data/named_subjects.pkl')\n",
    "\n",
    "# this line will change \n",
    "age_gender = pd.read_json('data/age_gender_labeles.json',orient='records')"
   ]
  },
  {
   "cell_type": "code",
   "execution_count": 101,
   "metadata": {},
   "outputs": [],
   "source": [
    "# get name-id df (exploded)\n",
    "\n",
    "named_subjects = named_subjects[['id','title','names']].explode('names')\n",
    "named_subjects = named_subjects.set_index('id')\n",
    "named_subjects = named_subjects.rename(columns = {'names':'name'})\n",
    "\n",
    "# get name-id df (nested in list)\n",
    "\n",
    "id_img = named_subjects.drop('title', axis=1)\n",
    "id_img = id_img.reset_index()\n",
    "id_img = pd.DataFrame(id_img.groupby('name')['id'].apply(list))\n",
    "id_img = id_img.rename(columns={'id':'id_list'})"
   ]
  },
  {
   "cell_type": "code",
   "execution_count": 102,
   "metadata": {},
   "outputs": [],
   "source": [
    "# organize dataframes, shorten texts, rename columns\n",
    "\n",
    "wiki_en['wiki_en_text'] = wiki_en.summary.apply(get_sentences)\n",
    "wiki_fr['wiki_fr_text'] = wiki_fr.summary_fr.apply(get_sentences)\n",
    "\n",
    "wiki_en = wiki_en[['name','wiki_en_text','url','weight']]\n",
    "wiki_fr = wiki_fr[['name','wiki_fr_text','url_fr','weight_fr']]\n",
    "bnf_summaries = bnf_table[['name','bnf_link','gender','note']]\n",
    "\n",
    "\n",
    "wiki_en = wiki_en.rename(columns={'url':'wiki_en_link', 'weight':'weight_en'})\n",
    "wiki_fr = wiki_fr.rename(columns={'url':'wiki_fr_link'})"
   ]
  },
  {
   "cell_type": "code",
   "execution_count": 103,
   "metadata": {},
   "outputs": [],
   "source": [
    "# link name and id defined in age_gender df\n",
    "\n",
    "named_age_gender = named_subjects.merge(age_gender[['age','gender','id']], on='id').\\\n",
    "rename(columns={'age':'age_estimate', 'gender':'gender_estimate'})\n",
    "\n",
    "\n",
    "# if age_gender file is re-writtened, \n",
    "#id_name = pd.read_pickle('data/id_name.pkl').rename(columns={'id':'id_list'})\n",
    "#named_age_gender = id_name.merge(age_gender[['age','gender','id']], on='name').rename(columns={'age':'age_estimate', 'gender':'gender_estimate'})\n"
   ]
  },
  {
   "cell_type": "code",
   "execution_count": 104,
   "metadata": {},
   "outputs": [],
   "source": [
    "# merge everything\n",
    "\n",
    "data_final = pd.merge(bnf_summaries,wiki_en,how='outer')\n",
    "data_final = pd.merge(data_final,wiki_fr,how='outer')\n",
    "data_final = pd.merge(data_final, named_age_gender, how='outer')\n",
    "data_final = data_final.merge(id_img, on='name',how='outer')\n",
    "data_final = data_final.merge(bnf_tags, on='name',how='outer')\n"
   ]
  },
  {
   "cell_type": "code",
   "execution_count": null,
   "metadata": {},
   "outputs": [],
   "source": []
  },
  {
   "cell_type": "code",
   "execution_count": 105,
   "metadata": {},
   "outputs": [],
   "source": [
    "# redefine rank <<<<<< THIS WILL CHANGE \n",
    "\n",
    "\n",
    "data_final.weight_en.fillna(-1, inplace=True)\n",
    "data_final.weight_fr.fillna(-1, inplace=True)\n",
    "\n",
    "data_final['weight'] = data_final[['weight_en','weight_fr']].mean(axis=1)"
   ]
  },
  {
   "cell_type": "code",
   "execution_count": null,
   "metadata": {},
   "outputs": [],
   "source": []
  },
  {
   "cell_type": "code",
   "execution_count": 106,
   "metadata": {},
   "outputs": [],
   "source": [
    "data_final = data_final.sort_values(by='weight', ascending=False)"
   ]
  },
  {
   "cell_type": "code",
   "execution_count": 107,
   "metadata": {},
   "outputs": [],
   "source": [
    "data_final = data_final[['id','name','gender','id_list', 'weight','note', 'bnf_link', 'wiki_en_text', 'wiki_en_link',\n",
    "        'wiki_fr_text', 'url_fr', 'age_estimate','gender_estimate','tags']]"
   ]
  },
  {
   "cell_type": "code",
   "execution_count": 108,
   "metadata": {},
   "outputs": [],
   "source": [
    "data_final = data_final.drop(data_final.loc[data_final.id.isna() & data_final.id_list.isna()].index)"
   ]
  },
  {
   "cell_type": "code",
   "execution_count": 109,
   "metadata": {},
   "outputs": [],
   "source": [
    "data_final.loc[data_final.id.isna(), 'id'] = data_final.loc[data_final.id.isna(), 'id_list'].map(lambda x: x[0])"
   ]
  },
  {
   "cell_type": "code",
   "execution_count": 110,
   "metadata": {},
   "outputs": [],
   "source": [
    "import re"
   ]
  },
  {
   "cell_type": "code",
   "execution_count": 111,
   "metadata": {},
   "outputs": [],
   "source": [
    "indexes = data_final.name.map(lambda x: re.search('(-17[\\d]{2}|-18[1234]{1}[\\d]{1})', x)).dropna().index"
   ]
  },
  {
   "cell_type": "code",
   "execution_count": 112,
   "metadata": {},
   "outputs": [
    {
     "data": {
      "text/plain": [
       "1573    <re.Match object; span=(32, 37), match='-1794'>\n",
       "1362    <re.Match object; span=(23, 28), match='-1833'>\n",
       "1870    <re.Match object; span=(33, 38), match='-1810'>\n",
       "1685    <re.Match object; span=(14, 19), match='-1842'>\n",
       "1876    <re.Match object; span=(13, 18), match='-1842'>\n",
       "1337    <re.Match object; span=(18, 23), match='-1821'>\n",
       "973     <re.Match object; span=(25, 30), match='-1813'>\n",
       "958     <re.Match object; span=(15, 20), match='-1814'>\n",
       "Name: name, dtype: object"
      ]
     },
     "execution_count": 112,
     "metadata": {},
     "output_type": "execute_result"
    }
   ],
   "source": [
    "data_final.name.map(lambda x: re.search('(-17[\\d]{2}|-18[1234]{1}[\\d]{1})', x)).dropna()"
   ]
  },
  {
   "cell_type": "code",
   "execution_count": 113,
   "metadata": {},
   "outputs": [
    {
     "data": {
      "text/plain": [
       "Int64Index([1573, 1362, 1870, 1685, 1876, 1337, 973, 958], dtype='int64')"
      ]
     },
     "execution_count": 113,
     "metadata": {},
     "output_type": "execute_result"
    }
   ],
   "source": [
    "indexes"
   ]
  },
  {
   "cell_type": "code",
   "execution_count": 114,
   "metadata": {},
   "outputs": [
    {
     "data": {
      "text/html": [
       "<div>\n",
       "<style scoped>\n",
       "    .dataframe tbody tr th:only-of-type {\n",
       "        vertical-align: middle;\n",
       "    }\n",
       "\n",
       "    .dataframe tbody tr th {\n",
       "        vertical-align: top;\n",
       "    }\n",
       "\n",
       "    .dataframe thead th {\n",
       "        text-align: right;\n",
       "    }\n",
       "</style>\n",
       "<table border=\"1\" class=\"dataframe\">\n",
       "  <thead>\n",
       "    <tr style=\"text-align: right;\">\n",
       "      <th></th>\n",
       "      <th>id</th>\n",
       "      <th>name</th>\n",
       "      <th>gender</th>\n",
       "      <th>id_list</th>\n",
       "      <th>weight</th>\n",
       "      <th>note</th>\n",
       "      <th>bnf_link</th>\n",
       "      <th>wiki_en_text</th>\n",
       "      <th>wiki_en_link</th>\n",
       "      <th>wiki_fr_text</th>\n",
       "      <th>url_fr</th>\n",
       "      <th>age_estimate</th>\n",
       "      <th>gender_estimate</th>\n",
       "      <th>tags</th>\n",
       "    </tr>\n",
       "  </thead>\n",
       "  <tbody>\n",
       "    <tr>\n",
       "      <th>1573</th>\n",
       "      <td>https://gallica.bnf.fr/ark:/12148/btv1b53187673w</td>\n",
       "      <td>Robespierre, Maximilien de (1758-1794)</td>\n",
       "      <td>masculin</td>\n",
       "      <td>[https://gallica.bnf.fr/ark:/12148/btv1b531876...</td>\n",
       "      <td>69.0</td>\n",
       "      <td>Avocat. - Homme politique. - Révolutionnaire</td>\n",
       "      <td>http://data.bnf.fr/ark:/12148/cb11922216p#about</td>\n",
       "      <td>Maximilien François Marie Isidore de Robespier...</td>\n",
       "      <td>https://en.wikipedia.org/wiki/Maximilien_Robes...</td>\n",
       "      <td>Maximilien de Robespierre, ou Maximilien Robes...</td>\n",
       "      <td>https://fr.wikipedia.org/wiki/Maximilien_de_Ro...</td>\n",
       "      <td>38.010203</td>\n",
       "      <td>0.479522</td>\n",
       "      <td>[avocat, hommepolitique, France]</td>\n",
       "    </tr>\n",
       "    <tr>\n",
       "      <th>1362</th>\n",
       "      <td>https://gallica.bnf.fr/ark:/12148/btv1b53118972r</td>\n",
       "      <td>Niépce, Nicéphore (1765-1833)</td>\n",
       "      <td>masculin</td>\n",
       "      <td>[https://gallica.bnf.fr/ark:/12148/btv1b531189...</td>\n",
       "      <td>14.0</td>\n",
       "      <td>Inventeur de la photographie</td>\n",
       "      <td>http://data.bnf.fr/ark:/12148/cb12068198f#about</td>\n",
       "      <td>Joseph Nicéphore Niépce (French: [nisefɔʁ njɛp...</td>\n",
       "      <td>https://en.wikipedia.org/wiki/Nic%C3%A9phore_N...</td>\n",
       "      <td>Joseph « Nicéphore » Niépce, né le 7 mars 1765...</td>\n",
       "      <td>https://fr.wikipedia.org/wiki/Nic%C3%A9phore_N...</td>\n",
       "      <td>43.498299</td>\n",
       "      <td>0.501600</td>\n",
       "      <td>[inventeur, France]</td>\n",
       "    </tr>\n",
       "    <tr>\n",
       "      <th>1870</th>\n",
       "      <td>https://gallica.bnf.fr/ark:/12148/btv1b530664193</td>\n",
       "      <td>Éon, Charles de Beaumont d' (1728-1810)</td>\n",
       "      <td>masculin</td>\n",
       "      <td>[https://gallica.bnf.fr/ark:/12148/btv1b530664...</td>\n",
       "      <td>6.5</td>\n",
       "      <td>Diplomate, célèbre par le mystère qu'il laissa...</td>\n",
       "      <td>http://data.bnf.fr/ark:/12148/cb119865877#about</td>\n",
       "      <td>NaN</td>\n",
       "      <td>NaN</td>\n",
       "      <td>Charles d'Éon de Beaumont, dit le chevalier d'...</td>\n",
       "      <td>https://fr.wikipedia.org/wiki/Charles_d%27%C3%...</td>\n",
       "      <td>26.078685</td>\n",
       "      <td>0.358721</td>\n",
       "      <td>[diplomate, France]</td>\n",
       "    </tr>\n",
       "    <tr>\n",
       "      <th>1685</th>\n",
       "      <td>https://gallica.bnf.fr/ark:/12148/btv1b530506058</td>\n",
       "      <td>Stendhal (1783-1842)</td>\n",
       "      <td>masculin</td>\n",
       "      <td>[https://gallica.bnf.fr/ark:/12148/btv1b530506...</td>\n",
       "      <td>4.5</td>\n",
       "      <td>Écrivain. - Certains ouvrages sont signés \"Hen...</td>\n",
       "      <td>http://data.bnf.fr/ark:/12148/cb119255047#about</td>\n",
       "      <td>Marie-Henri Beyle (French: [bɛl]; 23 January 1...</td>\n",
       "      <td>https://en.wikipedia.org/wiki/Stendhal</td>\n",
       "      <td>NaN</td>\n",
       "      <td>NaN</td>\n",
       "      <td>48.573742</td>\n",
       "      <td>0.082885</td>\n",
       "      <td>[écrivain, France]</td>\n",
       "    </tr>\n",
       "    <tr>\n",
       "      <th>1876</th>\n",
       "      <td>https://gallica.bnf.fr/ark:/12148/btv1b531542687</td>\n",
       "      <td>Raymond (18..-1842)</td>\n",
       "      <td>NaN</td>\n",
       "      <td>[https://gallica.bnf.fr/ark:/12148/btv1b531542...</td>\n",
       "      <td>2.5</td>\n",
       "      <td>NaN</td>\n",
       "      <td>NaN</td>\n",
       "      <td>St. Raymond's Church is a parish church under ...</td>\n",
       "      <td>https://en.wikipedia.org/wiki/St._Raymond%27s_...</td>\n",
       "      <td>NaN</td>\n",
       "      <td>NaN</td>\n",
       "      <td>43.035933</td>\n",
       "      <td>0.047171</td>\n",
       "      <td>NaN</td>\n",
       "    </tr>\n",
       "    <tr>\n",
       "      <th>1337</th>\n",
       "      <td>https://gallica.bnf.fr/ark:/12148/btv1b531574340</td>\n",
       "      <td>Napoléon Ier (1769-1821 ; empereur des Français)</td>\n",
       "      <td>masculin</td>\n",
       "      <td>[https://gallica.bnf.fr/ark:/12148/btv1b531072...</td>\n",
       "      <td>-1.0</td>\n",
       "      <td>Empereur des Français (1804-1814 et 1815)</td>\n",
       "      <td>http://data.bnf.fr/ark:/12148/cb12008245w#about</td>\n",
       "      <td>NaN</td>\n",
       "      <td>NaN</td>\n",
       "      <td>NaN</td>\n",
       "      <td>NaN</td>\n",
       "      <td>38.712262</td>\n",
       "      <td>0.163517</td>\n",
       "      <td>[France]</td>\n",
       "    </tr>\n",
       "    <tr>\n",
       "      <th>973</th>\n",
       "      <td>https://gallica.bnf.fr/ark:/12148/btv1b53071606p</td>\n",
       "      <td>Junot, Jean Andoche (1771-1813 ; duc d'Abrantès)</td>\n",
       "      <td>masculin</td>\n",
       "      <td>[https://gallica.bnf.fr/ark:/12148/btv1b530716...</td>\n",
       "      <td>-1.0</td>\n",
       "      <td>Général</td>\n",
       "      <td>http://data.bnf.fr/ark:/12148/cb120014134#about</td>\n",
       "      <td>NaN</td>\n",
       "      <td>NaN</td>\n",
       "      <td>NaN</td>\n",
       "      <td>NaN</td>\n",
       "      <td>27.294958</td>\n",
       "      <td>0.167698</td>\n",
       "      <td>[général, France]</td>\n",
       "    </tr>\n",
       "    <tr>\n",
       "      <th>958</th>\n",
       "      <td>https://gallica.bnf.fr/ark:/12148/btv1b53098086r</td>\n",
       "      <td>Joséphine (1763-1814 ; impératrice des Français)</td>\n",
       "      <td>féminin</td>\n",
       "      <td>[https://gallica.bnf.fr/ark:/12148/btv1b530980...</td>\n",
       "      <td>-1.0</td>\n",
       "      <td>Chanteuse de dance music</td>\n",
       "      <td>http://data.bnf.fr/ark:/12148/cb14562750s#about</td>\n",
       "      <td>NaN</td>\n",
       "      <td>NaN</td>\n",
       "      <td>NaN</td>\n",
       "      <td>NaN</td>\n",
       "      <td>28.043095</td>\n",
       "      <td>0.525836</td>\n",
       "      <td>[chanteuse]</td>\n",
       "    </tr>\n",
       "  </tbody>\n",
       "</table>\n",
       "</div>"
      ],
      "text/plain": [
       "                                                    id  \\\n",
       "1573  https://gallica.bnf.fr/ark:/12148/btv1b53187673w   \n",
       "1362  https://gallica.bnf.fr/ark:/12148/btv1b53118972r   \n",
       "1870  https://gallica.bnf.fr/ark:/12148/btv1b530664193   \n",
       "1685  https://gallica.bnf.fr/ark:/12148/btv1b530506058   \n",
       "1876  https://gallica.bnf.fr/ark:/12148/btv1b531542687   \n",
       "1337  https://gallica.bnf.fr/ark:/12148/btv1b531574340   \n",
       "973   https://gallica.bnf.fr/ark:/12148/btv1b53071606p   \n",
       "958   https://gallica.bnf.fr/ark:/12148/btv1b53098086r   \n",
       "\n",
       "                                                  name    gender  \\\n",
       "1573            Robespierre, Maximilien de (1758-1794)  masculin   \n",
       "1362                     Niépce, Nicéphore (1765-1833)  masculin   \n",
       "1870           Éon, Charles de Beaumont d' (1728-1810)  masculin   \n",
       "1685                              Stendhal (1783-1842)  masculin   \n",
       "1876                               Raymond (18..-1842)       NaN   \n",
       "1337  Napoléon Ier (1769-1821 ; empereur des Français)  masculin   \n",
       "973   Junot, Jean Andoche (1771-1813 ; duc d'Abrantès)  masculin   \n",
       "958   Joséphine (1763-1814 ; impératrice des Français)   féminin   \n",
       "\n",
       "                                                id_list  weight  \\\n",
       "1573  [https://gallica.bnf.fr/ark:/12148/btv1b531876...    69.0   \n",
       "1362  [https://gallica.bnf.fr/ark:/12148/btv1b531189...    14.0   \n",
       "1870  [https://gallica.bnf.fr/ark:/12148/btv1b530664...     6.5   \n",
       "1685  [https://gallica.bnf.fr/ark:/12148/btv1b530506...     4.5   \n",
       "1876  [https://gallica.bnf.fr/ark:/12148/btv1b531542...     2.5   \n",
       "1337  [https://gallica.bnf.fr/ark:/12148/btv1b531072...    -1.0   \n",
       "973   [https://gallica.bnf.fr/ark:/12148/btv1b530716...    -1.0   \n",
       "958   [https://gallica.bnf.fr/ark:/12148/btv1b530980...    -1.0   \n",
       "\n",
       "                                                   note  \\\n",
       "1573       Avocat. - Homme politique. - Révolutionnaire   \n",
       "1362                       Inventeur de la photographie   \n",
       "1870  Diplomate, célèbre par le mystère qu'il laissa...   \n",
       "1685  Écrivain. - Certains ouvrages sont signés \"Hen...   \n",
       "1876                                                NaN   \n",
       "1337          Empereur des Français (1804-1814 et 1815)   \n",
       "973                                             Général   \n",
       "958                            Chanteuse de dance music   \n",
       "\n",
       "                                             bnf_link  \\\n",
       "1573  http://data.bnf.fr/ark:/12148/cb11922216p#about   \n",
       "1362  http://data.bnf.fr/ark:/12148/cb12068198f#about   \n",
       "1870  http://data.bnf.fr/ark:/12148/cb119865877#about   \n",
       "1685  http://data.bnf.fr/ark:/12148/cb119255047#about   \n",
       "1876                                              NaN   \n",
       "1337  http://data.bnf.fr/ark:/12148/cb12008245w#about   \n",
       "973   http://data.bnf.fr/ark:/12148/cb120014134#about   \n",
       "958   http://data.bnf.fr/ark:/12148/cb14562750s#about   \n",
       "\n",
       "                                           wiki_en_text  \\\n",
       "1573  Maximilien François Marie Isidore de Robespier...   \n",
       "1362  Joseph Nicéphore Niépce (French: [nisefɔʁ njɛp...   \n",
       "1870                                                NaN   \n",
       "1685  Marie-Henri Beyle (French: [bɛl]; 23 January 1...   \n",
       "1876  St. Raymond's Church is a parish church under ...   \n",
       "1337                                                NaN   \n",
       "973                                                 NaN   \n",
       "958                                                 NaN   \n",
       "\n",
       "                                           wiki_en_link  \\\n",
       "1573  https://en.wikipedia.org/wiki/Maximilien_Robes...   \n",
       "1362  https://en.wikipedia.org/wiki/Nic%C3%A9phore_N...   \n",
       "1870                                                NaN   \n",
       "1685             https://en.wikipedia.org/wiki/Stendhal   \n",
       "1876  https://en.wikipedia.org/wiki/St._Raymond%27s_...   \n",
       "1337                                                NaN   \n",
       "973                                                 NaN   \n",
       "958                                                 NaN   \n",
       "\n",
       "                                           wiki_fr_text  \\\n",
       "1573  Maximilien de Robespierre, ou Maximilien Robes...   \n",
       "1362  Joseph « Nicéphore » Niépce, né le 7 mars 1765...   \n",
       "1870  Charles d'Éon de Beaumont, dit le chevalier d'...   \n",
       "1685                                                NaN   \n",
       "1876                                                NaN   \n",
       "1337                                                NaN   \n",
       "973                                                 NaN   \n",
       "958                                                 NaN   \n",
       "\n",
       "                                                 url_fr  age_estimate  \\\n",
       "1573  https://fr.wikipedia.org/wiki/Maximilien_de_Ro...     38.010203   \n",
       "1362  https://fr.wikipedia.org/wiki/Nic%C3%A9phore_N...     43.498299   \n",
       "1870  https://fr.wikipedia.org/wiki/Charles_d%27%C3%...     26.078685   \n",
       "1685                                                NaN     48.573742   \n",
       "1876                                                NaN     43.035933   \n",
       "1337                                                NaN     38.712262   \n",
       "973                                                 NaN     27.294958   \n",
       "958                                                 NaN     28.043095   \n",
       "\n",
       "      gender_estimate                              tags  \n",
       "1573         0.479522  [avocat, hommepolitique, France]  \n",
       "1362         0.501600               [inventeur, France]  \n",
       "1870         0.358721               [diplomate, France]  \n",
       "1685         0.082885                [écrivain, France]  \n",
       "1876         0.047171                               NaN  \n",
       "1337         0.163517                          [France]  \n",
       "973          0.167698                 [général, France]  \n",
       "958          0.525836                       [chanteuse]  "
      ]
     },
     "execution_count": 114,
     "metadata": {},
     "output_type": "execute_result"
    }
   ],
   "source": [
    "data_final[data_final.index.isin(indexes)]"
   ]
  },
  {
   "cell_type": "code",
   "execution_count": 115,
   "metadata": {},
   "outputs": [],
   "source": [
    "data_final['name'] = data_final.name.map(lambda x: re.sub('\\?', '', x))"
   ]
  },
  {
   "cell_type": "code",
   "execution_count": 116,
   "metadata": {},
   "outputs": [],
   "source": [
    "data_final = data_final[~data_final.index.isin(indexes)]"
   ]
  },
  {
   "cell_type": "code",
   "execution_count": 117,
   "metadata": {},
   "outputs": [],
   "source": [
    "data_final = data_final.drop(data_final[data_final.name == 'Nicolas II (1868-1918 ; empereur de Russie)'].index)"
   ]
  },
  {
   "cell_type": "code",
   "execution_count": 118,
   "metadata": {},
   "outputs": [],
   "source": [
    "data_final.to_pickle('data/merged_dataframe.pkl')"
   ]
  },
  {
   "cell_type": "code",
   "execution_count": null,
   "metadata": {},
   "outputs": [],
   "source": []
  },
  {
   "cell_type": "code",
   "execution_count": null,
   "metadata": {},
   "outputs": [],
   "source": []
  },
  {
   "cell_type": "code",
   "execution_count": null,
   "metadata": {},
   "outputs": [],
   "source": []
  },
  {
   "cell_type": "code",
   "execution_count": null,
   "metadata": {},
   "outputs": [],
   "source": []
  },
  {
   "cell_type": "code",
   "execution_count": null,
   "metadata": {},
   "outputs": [],
   "source": []
  },
  {
   "cell_type": "code",
   "execution_count": null,
   "metadata": {},
   "outputs": [],
   "source": []
  },
  {
   "cell_type": "code",
   "execution_count": null,
   "metadata": {},
   "outputs": [],
   "source": []
  },
  {
   "cell_type": "code",
   "execution_count": null,
   "metadata": {},
   "outputs": [],
   "source": []
  },
  {
   "cell_type": "code",
   "execution_count": null,
   "metadata": {},
   "outputs": [],
   "source": []
  },
  {
   "cell_type": "code",
   "execution_count": null,
   "metadata": {},
   "outputs": [],
   "source": []
  },
  {
   "cell_type": "code",
   "execution_count": null,
   "metadata": {},
   "outputs": [],
   "source": []
  }
 ],
 "metadata": {
  "kernelspec": {
   "display_name": "Python 3",
   "language": "python",
   "name": "python3"
  },
  "language_info": {
   "codemirror_mode": {
    "name": "ipython",
    "version": 3
   },
   "file_extension": ".py",
   "mimetype": "text/x-python",
   "name": "python",
   "nbconvert_exporter": "python",
   "pygments_lexer": "ipython3",
   "version": "3.7.0"
  }
 },
 "nbformat": 4,
 "nbformat_minor": 4
}
