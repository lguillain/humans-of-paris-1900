{
 "cells": [
  {
   "cell_type": "code",
   "execution_count": 210,
   "metadata": {},
   "outputs": [],
   "source": [
    "from fdh_gallica import Periodical, Search, Document\n",
    "from fdh_gallica.parallel_process import iiif_urls_for_documents\n",
    "\n",
    "from tqdm.autonotebook import tqdm\n",
    "\n",
    "import json\n",
    "import pandas as pd\n",
    "from pandas.io.json import json_normalize"
   ]
  },
  {
   "cell_type": "code",
   "execution_count": 211,
   "metadata": {},
   "outputs": [],
   "source": [
    "%matplotlib inline"
   ]
  },
  {
   "cell_type": "markdown",
   "metadata": {},
   "source": [
    "get all images with relevant query"
   ]
  },
  {
   "cell_type": "code",
   "execution_count": 212,
   "metadata": {},
   "outputs": [],
   "source": [
    "re_execute = False\n",
    "if re_execute:\n",
    "    obj = Search(all_fields='atelier Nadar', dc_type='image', dc_creator='Atelier Nadar')\n",
    "    obj.execute()\n",
    "    print(f'number of fetched documents: {len(obj.documents)}')\n",
    "    print(f'total records {obj.total_records}')\n",
    "    print('retry fetching ...')\n",
    "    obj.retry()\n",
    "    print(f'number of fetched documents: {len(obj.documents)}')\n",
    "\n",
    "    df = json_normalize(json.loads(json.dumps(obj.records)))\n",
    "    print('save documents to local')\n",
    "    # list handling becomes a pain of we save as csv\n",
    "    df.to_pickle('raw_df.pkl')"
   ]
  },
  {
   "cell_type": "code",
   "execution_count": 213,
   "metadata": {},
   "outputs": [],
   "source": [
    "df = pd.read_pickle('raw_df.pkl')"
   ]
  },
  {
   "cell_type": "markdown",
   "metadata": {},
   "source": [
    "parse identifier for easier access:"
   ]
  },
  {
   "cell_type": "code",
   "execution_count": 214,
   "metadata": {},
   "outputs": [],
   "source": [
    "image_dataframe = pd.DataFrame(df['dc:identifier']\\\n",
    "                               .map(lambda x: x[0] if type(x) == list else x))\\\n",
    "                               .rename(columns={'dc:identifier':'identifier'})\n",
    "\n",
    "df['id'] = image_dataframe"
   ]
  },
  {
   "cell_type": "code",
   "execution_count": 215,
   "metadata": {},
   "outputs": [
    {
     "data": {
      "text/html": [
       "<div>\n",
       "<style scoped>\n",
       "    .dataframe tbody tr th:only-of-type {\n",
       "        vertical-align: middle;\n",
       "    }\n",
       "\n",
       "    .dataframe tbody tr th {\n",
       "        vertical-align: top;\n",
       "    }\n",
       "\n",
       "    .dataframe thead th {\n",
       "        text-align: right;\n",
       "    }\n",
       "</style>\n",
       "<table border=\"1\" class=\"dataframe\">\n",
       "  <thead>\n",
       "    <tr style=\"text-align: right;\">\n",
       "      <th></th>\n",
       "      <th>dc:creator</th>\n",
       "      <th>dc:date</th>\n",
       "      <th>dc:description</th>\n",
       "      <th>dc:format</th>\n",
       "      <th>dc:identifier</th>\n",
       "      <th>dc:language</th>\n",
       "      <th>dc:publisher</th>\n",
       "      <th>dc:relation</th>\n",
       "      <th>dc:rights</th>\n",
       "      <th>dc:source</th>\n",
       "      <th>dc:subject</th>\n",
       "      <th>dc:title</th>\n",
       "      <th>dc:type</th>\n",
       "      <th>id</th>\n",
       "    </tr>\n",
       "  </thead>\n",
       "  <tbody>\n",
       "    <tr>\n",
       "      <th>0</th>\n",
       "      <td>Atelier Nadar. Photographe</td>\n",
       "      <td>1875-1895</td>\n",
       "      <td>NaN</td>\n",
       "      <td>[1 photogr. pos. sur papier albuminé : d'après...</td>\n",
       "      <td>[https://gallica.bnf.fr/ark:/12148/btv1b531634...</td>\n",
       "      <td>[fre, français]</td>\n",
       "      <td>NaN</td>\n",
       "      <td>[Extrait de : [Album de référence de l'Atelier...</td>\n",
       "      <td>[domaine public, public domain]</td>\n",
       "      <td>Bibliothèque nationale de France, département ...</td>\n",
       "      <td>Portraits du théâtre -- 19e siècle</td>\n",
       "      <td>Holda. Eldorado : [photographie, tirage de dém...</td>\n",
       "      <td>[image fixe, image, still image, photographie,...</td>\n",
       "      <td>https://gallica.bnf.fr/ark:/12148/btv1b53163492h</td>\n",
       "    </tr>\n",
       "    <tr>\n",
       "      <th>1</th>\n",
       "      <td>Atelier Nadar. Photographe</td>\n",
       "      <td>1875-1895</td>\n",
       "      <td>NaN</td>\n",
       "      <td>[1 photogr. pos. sur papier albuminé : d'après...</td>\n",
       "      <td>[https://gallica.bnf.fr/ark:/12148/btv1b531634...</td>\n",
       "      <td>[fre, français]</td>\n",
       "      <td>NaN</td>\n",
       "      <td>[Extrait de : [Album de référence de l'Atelier...</td>\n",
       "      <td>[domaine public, public domain]</td>\n",
       "      <td>Bibliothèque nationale de France, département ...</td>\n",
       "      <td>Portraits du théâtre -- 19e siècle</td>\n",
       "      <td>Supra. Opéra : [photographie, tirage de démons...</td>\n",
       "      <td>[image fixe, image, still image, photographie,...</td>\n",
       "      <td>https://gallica.bnf.fr/ark:/12148/btv1b531634912</td>\n",
       "    </tr>\n",
       "    <tr>\n",
       "      <th>2</th>\n",
       "      <td>Atelier Nadar. Photographe</td>\n",
       "      <td>1875-1895</td>\n",
       "      <td>NaN</td>\n",
       "      <td>[1 photogr. pos. sur papier albuminé : d'après...</td>\n",
       "      <td>[https://gallica.bnf.fr/ark:/12148/btv1b531638...</td>\n",
       "      <td>[fre, français]</td>\n",
       "      <td>NaN</td>\n",
       "      <td>[Extrait de : [Album de référence de l'Atelier...</td>\n",
       "      <td>[domaine public, public domain]</td>\n",
       "      <td>Bibliothèque nationale de France, département ...</td>\n",
       "      <td>Portraits de studio -- 19e siècle</td>\n",
       "      <td>Bébé Ullmann : [photographie, tirage de démons...</td>\n",
       "      <td>[image fixe, image, still image, photographie,...</td>\n",
       "      <td>https://gallica.bnf.fr/ark:/12148/btv1b531638493</td>\n",
       "    </tr>\n",
       "    <tr>\n",
       "      <th>3</th>\n",
       "      <td>Atelier Nadar. Photographe</td>\n",
       "      <td>1875-1895</td>\n",
       "      <td>NaN</td>\n",
       "      <td>[1 photogr. pos. sur papier albuminé : d'après...</td>\n",
       "      <td>[https://gallica.bnf.fr/ark:/12148/btv1b531649...</td>\n",
       "      <td>[fre, français]</td>\n",
       "      <td>NaN</td>\n",
       "      <td>[Extrait de : [Album de référence de l'Atelier...</td>\n",
       "      <td>[domaine public, public domain]</td>\n",
       "      <td>Bibliothèque nationale de France, département ...</td>\n",
       "      <td>Portraits collectifs -- 19e siècle</td>\n",
       "      <td>Groupe de paysannes : [photographie, tirage de...</td>\n",
       "      <td>[image fixe, image, still image, photographie,...</td>\n",
       "      <td>https://gallica.bnf.fr/ark:/12148/btv1b53164917p</td>\n",
       "    </tr>\n",
       "    <tr>\n",
       "      <th>4</th>\n",
       "      <td>Atelier Nadar. Photographe</td>\n",
       "      <td>1875-1895</td>\n",
       "      <td>NaN</td>\n",
       "      <td>[1 photogr. pos. sur papier albuminé : d'après...</td>\n",
       "      <td>[https://gallica.bnf.fr/ark:/12148/btv1b531688...</td>\n",
       "      <td>[fre, français]</td>\n",
       "      <td>NaN</td>\n",
       "      <td>[Extrait de : [Album de référence de l'Atelier...</td>\n",
       "      <td>[domaine public, public domain]</td>\n",
       "      <td>Bibliothèque nationale de France, département ...</td>\n",
       "      <td>Portraits du théâtre -- 19e siècle</td>\n",
       "      <td>Me Debaude : [photographie, tirage de démonstr...</td>\n",
       "      <td>[image fixe, image, still image, photographie,...</td>\n",
       "      <td>https://gallica.bnf.fr/ark:/12148/btv1b531688758</td>\n",
       "    </tr>\n",
       "  </tbody>\n",
       "</table>\n",
       "</div>"
      ],
      "text/plain": [
       "                   dc:creator    dc:date dc:description  \\\n",
       "0  Atelier Nadar. Photographe  1875-1895            NaN   \n",
       "1  Atelier Nadar. Photographe  1875-1895            NaN   \n",
       "2  Atelier Nadar. Photographe  1875-1895            NaN   \n",
       "3  Atelier Nadar. Photographe  1875-1895            NaN   \n",
       "4  Atelier Nadar. Photographe  1875-1895            NaN   \n",
       "\n",
       "                                           dc:format  \\\n",
       "0  [1 photogr. pos. sur papier albuminé : d'après...   \n",
       "1  [1 photogr. pos. sur papier albuminé : d'après...   \n",
       "2  [1 photogr. pos. sur papier albuminé : d'après...   \n",
       "3  [1 photogr. pos. sur papier albuminé : d'après...   \n",
       "4  [1 photogr. pos. sur papier albuminé : d'après...   \n",
       "\n",
       "                                       dc:identifier      dc:language  \\\n",
       "0  [https://gallica.bnf.fr/ark:/12148/btv1b531634...  [fre, français]   \n",
       "1  [https://gallica.bnf.fr/ark:/12148/btv1b531634...  [fre, français]   \n",
       "2  [https://gallica.bnf.fr/ark:/12148/btv1b531638...  [fre, français]   \n",
       "3  [https://gallica.bnf.fr/ark:/12148/btv1b531649...  [fre, français]   \n",
       "4  [https://gallica.bnf.fr/ark:/12148/btv1b531688...  [fre, français]   \n",
       "\n",
       "  dc:publisher                                        dc:relation  \\\n",
       "0          NaN  [Extrait de : [Album de référence de l'Atelier...   \n",
       "1          NaN  [Extrait de : [Album de référence de l'Atelier...   \n",
       "2          NaN  [Extrait de : [Album de référence de l'Atelier...   \n",
       "3          NaN  [Extrait de : [Album de référence de l'Atelier...   \n",
       "4          NaN  [Extrait de : [Album de référence de l'Atelier...   \n",
       "\n",
       "                         dc:rights  \\\n",
       "0  [domaine public, public domain]   \n",
       "1  [domaine public, public domain]   \n",
       "2  [domaine public, public domain]   \n",
       "3  [domaine public, public domain]   \n",
       "4  [domaine public, public domain]   \n",
       "\n",
       "                                           dc:source  \\\n",
       "0  Bibliothèque nationale de France, département ...   \n",
       "1  Bibliothèque nationale de France, département ...   \n",
       "2  Bibliothèque nationale de France, département ...   \n",
       "3  Bibliothèque nationale de France, département ...   \n",
       "4  Bibliothèque nationale de France, département ...   \n",
       "\n",
       "                           dc:subject  \\\n",
       "0  Portraits du théâtre -- 19e siècle   \n",
       "1  Portraits du théâtre -- 19e siècle   \n",
       "2   Portraits de studio -- 19e siècle   \n",
       "3  Portraits collectifs -- 19e siècle   \n",
       "4  Portraits du théâtre -- 19e siècle   \n",
       "\n",
       "                                            dc:title  \\\n",
       "0  Holda. Eldorado : [photographie, tirage de dém...   \n",
       "1  Supra. Opéra : [photographie, tirage de démons...   \n",
       "2  Bébé Ullmann : [photographie, tirage de démons...   \n",
       "3  Groupe de paysannes : [photographie, tirage de...   \n",
       "4  Me Debaude : [photographie, tirage de démonstr...   \n",
       "\n",
       "                                             dc:type  \\\n",
       "0  [image fixe, image, still image, photographie,...   \n",
       "1  [image fixe, image, still image, photographie,...   \n",
       "2  [image fixe, image, still image, photographie,...   \n",
       "3  [image fixe, image, still image, photographie,...   \n",
       "4  [image fixe, image, still image, photographie,...   \n",
       "\n",
       "                                                 id  \n",
       "0  https://gallica.bnf.fr/ark:/12148/btv1b53163492h  \n",
       "1  https://gallica.bnf.fr/ark:/12148/btv1b531634912  \n",
       "2  https://gallica.bnf.fr/ark:/12148/btv1b531638493  \n",
       "3  https://gallica.bnf.fr/ark:/12148/btv1b53164917p  \n",
       "4  https://gallica.bnf.fr/ark:/12148/btv1b531688758  "
      ]
     },
     "execution_count": 215,
     "metadata": {},
     "output_type": "execute_result"
    }
   ],
   "source": [
    "df.head()"
   ]
  },
  {
   "cell_type": "markdown",
   "metadata": {},
   "source": [
    "### useless columns"
   ]
  },
  {
   "cell_type": "markdown",
   "metadata": {},
   "source": [
    "Useless because identical for all images, \n",
    "remove them for ease of use, next ones contain all the same content"
   ]
  },
  {
   "cell_type": "code",
   "execution_count": 216,
   "metadata": {},
   "outputs": [
    {
     "data": {
      "text/plain": [
       "[domaine public, public domain]    23550\n",
       "Name: dc:rights, dtype: int64"
      ]
     },
     "execution_count": 216,
     "metadata": {},
     "output_type": "execute_result"
    }
   ],
   "source": [
    "df['dc:rights'].value_counts()"
   ]
  },
  {
   "cell_type": "code",
   "execution_count": 217,
   "metadata": {},
   "outputs": [
    {
     "data": {
      "text/plain": [
       "[image fixe, image, still image, photographie, photograph]    23550\n",
       "Name: dc:type, dtype: int64"
      ]
     },
     "execution_count": 217,
     "metadata": {},
     "output_type": "execute_result"
    }
   ],
   "source": [
    "df['dc:type'].value_counts()"
   ]
  },
  {
   "cell_type": "code",
   "execution_count": 218,
   "metadata": {},
   "outputs": [
    {
     "data": {
      "text/plain": [
       "[fre, français]              23545\n",
       "Sans contenu linguistique        5\n",
       "Name: dc:language, dtype: int64"
      ]
     },
     "execution_count": 218,
     "metadata": {},
     "output_type": "execute_result"
    }
   ],
   "source": [
    "df['dc:language'].value_counts()"
   ]
  },
  {
   "cell_type": "code",
   "execution_count": 219,
   "metadata": {},
   "outputs": [
    {
     "data": {
      "text/plain": [
       "[1 photogr. pos. sur papier albuminé : d'après nég. sur verre ; 14,5 x 10,5 cm, image/jpeg, Nombre total de vues : 1]                                              12563\n",
       "[1 photogr. pos. sur papier albuminé : d'après nég. sur verre au gélatinobromure d'argent ; 14,5 x 10,5 cm, image/jpeg, Nombre total de vues : 1]                   3293\n",
       "[1 photogr. pos. sur papier albuminé : d'après négatif sur verre ; 9,3 x 6 cm, image/jpeg, Nombre total de vues : 1]                                                2316\n",
       "[1 photogr. pos. sur papier albuminé : d'après négatif sur verre ; 9.3 x 6 cm, image/jpeg, Nombre total de vues : 1]                                                1995\n",
       "[1 photogr. pos. sur papier albuminé : d'après négatif sur verre ; 8,5 x 5,8 cm, image/jpeg, Nombre total de vues : 1]                                               991\n",
       "[1 photogr. pos. sur papier albuminé : d'après négatif sur verre ; 22,3 x 16,2 cm, image/jpeg, Nombre total de vues : 1]                                             891\n",
       "[1 photogr. pos. sur papier albuminé : d'après nég. sur verre au gélatinobromure d'argent ; 22,3 x 16,2 cm, image/jpeg, Nombre total de vues : 1]                    249\n",
       "[1 photogr. pos. sur papier gélatino-argentique : d'après nég. sur verre au gélatinobromure d'argent ; 22,6 x 16,8 cm, image/jpeg, Nombre total de vues : 1]         229\n",
       "[1 photogr. pos. sur papier albuminé : d'après nég. sur verre ; 10,5 x 14,5 cm, image/jpeg, Nombre total de vues : 1]                                                147\n",
       "[1 photogr. pos. sur papier albuminé : d'après négatif sur verre ; 8,5 x 6 cm, image/jpeg, Nombre total de vues : 1]                                                 119\n",
       "[1 photogr. pos. sur papier albuminé : d'après négatif sur verre ; 20 x 12,5 cm, image/jpeg, Nombre total de vues : 1]                                               106\n",
       "[1 photographie positive sur papier albuminé : d'après négatif sur verre au gélatinobromure d'argent ; 31,5 x 18,5 cm, image/jpeg, Nombre total de vues : 1]          96\n",
       "[1 photogr. pos. sur papier albuminé : d'après nég. sur verre au gélatinobromure d'argent ; 22,6 x 16,8 cm, image/jpeg, Nombre total de vues : 1]                     79\n",
       "[1 photogr. pos. sur papier albuminé : d'après négatif sur verre ; 22 x 16,5 cm, image/jpeg, Nombre total de vues : 1]                                                77\n",
       "[1 photogr. pos. sur papier albuminé : d'après nég. sur verre au gélatinobromure d'argent ; 16,2 x 22,3 cm, image/jpeg, Nombre total de vues : 1]                     68\n",
       "[1 photogr. pos. sur papier albuminé : d'après négatif sur verre ; 8.5 x 6 cm, image/jpeg, Nombre total de vues : 1]                                                  62\n",
       "[1 photogr. pos. sur papier albuminé : d'après nég. sur verre au gélatinobromure d'argent ; 10,5 x 14,5 cm, image/jpeg, Nombre total de vues : 1]                     48\n",
       "[1 photographie positive sur papier albuminé : d'après négatif sur verre au gélatinobromure d'argent ; 16,8 x 22,6 cm, image/jpeg, Nombre total de vues : 1]          37\n",
       "[1 photogr. pos. sur papier albuminé : d'après négatif sur verre ; 16,2 x 22,3 cm, image/jpeg, Nombre total de vues : 1]                                              33\n",
       "[1 photogr. pos. sur papier albuminé : d'après négatif sur verre ; 14,6 x 10,4 cm, image/jpeg, Nombre total de vues : 1]                                              30\n",
       "[1 photographie positive sur papier albuminé : d'après négatif sur verre au gélatinobromure d'argent ; 22,6 x 16,8 cm, image/jpeg, Nombre total de vues : 1]          27\n",
       "[1 photogr. pos. sur papier albuminé : d'après nég. sur verre au gélatinobromure d'argent ; 16,8 x 22,6 cm, image/jpeg, Nombre total de vues : 1]                     16\n",
       "[1 photogr. pos. sur papier albuminé : d'après négatif sur verre ; 22,5 x 16 cm, image/jpeg, Nombre total de vues : 1]                                                16\n",
       "[1 photographie positive sur papier albuminé : d'après négatif sur verre au gélatinobromure d'argent ; 36,5 x 26 cm, image/jpeg, Nombre total de vues : 1]             9\n",
       "[1 photogr. pos. sur papier gélatino-argentique : d'après nég. sur verre au gélatinobromure d'argent ; 16,8 x 22,6 cm, image/jpeg, Nombre total de vues : 1]           4\n",
       "[1 photogr. pos. sur papier gélatinoargentique : d'après nég. sur verre au gélatinobromure d'argent ; 22,6 x 16,8 cm, image/jpeg, Nombre total de vues : 1]            4\n",
       "[1 photographie positive sur papier albuminé : d'après négatif sur verre au gélatinobromure d'argent ; 26 x 36,5 cm, image/jpeg, Nombre total de vues : 1]             3\n",
       "[1 photogr. pos. sur papier albuminé : d'après négatif sur verre ; 6 x 4 cm, image/jpeg, Nombre total de vues : 1]                                                     3\n",
       "[1 photogr. pos. sur papier albuminé : d'après négatif sur verre ; 3.7 x 1.3 cm, image/jpeg, Nombre total de vues : 1]                                                 3\n",
       "[1 photogr. pos. sur papier albuminé : d'après négatif sur verre ; 4,8 x 3,1 cm, image/jpeg, Nombre total de vues : 1]                                                 3\n",
       "[1 photogr. pos. sur papier albuminé : d'après négatif sur verre ; 5,2 x 3,1 cm, image/jpeg, Nombre total de vues : 1]                                                 2\n",
       "[1 photogr. pos. sur papier albuminé : d'après nég. sur verre ; 14,5 x 10,5 cm, image/jpeg, Nombre total de vues : 2]                                                  2\n",
       "[1 photogr. pos. sur papier albuminé : d'après négatif sur verre ; 6,5 x 3,6 cm, image/jpeg, Nombre total de vues : 1]                                                 2\n",
       "[1 photogr. pos. sur papier albuminé : d'après négatif sur verre ; 3,8 x 2,8 cm, image/jpeg, Nombre total de vues : 1]                                                 2\n",
       "[1 photogr. pos. sur papier albuminé : d'après négatif sur verre ; 6,6 x 3,1 cm, image/jpeg, Nombre total de vues : 1]                                                 2\n",
       "[1 photogr. pos. sur papier albuminé : d'après négatif sur verre ; 4,2 x 3 cm, image/jpeg, Nombre total de vues : 1]                                                   1\n",
       "[1 photogr. pos. sur papier albuminé : d'après nég. sur verre au gélatinobromure d'argent ; 17,4 x 12,5 cm, image/jpeg, Nombre total de vues : 1]                      1\n",
       "[1 photogr. pos. sur papier albuminé : d'après négatif sur verre ; 5 x 3,4 cm, image/jpeg, Nombre total de vues : 1]                                                   1\n",
       "[1 photographie positive collée sur carton ; 30 x 18 cm (im.), 33 x 19,5 cm (cart.), image/jpeg, Nombre total de vues : 2]                                             1\n",
       "[1 photogr. pos. sur papier gélatino-argentique : d'après négatif sur verre au gélatinobromure d'argent ; 22,6 x 16,8 cm, image/jpeg, Nombre total de vues : 1]        1\n",
       "[photogr. pos. : n. et b. sur carton brun ; H. 27 x L. 20 cm, image/jpeg, Nombre total de vues : 1]                                                                    1\n",
       "[1 photogr. pos. : émail photographique ; ov. 7,1 x 5,6 cm, image/jpeg, Nombre total de vues : 2]                                                                      1\n",
       "[1 photogr. pos. sur papier albuminé : d'après négatif sur verre ; 5,6 x 3,6 cm, image/jpeg, Nombre total de vues : 1]                                                 1\n",
       "[1 photogr. pos. sur papier albuminé : d'après négatif sur verre ; 5,9 x 4 cm, image/jpeg, Nombre total de vues : 1]                                                   1\n",
       "[1 photogr. pos. sur papier albuminé : d'après négatif sur verre ; 7 x 4,9 cm, image/jpeg, Nombre total de vues : 1]                                                   1\n",
       "[1 photogr. pos. sur papier albuminé : d'après négatif sur verre ; 6,5 x 4,2 cm, image/jpeg, Nombre total de vues : 1]                                                 1\n",
       "[1 photogr. pos. sur papier albuminé : d'après nég. sur verre au gélatinobromure d'argent ; 16,8x 22,6 cm, image/jpeg, Nombre total de vues : 1]                       1\n",
       "[1 photogr. pos. : émail photographique ; ov. 4,9 x 3,8 cm, image/jpeg, Nombre total de vues : 2]                                                                      1\n",
       "[1 photogr. pos. sur papier gélatino-argentique : d'après négatif sur verre au gélatinobromure d'argent ; 16,8 x 22,6 cm, image/jpeg, Nombre total de vues : 1]        1\n",
       "[1 photogr. pos. sur papier albuminé : d'après négatif sur verre ; 6 x 4,1 cm, image/jpeg, Nombre total de vues : 1]                                                   1\n",
       "[1 photogr. pos. sur papier albuminé : d'après négatif sur verre ; 5,5 x 4 cm, image/jpeg, Nombre total de vues : 1]                                                   1\n",
       "[1 photogr. pos. sur papier albuminé : d'après négatif sur verre ; 5,5 x 3,5 cm, image/jpeg, Nombre total de vues : 1]                                                 1\n",
       "[1 photogr. pos. sur papier gélatino-argentique : d'après nég. sur verre au gélatinobromure d'argent ; 20,5 x 16,8 cm, image/jpeg, Nombre total de vues : 1]           1\n",
       "[1 photogr. pos. sur papier albuminé : d'après nég. sur verre ; 9,4 x 6 cm, image/jpeg, Nombre total de vues : 1]                                                      1\n",
       "[1 photogr. pos. sur papier albuminé : d'après négatif sur verre ; 6,6 x 3,7 cm, image/jpeg, Nombre total de vues : 1]                                                 1\n",
       "[1 photogr. pos. sur papier albuminé : d'après négatif sur verre ; 8,5 x 5,8 cm, image/jpeg, Nombre total de vues : 2]                                                 1\n",
       "[1 photogr. pos. sur papier albuminé : d'après négatif sur verre ; 6 x 3,7 cm, image/jpeg, Nombre total de vues : 1]                                                   1\n",
       "[1 photogr. pos. sur papier albuminé : d'après négatif sur verre ; 4,4 x 3 cm, image/jpeg, Nombre total de vues : 1]                                                   1\n",
       "Name: dc:format, dtype: int64"
      ]
     },
     "execution_count": 219,
     "metadata": {},
     "output_type": "execute_result"
    }
   ],
   "source": [
    "df['dc:format'].value_counts()"
   ]
  },
  {
   "cell_type": "code",
   "execution_count": 220,
   "metadata": {},
   "outputs": [
    {
     "data": {
      "text/plain": [
       "True    23550\n",
       "Name: dc:format, dtype: int64"
      ]
     },
     "execution_count": 220,
     "metadata": {},
     "output_type": "execute_result"
    }
   ],
   "source": [
    "df['dc:format'].map(lambda x: 'photo' in x[0]).value_counts()"
   ]
  },
  {
   "cell_type": "markdown",
   "metadata": {},
   "source": [
    "Almost all are paper, except for a few:"
   ]
  },
  {
   "cell_type": "code",
   "execution_count": 221,
   "metadata": {},
   "outputs": [
    {
     "data": {
      "text/plain": [
       "True     23546\n",
       "False        4\n",
       "Name: dc:format, dtype: int64"
      ]
     },
     "execution_count": 221,
     "metadata": {},
     "output_type": "execute_result"
    }
   ],
   "source": [
    "df['dc:format'].map(lambda x: 'papier' in x[0]).value_counts()"
   ]
  },
  {
   "cell_type": "code",
   "execution_count": 222,
   "metadata": {},
   "outputs": [
    {
     "data": {
      "text/plain": [
       "22695    https://gallica.bnf.fr/ark:/12148/btv1b100239339\n",
       "23472    https://gallica.bnf.fr/ark:/12148/btv1b52502741s\n",
       "23473    https://gallica.bnf.fr/ark:/12148/btv1b55009234k\n",
       "23474    https://gallica.bnf.fr/ark:/12148/btv1b550092156\n",
       "Name: id, dtype: object"
      ]
     },
     "execution_count": 222,
     "metadata": {},
     "output_type": "execute_result"
    }
   ],
   "source": [
    "df[~df['dc:format'].map(lambda x: 'papier' in x[0])].id"
   ]
  },
  {
   "cell_type": "markdown",
   "metadata": {},
   "source": [
    "we don't care about those, so remove:"
   ]
  },
  {
   "cell_type": "code",
   "execution_count": 223,
   "metadata": {},
   "outputs": [],
   "source": [
    "df = df[df['dc:format'].map(lambda x: 'papier' in x[0])]"
   ]
  },
  {
   "cell_type": "code",
   "execution_count": 224,
   "metadata": {},
   "outputs": [
    {
     "data": {
      "text/plain": [
       "0    [https://gallica.bnf.fr/ark:/12148/btv1b531634...\n",
       "1    [https://gallica.bnf.fr/ark:/12148/btv1b531634...\n",
       "2    [https://gallica.bnf.fr/ark:/12148/btv1b531638...\n",
       "3    [https://gallica.bnf.fr/ark:/12148/btv1b531649...\n",
       "4    [https://gallica.bnf.fr/ark:/12148/btv1b531688...\n",
       "Name: dc:identifier, dtype: object"
      ]
     },
     "execution_count": 224,
     "metadata": {},
     "output_type": "execute_result"
    }
   ],
   "source": [
    "df['dc:identifier'].head()"
   ]
  },
  {
   "cell_type": "code",
   "execution_count": 225,
   "metadata": {},
   "outputs": [
    {
     "data": {
      "text/plain": [
       "False    23546\n",
       "Name: dc:identifier, dtype: int64"
      ]
     },
     "execution_count": 225,
     "metadata": {},
     "output_type": "execute_result"
    }
   ],
   "source": [
    "df['dc:identifier'].map(lambda x: x[0]).duplicated().value_counts()"
   ]
  },
  {
   "cell_type": "code",
   "execution_count": 226,
   "metadata": {},
   "outputs": [
    {
     "data": {
      "text/plain": [
       "Series([], Name: dc:publisher, dtype: int64)"
      ]
     },
     "execution_count": 226,
     "metadata": {},
     "output_type": "execute_result"
    }
   ],
   "source": [
    "df['dc:publisher'].value_counts()"
   ]
  },
  {
   "cell_type": "markdown",
   "metadata": {},
   "source": [
    "### removing them"
   ]
  },
  {
   "cell_type": "code",
   "execution_count": 227,
   "metadata": {},
   "outputs": [],
   "source": [
    "del df['dc:type']\n",
    "del df['dc:language']\n",
    "del df['dc:format']\n",
    "del df['dc:identifier']\n",
    "del df['dc:rights']\n",
    "del df['dc:publisher']"
   ]
  },
  {
   "cell_type": "markdown",
   "metadata": {},
   "source": [
    "# getting information about subjects"
   ]
  },
  {
   "cell_type": "code",
   "execution_count": 228,
   "metadata": {},
   "outputs": [],
   "source": [
    "#some objects are stored as list, others arent, use if else to handle\n",
    "df['subject_is_list'] = df['dc:subject'].map(lambda x: type(x) == list)"
   ]
  },
  {
   "cell_type": "code",
   "execution_count": 229,
   "metadata": {},
   "outputs": [],
   "source": [
    "df['len_list'] = df[df.subject_is_list]['dc:subject'].map(len)"
   ]
  },
  {
   "cell_type": "markdown",
   "metadata": {},
   "source": [
    "length is non uniform ... we will have to unnest"
   ]
  },
  {
   "cell_type": "code",
   "execution_count": 230,
   "metadata": {},
   "outputs": [
    {
     "data": {
      "text/plain": [
       "2.0    12845\n",
       "3.0      748\n",
       "4.0      239\n",
       "5.0      233\n",
       "6.0       10\n",
       "7.0        9\n",
       "Name: len_list, dtype: int64"
      ]
     },
     "execution_count": 230,
     "metadata": {},
     "output_type": "execute_result"
    }
   ],
   "source": [
    "df.len_list.value_counts()"
   ]
  },
  {
   "cell_type": "code",
   "execution_count": 231,
   "metadata": {},
   "outputs": [
    {
     "data": {
      "text/plain": [
       "[Bernhardt, Sarah (1844-1923) -- Portraits, Portraits du théâtre -- 19e siècle]          266\n",
       "[Réjane (1856-1920) -- Portraits, Portraits du théâtre -- 19e siècle]                    118\n",
       "[Théo, Louise (1854-1922) -- Portraits, Portraits du théâtre -- 19e siècle]              110\n",
       "[Simon-Girard, Juliette (1859-1959) -- Portraits, Portraits du théâtre -- 19e siècle]     84\n",
       "[Lantelme, Marie -- Portraits, Portraits du théâtre -- 19e siècle]                        83\n",
       "Name: dc:subject, dtype: int64"
      ]
     },
     "execution_count": 231,
     "metadata": {},
     "output_type": "execute_result"
    }
   ],
   "source": [
    "df[df.subject_is_list]['dc:subject'].map(lambda x: x).value_counts().head()"
   ]
  },
  {
   "cell_type": "markdown",
   "metadata": {},
   "source": [
    "unnest list to get better view"
   ]
  },
  {
   "cell_type": "code",
   "execution_count": 232,
   "metadata": {},
   "outputs": [],
   "source": [
    "to_unnest = df[df.subject_is_list]['dc:subject'].tolist()\n",
    "to_unnest = df[df.subject_is_list][['dc:subject', 'id']].apply(lambda x: (x['dc:subject'], x.id), axis=1).tolist()\n",
    "unnested = [(i, id_) for (list_, id_) in to_unnest for i in list_]"
   ]
  },
  {
   "cell_type": "markdown",
   "metadata": {},
   "source": [
    "we can also use the **title**, more about this later"
   ]
  },
  {
   "cell_type": "code",
   "execution_count": 233,
   "metadata": {},
   "outputs": [
    {
     "data": {
      "text/html": [
       "<div>\n",
       "<style scoped>\n",
       "    .dataframe tbody tr th:only-of-type {\n",
       "        vertical-align: middle;\n",
       "    }\n",
       "\n",
       "    .dataframe tbody tr th {\n",
       "        vertical-align: top;\n",
       "    }\n",
       "\n",
       "    .dataframe thead th {\n",
       "        text-align: right;\n",
       "    }\n",
       "</style>\n",
       "<table border=\"1\" class=\"dataframe\">\n",
       "  <thead>\n",
       "    <tr style=\"text-align: right;\">\n",
       "      <th></th>\n",
       "      <th>dc:subject</th>\n",
       "      <th>id</th>\n",
       "      <th>dc:title</th>\n",
       "    </tr>\n",
       "  </thead>\n",
       "  <tbody>\n",
       "    <tr>\n",
       "      <th>0</th>\n",
       "      <td>Portraits du théâtre -- 19e siècle</td>\n",
       "      <td>https://gallica.bnf.fr/ark:/12148/btv1b53163492h</td>\n",
       "      <td>Holda. Eldorado : [photographie, tirage de dém...</td>\n",
       "    </tr>\n",
       "    <tr>\n",
       "      <th>1</th>\n",
       "      <td>Portraits du théâtre -- 19e siècle</td>\n",
       "      <td>https://gallica.bnf.fr/ark:/12148/btv1b531634912</td>\n",
       "      <td>Supra. Opéra : [photographie, tirage de démons...</td>\n",
       "    </tr>\n",
       "    <tr>\n",
       "      <th>2</th>\n",
       "      <td>Portraits de studio -- 19e siècle</td>\n",
       "      <td>https://gallica.bnf.fr/ark:/12148/btv1b531638493</td>\n",
       "      <td>Bébé Ullmann : [photographie, tirage de démons...</td>\n",
       "    </tr>\n",
       "    <tr>\n",
       "      <th>3</th>\n",
       "      <td>Portraits collectifs -- 19e siècle</td>\n",
       "      <td>https://gallica.bnf.fr/ark:/12148/btv1b53164917p</td>\n",
       "      <td>Groupe de paysannes : [photographie, tirage de...</td>\n",
       "    </tr>\n",
       "    <tr>\n",
       "      <th>4</th>\n",
       "      <td>Portraits du théâtre -- 19e siècle</td>\n",
       "      <td>https://gallica.bnf.fr/ark:/12148/btv1b531688758</td>\n",
       "      <td>Me Debaude : [photographie, tirage de démonstr...</td>\n",
       "    </tr>\n",
       "  </tbody>\n",
       "</table>\n",
       "</div>"
      ],
      "text/plain": [
       "                           dc:subject  \\\n",
       "0  Portraits du théâtre -- 19e siècle   \n",
       "1  Portraits du théâtre -- 19e siècle   \n",
       "2   Portraits de studio -- 19e siècle   \n",
       "3  Portraits collectifs -- 19e siècle   \n",
       "4  Portraits du théâtre -- 19e siècle   \n",
       "\n",
       "                                                 id  \\\n",
       "0  https://gallica.bnf.fr/ark:/12148/btv1b53163492h   \n",
       "1  https://gallica.bnf.fr/ark:/12148/btv1b531634912   \n",
       "2  https://gallica.bnf.fr/ark:/12148/btv1b531638493   \n",
       "3  https://gallica.bnf.fr/ark:/12148/btv1b53164917p   \n",
       "4  https://gallica.bnf.fr/ark:/12148/btv1b531688758   \n",
       "\n",
       "                                            dc:title  \n",
       "0  Holda. Eldorado : [photographie, tirage de dém...  \n",
       "1  Supra. Opéra : [photographie, tirage de démons...  \n",
       "2  Bébé Ullmann : [photographie, tirage de démons...  \n",
       "3  Groupe de paysannes : [photographie, tirage de...  \n",
       "4  Me Debaude : [photographie, tirage de démonstr...  "
      ]
     },
     "execution_count": 233,
     "metadata": {},
     "output_type": "execute_result"
    }
   ],
   "source": [
    "df[~df.subject_is_list][['dc:subject', 'id', 'dc:title']].head()"
   ]
  },
  {
   "cell_type": "code",
   "execution_count": 234,
   "metadata": {},
   "outputs": [],
   "source": [
    "to_append = df[~df.subject_is_list][['dc:subject', 'id']].rename(columns={'dc:subject':'descriptor'})"
   ]
  },
  {
   "cell_type": "code",
   "execution_count": 235,
   "metadata": {},
   "outputs": [
    {
     "data": {
      "text/plain": [
       "30178"
      ]
     },
     "execution_count": 235,
     "metadata": {},
     "output_type": "execute_result"
    }
   ],
   "source": [
    "unnested.__len__()"
   ]
  },
  {
   "cell_type": "code",
   "execution_count": 236,
   "metadata": {},
   "outputs": [],
   "source": [
    "subject_frame = pd.DataFrame(unnested, columns=['descriptor', 'id'])"
   ]
  },
  {
   "cell_type": "code",
   "execution_count": 237,
   "metadata": {},
   "outputs": [],
   "source": [
    "subject_frame = pd.concat([subject_frame, to_append], sort=False)"
   ]
  },
  {
   "cell_type": "code",
   "execution_count": 238,
   "metadata": {},
   "outputs": [
    {
     "data": {
      "text/plain": [
       "descriptor    39640\n",
       "id            39640\n",
       "dtype: int64"
      ]
     },
     "execution_count": 238,
     "metadata": {},
     "output_type": "execute_result"
    }
   ],
   "source": [
    "subject_frame.count()"
   ]
  },
  {
   "cell_type": "markdown",
   "metadata": {},
   "source": [
    "associate each descriptior of one object (given by id)"
   ]
  },
  {
   "cell_type": "code",
   "execution_count": 239,
   "metadata": {},
   "outputs": [
    {
     "data": {
      "text/html": [
       "<div>\n",
       "<style scoped>\n",
       "    .dataframe tbody tr th:only-of-type {\n",
       "        vertical-align: middle;\n",
       "    }\n",
       "\n",
       "    .dataframe tbody tr th {\n",
       "        vertical-align: top;\n",
       "    }\n",
       "\n",
       "    .dataframe thead th {\n",
       "        text-align: right;\n",
       "    }\n",
       "</style>\n",
       "<table border=\"1\" class=\"dataframe\">\n",
       "  <thead>\n",
       "    <tr style=\"text-align: right;\">\n",
       "      <th></th>\n",
       "      <th>descriptor</th>\n",
       "      <th>id</th>\n",
       "    </tr>\n",
       "  </thead>\n",
       "  <tbody>\n",
       "    <tr>\n",
       "      <th>0</th>\n",
       "      <td>Auguez, Mathilde (1868-1955) -- Portraits</td>\n",
       "      <td>https://gallica.bnf.fr/ark:/12148/btv1b53168872x</td>\n",
       "    </tr>\n",
       "    <tr>\n",
       "      <th>1</th>\n",
       "      <td>Portraits de studio -- 19e siècle</td>\n",
       "      <td>https://gallica.bnf.fr/ark:/12148/btv1b53168872x</td>\n",
       "    </tr>\n",
       "    <tr>\n",
       "      <th>2</th>\n",
       "      <td>Auguez, Mathilde (1868-1955) -- Portraits</td>\n",
       "      <td>https://gallica.bnf.fr/ark:/12148/btv1b531688701</td>\n",
       "    </tr>\n",
       "    <tr>\n",
       "      <th>3</th>\n",
       "      <td>Portraits de studio -- 19e siècle</td>\n",
       "      <td>https://gallica.bnf.fr/ark:/12148/btv1b531688701</td>\n",
       "    </tr>\n",
       "    <tr>\n",
       "      <th>4</th>\n",
       "      <td>Bruant, Aristide (1851-1925) -- Portraits</td>\n",
       "      <td>https://gallica.bnf.fr/ark:/12148/btv1b53171770j</td>\n",
       "    </tr>\n",
       "  </tbody>\n",
       "</table>\n",
       "</div>"
      ],
      "text/plain": [
       "                                  descriptor  \\\n",
       "0  Auguez, Mathilde (1868-1955) -- Portraits   \n",
       "1          Portraits de studio -- 19e siècle   \n",
       "2  Auguez, Mathilde (1868-1955) -- Portraits   \n",
       "3          Portraits de studio -- 19e siècle   \n",
       "4  Bruant, Aristide (1851-1925) -- Portraits   \n",
       "\n",
       "                                                 id  \n",
       "0  https://gallica.bnf.fr/ark:/12148/btv1b53168872x  \n",
       "1  https://gallica.bnf.fr/ark:/12148/btv1b53168872x  \n",
       "2  https://gallica.bnf.fr/ark:/12148/btv1b531688701  \n",
       "3  https://gallica.bnf.fr/ark:/12148/btv1b531688701  \n",
       "4  https://gallica.bnf.fr/ark:/12148/btv1b53171770j  "
      ]
     },
     "execution_count": 239,
     "metadata": {},
     "output_type": "execute_result"
    }
   ],
   "source": [
    "subject_frame.head()"
   ]
  },
  {
   "cell_type": "markdown",
   "metadata": {},
   "source": [
    "do some keyword searching"
   ]
  },
  {
   "cell_type": "code",
   "execution_count": 240,
   "metadata": {},
   "outputs": [],
   "source": [
    "subject_frame['19e'] = subject_frame.descriptor.map(lambda x: x[-len('-- 19e siècle'):] == '-- 19e siècle')\n",
    "subject_frame['Portraits'] = subject_frame.descriptor.map(lambda x: 'portraits' in x.lower())"
   ]
  },
  {
   "cell_type": "code",
   "execution_count": 241,
   "metadata": {},
   "outputs": [],
   "source": [
    "is_19e = subject_frame[subject_frame['19e']].id.unique()"
   ]
  },
  {
   "cell_type": "code",
   "execution_count": 242,
   "metadata": {},
   "outputs": [
    {
     "data": {
      "text/plain": [
       "23250"
      ]
     },
     "execution_count": 242,
     "metadata": {},
     "output_type": "execute_result"
    }
   ],
   "source": [
    "subject_frame[subject_frame.Portraits].id.unique().__len__()"
   ]
  },
  {
   "cell_type": "code",
   "execution_count": 243,
   "metadata": {},
   "outputs": [],
   "source": [
    "portrait_ids = subject_frame[subject_frame.Portraits].id.unique()"
   ]
  },
  {
   "cell_type": "markdown",
   "metadata": {},
   "source": [
    "dessin humoristiques & caricatures seams important"
   ]
  },
  {
   "cell_type": "code",
   "execution_count": 244,
   "metadata": {},
   "outputs": [
    {
     "data": {
      "text/html": [
       "<div>\n",
       "<style scoped>\n",
       "    .dataframe tbody tr th:only-of-type {\n",
       "        vertical-align: middle;\n",
       "    }\n",
       "\n",
       "    .dataframe tbody tr th {\n",
       "        vertical-align: top;\n",
       "    }\n",
       "\n",
       "    .dataframe thead th {\n",
       "        text-align: right;\n",
       "    }\n",
       "</style>\n",
       "<table border=\"1\" class=\"dataframe\">\n",
       "  <thead>\n",
       "    <tr style=\"text-align: right;\">\n",
       "      <th></th>\n",
       "      <th>descriptor</th>\n",
       "      <th>id</th>\n",
       "      <th>19e</th>\n",
       "      <th>Portraits</th>\n",
       "    </tr>\n",
       "  </thead>\n",
       "  <tbody>\n",
       "    <tr>\n",
       "      <th>98</th>\n",
       "      <td>Offenbach, Jacques (1819-1880) -- Caricatures ...</td>\n",
       "      <td>https://gallica.bnf.fr/ark:/12148/btv1b53065466g</td>\n",
       "      <td>False</td>\n",
       "      <td>False</td>\n",
       "    </tr>\n",
       "    <tr>\n",
       "      <th>99</th>\n",
       "      <td>Caricatures et dessins humoristiques -- 19e si...</td>\n",
       "      <td>https://gallica.bnf.fr/ark:/12148/btv1b53065466g</td>\n",
       "      <td>True</td>\n",
       "      <td>False</td>\n",
       "    </tr>\n",
       "    <tr>\n",
       "      <th>186</th>\n",
       "      <td>Clairville (1811-1879) -- Caricatures et dessi...</td>\n",
       "      <td>https://gallica.bnf.fr/ark:/12148/btv1b53066427m</td>\n",
       "      <td>False</td>\n",
       "      <td>False</td>\n",
       "    </tr>\n",
       "    <tr>\n",
       "      <th>187</th>\n",
       "      <td>Caricatures et dessins humoristiques -- 19e si...</td>\n",
       "      <td>https://gallica.bnf.fr/ark:/12148/btv1b53066427m</td>\n",
       "      <td>True</td>\n",
       "      <td>False</td>\n",
       "    </tr>\n",
       "    <tr>\n",
       "      <th>194</th>\n",
       "      <td>Crémieux, Adolphe (1796-1880) -- Caricatures e...</td>\n",
       "      <td>https://gallica.bnf.fr/ark:/12148/btv1b53065960p</td>\n",
       "      <td>False</td>\n",
       "      <td>False</td>\n",
       "    </tr>\n",
       "  </tbody>\n",
       "</table>\n",
       "</div>"
      ],
      "text/plain": [
       "                                            descriptor  \\\n",
       "98   Offenbach, Jacques (1819-1880) -- Caricatures ...   \n",
       "99   Caricatures et dessins humoristiques -- 19e si...   \n",
       "186  Clairville (1811-1879) -- Caricatures et dessi...   \n",
       "187  Caricatures et dessins humoristiques -- 19e si...   \n",
       "194  Crémieux, Adolphe (1796-1880) -- Caricatures e...   \n",
       "\n",
       "                                                   id    19e  Portraits  \n",
       "98   https://gallica.bnf.fr/ark:/12148/btv1b53065466g  False      False  \n",
       "99   https://gallica.bnf.fr/ark:/12148/btv1b53065466g   True      False  \n",
       "186  https://gallica.bnf.fr/ark:/12148/btv1b53066427m  False      False  \n",
       "187  https://gallica.bnf.fr/ark:/12148/btv1b53066427m   True      False  \n",
       "194  https://gallica.bnf.fr/ark:/12148/btv1b53065960p  False      False  "
      ]
     },
     "execution_count": 244,
     "metadata": {},
     "output_type": "execute_result"
    }
   ],
   "source": [
    "subject_frame[~subject_frame.id.isin(portrait_ids)].head()"
   ]
  },
  {
   "cell_type": "markdown",
   "metadata": {},
   "source": [
    "we also get sculptures!"
   ]
  },
  {
   "cell_type": "code",
   "execution_count": 245,
   "metadata": {},
   "outputs": [
    {
     "data": {
      "text/plain": [
       "Scènes théâtrales -- 19e siècle                        111\n",
       "Sculpture de figures humaines                           57\n",
       "Grévin, Alfred (1827-1892) -- Oeuvres -- Sculpture      53\n",
       "Beer, Friedrich (1846-1912) -- Oeuvres -- Sculpture     53\n",
       "Caricatures et dessins humoristiques -- 19e siècle      37\n",
       "Name: descriptor, dtype: int64"
      ]
     },
     "execution_count": 245,
     "metadata": {},
     "output_type": "execute_result"
    }
   ],
   "source": [
    "subject_frame[~subject_frame.id.isin(portrait_ids)].descriptor.value_counts().head()"
   ]
  },
  {
   "cell_type": "code",
   "execution_count": 246,
   "metadata": {},
   "outputs": [],
   "source": [
    "subject_frame['caricature'] = subject_frame.descriptor.map(lambda x: 'Caricatures et dessins humoristiques' in x)"
   ]
  },
  {
   "cell_type": "code",
   "execution_count": 247,
   "metadata": {},
   "outputs": [
    {
     "data": {
      "text/plain": [
       "Scènes théâtrales -- 19e siècle                        111\n",
       "Sculpture de figures humaines                           57\n",
       "Beer, Friedrich (1846-1912) -- Oeuvres -- Sculpture     53\n",
       "Grévin, Alfred (1827-1892) -- Oeuvres -- Sculpture      53\n",
       "Vues d'intérieur -- 19e siècle                          21\n",
       "Name: descriptor, dtype: int64"
      ]
     },
     "execution_count": 247,
     "metadata": {},
     "output_type": "execute_result"
    }
   ],
   "source": [
    "subject_frame[~subject_frame.id.isin(portrait_ids) & ~subject_frame.caricature].descriptor.value_counts().head()"
   ]
  },
  {
   "cell_type": "markdown",
   "metadata": {},
   "source": [
    "## Extracting individual names:"
   ]
  },
  {
   "cell_type": "code",
   "execution_count": 248,
   "metadata": {},
   "outputs": [],
   "source": [
    "import re"
   ]
  },
  {
   "cell_type": "code",
   "execution_count": 249,
   "metadata": {},
   "outputs": [],
   "source": [
    "name = \"Grévin, Alfred (1827-1892)\"\n",
    "name_2 = \"Kallérgīs, Dīmī́trios (1803 (1982\"\n",
    "name_3 = 'Labounskaya, Marie -- Portraits'"
   ]
  },
  {
   "cell_type": "code",
   "execution_count": 250,
   "metadata": {},
   "outputs": [
    {
     "data": {
      "text/plain": [
       "2"
      ]
     },
     "execution_count": 250,
     "metadata": {},
     "output_type": "execute_result"
    }
   ],
   "source": [
    "len('ī́')"
   ]
  },
  {
   "cell_type": "code",
   "execution_count": 251,
   "metadata": {},
   "outputs": [
    {
     "data": {
      "text/plain": [
       "'ī́'"
      ]
     },
     "execution_count": 251,
     "metadata": {},
     "output_type": "execute_result"
    }
   ],
   "source": [
    "unicodedata.normalize('NFC', 'ī́')"
   ]
  },
  {
   "cell_type": "code",
   "execution_count": 252,
   "metadata": {},
   "outputs": [],
   "source": [
    "import unicodedata"
   ]
  },
  {
   "cell_type": "code",
   "execution_count": 253,
   "metadata": {},
   "outputs": [],
   "source": [
    "subject_frame['descriptor'] = subject_frame.descriptor.map(lambda x: unicodedata.normalize('NFC', x))"
   ]
  },
  {
   "cell_type": "code",
   "execution_count": 254,
   "metadata": {},
   "outputs": [],
   "source": [
    "def find_names(name):\n",
    "    matches = re.findall('([\\w\\'.-]* [\\w\\'.-]* [\\w\\'.]*|[\\w\\'.-]* [\\w\\'.]*|[\\w\\'.-]*|[\\w\\'.]*\\, [\\w\\'.-]*[ \\w\\'.]+) \\([\\d]{2}', name)\n",
    "    return [x for x in matches if len(x) > 0]\n",
    "\n",
    "def find_names_undated(name):\n",
    "    matches = re.findall('([\\w\\'.-]*|[\\w\\'.]*\\, [\\w\\'.-]*[ \\w\\'.]+) -- Portraits', name)\n",
    "    return [x for x in matches if len(x) > 0]"
   ]
  },
  {
   "cell_type": "code",
   "execution_count": 255,
   "metadata": {},
   "outputs": [
    {
     "data": {
      "text/plain": [
       "(['Grévin, Alfred'], ['trios', '03'], ['Labounskaya, Marie'])"
      ]
     },
     "execution_count": 255,
     "metadata": {},
     "output_type": "execute_result"
    }
   ],
   "source": [
    "find_names(name), find_names(name_2), find_names_undated(name_3)"
   ]
  },
  {
   "cell_type": "code",
   "execution_count": 256,
   "metadata": {},
   "outputs": [],
   "source": [
    "subject_frame['subject_name'] = subject_frame.descriptor.map(find_names)"
   ]
  },
  {
   "cell_type": "code",
   "execution_count": 257,
   "metadata": {},
   "outputs": [],
   "source": [
    "no_name = subject_frame.subject_name.map(len) == 0\n",
    "subject_frame.loc[ no_name, 'subject_name'] = subject_frame[no_name].descriptor.map(find_names_undated)"
   ]
  },
  {
   "cell_type": "code",
   "execution_count": 258,
   "metadata": {},
   "outputs": [],
   "source": [
    "no_name = subject_frame.subject_name.map(len) == 0"
   ]
  },
  {
   "cell_type": "code",
   "execution_count": 259,
   "metadata": {},
   "outputs": [
    {
     "data": {
      "text/plain": [
       "1          Portraits de studio -- 19e siècle\n",
       "9         Portraits du théâtre -- 19e siècle\n",
       "24           Scènes théâtrales -- 19e siècle\n",
       "45                Cour et courtisans -- Iran\n",
       "48                   Portraits -- 19e siècle\n",
       "                        ...                 \n",
       "650        Portraits équestres -- 19e siècle\n",
       "3671             Expositions de photographie\n",
       "4871    Portraits de plein air -- 19e siècle\n",
       "6250                     Portraits de studio\n",
       "8457                  Paysages -- 19e siècle\n",
       "Name: descriptor, Length: 127, dtype: object"
      ]
     },
     "execution_count": 259,
     "metadata": {},
     "output_type": "execute_result"
    }
   ],
   "source": [
    "subject_frame[no_name]['descriptor'].drop_duplicates()"
   ]
  },
  {
   "cell_type": "code",
   "execution_count": 260,
   "metadata": {},
   "outputs": [],
   "source": [
    "named_subjects = subject_frame[subject_frame.subject_name.map(len) > 0].id.unique()"
   ]
  },
  {
   "cell_type": "markdown",
   "metadata": {},
   "source": [
    "number of images we can find a name to:"
   ]
  },
  {
   "cell_type": "code",
   "execution_count": 179,
   "metadata": {},
   "outputs": [
    {
     "data": {
      "text/plain": [
       "13386"
      ]
     },
     "execution_count": 179,
     "metadata": {},
     "output_type": "execute_result"
    }
   ],
   "source": [
    "len(named_subjects)"
   ]
  },
  {
   "cell_type": "markdown",
   "metadata": {},
   "source": [
    "# at most 1837"
   ]
  },
  {
   "cell_type": "code",
   "execution_count": 180,
   "metadata": {},
   "outputs": [
    {
     "data": {
      "text/plain": [
       "1934"
      ]
     },
     "execution_count": 180,
     "metadata": {},
     "output_type": "execute_result"
    }
   ],
   "source": [
    "subject_frame[subject_frame.subject_name.map(len) > 0].subject_name.map(str).unique().__len__()"
   ]
  },
  {
   "cell_type": "code",
   "execution_count": 181,
   "metadata": {},
   "outputs": [
    {
     "data": {
      "text/plain": [
       "13386"
      ]
     },
     "execution_count": 181,
     "metadata": {},
     "output_type": "execute_result"
    }
   ],
   "source": [
    "subject_frame[subject_frame.subject_name.map(len) > 0].id.unique().__len__()"
   ]
  },
  {
   "cell_type": "code",
   "execution_count": 182,
   "metadata": {},
   "outputs": [],
   "source": [
    "subject_frame.loc[~no_name, 'named_subject'] = subject_frame[~no_name].subject_name.map(lambda x: x[0])"
   ]
  },
  {
   "cell_type": "code",
   "execution_count": 183,
   "metadata": {},
   "outputs": [
    {
     "data": {
      "text/plain": [
       "Bernhardt, Sarah    424\n",
       "Réjane              168\n",
       "Théo, Louise        148\n",
       "Meyer, Emilie       136\n",
       "Brasseur, Albert    115\n",
       "Name: named_subject, dtype: int64"
      ]
     },
     "execution_count": 183,
     "metadata": {},
     "output_type": "execute_result"
    }
   ],
   "source": [
    "subject_frame.named_subject.value_counts().head()"
   ]
  },
  {
   "cell_type": "code",
   "execution_count": 184,
   "metadata": {},
   "outputs": [],
   "source": [
    "#explore_names[explore_names.index.map(len) < 10]"
   ]
  },
  {
   "cell_type": "code",
   "execution_count": 185,
   "metadata": {},
   "outputs": [
    {
     "data": {
      "text/plain": [
       "1935"
      ]
     },
     "execution_count": 185,
     "metadata": {},
     "output_type": "execute_result"
    }
   ],
   "source": [
    "subject_frame.named_subject.unique().__len__()"
   ]
  },
  {
   "cell_type": "code",
   "execution_count": 186,
   "metadata": {},
   "outputs": [
    {
     "data": {
      "text/plain": [
       "True     1416\n",
       "False     518\n",
       "Name: named_subject, dtype: int64"
      ]
     },
     "execution_count": 186,
     "metadata": {},
     "output_type": "execute_result"
    }
   ],
   "source": [
    "(subject_frame.named_subject.value_counts() > 1).value_counts()"
   ]
  },
  {
   "cell_type": "code",
   "execution_count": 187,
   "metadata": {},
   "outputs": [
    {
     "data": {
      "text/plain": [
       "<matplotlib.axes._subplots.AxesSubplot at 0x1192c8ef0>"
      ]
     },
     "execution_count": 187,
     "metadata": {},
     "output_type": "execute_result"
    },
    {
     "data": {
      "image/png": "[encoded data removed]",
      "text/plain": [
       "<Figure size 432x288 with 1 Axes>"
      ]
     },
     "metadata": {
      "needs_background": "light"
     },
     "output_type": "display_data"
    }
   ],
   "source": [
    "explore_names = subject_frame.named_subject.value_counts()\n",
    "explore_names.hist(bins=50)"
   ]
  },
  {
   "cell_type": "markdown",
   "metadata": {},
   "source": [
    "number of names we have:"
   ]
  },
  {
   "cell_type": "code",
   "execution_count": 188,
   "metadata": {},
   "outputs": [
    {
     "data": {
      "text/plain": [
       "1934"
      ]
     },
     "execution_count": 188,
     "metadata": {},
     "output_type": "execute_result"
    }
   ],
   "source": [
    "subject_frame.named_subject.value_counts().count()"
   ]
  },
  {
   "cell_type": "code",
   "execution_count": 189,
   "metadata": {},
   "outputs": [],
   "source": [
    "subject_frame[subject_frame.named_subject.notna()].to_pickle('named_subject.pkl')"
   ]
  },
  {
   "cell_type": "code",
   "execution_count": 190,
   "metadata": {},
   "outputs": [
    {
     "data": {
      "text/plain": [
       "16    2177\n",
       "15    1843\n",
       "14    1842\n",
       "13    1383\n",
       "17    1237\n",
       "12    1031\n",
       "18     835\n",
       "11     477\n",
       "6      380\n",
       "20     352\n",
       "23     308\n",
       "19     295\n",
       "21     262\n",
       "22     219\n",
       "7      214\n",
       "9      204\n",
       "25     199\n",
       "24     164\n",
       "10     148\n",
       "8      100\n",
       "26      91\n",
       "5       61\n",
       "28      52\n",
       "27      51\n",
       "4       38\n",
       "29      37\n",
       "31      35\n",
       "37      26\n",
       "35      19\n",
       "39      16\n",
       "34      13\n",
       "30      11\n",
       "36       9\n",
       "3        8\n",
       "51       7\n",
       "45       7\n",
       "32       6\n",
       "38       6\n",
       "33       3\n",
       "49       2\n",
       "Name: named_subject, dtype: int64"
      ]
     },
     "execution_count": 190,
     "metadata": {},
     "output_type": "execute_result"
    }
   ],
   "source": [
    "subject_frame[subject_frame.named_subject.notna()].named_subject.map(len).value_counts()"
   ]
  },
  {
   "cell_type": "markdown",
   "metadata": {},
   "source": [
    "how many resources does that correspond to:"
   ]
  },
  {
   "cell_type": "code",
   "execution_count": 191,
   "metadata": {},
   "outputs": [],
   "source": [
    "id_identified = subject_frame[subject_frame.named_subject.notna()].id.unique()"
   ]
  },
  {
   "cell_type": "code",
   "execution_count": 192,
   "metadata": {},
   "outputs": [
    {
     "data": {
      "text/html": [
       "<div>\n",
       "<style scoped>\n",
       "    .dataframe tbody tr th:only-of-type {\n",
       "        vertical-align: middle;\n",
       "    }\n",
       "\n",
       "    .dataframe tbody tr th {\n",
       "        vertical-align: top;\n",
       "    }\n",
       "\n",
       "    .dataframe thead th {\n",
       "        text-align: right;\n",
       "    }\n",
       "</style>\n",
       "<table border=\"1\" class=\"dataframe\">\n",
       "  <thead>\n",
       "    <tr style=\"text-align: right;\">\n",
       "      <th></th>\n",
       "      <th>descriptor</th>\n",
       "      <th>id</th>\n",
       "      <th>19e</th>\n",
       "      <th>Portraits</th>\n",
       "      <th>caricature</th>\n",
       "      <th>subject_name</th>\n",
       "      <th>named_subject</th>\n",
       "    </tr>\n",
       "  </thead>\n",
       "  <tbody>\n",
       "    <tr>\n",
       "      <th>0</th>\n",
       "      <td>Auguez, Mathilde (1868-1955) -- Portraits</td>\n",
       "      <td>https://gallica.bnf.fr/ark:/12148/btv1b53168872x</td>\n",
       "      <td>False</td>\n",
       "      <td>True</td>\n",
       "      <td>False</td>\n",
       "      <td>[Auguez, Mathilde]</td>\n",
       "      <td>Auguez, Mathilde</td>\n",
       "    </tr>\n",
       "    <tr>\n",
       "      <th>1</th>\n",
       "      <td>Portraits de studio -- 19e siècle</td>\n",
       "      <td>https://gallica.bnf.fr/ark:/12148/btv1b53168872x</td>\n",
       "      <td>True</td>\n",
       "      <td>True</td>\n",
       "      <td>False</td>\n",
       "      <td>[]</td>\n",
       "      <td>NaN</td>\n",
       "    </tr>\n",
       "    <tr>\n",
       "      <th>2</th>\n",
       "      <td>Auguez, Mathilde (1868-1955) -- Portraits</td>\n",
       "      <td>https://gallica.bnf.fr/ark:/12148/btv1b531688701</td>\n",
       "      <td>False</td>\n",
       "      <td>True</td>\n",
       "      <td>False</td>\n",
       "      <td>[Auguez, Mathilde]</td>\n",
       "      <td>Auguez, Mathilde</td>\n",
       "    </tr>\n",
       "    <tr>\n",
       "      <th>3</th>\n",
       "      <td>Portraits de studio -- 19e siècle</td>\n",
       "      <td>https://gallica.bnf.fr/ark:/12148/btv1b531688701</td>\n",
       "      <td>True</td>\n",
       "      <td>True</td>\n",
       "      <td>False</td>\n",
       "      <td>[]</td>\n",
       "      <td>NaN</td>\n",
       "    </tr>\n",
       "    <tr>\n",
       "      <th>4</th>\n",
       "      <td>Bruant, Aristide (1851-1925) -- Portraits</td>\n",
       "      <td>https://gallica.bnf.fr/ark:/12148/btv1b53171770j</td>\n",
       "      <td>False</td>\n",
       "      <td>True</td>\n",
       "      <td>False</td>\n",
       "      <td>[Bruant, Aristide]</td>\n",
       "      <td>Bruant, Aristide</td>\n",
       "    </tr>\n",
       "    <tr>\n",
       "      <th>...</th>\n",
       "      <td>...</td>\n",
       "      <td>...</td>\n",
       "      <td>...</td>\n",
       "      <td>...</td>\n",
       "      <td>...</td>\n",
       "      <td>...</td>\n",
       "      <td>...</td>\n",
       "    </tr>\n",
       "    <tr>\n",
       "      <th>23521</th>\n",
       "      <td>Portraits du théâtre -- 19e siècle</td>\n",
       "      <td>https://gallica.bnf.fr/ark:/12148/btv1b53080156t</td>\n",
       "      <td>True</td>\n",
       "      <td>True</td>\n",
       "      <td>False</td>\n",
       "      <td>[]</td>\n",
       "      <td>NaN</td>\n",
       "    </tr>\n",
       "    <tr>\n",
       "      <th>23523</th>\n",
       "      <td>Portraits du théâtre -- 19e siècle</td>\n",
       "      <td>https://gallica.bnf.fr/ark:/12148/btv1b53080295d</td>\n",
       "      <td>True</td>\n",
       "      <td>True</td>\n",
       "      <td>False</td>\n",
       "      <td>[]</td>\n",
       "      <td>NaN</td>\n",
       "    </tr>\n",
       "    <tr>\n",
       "      <th>23524</th>\n",
       "      <td>Portraits du théâtre -- 19e siècle</td>\n",
       "      <td>https://gallica.bnf.fr/ark:/12148/btv1b531878387</td>\n",
       "      <td>True</td>\n",
       "      <td>True</td>\n",
       "      <td>False</td>\n",
       "      <td>[]</td>\n",
       "      <td>NaN</td>\n",
       "    </tr>\n",
       "    <tr>\n",
       "      <th>23525</th>\n",
       "      <td>Portraits du théâtre -- 19e siècle</td>\n",
       "      <td>https://gallica.bnf.fr/ark:/12148/btv1b531271160</td>\n",
       "      <td>True</td>\n",
       "      <td>True</td>\n",
       "      <td>False</td>\n",
       "      <td>[]</td>\n",
       "      <td>NaN</td>\n",
       "    </tr>\n",
       "    <tr>\n",
       "      <th>23545</th>\n",
       "      <td>Portraits de studio -- 19e siècle</td>\n",
       "      <td>https://gallica.bnf.fr/ark:/12148/btv1b53129253c</td>\n",
       "      <td>True</td>\n",
       "      <td>True</td>\n",
       "      <td>False</td>\n",
       "      <td>[]</td>\n",
       "      <td>NaN</td>\n",
       "    </tr>\n",
       "  </tbody>\n",
       "</table>\n",
       "<p>39640 rows × 7 columns</p>\n",
       "</div>"
      ],
      "text/plain": [
       "                                      descriptor  \\\n",
       "0      Auguez, Mathilde (1868-1955) -- Portraits   \n",
       "1              Portraits de studio -- 19e siècle   \n",
       "2      Auguez, Mathilde (1868-1955) -- Portraits   \n",
       "3              Portraits de studio -- 19e siècle   \n",
       "4      Bruant, Aristide (1851-1925) -- Portraits   \n",
       "...                                          ...   \n",
       "23521         Portraits du théâtre -- 19e siècle   \n",
       "23523         Portraits du théâtre -- 19e siècle   \n",
       "23524         Portraits du théâtre -- 19e siècle   \n",
       "23525         Portraits du théâtre -- 19e siècle   \n",
       "23545          Portraits de studio -- 19e siècle   \n",
       "\n",
       "                                                     id    19e  Portraits  \\\n",
       "0      https://gallica.bnf.fr/ark:/12148/btv1b53168872x  False       True   \n",
       "1      https://gallica.bnf.fr/ark:/12148/btv1b53168872x   True       True   \n",
       "2      https://gallica.bnf.fr/ark:/12148/btv1b531688701  False       True   \n",
       "3      https://gallica.bnf.fr/ark:/12148/btv1b531688701   True       True   \n",
       "4      https://gallica.bnf.fr/ark:/12148/btv1b53171770j  False       True   \n",
       "...                                                 ...    ...        ...   \n",
       "23521  https://gallica.bnf.fr/ark:/12148/btv1b53080156t   True       True   \n",
       "23523  https://gallica.bnf.fr/ark:/12148/btv1b53080295d   True       True   \n",
       "23524  https://gallica.bnf.fr/ark:/12148/btv1b531878387   True       True   \n",
       "23525  https://gallica.bnf.fr/ark:/12148/btv1b531271160   True       True   \n",
       "23545  https://gallica.bnf.fr/ark:/12148/btv1b53129253c   True       True   \n",
       "\n",
       "       caricature        subject_name     named_subject  \n",
       "0           False  [Auguez, Mathilde]  Auguez, Mathilde  \n",
       "1           False                  []               NaN  \n",
       "2           False  [Auguez, Mathilde]  Auguez, Mathilde  \n",
       "3           False                  []               NaN  \n",
       "4           False  [Bruant, Aristide]  Bruant, Aristide  \n",
       "...           ...                 ...               ...  \n",
       "23521       False                  []               NaN  \n",
       "23523       False                  []               NaN  \n",
       "23524       False                  []               NaN  \n",
       "23525       False                  []               NaN  \n",
       "23545       False                  []               NaN  \n",
       "\n",
       "[39640 rows x 7 columns]"
      ]
     },
     "execution_count": 192,
     "metadata": {},
     "output_type": "execute_result"
    }
   ],
   "source": [
    "subject_frame"
   ]
  },
  {
   "cell_type": "code",
   "execution_count": 193,
   "metadata": {},
   "outputs": [
    {
     "data": {
      "text/plain": [
       "Nadar    50\n",
       "Luce     34\n",
       "Gyp       8\n",
       "Cham      3\n",
       "Baron     3\n",
       "Almée     3\n",
       "Aimée     2\n",
       "David     1\n",
       "Varin     1\n",
       "trios     1\n",
       "Stop      1\n",
       "Name: named_subject, dtype: int64"
      ]
     },
     "execution_count": 193,
     "metadata": {},
     "output_type": "execute_result"
    }
   ],
   "source": [
    "subject_frame.dropna()[ (subject_frame.named_subject.dropna().map(len) < 6)].named_subject.value_counts()"
   ]
  },
  {
   "cell_type": "code",
   "execution_count": 209,
   "metadata": {},
   "outputs": [
    {
     "data": {
      "text/html": [
       "<div>\n",
       "<style scoped>\n",
       "    .dataframe tbody tr th:only-of-type {\n",
       "        vertical-align: middle;\n",
       "    }\n",
       "\n",
       "    .dataframe tbody tr th {\n",
       "        vertical-align: top;\n",
       "    }\n",
       "\n",
       "    .dataframe thead th {\n",
       "        text-align: right;\n",
       "    }\n",
       "</style>\n",
       "<table border=\"1\" class=\"dataframe\">\n",
       "  <thead>\n",
       "    <tr style=\"text-align: right;\">\n",
       "      <th></th>\n",
       "      <th>descriptor</th>\n",
       "      <th>id</th>\n",
       "      <th>19e</th>\n",
       "      <th>Portraits</th>\n",
       "      <th>caricature</th>\n",
       "      <th>subject_name</th>\n",
       "      <th>named_subject</th>\n",
       "    </tr>\n",
       "  </thead>\n",
       "  <tbody>\n",
       "    <tr>\n",
       "      <th>1799</th>\n",
       "      <td>Luce (18..-19.. ; actrice) -- Portraits</td>\n",
       "      <td>https://gallica.bnf.fr/ark:/12148/btv1b53081502t</td>\n",
       "      <td>False</td>\n",
       "      <td>True</td>\n",
       "      <td>False</td>\n",
       "      <td>[Luce]</td>\n",
       "      <td>Luce</td>\n",
       "    </tr>\n",
       "    <tr>\n",
       "      <th>2523</th>\n",
       "      <td>Luce (18..-19.. ; actrice) -- Portraits</td>\n",
       "      <td>https://gallica.bnf.fr/ark:/12148/btv1b53081501c</td>\n",
       "      <td>False</td>\n",
       "      <td>True</td>\n",
       "      <td>False</td>\n",
       "      <td>[Luce]</td>\n",
       "      <td>Luce</td>\n",
       "    </tr>\n",
       "    <tr>\n",
       "      <th>2561</th>\n",
       "      <td>Luce (18..-19.. ; actrice) -- Portraits</td>\n",
       "      <td>https://gallica.bnf.fr/ark:/12148/btv1b53081506m</td>\n",
       "      <td>False</td>\n",
       "      <td>True</td>\n",
       "      <td>False</td>\n",
       "      <td>[Luce]</td>\n",
       "      <td>Luce</td>\n",
       "    </tr>\n",
       "    <tr>\n",
       "      <th>2755</th>\n",
       "      <td>Luce (18..-19.. ; actrice) -- Portraits</td>\n",
       "      <td>https://gallica.bnf.fr/ark:/12148/btv1b53081509z</td>\n",
       "      <td>False</td>\n",
       "      <td>True</td>\n",
       "      <td>False</td>\n",
       "      <td>[Luce]</td>\n",
       "      <td>Luce</td>\n",
       "    </tr>\n",
       "    <tr>\n",
       "      <th>3290</th>\n",
       "      <td>Luce (18..-19.. ; actrice) -- Portraits</td>\n",
       "      <td>https://gallica.bnf.fr/ark:/12148/btv1b530815144</td>\n",
       "      <td>False</td>\n",
       "      <td>True</td>\n",
       "      <td>False</td>\n",
       "      <td>[Luce]</td>\n",
       "      <td>Luce</td>\n",
       "    </tr>\n",
       "    <tr>\n",
       "      <th>3799</th>\n",
       "      <td>Luce (18..-19.. ; actrice) -- Portraits</td>\n",
       "      <td>https://gallica.bnf.fr/ark:/12148/btv1b530815055</td>\n",
       "      <td>False</td>\n",
       "      <td>True</td>\n",
       "      <td>False</td>\n",
       "      <td>[Luce]</td>\n",
       "      <td>Luce</td>\n",
       "    </tr>\n",
       "    <tr>\n",
       "      <th>3869</th>\n",
       "      <td>Luce (18..-19.. ; actrice) -- Portraits</td>\n",
       "      <td>https://gallica.bnf.fr/ark:/12148/btv1b53081504q</td>\n",
       "      <td>False</td>\n",
       "      <td>True</td>\n",
       "      <td>False</td>\n",
       "      <td>[Luce]</td>\n",
       "      <td>Luce</td>\n",
       "    </tr>\n",
       "    <tr>\n",
       "      <th>3885</th>\n",
       "      <td>Luce (18..-19.. ; actrice) -- Portraits</td>\n",
       "      <td>https://gallica.bnf.fr/ark:/12148/btv1b530815161</td>\n",
       "      <td>False</td>\n",
       "      <td>True</td>\n",
       "      <td>False</td>\n",
       "      <td>[Luce]</td>\n",
       "      <td>Luce</td>\n",
       "    </tr>\n",
       "    <tr>\n",
       "      <th>4561</th>\n",
       "      <td>Luce (18..-19.. ; actrice) -- Portraits</td>\n",
       "      <td>https://gallica.bnf.fr/ark:/12148/btv1b53081515k</td>\n",
       "      <td>False</td>\n",
       "      <td>True</td>\n",
       "      <td>False</td>\n",
       "      <td>[Luce]</td>\n",
       "      <td>Luce</td>\n",
       "    </tr>\n",
       "    <tr>\n",
       "      <th>4583</th>\n",
       "      <td>Luce (18..-19.. ; actrice) -- Portraits</td>\n",
       "      <td>https://gallica.bnf.fr/ark:/12148/btv1b53081510b</td>\n",
       "      <td>False</td>\n",
       "      <td>True</td>\n",
       "      <td>False</td>\n",
       "      <td>[Luce]</td>\n",
       "      <td>Luce</td>\n",
       "    </tr>\n",
       "    <tr>\n",
       "      <th>4675</th>\n",
       "      <td>Luce (18..-19.. ; actrice) -- Portraits</td>\n",
       "      <td>https://gallica.bnf.fr/ark:/12148/btv1b53081511s</td>\n",
       "      <td>False</td>\n",
       "      <td>True</td>\n",
       "      <td>False</td>\n",
       "      <td>[Luce]</td>\n",
       "      <td>Luce</td>\n",
       "    </tr>\n",
       "    <tr>\n",
       "      <th>4821</th>\n",
       "      <td>Luce (18..-19.. ; actrice) -- Portraits</td>\n",
       "      <td>https://gallica.bnf.fr/ark:/12148/btv1b53133104m</td>\n",
       "      <td>False</td>\n",
       "      <td>True</td>\n",
       "      <td>False</td>\n",
       "      <td>[Luce]</td>\n",
       "      <td>Luce</td>\n",
       "    </tr>\n",
       "    <tr>\n",
       "      <th>5485</th>\n",
       "      <td>Luce (18..-19.. ; actrice) -- Portraits</td>\n",
       "      <td>https://gallica.bnf.fr/ark:/12148/btv1b53133098r</td>\n",
       "      <td>False</td>\n",
       "      <td>True</td>\n",
       "      <td>False</td>\n",
       "      <td>[Luce]</td>\n",
       "      <td>Luce</td>\n",
       "    </tr>\n",
       "    <tr>\n",
       "      <th>5489</th>\n",
       "      <td>Luce (18..-19.. ; actrice) -- Portraits</td>\n",
       "      <td>https://gallica.bnf.fr/ark:/12148/btv1b53133095d</td>\n",
       "      <td>False</td>\n",
       "      <td>True</td>\n",
       "      <td>False</td>\n",
       "      <td>[Luce]</td>\n",
       "      <td>Luce</td>\n",
       "    </tr>\n",
       "    <tr>\n",
       "      <th>5495</th>\n",
       "      <td>Luce (18..-19.. ; actrice) -- Portraits</td>\n",
       "      <td>https://gallica.bnf.fr/ark:/12148/btv1b53133100t</td>\n",
       "      <td>False</td>\n",
       "      <td>True</td>\n",
       "      <td>False</td>\n",
       "      <td>[Luce]</td>\n",
       "      <td>Luce</td>\n",
       "    </tr>\n",
       "    <tr>\n",
       "      <th>5499</th>\n",
       "      <td>Luce (18..-19.. ; actrice) -- Portraits</td>\n",
       "      <td>https://gallica.bnf.fr/ark:/12148/btv1b531330996</td>\n",
       "      <td>False</td>\n",
       "      <td>True</td>\n",
       "      <td>False</td>\n",
       "      <td>[Luce]</td>\n",
       "      <td>Luce</td>\n",
       "    </tr>\n",
       "    <tr>\n",
       "      <th>9109</th>\n",
       "      <td>Luce (18..-19.. ; actrice) -- Portraits</td>\n",
       "      <td>https://gallica.bnf.fr/ark:/12148/btv1b530815038</td>\n",
       "      <td>False</td>\n",
       "      <td>True</td>\n",
       "      <td>False</td>\n",
       "      <td>[Luce]</td>\n",
       "      <td>Luce</td>\n",
       "    </tr>\n",
       "    <tr>\n",
       "      <th>9798</th>\n",
       "      <td>Luce (18..-19.. ; actrice) -- Portraits</td>\n",
       "      <td>https://gallica.bnf.fr/ark:/12148/btv1b53081508h</td>\n",
       "      <td>False</td>\n",
       "      <td>True</td>\n",
       "      <td>False</td>\n",
       "      <td>[Luce]</td>\n",
       "      <td>Luce</td>\n",
       "    </tr>\n",
       "    <tr>\n",
       "      <th>10362</th>\n",
       "      <td>Luce (18..-19.. ; actrice) -- Portraits</td>\n",
       "      <td>https://gallica.bnf.fr/ark:/12148/btv1b53081513p</td>\n",
       "      <td>False</td>\n",
       "      <td>True</td>\n",
       "      <td>False</td>\n",
       "      <td>[Luce]</td>\n",
       "      <td>Luce</td>\n",
       "    </tr>\n",
       "    <tr>\n",
       "      <th>11350</th>\n",
       "      <td>Luce (18..-19.. ; actrice) -- Portraits</td>\n",
       "      <td>https://gallica.bnf.fr/ark:/12148/btv1b531331052</td>\n",
       "      <td>False</td>\n",
       "      <td>True</td>\n",
       "      <td>False</td>\n",
       "      <td>[Luce]</td>\n",
       "      <td>Luce</td>\n",
       "    </tr>\n",
       "    <tr>\n",
       "      <th>11354</th>\n",
       "      <td>Luce (18..-19.. ; actrice) -- Portraits</td>\n",
       "      <td>https://gallica.bnf.fr/ark:/12148/btv1b531331035</td>\n",
       "      <td>False</td>\n",
       "      <td>True</td>\n",
       "      <td>False</td>\n",
       "      <td>[Luce]</td>\n",
       "      <td>Luce</td>\n",
       "    </tr>\n",
       "    <tr>\n",
       "      <th>11860</th>\n",
       "      <td>Luce (18..-19.. ; actrice) -- Portraits</td>\n",
       "      <td>https://gallica.bnf.fr/ark:/12148/btv1b53133096v</td>\n",
       "      <td>False</td>\n",
       "      <td>True</td>\n",
       "      <td>False</td>\n",
       "      <td>[Luce]</td>\n",
       "      <td>Luce</td>\n",
       "    </tr>\n",
       "    <tr>\n",
       "      <th>15629</th>\n",
       "      <td>Luce (18..-19.. ; actrice) -- Portraits</td>\n",
       "      <td>https://gallica.bnf.fr/ark:/12148/btv1b53081517g</td>\n",
       "      <td>False</td>\n",
       "      <td>True</td>\n",
       "      <td>False</td>\n",
       "      <td>[Luce]</td>\n",
       "      <td>Luce</td>\n",
       "    </tr>\n",
       "    <tr>\n",
       "      <th>16481</th>\n",
       "      <td>Luce (18..-19.. ; actrice) -- Portraits</td>\n",
       "      <td>https://gallica.bnf.fr/ark:/12148/btv1b530815127</td>\n",
       "      <td>False</td>\n",
       "      <td>True</td>\n",
       "      <td>False</td>\n",
       "      <td>[Luce]</td>\n",
       "      <td>Luce</td>\n",
       "    </tr>\n",
       "    <tr>\n",
       "      <th>17864</th>\n",
       "      <td>Luce (18..-19.. ; actrice) -- Portraits</td>\n",
       "      <td>https://gallica.bnf.fr/ark:/12148/btv1b531331018</td>\n",
       "      <td>False</td>\n",
       "      <td>True</td>\n",
       "      <td>False</td>\n",
       "      <td>[Luce]</td>\n",
       "      <td>Luce</td>\n",
       "    </tr>\n",
       "    <tr>\n",
       "      <th>17866</th>\n",
       "      <td>Luce (18..-19.. ; actrice) -- Portraits</td>\n",
       "      <td>https://gallica.bnf.fr/ark:/12148/btv1b53133094z</td>\n",
       "      <td>False</td>\n",
       "      <td>True</td>\n",
       "      <td>False</td>\n",
       "      <td>[Luce]</td>\n",
       "      <td>Luce</td>\n",
       "    </tr>\n",
       "    <tr>\n",
       "      <th>22133</th>\n",
       "      <td>Luce (18..-19.. ; actrice) -- Portraits</td>\n",
       "      <td>https://gallica.bnf.fr/ark:/12148/btv1b530815072</td>\n",
       "      <td>False</td>\n",
       "      <td>True</td>\n",
       "      <td>False</td>\n",
       "      <td>[Luce]</td>\n",
       "      <td>Luce</td>\n",
       "    </tr>\n",
       "    <tr>\n",
       "      <th>22886</th>\n",
       "      <td>Luce (18..-19.. ; actrice) -- Portraits</td>\n",
       "      <td>https://gallica.bnf.fr/ark:/12148/btv1b53133093h</td>\n",
       "      <td>False</td>\n",
       "      <td>True</td>\n",
       "      <td>False</td>\n",
       "      <td>[Luce]</td>\n",
       "      <td>Luce</td>\n",
       "    </tr>\n",
       "    <tr>\n",
       "      <th>23890</th>\n",
       "      <td>Luce (18..-19.. ; actrice) -- Portraits</td>\n",
       "      <td>https://gallica.bnf.fr/ark:/12148/btv1b53133102q</td>\n",
       "      <td>False</td>\n",
       "      <td>True</td>\n",
       "      <td>False</td>\n",
       "      <td>[Luce]</td>\n",
       "      <td>Luce</td>\n",
       "    </tr>\n",
       "    <tr>\n",
       "      <th>24292</th>\n",
       "      <td>Luce (18..-19.. ; actrice) -- Portraits</td>\n",
       "      <td>https://gallica.bnf.fr/ark:/12148/btv1b531330979</td>\n",
       "      <td>False</td>\n",
       "      <td>True</td>\n",
       "      <td>False</td>\n",
       "      <td>[Luce]</td>\n",
       "      <td>Luce</td>\n",
       "    </tr>\n",
       "    <tr>\n",
       "      <th>26900</th>\n",
       "      <td>Luce (18..-19.. ; actrice) -- Portraits</td>\n",
       "      <td>https://gallica.bnf.fr/ark:/12148/btv1b531447033</td>\n",
       "      <td>False</td>\n",
       "      <td>True</td>\n",
       "      <td>False</td>\n",
       "      <td>[Luce]</td>\n",
       "      <td>Luce</td>\n",
       "    </tr>\n",
       "    <tr>\n",
       "      <th>26910</th>\n",
       "      <td>Luce (18..-19.. ; actrice) -- Portraits</td>\n",
       "      <td>https://gallica.bnf.fr/ark:/12148/btv1b53144704j</td>\n",
       "      <td>False</td>\n",
       "      <td>True</td>\n",
       "      <td>False</td>\n",
       "      <td>[Luce]</td>\n",
       "      <td>Luce</td>\n",
       "    </tr>\n",
       "    <tr>\n",
       "      <th>27404</th>\n",
       "      <td>Luce (18..-19.. ; actrice) -- Portraits</td>\n",
       "      <td>https://gallica.bnf.fr/ark:/12148/btv1b531446223</td>\n",
       "      <td>False</td>\n",
       "      <td>True</td>\n",
       "      <td>False</td>\n",
       "      <td>[Luce]</td>\n",
       "      <td>Luce</td>\n",
       "    </tr>\n",
       "    <tr>\n",
       "      <th>27409</th>\n",
       "      <td>Luce (18..-19.. ; actrice) -- Portraits</td>\n",
       "      <td>https://gallica.bnf.fr/ark:/12148/btv1b53144623j</td>\n",
       "      <td>False</td>\n",
       "      <td>True</td>\n",
       "      <td>False</td>\n",
       "      <td>[Luce]</td>\n",
       "      <td>Luce</td>\n",
       "    </tr>\n",
       "  </tbody>\n",
       "</table>\n",
       "</div>"
      ],
      "text/plain": [
       "                                    descriptor  \\\n",
       "1799   Luce (18..-19.. ; actrice) -- Portraits   \n",
       "2523   Luce (18..-19.. ; actrice) -- Portraits   \n",
       "2561   Luce (18..-19.. ; actrice) -- Portraits   \n",
       "2755   Luce (18..-19.. ; actrice) -- Portraits   \n",
       "3290   Luce (18..-19.. ; actrice) -- Portraits   \n",
       "3799   Luce (18..-19.. ; actrice) -- Portraits   \n",
       "3869   Luce (18..-19.. ; actrice) -- Portraits   \n",
       "3885   Luce (18..-19.. ; actrice) -- Portraits   \n",
       "4561   Luce (18..-19.. ; actrice) -- Portraits   \n",
       "4583   Luce (18..-19.. ; actrice) -- Portraits   \n",
       "4675   Luce (18..-19.. ; actrice) -- Portraits   \n",
       "4821   Luce (18..-19.. ; actrice) -- Portraits   \n",
       "5485   Luce (18..-19.. ; actrice) -- Portraits   \n",
       "5489   Luce (18..-19.. ; actrice) -- Portraits   \n",
       "5495   Luce (18..-19.. ; actrice) -- Portraits   \n",
       "5499   Luce (18..-19.. ; actrice) -- Portraits   \n",
       "9109   Luce (18..-19.. ; actrice) -- Portraits   \n",
       "9798   Luce (18..-19.. ; actrice) -- Portraits   \n",
       "10362  Luce (18..-19.. ; actrice) -- Portraits   \n",
       "11350  Luce (18..-19.. ; actrice) -- Portraits   \n",
       "11354  Luce (18..-19.. ; actrice) -- Portraits   \n",
       "11860  Luce (18..-19.. ; actrice) -- Portraits   \n",
       "15629  Luce (18..-19.. ; actrice) -- Portraits   \n",
       "16481  Luce (18..-19.. ; actrice) -- Portraits   \n",
       "17864  Luce (18..-19.. ; actrice) -- Portraits   \n",
       "17866  Luce (18..-19.. ; actrice) -- Portraits   \n",
       "22133  Luce (18..-19.. ; actrice) -- Portraits   \n",
       "22886  Luce (18..-19.. ; actrice) -- Portraits   \n",
       "23890  Luce (18..-19.. ; actrice) -- Portraits   \n",
       "24292  Luce (18..-19.. ; actrice) -- Portraits   \n",
       "26900  Luce (18..-19.. ; actrice) -- Portraits   \n",
       "26910  Luce (18..-19.. ; actrice) -- Portraits   \n",
       "27404  Luce (18..-19.. ; actrice) -- Portraits   \n",
       "27409  Luce (18..-19.. ; actrice) -- Portraits   \n",
       "\n",
       "                                                     id    19e  Portraits  \\\n",
       "1799   https://gallica.bnf.fr/ark:/12148/btv1b53081502t  False       True   \n",
       "2523   https://gallica.bnf.fr/ark:/12148/btv1b53081501c  False       True   \n",
       "2561   https://gallica.bnf.fr/ark:/12148/btv1b53081506m  False       True   \n",
       "2755   https://gallica.bnf.fr/ark:/12148/btv1b53081509z  False       True   \n",
       "3290   https://gallica.bnf.fr/ark:/12148/btv1b530815144  False       True   \n",
       "3799   https://gallica.bnf.fr/ark:/12148/btv1b530815055  False       True   \n",
       "3869   https://gallica.bnf.fr/ark:/12148/btv1b53081504q  False       True   \n",
       "3885   https://gallica.bnf.fr/ark:/12148/btv1b530815161  False       True   \n",
       "4561   https://gallica.bnf.fr/ark:/12148/btv1b53081515k  False       True   \n",
       "4583   https://gallica.bnf.fr/ark:/12148/btv1b53081510b  False       True   \n",
       "4675   https://gallica.bnf.fr/ark:/12148/btv1b53081511s  False       True   \n",
       "4821   https://gallica.bnf.fr/ark:/12148/btv1b53133104m  False       True   \n",
       "5485   https://gallica.bnf.fr/ark:/12148/btv1b53133098r  False       True   \n",
       "5489   https://gallica.bnf.fr/ark:/12148/btv1b53133095d  False       True   \n",
       "5495   https://gallica.bnf.fr/ark:/12148/btv1b53133100t  False       True   \n",
       "5499   https://gallica.bnf.fr/ark:/12148/btv1b531330996  False       True   \n",
       "9109   https://gallica.bnf.fr/ark:/12148/btv1b530815038  False       True   \n",
       "9798   https://gallica.bnf.fr/ark:/12148/btv1b53081508h  False       True   \n",
       "10362  https://gallica.bnf.fr/ark:/12148/btv1b53081513p  False       True   \n",
       "11350  https://gallica.bnf.fr/ark:/12148/btv1b531331052  False       True   \n",
       "11354  https://gallica.bnf.fr/ark:/12148/btv1b531331035  False       True   \n",
       "11860  https://gallica.bnf.fr/ark:/12148/btv1b53133096v  False       True   \n",
       "15629  https://gallica.bnf.fr/ark:/12148/btv1b53081517g  False       True   \n",
       "16481  https://gallica.bnf.fr/ark:/12148/btv1b530815127  False       True   \n",
       "17864  https://gallica.bnf.fr/ark:/12148/btv1b531331018  False       True   \n",
       "17866  https://gallica.bnf.fr/ark:/12148/btv1b53133094z  False       True   \n",
       "22133  https://gallica.bnf.fr/ark:/12148/btv1b530815072  False       True   \n",
       "22886  https://gallica.bnf.fr/ark:/12148/btv1b53133093h  False       True   \n",
       "23890  https://gallica.bnf.fr/ark:/12148/btv1b53133102q  False       True   \n",
       "24292  https://gallica.bnf.fr/ark:/12148/btv1b531330979  False       True   \n",
       "26900  https://gallica.bnf.fr/ark:/12148/btv1b531447033  False       True   \n",
       "26910  https://gallica.bnf.fr/ark:/12148/btv1b53144704j  False       True   \n",
       "27404  https://gallica.bnf.fr/ark:/12148/btv1b531446223  False       True   \n",
       "27409  https://gallica.bnf.fr/ark:/12148/btv1b53144623j  False       True   \n",
       "\n",
       "       caricature subject_name named_subject  \n",
       "1799        False       [Luce]          Luce  \n",
       "2523        False       [Luce]          Luce  \n",
       "2561        False       [Luce]          Luce  \n",
       "2755        False       [Luce]          Luce  \n",
       "3290        False       [Luce]          Luce  \n",
       "3799        False       [Luce]          Luce  \n",
       "3869        False       [Luce]          Luce  \n",
       "3885        False       [Luce]          Luce  \n",
       "4561        False       [Luce]          Luce  \n",
       "4583        False       [Luce]          Luce  \n",
       "4675        False       [Luce]          Luce  \n",
       "4821        False       [Luce]          Luce  \n",
       "5485        False       [Luce]          Luce  \n",
       "5489        False       [Luce]          Luce  \n",
       "5495        False       [Luce]          Luce  \n",
       "5499        False       [Luce]          Luce  \n",
       "9109        False       [Luce]          Luce  \n",
       "9798        False       [Luce]          Luce  \n",
       "10362       False       [Luce]          Luce  \n",
       "11350       False       [Luce]          Luce  \n",
       "11354       False       [Luce]          Luce  \n",
       "11860       False       [Luce]          Luce  \n",
       "15629       False       [Luce]          Luce  \n",
       "16481       False       [Luce]          Luce  \n",
       "17864       False       [Luce]          Luce  \n",
       "17866       False       [Luce]          Luce  \n",
       "22133       False       [Luce]          Luce  \n",
       "22886       False       [Luce]          Luce  \n",
       "23890       False       [Luce]          Luce  \n",
       "24292       False       [Luce]          Luce  \n",
       "26900       False       [Luce]          Luce  \n",
       "26910       False       [Luce]          Luce  \n",
       "27404       False       [Luce]          Luce  \n",
       "27409       False       [Luce]          Luce  "
      ]
     },
     "execution_count": 209,
     "metadata": {},
     "output_type": "execute_result"
    }
   ],
   "source": [
    "subject_frame[subject_frame.named_subject == 'Luce']"
   ]
  },
  {
   "cell_type": "markdown",
   "metadata": {},
   "source": [
    "# about half of the images belong to known person"
   ]
  },
  {
   "cell_type": "code",
   "execution_count": 61,
   "metadata": {},
   "outputs": [
    {
     "data": {
      "text/plain": [
       "13386"
      ]
     },
     "execution_count": 61,
     "metadata": {},
     "output_type": "execute_result"
    }
   ],
   "source": [
    "subject_frame[subject_frame.named_subject.notna()].id.unique().__len__()"
   ]
  },
  {
   "cell_type": "code",
   "execution_count": 62,
   "metadata": {},
   "outputs": [
    {
     "data": {
      "text/plain": [
       "23546"
      ]
     },
     "execution_count": 62,
     "metadata": {},
     "output_type": "execute_result"
    }
   ],
   "source": [
    "len(set(subject_frame.id.unique())) # nbr unique ids"
   ]
  },
  {
   "cell_type": "markdown",
   "metadata": {},
   "source": [
    "a lot of them don't tell us the name in the source, but it can be found in the title"
   ]
  },
  {
   "cell_type": "code",
   "execution_count": 63,
   "metadata": {},
   "outputs": [
    {
     "data": {
      "text/plain": [
       "10160"
      ]
     },
     "execution_count": 63,
     "metadata": {},
     "output_type": "execute_result"
    }
   ],
   "source": [
    "len(set(subject_frame.id.unique()).difference(set(id_identified)))"
   ]
  },
  {
   "cell_type": "code",
   "execution_count": 64,
   "metadata": {},
   "outputs": [
    {
     "data": {
      "text/plain": [
       "Portraits du théâtre -- 19e siècle    6138\n",
       "Portraits de studio -- 19e siècle     2513\n",
       "Portraits -- 19e siècle               1282\n",
       "Scènes théâtrales -- 19e siècle        218\n",
       "Portraits collectifs -- 19e siècle     214\n",
       "Costumes -- 19e siècle                  79\n",
       "Danseuses                               67\n",
       "Lanvin (Maison de couture)              67\n",
       "Enfants                                 55\n",
       "Tournée Brasseur                        44\n",
       "Name: descriptor, dtype: int64"
      ]
     },
     "execution_count": 64,
     "metadata": {},
     "output_type": "execute_result"
    }
   ],
   "source": [
    "subject_frame[~subject_frame.id.isin(named_subjects)].descriptor.value_counts().head(10)"
   ]
  },
  {
   "cell_type": "code",
   "execution_count": 65,
   "metadata": {},
   "outputs": [
    {
     "data": {
      "text/plain": [
       "Scènes théâtrales -- 19e siècle                     111\n",
       "Représentations d'objet -- 19e siècle                17\n",
       "Représentations animalières -- 19e siècle            12\n",
       "Tableaux vivants et mises en scène -- 19e siècle     10\n",
       "Tournée Brasseur                                      8\n",
       "Name: descriptor, dtype: int64"
      ]
     },
     "execution_count": 65,
     "metadata": {},
     "output_type": "execute_result"
    }
   ],
   "source": [
    "subject_frame[~subject_frame.id.isin(portrait_ids) & ~subject_frame.id.isin(named_subjects)].descriptor.value_counts().head()"
   ]
  },
  {
   "cell_type": "code",
   "execution_count": 66,
   "metadata": {},
   "outputs": [
    {
     "data": {
      "text/html": [
       "<div>\n",
       "<style scoped>\n",
       "    .dataframe tbody tr th:only-of-type {\n",
       "        vertical-align: middle;\n",
       "    }\n",
       "\n",
       "    .dataframe tbody tr th {\n",
       "        vertical-align: top;\n",
       "    }\n",
       "\n",
       "    .dataframe thead th {\n",
       "        text-align: right;\n",
       "    }\n",
       "</style>\n",
       "<table border=\"1\" class=\"dataframe\">\n",
       "  <thead>\n",
       "    <tr style=\"text-align: right;\">\n",
       "      <th></th>\n",
       "      <th>descriptor</th>\n",
       "      <th>id</th>\n",
       "      <th>19e</th>\n",
       "      <th>Portraits</th>\n",
       "      <th>caricature</th>\n",
       "      <th>subject_name</th>\n",
       "      <th>named_subject</th>\n",
       "    </tr>\n",
       "  </thead>\n",
       "  <tbody>\n",
       "    <tr>\n",
       "      <th>98</th>\n",
       "      <td>Offenbach, Jacques (1819-1880) -- Caricatures ...</td>\n",
       "      <td>https://gallica.bnf.fr/ark:/12148/btv1b53065466g</td>\n",
       "      <td>False</td>\n",
       "      <td>False</td>\n",
       "      <td>True</td>\n",
       "      <td>[Offenbach, Jacques]</td>\n",
       "      <td>Offenbach, Jacques</td>\n",
       "    </tr>\n",
       "    <tr>\n",
       "      <th>99</th>\n",
       "      <td>Caricatures et dessins humoristiques -- 19e si...</td>\n",
       "      <td>https://gallica.bnf.fr/ark:/12148/btv1b53065466g</td>\n",
       "      <td>True</td>\n",
       "      <td>False</td>\n",
       "      <td>True</td>\n",
       "      <td>[]</td>\n",
       "      <td>NaN</td>\n",
       "    </tr>\n",
       "    <tr>\n",
       "      <th>186</th>\n",
       "      <td>Clairville (1811-1879) -- Caricatures et dessi...</td>\n",
       "      <td>https://gallica.bnf.fr/ark:/12148/btv1b53066427m</td>\n",
       "      <td>False</td>\n",
       "      <td>False</td>\n",
       "      <td>True</td>\n",
       "      <td>[Clairville]</td>\n",
       "      <td>Clairville</td>\n",
       "    </tr>\n",
       "    <tr>\n",
       "      <th>187</th>\n",
       "      <td>Caricatures et dessins humoristiques -- 19e si...</td>\n",
       "      <td>https://gallica.bnf.fr/ark:/12148/btv1b53066427m</td>\n",
       "      <td>True</td>\n",
       "      <td>False</td>\n",
       "      <td>True</td>\n",
       "      <td>[]</td>\n",
       "      <td>NaN</td>\n",
       "    </tr>\n",
       "    <tr>\n",
       "      <th>194</th>\n",
       "      <td>Crémieux, Adolphe (1796-1880) -- Caricatures e...</td>\n",
       "      <td>https://gallica.bnf.fr/ark:/12148/btv1b53065960p</td>\n",
       "      <td>False</td>\n",
       "      <td>False</td>\n",
       "      <td>True</td>\n",
       "      <td>[Crémieux, Adolphe]</td>\n",
       "      <td>Crémieux, Adolphe</td>\n",
       "    </tr>\n",
       "  </tbody>\n",
       "</table>\n",
       "</div>"
      ],
      "text/plain": [
       "                                            descriptor  \\\n",
       "98   Offenbach, Jacques (1819-1880) -- Caricatures ...   \n",
       "99   Caricatures et dessins humoristiques -- 19e si...   \n",
       "186  Clairville (1811-1879) -- Caricatures et dessi...   \n",
       "187  Caricatures et dessins humoristiques -- 19e si...   \n",
       "194  Crémieux, Adolphe (1796-1880) -- Caricatures e...   \n",
       "\n",
       "                                                   id    19e  Portraits  \\\n",
       "98   https://gallica.bnf.fr/ark:/12148/btv1b53065466g  False      False   \n",
       "99   https://gallica.bnf.fr/ark:/12148/btv1b53065466g   True      False   \n",
       "186  https://gallica.bnf.fr/ark:/12148/btv1b53066427m  False      False   \n",
       "187  https://gallica.bnf.fr/ark:/12148/btv1b53066427m   True      False   \n",
       "194  https://gallica.bnf.fr/ark:/12148/btv1b53065960p  False      False   \n",
       "\n",
       "     caricature          subject_name       named_subject  \n",
       "98         True  [Offenbach, Jacques]  Offenbach, Jacques  \n",
       "99         True                    []                 NaN  \n",
       "186        True          [Clairville]          Clairville  \n",
       "187        True                    []                 NaN  \n",
       "194        True   [Crémieux, Adolphe]   Crémieux, Adolphe  "
      ]
     },
     "execution_count": 66,
     "metadata": {},
     "output_type": "execute_result"
    }
   ],
   "source": [
    "subject_frame[~subject_frame.id.isin(portrait_ids)].head()"
   ]
  },
  {
   "cell_type": "code",
   "execution_count": 67,
   "metadata": {},
   "outputs": [
    {
     "data": {
      "text/plain": [
       "1    23514\n",
       "2       32\n",
       "Name: dc:title, dtype: int64"
      ]
     },
     "execution_count": 67,
     "metadata": {},
     "output_type": "execute_result"
    }
   ],
   "source": [
    "df['dc:title'].map(lambda x: len(x) if type(x) == list else 1).value_counts()"
   ]
  },
  {
   "cell_type": "code",
   "execution_count": 68,
   "metadata": {},
   "outputs": [],
   "source": [
    "df['nbr_title'] = df['dc:title'].map(lambda x: len(x) if type(x) == list else 1)"
   ]
  },
  {
   "cell_type": "code",
   "execution_count": 69,
   "metadata": {},
   "outputs": [
    {
     "data": {
      "text/plain": [
       "['Marx : [photographie, tirage de démonstration] / [Atelier Nadar]',\n",
       " 'Me Dezoder : [photographie, tirage de démonstration] / [Atelier Nadar]',\n",
       " 'Mary Suzanne : [photographie, tirage de démonstration] / [Atelier Nadar]',\n",
       " 'Me Darvilly : [photographie, tirage de démonstration] / [Atelier Nadar]',\n",
       " 'M. Simon Max. (Folies dramatiques) : [photographie, tirage de démonstration] / [Atelier Nadar]',\n",
       " 'Mme Bourdelot. Cavaliéra [i.e. Cavalleria] rusticana : [photographie, tirage de démonstration] / [Atelier Nadar]',\n",
       " 'M. Hervé : [photographie, tirage de démonstration] / [Atelier Nadar]',\n",
       " 'Monod. Pasteur : [photographie, tirage de démonstration] / [Atelier Nadar]',\n",
       " 'Planel. Violoniste : [photographie, tirage de démonstration] / [Atelier Nadar]',\n",
       " 'Peyra : [photographie, tirage de démonstration] / [Atelier Nadar]']"
      ]
     },
     "execution_count": 69,
     "metadata": {},
     "output_type": "execute_result"
    }
   ],
   "source": [
    "df[df.nbr_title == 1]['dc:title'].sample(10).tolist()"
   ]
  },
  {
   "cell_type": "code",
   "execution_count": 70,
   "metadata": {},
   "outputs": [],
   "source": [
    "def find_names_title(name):\n",
    "    return [x.strip() for x in re.findall('([\\S\\s ^(\\:)]*) \\: ', name) if len(x.strip()) > 0]"
   ]
  },
  {
   "cell_type": "code",
   "execution_count": 71,
   "metadata": {},
   "outputs": [],
   "source": [
    "def extract_from_brackets(name):\n",
    "    return re.findall('\\[([\\w \\-\\,\\.]*)\\]', name)"
   ]
  },
  {
   "cell_type": "code",
   "execution_count": 72,
   "metadata": {},
   "outputs": [],
   "source": [
    "def fix_bad_naming(name):\n",
    "    return re.sub('[\\[\\]]*', '', name)"
   ]
  },
  {
   "cell_type": "code",
   "execution_count": 73,
   "metadata": {},
   "outputs": [],
   "source": [
    "text_1 = 'Huguet. Folies-Dramatiques. La petite fronde : [photographie, tirage de démonstration] / [Atelier Nadar]'"
   ]
  },
  {
   "cell_type": "code",
   "execution_count": 74,
   "metadata": {},
   "outputs": [],
   "source": [
    "text_2 = 'Armand.[lol] Châtelet : [photographie :,'"
   ]
  },
  {
   "cell_type": "code",
   "execution_count": 75,
   "metadata": {},
   "outputs": [
    {
     "data": {
      "text/plain": [
       "'Armand.lol Châtelet : photographie :,'"
      ]
     },
     "execution_count": 75,
     "metadata": {},
     "output_type": "execute_result"
    }
   ],
   "source": [
    "fix_bad_naming(text_2)"
   ]
  },
  {
   "cell_type": "code",
   "execution_count": 76,
   "metadata": {},
   "outputs": [
    {
     "data": {
      "text/plain": [
       "['photographie, tirage de démonstration', 'Atelier Nadar']"
      ]
     },
     "execution_count": 76,
     "metadata": {},
     "output_type": "execute_result"
    }
   ],
   "source": [
    "extract_from_brackets(text_1)"
   ]
  },
  {
   "cell_type": "code",
   "execution_count": 77,
   "metadata": {},
   "outputs": [
    {
     "data": {
      "text/plain": [
       "[photographie, tirage de démonstration, Atelier Nadar]                                           14929\n",
       "[lle, photographie, tirage de démonstration, Atelier Nadar]                                       1008\n",
       "[me, photographie, tirage de démonstration, Atelier Nadar]                                         110\n",
       "[Renaissance. En scène, mesdemoiselles, photographie, tirage de démonstration, Atelier Nadar]       51\n",
       "[i.e. Lantelme, photographie, tirage de démonstration, Atelier Nadar]                               45\n",
       "Name: dc:title, dtype: int64"
      ]
     },
     "execution_count": 77,
     "metadata": {},
     "output_type": "execute_result"
    }
   ],
   "source": [
    "df[df.nbr_title == 1]['dc:title'].map(extract_from_brackets).value_counts().head()"
   ]
  },
  {
   "cell_type": "code",
   "execution_count": 78,
   "metadata": {},
   "outputs": [],
   "source": [
    "df.loc[df.nbr_title == 1, 'first_title'] = df[df.nbr_title == 1]['dc:title'].map(find_names_title)"
   ]
  },
  {
   "cell_type": "code",
   "execution_count": 79,
   "metadata": {},
   "outputs": [
    {
     "data": {
      "text/plain": [
       "1    23514\n",
       "Name: first_title, dtype: int64"
      ]
     },
     "execution_count": 79,
     "metadata": {},
     "output_type": "execute_result"
    }
   ],
   "source": [
    "df.first_title.dropna().map(len).value_counts()"
   ]
  },
  {
   "cell_type": "code",
   "execution_count": 80,
   "metadata": {},
   "outputs": [
    {
     "data": {
      "text/plain": [
       "[]"
      ]
     },
     "execution_count": 80,
     "metadata": {},
     "output_type": "execute_result"
    }
   ],
   "source": [
    "df[df.first_title.map(lambda x: len(x)==0 if type(x) ==list else False)]['dc:title'].tolist()"
   ]
  },
  {
   "cell_type": "code",
   "execution_count": 81,
   "metadata": {},
   "outputs": [],
   "source": [
    "df.loc[df.first_title.notna(), 'first_title'] = df[\n",
    "    df.first_title.notna()].first_title.map(\n",
    "    lambda x: fix_bad_naming(x[0]) if len(x)>0  else x)#.value_counts()"
   ]
  },
  {
   "cell_type": "code",
   "execution_count": 82,
   "metadata": {},
   "outputs": [
    {
     "data": {
      "text/plain": [
       "dc:creator         23546\n",
       "dc:date            23546\n",
       "dc:description       179\n",
       "dc:relation        23546\n",
       "dc:source          23546\n",
       "dc:subject         23546\n",
       "dc:title           23546\n",
       "id                 23546\n",
       "subject_is_list    23546\n",
       "len_list           14084\n",
       "nbr_title          23546\n",
       "first_title        23514\n",
       "dtype: int64"
      ]
     },
     "execution_count": 82,
     "metadata": {},
     "output_type": "execute_result"
    }
   ],
   "source": [
    "df.count()"
   ]
  },
  {
   "cell_type": "code",
   "execution_count": 83,
   "metadata": {},
   "outputs": [],
   "source": [
    "df = pd.merge(df, subject_frame[['id', 'named_subject']].dropna(), on='id', how='outer')"
   ]
  },
  {
   "cell_type": "code",
   "execution_count": 84,
   "metadata": {},
   "outputs": [
    {
     "data": {
      "text/plain": [
       "dc:creator         24328\n",
       "dc:date            24328\n",
       "dc:description       186\n",
       "dc:relation        24328\n",
       "dc:source          24328\n",
       "dc:subject         24328\n",
       "dc:title           24328\n",
       "id                 24328\n",
       "subject_is_list    24328\n",
       "len_list           14866\n",
       "nbr_title          24328\n",
       "first_title        24296\n",
       "named_subject      14168\n",
       "dtype: int64"
      ]
     },
     "execution_count": 84,
     "metadata": {},
     "output_type": "execute_result"
    }
   ],
   "source": [
    "df.count()"
   ]
  },
  {
   "cell_type": "code",
   "execution_count": 88,
   "metadata": {},
   "outputs": [
    {
     "data": {
      "text/html": [
       "<div>\n",
       "<style scoped>\n",
       "    .dataframe tbody tr th:only-of-type {\n",
       "        vertical-align: middle;\n",
       "    }\n",
       "\n",
       "    .dataframe tbody tr th {\n",
       "        vertical-align: top;\n",
       "    }\n",
       "\n",
       "    .dataframe thead th {\n",
       "        text-align: right;\n",
       "    }\n",
       "</style>\n",
       "<table border=\"1\" class=\"dataframe\">\n",
       "  <thead>\n",
       "    <tr style=\"text-align: right;\">\n",
       "      <th></th>\n",
       "      <th>dc:creator</th>\n",
       "      <th>dc:date</th>\n",
       "      <th>dc:description</th>\n",
       "      <th>dc:relation</th>\n",
       "      <th>dc:source</th>\n",
       "      <th>dc:subject</th>\n",
       "      <th>dc:title</th>\n",
       "      <th>id</th>\n",
       "      <th>subject_is_list</th>\n",
       "      <th>len_list</th>\n",
       "      <th>nbr_title</th>\n",
       "      <th>first_title</th>\n",
       "      <th>named_subject</th>\n",
       "    </tr>\n",
       "  </thead>\n",
       "  <tbody>\n",
       "    <tr>\n",
       "      <th>4461</th>\n",
       "      <td>Atelier Nadar. Photographe</td>\n",
       "      <td>1900</td>\n",
       "      <td>NaN</td>\n",
       "      <td>[Extrait de : [Album de référence de l'Atelier...</td>\n",
       "      <td>Bibliothèque nationale de France, département ...</td>\n",
       "      <td>[Arconati Visconti, Marie-Louise (1840-1923) -...</td>\n",
       "      <td>Melle Peyrat : [photographie, tirage de démons...</td>\n",
       "      <td>https://gallica.bnf.fr/ark:/12148/btv1b53065760x</td>\n",
       "      <td>True</td>\n",
       "      <td>2.0</td>\n",
       "      <td>1</td>\n",
       "      <td>Melle Peyrat</td>\n",
       "      <td>Louise</td>\n",
       "    </tr>\n",
       "    <tr>\n",
       "      <th>7275</th>\n",
       "      <td>Atelier Nadar. Photographe</td>\n",
       "      <td>1900</td>\n",
       "      <td>NaN</td>\n",
       "      <td>[Extrait de : [Album de référence de l'Atelier...</td>\n",
       "      <td>Bibliothèque nationale de France, département ...</td>\n",
       "      <td>[Arconati Visconti, Marie-Louise (1840-1923) -...</td>\n",
       "      <td>Melle Peyrat, marquise Arconati Visconti : [ph...</td>\n",
       "      <td>https://gallica.bnf.fr/ark:/12148/btv1b530655605</td>\n",
       "      <td>True</td>\n",
       "      <td>2.0</td>\n",
       "      <td>1</td>\n",
       "      <td>Melle Peyrat, marquise Arconati Visconti</td>\n",
       "      <td>Louise</td>\n",
       "    </tr>\n",
       "    <tr>\n",
       "      <th>16525</th>\n",
       "      <td>Atelier Nadar. Photographe</td>\n",
       "      <td>1900</td>\n",
       "      <td>NaN</td>\n",
       "      <td>[Extrait de : [Album de référence de l'Atelier...</td>\n",
       "      <td>Bibliothèque nationale de France, département ...</td>\n",
       "      <td>[Arconati Visconti, Marie-Louise (1840-1923) -...</td>\n",
       "      <td>Melle Peyrat, marquise Arconati Visconti : [ph...</td>\n",
       "      <td>https://gallica.bnf.fr/ark:/12148/btv1b53065388t</td>\n",
       "      <td>True</td>\n",
       "      <td>2.0</td>\n",
       "      <td>1</td>\n",
       "      <td>Melle Peyrat, marquise Arconati Visconti</td>\n",
       "      <td>Louise</td>\n",
       "    </tr>\n",
       "  </tbody>\n",
       "</table>\n",
       "</div>"
      ],
      "text/plain": [
       "                       dc:creator dc:date dc:description  \\\n",
       "4461   Atelier Nadar. Photographe    1900            NaN   \n",
       "7275   Atelier Nadar. Photographe    1900            NaN   \n",
       "16525  Atelier Nadar. Photographe    1900            NaN   \n",
       "\n",
       "                                             dc:relation  \\\n",
       "4461   [Extrait de : [Album de référence de l'Atelier...   \n",
       "7275   [Extrait de : [Album de référence de l'Atelier...   \n",
       "16525  [Extrait de : [Album de référence de l'Atelier...   \n",
       "\n",
       "                                               dc:source  \\\n",
       "4461   Bibliothèque nationale de France, département ...   \n",
       "7275   Bibliothèque nationale de France, département ...   \n",
       "16525  Bibliothèque nationale de France, département ...   \n",
       "\n",
       "                                              dc:subject  \\\n",
       "4461   [Arconati Visconti, Marie-Louise (1840-1923) -...   \n",
       "7275   [Arconati Visconti, Marie-Louise (1840-1923) -...   \n",
       "16525  [Arconati Visconti, Marie-Louise (1840-1923) -...   \n",
       "\n",
       "                                                dc:title  \\\n",
       "4461   Melle Peyrat : [photographie, tirage de démons...   \n",
       "7275   Melle Peyrat, marquise Arconati Visconti : [ph...   \n",
       "16525  Melle Peyrat, marquise Arconati Visconti : [ph...   \n",
       "\n",
       "                                                     id  subject_is_list  \\\n",
       "4461   https://gallica.bnf.fr/ark:/12148/btv1b53065760x             True   \n",
       "7275   https://gallica.bnf.fr/ark:/12148/btv1b530655605             True   \n",
       "16525  https://gallica.bnf.fr/ark:/12148/btv1b53065388t             True   \n",
       "\n",
       "       len_list  nbr_title                               first_title  \\\n",
       "4461        2.0          1                              Melle Peyrat   \n",
       "7275        2.0          1  Melle Peyrat, marquise Arconati Visconti   \n",
       "16525       2.0          1  Melle Peyrat, marquise Arconati Visconti   \n",
       "\n",
       "      named_subject  \n",
       "4461         Louise  \n",
       "7275         Louise  \n",
       "16525        Louise  "
      ]
     },
     "execution_count": 88,
     "metadata": {},
     "output_type": "execute_result"
    }
   ],
   "source": [
    "df[df.named_subject == \"Louise\"]"
   ]
  },
  {
   "cell_type": "code",
   "execution_count": 85,
   "metadata": {},
   "outputs": [],
   "source": [
    "df.loc[df.first_title.isna() & df['dc:title'].notna(), 'first_title'] = df[    df.first_title.isna( )& df['dc:title'].notna()]['dc:title'].map(lambda x: fix_bad_naming(find_names_title(x[0])[0])).tolist()"
   ]
  },
  {
   "cell_type": "code",
   "execution_count": 86,
   "metadata": {},
   "outputs": [
    {
     "data": {
      "text/plain": [
       "117"
      ]
     },
     "execution_count": 86,
     "metadata": {},
     "output_type": "execute_result"
    }
   ],
   "source": [
    "df[df.named_subject.isna()]['dc:subject'].value_counts().index.tolist().__len__()"
   ]
  },
  {
   "cell_type": "code",
   "execution_count": 87,
   "metadata": {},
   "outputs": [
    {
     "data": {
      "text/plain": [
       "False    14168\n",
       "Name: named_subject, dtype: int64"
      ]
     },
     "execution_count": 87,
     "metadata": {},
     "output_type": "execute_result"
    }
   ],
   "source": [
    "df.named_subject.dropna().map(lambda x: 'Charlaviski' in x).value_counts()"
   ]
  },
  {
   "cell_type": "code",
   "execution_count": 88,
   "metadata": {},
   "outputs": [
    {
     "data": {
      "text/plain": [
       "3                                      Groupe de paysannes\n",
       "24                     Groupe. Folies-Dramatiques. Juanita\n",
       "103          Groupe de six acteurs. (Gaîté). \"Le Talisman\"\n",
       "616                                   Société Colombophile\n",
       "637                                              Pyrénéens\n",
       "2247                      Groupe. En scène, mesdemoiselles\n",
       "3054                       Rédaction du journal \"Le Droit\"\n",
       "3306     Groupe. (Renaissance). \"En scène, mesdemoiselles\"\n",
       "4217             Souris. Châtelet groupe d'enfants acteurs\n",
       "5235     Mlles Barbier, Margueritte, Millia. Nouveau Ci...\n",
       "6307                                  Congrès astronomique\n",
       "6861                      Pons de Léon I. e. Ponce de Leon\n",
       "7724                  Mis Pons de Léon i. e. Ponce de Leon\n",
       "9090         Groupe. Renaissance. En scène, mesdemoiselles\n",
       "9107                  Groupe. Renaissance. L'hôtel Godelot\n",
       "10458       Groupe. (Renaissance). Les 12 femmes de Japhet\n",
       "10465          Groupe petit Poucet. Gaîté. Le petit Poucet\n",
       "10855                             Groupe. Madame Sans-Gêne\n",
       "12066    Groupe d'acteurs. Folies-Dramatiques. Miss Rob...\n",
       "12821               Groupe acteurs. (Gaîté). \"Le Talisman\"\n",
       "13552           Me Aurat. Gaîté. Les cloches de Corneville\n",
       "13763                            Mlles Suzanne et Lucienne\n",
       "14707      Groupe. Théâtre de la Gaîté. La fée aux chèvres\n",
       "14711      Groupe. Théâtre de la Gaîté. La fée aux chèvres\n",
       "14715      Groupe. Théâtre de la Gaîté. La fée aux chèvres\n",
       "15012      Groupe. Théâtre de la Gaîté. La fée aux chèvres\n",
       "15014      Groupe. Théâtre de la Gaîté. La fée aux chèvres\n",
       "15017    Groupe de cueillette de pommes. Gaîté. Les clo...\n",
       "15022    Groupe de cueillette de pommes. Gaîté. Les clo...\n",
       "15042    Groupe de 5 cinq personnes. Gaîté. Troisième H...\n",
       "16457                          Mille et une Nuits (Groupe)\n",
       "16595                                            Pyrénéens\n",
       "17042                    Groupe. Gaîté. La fée aux chèvres\n",
       "17396    Portrait de femmes non identifiées. Folies-Dra...\n",
       "17540           Me Aurat. Gaîté. Les cloches de Corneville\n",
       "18615    Groupe de femmes et Me Aline Vauthier. Folies-...\n",
       "18625    Groupe sept personnes. Gaîté. Le troisième Hus...\n",
       "18941      Groupe. Théâtre de la Gaîté. La fée aux chèvres\n",
       "19250      Groupe. Théâtre de la Gaîté. La fée aux chèvres\n",
       "19780                             Groupe. Madame Sans-Gêne\n",
       "20359    M. Dacheux et 5 personnes. Folies -Dramatiques...\n",
       "20591    Mlles Barbier, Margueritte, Millia. (Nouveau C...\n",
       "23017                        Groupe Douze femmes de Japhet\n",
       "23693      Groupe. Théâtre de la Gaîté. La fée aux chèvres\n",
       "Name: first_title, dtype: object"
      ]
     },
     "execution_count": 88,
     "metadata": {},
     "output_type": "execute_result"
    }
   ],
   "source": [
    "df[df.first_title.notna() & df.named_subject.isna() & df['dc:subject'].map(lambda x: 'collectifs' in x)].first_title"
   ]
  },
  {
   "cell_type": "markdown",
   "metadata": {},
   "source": [
    "## now that we have extracted names for most people, get years lived where available (from subject)"
   ]
  },
  {
   "cell_type": "code",
   "execution_count": 89,
   "metadata": {},
   "outputs": [],
   "source": [
    "def get_years(string):\n",
    "    x = re.findall('\\(([\\d{4}  -]+)\\)', string)\n",
    "    if len(x) == 0:\n",
    "        return None\n",
    "    return x[0]\n",
    "\n",
    "def get_years_special(string):\n",
    "    x = re.findall('\\(([\\d{4}\\d{2}  -\\.\\?]+)[\\S \\;]*\\)', string)\n",
    "    if len(x) == 0:\n",
    "        return None\n",
    "    return x[0]"
   ]
  },
  {
   "cell_type": "code",
   "execution_count": 90,
   "metadata": {},
   "outputs": [],
   "source": [
    "subject_frame['years'] = subject_frame.descriptor.map(get_years) "
   ]
  },
  {
   "cell_type": "code",
   "execution_count": 91,
   "metadata": {},
   "outputs": [
    {
     "data": {
      "text/plain": [
       "'18..-1928'"
      ]
     },
     "execution_count": 91,
     "metadata": {},
     "output_type": "execute_result"
    }
   ],
   "source": [
    "get_years_special('Febvre, Paul (18..-1928)')"
   ]
  },
  {
   "cell_type": "markdown",
   "metadata": {},
   "source": [
    "41 for which we can't find perfect match"
   ]
  },
  {
   "cell_type": "code",
   "execution_count": 92,
   "metadata": {},
   "outputs": [
    {
     "data": {
      "text/plain": [
       "descriptor       3180\n",
       "id               3180\n",
       "19e              3180\n",
       "Portraits        3180\n",
       "caricature       3180\n",
       "subject_name     3180\n",
       "named_subject    3180\n",
       "years               0\n",
       "dtype: int64"
      ]
     },
     "execution_count": 92,
     "metadata": {},
     "output_type": "execute_result"
    }
   ],
   "source": [
    "unmatched = subject_frame.years.isna() & subject_frame.descriptor.map(lambda x: '(1' in x)\n",
    "subject_frame[unmatched].count()"
   ]
  },
  {
   "cell_type": "code",
   "execution_count": 93,
   "metadata": {},
   "outputs": [
    {
     "data": {
      "text/plain": [
       "12              Decroza, Francine (1868-19..) -- Portraits\n",
       "23              Decroza, Francine (1868-19..) -- Portraits\n",
       "26              Decroza, Francine (1868-19..) -- Portraits\n",
       "34               Dauville, Louise (18..-19..) -- Portraits\n",
       "44       Nâser ed-Din (1831-1896 ; shah d'Iran) -- Port...\n",
       "                               ...                        \n",
       "30148    Montbazon, Marie (18..-19.. ; actrice) -- Port...\n",
       "30156    Baréty, Henriette (18..-19..? ; actrice) -- Po...\n",
       "30158    Baréty, Henriette (18..-19..? ; actrice) -- Po...\n",
       "30160    Baréty, Henriette (18..-19..? ; actrice) -- Po...\n",
       "8294               Luco, François (18..-1882) -- Portraits\n",
       "Name: descriptor, Length: 3180, dtype: object"
      ]
     },
     "execution_count": 93,
     "metadata": {},
     "output_type": "execute_result"
    }
   ],
   "source": [
    "subject_frame[unmatched].descriptor"
   ]
  },
  {
   "cell_type": "code",
   "execution_count": 94,
   "metadata": {},
   "outputs": [],
   "source": [
    "subject_frame.loc[unmatched, 'years'] = subject_frame[unmatched].descriptor.map(get_years_special)"
   ]
  },
  {
   "cell_type": "code",
   "execution_count": 95,
   "metadata": {},
   "outputs": [
    {
     "data": {
      "text/plain": [
       "13051"
      ]
     },
     "execution_count": 95,
     "metadata": {},
     "output_type": "execute_result"
    }
   ],
   "source": [
    "subject_frame[subject_frame.years.notna()].id.unique().__len__()"
   ]
  },
  {
   "cell_type": "code",
   "execution_count": 96,
   "metadata": {},
   "outputs": [],
   "source": [
    "id_years = subject_frame[subject_frame.years.notna()].id.unique()"
   ]
  },
  {
   "cell_type": "code",
   "execution_count": 97,
   "metadata": {},
   "outputs": [],
   "source": [
    "df = pd.merge(df, subject_frame[['id', 'years']].dropna(), on='id', how='outer')"
   ]
  },
  {
   "cell_type": "markdown",
   "metadata": {},
   "source": [
    "we never have more than one named individual ... it seems"
   ]
  },
  {
   "cell_type": "code",
   "execution_count": 98,
   "metadata": {},
   "outputs": [
    {
     "data": {
      "text/plain": [
       "False    26047\n",
       "Name: named_subject, dtype: int64"
      ]
     },
     "execution_count": 98,
     "metadata": {},
     "output_type": "execute_result"
    }
   ],
   "source": [
    "(df.groupby(id).named_subject.count() > 1).value_counts()"
   ]
  },
  {
   "cell_type": "markdown",
   "metadata": {},
   "source": [
    "# we can't get year or name of subject, who are we looking at"
   ]
  },
  {
   "cell_type": "code",
   "execution_count": 99,
   "metadata": {},
   "outputs": [
    {
     "data": {
      "text/plain": [
       "dc:creator         10495\n",
       "dc:date            10495\n",
       "dc:description       140\n",
       "dc:relation        10495\n",
       "dc:source          10495\n",
       "dc:subject         10495\n",
       "dc:title           10495\n",
       "id                 10495\n",
       "subject_is_list    10495\n",
       "len_list            1039\n",
       "nbr_title          10495\n",
       "first_title        10495\n",
       "named_subject        335\n",
       "years                  0\n",
       "dtype: int64"
      ]
     },
     "execution_count": 99,
     "metadata": {},
     "output_type": "execute_result"
    }
   ],
   "source": [
    "df[df.named_subject.isna() | df.years.isna()].count()"
   ]
  },
  {
   "cell_type": "code",
   "execution_count": 119,
   "metadata": {},
   "outputs": [
    {
     "data": {
      "text/plain": [
       "[Kuschnichs]. Kosiki : [photographie, tirage de démonstration] / [Atelier Nadar]                                           1\n",
       "Huguet. Folies-Dramatiques. [Riquet la houppe] : [photographie, tirage de démonstration] / [Atelier Nadar]                 1\n",
       "M. Danversy [i.e. Danvers. Opéra-Comique. Tournée Brasseur] : [photographie, tirage de démonstration] / [Atelier Nadar]    1\n",
       "Antonine : [photographie, tirage de démonstration] / [Atelier Nadar]                                                       1\n",
       "Bébé X : [photographie, tirage de démonstration] / [Atelier Nadar]                                                         1\n",
       "                                                                                                                          ..\n",
       "Mlle Valduc. Gaîté. Bicyclistes en voyage : [photographie, tirage de démonstration] / [Atelier Nadar]                      1\n",
       "Mlle Renée Vidal : [photographie, tirage de démonstration] / [Atelier Nadar]                                               1\n",
       "Me Tusini. [Folies-Dramatiques] : [photographie, tirage de démonstration] / [Atelier Nadar]                                2\n",
       "Maison P. Grossmann : [photographie, tirage de démonstration] / [Atelier Nadar]                                            4\n",
       "M[lle] Chartier : [photographie, tirage de démonstration] / [Atelier Nadar]                                                1\n",
       "Name: dc:title, Length: 100, dtype: int64"
      ]
     },
     "execution_count": 119,
     "metadata": {},
     "output_type": "execute_result"
    }
   ],
   "source": [
    "df[\n",
    "    df.named_subject.isna() |\\\n",
    "    df.years.isna() &\\\n",
    "    df['dc:subject'].map(lambda x: 'Portraits de studio -- 19e siècle' in x) &\\\n",
    "    ~df['dc:subject'].map(lambda x: 'Théâtre' in x)\n",
    "]['dc:title'].value_counts().sample(100)"
   ]
  },
  {
   "cell_type": "code",
   "execution_count": 101,
   "metadata": {},
   "outputs": [],
   "source": [
    "matches = df['dc:title'].map(lambda x: re.match('(?!\\:)([\\s\\S]*) :', str(x)))"
   ]
  },
  {
   "cell_type": "code",
   "execution_count": 102,
   "metadata": {},
   "outputs": [
    {
     "data": {
      "text/plain": [
       "Series([], Name: dc:title, dtype: object)"
      ]
     },
     "execution_count": 102,
     "metadata": {},
     "output_type": "execute_result"
    }
   ],
   "source": [
    "df[matches.isna()]['dc:title']"
   ]
  },
  {
   "cell_type": "code",
   "execution_count": 103,
   "metadata": {},
   "outputs": [
    {
     "data": {
      "text/plain": [
       "['Statuettes Grévin ',\n",
       " 'Rosa, Josepha ',\n",
       " 'Groupes Théodora. Sarah Bernhardt et M. Laurent. Porte St Martin ',\n",
       " 'Groupes Théodora. Porte St-Martin. Sarah Bernhardt et M. Laurent ',\n",
       " 'Sarah Bernhardt. Porte Saint-Martin. La Tosca ',\n",
       " 'Portrait composite des frères Reclus ',\n",
       " 'Ghinassi ',\n",
       " 'Groupe Poucet Albert, Duhamel, Christian, Scipion. Gaîté. Petit Poucet ',\n",
       " \"Sarah Bernhardt. Porte Saint-Martin. Jeanne d'Arc \",\n",
       " 'Chevreul père et fils, Nadar ',\n",
       " 'H. Petit et Angelo. Ambigu. \"Assommoir\" ',\n",
       " 'Depoix et Larcher. Menus Plaisirs. \"Ma femme manque de chic\" ',\n",
       " 'Me Debriège ',\n",
       " 'Mary Anderson. Anglaise ',\n",
       " 'Febvre et Reichemberg i.e. Reichenberg. Français \"L\\'Ami Fritz\" ',\n",
       " 'Sarah Bernhardt ',\n",
       " 'Sarah et Berton. Porte Saint-Martin. La Tosca ',\n",
       " 'Deval et Max et Sarah Bernhardt. (Renaissance). \"Gismonda\" ',\n",
       " 'Granier, Vauthier. Gaîté. Orphée aux enfers ',\n",
       " 'Marie-Thérèse ',\n",
       " 'Réjane ',\n",
       " 'Mme Méaly et M. Fugère. (Gaîté). Le Talisman ',\n",
       " 'Chevreul, Nadar ',\n",
       " 'H. Petit et Gil Naza. Ambigu. \"Assommoir\" ',\n",
       " 'Albert, Duhamel, Christian, Scipion. Gaîté. Petit Poucet ',\n",
       " 'Ambassade japonaise ',\n",
       " 'Hélène Petit. Ambigu. Assommoir ',\n",
       " 'Ambassade Siamoise ',\n",
       " 'Girard ',\n",
       " 'Modes Lanvin ',\n",
       " 'Lanthelme i.e. Lantelme. Nouveautés. Adam et Eve ',\n",
       " 'Miss Langtry. Actrice anglaise ',\n",
       " 'Mlle Peschard ',\n",
       " 'Sarah Bernhardt. Porte St-Martin. \"Macbeth\" ',\n",
       " 'Chevreul, Bordas, Nadar ',\n",
       " \"Hadamard, Crosnier, Lambert. Odéon. L'Arlésienne \",\n",
       " 'Gabrielle ',\n",
       " 'Marie-Thérèse. Variétés ',\n",
       " 'Reclus frères ',\n",
       " 'Mlle Drunzer. Vaudeville ',\n",
       " \"Portrait d'un homme \",\n",
       " \"Portrait d'une femme \",\n",
       " 'Gélabert ',\n",
       " 'H. Petit et L. Munte. Ambigu. \"Assommoir\" ',\n",
       " 'Capoul et Ritter. Lyrique. \"Paul et Virginie\" ',\n",
       " 'Sarah Bernhardt, Pierre Berton. Porte Saint-Martin. La Tosca ',\n",
       " 'Hading et Montbars ',\n",
       " \"Portrait d'une femme non identifiée \",\n",
       " 'Me Demarsy. (Gymnase). \"Mon oncle Barbassou\" ',\n",
       " 'Ellen Andrée ',\n",
       " 'Detaille. Peintre ',\n",
       " 'Jaeger ',\n",
       " 'Leriche ',\n",
       " 'Andrée Dalti ',\n",
       " 'Samary. Français ',\n",
       " 'Me Sarah Bernhardt. (Renaissance). Izeyl ',\n",
       " 'Pasca ',\n",
       " 'Sorel. Nouveautés ',\n",
       " 'Sarah Bernhardt. Porte Saint-Martin. Théodora ',\n",
       " 'Me Cernay ',\n",
       " \"Sarah Bernhardt. Jeanne d'Arc \",\n",
       " 'Mary Albert ',\n",
       " 'Loetitia. Châtelet. \"La queue du chat\" ',\n",
       " 'Mes J. Granier et G. Gallois. (Porte Saint-Martin). \"Voyage dans la lune\" ',\n",
       " 'Granier et Meyer. Renaissance. \"Petit Duc\" ',\n",
       " 'Soukaret. 1er prix de beauté de Spa ',\n",
       " 'Christian, Duhamel. Gaîté. Petit Poucet ',\n",
       " 'Pierson i.e. Pierron Soulacroix. Opéra-Comique. Plutus ',\n",
       " 'Me Wyns ',\n",
       " 'M. Fenoux et Mlle Vanda i.e. Wanda de Boncza. (Odéon). \"Pour la couronne\" ',\n",
       " 'Sa Majesté le prince de Galles ',\n",
       " 'Chevreul, Nadar et Bordas ',\n",
       " 'Capoul et Heilbronn. Lyrique. \"Paul et Virginie\" ',\n",
       " 'Mlle Gélabert ',\n",
       " 'Mme Prelly. Folies dramatiques ',\n",
       " 'Mlle Peschard. Gaîté ',\n",
       " 'Montbazon ',\n",
       " 'Me Cassive. Gaîté. Le voyage de Suzette ',\n",
       " 'Peschard ',\n",
       " 'Vauthier, Noël, Leclerc, Thibaut i.e. Thibault. Gaîté. Le bossu ',\n",
       " 'Montréal, Blondeau, Grisier ',\n",
       " 'Mlle Théo. Ambigu ',\n",
       " 'Mlle Engalli ',\n",
       " 'M. Dupuy i.e. Dupuis, Lavallière et Cooper. Variétés. La vie parisienne ',\n",
       " 'Mlle Vaillant, Berthelier, Brasseur. Nouveautés. \"Roi de carreaux\" i.e. carreau ',\n",
       " 'Me Prelly ',\n",
       " 'Brasseur père, fils et Théo. Nouveautés. Mimi ',\n",
       " 'Me Samé, MM. Vauthier et Fugère (Gaîté). La fée aux chèvres ',\n",
       " 'Chevreul père, fils et Nadar ',\n",
       " 'Mauri, Ottolini, Mérante ',\n",
       " 'Modes. Lanvin ',\n",
       " 'Montbazon, Morlet, Lamy. Bouffes ',\n",
       " 'Potter i.e. Potters ',\n",
       " 'Morlet, Guyon, Gobain. Folies-Dramatiques. Surcouf ',\n",
       " 'Kolb. Ambigu. As de trèfle ',\n",
       " 'Gelabert ',\n",
       " 'Leriche, Larcher, Raymond. Renaissance. Cocard et Bicoquet ',\n",
       " 'Napoléon et ses fils ',\n",
       " 'Berthier ',\n",
       " 'Céline Chaumont ']"
      ]
     },
     "execution_count": 103,
     "metadata": {},
     "output_type": "execute_result"
    }
   ],
   "source": [
    "matches.dropna().map(lambda x: re.sub('\\[|\\]|\\:', '', x.group(0))).value_counts().head(100).index.tolist()"
   ]
  },
  {
   "cell_type": "code",
   "execution_count": 104,
   "metadata": {},
   "outputs": [],
   "source": [
    "def find_keywords(x):\n",
    "    \n",
    "    if not x:\n",
    "        return x\n",
    "    x = str(x)\n",
    "    l = re.findall('(?!\\d)[\\w]*', x) # take all words, exclude years\n",
    "    l = list(set([word for word in l if len(word) > 0])) # drop duplicates in one entry\n",
    "    return l"
   ]
  },
  {
   "cell_type": "code",
   "execution_count": 105,
   "metadata": {},
   "outputs": [],
   "source": [
    "tag_list = pd.Series([x for i in df['dc:subject'].map(find_keywords).tolist() for x in i]).value_counts().reset_index()"
   ]
  },
  {
   "cell_type": "code",
   "execution_count": 106,
   "metadata": {},
   "outputs": [],
   "source": [
    "tag_list_title = pd.Series([x for i in df['dc:title'].map(find_keywords).tolist() for x in i]).value_counts().reset_index()"
   ]
  },
  {
   "cell_type": "code",
   "execution_count": 107,
   "metadata": {},
   "outputs": [
    {
     "data": {
      "text/plain": [
       "['démonstration',\n",
       " 'tirage',\n",
       " 'photographie',\n",
       " 'lle',\n",
       " 'aux',\n",
       " 'fils',\n",
       " 'femme',\n",
       " 'des',\n",
       " 'dans',\n",
       " 'comique',\n",
       " 'père',\n",
       " 'dramatiques',\n",
       " 'voyage',\n",
       " 'une',\n",
       " 'non',\n",
       " 'général',\n",
       " 'homme',\n",
       " 'année',\n",
       " 'scène',\n",
       " 'mesdemoiselles',\n",
       " 'peintre',\n",
       " 'dramatique',\n",
       " 'femmes',\n",
       " 'cloches',\n",
       " 'enfers',\n",
       " 'lune',\n",
       " 'rouge',\n",
       " 'journaliste',\n",
       " 'frères',\n",
       " 'petite']"
      ]
     },
     "execution_count": 107,
     "metadata": {},
     "output_type": "execute_result"
    }
   ],
   "source": [
    "tag_list_title[tag_list_title['index'].map(lambda x: x.islower() and len(x) > 2)]['index'].head(30).tolist()"
   ]
  },
  {
   "cell_type": "code",
   "execution_count": 108,
   "metadata": {},
   "outputs": [
    {
     "data": {
      "text/plain": [
       "['siècle',\n",
       " 'théâtre',\n",
       " 'studio',\n",
       " 'théâtrales',\n",
       " 'collectifs',\n",
       " 'actrice',\n",
       " 'acteur',\n",
       " 'lyrique',\n",
       " 'artiste',\n",
       " 'figures',\n",
       " 'humaines',\n",
       " 'siamois',\n",
       " 'danseuse',\n",
       " 'couture',\n",
       " 'roi',\n",
       " 'cantatrice',\n",
       " 'humoristiques',\n",
       " 'dessins',\n",
       " 'chanteur',\n",
       " 'japonais',\n",
       " 'intérieur',\n",
       " 'empereur',\n",
       " 'des',\n",
       " 'duc',\n",
       " 'lieux',\n",
       " 'shah',\n",
       " 'acteurs',\n",
       " 'familiers',\n",
       " 'prince',\n",
       " 'objet',\n",
       " 'courtisans',\n",
       " 'comte',\n",
       " 'personnage',\n",
       " 'animalières',\n",
       " 'chanteuse',\n",
       " 'russe',\n",
       " 'fictif',\n",
       " 'franco',\n",
       " 'historiques',\n",
       " 'marquis',\n",
       " 'frères',\n",
       " 'décès',\n",
       " 'après',\n",
       " 'grand',\n",
       " 'mises',\n",
       " 'vivants',\n",
       " 'militaires',\n",
       " 'scène',\n",
       " 'directeur',\n",
       " 'cirque',\n",
       " 'ténor',\n",
       " 'dessinateur',\n",
       " 'orientale',\n",
       " 'lithographe',\n",
       " 'homme',\n",
       " 'architecture',\n",
       " 'domestique',\n",
       " 'français',\n",
       " 'dramatique',\n",
       " 'ballon',\n",
       " 'princesse',\n",
       " 'équestres',\n",
       " 'shows',\n",
       " 'baron',\n",
       " 'portée',\n",
       " 'artistes',\n",
       " 'jeunesse',\n",
       " 'aéronaute',\n",
       " 'chef',\n",
       " 'duchesse',\n",
       " 'médecin',\n",
       " 'uruguayens',\n",
       " 'travestis',\n",
       " 'ebyšev',\n",
       " 'van',\n",
       " 'légendaire',\n",
       " 'amiral',\n",
       " 'race',\n",
       " 'général',\n",
       " 'chinois',\n",
       " 'air',\n",
       " 'abbé',\n",
       " 'journaliste',\n",
       " 'portugais',\n",
       " 'ème',\n",
       " 'nourrissons',\n",
       " 'nas',\n",
       " 'arts',\n",
       " 'voltigeurs',\n",
       " 'danois',\n",
       " 'orchestre',\n",
       " 'finances',\n",
       " 'canine',\n",
       " 'chorégraphe',\n",
       " 'subsaharienne',\n",
       " 'pièces',\n",
       " 'photographiques',\n",
       " 'plein',\n",
       " 'italien',\n",
       " 'savants',\n",
       " 'musique',\n",
       " 'sir',\n",
       " 'urbains',\n",
       " 'parleurs',\n",
       " 'russes',\n",
       " 'prêtres',\n",
       " 'éditeur',\n",
       " 'peintre',\n",
       " 'travesties',\n",
       " 'trappiste',\n",
       " 'baryton',\n",
       " 'chambre',\n",
       " 'compositeur',\n",
       " 'claque',\n",
       " 'opéra',\n",
       " 'conte',\n",
       " 'médical',\n",
       " 'sculpture',\n",
       " 'comique',\n",
       " 'prison',\n",
       " 'costume',\n",
       " 'trios',\n",
       " 'reine',\n",
       " 'lettres',\n",
       " 'gardien',\n",
       " 'animaux',\n",
       " 'religion',\n",
       " 'particuliers',\n",
       " 'photographie',\n",
       " 'vicomte',\n",
       " 'impératrice']"
      ]
     },
     "execution_count": 108,
     "metadata": {},
     "output_type": "execute_result"
    }
   ],
   "source": [
    "tag_list[tag_list['index'].map(lambda x: x.islower() and len(x) > 2)]['index'].tolist()"
   ]
  },
  {
   "cell_type": "markdown",
   "metadata": {},
   "source": [
    "### associate tags and ids in new dataframe. Remove useless tags. save tag-id association as json file"
   ]
  },
  {
   "cell_type": "code",
   "execution_count": 109,
   "metadata": {},
   "outputs": [],
   "source": [
    "# clear useless tags \n",
    "\n",
    "from itertools import compress\n",
    "\n",
    "\n",
    "def tag_exclude(tag):\n",
    "    \n",
    "    result = False\n",
    "    if len(tag) < 3:\n",
    "        result = False\n",
    "    elif len(tag) == 3:\n",
    "        if tag.islower() and tag != 'roi':\n",
    "            result = False\n",
    "        else:\n",
    "            result = True\n",
    "    else:\n",
    "        # this list may change\n",
    "        if tag in  ['siècle', 'Portraits', 'studio', 'Scènes', 'collectifs', 'photographie', 'Nadar']:\n",
    "            result = False\n",
    "        else:\n",
    "            result = True\n",
    "    return result\n",
    "\n",
    "def tag_list_exclude(tag_list):\n",
    "    mask = list(map(tag_exclude, tag_list))\n",
    "    return list(compress(tag_list, mask))"
   ]
  },
  {
   "cell_type": "code",
   "execution_count": 110,
   "metadata": {},
   "outputs": [
    {
     "ename": "ModuleNotFoundError",
     "evalue": "No module named 'numpy.core._multiarray_umath'",
     "output_type": "error",
     "traceback": [
      "\u001b[0;31m---------------------------------------------------------------------------\u001b[0m",
      "\u001b[0;31mModuleNotFoundError\u001b[0m                       Traceback (most recent call last)",
      "\u001b[0;31mModuleNotFoundError\u001b[0m: No module named 'numpy.core._multiarray_umath'"
     ]
    }
   ],
   "source": [
    "tag_frame = pd.DataFrame(df.id)\n",
    "tag_frame['tags'] = df['dc:subject'].map(find_keywords) + df['dc:title'].map(find_keywords)\n",
    "tag_frame['tags'] = tag_frame['tags'].apply(lambda x: list(set(x)))\n",
    "tag_frame['tags'] = tag_frame.tags.apply(tag_list_exclude)"
   ]
  },
  {
   "cell_type": "code",
   "execution_count": 111,
   "metadata": {},
   "outputs": [],
   "source": [
    "tag_explode = tag_frame.tags.apply(pd.Series) \\\n",
    "            .merge(tag_frame, right_index=True, left_index=True) \\\n",
    "            .drop(['tags'],axis=1) \\\n",
    "            .melt(id_vars=['id'], value_name='tag') \\\n",
    "            .drop('variable', axis=1) \\"
   ]
  },
  {
   "cell_type": "code",
   "execution_count": 112,
   "metadata": {},
   "outputs": [],
   "source": [
    "tag_ids = tag_explode.groupby(tag_explode.tag)['id'].unique().apply(list)"
   ]
  },
  {
   "cell_type": "code",
   "execution_count": 113,
   "metadata": {},
   "outputs": [],
   "source": [
    "tag_ids.to_json('tag_ids.json')"
   ]
  },
  {
   "cell_type": "markdown",
   "metadata": {},
   "source": [
    "### there really is no associated year"
   ]
  },
  {
   "cell_type": "code",
   "execution_count": 114,
   "metadata": {},
   "outputs": [
    {
     "data": {
      "text/plain": [
       "Index(['Scènes théâtrales -- 19e siècle', 'Costumes -- 19e siècle',\n",
       "       'Danseuses', 'Lanvin (Maison de couture)', 'Enfants',\n",
       "       'Tournée Brasseur', 'Ambassadeurs japonais -- France', 'Trapézistes',\n",
       "       'Représentations d'objet -- 19e siècle', 'Cour et courtisans -- Iran',\n",
       "       'Clowns', 'Cavalières', 'Violonistes',\n",
       "       'Représentations animalières -- 19e siècle', 'Travestis', 'Singes',\n",
       "       'Nourrissons', 'Bicyclettes',\n",
       "       'Tableaux vivants et mises en scène -- 19e siècle', 'Enfants acteurs',\n",
       "       'Géants', 'Ballons -- France -- 19e siècle', 'Danse orientale',\n",
       "       'Mandoline', 'Vues d'intérieur -- 19e siècle', 'Costumes',\n",
       "       'Journaux français', 'Chat domestique', 'Bicyclettes -- Au théâtre',\n",
       "       'Animaux de cirque', 'Pierrot (personnage fictif)', 'Escrimeurs',\n",
       "       'Géant (ballon)', 'Minstrel shows', 'Âne', 'Chien', 'Haltérophiles',\n",
       "       'Religieux', 'Représentations animalières -- 1870-1913',\n",
       "       'Hamlet (personnage légendaire)', 'Ambassadeurs uruguayens -- France',\n",
       "       'Indiens d'Amérique', 'Phénomènes de cirque',\n",
       "       'Rueil-Malmaison (Hauts-de-Seine) -- Château de Malmaison', 'Statues',\n",
       "       'Caricatures et dessins humoristiques -- 19e siècle',\n",
       "       'Noirs -- Afrique', 'Appareils photographiques',\n",
       "       'Arlequin (personnage fictif)',\n",
       "       'Ballons -- France -- Paris (France) -- 19e siècle',\n",
       "       'Caniche (race canine)', 'Casseroles', 'Acrobates (arts)',\n",
       "       'Autobus -- Au théâtre', 'Nageurs -- Suède', 'Harpistes',\n",
       "       'Ambassadeurs chinois -- France', 'Ateliers d'artistes -- Au théâtre',\n",
       "       'Hôpitaux -- Personnel médical', 'Ombre portée', 'Oiseaux parleurs',\n",
       "       'Sang -- Transfusion', 'Décorations militaires',\n",
       "       'Montreurs d'animaux savants', 'Avocats', 'Paysages -- 19e siècle',\n",
       "       'Peinture', 'Mères et nourrissons', 'Ensembles de musique de chambre',\n",
       "       'Cours (architecture)', 'Expositions de photographie',\n",
       "       'Scènes -- 19e siècle', 'Actrices travesties', 'Chasseurs',\n",
       "       'Paysages urbains -- 19e siècle', 'Maison Doucet (Paris)',\n",
       "       'Dessin -- Reproduction', 'Paquin (Firme)'],\n",
       "      dtype='object')"
      ]
     },
     "execution_count": 114,
     "metadata": {},
     "output_type": "execute_result"
    }
   ],
   "source": [
    "subject_frame[~subject_frame.id.isin(id_years) &\\\n",
    "              subject_frame.named_subject.isna() &\\\n",
    "              ~subject_frame.Portraits].descriptor.value_counts().index"
   ]
  },
  {
   "cell_type": "code",
   "execution_count": 115,
   "metadata": {},
   "outputs": [
    {
     "data": {
      "text/html": [
       "<div>\n",
       "<style scoped>\n",
       "    .dataframe tbody tr th:only-of-type {\n",
       "        vertical-align: middle;\n",
       "    }\n",
       "\n",
       "    .dataframe tbody tr th {\n",
       "        vertical-align: top;\n",
       "    }\n",
       "\n",
       "    .dataframe thead th {\n",
       "        text-align: right;\n",
       "    }\n",
       "</style>\n",
       "<table border=\"1\" class=\"dataframe\">\n",
       "  <thead>\n",
       "    <tr style=\"text-align: right;\">\n",
       "      <th></th>\n",
       "      <th>first_title</th>\n",
       "      <th>named_subject</th>\n",
       "    </tr>\n",
       "  </thead>\n",
       "  <tbody>\n",
       "    <tr>\n",
       "      <th>7</th>\n",
       "      <td>Me Auguez</td>\n",
       "      <td>Auguez, Mathilde</td>\n",
       "    </tr>\n",
       "    <tr>\n",
       "      <th>8</th>\n",
       "      <td>Me Auguez</td>\n",
       "      <td>Auguez, Mathilde</td>\n",
       "    </tr>\n",
       "    <tr>\n",
       "      <th>9</th>\n",
       "      <td>M. Bruant</td>\n",
       "      <td>Bruant, Aristide</td>\n",
       "    </tr>\n",
       "    <tr>\n",
       "      <th>10</th>\n",
       "      <td>Me Auguez</td>\n",
       "      <td>Auguez, Mathilde</td>\n",
       "    </tr>\n",
       "    <tr>\n",
       "      <th>13</th>\n",
       "      <td>M. A. Brasseur</td>\n",
       "      <td>Brasseur, Albert</td>\n",
       "    </tr>\n",
       "    <tr>\n",
       "      <th>...</th>\n",
       "      <td>...</td>\n",
       "      <td>...</td>\n",
       "    </tr>\n",
       "    <tr>\n",
       "      <th>26041</th>\n",
       "      <td>Desclauzas. \"Rendez-vous bourgeois\"</td>\n",
       "      <td>Desclauzas, Marie</td>\n",
       "    </tr>\n",
       "    <tr>\n",
       "      <th>26043</th>\n",
       "      <td>Feighine i.e. Feyghine</td>\n",
       "      <td>Feyghine</td>\n",
       "    </tr>\n",
       "    <tr>\n",
       "      <th>26044</th>\n",
       "      <td>Fayolles i.e. Baretta</td>\n",
       "      <td>Barretta, Blanche</td>\n",
       "    </tr>\n",
       "    <tr>\n",
       "      <th>26045</th>\n",
       "      <td>Daubray. Bouffes. \"Petite Muette\"</td>\n",
       "      <td>Daubray</td>\n",
       "    </tr>\n",
       "    <tr>\n",
       "      <th>26046</th>\n",
       "      <td>Girard. Folies-Dramatiques</td>\n",
       "      <td>Girard, Juliette</td>\n",
       "    </tr>\n",
       "  </tbody>\n",
       "</table>\n",
       "<p>15887 rows × 2 columns</p>\n",
       "</div>"
      ],
      "text/plain": [
       "                               first_title      named_subject\n",
       "7                                Me Auguez   Auguez, Mathilde\n",
       "8                                Me Auguez   Auguez, Mathilde\n",
       "9                                M. Bruant   Bruant, Aristide\n",
       "10                               Me Auguez   Auguez, Mathilde\n",
       "13                          M. A. Brasseur   Brasseur, Albert\n",
       "...                                    ...                ...\n",
       "26041  Desclauzas. \"Rendez-vous bourgeois\"  Desclauzas, Marie\n",
       "26043               Feighine i.e. Feyghine           Feyghine\n",
       "26044                Fayolles i.e. Baretta  Barretta, Blanche\n",
       "26045    Daubray. Bouffes. \"Petite Muette\"            Daubray\n",
       "26046           Girard. Folies-Dramatiques   Girard, Juliette\n",
       "\n",
       "[15887 rows x 2 columns]"
      ]
     },
     "execution_count": 115,
     "metadata": {},
     "output_type": "execute_result"
    }
   ],
   "source": [
    "df[df.first_title.notna() & df.named_subject.notna()][['first_title', 'named_subject']]"
   ]
  },
  {
   "cell_type": "code",
   "execution_count": 116,
   "metadata": {},
   "outputs": [
    {
     "data": {
      "text/plain": [
       "Bernhardt, Sarah               496\n",
       "Réjane                         186\n",
       "Meyer, Emilie                  171\n",
       "Théo, Louise                   152\n",
       "Brasseur, Albert               142\n",
       "                              ... \n",
       "Wilfrid de                       1\n",
       "Kaemmerer, Frederik Hendrik      1\n",
       "Lurine, Louis                    1\n",
       "Bouguereau, William              1\n",
       "Grisier, Augustin                1\n",
       "Name: named_subject, Length: 1854, dtype: int64"
      ]
     },
     "execution_count": 116,
     "metadata": {},
     "output_type": "execute_result"
    }
   ],
   "source": [
    "df[df.first_title.notna() & df.named_subject.notna()].named_subject.value_counts()"
   ]
  },
  {
   "cell_type": "code",
   "execution_count": 117,
   "metadata": {},
   "outputs": [
    {
     "data": {
      "text/plain": [
       "15887"
      ]
     },
     "execution_count": 117,
     "metadata": {},
     "output_type": "execute_result"
    }
   ],
   "source": [
    "df[df.first_title.notna() & df.named_subject.notna()].named_subject.count()"
   ]
  },
  {
   "cell_type": "code",
   "execution_count": 118,
   "metadata": {},
   "outputs": [
    {
     "data": {
      "text/plain": [
       "['Ghinassi',\n",
       " 'Marie-Thérèse',\n",
       " 'Ambassade japonaise',\n",
       " 'Modes Lanvin',\n",
       " 'Gabrielle',\n",
       " 'Marie-Thérèse. Variétés',\n",
       " \"Portrait d'une femme\",\n",
       " \"Portrait d'un homme\",\n",
       " \"Portrait d'une femme non identifiée\",\n",
       " 'Jaeger',\n",
       " 'Andrée Dalti',\n",
       " 'Me Cernay',\n",
       " 'Soukaret. 1er prix de beauté de Spa',\n",
       " 'Loetitia. Châtelet. \"La queue du chat\"',\n",
       " 'Mme Prelly. Folies dramatiques',\n",
       " 'Potter i.e. Potters',\n",
       " 'Mlle Engalli',\n",
       " 'Modes. Lanvin',\n",
       " 'Me Rivolta',\n",
       " 'Laurence',\n",
       " 'Me Demoreuil',\n",
       " 'Lhéry',\n",
       " 'Engally. Opéra comique',\n",
       " 'Me de Nory',\n",
       " 'Paulette',\n",
       " 'Mlle Stuart',\n",
       " 'Mlle Gabrielle',\n",
       " 'Me de Breuil',\n",
       " 'Beaumaine. Variétés',\n",
       " 'Jaeger. Eden']"
      ]
     },
     "execution_count": 118,
     "metadata": {},
     "output_type": "execute_result"
    }
   ],
   "source": [
    "df[df.first_title.notna() & df.named_subject.isna()].first_title.value_counts().head(30).index.tolist()"
   ]
  },
  {
   "cell_type": "code",
   "execution_count": null,
   "metadata": {},
   "outputs": [],
   "source": []
  }
 ],
 "metadata": {
  "kernelspec": {
   "display_name": "Python 3",
   "language": "python",
   "name": "python3"
  },
  "language_info": {
   "codemirror_mode": {
    "name": "ipython",
    "version": 3
   },
   "file_extension": ".py",
   "mimetype": "text/x-python",
   "name": "python",
   "nbconvert_exporter": "python",
   "pygments_lexer": "ipython3",
   "version": "3.7.0"
  }
 },
 "nbformat": 4,
 "nbformat_minor": 4
}
