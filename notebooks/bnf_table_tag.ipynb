{
 "cells": [
  {
   "cell_type": "code",
   "execution_count": 1,
   "metadata": {},
   "outputs": [
    {
     "name": "stderr",
     "output_type": "stream",
     "text": [
      "C:\\Users\\haeeun\\Anaconda3\\lib\\site-packages\\tqdm\\autonotebook.py:17: TqdmExperimentalWarning: Using `tqdm.autonotebook.tqdm` in notebook mode. Use `tqdm.tqdm` instead to force console mode (e.g. in jupyter console)\n",
      "  \" (e.g. in jupyter console)\", TqdmExperimentalWarning)\n"
     ]
    }
   ],
   "source": [
    "from fdh_gallica import Periodical, Search, Document\n",
    "from fdh_gallica.parallel_process import iiif_urls_for_documents\n",
    "from tqdm.autonotebook import tqdm\n",
    "import json\n",
    "import pandas as pd\n",
    "from pandas.io.json import json_normalize\n",
    "import itertools\n",
    "from itertools import chain\n",
    "from itertools import compress\n",
    "import re\n",
    "import wikipedia\n",
    "from bs4 import BeautifulSoup\n",
    "import requests\n",
    "from SPARQLWrapper import SPARQLWrapper, XML\n",
    "import numpy as np"
   ]
  },
  {
   "cell_type": "code",
   "execution_count": 2,
   "metadata": {},
   "outputs": [],
   "source": [
    "bnf_table = pd.read_pickle('data/bnf_table_summaries.pkl')"
   ]
  },
  {
   "cell_type": "code",
   "execution_count": null,
   "metadata": {},
   "outputs": [],
   "source": []
  },
  {
   "cell_type": "code",
   "execution_count": 3,
   "metadata": {},
   "outputs": [],
   "source": [
    "\n",
    "bnf_note_ = list(chain.from_iterable(list(map(lambda x: re.sub(' et ',',',x).split(','),\\\n",
    "                                             bnf_table.note.dropna().unique().tolist()))))\n",
    "#bnf_note = list(chain.from_iterable(list(map(lambda x: re.sub('[()\\d\\.\\-:,\"]','',x).split(),bnf_note_))))"
   ]
  },
  {
   "cell_type": "code",
   "execution_count": null,
   "metadata": {},
   "outputs": [],
   "source": []
  },
  {
   "cell_type": "code",
   "execution_count": 4,
   "metadata": {},
   "outputs": [],
   "source": [
    "bnf_note = pd.Series(bnf_note_)"
   ]
  },
  {
   "cell_type": "code",
   "execution_count": null,
   "metadata": {},
   "outputs": [],
   "source": []
  },
  {
   "cell_type": "code",
   "execution_count": 5,
   "metadata": {},
   "outputs": [],
   "source": [
    "bnf_note = bnf_note.apply(lambda x: re.sub(\"\\(.*\\d+.*\\)\",'',x))\n",
    "bnf_note = bnf_note.apply(lambda x: re.sub(\"[\\(\\)]\",' ',x))\n"
   ]
  },
  {
   "cell_type": "code",
   "execution_count": 6,
   "metadata": {},
   "outputs": [],
   "source": [
    "bnf_note = bnf_note.apply(lambda x: re.sub(\"[Mm]ezzo[\\s-]soprano\",'mezzosoprano',x))\n",
    "#bnf_note = bnf_note.apply(lambda x: re.sub(\"[Mm]ezzo-soprano\",'mezzosoprano',x))\n",
    "bnf_note = bnf_note.apply(lambda x: re.sub(\"[Bb]aryton[\\s-]basse\",'barytonbasse',x))\n",
    "#bnf_note = bnf_note.apply(lambda x: re.sub(\"[Bb]aryton-basse\",'barytonbasse',x))\n",
    "bnf_note = bnf_note.apply(lambda x: re.sub(\"[Hh]omme[\\s-][Pp]olitique\",'hommepolitique',x))\n",
    "#bnf_note = bnf_note.apply(lambda x: re.sub(\"[Hh]omme [Pp]olitique\",'hommepolitique',x))\n",
    "bnf_note = bnf_note.apply(lambda x: re.sub(\"[Cc]hef d'[Oo]rchestre\",'chefdorchetre',x))\n",
    "bnf_note = bnf_note.apply(lambda x: re.sub(\"[Hh]omme de [Ll]ettres\",'hommedelettres',x))\n",
    "bnf_note = bnf_note.apply(lambda x: re.sub(\"[Aa]rtiste [Ll]yrique\",'artistelyrique',x))\n",
    "bnf_note = bnf_note.apply(lambda x: re.sub(\"[Aa]cadémie de [Mm]édecine\",'academiedemédecine',x))\n",
    "bnf_note = bnf_note.apply(lambda x: re.sub(\"[Aa]cadémie des [Sc]iences\",'academiedesciences',x))\n",
    "bnf_note = bnf_note.apply(lambda x: re.sub(\"[Aa]cadémie [Ff]rançaise\",'academiefrançaise',x))\n",
    "bnf_note = bnf_note.apply(lambda x: re.sub(\"[Aa]cadémie [Dd]es [Bb]eaux-arts\",'academiedesbeaxarts',x))\n",
    "bnf_note = bnf_note.apply(lambda x: re.sub(\"[Ll]égion d'[Hh]onneur\",'legiondhonneur',x))"
   ]
  },
  {
   "cell_type": "code",
   "execution_count": 7,
   "metadata": {},
   "outputs": [],
   "source": [
    "bnf_note = bnf_note.apply(lambda x: re.sub(\"['\\.-]\",' ',x))"
   ]
  },
  {
   "cell_type": "code",
   "execution_count": null,
   "metadata": {},
   "outputs": [],
   "source": []
  },
  {
   "cell_type": "code",
   "execution_count": null,
   "metadata": {},
   "outputs": [],
   "source": []
  },
  {
   "cell_type": "code",
   "execution_count": 8,
   "metadata": {},
   "outputs": [],
   "source": [
    "\n",
    "namelist_ = bnf_table.name.apply(lambda x: re.split(\"[ ,'-]\", re.sub('\\(.*\\)','',x))).tolist()\n",
    "nameset = list(chain.from_iterable(namelist_))\n",
    "nameset = list(map(lambda x:x.strip(),nameset))\n",
    "nameset = set(nameset) - set([''])"
   ]
  },
  {
   "cell_type": "code",
   "execution_count": 9,
   "metadata": {},
   "outputs": [],
   "source": [
    "bnf_word_ = list(chain.from_iterable(list(map(lambda x: x.split(),bnf_note.tolist()))))\n",
    "bnf_word_ = list(map(lambda x:x.lower(),bnf_word_))\n",
    "bnf_word = pd.Series(bnf_word_)\n"
   ]
  },
  {
   "cell_type": "code",
   "execution_count": null,
   "metadata": {},
   "outputs": [],
   "source": []
  },
  {
   "cell_type": "code",
   "execution_count": 10,
   "metadata": {},
   "outputs": [],
   "source": [
    "#bnf_note[bnf_note.apply(lambda x: \"cinéma\" in x.lower())].tolist()"
   ]
  },
  {
   "cell_type": "code",
   "execution_count": null,
   "metadata": {},
   "outputs": [],
   "source": []
  },
  {
   "cell_type": "code",
   "execution_count": 11,
   "metadata": {},
   "outputs": [],
   "source": [
    "bnf_word_count = bnf_word.value_counts()\n",
    "bnf_word_count = bnf_word_count.reset_index().rename(columns={'index':'word'})\n",
    "bnf_word_count['strlen'] = bnf_word_count.word.apply(lambda x: len(x))"
   ]
  },
  {
   "cell_type": "code",
   "execution_count": 12,
   "metadata": {},
   "outputs": [],
   "source": [
    "taglist = bnf_word_count.word[(bnf_word_count.word.apply(lambda x: x not in nameset)) & \\\n",
    "               (bnf_word_count.strlen > 4) & (bnf_word_count[0] > 4)].tolist()"
   ]
  },
  {
   "cell_type": "code",
   "execution_count": 13,
   "metadata": {},
   "outputs": [],
   "source": [
    "taglist = ['academiedemédecine', 'academiedesbeaxarts','academiefrançaise',\n",
    "            'acteur', 'actrice', 'administrateur', 'agriculture', 'agronome', 'ambassadeur', 'anarchiste',\n",
    "            'aquarelliste', 'architecte', 'archiviste', 'artiste', 'artistelyrique', 'auteur', 'avocat',\n",
    " 'aéronaute', 'banquier', 'baptiste', 'baron', 'baryton', 'barytonbasse', 'basse', 'bibliothécaire',\n",
    " 'bouffes', 'cantatrice', 'capitaine', 'caricaturiste', 'carrière', 'chansonnier', 'chanteur', 'chanteuse',\n",
    " 'chefdorchetre', 'chevalier', 'chimiste', 'chirurgien', 'chroniqueur', 'cinéma', 'collaborateur',\n",
    " 'collectionneur', 'collège', 'colonel', 'comique', 'commandant', 'commissaire', 'compositeur', 'comédie',\n",
    " 'comédien', 'comédienne', 'conseiller', 'conservateur', 'conteur', 'critique', 'créateur', 'créatrice',\n",
    " 'danseuse', 'dessinateur', 'diplomate', 'directeur', 'directrice', 'docteur', 'dramatique', 'dramaturge',\n",
    " 'droit', 'décorateur', 'député', 'ecrivain', 'empire', 'enseignement', 'essayiste', 'explorateur', 'faculté',\n",
    " 'finance', 'fondateur', 'fondatrice', 'frère', 'gouvernement', 'gouverneur', 'graveur', 'gymnase', 'général',\n",
    " 'géographie', 'historien', 'hommedelettres', 'hommepolitique', 'illustrateur', 'imprimeur', 'ingénieur',\n",
    " 'inspecteur', 'inventeur', 'journaliste', 'legiondhonneur', 'lettres', 'libraire', 'librettiste', 'lieutenant',\n",
    " 'lithographe', 'lyrique', 'magistrat', 'maire', 'marine', 'maître', 'metteur', 'mezzosoprano', 'militaire',\n",
    " 'militant', 'ministre', 'ministère', 'municipal', 'musical', 'musique', 'médecin', 'médecine', 'médicale',\n",
    " 'observatoire', 'officier', 'organiste', 'orientaliste', 'parolier', 'pastelliste', 'pasteur', 'patronyme',\n",
    " 'paysagiste', 'peintre', 'pensionnaire', 'perpétuel', 'philosophe', 'photographe', 'physicien', 'physiologie',\n",
    " 'pianiste', 'polytechnique', 'poète', 'prince', 'professeur', 'propriétaire', 'préfet',\n",
    " 'président', 'prêtre', 'publiciste', 'romancier', 'romancière', 'rédacteur', 'républicain', 'scientifique',\n",
    " 'sculpteur', 'secrétaire', 'sociétaire', 'soprano', 'spécialiste', 'sénateur', 'théophile', 'théoricien',\n",
    " 'théâtre', 'titulaire', 'traducteur', 'ténor', 'vaudeville', 'violoniste', 'voyageur', 'économiste',\n",
    " 'écrivain', 'éditeur' ]\n"
   ]
  },
  {
   "cell_type": "code",
   "execution_count": 14,
   "metadata": {},
   "outputs": [
    {
     "data": {
      "text/plain": [
       "['baron',\n",
       " 'basse',\n",
       " 'droit',\n",
       " 'frère',\n",
       " 'maire',\n",
       " 'poète',\n",
       " 'ténor',\n",
       " 'acteur',\n",
       " 'auteur',\n",
       " 'avocat',\n",
       " 'cinéma',\n",
       " 'député',\n",
       " 'empire',\n",
       " 'marine',\n",
       " 'maître',\n",
       " 'prince',\n",
       " 'préfet',\n",
       " 'prêtre',\n",
       " 'actrice',\n",
       " 'artiste',\n",
       " 'baryton',\n",
       " 'bouffes',\n",
       " 'collège',\n",
       " 'colonel',\n",
       " 'comique',\n",
       " 'comédie',\n",
       " 'conteur',\n",
       " 'docteur',\n",
       " 'faculté',\n",
       " 'finance',\n",
       " 'graveur',\n",
       " 'gymnase',\n",
       " 'général',\n",
       " 'lettres',\n",
       " 'lyrique',\n",
       " 'metteur',\n",
       " 'musical',\n",
       " 'musique',\n",
       " 'médecin',\n",
       " 'pasteur',\n",
       " 'peintre',\n",
       " 'soprano',\n",
       " 'théâtre',\n",
       " 'éditeur',\n",
       " 'agronome',\n",
       " 'banquier',\n",
       " 'baptiste',\n",
       " 'carrière',\n",
       " 'chanteur',\n",
       " 'chimiste',\n",
       " 'comédien',\n",
       " 'critique',\n",
       " 'créateur',\n",
       " 'danseuse',\n",
       " 'ecrivain',\n",
       " 'libraire',\n",
       " 'militant',\n",
       " 'ministre',\n",
       " 'médecine',\n",
       " 'médicale',\n",
       " 'officier',\n",
       " 'parolier',\n",
       " 'pianiste',\n",
       " 'sénateur',\n",
       " 'voyageur',\n",
       " 'écrivain',\n",
       " 'aéronaute',\n",
       " 'capitaine',\n",
       " 'chanteuse',\n",
       " 'chevalier',\n",
       " 'créatrice',\n",
       " 'diplomate',\n",
       " 'directeur',\n",
       " 'essayiste',\n",
       " 'fondateur',\n",
       " 'historien',\n",
       " 'imprimeur',\n",
       " 'ingénieur',\n",
       " 'inventeur',\n",
       " 'magistrat',\n",
       " 'militaire',\n",
       " 'ministère',\n",
       " 'municipal',\n",
       " 'organiste',\n",
       " 'patronyme',\n",
       " 'perpétuel',\n",
       " 'physicien',\n",
       " 'président',\n",
       " 'romancier',\n",
       " 'rédacteur',\n",
       " 'sculpteur',\n",
       " 'théophile',\n",
       " 'titulaire',\n",
       " 'anarchiste',\n",
       " 'architecte',\n",
       " 'archiviste',\n",
       " 'cantatrice',\n",
       " 'chirurgien',\n",
       " 'commandant',\n",
       " 'comédienne',\n",
       " 'conseiller',\n",
       " 'directrice',\n",
       " 'dramatique',\n",
       " 'dramaturge',\n",
       " 'décorateur',\n",
       " 'fondatrice',\n",
       " 'gouverneur',\n",
       " 'géographie',\n",
       " 'inspecteur',\n",
       " 'lieutenant',\n",
       " 'paysagiste',\n",
       " 'philosophe',\n",
       " 'professeur',\n",
       " 'publiciste',\n",
       " 'romancière',\n",
       " 'secrétaire',\n",
       " 'sociétaire',\n",
       " 'théoricien',\n",
       " 'traducteur',\n",
       " 'vaudeville',\n",
       " 'violoniste',\n",
       " 'économiste',\n",
       " 'agriculture',\n",
       " 'ambassadeur',\n",
       " 'chansonnier',\n",
       " 'chroniqueur',\n",
       " 'commissaire',\n",
       " 'compositeur',\n",
       " 'dessinateur',\n",
       " 'explorateur',\n",
       " 'journaliste',\n",
       " 'librettiste',\n",
       " 'lithographe',\n",
       " 'pastelliste',\n",
       " 'photographe',\n",
       " 'physiologie',\n",
       " 'républicain',\n",
       " 'spécialiste',\n",
       " 'aquarelliste',\n",
       " 'barytonbasse',\n",
       " 'conservateur',\n",
       " 'enseignement',\n",
       " 'gouvernement',\n",
       " 'illustrateur',\n",
       " 'mezzosoprano',\n",
       " 'observatoire',\n",
       " 'orientaliste',\n",
       " 'pensionnaire',\n",
       " 'propriétaire',\n",
       " 'scientifique',\n",
       " 'caricaturiste',\n",
       " 'chefdorchetre',\n",
       " 'collaborateur',\n",
       " 'polytechnique',\n",
       " 'administrateur',\n",
       " 'artistelyrique',\n",
       " 'bibliothécaire',\n",
       " 'collectionneur',\n",
       " 'hommedelettres',\n",
       " 'hommepolitique',\n",
       " 'legiondhonneur',\n",
       " 'academiefrançaise',\n",
       " 'academiedemédecine',\n",
       " 'academiedesbeaxarts']"
      ]
     },
     "execution_count": 14,
     "metadata": {},
     "output_type": "execute_result"
    }
   ],
   "source": [
    "taglist.sort(key=lambda s: len(s))\n",
    "taglist"
   ]
  },
  {
   "cell_type": "code",
   "execution_count": 15,
   "metadata": {},
   "outputs": [],
   "source": [
    "def get_tag(x):\n",
    "    \n",
    "    #exceptions\n",
    "    res = []\n",
    "    try:\n",
    "        x = re.sub(\"[Mm]ezzo[\\s-]soprano\",'mezzosoprano',x)\n",
    "        x = re.sub(\"[Bb]aryton[\\s-]basse\",'barytonbasse',x)\n",
    "        x = re.sub(\"[Hh]omme[\\s-][Pp]olitique\",'hommepolitique',x)\n",
    "        x = re.sub(\"[Cc]hef d'[Oo]rchestre\",'chefdorchetre',x)\n",
    "        x = re.sub(\"[Hh]omme de [Ll]ettres\",'hommedelettres',x)\n",
    "        x = re.sub(\"[Aa]rtiste [Ll]yrique\",'artistelyrique',x)\n",
    "        x = re.sub(\"[Aa]cadémie de [Mm]édecine\",'academiedemédecine',x)\n",
    "        x =  re.sub(\"[Aa]cadémie des [Sc]iences\",'academiedesciences',x)\n",
    "        x =  re.sub(\"[Aa]cadémie [Ff]rançaise\",'academiefrançaise',x)\n",
    "        x = re.sub(\"[Aa]cadémie [Dd]es [Bb]eaux-arts\",'academiedesbeaxarts',x)\n",
    "        x = re.sub(\"[Ll]égion d'[Hh]onneur\",'legiondhonneur',x)\n",
    "        x = re.sub(\"['\\.-]\",' ',x)\n",
    "        x = x.lower()\n",
    "        for t in taglist:\n",
    "            if t in x:\n",
    "                res.append(t)\n",
    "    except:\n",
    "        res = []\n",
    "    \n",
    "    # remove duplicates\n",
    "    remove = []\n",
    "    for i in res:\n",
    "        temp = list(compress(res,list(map(lambda x: i in x,res))))\n",
    "        if len(temp) != 1:\n",
    "            remove.append(i)\n",
    "                    \n",
    "    \n",
    "    return list(set(res) - set(remove))"
   ]
  },
  {
   "cell_type": "code",
   "execution_count": 16,
   "metadata": {},
   "outputs": [],
   "source": [
    "def country_clean(x):\n",
    "    try:\n",
    "        if x == 'non renseigné':\n",
    "            return []\n",
    "        else:    \n",
    "            x = x.split('avant')[0].strip()\n",
    "            x = x.split('(')[0].strip()\n",
    "            return [x]\n",
    "    except:\n",
    "        return []"
   ]
  },
  {
   "cell_type": "code",
   "execution_count": 17,
   "metadata": {},
   "outputs": [],
   "source": [
    "bnf_table['tags'] = bnf_table.note.apply(get_tag) + bnf_table.country.apply(country_clean)"
   ]
  },
  {
   "cell_type": "markdown",
   "metadata": {},
   "source": []
  },
  {
   "cell_type": "code",
   "execution_count": null,
   "metadata": {},
   "outputs": [],
   "source": []
  },
  {
   "cell_type": "code",
   "execution_count": 18,
   "metadata": {},
   "outputs": [
    {
     "data": {
      "text/plain": [
       "0                        [député, hommepolitique, France]\n",
       "1                                               [soprano]\n",
       "2                  [sculpteur, peintre, écrivain, France]\n",
       "3                [chimiste, photographe, Grande-Bretagne]\n",
       "4                   [soprano, artistelyrique, États-Unis]\n",
       "                              ...                        \n",
       "1926    [lettres, docteur, romancier, collaborateur, a...\n",
       "1927                                  [diplomate, France]\n",
       "1928    [sculpteur, architecte, peintre, graveur, France]\n",
       "1929           [théâtre, metteur, acteur, cinéma, France]\n",
       "1930                                 [professeur, Russie]\n",
       "Name: tags, Length: 1874, dtype: object"
      ]
     },
     "execution_count": 18,
     "metadata": {},
     "output_type": "execute_result"
    }
   ],
   "source": [
    "bnf_table.tags"
   ]
  },
  {
   "cell_type": "code",
   "execution_count": null,
   "metadata": {},
   "outputs": [],
   "source": []
  },
  {
   "cell_type": "code",
   "execution_count": 19,
   "metadata": {},
   "outputs": [],
   "source": [
    "bnf_table[['name','tags']].to_pickle('data/bnf_tags.pkl')"
   ]
  },
  {
   "cell_type": "code",
   "execution_count": null,
   "metadata": {},
   "outputs": [],
   "source": []
  },
  {
   "cell_type": "code",
   "execution_count": null,
   "metadata": {},
   "outputs": [],
   "source": []
  }
 ],
 "metadata": {
  "kernelspec": {
   "display_name": "Python 3",
   "language": "python",
   "name": "python3"
  },
  "language_info": {
   "codemirror_mode": {
    "name": "ipython",
    "version": 3
   },
   "file_extension": ".py",
   "mimetype": "text/x-python",
   "name": "python",
   "nbconvert_exporter": "python",
   "pygments_lexer": "ipython3",
   "version": "3.7.3"
  }
 },
 "nbformat": 4,
 "nbformat_minor": 4
}
