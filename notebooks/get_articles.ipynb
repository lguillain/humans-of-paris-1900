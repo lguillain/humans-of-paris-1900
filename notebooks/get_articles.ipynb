{
 "cells": [
  {
   "cell_type": "code",
   "execution_count": 1,
   "metadata": {},
   "outputs": [],
   "source": [
    "import json\n",
    "import re\n",
    "import collections\n",
    "import numpy as np\n",
    "import multiprocessing\n",
    "\n",
    "import warnings\n",
    "warnings.filterwarnings('ignore')\n",
    "\n",
    "import wikipedia\n",
    "import pandas as pd\n",
    "\n",
    "wikipedia.set_lang('en')\n",
    "\n",
    "from fdh_gallica import Search\n",
    "\n",
    "N_PROC = 8"
   ]
  },
  {
   "cell_type": "code",
   "execution_count": 2,
   "metadata": {},
   "outputs": [],
   "source": [
    "df = pd.read_pickle('named_subject.pkl')"
   ]
  },
  {
   "cell_type": "code",
   "execution_count": 3,
   "metadata": {},
   "outputs": [
    {
     "data": {
      "text/plain": [
       "(1937,)"
      ]
     },
     "execution_count": 3,
     "metadata": {},
     "output_type": "execute_result"
    }
   ],
   "source": [
    "df.named_subject.unique().shape"
   ]
  },
  {
   "cell_type": "markdown",
   "metadata": {},
   "source": [
    "### Wikipedia Search"
   ]
  },
  {
   "cell_type": "code",
   "execution_count": 14,
   "metadata": {},
   "outputs": [],
   "source": [
    "all_names = df.named_subject.unique().tolist()[0:500]"
   ]
  },
  {
   "cell_type": "code",
   "execution_count": 5,
   "metadata": {},
   "outputs": [
    {
     "data": {
      "text/plain": [
       "['Auguez, Mathilde',\n",
       " 'Bruant, Aristide',\n",
       " 'Brasseur, Albert',\n",
       " 'Decroza, Francine',\n",
       " 'Lender, Marcelle',\n",
       " 'Bernhardt, Sarah',\n",
       " 'Regnard, Victor-Auguste',\n",
       " 'Darcourt, Juliette',\n",
       " 'Dauville, Louise',\n",
       " 'Gobin, Charles Constant',\n",
       " 'Nâser ed-Din',\n",
       " 'Gille, Philippe',\n",
       " 'Gélabert, Conchita, Marie',\n",
       " 'Joncières, Victorin',\n",
       " 'Detaille, Édouard',\n",
       " \"Auriac, Eugène d'\",\n",
       " 'Terront, Charles',\n",
       " 'Georges, Édouard',\n",
       " 'Armand, Victorin',\n",
       " 'Bellot',\n",
       " 'Blanc, Louis',\n",
       " 'Lugné-Poë',\n",
       " 'Faivre, Abel',\n",
       " 'Millière, Joséphine Louise',\n",
       " 'Hading, Jane',\n",
       " 'Joséphine',\n",
       " 'Poubelle, Eugène-René',\n",
       " 'Bastide, Jules',\n",
       " 'Cassive',\n",
       " 'Offenbach, Jacques',\n",
       " 'Nadar',\n",
       " 'Chevreul, Eugène',\n",
       " 'Nadar, Paul',\n",
       " 'Chevreul, Henri',\n",
       " 'Berlioz, Hector',\n",
       " 'Gallifet, Gaston Alexandre Auguste de',\n",
       " 'Clairville',\n",
       " 'Crémieux, Adolphe',\n",
       " 'Sandeau, Jules',\n",
       " 'Méry, Joseph',\n",
       " 'Courbet, Gustave',\n",
       " 'Janin, Jules',\n",
       " 'Crétineau-Joly, Jacques',\n",
       " 'Gautier, Théophile',\n",
       " 'Veuillot, Louis',\n",
       " 'Féval, Paul',\n",
       " 'Karr, Alphonse',\n",
       " 'Feuillet, Octave',\n",
       " 'Champfleury',\n",
       " 'Pène, Henri de',\n",
       " 'Noël, Alphonse-Léon',\n",
       " 'Commerson',\n",
       " 'Cham',\n",
       " 'Lucas, Hippolyte',\n",
       " 'Gozlan, Léon',\n",
       " 'Chasles, Philarète',\n",
       " 'David, Félicien',\n",
       " 'Barrière, Théodore',\n",
       " 'Banville, Théodore de',\n",
       " \"Ennery, Adolphe d'\",\n",
       " 'Désiré',\n",
       " 'Belot, Adolphe',\n",
       " 'Kelm, Joseph',\n",
       " 'Vattemare, Alexandre',\n",
       " 'Stop',\n",
       " 'Angèle',\n",
       " 'Doche, Charlotte',\n",
       " 'Bergeret, Jules',\n",
       " 'Busnach, William',\n",
       " 'Bianca',\n",
       " 'Abbéma, Louise',\n",
       " 'Blum, Ernest',\n",
       " 'Dethou, Alexandre',\n",
       " 'Dallemagne, Adolphe',\n",
       " 'Nilsson, Christine',\n",
       " 'Daubray',\n",
       " 'Hubans, Charles',\n",
       " 'Faivre, Céleste',\n",
       " 'Hément, Félix',\n",
       " 'Paulus',\n",
       " 'Bourdin, Gustave',\n",
       " 'Daumier, Honoré',\n",
       " 'Elwart, Antoine',\n",
       " 'Chapus, Eugène',\n",
       " 'Jubinal, Achille',\n",
       " 'Lefort, Jules',\n",
       " 'Barbès, Armand',\n",
       " 'Frémy, Edmond',\n",
       " 'Baudry, Paul',\n",
       " 'Barbara, Charles',\n",
       " 'Halévy, Fromental',\n",
       " 'Labiche, Eugène',\n",
       " 'Guérin, Alphonse',\n",
       " 'Isabey, Eugène',\n",
       " 'Gondinet, Edmond',\n",
       " 'Jouvin, Benoît',\n",
       " 'Ricord, Philippe',\n",
       " 'Rossini, Gioachino',\n",
       " 'Tamberlik, Enrico',\n",
       " 'Croizette, Sophie',\n",
       " 'Manceau, Alexandre',\n",
       " 'Nicolle, Henri',\n",
       " 'Ponsard, François',\n",
       " 'Michelet, Jules',\n",
       " 'Garnier, Charles',\n",
       " 'Eiffel, Gustave',\n",
       " 'Thalberg, Sigismond',\n",
       " 'Pasca, Alix',\n",
       " 'Naquet, Alfred',\n",
       " 'Legouvé, Ernest',\n",
       " 'Vitu, Auguste',\n",
       " 'Porel, Paul',\n",
       " 'Dupuis, Adolphe',\n",
       " 'Ribeyre, Félix',\n",
       " 'Liszt, Franz',\n",
       " 'Bertrand, Eugène',\n",
       " 'Wilson, Daniel',\n",
       " 'Dorchain, Auguste',\n",
       " 'Lachenal, Edmond',\n",
       " 'Cornélie',\n",
       " 'Donval, Raoul',\n",
       " 'Nefftzer, Auguste',\n",
       " 'Bosquin, Jules',\n",
       " 'Réjane',\n",
       " 'Plantade, Charles-François',\n",
       " 'Dieudonné',\n",
       " 'Bazin, Francois',\n",
       " 'Clésinger, Auguste',\n",
       " 'Dumaine, Louis-François',\n",
       " 'Salla, Caroline',\n",
       " 'Vieuxtemps, Henry',\n",
       " 'Aicard, Jean',\n",
       " 'Siraudin, Paul',\n",
       " 'Angelo',\n",
       " 'Capoul, Victor',\n",
       " 'Delacour, Alfred',\n",
       " 'Philipon, Eugène',\n",
       " 'Doré, Gustave',\n",
       " 'Samary, Jeanne',\n",
       " 'Rouget, Georges',\n",
       " 'Floquet, Charles',\n",
       " 'Bazille, Auguste',\n",
       " 'Lozé, Henri',\n",
       " 'Sermet, Mario',\n",
       " 'Drumont, Édouard',\n",
       " 'Canrobert, François Certain',\n",
       " 'Balfe, Michael William',\n",
       " 'Gérôme, Jean-Léon',\n",
       " 'Bakunin, Mihail Aleksandrovič',\n",
       " 'Coquerel, Athanase-Josué',\n",
       " 'Havin, Léonor-Joseph',\n",
       " 'Larchey, François-Etienne',\n",
       " 'Ragkavī́s, Aléxandros Rízos',\n",
       " 'Rousseau, Jean Baptiste',\n",
       " 'Peligot, Eugène-Melchior',\n",
       " 'Villemessant, Hippolyte de',\n",
       " 'Mirès, Jules Isaac',\n",
       " 'Berthelier, Jean-François',\n",
       " 'Duez, Ernest-Ange',\n",
       " 'Febvre, Paul',\n",
       " 'Montrouge',\n",
       " 'Patry, Pauline',\n",
       " 'Feyghine',\n",
       " 'Chevrolat, Auguste',\n",
       " 'Bérardi, Gaston',\n",
       " 'Grévin, Alfred',\n",
       " 'Thiron, Charles',\n",
       " 'Laussedat, Aimé',\n",
       " 'Comettant, Oscar',\n",
       " 'Harmand, Jules',\n",
       " 'Lockroy, Édouard',\n",
       " 'Monod, Guillaume',\n",
       " 'Petroz, Pierre',\n",
       " 'Taylor, Justin',\n",
       " 'Perdonnet, Auguste',\n",
       " 'Garibaldi, Giuseppe',\n",
       " 'Mélesville',\n",
       " 'Larcher, Eugène',\n",
       " 'Monod, Adolphe',\n",
       " 'Billiart, Norbert',\n",
       " 'Bonvin, François',\n",
       " 'Sighicelli, Vincenzo',\n",
       " 'Berton, Pierre',\n",
       " 'Greppo, Louis',\n",
       " 'Gill, André',\n",
       " 'Febvre, Frédéric',\n",
       " 'Le Guillois',\n",
       " 'Hermant, Achille',\n",
       " 'Mérat, Albert',\n",
       " 'Frémiet, Emmanuel',\n",
       " 'Vanloo, Albert',\n",
       " 'Prim, Juan',\n",
       " 'Usquin, Henri',\n",
       " 'Clappier, Félix',\n",
       " 'Delvau, Alfred',\n",
       " 'Caraguel, Clément',\n",
       " 'Gannal, Félix',\n",
       " 'Lajarte, Théodore',\n",
       " 'Silly, Léa',\n",
       " 'Belhomme, Hippolyte']"
      ]
     },
     "execution_count": 5,
     "metadata": {},
     "output_type": "execute_result"
    }
   ],
   "source": [
    "all_names"
   ]
  },
  {
   "cell_type": "code",
   "execution_count": 6,
   "metadata": {},
   "outputs": [],
   "source": [
    "pool = multiprocessing.Pool(processes=N_PROC)\n",
    "# wiki_searchs = dict(zip(all_names, pool.map(hacked_search, all_names)))\n",
    "# with open('wiki_searchs.json', 'w') as fp:\n",
    "#     json.dump(wiki_searchs, fp)\n",
    "# print(len(wiki_searchs))"
   ]
  },
  {
   "cell_type": "code",
   "execution_count": null,
   "metadata": {},
   "outputs": [],
   "source": []
  },
  {
   "cell_type": "code",
   "execution_count": 7,
   "metadata": {},
   "outputs": [],
   "source": [
    "def hacked_page(x):\n",
    "    try:\n",
    "        page = wikipedia.page(x)\n",
    "    except:\n",
    "        page = ''\n",
    "    return page\n",
    "\n",
    "def hacked_content(x):\n",
    "    try:\n",
    "        page = wikipedia.page(x).content\n",
    "    except:\n",
    "        page = ''\n",
    "    return page\n",
    "    "
   ]
  },
  {
   "cell_type": "markdown",
   "metadata": {},
   "source": [
    "#### First try searching page summaries"
   ]
  },
  {
   "cell_type": "code",
   "execution_count": 8,
   "metadata": {},
   "outputs": [],
   "source": [
    "# copied from extract-wiki-info.ipunb\n",
    "\n",
    "def hacked_summary(x):\n",
    "    try:\n",
    "        s = wikipedia.summary(x, sentences=2)\n",
    "        return s\n",
    "    except:\n",
    "        return ''"
   ]
  },
  {
   "cell_type": "code",
   "execution_count": 15,
   "metadata": {},
   "outputs": [],
   "source": [
    "#wiki_summaries = dict(zip(all_names, pool.map(hacked_summary, all_names)))\n",
    "wiki_summaries = dict(zip(all_names,map(hacked_summary, all_names)))"
   ]
  },
  {
   "cell_type": "markdown",
   "metadata": {},
   "source": [
    "save name-wiki summary association in json"
   ]
  },
  {
   "cell_type": "code",
   "execution_count": 16,
   "metadata": {},
   "outputs": [],
   "source": [
    "with open('wiki_summaries.json', 'w') as fp:\n",
    "    json.dump(wiki_summaries, fp)"
   ]
  },
  {
   "cell_type": "markdown",
   "metadata": {},
   "source": [
    "dataframe of named subjects "
   ]
  },
  {
   "cell_type": "code",
   "execution_count": 17,
   "metadata": {},
   "outputs": [],
   "source": [
    "wiki_frame = pd.DataFrame(list(wiki_summaries.items()), columns=['name','summary'])"
   ]
  },
  {
   "cell_type": "code",
   "execution_count": 19,
   "metadata": {},
   "outputs": [
    {
     "data": {
      "text/plain": [
       "(171, 2)"
      ]
     },
     "execution_count": 19,
     "metadata": {},
     "output_type": "execute_result"
    }
   ],
   "source": [
    "wiki_frame[wiki_frame.summary==''].shape"
   ]
  },
  {
   "cell_type": "code",
   "execution_count": 20,
   "metadata": {},
   "outputs": [
    {
     "data": {
      "text/plain": [
       "(500, 2)"
      ]
     },
     "execution_count": 20,
     "metadata": {},
     "output_type": "execute_result"
    }
   ],
   "source": [
    "wiki_frame.shape"
   ]
  },
  {
   "cell_type": "code",
   "execution_count": 13,
   "metadata": {},
   "outputs": [],
   "source": [
    "#wikipedia.set_lang('fr')\n",
    "#wiki_summaries_fr = dict(zip(all_names,map(hacked_summary, all_names)))\n",
    "#with open('wiki_summaries_fr.json', 'w') as fp:\n",
    "#    json.dump(wiki_summaries_fr, fp)"
   ]
  },
  {
   "cell_type": "markdown",
   "metadata": {},
   "source": [
    "### BnF Data Search"
   ]
  },
  {
   "cell_type": "code",
   "execution_count": null,
   "metadata": {},
   "outputs": [],
   "source": []
  },
  {
   "cell_type": "code",
   "execution_count": null,
   "metadata": {},
   "outputs": [],
   "source": []
  },
  {
   "cell_type": "code",
   "execution_count": null,
   "metadata": {},
   "outputs": [],
   "source": []
  }
 ],
 "metadata": {
  "kernelspec": {
   "display_name": "Python 3",
   "language": "python",
   "name": "python3"
  },
  "language_info": {
   "codemirror_mode": {
    "name": "ipython",
    "version": 3
   },
   "file_extension": ".py",
   "mimetype": "text/x-python",
   "name": "python",
   "nbconvert_exporter": "python",
   "pygments_lexer": "ipython3",
   "version": "3.7.3"
  }
 },
 "nbformat": 4,
 "nbformat_minor": 4
}
