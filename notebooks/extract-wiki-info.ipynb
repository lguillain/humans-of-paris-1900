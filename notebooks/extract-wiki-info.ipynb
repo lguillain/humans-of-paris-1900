{
 "cells": [
  {
   "cell_type": "markdown",
   "metadata": {},
   "source": [
    "## Goal: \n",
    "[wikipedia api](https://pypi.org/project/wikipedia/)\n",
    "\n",
    "    - Extract unique names from subject and title and search in wikipedia information about them\n",
    "    \n",
    "\n",
    "    \n",
    "## Next Steps:\n",
    "    - Improve the search using year (extract year from records and match with wikipedia description date) for the items with more than one reference attached in wikipedia"
   ]
  },
  {
   "cell_type": "code",
   "execution_count": 1,
   "metadata": {},
   "outputs": [],
   "source": [
    "import json\n",
    "import re\n",
    "import collections\n",
    "import numpy as np\n",
    "import multiprocessing\n",
    "\n",
    "import warnings\n",
    "warnings.filterwarnings('ignore')\n",
    "\n",
    "import wikipedia\n",
    "import pandas as pd\n",
    "\n",
    "wikipedia.set_lang('en')\n",
    "\n",
    "from fdh_gallica import Search\n",
    "\n",
    "N_PROC = 8"
   ]
  },
  {
   "cell_type": "code",
   "execution_count": 2,
   "metadata": {},
   "outputs": [],
   "source": [
    "# search = Search(all_fields=\"atelier nadar\", dc_type=\"image\", dc_creator='atelier nadar')\n",
    "# search.execute()\n",
    "# search.total_records\n",
    "# with open('raw_records.json', 'w') as fp:\n",
    "#     json.dump(search.records, fp)\n",
    "with open('raw_records.json', 'r') as fp:\n",
    "    raw_records = json.load(fp)"
   ]
  },
  {
   "cell_type": "code",
   "execution_count": 3,
   "metadata": {},
   "outputs": [],
   "source": [
    "##### Copied from Cleaning data notebook #####\n",
    "def find_names(name):\n",
    "    return re.findall('([\\S]* [\\S]*|[\\S]*|[\\S]*\\, [\\S]*[ \\S*]+) \\([\\d]{2}', name)\n",
    "\n",
    "def find_names_undated(name):\n",
    "    # mo\n",
    "    return re.findall('([\\S]*|[\\S]*\\, [\\S]*[ \\S*]+) -- Portraits', name)\n",
    "\n",
    "def find_names_title(name):\n",
    "    return [x.strip() for x in re.findall('([\\S\\s ^(\\:)]*) \\: ', name) if len(x.strip()) > 0]\n",
    "\n",
    "def extract_from_brackets(name):\n",
    "    return re.findall('\\[([\\w \\-\\,\\.]*)\\]', name)\n",
    "\n",
    "def extract_caricature(name):\n",
    "    return name.split('Caricature de')[-1].split('pour')[0][:-2]"
   ]
  },
  {
   "cell_type": "code",
   "execution_count": 4,
   "metadata": {},
   "outputs": [],
   "source": [
    "def get_names(data):\n",
    "    \n",
    "    # in subject\n",
    "    subject_lists = [[r['dc:subject']] if isinstance(r['dc:subject'], str) \n",
    "                     else r['dc:subject'] \n",
    "                     for r in raw_records]\n",
    "    \n",
    "    names_subject_with_date = [find_names(item) \n",
    "                               for sub in subject_lists\n",
    "                               for item in sub if find_names(item)]  \n",
    "    \n",
    "    flat_names_subject_with_date = [item \n",
    "                                    for sub in names_subject_with_date \n",
    "                                    for item in sub]\n",
    "    \n",
    "    names_subject_without_date = [find_names_undated(item) \n",
    "                                  for sub in subject_lists\n",
    "                                  for item in sub if find_names_undated(item)]\n",
    "    flat_names_subject_without_date = [item.split('(')[0][:-2]\n",
    "                                            for sub in names_subject_without_date\n",
    "                                            for item in sub]\n",
    "    \n",
    "    # in title\n",
    "    title_lists = [[r['dc:title']] if isinstance(r['dc:title'], str) \n",
    "                     else r['dc:title'] \n",
    "                     for r in raw_records]\n",
    "    \n",
    "    names_title = [find_names_title(item) \n",
    "                   for sub in title_lists\n",
    "                   for item in sub if find_names_title(item)] \n",
    "    \n",
    "    flat_names_title = [item.replace('[', '').replace(']', '')\n",
    "                        for sub in names_title\n",
    "                        for item in sub]\n",
    "    \n",
    "    all_names = flat_names_subject_with_date + flat_names_subject_without_date + flat_names_title\n",
    "    \n",
    "    all_names = [extract_caricature(x) for x in all_names]\n",
    "    \n",
    "    unique_names = [x for x in list(set(all_names)) if x!='']\n",
    "    \n",
    "    return unique_names"
   ]
  },
  {
   "cell_type": "code",
   "execution_count": 5,
   "metadata": {},
   "outputs": [
    {
     "name": "stdout",
     "output_type": "stream",
     "text": [
      "12644\n"
     ]
    },
    {
     "data": {
      "text/plain": [
       "['Gabrielli, Nic',\n",
       " 'Mlle Blanche. Folies-Dramatiques. R',\n",
       " 'Dejazet, Virgi',\n",
       " 'Mme Dufourment',\n",
       " 'Montrou',\n",
       " \"Mes Dareime et d'Avr\",\n",
       " 'Chassin, Charles-Lo',\n",
       " 'Me Milla',\n",
       " 'Guillard. Comédie Françai',\n",
       " 'Transfusion du sa',\n",
       " 'Stadler, André Eugène Barthélémy',\n",
       " 'Bianca. Ed',\n",
       " 'Granet, Fél']"
      ]
     },
     "execution_count": 5,
     "metadata": {},
     "output_type": "execute_result"
    }
   ],
   "source": [
    "all_names = get_names(raw_records)\n",
    "print(len(all_names))\n",
    "all_names[987:1000]"
   ]
  },
  {
   "cell_type": "code",
   "execution_count": 6,
   "metadata": {},
   "outputs": [
    {
     "data": {
      "text/plain": [
       "['Charles-François Plantade', '1787 in music']"
      ]
     },
     "execution_count": 6,
     "metadata": {},
     "output_type": "execute_result"
    }
   ],
   "source": [
    "wikipedia.search(\"Plantade, Charles-François (1787-1870)\")"
   ]
  },
  {
   "cell_type": "code",
   "execution_count": 12,
   "metadata": {},
   "outputs": [],
   "source": [
    "def hacked_search(x):\n",
    "    return wikipedia.search(x) # just pure functions can be pickled and distributed\n",
    "\n",
    "pool = multiprocessing.Pool(processes=N_PROC)\n",
    "# wiki_searchs = dict(zip(all_names, pool.map(hacked_search, all_names)))\n",
    "# with open('wiki_searchs.json', 'w') as fp:\n",
    "#     json.dump(wiki_searchs, fp)\n",
    "# print(len(wiki_searchs))"
   ]
  },
  {
   "cell_type": "code",
   "execution_count": 13,
   "metadata": {},
   "outputs": [
    {
     "name": "stdout",
     "output_type": "stream",
     "text": [
      "12644\n"
     ]
    }
   ],
   "source": [
    "with open('wiki_searchs.json', 'r') as fp:\n",
    "    wiki_searchs = json.load(fp)\n",
    "print(len(wiki_searchs))"
   ]
  },
  {
   "cell_type": "code",
   "execution_count": 14,
   "metadata": {},
   "outputs": [
    {
     "data": {
      "text/plain": [
       "Counter({0: 7522,\n",
       "         2: 359,\n",
       "         10: 3234,\n",
       "         3: 226,\n",
       "         7: 83,\n",
       "         1: 650,\n",
       "         6: 95,\n",
       "         4: 181,\n",
       "         8: 99,\n",
       "         9: 49,\n",
       "         5: 146})"
      ]
     },
     "execution_count": 14,
     "metadata": {},
     "output_type": "execute_result"
    }
   ],
   "source": [
    "collections.Counter([len(x) for x in wiki_searchs.values()])"
   ]
  },
  {
   "cell_type": "code",
   "execution_count": 15,
   "metadata": {},
   "outputs": [
    {
     "data": {
      "text/plain": [
       "[\"Cécilia. Bouffes. Mam'zelle Crén\",\n",
       " 'Feuillet de Conche i.e. Feuillet de Conch',\n",
       " 'Granier. Gaîté. Orphée aux enfe']"
      ]
     },
     "execution_count": 15,
     "metadata": {},
     "output_type": "execute_result"
    }
   ],
   "source": [
    "with_0_wiki = [k for k,v in wiki_searchs.items() if len(v)==0]\n",
    "with_0_wiki[3:6]"
   ]
  },
  {
   "cell_type": "code",
   "execution_count": 16,
   "metadata": {},
   "outputs": [
    {
     "data": {
      "text/plain": [
       "12644"
      ]
     },
     "execution_count": 16,
     "metadata": {},
     "output_type": "execute_result"
    }
   ],
   "source": [
    "def hacked_summary(x):\n",
    "    try:\n",
    "        s = wikipedia.summary(x, sentences=2)\n",
    "        return s\n",
    "    except:\n",
    "        return ''\n",
    "\n",
    "wiki_summaries = dict(zip(all_names, pool.map(hacked_summary, all_names)))\n",
    "len(wiki_summaries)"
   ]
  },
  {
   "cell_type": "code",
   "execution_count": null,
   "metadata": {},
   "outputs": [],
   "source": [
    "page = wikipedia.page(\"google\")\n",
    "print(page.images[0])"
   ]
  },
  {
   "cell_type": "code",
   "execution_count": null,
   "metadata": {},
   "outputs": [],
   "source": [
    "print(wikipedia.suggest(\"Bill cliton\"))"
   ]
  }
 ],
 "metadata": {
  "kernelspec": {
   "display_name": "Humans of Paris",
   "language": "python",
   "name": "humans-of-paris"
  },
  "language_info": {
   "codemirror_mode": {
    "name": "ipython",
    "version": 3
   },
   "file_extension": ".py",
   "mimetype": "text/x-python",
   "name": "python",
   "nbconvert_exporter": "python",
   "pygments_lexer": "ipython3",
   "version": "3.6.7"
  }
 },
 "nbformat": 4,
 "nbformat_minor": 2
}
