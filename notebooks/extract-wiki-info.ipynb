{
 "cells": [
  {
   "cell_type": "markdown",
   "metadata": {},
   "source": [
    "Goal: \n",
    "    - Extract unique names from subject and title and search in wikipedia information about them\n",
    "    \n",
    "Next Steps:\n",
    "    - Improve the search using year (extract year from records and match with wikipedia description date) for the items with more than one reference attached in wikipedia"
   ]
  },
  {
   "cell_type": "code",
   "execution_count": 1,
   "metadata": {},
   "outputs": [
    {
     "name": "stderr",
     "output_type": "stream",
     "text": [
      "/Users/lia/miniconda3/lib/python3.6/site-packages/tqdm/autonotebook.py:17: TqdmExperimentalWarning: Using `tqdm.autonotebook.tqdm` in notebook mode. Use `tqdm.tqdm` instead to force console mode (e.g. in jupyter console)\n",
      "  \" (e.g. in jupyter console)\", TqdmExperimentalWarning)\n"
     ]
    }
   ],
   "source": [
    "import json\n",
    "import re\n",
    "import collections\n",
    "import numpy as np\n",
    "import multiprocessing\n",
    "\n",
    "import wikipedia\n",
    "import pandas as pd\n",
    "\n",
    "wikipedia.set_lang('en')\n",
    "\n",
    "from fdh_gallica import Search\n",
    "\n",
    "N_PROC = 8"
   ]
  },
  {
   "cell_type": "code",
   "execution_count": 2,
   "metadata": {},
   "outputs": [],
   "source": [
    "# search = Search(all_fields=\"atelier nadar\", dc_type=\"image\", dc_creator='atelier nadar')\n",
    "# search.execute()\n",
    "# search.total_records\n",
    "# with open('raw_records.json', 'w') as fp:\n",
    "#     json.dump(search.records, fp)\n",
    "with open('raw_records.json', 'r') as fp:\n",
    "    raw_records = json.load(fp)"
   ]
  },
  {
   "cell_type": "code",
   "execution_count": 3,
   "metadata": {},
   "outputs": [],
   "source": [
    "##### Copied from Cleaning data notebook #####\n",
    "def find_names(name):\n",
    "    return re.findall('([\\S]* [\\S]*|[\\S]*|[\\S]*\\, [\\S]*[ \\S*]+) \\([\\d]{2}', name)\n",
    "\n",
    "def find_names_undated(name):\n",
    "    # mo\n",
    "    return re.findall('([\\S]*|[\\S]*\\, [\\S]*[ \\S*]+) -- Portraits', name)\n",
    "\n",
    "def find_names_title(name):\n",
    "    return [x.strip() for x in re.findall('([\\S\\s ^(\\:)]*) \\: ', name) if len(x.strip()) > 0]\n",
    "\n",
    "def extract_from_brackets(name):\n",
    "    return re.findall('\\[([\\w \\-\\,\\.]*)\\]', name)\n",
    "\n",
    "def extract_caricature(name):\n",
    "    return name.split('Caricature de')[-1].split('pour')[0][:-2]"
   ]
  },
  {
   "cell_type": "code",
   "execution_count": 17,
   "metadata": {},
   "outputs": [],
   "source": [
    "def get_names(data):\n",
    "    \n",
    "    # in subject\n",
    "    subject_lists = [[r['dc:subject']] if isinstance(r['dc:subject'], str) \n",
    "                     else r['dc:subject'] \n",
    "                     for r in raw_records]\n",
    "    \n",
    "    names_subject_with_date = [find_names(item) \n",
    "                               for sub in subject_lists\n",
    "                               for item in sub if find_names(item)]  \n",
    "    \n",
    "    flat_names_subject_with_date = [item \n",
    "                                    for sub in names_subject_with_date \n",
    "                                    for item in sub]\n",
    "    \n",
    "    names_subject_without_date = [find_names_undated(item) \n",
    "                                  for sub in subject_lists\n",
    "                                  for item in sub if find_names_undated(item)]\n",
    "    flat_names_subject_without_date = [item.split('(')[0][:-2]\n",
    "                                            for sub in names_subject_without_date\n",
    "                                            for item in sub]\n",
    "    \n",
    "    # in title\n",
    "    title_lists = [[r['dc:title']] if isinstance(r['dc:title'], str) \n",
    "                     else r['dc:title'] \n",
    "                     for r in raw_records]\n",
    "    \n",
    "    names_title = [find_names_title(item) \n",
    "                   for sub in title_lists\n",
    "                   for item in sub if find_names_title(item)] \n",
    "    \n",
    "    flat_names_title = [item.replace('[', '').replace(']', '')\n",
    "                        for sub in names_title\n",
    "                        for item in sub]\n",
    "    \n",
    "    all_names = flat_names_subject_with_date + flat_names_subject_without_date + flat_names_title\n",
    "    \n",
    "    all_names = [extract_caricature(x) for x in all_names]\n",
    "    \n",
    "    unique_names = [x for x in list(set(all_names)) if x!='']\n",
    "    \n",
    "    return unique_names"
   ]
  },
  {
   "cell_type": "code",
   "execution_count": 22,
   "metadata": {},
   "outputs": [
    {
     "name": "stdout",
     "output_type": "stream",
     "text": [
      "12644\n"
     ]
    },
    {
     "data": {
      "text/plain": [
       "['M. Fugère et Landr',\n",
       " 'Savenay. Variétés. La rev',\n",
       " 'Onésime Recl',\n",
       " 'Couralet. Folies Bergère. \"Les Poules de Grévi',\n",
       " 'M. Selli',\n",
       " 'Arnaud, Alb',\n",
       " 'Mlle Guitty. Gaîté. Bicyclistes en voya',\n",
       " 'Coche',\n",
       " 'Tardieu, Ambroi',\n",
       " 'Baugniet, Charl',\n",
       " 'Me Carnot. Mère du président de la Républiq',\n",
       " 'Gildès, Anth',\n",
       " 'Chavannes, Pier']"
      ]
     },
     "execution_count": 22,
     "metadata": {},
     "output_type": "execute_result"
    }
   ],
   "source": [
    "all_names = get_names(raw_records)\n",
    "print(len(all_names))\n",
    "all_names[987:1000]"
   ]
  },
  {
   "cell_type": "code",
   "execution_count": 23,
   "metadata": {},
   "outputs": [
    {
     "data": {
      "text/plain": [
       "['Charles-François Plantade', '1787 in music']"
      ]
     },
     "execution_count": 23,
     "metadata": {},
     "output_type": "execute_result"
    }
   ],
   "source": [
    "wikipedia.search(\"Plantade, Charles-François (1787-1870)\")"
   ]
  },
  {
   "cell_type": "code",
   "execution_count": 47,
   "metadata": {},
   "outputs": [
    {
     "data": {
      "text/plain": [
       "12644"
      ]
     },
     "execution_count": 47,
     "metadata": {},
     "output_type": "execute_result"
    },
    {
     "name": "stderr",
     "output_type": "stream",
     "text": [
      "/Users/lia/miniconda3/lib/python3.6/site-packages/bs4/__init__.py:181: UserWarning: No parser was explicitly specified, so I'm using the best available HTML parser for this system (\"lxml\"). This usually isn't a problem, but if you run this code on another system, or in a different virtual environment, it may use a different parser and behave differently.\n",
      "\n",
      "The code that caused this warning is on line 193 of the file /Users/lia/miniconda3/lib/python3.6/runpy.py. To get rid of this warning, change code that looks like this:\n",
      "\n",
      " BeautifulSoup(YOUR_MARKUP})\n",
      "\n",
      "to this:\n",
      "\n",
      " BeautifulSoup(YOUR_MARKUP, \"lxml\")\n",
      "\n",
      "  markup_type=markup_type))\n",
      "/Users/lia/miniconda3/lib/python3.6/site-packages/bs4/__init__.py:181: UserWarning: No parser was explicitly specified, so I'm using the best available HTML parser for this system (\"lxml\"). This usually isn't a problem, but if you run this code on another system, or in a different virtual environment, it may use a different parser and behave differently.\n",
      "\n",
      "The code that caused this warning is on line 193 of the file /Users/lia/miniconda3/lib/python3.6/runpy.py. To get rid of this warning, change code that looks like this:\n",
      "\n",
      " BeautifulSoup(YOUR_MARKUP})\n",
      "\n",
      "to this:\n",
      "\n",
      " BeautifulSoup(YOUR_MARKUP, \"lxml\")\n",
      "\n",
      "  markup_type=markup_type))\n",
      "/Users/lia/miniconda3/lib/python3.6/site-packages/bs4/__init__.py:181: UserWarning: No parser was explicitly specified, so I'm using the best available HTML parser for this system (\"lxml\"). This usually isn't a problem, but if you run this code on another system, or in a different virtual environment, it may use a different parser and behave differently.\n",
      "\n",
      "The code that caused this warning is on line 193 of the file /Users/lia/miniconda3/lib/python3.6/runpy.py. To get rid of this warning, change code that looks like this:\n",
      "\n",
      " BeautifulSoup(YOUR_MARKUP})\n",
      "\n",
      "to this:\n",
      "\n",
      " BeautifulSoup(YOUR_MARKUP, \"lxml\")\n",
      "\n",
      "  markup_type=markup_type))\n"
     ]
    }
   ],
   "source": [
    "def hacked_search(x):\n",
    "    return wikipedia.search(x) # just pure functions can be pickled and distributed\n",
    "\n",
    "pool = multiprocessing.Pool(processes=N_PROC)\n",
    "wiki_searchs = dict(zip(all_names, pool.map(hacked_search, all_names)))\n",
    "len(wiki_searchs)"
   ]
  },
  {
   "cell_type": "code",
   "execution_count": 48,
   "metadata": {},
   "outputs": [
    {
     "data": {
      "text/plain": [
       "Counter({0: 7525,\n",
       "         2: 359,\n",
       "         1: 648,\n",
       "         10: 3236,\n",
       "         3: 225,\n",
       "         6: 95,\n",
       "         5: 145,\n",
       "         7: 84,\n",
       "         4: 182,\n",
       "         8: 97,\n",
       "         9: 48})"
      ]
     },
     "execution_count": 48,
     "metadata": {},
     "output_type": "execute_result"
    }
   ],
   "source": [
    "collections.Counter([len(x) for x in wiki_searchs.values()])"
   ]
  },
  {
   "cell_type": "code",
   "execution_count": 49,
   "metadata": {},
   "outputs": [
    {
     "data": {
      "text/plain": [
       "['Saint-Georges, Alexandre-Pierre-Thomas-Amab',\n",
       " 'Weill. Folies Dramatiques. La fauvet',\n",
       " 'Sanlaville. Odéon. Le mariage de Figa']"
      ]
     },
     "execution_count": 49,
     "metadata": {},
     "output_type": "execute_result"
    }
   ],
   "source": [
    "with_0_wiki = [k for k,v in wiki_searchs.items() if len(v)==0]\n",
    "with_0_wiki[3:6]"
   ]
  },
  {
   "cell_type": "code",
   "execution_count": null,
   "metadata": {},
   "outputs": [],
   "source": [
    "def hacked_summary(x):\n",
    "    try:\n",
    "        s = wikipedia.summary(x, sentences=2)\n",
    "        return s\n",
    "    except:\n",
    "        return ''\n",
    "\n",
    "wiki_summaries = dict(zip(all_names, pool.map(hacked_summary, all_names)))\n",
    "len(wiki_summaries)"
   ]
  },
  {
   "cell_type": "code",
   "execution_count": null,
   "metadata": {},
   "outputs": [],
   "source": []
  }
 ],
 "metadata": {
  "kernelspec": {
   "display_name": "Humans of Paris",
   "language": "python",
   "name": "humans-of-paris"
  },
  "language_info": {
   "codemirror_mode": {
    "name": "ipython",
    "version": 3
   },
   "file_extension": ".py",
   "mimetype": "text/x-python",
   "name": "python",
   "nbconvert_exporter": "python",
   "pygments_lexer": "ipython3",
   "version": "3.6.7"
  }
 },
 "nbformat": 4,
 "nbformat_minor": 2
}
