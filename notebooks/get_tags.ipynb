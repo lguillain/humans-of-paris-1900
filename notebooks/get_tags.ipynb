{
 "cells": [
  {
   "cell_type": "code",
   "execution_count": 1,
   "metadata": {},
   "outputs": [
    {
     "name": "stderr",
     "output_type": "stream",
     "text": [
      "C:\\Users\\haeeun\\Anaconda3\\lib\\site-packages\\tqdm\\autonotebook.py:17: TqdmExperimentalWarning: Using `tqdm.autonotebook.tqdm` in notebook mode. Use `tqdm.tqdm` instead to force console mode (e.g. in jupyter console)\n",
      "  \" (e.g. in jupyter console)\", TqdmExperimentalWarning)\n"
     ]
    }
   ],
   "source": [
    "from fdh_gallica import Periodical, Search, Document\n",
    "from fdh_gallica.parallel_process import iiif_urls_for_documents\n",
    "\n",
    "from tqdm.autonotebook import tqdm\n",
    "\n",
    "import json\n",
    "import pandas as pd\n",
    "from pandas.io.json import json_normalize\n",
    "\n",
    "\n",
    "from itertools import chain\n",
    "from itertools import compress\n",
    "import re\n"
   ]
  },
  {
   "cell_type": "code",
   "execution_count": 2,
   "metadata": {},
   "outputs": [],
   "source": [
    "%matplotlib inline"
   ]
  },
  {
   "cell_type": "markdown",
   "metadata": {},
   "source": [
    "get all images with relevant query"
   ]
  },
  {
   "cell_type": "code",
   "execution_count": 3,
   "metadata": {},
   "outputs": [],
   "source": [
    "re_execute = False\n",
    "if re_execute:\n",
    "    obj = Search(all_fields='atelier Nadar', dc_type='image', dc_creator='Atelier Nadar')\n",
    "    obj.execute()\n",
    "    print(f'number of fetched documents: {len(obj.documents)}')\n",
    "    print(f'total records {obj.total_records}')\n",
    "    print('retry fetching ...')\n",
    "    obj.retry()\n",
    "    print(f'number of fetched documents: {len(obj.documents)}')\n",
    "\n",
    "    df = json_normalize(json.loads(json.dumps(obj.records)))\n",
    "    print('save documents to local')\n",
    "    # list handling becomes a pain of we save as csv\n",
    "    df.to_pickle('raw_df.pkl')"
   ]
  },
  {
   "cell_type": "code",
   "execution_count": 4,
   "metadata": {},
   "outputs": [],
   "source": [
    "df = pd.read_pickle('raw_df.pkl')"
   ]
  },
  {
   "cell_type": "markdown",
   "metadata": {},
   "source": [
    "parse identifier for easier access:"
   ]
  },
  {
   "cell_type": "code",
   "execution_count": 5,
   "metadata": {},
   "outputs": [],
   "source": [
    "image_dataframe = pd.DataFrame(df['dc:identifier']\\\n",
    "                               .map(lambda x: x[0] if type(x) == list else x))\\\n",
    "                               .rename(columns={'dc:identifier':'identifier'})\n",
    "\n",
    "df['id'] = image_dataframe"
   ]
  },
  {
   "cell_type": "code",
   "execution_count": null,
   "metadata": {},
   "outputs": [],
   "source": []
  },
  {
   "cell_type": "markdown",
   "metadata": {},
   "source": [
    "### useless dataframes"
   ]
  },
  {
   "cell_type": "markdown",
   "metadata": {},
   "source": [
    "remove them for ease of use, next ones contain all the same content"
   ]
  },
  {
   "cell_type": "markdown",
   "metadata": {},
   "source": [
    "### removing them"
   ]
  },
  {
   "cell_type": "code",
   "execution_count": 6,
   "metadata": {},
   "outputs": [],
   "source": [
    "del df['dc:type']\n",
    "del df['dc:language']\n",
    "del df['dc:format']\n",
    "del df['dc:identifier']\n",
    "del df['dc:rights']\n",
    "del df['dc:publisher']"
   ]
  },
  {
   "cell_type": "markdown",
   "metadata": {},
   "source": [
    "# getting information about subjects"
   ]
  },
  {
   "cell_type": "code",
   "execution_count": 7,
   "metadata": {},
   "outputs": [],
   "source": [
    "#some objects are stored as list, others arent, use if else to handle\n",
    "df['subject_is_list'] = df['dc:subject'].map(lambda x: type(x) == list)"
   ]
  },
  {
   "cell_type": "code",
   "execution_count": 8,
   "metadata": {},
   "outputs": [],
   "source": [
    "df['len_list'] = df[df.subject_is_list]['dc:subject'].map(len)"
   ]
  },
  {
   "cell_type": "markdown",
   "metadata": {},
   "source": [
    "length is non uniform ... we will have to unnest"
   ]
  },
  {
   "cell_type": "code",
   "execution_count": 9,
   "metadata": {},
   "outputs": [
    {
     "data": {
      "text/plain": [
       "2.0    12834\n",
       "3.0      748\n",
       "4.0      239\n",
       "5.0      233\n",
       "6.0       10\n",
       "7.0        9\n",
       "Name: len_list, dtype: int64"
      ]
     },
     "execution_count": 9,
     "metadata": {},
     "output_type": "execute_result"
    }
   ],
   "source": [
    "df.len_list.value_counts()"
   ]
  },
  {
   "cell_type": "code",
   "execution_count": 10,
   "metadata": {},
   "outputs": [
    {
     "data": {
      "text/plain": [
       "[Bernhardt, Sarah (1844-1923) -- Portraits, Portraits du théâtre -- 19e siècle]          266\n",
       "[Réjane (1856-1920) -- Portraits, Portraits du théâtre -- 19e siècle]                    118\n",
       "[Théo, Louise (1854-1922) -- Portraits, Portraits du théâtre -- 19e siècle]              109\n",
       "[Simon-Girard, Juliette (1859-1959) -- Portraits, Portraits du théâtre -- 19e siècle]     84\n",
       "[Lantelme, Marie -- Portraits, Portraits du théâtre -- 19e siècle]                        83\n",
       "Name: dc:subject, dtype: int64"
      ]
     },
     "execution_count": 10,
     "metadata": {},
     "output_type": "execute_result"
    }
   ],
   "source": [
    "df[df.subject_is_list]['dc:subject'].map(lambda x: x).value_counts().head()"
   ]
  },
  {
   "cell_type": "code",
   "execution_count": 11,
   "metadata": {},
   "outputs": [],
   "source": [
    "df2 = df[['id','dc:subject','dc:title','subject_is_list','len_list']]"
   ]
  },
  {
   "cell_type": "code",
   "execution_count": 12,
   "metadata": {},
   "outputs": [],
   "source": [
    "subject1 = df2['dc:subject'][~df2.subject_is_list].unique().tolist()"
   ]
  },
  {
   "cell_type": "code",
   "execution_count": 13,
   "metadata": {},
   "outputs": [
    {
     "data": {
      "text/plain": [
       "['Portraits du théâtre -- 19e siècle',\n",
       " 'Portraits de studio -- 19e siècle',\n",
       " 'Portraits collectifs -- 19e siècle',\n",
       " 'Scènes théâtrales -- 19e siècle',\n",
       " 'Portraits -- 19e siècle',\n",
       " 'Portraits équestres -- 19e siècle',\n",
       " 'Expositions de photographie',\n",
       " 'Tableaux vivants et mises en scène -- 19e siècle',\n",
       " 'Portraits de plein air -- 19e siècle',\n",
       " 'Portraits après décès -- 19e siècle',\n",
       " 'Portraits de studio',\n",
       " \"Vues d'intérieur -- 19e siècle\",\n",
       " 'Luco, François (18..-1882) -- Portraits',\n",
       " 'Paysages -- 19e siècle',\n",
       " 'Cham (1818-1879) -- Oeuvres -- Dessin',\n",
       " 'Carvalho, Léon (1825-1897) -- Tombes',\n",
       " 'Sand, George (1804-1876) -- Statues',\n",
       " 'Caricatures et dessins humoristiques -- 19e siècle',\n",
       " 'Figuet, Gabrielle (1862-1889) -- Portraits',\n",
       " 'Delmas, Jean-François (1861-1933) -- Portraits']"
      ]
     },
     "execution_count": 13,
     "metadata": {},
     "output_type": "execute_result"
    }
   ],
   "source": [
    "subject1"
   ]
  },
  {
   "cell_type": "code",
   "execution_count": 14,
   "metadata": {},
   "outputs": [],
   "source": [
    "subjects_to_exclude = list(set(subject1) - set(['Luco, François (18..-1882) -- Portraits',\n",
    "                                                'Figuet, Gabrielle (1862-1889) -- Portraits',\n",
    "                                                'Cham (1818-1879) -- Oeuvres -- Dessin',\n",
    "                                                'Delmas, Jean-François (1861-1933) -- Portraits',\n",
    "                                                'Carvalho, Léon (1825-1897) -- Tombes',\n",
    "                                                'Sand, George (1804-1876) -- Statues']))"
   ]
  },
  {
   "cell_type": "code",
   "execution_count": 15,
   "metadata": {},
   "outputs": [
    {
     "data": {
      "text/plain": [
       "len_list\n",
       "2.0    12834\n",
       "3.0      748\n",
       "4.0      239\n",
       "5.0      233\n",
       "6.0       10\n",
       "7.0        9\n",
       "Name: len_list, dtype: int64"
      ]
     },
     "execution_count": 15,
     "metadata": {},
     "output_type": "execute_result"
    }
   ],
   "source": [
    "df2['len_list'][~df2.len_list.isna()].groupby(df2.len_list).size()"
   ]
  },
  {
   "cell_type": "code",
   "execution_count": 271,
   "metadata": {},
   "outputs": [],
   "source": [
    "#df2['dc:subject'][df2.len_list == 7].tolist()"
   ]
  },
  {
   "cell_type": "code",
   "execution_count": null,
   "metadata": {},
   "outputs": [],
   "source": []
  },
  {
   "cell_type": "code",
   "execution_count": 17,
   "metadata": {},
   "outputs": [],
   "source": [
    "def subject_filter(x):\n",
    "    if type(x) == str:\n",
    "        if x in subjects_to_exclude:\n",
    "            result = ''\n",
    "        else:\n",
    "            result = [x]\n",
    "    elif type(x) == list:\n",
    "        temp = []\n",
    "        for s in x:\n",
    "            if s not in subjects_to_exclude:\n",
    "                #x.remove(s)\n",
    "                temp.append(s)\n",
    "        result = temp\n",
    "    else:\n",
    "        result = type(x)\n",
    "    return result"
   ]
  },
  {
   "cell_type": "code",
   "execution_count": 18,
   "metadata": {},
   "outputs": [
    {
     "name": "stderr",
     "output_type": "stream",
     "text": [
      "C:\\Users\\haeeun\\Anaconda3\\lib\\site-packages\\ipykernel_launcher.py:1: SettingWithCopyWarning: \n",
      "A value is trying to be set on a copy of a slice from a DataFrame.\n",
      "Try using .loc[row_indexer,col_indexer] = value instead\n",
      "\n",
      "See the caveats in the documentation: http://pandas.pydata.org/pandas-docs/stable/user_guide/indexing.html#returning-a-view-versus-a-copy\n",
      "  \"\"\"Entry point for launching an IPython kernel.\n"
     ]
    }
   ],
   "source": [
    "df2['subjects'] = df2['dc:subject'].apply(subject_filter)"
   ]
  },
  {
   "cell_type": "code",
   "execution_count": 19,
   "metadata": {},
   "outputs": [],
   "source": [
    "#df2['subjects'][df2.len_list== 7].tolist()"
   ]
  },
  {
   "cell_type": "code",
   "execution_count": 20,
   "metadata": {},
   "outputs": [
    {
     "name": "stderr",
     "output_type": "stream",
     "text": [
      "C:\\Users\\haeeun\\Anaconda3\\lib\\site-packages\\ipykernel_launcher.py:1: SettingWithCopyWarning: \n",
      "A value is trying to be set on a copy of a slice from a DataFrame.\n",
      "Try using .loc[row_indexer,col_indexer] = value instead\n",
      "\n",
      "See the caveats in the documentation: http://pandas.pydata.org/pandas-docs/stable/user_guide/indexing.html#returning-a-view-versus-a-copy\n",
      "  \"\"\"Entry point for launching an IPython kernel.\n"
     ]
    }
   ],
   "source": [
    "df2['number_of_subjects'] = df2['subjects'].apply(len)"
   ]
  },
  {
   "cell_type": "code",
   "execution_count": 21,
   "metadata": {},
   "outputs": [
    {
     "data": {
      "text/plain": [
       "number_of_subjects\n",
       "0     9599\n",
       "1    12881\n",
       "2      853\n",
       "3      189\n",
       "4        9\n",
       "5        3\n",
       "6        1\n",
       "dtype: int64"
      ]
     },
     "execution_count": 21,
     "metadata": {},
     "output_type": "execute_result"
    }
   ],
   "source": [
    "df2.groupby(df2.number_of_subjects).size()"
   ]
  },
  {
   "cell_type": "code",
   "execution_count": 22,
   "metadata": {},
   "outputs": [],
   "source": [
    "df2 = df2.drop(['dc:subject', 'subject_is_list','len_list'],axis=1)"
   ]
  },
  {
   "cell_type": "code",
   "execution_count": 23,
   "metadata": {},
   "outputs": [],
   "source": [
    "df2 = df2[df2.number_of_subjects != 0]"
   ]
  },
  {
   "cell_type": "code",
   "execution_count": 24,
   "metadata": {},
   "outputs": [
    {
     "data": {
      "text/html": [
       "<div>\n",
       "<style scoped>\n",
       "    .dataframe tbody tr th:only-of-type {\n",
       "        vertical-align: middle;\n",
       "    }\n",
       "\n",
       "    .dataframe tbody tr th {\n",
       "        vertical-align: top;\n",
       "    }\n",
       "\n",
       "    .dataframe thead th {\n",
       "        text-align: right;\n",
       "    }\n",
       "</style>\n",
       "<table border=\"1\" class=\"dataframe\">\n",
       "  <thead>\n",
       "    <tr style=\"text-align: right;\">\n",
       "      <th></th>\n",
       "      <th>id</th>\n",
       "      <th>dc:title</th>\n",
       "      <th>subjects</th>\n",
       "      <th>number_of_subjects</th>\n",
       "    </tr>\n",
       "  </thead>\n",
       "  <tbody>\n",
       "    <tr>\n",
       "      <th>7</th>\n",
       "      <td>https://gallica.bnf.fr/ark:/12148/btv1b53168872x</td>\n",
       "      <td>[Me Auguez] : [photographie, tirage de démonst...</td>\n",
       "      <td>[Auguez, Mathilde (1868-1955) -- Portraits]</td>\n",
       "      <td>1</td>\n",
       "    </tr>\n",
       "    <tr>\n",
       "      <th>8</th>\n",
       "      <td>https://gallica.bnf.fr/ark:/12148/btv1b531688701</td>\n",
       "      <td>[Me Auguez] : [photographie, tirage de démonst...</td>\n",
       "      <td>[Auguez, Mathilde (1868-1955) -- Portraits]</td>\n",
       "      <td>1</td>\n",
       "    </tr>\n",
       "    <tr>\n",
       "      <th>9</th>\n",
       "      <td>https://gallica.bnf.fr/ark:/12148/btv1b53171770j</td>\n",
       "      <td>M. Bruant : [photographie, tirage de démonstra...</td>\n",
       "      <td>[Bruant, Aristide (1851-1925) -- Portraits]</td>\n",
       "      <td>1</td>\n",
       "    </tr>\n",
       "    <tr>\n",
       "      <th>10</th>\n",
       "      <td>https://gallica.bnf.fr/ark:/12148/btv1b53168873c</td>\n",
       "      <td>Me Auguez : [photographie, tirage de démonstra...</td>\n",
       "      <td>[Auguez, Mathilde (1868-1955) -- Portraits]</td>\n",
       "      <td>1</td>\n",
       "    </tr>\n",
       "    <tr>\n",
       "      <th>13</th>\n",
       "      <td>https://gallica.bnf.fr/ark:/12148/btv1b531651494</td>\n",
       "      <td>M. A. Brasseur : [photographie, tirage de démo...</td>\n",
       "      <td>[Brasseur, Albert (1862-1932) -- Portraits]</td>\n",
       "      <td>1</td>\n",
       "    </tr>\n",
       "    <tr>\n",
       "      <th>...</th>\n",
       "      <td>...</td>\n",
       "      <td>...</td>\n",
       "      <td>...</td>\n",
       "      <td>...</td>\n",
       "    </tr>\n",
       "    <tr>\n",
       "      <th>23528</th>\n",
       "      <td>https://gallica.bnf.fr/ark:/12148/btv1b531203810</td>\n",
       "      <td>M. Hignette : [photographie, tirage de démonst...</td>\n",
       "      <td>[Ombre portée]</td>\n",
       "      <td>1</td>\n",
       "    </tr>\n",
       "    <tr>\n",
       "      <th>23530</th>\n",
       "      <td>https://gallica.bnf.fr/ark:/12148/btv1b53123957r</td>\n",
       "      <td>[Brémont] : [photographie, tirage de démonstra...</td>\n",
       "      <td>[Brémont, Léon (1852-1939) -- Portraits]</td>\n",
       "      <td>1</td>\n",
       "    </tr>\n",
       "    <tr>\n",
       "      <th>23531</th>\n",
       "      <td>https://gallica.bnf.fr/ark:/12148/btv1b53124037v</td>\n",
       "      <td>[Caron] : [photographie, tirage de démonstrati...</td>\n",
       "      <td>[Caron, Cécile (1852-1923) -- Portraits]</td>\n",
       "      <td>1</td>\n",
       "    </tr>\n",
       "    <tr>\n",
       "      <th>23533</th>\n",
       "      <td>https://gallica.bnf.fr/ark:/12148/btv1b53124131j</td>\n",
       "      <td>Croizette : [photographie, tirage de démonstra...</td>\n",
       "      <td>[Croizette, Sophie (1847-1901) -- Portraits]</td>\n",
       "      <td>1</td>\n",
       "    </tr>\n",
       "    <tr>\n",
       "      <th>23534</th>\n",
       "      <td>https://gallica.bnf.fr/ark:/12148/btv1b53124259b</td>\n",
       "      <td>[Capoul] : [photographie, tirage de démonstrat...</td>\n",
       "      <td>[Capoul, Victor (1839-1924) -- Portraits]</td>\n",
       "      <td>1</td>\n",
       "    </tr>\n",
       "  </tbody>\n",
       "</table>\n",
       "<p>13936 rows × 4 columns</p>\n",
       "</div>"
      ],
      "text/plain": [
       "                                                     id  \\\n",
       "7      https://gallica.bnf.fr/ark:/12148/btv1b53168872x   \n",
       "8      https://gallica.bnf.fr/ark:/12148/btv1b531688701   \n",
       "9      https://gallica.bnf.fr/ark:/12148/btv1b53171770j   \n",
       "10     https://gallica.bnf.fr/ark:/12148/btv1b53168873c   \n",
       "13     https://gallica.bnf.fr/ark:/12148/btv1b531651494   \n",
       "...                                                 ...   \n",
       "23528  https://gallica.bnf.fr/ark:/12148/btv1b531203810   \n",
       "23530  https://gallica.bnf.fr/ark:/12148/btv1b53123957r   \n",
       "23531  https://gallica.bnf.fr/ark:/12148/btv1b53124037v   \n",
       "23533  https://gallica.bnf.fr/ark:/12148/btv1b53124131j   \n",
       "23534  https://gallica.bnf.fr/ark:/12148/btv1b53124259b   \n",
       "\n",
       "                                                dc:title  \\\n",
       "7      [Me Auguez] : [photographie, tirage de démonst...   \n",
       "8      [Me Auguez] : [photographie, tirage de démonst...   \n",
       "9      M. Bruant : [photographie, tirage de démonstra...   \n",
       "10     Me Auguez : [photographie, tirage de démonstra...   \n",
       "13     M. A. Brasseur : [photographie, tirage de démo...   \n",
       "...                                                  ...   \n",
       "23528  M. Hignette : [photographie, tirage de démonst...   \n",
       "23530  [Brémont] : [photographie, tirage de démonstra...   \n",
       "23531  [Caron] : [photographie, tirage de démonstrati...   \n",
       "23533  Croizette : [photographie, tirage de démonstra...   \n",
       "23534  [Capoul] : [photographie, tirage de démonstrat...   \n",
       "\n",
       "                                           subjects  number_of_subjects  \n",
       "7       [Auguez, Mathilde (1868-1955) -- Portraits]                   1  \n",
       "8       [Auguez, Mathilde (1868-1955) -- Portraits]                   1  \n",
       "9       [Bruant, Aristide (1851-1925) -- Portraits]                   1  \n",
       "10      [Auguez, Mathilde (1868-1955) -- Portraits]                   1  \n",
       "13      [Brasseur, Albert (1862-1932) -- Portraits]                   1  \n",
       "...                                             ...                 ...  \n",
       "23528                                [Ombre portée]                   1  \n",
       "23530      [Brémont, Léon (1852-1939) -- Portraits]                   1  \n",
       "23531      [Caron, Cécile (1852-1923) -- Portraits]                   1  \n",
       "23533  [Croizette, Sophie (1847-1901) -- Portraits]                   1  \n",
       "23534     [Capoul, Victor (1839-1924) -- Portraits]                   1  \n",
       "\n",
       "[13936 rows x 4 columns]"
      ]
     },
     "execution_count": 24,
     "metadata": {},
     "output_type": "execute_result"
    }
   ],
   "source": [
    "df2"
   ]
  },
  {
   "cell_type": "code",
   "execution_count": 25,
   "metadata": {},
   "outputs": [],
   "source": [
    "def title_filter(x):\n",
    "    if type(x) == list:\n",
    "        x = ''.join(x)\n",
    "    \n",
    "    if type(x) == str:\n",
    "        try:\n",
    "            result = x.split(':')[0].strip().strip('[]')\n",
    "        except:\n",
    "            result = x\n",
    "    else:\n",
    "        result = x\n",
    "        \n",
    "    return result\n",
    "        "
   ]
  },
  {
   "cell_type": "code",
   "execution_count": 26,
   "metadata": {},
   "outputs": [],
   "source": [
    "df2['title'] = df2['dc:title'].apply(title_filter)\n",
    "#df2 = df2[df2.number_of_subjects!=0]"
   ]
  },
  {
   "cell_type": "code",
   "execution_count": 27,
   "metadata": {},
   "outputs": [
    {
     "data": {
      "text/html": [
       "<div>\n",
       "<style scoped>\n",
       "    .dataframe tbody tr th:only-of-type {\n",
       "        vertical-align: middle;\n",
       "    }\n",
       "\n",
       "    .dataframe tbody tr th {\n",
       "        vertical-align: top;\n",
       "    }\n",
       "\n",
       "    .dataframe thead th {\n",
       "        text-align: right;\n",
       "    }\n",
       "</style>\n",
       "<table border=\"1\" class=\"dataframe\">\n",
       "  <thead>\n",
       "    <tr style=\"text-align: right;\">\n",
       "      <th></th>\n",
       "      <th>id</th>\n",
       "      <th>dc:title</th>\n",
       "      <th>subjects</th>\n",
       "      <th>number_of_subjects</th>\n",
       "      <th>title</th>\n",
       "    </tr>\n",
       "  </thead>\n",
       "  <tbody>\n",
       "    <tr>\n",
       "      <th>7</th>\n",
       "      <td>https://gallica.bnf.fr/ark:/12148/btv1b53168872x</td>\n",
       "      <td>[Me Auguez] : [photographie, tirage de démonst...</td>\n",
       "      <td>[Auguez, Mathilde (1868-1955) -- Portraits]</td>\n",
       "      <td>1</td>\n",
       "      <td>Me Auguez</td>\n",
       "    </tr>\n",
       "    <tr>\n",
       "      <th>8</th>\n",
       "      <td>https://gallica.bnf.fr/ark:/12148/btv1b531688701</td>\n",
       "      <td>[Me Auguez] : [photographie, tirage de démonst...</td>\n",
       "      <td>[Auguez, Mathilde (1868-1955) -- Portraits]</td>\n",
       "      <td>1</td>\n",
       "      <td>Me Auguez</td>\n",
       "    </tr>\n",
       "    <tr>\n",
       "      <th>9</th>\n",
       "      <td>https://gallica.bnf.fr/ark:/12148/btv1b53171770j</td>\n",
       "      <td>M. Bruant : [photographie, tirage de démonstra...</td>\n",
       "      <td>[Bruant, Aristide (1851-1925) -- Portraits]</td>\n",
       "      <td>1</td>\n",
       "      <td>M. Bruant</td>\n",
       "    </tr>\n",
       "    <tr>\n",
       "      <th>10</th>\n",
       "      <td>https://gallica.bnf.fr/ark:/12148/btv1b53168873c</td>\n",
       "      <td>Me Auguez : [photographie, tirage de démonstra...</td>\n",
       "      <td>[Auguez, Mathilde (1868-1955) -- Portraits]</td>\n",
       "      <td>1</td>\n",
       "      <td>Me Auguez</td>\n",
       "    </tr>\n",
       "    <tr>\n",
       "      <th>13</th>\n",
       "      <td>https://gallica.bnf.fr/ark:/12148/btv1b531651494</td>\n",
       "      <td>M. A. Brasseur : [photographie, tirage de démo...</td>\n",
       "      <td>[Brasseur, Albert (1862-1932) -- Portraits]</td>\n",
       "      <td>1</td>\n",
       "      <td>M. A. Brasseur</td>\n",
       "    </tr>\n",
       "    <tr>\n",
       "      <th>...</th>\n",
       "      <td>...</td>\n",
       "      <td>...</td>\n",
       "      <td>...</td>\n",
       "      <td>...</td>\n",
       "      <td>...</td>\n",
       "    </tr>\n",
       "    <tr>\n",
       "      <th>23528</th>\n",
       "      <td>https://gallica.bnf.fr/ark:/12148/btv1b531203810</td>\n",
       "      <td>M. Hignette : [photographie, tirage de démonst...</td>\n",
       "      <td>[Ombre portée]</td>\n",
       "      <td>1</td>\n",
       "      <td>M. Hignette</td>\n",
       "    </tr>\n",
       "    <tr>\n",
       "      <th>23530</th>\n",
       "      <td>https://gallica.bnf.fr/ark:/12148/btv1b53123957r</td>\n",
       "      <td>[Brémont] : [photographie, tirage de démonstra...</td>\n",
       "      <td>[Brémont, Léon (1852-1939) -- Portraits]</td>\n",
       "      <td>1</td>\n",
       "      <td>Brémont</td>\n",
       "    </tr>\n",
       "    <tr>\n",
       "      <th>23531</th>\n",
       "      <td>https://gallica.bnf.fr/ark:/12148/btv1b53124037v</td>\n",
       "      <td>[Caron] : [photographie, tirage de démonstrati...</td>\n",
       "      <td>[Caron, Cécile (1852-1923) -- Portraits]</td>\n",
       "      <td>1</td>\n",
       "      <td>Caron</td>\n",
       "    </tr>\n",
       "    <tr>\n",
       "      <th>23533</th>\n",
       "      <td>https://gallica.bnf.fr/ark:/12148/btv1b53124131j</td>\n",
       "      <td>Croizette : [photographie, tirage de démonstra...</td>\n",
       "      <td>[Croizette, Sophie (1847-1901) -- Portraits]</td>\n",
       "      <td>1</td>\n",
       "      <td>Croizette</td>\n",
       "    </tr>\n",
       "    <tr>\n",
       "      <th>23534</th>\n",
       "      <td>https://gallica.bnf.fr/ark:/12148/btv1b53124259b</td>\n",
       "      <td>[Capoul] : [photographie, tirage de démonstrat...</td>\n",
       "      <td>[Capoul, Victor (1839-1924) -- Portraits]</td>\n",
       "      <td>1</td>\n",
       "      <td>Capoul</td>\n",
       "    </tr>\n",
       "  </tbody>\n",
       "</table>\n",
       "<p>13936 rows × 5 columns</p>\n",
       "</div>"
      ],
      "text/plain": [
       "                                                     id  \\\n",
       "7      https://gallica.bnf.fr/ark:/12148/btv1b53168872x   \n",
       "8      https://gallica.bnf.fr/ark:/12148/btv1b531688701   \n",
       "9      https://gallica.bnf.fr/ark:/12148/btv1b53171770j   \n",
       "10     https://gallica.bnf.fr/ark:/12148/btv1b53168873c   \n",
       "13     https://gallica.bnf.fr/ark:/12148/btv1b531651494   \n",
       "...                                                 ...   \n",
       "23528  https://gallica.bnf.fr/ark:/12148/btv1b531203810   \n",
       "23530  https://gallica.bnf.fr/ark:/12148/btv1b53123957r   \n",
       "23531  https://gallica.bnf.fr/ark:/12148/btv1b53124037v   \n",
       "23533  https://gallica.bnf.fr/ark:/12148/btv1b53124131j   \n",
       "23534  https://gallica.bnf.fr/ark:/12148/btv1b53124259b   \n",
       "\n",
       "                                                dc:title  \\\n",
       "7      [Me Auguez] : [photographie, tirage de démonst...   \n",
       "8      [Me Auguez] : [photographie, tirage de démonst...   \n",
       "9      M. Bruant : [photographie, tirage de démonstra...   \n",
       "10     Me Auguez : [photographie, tirage de démonstra...   \n",
       "13     M. A. Brasseur : [photographie, tirage de démo...   \n",
       "...                                                  ...   \n",
       "23528  M. Hignette : [photographie, tirage de démonst...   \n",
       "23530  [Brémont] : [photographie, tirage de démonstra...   \n",
       "23531  [Caron] : [photographie, tirage de démonstrati...   \n",
       "23533  Croizette : [photographie, tirage de démonstra...   \n",
       "23534  [Capoul] : [photographie, tirage de démonstrat...   \n",
       "\n",
       "                                           subjects  number_of_subjects  \\\n",
       "7       [Auguez, Mathilde (1868-1955) -- Portraits]                   1   \n",
       "8       [Auguez, Mathilde (1868-1955) -- Portraits]                   1   \n",
       "9       [Bruant, Aristide (1851-1925) -- Portraits]                   1   \n",
       "10      [Auguez, Mathilde (1868-1955) -- Portraits]                   1   \n",
       "13      [Brasseur, Albert (1862-1932) -- Portraits]                   1   \n",
       "...                                             ...                 ...   \n",
       "23528                                [Ombre portée]                   1   \n",
       "23530      [Brémont, Léon (1852-1939) -- Portraits]                   1   \n",
       "23531      [Caron, Cécile (1852-1923) -- Portraits]                   1   \n",
       "23533  [Croizette, Sophie (1847-1901) -- Portraits]                   1   \n",
       "23534     [Capoul, Victor (1839-1924) -- Portraits]                   1   \n",
       "\n",
       "                title  \n",
       "7           Me Auguez  \n",
       "8           Me Auguez  \n",
       "9           M. Bruant  \n",
       "10          Me Auguez  \n",
       "13     M. A. Brasseur  \n",
       "...               ...  \n",
       "23528     M. Hignette  \n",
       "23530         Brémont  \n",
       "23531           Caron  \n",
       "23533       Croizette  \n",
       "23534          Capoul  \n",
       "\n",
       "[13936 rows x 5 columns]"
      ]
     },
     "execution_count": 27,
     "metadata": {},
     "output_type": "execute_result"
    }
   ],
   "source": [
    "df2"
   ]
  },
  {
   "cell_type": "code",
   "execution_count": 28,
   "metadata": {},
   "outputs": [],
   "source": [
    "def name_filter(x):\n",
    "    return [s.split('--')[0].strip() for s in x]"
   ]
  },
  {
   "cell_type": "code",
   "execution_count": 29,
   "metadata": {},
   "outputs": [],
   "source": [
    "_prenames = df2.subjects.apply(name_filter)    "
   ]
  },
  {
   "cell_type": "code",
   "execution_count": 30,
   "metadata": {},
   "outputs": [
    {
     "data": {
      "text/plain": [
       "7         [Auguez, Mathilde (1868-1955)]\n",
       "8         [Auguez, Mathilde (1868-1955)]\n",
       "9         [Bruant, Aristide (1851-1925)]\n",
       "10        [Auguez, Mathilde (1868-1955)]\n",
       "13        [Brasseur, Albert (1862-1932)]\n",
       "                      ...               \n",
       "23528                     [Ombre portée]\n",
       "23530        [Brémont, Léon (1852-1939)]\n",
       "23531        [Caron, Cécile (1852-1923)]\n",
       "23533    [Croizette, Sophie (1847-1901)]\n",
       "23534       [Capoul, Victor (1839-1924)]\n",
       "Name: subjects, Length: 13936, dtype: object"
      ]
     },
     "execution_count": 30,
     "metadata": {},
     "output_type": "execute_result"
    }
   ],
   "source": [
    "_prenames"
   ]
  },
  {
   "cell_type": "code",
   "execution_count": null,
   "metadata": {},
   "outputs": [],
   "source": []
  },
  {
   "cell_type": "code",
   "execution_count": 31,
   "metadata": {},
   "outputs": [],
   "source": [
    "def is_name(x):\n",
    "    names = []\n",
    "    for s in x:\n",
    "        if '(' not in s and ',' not in s:\n",
    "            pass\n",
    "        else:\n",
    "            names.append(s.split('--')[0].strip())\n",
    "    return names\n",
    "\n",
    "def not_name(x):\n",
    "    words = []\n",
    "    for s in x:\n",
    "        if '(' not in s and ',' not in s:\n",
    "            words.append(s)\n",
    "        else:\n",
    "            pass\n",
    "    return words"
   ]
  },
  {
   "cell_type": "code",
   "execution_count": null,
   "metadata": {},
   "outputs": [],
   "source": []
  },
  {
   "cell_type": "code",
   "execution_count": null,
   "metadata": {},
   "outputs": [],
   "source": []
  },
  {
   "cell_type": "code",
   "execution_count": 32,
   "metadata": {},
   "outputs": [],
   "source": [
    "not_names = _prenames.apply(not_name).tolist()\n",
    "is_names = _prenames.apply(is_name).tolist()"
   ]
  },
  {
   "cell_type": "code",
   "execution_count": 33,
   "metadata": {},
   "outputs": [],
   "source": [
    "is_names = list(set(chain.from_iterable(is_names)))\n",
    "not_names = list(set(chain.from_iterable(not_names)))"
   ]
  },
  {
   "cell_type": "code",
   "execution_count": 269,
   "metadata": {},
   "outputs": [],
   "source": [
    "#not_names[0:30]"
   ]
  },
  {
   "cell_type": "code",
   "execution_count": 270,
   "metadata": {},
   "outputs": [],
   "source": [
    "#is_names[0:30]"
   ]
  },
  {
   "cell_type": "code",
   "execution_count": null,
   "metadata": {},
   "outputs": [],
   "source": []
  },
  {
   "cell_type": "code",
   "execution_count": 36,
   "metadata": {},
   "outputs": [],
   "source": [
    "names = []\n",
    "for n in is_names:\n",
    "    name_ = n.split('(')[0].strip().lower().split(',')\n",
    "    names.append(name_)\n",
    "        \n",
    "names = list(set(chain.from_iterable(names)))\n",
    "names = list(set(list(map(lambda x:x.strip(),names))))"
   ]
  },
  {
   "cell_type": "code",
   "execution_count": 37,
   "metadata": {},
   "outputs": [],
   "source": [
    "mask_tags = list(map((lambda x: ',' not in x), not_names))\n",
    "subject_tags = list(compress(not_names, mask_tags))"
   ]
  },
  {
   "cell_type": "code",
   "execution_count": 268,
   "metadata": {},
   "outputs": [],
   "source": [
    "#subject_tags"
   ]
  },
  {
   "cell_type": "code",
   "execution_count": 39,
   "metadata": {},
   "outputs": [],
   "source": [
    "mask_names = list(map((lambda x: ',' in x), subject_tags))\n",
    "\n",
    "subject_names = list(compress(subject_tags, mask_names))\n",
    "#subject_names"
   ]
  },
  {
   "cell_type": "code",
   "execution_count": 40,
   "metadata": {},
   "outputs": [],
   "source": [
    "def exclude_title_name(x):\n",
    "    temp = []\n",
    "    for t in x:\n",
    "        t = re.sub('[\\[\\] (\".,\")]', '', t)\n",
    "\n",
    "        if t.lower() in names:\n",
    "            pass\n",
    "        else:\n",
    "            temp.append(t.lower())\n",
    "    return temp"
   ]
  },
  {
   "cell_type": "code",
   "execution_count": 41,
   "metadata": {},
   "outputs": [],
   "source": [
    "df2['title_broken'] = df2.title.apply(lambda x: re.findall('[\\S]+',x))"
   ]
  },
  {
   "cell_type": "code",
   "execution_count": 42,
   "metadata": {},
   "outputs": [
    {
     "data": {
      "text/plain": [
       "7              [Me, Auguez]\n",
       "8              [Me, Auguez]\n",
       "9              [M., Bruant]\n",
       "10             [Me, Auguez]\n",
       "13       [M., A., Brasseur]\n",
       "                ...        \n",
       "23528        [M., Hignette]\n",
       "23530             [Brémont]\n",
       "23531               [Caron]\n",
       "23533           [Croizette]\n",
       "23534              [Capoul]\n",
       "Name: title_broken, Length: 13936, dtype: object"
      ]
     },
     "execution_count": 42,
     "metadata": {},
     "output_type": "execute_result"
    }
   ],
   "source": [
    "df2.title_broken"
   ]
  },
  {
   "cell_type": "code",
   "execution_count": 43,
   "metadata": {},
   "outputs": [],
   "source": [
    "tag_df = pd.DataFrame(df2.id)\n",
    "#tag_df['subjects'] = df2['subjects']\n",
    "tag_df['title'] = df2['title_broken'].apply(exclude_title_name)\n",
    "tag_df['subject'] = df2.subjects.apply(name_filter).apply(not_name)"
   ]
  },
  {
   "cell_type": "code",
   "execution_count": 44,
   "metadata": {},
   "outputs": [
    {
     "data": {
      "text/html": [
       "<div>\n",
       "<style scoped>\n",
       "    .dataframe tbody tr th:only-of-type {\n",
       "        vertical-align: middle;\n",
       "    }\n",
       "\n",
       "    .dataframe tbody tr th {\n",
       "        vertical-align: top;\n",
       "    }\n",
       "\n",
       "    .dataframe thead th {\n",
       "        text-align: right;\n",
       "    }\n",
       "</style>\n",
       "<table border=\"1\" class=\"dataframe\">\n",
       "  <thead>\n",
       "    <tr style=\"text-align: right;\">\n",
       "      <th></th>\n",
       "      <th>id</th>\n",
       "      <th>title</th>\n",
       "      <th>subject</th>\n",
       "    </tr>\n",
       "  </thead>\n",
       "  <tbody>\n",
       "    <tr>\n",
       "      <th>7</th>\n",
       "      <td>https://gallica.bnf.fr/ark:/12148/btv1b53168872x</td>\n",
       "      <td>[me]</td>\n",
       "      <td>[]</td>\n",
       "    </tr>\n",
       "    <tr>\n",
       "      <th>8</th>\n",
       "      <td>https://gallica.bnf.fr/ark:/12148/btv1b531688701</td>\n",
       "      <td>[me]</td>\n",
       "      <td>[]</td>\n",
       "    </tr>\n",
       "    <tr>\n",
       "      <th>9</th>\n",
       "      <td>https://gallica.bnf.fr/ark:/12148/btv1b53171770j</td>\n",
       "      <td>[m]</td>\n",
       "      <td>[]</td>\n",
       "    </tr>\n",
       "    <tr>\n",
       "      <th>10</th>\n",
       "      <td>https://gallica.bnf.fr/ark:/12148/btv1b53168873c</td>\n",
       "      <td>[me]</td>\n",
       "      <td>[]</td>\n",
       "    </tr>\n",
       "    <tr>\n",
       "      <th>13</th>\n",
       "      <td>https://gallica.bnf.fr/ark:/12148/btv1b531651494</td>\n",
       "      <td>[m]</td>\n",
       "      <td>[]</td>\n",
       "    </tr>\n",
       "    <tr>\n",
       "      <th>...</th>\n",
       "      <td>...</td>\n",
       "      <td>...</td>\n",
       "      <td>...</td>\n",
       "    </tr>\n",
       "    <tr>\n",
       "      <th>23528</th>\n",
       "      <td>https://gallica.bnf.fr/ark:/12148/btv1b531203810</td>\n",
       "      <td>[m, hignette]</td>\n",
       "      <td>[Ombre portée]</td>\n",
       "    </tr>\n",
       "    <tr>\n",
       "      <th>23530</th>\n",
       "      <td>https://gallica.bnf.fr/ark:/12148/btv1b53123957r</td>\n",
       "      <td>[]</td>\n",
       "      <td>[]</td>\n",
       "    </tr>\n",
       "    <tr>\n",
       "      <th>23531</th>\n",
       "      <td>https://gallica.bnf.fr/ark:/12148/btv1b53124037v</td>\n",
       "      <td>[]</td>\n",
       "      <td>[]</td>\n",
       "    </tr>\n",
       "    <tr>\n",
       "      <th>23533</th>\n",
       "      <td>https://gallica.bnf.fr/ark:/12148/btv1b53124131j</td>\n",
       "      <td>[]</td>\n",
       "      <td>[]</td>\n",
       "    </tr>\n",
       "    <tr>\n",
       "      <th>23534</th>\n",
       "      <td>https://gallica.bnf.fr/ark:/12148/btv1b53124259b</td>\n",
       "      <td>[]</td>\n",
       "      <td>[]</td>\n",
       "    </tr>\n",
       "  </tbody>\n",
       "</table>\n",
       "<p>13936 rows × 3 columns</p>\n",
       "</div>"
      ],
      "text/plain": [
       "                                                     id          title  \\\n",
       "7      https://gallica.bnf.fr/ark:/12148/btv1b53168872x           [me]   \n",
       "8      https://gallica.bnf.fr/ark:/12148/btv1b531688701           [me]   \n",
       "9      https://gallica.bnf.fr/ark:/12148/btv1b53171770j            [m]   \n",
       "10     https://gallica.bnf.fr/ark:/12148/btv1b53168873c           [me]   \n",
       "13     https://gallica.bnf.fr/ark:/12148/btv1b531651494            [m]   \n",
       "...                                                 ...            ...   \n",
       "23528  https://gallica.bnf.fr/ark:/12148/btv1b531203810  [m, hignette]   \n",
       "23530  https://gallica.bnf.fr/ark:/12148/btv1b53123957r             []   \n",
       "23531  https://gallica.bnf.fr/ark:/12148/btv1b53124037v             []   \n",
       "23533  https://gallica.bnf.fr/ark:/12148/btv1b53124131j             []   \n",
       "23534  https://gallica.bnf.fr/ark:/12148/btv1b53124259b             []   \n",
       "\n",
       "              subject  \n",
       "7                  []  \n",
       "8                  []  \n",
       "9                  []  \n",
       "10                 []  \n",
       "13                 []  \n",
       "...               ...  \n",
       "23528  [Ombre portée]  \n",
       "23530              []  \n",
       "23531              []  \n",
       "23533              []  \n",
       "23534              []  \n",
       "\n",
       "[13936 rows x 3 columns]"
      ]
     },
     "execution_count": 44,
     "metadata": {},
     "output_type": "execute_result"
    }
   ],
   "source": [
    "tag_df"
   ]
  },
  {
   "cell_type": "code",
   "execution_count": 45,
   "metadata": {},
   "outputs": [],
   "source": [
    "def filter_tags(x):\n",
    "    tag_4 = ['cure', 'chef', 'lord', 'abbé']\n",
    "    \n",
    "    if type(x) != str:\n",
    "        return False\n",
    "    \n",
    "    if x.find(',') != -1:\n",
    "        return False\n",
    "    \n",
    "    if len(x) < 3:\n",
    "        return False\n",
    "    \n",
    "    elif len(x) == 3:\n",
    "        if x == 'roi':\n",
    "            return True\n",
    "        else:\n",
    "            return False\n",
    "    elif len(x) == 4:\n",
    "        if x in tag_4:\n",
    "            return True\n",
    "        else:\n",
    "            return False        \n",
    "    else:\n",
    "        return True"
   ]
  },
  {
   "cell_type": "code",
   "execution_count": null,
   "metadata": {},
   "outputs": [],
   "source": []
  },
  {
   "cell_type": "code",
   "execution_count": null,
   "metadata": {},
   "outputs": [],
   "source": []
  },
  {
   "cell_type": "code",
   "execution_count": 46,
   "metadata": {},
   "outputs": [],
   "source": [
    "tags_title_ = tag_df.title.apply(pd.Series).merge(tag_df, right_index=True, left_index=True) \\\n",
    "        .drop(['title','subject'],axis=1).melt(id_vars=['id'], value_name='tags').drop('variable', axis=1)"
   ]
  },
  {
   "cell_type": "code",
   "execution_count": 47,
   "metadata": {},
   "outputs": [],
   "source": [
    "tags_title_ = tags_title_[tags_title_.tags.apply(filter_tags)]"
   ]
  },
  {
   "cell_type": "code",
   "execution_count": 48,
   "metadata": {},
   "outputs": [
    {
     "data": {
      "text/html": [
       "<div>\n",
       "<style scoped>\n",
       "    .dataframe tbody tr th:only-of-type {\n",
       "        vertical-align: middle;\n",
       "    }\n",
       "\n",
       "    .dataframe tbody tr th {\n",
       "        vertical-align: top;\n",
       "    }\n",
       "\n",
       "    .dataframe thead th {\n",
       "        text-align: right;\n",
       "    }\n",
       "</style>\n",
       "<table border=\"1\" class=\"dataframe\">\n",
       "  <thead>\n",
       "    <tr style=\"text-align: right;\">\n",
       "      <th></th>\n",
       "      <th>id</th>\n",
       "      <th>tags</th>\n",
       "    </tr>\n",
       "  </thead>\n",
       "  <tbody>\n",
       "    <tr>\n",
       "      <th>10</th>\n",
       "      <td>https://gallica.bnf.fr/ark:/12148/btv1b53162160w</td>\n",
       "      <td>d'arc</td>\n",
       "    </tr>\n",
       "    <tr>\n",
       "      <th>19</th>\n",
       "      <td>https://gallica.bnf.fr/ark:/12148/btv1b53162161b</td>\n",
       "      <td>d'arc</td>\n",
       "    </tr>\n",
       "    <tr>\n",
       "      <th>26</th>\n",
       "      <td>https://gallica.bnf.fr/ark:/12148/btv1b530922119</td>\n",
       "      <td>schah</td>\n",
       "    </tr>\n",
       "    <tr>\n",
       "      <th>33</th>\n",
       "      <td>https://gallica.bnf.fr/ark:/12148/btv1b530653663</td>\n",
       "      <td>député</td>\n",
       "    </tr>\n",
       "    <tr>\n",
       "      <th>34</th>\n",
       "      <td>https://gallica.bnf.fr/ark:/12148/btv1b530923448</td>\n",
       "      <td>schah</td>\n",
       "    </tr>\n",
       "    <tr>\n",
       "      <th>...</th>\n",
       "      <td>...</td>\n",
       "      <td>...</td>\n",
       "    </tr>\n",
       "    <tr>\n",
       "      <th>206335</th>\n",
       "      <td>https://gallica.bnf.fr/ark:/12148/btv1b531595399</td>\n",
       "      <td>majesté</td>\n",
       "    </tr>\n",
       "    <tr>\n",
       "      <th>207456</th>\n",
       "      <td>https://gallica.bnf.fr/ark:/12148/btv1b530921667</td>\n",
       "      <td>forme</td>\n",
       "    </tr>\n",
       "    <tr>\n",
       "      <th>220271</th>\n",
       "      <td>https://gallica.bnf.fr/ark:/12148/btv1b531595399</td>\n",
       "      <td>suite</td>\n",
       "    </tr>\n",
       "    <tr>\n",
       "      <th>262079</th>\n",
       "      <td>https://gallica.bnf.fr/ark:/12148/btv1b531595399</td>\n",
       "      <td>naser</td>\n",
       "    </tr>\n",
       "    <tr>\n",
       "      <th>276015</th>\n",
       "      <td>https://gallica.bnf.fr/ark:/12148/btv1b531595399</td>\n",
       "      <td>al-din</td>\n",
       "    </tr>\n",
       "  </tbody>\n",
       "</table>\n",
       "<p>19652 rows × 2 columns</p>\n",
       "</div>"
      ],
      "text/plain": [
       "                                                      id     tags\n",
       "10      https://gallica.bnf.fr/ark:/12148/btv1b53162160w    d'arc\n",
       "19      https://gallica.bnf.fr/ark:/12148/btv1b53162161b    d'arc\n",
       "26      https://gallica.bnf.fr/ark:/12148/btv1b530922119    schah\n",
       "33      https://gallica.bnf.fr/ark:/12148/btv1b530653663   député\n",
       "34      https://gallica.bnf.fr/ark:/12148/btv1b530923448    schah\n",
       "...                                                  ...      ...\n",
       "206335  https://gallica.bnf.fr/ark:/12148/btv1b531595399  majesté\n",
       "207456  https://gallica.bnf.fr/ark:/12148/btv1b530921667    forme\n",
       "220271  https://gallica.bnf.fr/ark:/12148/btv1b531595399    suite\n",
       "262079  https://gallica.bnf.fr/ark:/12148/btv1b531595399    naser\n",
       "276015  https://gallica.bnf.fr/ark:/12148/btv1b531595399   al-din\n",
       "\n",
       "[19652 rows x 2 columns]"
      ]
     },
     "execution_count": 48,
     "metadata": {},
     "output_type": "execute_result"
    }
   ],
   "source": [
    "tags_title_"
   ]
  },
  {
   "cell_type": "code",
   "execution_count": 49,
   "metadata": {},
   "outputs": [],
   "source": [
    "def get_taglist(df, n=10):\n",
    "    \n",
    "    return df[df['tags'].map(df['tags'].value_counts()) > n]"
   ]
  },
  {
   "cell_type": "code",
   "execution_count": 50,
   "metadata": {},
   "outputs": [],
   "source": [
    "taglist_title = list(get_taglist(tags_title_).tags.unique())"
   ]
  },
  {
   "cell_type": "code",
   "execution_count": 51,
   "metadata": {},
   "outputs": [],
   "source": [
    "#taglist_title"
   ]
  },
  {
   "cell_type": "code",
   "execution_count": 52,
   "metadata": {},
   "outputs": [],
   "source": [
    "tags_subject_ = tag_df.subject.apply(pd.Series).merge(tag_df, right_index=True, left_index=True) \\\n",
    "        .drop(['title','subject'],axis=1).melt(id_vars=['id'], value_name='tags').drop('variable', axis=1)\n",
    "\n"
   ]
  },
  {
   "cell_type": "code",
   "execution_count": 53,
   "metadata": {},
   "outputs": [],
   "source": [
    "tags_subject_ = tags_subject_[tags_subject_.tags.apply(filter_tags)]"
   ]
  },
  {
   "cell_type": "code",
   "execution_count": 54,
   "metadata": {},
   "outputs": [],
   "source": [
    "taglist_subject = list(get_taglist(tags_subject_, n=1).tags.unique())\n",
    "#taglist_subject"
   ]
  },
  {
   "cell_type": "code",
   "execution_count": 55,
   "metadata": {},
   "outputs": [],
   "source": [
    "#some manual work\n",
    "\n",
    "taglist_title_final = ['député', 'ambassade', 'ministre', 'bordas',\n",
    "       'compositeur', 'général', 'chinois', 'journaliste',\n",
    "       'opéra', 'sculpteur', 'vaudeviliste', 'peintre',\n",
    "       'colonel', 'auteur', 'historien', 'comédien', 'amiral',\n",
    "       'baretta', 'prince', 'chimiste', 'avocat',\n",
    "       'piccolo', 'comédie', 'romancier', 'abbé', \n",
    "       'écrivain', 'capitaine', 'navigation', 'vaudeville', \n",
    "       'châtelet', 'explorateur', 'aéronaute',\n",
    "       'critique', 'cantatrice', 'princesse', 'poète', 'violoniste',\n",
    "       'docteur',  'journal', 'marquis',\n",
    "       'dessinateur', 'musicien', 'chanteur',\n",
    "       'publiciste', 'chef', 'couturier', 'lanthelme', 'famille',\n",
    "       'opéra-comique', 'écuyère', 'actrice',\n",
    "       'napoléon', 'directeur', 'ecrivain', 'suite', 'anglaise',\n",
    "       'palais-royal', 'folies', 'cirque', 'ecuyère',\n",
    "        'théâtre-français', 'gymnase', 'frère',\n",
    "      'roi', 'folies-dramatiques',\n",
    "       'mousquetaires', 'bouffes-parisiens', 'professeur', 'groupe',\n",
    "       'littérateur', 'président', 'maison',\n",
    "       \n",
    "       'lyrique', 'cluny', 'reichemberg', 'folies-dramatiques', 'frères',\n",
    "       \n",
    "       'chevallier', 'danseuse',  \n",
    "       'décorateur', 'ambassadeur', \n",
    "       'politique', 'saint', 'république',\n",
    "        'droit',\n",
    "        'marquise', \n",
    "       'sénateur',\n",
    "       'artiste', 'cloches',\n",
    "       'majesté', 'japonaise', 'dramatique',\n",
    "       'comique', 'française', 'aérienne', 'conservatoire', 'bourgeois',\n",
    "       'italien', 'royal', \"l'institut\", \n",
    "       \"d'orchestre\", 'comédie-française', \n",
    "       'revue', 'bergère', \"d'hiver\", 'potter', 'dramatiques', \n",
    "       'suédoise', \"l'académie\", 'opéra-comique',\n",
    "       'orphée',\n",
    "       \n",
    "       'folies-dramatiques',\n",
    "       'vaudevill', 'odéon', 'phèdre', 'assassin', 'décoré',\n",
    "       'saint-martin', 'trouvère', 'vénus', \"l'arlésienne\",\n",
    "       'assommoir', \n",
    "       'cantinière', \"s'amuse\", 'amour', 'opéra', 'serment', 'rouge',\n",
    "       \n",
    "       'mascotte', 'gymnase',\n",
    "       'châtelet', \n",
    "       \n",
    "       'africaine',\n",
    "        'juanita', 'perse', 'musique',\n",
    "       'nouveau', 'lettres', 'russe', 'breuil', 'lantelme', 'hanovre',\n",
    "       'pyrénées', 'parisienne', 'ventre',\n",
    "\n",
    "       'chevalier', 'séville', 'américaine',  \"l'impératrice\",\n",
    "       'commune', 'cigale', 'saturnales', 'cendrillonnette', 'tzigane',\n",
    "       \n",
    "       'camarade', 'marchande', 'bicyclistes',\n",
    "       'sans-gêne', 'cousin-cousine', \"d'avignon\", 'pilules', 'fétiche',\n",
    "       'cliquette', \n",
    "       'patard', 'patart', 'joyeusetés', 'fantaisies-parisiennes',\n",
    "       'dramatiques', 'carreau',  'suzette', 'enfers', 'école',\n",
    "       \n",
    "       \n",
    "        'trèfle', \n",
    "\n",
    "        'tambour-major', 'couronne',\n",
    "        'diable',\n",
    "       'pyrennées', 'christ', 'hussard', 'galles', \"l'année\", 'chèvres',\n",
    "       'seigneur', 'clairette']"
   ]
  },
  {
   "cell_type": "code",
   "execution_count": null,
   "metadata": {},
   "outputs": [],
   "source": []
  },
  {
   "cell_type": "code",
   "execution_count": null,
   "metadata": {},
   "outputs": [],
   "source": []
  },
  {
   "cell_type": "code",
   "execution_count": 56,
   "metadata": {},
   "outputs": [],
   "source": [
    "tag_df['tags_title'] = tag_df.title.apply(lambda x: list(set(x).intersection(set(taglist_title_final)))) \n",
    "tag_df['tags_subject'] = tag_df.subject.apply(lambda x: list(set(x).intersection(set(taglist_subject)))) "
   ]
  },
  {
   "cell_type": "code",
   "execution_count": 57,
   "metadata": {},
   "outputs": [],
   "source": [
    "tag_df['tags'] = tag_df.tags_title + tag_df.tags_subject"
   ]
  },
  {
   "cell_type": "code",
   "execution_count": 58,
   "metadata": {},
   "outputs": [],
   "source": [
    "tag_df['len'] = tag_df.tags.apply(lambda x: len(x))"
   ]
  },
  {
   "cell_type": "code",
   "execution_count": 59,
   "metadata": {},
   "outputs": [
    {
     "data": {
      "text/html": [
       "<div>\n",
       "<style scoped>\n",
       "    .dataframe tbody tr th:only-of-type {\n",
       "        vertical-align: middle;\n",
       "    }\n",
       "\n",
       "    .dataframe tbody tr th {\n",
       "        vertical-align: top;\n",
       "    }\n",
       "\n",
       "    .dataframe thead th {\n",
       "        text-align: right;\n",
       "    }\n",
       "</style>\n",
       "<table border=\"1\" class=\"dataframe\">\n",
       "  <thead>\n",
       "    <tr style=\"text-align: right;\">\n",
       "      <th></th>\n",
       "      <th>id</th>\n",
       "      <th>title</th>\n",
       "      <th>subject</th>\n",
       "      <th>tags_title</th>\n",
       "      <th>tags_subject</th>\n",
       "      <th>tags</th>\n",
       "      <th>len</th>\n",
       "    </tr>\n",
       "  </thead>\n",
       "  <tbody>\n",
       "    <tr>\n",
       "      <th>14</th>\n",
       "      <td>https://gallica.bnf.fr/ark:/12148/btv1b53168871g</td>\n",
       "      <td>[me, opéra-comique]</td>\n",
       "      <td>[]</td>\n",
       "      <td>[opéra-comique]</td>\n",
       "      <td>[]</td>\n",
       "      <td>[opéra-comique]</td>\n",
       "      <td>1</td>\n",
       "    </tr>\n",
       "    <tr>\n",
       "      <th>38</th>\n",
       "      <td>https://gallica.bnf.fr/ark:/12148/btv1b53171027z</td>\n",
       "      <td>[me, variétés, les, variétés, de, l'année]</td>\n",
       "      <td>[]</td>\n",
       "      <td>[l'année]</td>\n",
       "      <td>[]</td>\n",
       "      <td>[l'année]</td>\n",
       "      <td>1</td>\n",
       "    </tr>\n",
       "    <tr>\n",
       "      <th>39</th>\n",
       "      <td>https://gallica.bnf.fr/ark:/12148/btv1b53171028d</td>\n",
       "      <td>[me, variétés, les, variétés, de, l'année]</td>\n",
       "      <td>[]</td>\n",
       "      <td>[l'année]</td>\n",
       "      <td>[]</td>\n",
       "      <td>[l'année]</td>\n",
       "      <td>1</td>\n",
       "    </tr>\n",
       "    <tr>\n",
       "      <th>45</th>\n",
       "      <td>https://gallica.bnf.fr/ark:/12148/btv1b53165012c</td>\n",
       "      <td>[me, folies-dramatiques, juanita]</td>\n",
       "      <td>[]</td>\n",
       "      <td>[juanita, folies-dramatiques]</td>\n",
       "      <td>[]</td>\n",
       "      <td>[juanita, folies-dramatiques]</td>\n",
       "      <td>2</td>\n",
       "    </tr>\n",
       "    <tr>\n",
       "      <th>50</th>\n",
       "      <td>https://gallica.bnf.fr/ark:/12148/btv1b53165010g</td>\n",
       "      <td>[m, folies-dramatiques, juanita]</td>\n",
       "      <td>[]</td>\n",
       "      <td>[juanita, folies-dramatiques]</td>\n",
       "      <td>[]</td>\n",
       "      <td>[juanita, folies-dramatiques]</td>\n",
       "      <td>2</td>\n",
       "    </tr>\n",
       "    <tr>\n",
       "      <th>...</th>\n",
       "      <td>...</td>\n",
       "      <td>...</td>\n",
       "      <td>...</td>\n",
       "      <td>...</td>\n",
       "      <td>...</td>\n",
       "      <td>...</td>\n",
       "      <td>...</td>\n",
       "    </tr>\n",
       "    <tr>\n",
       "      <th>23516</th>\n",
       "      <td>https://gallica.bnf.fr/ark:/12148/btv1b530506270</td>\n",
       "      <td>[de, journaliste]</td>\n",
       "      <td>[]</td>\n",
       "      <td>[journaliste]</td>\n",
       "      <td>[]</td>\n",
       "      <td>[journaliste]</td>\n",
       "      <td>1</td>\n",
       "    </tr>\n",
       "    <tr>\n",
       "      <th>23517</th>\n",
       "      <td>https://gallica.bnf.fr/ark:/12148/btv1b53065782n</td>\n",
       "      <td>[homme, de, lettres]</td>\n",
       "      <td>[]</td>\n",
       "      <td>[lettres]</td>\n",
       "      <td>[]</td>\n",
       "      <td>[lettres]</td>\n",
       "      <td>1</td>\n",
       "    </tr>\n",
       "    <tr>\n",
       "      <th>23519</th>\n",
       "      <td>https://gallica.bnf.fr/ark:/12148/btv1b53066278c</td>\n",
       "      <td>[directeur, des, bouffes]</td>\n",
       "      <td>[]</td>\n",
       "      <td>[directeur]</td>\n",
       "      <td>[]</td>\n",
       "      <td>[directeur]</td>\n",
       "      <td>1</td>\n",
       "    </tr>\n",
       "    <tr>\n",
       "      <th>23523</th>\n",
       "      <td>https://gallica.bnf.fr/ark:/12148/btv1b53118792t</td>\n",
       "      <td>[docteur]</td>\n",
       "      <td>[]</td>\n",
       "      <td>[docteur]</td>\n",
       "      <td>[]</td>\n",
       "      <td>[docteur]</td>\n",
       "      <td>1</td>\n",
       "    </tr>\n",
       "    <tr>\n",
       "      <th>23528</th>\n",
       "      <td>https://gallica.bnf.fr/ark:/12148/btv1b531203810</td>\n",
       "      <td>[m, hignette]</td>\n",
       "      <td>[Ombre portée]</td>\n",
       "      <td>[]</td>\n",
       "      <td>[Ombre portée]</td>\n",
       "      <td>[Ombre portée]</td>\n",
       "      <td>1</td>\n",
       "    </tr>\n",
       "  </tbody>\n",
       "</table>\n",
       "<p>6904 rows × 7 columns</p>\n",
       "</div>"
      ],
      "text/plain": [
       "                                                     id  \\\n",
       "14     https://gallica.bnf.fr/ark:/12148/btv1b53168871g   \n",
       "38     https://gallica.bnf.fr/ark:/12148/btv1b53171027z   \n",
       "39     https://gallica.bnf.fr/ark:/12148/btv1b53171028d   \n",
       "45     https://gallica.bnf.fr/ark:/12148/btv1b53165012c   \n",
       "50     https://gallica.bnf.fr/ark:/12148/btv1b53165010g   \n",
       "...                                                 ...   \n",
       "23516  https://gallica.bnf.fr/ark:/12148/btv1b530506270   \n",
       "23517  https://gallica.bnf.fr/ark:/12148/btv1b53065782n   \n",
       "23519  https://gallica.bnf.fr/ark:/12148/btv1b53066278c   \n",
       "23523  https://gallica.bnf.fr/ark:/12148/btv1b53118792t   \n",
       "23528  https://gallica.bnf.fr/ark:/12148/btv1b531203810   \n",
       "\n",
       "                                            title         subject  \\\n",
       "14                            [me, opéra-comique]              []   \n",
       "38     [me, variétés, les, variétés, de, l'année]              []   \n",
       "39     [me, variétés, les, variétés, de, l'année]              []   \n",
       "45              [me, folies-dramatiques, juanita]              []   \n",
       "50               [m, folies-dramatiques, juanita]              []   \n",
       "...                                           ...             ...   \n",
       "23516                           [de, journaliste]              []   \n",
       "23517                        [homme, de, lettres]              []   \n",
       "23519                   [directeur, des, bouffes]              []   \n",
       "23523                                   [docteur]              []   \n",
       "23528                               [m, hignette]  [Ombre portée]   \n",
       "\n",
       "                          tags_title    tags_subject  \\\n",
       "14                   [opéra-comique]              []   \n",
       "38                         [l'année]              []   \n",
       "39                         [l'année]              []   \n",
       "45     [juanita, folies-dramatiques]              []   \n",
       "50     [juanita, folies-dramatiques]              []   \n",
       "...                              ...             ...   \n",
       "23516                  [journaliste]              []   \n",
       "23517                      [lettres]              []   \n",
       "23519                    [directeur]              []   \n",
       "23523                      [docteur]              []   \n",
       "23528                             []  [Ombre portée]   \n",
       "\n",
       "                                tags  len  \n",
       "14                   [opéra-comique]    1  \n",
       "38                         [l'année]    1  \n",
       "39                         [l'année]    1  \n",
       "45     [juanita, folies-dramatiques]    2  \n",
       "50     [juanita, folies-dramatiques]    2  \n",
       "...                              ...  ...  \n",
       "23516                  [journaliste]    1  \n",
       "23517                      [lettres]    1  \n",
       "23519                    [directeur]    1  \n",
       "23523                      [docteur]    1  \n",
       "23528                 [Ombre portée]    1  \n",
       "\n",
       "[6904 rows x 7 columns]"
      ]
     },
     "execution_count": 59,
     "metadata": {},
     "output_type": "execute_result"
    }
   ],
   "source": [
    "tag_df[tag_df.len >0]"
   ]
  },
  {
   "cell_type": "code",
   "execution_count": null,
   "metadata": {},
   "outputs": [],
   "source": []
  },
  {
   "cell_type": "code",
   "execution_count": 60,
   "metadata": {},
   "outputs": [],
   "source": [
    "tag_id_df = pd.DataFrame(tag_df[['id','tags']], columns=['id','tags'])"
   ]
  },
  {
   "cell_type": "code",
   "execution_count": 61,
   "metadata": {},
   "outputs": [],
   "source": [
    "tag_id_df.to_pickle('tag-id.pkl')"
   ]
  },
  {
   "cell_type": "code",
   "execution_count": 64,
   "metadata": {},
   "outputs": [],
   "source": [
    "wiki_df = pd.DataFrame(df2[['id','subjects']])"
   ]
  },
  {
   "cell_type": "code",
   "execution_count": 65,
   "metadata": {},
   "outputs": [],
   "source": [
    "wiki_df['names'] = wiki_df.subjects.apply(is_name)"
   ]
  },
  {
   "cell_type": "code",
   "execution_count": 66,
   "metadata": {},
   "outputs": [
    {
     "data": {
      "text/plain": [
       "69       [Georges, Édouard (1829-1903), Armand, Victori...\n",
       "119      [Chevreul, Eugène (1786-1889), Chevreul, Henri...\n",
       "120      [Chevreul, Eugène (1786-1889), Chevreul, Henri...\n",
       "121      [Chevreul, Eugène (1786-1889), Nadar (1820-191...\n",
       "135      [Chevreul, Eugène (1786-1889), Chevreul, Henri...\n",
       "                               ...                        \n",
       "23392    [Hadamar, Zélie (1849-1902 ; actrice), Lambert...\n",
       "23445    [Hamburger, Edouard (18..-1886), Baron, Vincen...\n",
       "23450    [Lavallière, Ève (1866-1929), Dupuis, Joseph (...\n",
       "23468    [Mary-Albert, Madame (1855-....), Duhamel, Bia...\n",
       "23469    [Mary-Albert, Madame (1855-....), Duhamel, Bia...\n",
       "Name: names, Length: 65, dtype: object"
      ]
     },
     "execution_count": 66,
     "metadata": {},
     "output_type": "execute_result"
    }
   ],
   "source": [
    "wiki_df['names'][wiki_df.names.apply(lambda x:len(x)>2)]"
   ]
  },
  {
   "cell_type": "code",
   "execution_count": 67,
   "metadata": {},
   "outputs": [
    {
     "data": {
      "text/plain": [
       "['Auguez,', 'Mathilde', '(1868-1955)']"
      ]
     },
     "execution_count": 67,
     "metadata": {},
     "output_type": "execute_result"
    }
   ],
   "source": [
    "re.findall('[\\S]+','Auguez, Mathilde (1868-1955)')"
   ]
  },
  {
   "cell_type": "code",
   "execution_count": 68,
   "metadata": {},
   "outputs": [],
   "source": [
    "wiki_explode = wiki_df.explode('names')"
   ]
  },
  {
   "cell_type": "code",
   "execution_count": 69,
   "metadata": {},
   "outputs": [
    {
     "data": {
      "text/plain": [
       "names\n",
       "Abbatucci, Séverin (1821-1888)               5\n",
       "Abbott, Emma (1850-1891)                    50\n",
       "Abbéma, Louise (1858-1927)                  12\n",
       "Abney, William de Wiveleslie (1843-1920)     3\n",
       "Abott, Bessie (1878-1919)                    1\n",
       "                                            ..\n",
       "Énault, Louis (1824-1900)                    1\n",
       "Éon, Charles de Beaumont d' (1728-1810)      1\n",
       "Étex, Antoine (1808-1888)                    2\n",
       "Étiévant, Henri (1870-1953)                  1\n",
       "Č̌ebyšev, Pafnutij Lʹvovič (1821-1894)       3\n",
       "Length: 1963, dtype: int64"
      ]
     },
     "execution_count": 69,
     "metadata": {},
     "output_type": "execute_result"
    }
   ],
   "source": [
    "wiki_explode.groupby(wiki_explode.names).size()"
   ]
  },
  {
   "cell_type": "code",
   "execution_count": 70,
   "metadata": {},
   "outputs": [],
   "source": [
    "wiki_names = wiki_explode.names.unique()"
   ]
  },
  {
   "cell_type": "code",
   "execution_count": null,
   "metadata": {},
   "outputs": [],
   "source": []
  },
  {
   "cell_type": "code",
   "execution_count": null,
   "metadata": {},
   "outputs": [],
   "source": []
  },
  {
   "cell_type": "code",
   "execution_count": 71,
   "metadata": {},
   "outputs": [],
   "source": [
    "import wikipedia\n",
    "\n"
   ]
  },
  {
   "cell_type": "code",
   "execution_count": 72,
   "metadata": {},
   "outputs": [],
   "source": [
    "def hacked_summary(x):\n",
    "    try:\n",
    "        x = re.sub('[,(\\-)]', ' ', x)\n",
    "        keywords = re.findall('[\\S]+', x.lower())\n",
    "\n",
    "        s = wikipedia.summary(x, sentences=2)\n",
    "        mask = list(map(lambda x: s.lower().find(x) != -1 ,keywords))\n",
    "        se = list(compress(keywords, mask))\n",
    "        \n",
    "        #se = set(keywords).intersection(set(s.lower().split()))\n",
    "        return (s, list(se))\n",
    "    except:\n",
    "        return ''"
   ]
  },
  {
   "cell_type": "code",
   "execution_count": 75,
   "metadata": {},
   "outputs": [],
   "source": [
    "wiki_reset = False\n",
    "\n",
    "if wiki_reset:\n",
    "    wikipedia.set_lang('en')\n",
    "    wiki = pd.DataFrame(wiki_names, columns=['name'])\n",
    "\n",
    "    wiki['result'] = wiki.name.apply(hacked_summary)\n",
    "\n",
    "    wiki[['summary','keyword']] = pd.DataFrame(wiki.result.values.tolist(), index= wiki.index)\n",
    "    \n",
    "    wikipedia.set_lang('fr')\n",
    "    wiki['result_fr'] = wiki.name.apply(hacked_summary)\n",
    "    wiki[['summary_fr','keyword_fr']] = pd.DataFrame(wiki.result_fr.values.tolist(), index= wiki.index)\n",
    "    wiki.to_pickle('wiki_summaries.pkl')\n",
    "    #   wiki[['name','summary','summary_fr']][(~wiki.summary.isnull() & wiki.keyword.apply(lambda x: x!=[]))| \\\n",
    " #                              (~wiki.summary_fr.isnull() & wiki.keyword_fr.apply(lambda x:x!=[]))].to_pickle('wiki_summaries.pkl')"
   ]
  },
  {
   "cell_type": "code",
   "execution_count": 77,
   "metadata": {},
   "outputs": [],
   "source": [
    "wiki = pd.read_pickle('wiki_summaries.pkl')\n"
   ]
  },
  {
   "cell_type": "code",
   "execution_count": null,
   "metadata": {},
   "outputs": [],
   "source": [
    "wiki_notnull = wiki[~wiki.summary.isnull()]\n",
    "wiki_mismatch = wiki_notnull[['name','summary']][wiki_notnull.keyword.apply(lambda x: len(x)== 0)]\n",
    "wiki_dict = wiki_mismatch.to_dict(orient='records')"
   ]
  },
  {
   "cell_type": "code",
   "execution_count": 81,
   "metadata": {},
   "outputs": [
    {
     "data": {
      "text/plain": [
       "array(['Auguez, Mathilde (1868-1955)', 'Bruant, Aristide (1851-1925)',\n",
       "       'Brasseur, Albert (1862-1932)', ...,\n",
       "       'Hamburger, Edouard (18..-1886)', 'Lamy, François (18..-1903)',\n",
       "       'Delessert, Eugène (1819-1877)'], dtype=object)"
      ]
     },
     "execution_count": 81,
     "metadata": {},
     "output_type": "execute_result"
    }
   ],
   "source": [
    "wiki_explode.names.unique()"
   ]
  },
  {
   "cell_type": "code",
   "execution_count": null,
   "metadata": {},
   "outputs": [],
   "source": []
  },
  {
   "cell_type": "code",
   "execution_count": null,
   "metadata": {},
   "outputs": [],
   "source": []
  },
  {
   "cell_type": "code",
   "execution_count": null,
   "metadata": {},
   "outputs": [],
   "source": []
  },
  {
   "cell_type": "code",
   "execution_count": null,
   "metadata": {},
   "outputs": [],
   "source": []
  },
  {
   "cell_type": "code",
   "execution_count": 144,
   "metadata": {},
   "outputs": [],
   "source": [
    "wiki_names = wiki_explode.names.dropna().apply(lambda x: x.split('(')[0].strip())"
   ]
  },
  {
   "cell_type": "code",
   "execution_count": null,
   "metadata": {},
   "outputs": [],
   "source": []
  },
  {
   "cell_type": "code",
   "execution_count": 145,
   "metadata": {},
   "outputs": [],
   "source": []
  },
  {
   "cell_type": "code",
   "execution_count": 203,
   "metadata": {},
   "outputs": [
    {
     "data": {
      "text/plain": [
       "array(['Gélabert, Conchita, Marie', 'Potel, Pierre, Armand',\n",
       "       'Salinas, Maria, Paola', 'Barbey, Isidore, Théodore',\n",
       "       'Fourtier, Hyacinthe, Pierre', 'Mesmaecker, Pierre, Joseph de',\n",
       "       'Thuillier-Leloir, Louise, Victoire', 'Debay, Venulie, Elise',\n",
       "       \"Allonville, Armand, vicomte d'\", 'Moïna-Clément, Anne, Victorine'],\n",
       "      dtype=object)"
      ]
     },
     "execution_count": 203,
     "metadata": {},
     "output_type": "execute_result"
    }
   ],
   "source": [
    "wiki_names[wiki_names.apply(lambda x: len(x.split(',')) == 3)].unique()"
   ]
  },
  {
   "cell_type": "code",
   "execution_count": 197,
   "metadata": {},
   "outputs": [],
   "source": [
    "l = 'Isnard, Jean, Baptiste, Marie, Félix'.split(',')\n",
    "m = [4,0,1,2,3]"
   ]
  },
  {
   "cell_type": "code",
   "execution_count": 200,
   "metadata": {},
   "outputs": [
    {
     "data": {
      "text/plain": [
       "'Jean Baptiste Marie Félix Isnard'"
      ]
     },
     "execution_count": 200,
     "metadata": {},
     "output_type": "execute_result"
    }
   ],
   "source": [
    "' '.join([y.strip() for x,y in sorted(zip(m,l))])"
   ]
  },
  {
   "cell_type": "code",
   "execution_count": 148,
   "metadata": {},
   "outputs": [],
   "source": []
  },
  {
   "cell_type": "code",
   "execution_count": 207,
   "metadata": {},
   "outputs": [],
   "source": [
    "def reorder_names(x):\n",
    "    names_order = {1:[0],2:[1,0], 3:[2,0,1], 4:[3,0,1,2], 5:[4,0,1,2,3]}\n",
    "    s = x.split(',')\n",
    "    m = names_order[len(s)]\n",
    "    return ' '.join([y.strip() for x,y in sorted(zip(m,s))])\n",
    "    "
   ]
  },
  {
   "cell_type": "code",
   "execution_count": 138,
   "metadata": {},
   "outputs": [],
   "source": [
    "def convert_utf(x):\n",
    "    s = str(x.encode())\n",
    "    s = re.sub(\"'\",'',s.split(\"b'\")[-1])\n",
    "    s = s.strip()\n",
    "    s = s.replace('\\\\x','%')\n",
    "    return s"
   ]
  },
  {
   "cell_type": "code",
   "execution_count": 151,
   "metadata": {},
   "outputs": [],
   "source": [
    "from SPARQLWrapper import SPARQLWrapper, XML"
   ]
  },
  {
   "cell_type": "code",
   "execution_count": 222,
   "metadata": {},
   "outputs": [],
   "source": []
  },
  {
   "cell_type": "code",
   "execution_count": 172,
   "metadata": {},
   "outputs": [],
   "source": [
    "def sparql_str() :\n",
    "    pass"
   ]
  },
  {
   "cell_type": "code",
   "execution_count": 184,
   "metadata": {},
   "outputs": [],
   "source": [
    "def sparql_uri(x):\n",
    "    sparql_str.__doc__ = 'PREFIX foaf: <http://xmlns.com/foaf/0.1/>    SELECT ?pers     WHERE {    ?pers foaf:name \"%s\".    }    LIMIT 100' % (x)\n",
    "    sparql = SPARQLWrapper(\"http://data.bnf.fr/sparql\")\n",
    "    sparql.setQuery(sparql_str.__doc__)\n",
    "    sparql.setReturnFormat(XML)\n",
    "    results = sparql.query().convert()\n",
    "    xml_ = results.toxml()\n",
    "    return re.findall(\"<uri>\\S*</uri>\", xml_)"
   ]
  },
  {
   "cell_type": "code",
   "execution_count": null,
   "metadata": {},
   "outputs": [],
   "source": []
  },
  {
   "cell_type": "code",
   "execution_count": 260,
   "metadata": {},
   "outputs": [],
   "source": [
    "wiki_namelist = wiki_names.apply(reorder_names).unique()\n",
    "bnf_name_error = []\n",
    "bnf_not_found = []\n",
    "bnf_link = {}"
   ]
  },
  {
   "cell_type": "code",
   "execution_count": 251,
   "metadata": {},
   "outputs": [
    {
     "data": {
      "text/plain": [
       "[]"
      ]
     },
     "execution_count": 251,
     "metadata": {},
     "output_type": "execute_result"
    }
   ],
   "source": [
    "bnf_name_error"
   ]
  },
  {
   "cell_type": "code",
   "execution_count": 261,
   "metadata": {},
   "outputs": [
    {
     "data": {
      "application/vnd.jupyter.widget-view+json": {
       "model_id": "6468c3ecdd72426a8df6ce19ace88702",
       "version_major": 2,
       "version_minor": 0
      },
      "text/plain": [
       "HBox(children=(IntProgress(value=0, max=1950), HTML(value='')))"
      ]
     },
     "metadata": {},
     "output_type": "display_data"
    },
    {
     "name": "stdout",
     "output_type": "stream",
     "text": [
      "\n"
     ]
    }
   ],
   "source": [
    "for i in tqdm(wiki_namelist):\n",
    "    try:\n",
    "        s = sparql_uri(i)\n",
    "        if s == []:\n",
    "            bnf_not_found.append(i)\n",
    "        else:\n",
    "            bnf_link[i] = s\n",
    "    except:\n",
    "        bnf_name_error.append(i)\n",
    "# takes about 20 minutes"
   ]
  },
  {
   "cell_type": "code",
   "execution_count": 262,
   "metadata": {},
   "outputs": [
    {
     "data": {
      "text/plain": [
       "['Herald de Pages']"
      ]
     },
     "execution_count": 262,
     "metadata": {},
     "output_type": "execute_result"
    }
   ],
   "source": [
    "bnf_name_error"
   ]
  },
  {
   "cell_type": "code",
   "execution_count": 264,
   "metadata": {},
   "outputs": [
    {
     "data": {
      "text/plain": [
       "155"
      ]
     },
     "execution_count": 264,
     "metadata": {},
     "output_type": "execute_result"
    }
   ],
   "source": [
    "bnf_not_found.__len__()"
   ]
  },
  {
   "cell_type": "code",
   "execution_count": 267,
   "metadata": {},
   "outputs": [],
   "source": [
    "bnf_link.keys().__len__()"
   ]
  },
  {
   "cell_type": "code",
   "execution_count": 273,
   "metadata": {},
   "outputs": [
    {
     "ename": "AttributeError",
     "evalue": "'dict' object has no attribute 'tjson'",
     "output_type": "error",
     "traceback": [
      "\u001b[1;31m---------------------------------------------------------------------------\u001b[0m",
      "\u001b[1;31mAttributeError\u001b[0m                            Traceback (most recent call last)",
      "\u001b[1;32m<ipython-input-273-f334e146ac39>\u001b[0m in \u001b[0;36m<module>\u001b[1;34m\u001b[0m\n\u001b[1;32m----> 1\u001b[1;33m \u001b[0mbnf_link\u001b[0m\u001b[1;33m.\u001b[0m\u001b[0mtjson\u001b[0m\u001b[1;33m(\u001b[0m\u001b[1;34m'bnf_link.json'\u001b[0m\u001b[1;33m)\u001b[0m\u001b[1;33m\u001b[0m\u001b[1;33m\u001b[0m\u001b[0m\n\u001b[0m",
      "\u001b[1;31mAttributeError\u001b[0m: 'dict' object has no attribute 'tjson'"
     ]
    }
   ],
   "source": [
    "bnf_link.json('bnf_link.json')"
   ]
  },
  {
   "cell_type": "code",
   "execution_count": null,
   "metadata": {},
   "outputs": [],
   "source": []
  },
  {
   "cell_type": "code",
   "execution_count": null,
   "metadata": {},
   "outputs": [],
   "source": []
  },
  {
   "cell_type": "code",
   "execution_count": null,
   "metadata": {},
   "outputs": [],
   "source": []
  },
  {
   "cell_type": "code",
   "execution_count": null,
   "metadata": {},
   "outputs": [],
   "source": []
  },
  {
   "cell_type": "code",
   "execution_count": null,
   "metadata": {},
   "outputs": [],
   "source": []
  },
  {
   "cell_type": "code",
   "execution_count": null,
   "metadata": {},
   "outputs": [],
   "source": []
  },
  {
   "cell_type": "code",
   "execution_count": null,
   "metadata": {},
   "outputs": [],
   "source": []
  },
  {
   "cell_type": "code",
   "execution_count": null,
   "metadata": {},
   "outputs": [],
   "source": []
  },
  {
   "cell_type": "code",
   "execution_count": null,
   "metadata": {},
   "outputs": [],
   "source": []
  },
  {
   "cell_type": "code",
   "execution_count": null,
   "metadata": {},
   "outputs": [],
   "source": []
  },
  {
   "cell_type": "code",
   "execution_count": null,
   "metadata": {},
   "outputs": [],
   "source": []
  }
 ],
 "metadata": {
  "kernelspec": {
   "display_name": "Python 3",
   "language": "python",
   "name": "python3"
  },
  "language_info": {
   "codemirror_mode": {
    "name": "ipython",
    "version": 3
   },
   "file_extension": ".py",
   "mimetype": "text/x-python",
   "name": "python",
   "nbconvert_exporter": "python",
   "pygments_lexer": "ipython3",
   "version": "3.7.3"
  }
 },
 "nbformat": 4,
 "nbformat_minor": 4
}
