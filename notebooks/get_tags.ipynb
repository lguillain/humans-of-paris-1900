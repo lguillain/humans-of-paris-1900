{
 "cells": [
  {
   "cell_type": "code",
   "execution_count": 16,
   "metadata": {},
   "outputs": [],
   "source": [
    "from fdh_gallica import Periodical, Search, Document\n",
    "from fdh_gallica.parallel_process import iiif_urls_for_documents\n",
    "from tqdm.autonotebook import tqdm\n",
    "import json\n",
    "import pandas as pd\n",
    "from pandas.io.json import json_normalize\n",
    "import itertools\n",
    "from itertools import chain\n",
    "from itertools import compress\n",
    "import re\n",
    "import wikipedia\n",
    "from bs4 import BeautifulSoup\n",
    "import requests\n",
    "from SPARQLWrapper import SPARQLWrapper, XML"
   ]
  },
  {
   "cell_type": "code",
   "execution_count": 17,
   "metadata": {},
   "outputs": [],
   "source": [
    "%matplotlib inline"
   ]
  },
  {
   "cell_type": "markdown",
   "metadata": {},
   "source": [
    "get all images with relevant query"
   ]
  },
  {
   "cell_type": "code",
   "execution_count": 18,
   "metadata": {},
   "outputs": [],
   "source": [
    "re_execute = False\n",
    "if re_execute:\n",
    "    obj = Search(all_fields='atelier Nadar', dc_type='image', dc_creator='Atelier Nadar')\n",
    "    obj.execute()\n",
    "    print(f'number of fetched documents: {len(obj.documents)}')\n",
    "    print(f'total records {obj.total_records}')\n",
    "    print('retry fetching ...')\n",
    "    obj.retry()\n",
    "    print(f'number of fetched documents: {len(obj.documents)}')\n",
    "\n",
    "    df = json_normalize(json.loads(json.dumps(obj.records)))\n",
    "    print('save documents to local')\n",
    "    # list handling becomes a pain of we save as csv\n",
    "    df.to_pickle('../data/raw_df.pkl')"
   ]
  },
  {
   "cell_type": "code",
   "execution_count": 19,
   "metadata": {},
   "outputs": [],
   "source": [
    "df = pd.read_pickle('../data/raw_df.pkl')"
   ]
  },
  {
   "cell_type": "markdown",
   "metadata": {},
   "source": [
    "parse identifier for easier access:"
   ]
  },
  {
   "cell_type": "code",
   "execution_count": 20,
   "metadata": {},
   "outputs": [],
   "source": [
    "image_dataframe = pd.DataFrame(df['dc:identifier']\\\n",
    "                               .map(lambda x: x[0] if type(x) == list else x))\\\n",
    "                               .rename(columns={'dc:identifier':'identifier'})\n",
    "\n",
    "df['id'] = image_dataframe"
   ]
  },
  {
   "cell_type": "markdown",
   "metadata": {},
   "source": [
    "### useless dataframes"
   ]
  },
  {
   "cell_type": "markdown",
   "metadata": {},
   "source": [
    "remove them for ease of use, next ones contain all the same content"
   ]
  },
  {
   "cell_type": "markdown",
   "metadata": {},
   "source": [
    "### removing them"
   ]
  },
  {
   "cell_type": "code",
   "execution_count": 21,
   "metadata": {},
   "outputs": [],
   "source": [
    "del df['dc:type']\n",
    "del df['dc:language']\n",
    "del df['dc:format']\n",
    "del df['dc:identifier']\n",
    "del df['dc:rights']\n",
    "del df['dc:publisher']"
   ]
  },
  {
   "cell_type": "markdown",
   "metadata": {},
   "source": [
    "# getting information about subjects"
   ]
  },
  {
   "cell_type": "code",
   "execution_count": 22,
   "metadata": {},
   "outputs": [],
   "source": [
    "#some objects are stored as list, others arent, use if else to handle\n",
    "df['subject_is_list'] = df['dc:subject'].map(lambda x: type(x) == list)"
   ]
  },
  {
   "cell_type": "code",
   "execution_count": 23,
   "metadata": {},
   "outputs": [],
   "source": [
    "df['len_list'] = df[df.subject_is_list]['dc:subject'].map(len)"
   ]
  },
  {
   "cell_type": "markdown",
   "metadata": {},
   "source": [
    "length is non uniform ... we will have to unnest"
   ]
  },
  {
   "cell_type": "code",
   "execution_count": 24,
   "metadata": {},
   "outputs": [
    {
     "data": {
      "text/plain": [
       "2.0    12834\n",
       "3.0      748\n",
       "4.0      239\n",
       "5.0      233\n",
       "6.0       10\n",
       "7.0        9\n",
       "Name: len_list, dtype: int64"
      ]
     },
     "execution_count": 24,
     "metadata": {},
     "output_type": "execute_result"
    }
   ],
   "source": [
    "df.len_list.value_counts()"
   ]
  },
  {
   "cell_type": "code",
   "execution_count": 25,
   "metadata": {},
   "outputs": [
    {
     "data": {
      "text/plain": [
       "[Bernhardt, Sarah (1844-1923) -- Portraits, Portraits du théâtre -- 19e siècle]          266\n",
       "[Réjane (1856-1920) -- Portraits, Portraits du théâtre -- 19e siècle]                    118\n",
       "[Théo, Louise (1854-1922) -- Portraits, Portraits du théâtre -- 19e siècle]              109\n",
       "[Simon-Girard, Juliette (1859-1959) -- Portraits, Portraits du théâtre -- 19e siècle]     84\n",
       "[Lantelme, Marie -- Portraits, Portraits du théâtre -- 19e siècle]                        83\n",
       "Name: dc:subject, dtype: int64"
      ]
     },
     "execution_count": 25,
     "metadata": {},
     "output_type": "execute_result"
    }
   ],
   "source": [
    "df[df.subject_is_list]['dc:subject'].map(lambda x: x).value_counts().head()"
   ]
  },
  {
   "cell_type": "code",
   "execution_count": 26,
   "metadata": {},
   "outputs": [],
   "source": [
    "df2 = df[['id','dc:subject','dc:title','subject_is_list','len_list']]"
   ]
  },
  {
   "cell_type": "code",
   "execution_count": 27,
   "metadata": {},
   "outputs": [],
   "source": [
    "subject1 = df2['dc:subject'][~df2.subject_is_list].unique().tolist()"
   ]
  },
  {
   "cell_type": "code",
   "execution_count": 28,
   "metadata": {},
   "outputs": [
    {
     "data": {
      "text/plain": [
       "['Portraits du théâtre -- 19e siècle',\n",
       " 'Portraits de studio -- 19e siècle',\n",
       " 'Portraits collectifs -- 19e siècle',\n",
       " 'Scènes théâtrales -- 19e siècle',\n",
       " 'Portraits -- 19e siècle',\n",
       " 'Portraits équestres -- 19e siècle',\n",
       " 'Expositions de photographie',\n",
       " 'Tableaux vivants et mises en scène -- 19e siècle',\n",
       " 'Portraits de plein air -- 19e siècle',\n",
       " 'Portraits après décès -- 19e siècle',\n",
       " 'Portraits de studio',\n",
       " \"Vues d'intérieur -- 19e siècle\",\n",
       " 'Luco, François (18..-1882) -- Portraits',\n",
       " 'Paysages -- 19e siècle',\n",
       " 'Cham (1818-1879) -- Oeuvres -- Dessin',\n",
       " 'Carvalho, Léon (1825-1897) -- Tombes',\n",
       " 'Sand, George (1804-1876) -- Statues',\n",
       " 'Caricatures et dessins humoristiques -- 19e siècle',\n",
       " 'Figuet, Gabrielle (1862-1889) -- Portraits',\n",
       " 'Delmas, Jean-François (1861-1933) -- Portraits']"
      ]
     },
     "execution_count": 28,
     "metadata": {},
     "output_type": "execute_result"
    }
   ],
   "source": [
    "subject1"
   ]
  },
  {
   "cell_type": "code",
   "execution_count": 29,
   "metadata": {},
   "outputs": [],
   "source": [
    "subjects_to_exclude = list(set(subject1) - set(['Luco, François (18..-1882) -- Portraits',\n",
    "                                                'Figuet, Gabrielle (1862-1889) -- Portraits',\n",
    "                                                'Cham (1818-1879) -- Oeuvres -- Dessin',\n",
    "                                                'Delmas, Jean-François (1861-1933) -- Portraits',\n",
    "                                                'Carvalho, Léon (1825-1897) -- Tombes',\n",
    "                                                'Sand, George (1804-1876) -- Statues']))"
   ]
  },
  {
   "cell_type": "code",
   "execution_count": 30,
   "metadata": {},
   "outputs": [
    {
     "data": {
      "text/plain": [
       "len_list\n",
       "2.0    12834\n",
       "3.0      748\n",
       "4.0      239\n",
       "5.0      233\n",
       "6.0       10\n",
       "7.0        9\n",
       "Name: len_list, dtype: int64"
      ]
     },
     "execution_count": 30,
     "metadata": {},
     "output_type": "execute_result"
    }
   ],
   "source": [
    "df2['len_list'][~df2.len_list.isna()].groupby(df2.len_list).size()"
   ]
  },
  {
   "cell_type": "code",
   "execution_count": 32,
   "metadata": {},
   "outputs": [],
   "source": [
    "def subject_filter(x):\n",
    "    if type(x) == str:\n",
    "        if x in subjects_to_exclude:\n",
    "            result = ''\n",
    "        else:\n",
    "            result = [x]\n",
    "    elif type(x) == list:\n",
    "        temp = []\n",
    "        for s in x:\n",
    "            if s not in subjects_to_exclude:\n",
    "                #x.remove(s)\n",
    "                temp.append(s)\n",
    "        result = temp\n",
    "    else:\n",
    "        result = type(x)\n",
    "    return result"
   ]
  },
  {
   "cell_type": "code",
   "execution_count": 33,
   "metadata": {},
   "outputs": [
    {
     "name": "stderr",
     "output_type": "stream",
     "text": [
      "C:\\Users\\haeeun\\Anaconda3\\lib\\site-packages\\ipykernel_launcher.py:1: SettingWithCopyWarning: \n",
      "A value is trying to be set on a copy of a slice from a DataFrame.\n",
      "Try using .loc[row_indexer,col_indexer] = value instead\n",
      "\n",
      "See the caveats in the documentation: http://pandas.pydata.org/pandas-docs/stable/user_guide/indexing.html#returning-a-view-versus-a-copy\n",
      "  \"\"\"Entry point for launching an IPython kernel.\n"
     ]
    }
   ],
   "source": [
    "df2['subjects'] = df2['dc:subject'].apply(subject_filter)"
   ]
  },
  {
   "cell_type": "code",
   "execution_count": 34,
   "metadata": {},
   "outputs": [],
   "source": []
  },
  {
   "cell_type": "code",
   "execution_count": 35,
   "metadata": {},
   "outputs": [
    {
     "name": "stderr",
     "output_type": "stream",
     "text": [
      "C:\\Users\\haeeun\\Anaconda3\\lib\\site-packages\\ipykernel_launcher.py:1: SettingWithCopyWarning: \n",
      "A value is trying to be set on a copy of a slice from a DataFrame.\n",
      "Try using .loc[row_indexer,col_indexer] = value instead\n",
      "\n",
      "See the caveats in the documentation: http://pandas.pydata.org/pandas-docs/stable/user_guide/indexing.html#returning-a-view-versus-a-copy\n",
      "  \"\"\"Entry point for launching an IPython kernel.\n"
     ]
    }
   ],
   "source": [
    "df2['number_of_subjects'] = df2['subjects'].apply(len)"
   ]
  },
  {
   "cell_type": "code",
   "execution_count": 36,
   "metadata": {},
   "outputs": [
    {
     "data": {
      "text/plain": [
       "number_of_subjects\n",
       "0     9599\n",
       "1    12881\n",
       "2      853\n",
       "3      189\n",
       "4        9\n",
       "5        3\n",
       "6        1\n",
       "dtype: int64"
      ]
     },
     "execution_count": 36,
     "metadata": {},
     "output_type": "execute_result"
    }
   ],
   "source": [
    "df2.groupby(df2.number_of_subjects).size()"
   ]
  },
  {
   "cell_type": "code",
   "execution_count": 37,
   "metadata": {},
   "outputs": [],
   "source": [
    "df2 = df2.drop(['dc:subject', 'subject_is_list','len_list'],axis=1)"
   ]
  },
  {
   "cell_type": "code",
   "execution_count": 38,
   "metadata": {},
   "outputs": [],
   "source": [
    "df2 = df2[df2.number_of_subjects != 0]"
   ]
  },
  {
   "cell_type": "code",
   "execution_count": 728,
   "metadata": {},
   "outputs": [],
   "source": [
    "#df2"
   ]
  },
  {
   "cell_type": "code",
   "execution_count": 40,
   "metadata": {},
   "outputs": [],
   "source": [
    "def title_filter(x):\n",
    "    if type(x) == list:\n",
    "        x = ''.join(x)\n",
    "    \n",
    "    if type(x) == str:\n",
    "        try:\n",
    "            result = x.split(':')[0].strip().strip('[]')\n",
    "        except:\n",
    "            result = x\n",
    "    else:\n",
    "        result = x\n",
    "        \n",
    "    return result\n",
    "        "
   ]
  },
  {
   "cell_type": "code",
   "execution_count": 41,
   "metadata": {},
   "outputs": [],
   "source": [
    "df2['title'] = df2['dc:title'].apply(title_filter)"
   ]
  },
  {
   "cell_type": "code",
   "execution_count": 42,
   "metadata": {},
   "outputs": [
    {
     "data": {
      "text/html": [
       "<div>\n",
       "<style scoped>\n",
       "    .dataframe tbody tr th:only-of-type {\n",
       "        vertical-align: middle;\n",
       "    }\n",
       "\n",
       "    .dataframe tbody tr th {\n",
       "        vertical-align: top;\n",
       "    }\n",
       "\n",
       "    .dataframe thead th {\n",
       "        text-align: right;\n",
       "    }\n",
       "</style>\n",
       "<table border=\"1\" class=\"dataframe\">\n",
       "  <thead>\n",
       "    <tr style=\"text-align: right;\">\n",
       "      <th></th>\n",
       "      <th>id</th>\n",
       "      <th>dc:title</th>\n",
       "      <th>subjects</th>\n",
       "      <th>number_of_subjects</th>\n",
       "      <th>title</th>\n",
       "    </tr>\n",
       "  </thead>\n",
       "  <tbody>\n",
       "    <tr>\n",
       "      <th>7</th>\n",
       "      <td>https://gallica.bnf.fr/ark:/12148/btv1b53168872x</td>\n",
       "      <td>[Me Auguez] : [photographie, tirage de démonst...</td>\n",
       "      <td>[Auguez, Mathilde (1868-1955) -- Portraits]</td>\n",
       "      <td>1</td>\n",
       "      <td>Me Auguez</td>\n",
       "    </tr>\n",
       "    <tr>\n",
       "      <th>8</th>\n",
       "      <td>https://gallica.bnf.fr/ark:/12148/btv1b531688701</td>\n",
       "      <td>[Me Auguez] : [photographie, tirage de démonst...</td>\n",
       "      <td>[Auguez, Mathilde (1868-1955) -- Portraits]</td>\n",
       "      <td>1</td>\n",
       "      <td>Me Auguez</td>\n",
       "    </tr>\n",
       "    <tr>\n",
       "      <th>9</th>\n",
       "      <td>https://gallica.bnf.fr/ark:/12148/btv1b53171770j</td>\n",
       "      <td>M. Bruant : [photographie, tirage de démonstra...</td>\n",
       "      <td>[Bruant, Aristide (1851-1925) -- Portraits]</td>\n",
       "      <td>1</td>\n",
       "      <td>M. Bruant</td>\n",
       "    </tr>\n",
       "    <tr>\n",
       "      <th>10</th>\n",
       "      <td>https://gallica.bnf.fr/ark:/12148/btv1b53168873c</td>\n",
       "      <td>Me Auguez : [photographie, tirage de démonstra...</td>\n",
       "      <td>[Auguez, Mathilde (1868-1955) -- Portraits]</td>\n",
       "      <td>1</td>\n",
       "      <td>Me Auguez</td>\n",
       "    </tr>\n",
       "    <tr>\n",
       "      <th>13</th>\n",
       "      <td>https://gallica.bnf.fr/ark:/12148/btv1b531651494</td>\n",
       "      <td>M. A. Brasseur : [photographie, tirage de démo...</td>\n",
       "      <td>[Brasseur, Albert (1862-1932) -- Portraits]</td>\n",
       "      <td>1</td>\n",
       "      <td>M. A. Brasseur</td>\n",
       "    </tr>\n",
       "    <tr>\n",
       "      <th>...</th>\n",
       "      <td>...</td>\n",
       "      <td>...</td>\n",
       "      <td>...</td>\n",
       "      <td>...</td>\n",
       "      <td>...</td>\n",
       "    </tr>\n",
       "    <tr>\n",
       "      <th>23528</th>\n",
       "      <td>https://gallica.bnf.fr/ark:/12148/btv1b531203810</td>\n",
       "      <td>M. Hignette : [photographie, tirage de démonst...</td>\n",
       "      <td>[Ombre portée]</td>\n",
       "      <td>1</td>\n",
       "      <td>M. Hignette</td>\n",
       "    </tr>\n",
       "    <tr>\n",
       "      <th>23530</th>\n",
       "      <td>https://gallica.bnf.fr/ark:/12148/btv1b53123957r</td>\n",
       "      <td>[Brémont] : [photographie, tirage de démonstra...</td>\n",
       "      <td>[Brémont, Léon (1852-1939) -- Portraits]</td>\n",
       "      <td>1</td>\n",
       "      <td>Brémont</td>\n",
       "    </tr>\n",
       "    <tr>\n",
       "      <th>23531</th>\n",
       "      <td>https://gallica.bnf.fr/ark:/12148/btv1b53124037v</td>\n",
       "      <td>[Caron] : [photographie, tirage de démonstrati...</td>\n",
       "      <td>[Caron, Cécile (1852-1923) -- Portraits]</td>\n",
       "      <td>1</td>\n",
       "      <td>Caron</td>\n",
       "    </tr>\n",
       "    <tr>\n",
       "      <th>23533</th>\n",
       "      <td>https://gallica.bnf.fr/ark:/12148/btv1b53124131j</td>\n",
       "      <td>Croizette : [photographie, tirage de démonstra...</td>\n",
       "      <td>[Croizette, Sophie (1847-1901) -- Portraits]</td>\n",
       "      <td>1</td>\n",
       "      <td>Croizette</td>\n",
       "    </tr>\n",
       "    <tr>\n",
       "      <th>23534</th>\n",
       "      <td>https://gallica.bnf.fr/ark:/12148/btv1b53124259b</td>\n",
       "      <td>[Capoul] : [photographie, tirage de démonstrat...</td>\n",
       "      <td>[Capoul, Victor (1839-1924) -- Portraits]</td>\n",
       "      <td>1</td>\n",
       "      <td>Capoul</td>\n",
       "    </tr>\n",
       "  </tbody>\n",
       "</table>\n",
       "<p>13936 rows × 5 columns</p>\n",
       "</div>"
      ],
      "text/plain": [
       "                                                     id  \\\n",
       "7      https://gallica.bnf.fr/ark:/12148/btv1b53168872x   \n",
       "8      https://gallica.bnf.fr/ark:/12148/btv1b531688701   \n",
       "9      https://gallica.bnf.fr/ark:/12148/btv1b53171770j   \n",
       "10     https://gallica.bnf.fr/ark:/12148/btv1b53168873c   \n",
       "13     https://gallica.bnf.fr/ark:/12148/btv1b531651494   \n",
       "...                                                 ...   \n",
       "23528  https://gallica.bnf.fr/ark:/12148/btv1b531203810   \n",
       "23530  https://gallica.bnf.fr/ark:/12148/btv1b53123957r   \n",
       "23531  https://gallica.bnf.fr/ark:/12148/btv1b53124037v   \n",
       "23533  https://gallica.bnf.fr/ark:/12148/btv1b53124131j   \n",
       "23534  https://gallica.bnf.fr/ark:/12148/btv1b53124259b   \n",
       "\n",
       "                                                dc:title  \\\n",
       "7      [Me Auguez] : [photographie, tirage de démonst...   \n",
       "8      [Me Auguez] : [photographie, tirage de démonst...   \n",
       "9      M. Bruant : [photographie, tirage de démonstra...   \n",
       "10     Me Auguez : [photographie, tirage de démonstra...   \n",
       "13     M. A. Brasseur : [photographie, tirage de démo...   \n",
       "...                                                  ...   \n",
       "23528  M. Hignette : [photographie, tirage de démonst...   \n",
       "23530  [Brémont] : [photographie, tirage de démonstra...   \n",
       "23531  [Caron] : [photographie, tirage de démonstrati...   \n",
       "23533  Croizette : [photographie, tirage de démonstra...   \n",
       "23534  [Capoul] : [photographie, tirage de démonstrat...   \n",
       "\n",
       "                                           subjects  number_of_subjects  \\\n",
       "7       [Auguez, Mathilde (1868-1955) -- Portraits]                   1   \n",
       "8       [Auguez, Mathilde (1868-1955) -- Portraits]                   1   \n",
       "9       [Bruant, Aristide (1851-1925) -- Portraits]                   1   \n",
       "10      [Auguez, Mathilde (1868-1955) -- Portraits]                   1   \n",
       "13      [Brasseur, Albert (1862-1932) -- Portraits]                   1   \n",
       "...                                             ...                 ...   \n",
       "23528                                [Ombre portée]                   1   \n",
       "23530      [Brémont, Léon (1852-1939) -- Portraits]                   1   \n",
       "23531      [Caron, Cécile (1852-1923) -- Portraits]                   1   \n",
       "23533  [Croizette, Sophie (1847-1901) -- Portraits]                   1   \n",
       "23534     [Capoul, Victor (1839-1924) -- Portraits]                   1   \n",
       "\n",
       "                title  \n",
       "7           Me Auguez  \n",
       "8           Me Auguez  \n",
       "9           M. Bruant  \n",
       "10          Me Auguez  \n",
       "13     M. A. Brasseur  \n",
       "...               ...  \n",
       "23528     M. Hignette  \n",
       "23530         Brémont  \n",
       "23531           Caron  \n",
       "23533       Croizette  \n",
       "23534          Capoul  \n",
       "\n",
       "[13936 rows x 5 columns]"
      ]
     },
     "execution_count": 42,
     "metadata": {},
     "output_type": "execute_result"
    }
   ],
   "source": [
    "#df2"
   ]
  },
  {
   "cell_type": "code",
   "execution_count": 43,
   "metadata": {},
   "outputs": [],
   "source": [
    "def name_filter(x):\n",
    "    return [s.split('--')[0].strip() for s in x]"
   ]
  },
  {
   "cell_type": "code",
   "execution_count": 44,
   "metadata": {},
   "outputs": [],
   "source": [
    "_prenames = df2.subjects.apply(name_filter)    "
   ]
  },
  {
   "cell_type": "code",
   "execution_count": 45,
   "metadata": {},
   "outputs": [
    {
     "data": {
      "text/plain": [
       "7         [Auguez, Mathilde (1868-1955)]\n",
       "8         [Auguez, Mathilde (1868-1955)]\n",
       "9         [Bruant, Aristide (1851-1925)]\n",
       "10        [Auguez, Mathilde (1868-1955)]\n",
       "13        [Brasseur, Albert (1862-1932)]\n",
       "                      ...               \n",
       "23528                     [Ombre portée]\n",
       "23530        [Brémont, Léon (1852-1939)]\n",
       "23531        [Caron, Cécile (1852-1923)]\n",
       "23533    [Croizette, Sophie (1847-1901)]\n",
       "23534       [Capoul, Victor (1839-1924)]\n",
       "Name: subjects, Length: 13936, dtype: object"
      ]
     },
     "execution_count": 45,
     "metadata": {},
     "output_type": "execute_result"
    }
   ],
   "source": [
    "#_prenames"
   ]
  },
  {
   "cell_type": "code",
   "execution_count": null,
   "metadata": {},
   "outputs": [],
   "source": []
  },
  {
   "cell_type": "code",
   "execution_count": 46,
   "metadata": {},
   "outputs": [],
   "source": [
    "def is_name(x):\n",
    "    names = []\n",
    "    for s in x:\n",
    "        if '(' not in s and ',' not in s:\n",
    "            pass\n",
    "        else:\n",
    "            names.append(s.split('--')[0].strip())\n",
    "    return names\n",
    "\n",
    "def not_name(x):\n",
    "    words = []\n",
    "    for s in x:\n",
    "        if '(' not in s and ',' not in s:\n",
    "            words.append(s)\n",
    "        else:\n",
    "            pass\n",
    "    return words"
   ]
  },
  {
   "cell_type": "code",
   "execution_count": 47,
   "metadata": {},
   "outputs": [],
   "source": [
    "not_names = _prenames.apply(not_name).tolist()\n",
    "is_names = _prenames.apply(is_name).tolist()"
   ]
  },
  {
   "cell_type": "code",
   "execution_count": 48,
   "metadata": {},
   "outputs": [],
   "source": [
    "is_names = list(set(chain.from_iterable(is_names)))\n",
    "not_names = list(set(chain.from_iterable(not_names)))"
   ]
  },
  {
   "cell_type": "code",
   "execution_count": 51,
   "metadata": {},
   "outputs": [],
   "source": [
    "names = []\n",
    "for n in is_names:\n",
    "    name_ = n.split('(')[0].strip().lower().split(',')\n",
    "    names.append(name_)\n",
    "        \n",
    "names = list(set(chain.from_iterable(names)))\n",
    "names = list(set(list(map(lambda x:x.strip(),names))))"
   ]
  },
  {
   "cell_type": "code",
   "execution_count": 52,
   "metadata": {},
   "outputs": [],
   "source": [
    "mask_tags = list(map((lambda x: ',' not in x), not_names))\n",
    "subject_tags = list(compress(not_names, mask_tags))"
   ]
  },
  {
   "cell_type": "code",
   "execution_count": 53,
   "metadata": {},
   "outputs": [],
   "source": [
    "#subject_tags"
   ]
  },
  {
   "cell_type": "code",
   "execution_count": 54,
   "metadata": {},
   "outputs": [],
   "source": [
    "mask_names = list(map((lambda x: ',' in x), subject_tags))\n",
    "\n",
    "subject_names = list(compress(subject_tags, mask_names))\n",
    "#subject_names"
   ]
  },
  {
   "cell_type": "code",
   "execution_count": 55,
   "metadata": {},
   "outputs": [],
   "source": [
    "def exclude_title_name(x):\n",
    "    temp = []\n",
    "    for t in x:\n",
    "        t = re.sub('[\\[\\] (\".,\")]', '', t)\n",
    "\n",
    "        if t.lower() in names:\n",
    "            pass\n",
    "        else:\n",
    "            temp.append(t.lower())\n",
    "    return temp"
   ]
  },
  {
   "cell_type": "code",
   "execution_count": 56,
   "metadata": {},
   "outputs": [],
   "source": [
    "df2['title_broken'] = df2.title.apply(lambda x: re.findall('[\\S]+',x))"
   ]
  },
  {
   "cell_type": "code",
   "execution_count": 57,
   "metadata": {},
   "outputs": [
    {
     "data": {
      "text/plain": [
       "7              [Me, Auguez]\n",
       "8              [Me, Auguez]\n",
       "9              [M., Bruant]\n",
       "10             [Me, Auguez]\n",
       "13       [M., A., Brasseur]\n",
       "                ...        \n",
       "23528        [M., Hignette]\n",
       "23530             [Brémont]\n",
       "23531               [Caron]\n",
       "23533           [Croizette]\n",
       "23534              [Capoul]\n",
       "Name: title_broken, Length: 13936, dtype: object"
      ]
     },
     "execution_count": 57,
     "metadata": {},
     "output_type": "execute_result"
    }
   ],
   "source": [
    "df2.title_broken"
   ]
  },
  {
   "cell_type": "code",
   "execution_count": 58,
   "metadata": {},
   "outputs": [],
   "source": [
    "tag_df = pd.DataFrame(df2.id)\n",
    "tag_df['title'] = df2['title_broken'].apply(exclude_title_name)\n",
    "tag_df['subject'] = df2.subjects.apply(name_filter).apply(not_name)"
   ]
  },
  {
   "cell_type": "code",
   "execution_count": 59,
   "metadata": {},
   "outputs": [
    {
     "data": {
      "text/html": [
       "<div>\n",
       "<style scoped>\n",
       "    .dataframe tbody tr th:only-of-type {\n",
       "        vertical-align: middle;\n",
       "    }\n",
       "\n",
       "    .dataframe tbody tr th {\n",
       "        vertical-align: top;\n",
       "    }\n",
       "\n",
       "    .dataframe thead th {\n",
       "        text-align: right;\n",
       "    }\n",
       "</style>\n",
       "<table border=\"1\" class=\"dataframe\">\n",
       "  <thead>\n",
       "    <tr style=\"text-align: right;\">\n",
       "      <th></th>\n",
       "      <th>id</th>\n",
       "      <th>title</th>\n",
       "      <th>subject</th>\n",
       "    </tr>\n",
       "  </thead>\n",
       "  <tbody>\n",
       "    <tr>\n",
       "      <th>7</th>\n",
       "      <td>https://gallica.bnf.fr/ark:/12148/btv1b53168872x</td>\n",
       "      <td>[me]</td>\n",
       "      <td>[]</td>\n",
       "    </tr>\n",
       "    <tr>\n",
       "      <th>8</th>\n",
       "      <td>https://gallica.bnf.fr/ark:/12148/btv1b531688701</td>\n",
       "      <td>[me]</td>\n",
       "      <td>[]</td>\n",
       "    </tr>\n",
       "    <tr>\n",
       "      <th>9</th>\n",
       "      <td>https://gallica.bnf.fr/ark:/12148/btv1b53171770j</td>\n",
       "      <td>[m]</td>\n",
       "      <td>[]</td>\n",
       "    </tr>\n",
       "    <tr>\n",
       "      <th>10</th>\n",
       "      <td>https://gallica.bnf.fr/ark:/12148/btv1b53168873c</td>\n",
       "      <td>[me]</td>\n",
       "      <td>[]</td>\n",
       "    </tr>\n",
       "    <tr>\n",
       "      <th>13</th>\n",
       "      <td>https://gallica.bnf.fr/ark:/12148/btv1b531651494</td>\n",
       "      <td>[m]</td>\n",
       "      <td>[]</td>\n",
       "    </tr>\n",
       "    <tr>\n",
       "      <th>...</th>\n",
       "      <td>...</td>\n",
       "      <td>...</td>\n",
       "      <td>...</td>\n",
       "    </tr>\n",
       "    <tr>\n",
       "      <th>23528</th>\n",
       "      <td>https://gallica.bnf.fr/ark:/12148/btv1b531203810</td>\n",
       "      <td>[m, hignette]</td>\n",
       "      <td>[Ombre portée]</td>\n",
       "    </tr>\n",
       "    <tr>\n",
       "      <th>23530</th>\n",
       "      <td>https://gallica.bnf.fr/ark:/12148/btv1b53123957r</td>\n",
       "      <td>[]</td>\n",
       "      <td>[]</td>\n",
       "    </tr>\n",
       "    <tr>\n",
       "      <th>23531</th>\n",
       "      <td>https://gallica.bnf.fr/ark:/12148/btv1b53124037v</td>\n",
       "      <td>[]</td>\n",
       "      <td>[]</td>\n",
       "    </tr>\n",
       "    <tr>\n",
       "      <th>23533</th>\n",
       "      <td>https://gallica.bnf.fr/ark:/12148/btv1b53124131j</td>\n",
       "      <td>[]</td>\n",
       "      <td>[]</td>\n",
       "    </tr>\n",
       "    <tr>\n",
       "      <th>23534</th>\n",
       "      <td>https://gallica.bnf.fr/ark:/12148/btv1b53124259b</td>\n",
       "      <td>[]</td>\n",
       "      <td>[]</td>\n",
       "    </tr>\n",
       "  </tbody>\n",
       "</table>\n",
       "<p>13936 rows × 3 columns</p>\n",
       "</div>"
      ],
      "text/plain": [
       "                                                     id          title  \\\n",
       "7      https://gallica.bnf.fr/ark:/12148/btv1b53168872x           [me]   \n",
       "8      https://gallica.bnf.fr/ark:/12148/btv1b531688701           [me]   \n",
       "9      https://gallica.bnf.fr/ark:/12148/btv1b53171770j            [m]   \n",
       "10     https://gallica.bnf.fr/ark:/12148/btv1b53168873c           [me]   \n",
       "13     https://gallica.bnf.fr/ark:/12148/btv1b531651494            [m]   \n",
       "...                                                 ...            ...   \n",
       "23528  https://gallica.bnf.fr/ark:/12148/btv1b531203810  [m, hignette]   \n",
       "23530  https://gallica.bnf.fr/ark:/12148/btv1b53123957r             []   \n",
       "23531  https://gallica.bnf.fr/ark:/12148/btv1b53124037v             []   \n",
       "23533  https://gallica.bnf.fr/ark:/12148/btv1b53124131j             []   \n",
       "23534  https://gallica.bnf.fr/ark:/12148/btv1b53124259b             []   \n",
       "\n",
       "              subject  \n",
       "7                  []  \n",
       "8                  []  \n",
       "9                  []  \n",
       "10                 []  \n",
       "13                 []  \n",
       "...               ...  \n",
       "23528  [Ombre portée]  \n",
       "23530              []  \n",
       "23531              []  \n",
       "23533              []  \n",
       "23534              []  \n",
       "\n",
       "[13936 rows x 3 columns]"
      ]
     },
     "execution_count": 59,
     "metadata": {},
     "output_type": "execute_result"
    }
   ],
   "source": [
    "tag_df"
   ]
  },
  {
   "cell_type": "code",
   "execution_count": 60,
   "metadata": {},
   "outputs": [],
   "source": [
    "def filter_tags(x):\n",
    "    tag_4 = ['cure', 'chef', 'lord', 'abbé']\n",
    "    \n",
    "    if type(x) != str:\n",
    "        return False\n",
    "    \n",
    "    if x.find(',') != -1:\n",
    "        return False\n",
    "    \n",
    "    if len(x) < 3:\n",
    "        return False\n",
    "    \n",
    "    elif len(x) == 3:\n",
    "        if x == 'roi':\n",
    "            return True\n",
    "        else:\n",
    "            return False\n",
    "    elif len(x) == 4:\n",
    "        if x in tag_4:\n",
    "            return True\n",
    "        else:\n",
    "            return False        \n",
    "    else:\n",
    "        return True"
   ]
  },
  {
   "cell_type": "code",
   "execution_count": null,
   "metadata": {},
   "outputs": [],
   "source": []
  },
  {
   "cell_type": "code",
   "execution_count": null,
   "metadata": {},
   "outputs": [],
   "source": []
  },
  {
   "cell_type": "code",
   "execution_count": 61,
   "metadata": {},
   "outputs": [],
   "source": [
    "tags_title_ = tag_df.title.apply(pd.Series).merge(tag_df, right_index=True, left_index=True) \\\n",
    "        .drop(['title','subject'],axis=1).melt(id_vars=['id'], value_name='tags').drop('variable', axis=1)"
   ]
  },
  {
   "cell_type": "code",
   "execution_count": 62,
   "metadata": {},
   "outputs": [],
   "source": [
    "tags_title_ = tags_title_[tags_title_.tags.apply(filter_tags)]"
   ]
  },
  {
   "cell_type": "code",
   "execution_count": 63,
   "metadata": {},
   "outputs": [
    {
     "data": {
      "text/html": [
       "<div>\n",
       "<style scoped>\n",
       "    .dataframe tbody tr th:only-of-type {\n",
       "        vertical-align: middle;\n",
       "    }\n",
       "\n",
       "    .dataframe tbody tr th {\n",
       "        vertical-align: top;\n",
       "    }\n",
       "\n",
       "    .dataframe thead th {\n",
       "        text-align: right;\n",
       "    }\n",
       "</style>\n",
       "<table border=\"1\" class=\"dataframe\">\n",
       "  <thead>\n",
       "    <tr style=\"text-align: right;\">\n",
       "      <th></th>\n",
       "      <th>id</th>\n",
       "      <th>tags</th>\n",
       "    </tr>\n",
       "  </thead>\n",
       "  <tbody>\n",
       "    <tr>\n",
       "      <th>10</th>\n",
       "      <td>https://gallica.bnf.fr/ark:/12148/btv1b53162160w</td>\n",
       "      <td>d'arc</td>\n",
       "    </tr>\n",
       "    <tr>\n",
       "      <th>19</th>\n",
       "      <td>https://gallica.bnf.fr/ark:/12148/btv1b53162161b</td>\n",
       "      <td>d'arc</td>\n",
       "    </tr>\n",
       "    <tr>\n",
       "      <th>26</th>\n",
       "      <td>https://gallica.bnf.fr/ark:/12148/btv1b530922119</td>\n",
       "      <td>schah</td>\n",
       "    </tr>\n",
       "    <tr>\n",
       "      <th>33</th>\n",
       "      <td>https://gallica.bnf.fr/ark:/12148/btv1b530653663</td>\n",
       "      <td>député</td>\n",
       "    </tr>\n",
       "    <tr>\n",
       "      <th>34</th>\n",
       "      <td>https://gallica.bnf.fr/ark:/12148/btv1b530923448</td>\n",
       "      <td>schah</td>\n",
       "    </tr>\n",
       "    <tr>\n",
       "      <th>...</th>\n",
       "      <td>...</td>\n",
       "      <td>...</td>\n",
       "    </tr>\n",
       "    <tr>\n",
       "      <th>206335</th>\n",
       "      <td>https://gallica.bnf.fr/ark:/12148/btv1b531595399</td>\n",
       "      <td>majesté</td>\n",
       "    </tr>\n",
       "    <tr>\n",
       "      <th>207456</th>\n",
       "      <td>https://gallica.bnf.fr/ark:/12148/btv1b530921667</td>\n",
       "      <td>forme</td>\n",
       "    </tr>\n",
       "    <tr>\n",
       "      <th>220271</th>\n",
       "      <td>https://gallica.bnf.fr/ark:/12148/btv1b531595399</td>\n",
       "      <td>suite</td>\n",
       "    </tr>\n",
       "    <tr>\n",
       "      <th>262079</th>\n",
       "      <td>https://gallica.bnf.fr/ark:/12148/btv1b531595399</td>\n",
       "      <td>naser</td>\n",
       "    </tr>\n",
       "    <tr>\n",
       "      <th>276015</th>\n",
       "      <td>https://gallica.bnf.fr/ark:/12148/btv1b531595399</td>\n",
       "      <td>al-din</td>\n",
       "    </tr>\n",
       "  </tbody>\n",
       "</table>\n",
       "<p>19652 rows × 2 columns</p>\n",
       "</div>"
      ],
      "text/plain": [
       "                                                      id     tags\n",
       "10      https://gallica.bnf.fr/ark:/12148/btv1b53162160w    d'arc\n",
       "19      https://gallica.bnf.fr/ark:/12148/btv1b53162161b    d'arc\n",
       "26      https://gallica.bnf.fr/ark:/12148/btv1b530922119    schah\n",
       "33      https://gallica.bnf.fr/ark:/12148/btv1b530653663   député\n",
       "34      https://gallica.bnf.fr/ark:/12148/btv1b530923448    schah\n",
       "...                                                  ...      ...\n",
       "206335  https://gallica.bnf.fr/ark:/12148/btv1b531595399  majesté\n",
       "207456  https://gallica.bnf.fr/ark:/12148/btv1b530921667    forme\n",
       "220271  https://gallica.bnf.fr/ark:/12148/btv1b531595399    suite\n",
       "262079  https://gallica.bnf.fr/ark:/12148/btv1b531595399    naser\n",
       "276015  https://gallica.bnf.fr/ark:/12148/btv1b531595399   al-din\n",
       "\n",
       "[19652 rows x 2 columns]"
      ]
     },
     "execution_count": 63,
     "metadata": {},
     "output_type": "execute_result"
    }
   ],
   "source": [
    "tags_title_"
   ]
  },
  {
   "cell_type": "code",
   "execution_count": 64,
   "metadata": {},
   "outputs": [],
   "source": [
    "def get_taglist(df, n=10):\n",
    "    \n",
    "    return df[df['tags'].map(df['tags'].value_counts()) > n]"
   ]
  },
  {
   "cell_type": "code",
   "execution_count": 65,
   "metadata": {},
   "outputs": [],
   "source": [
    "taglist_title = list(get_taglist(tags_title_).tags.unique())"
   ]
  },
  {
   "cell_type": "code",
   "execution_count": 66,
   "metadata": {},
   "outputs": [],
   "source": [
    "#taglist_title"
   ]
  },
  {
   "cell_type": "code",
   "execution_count": 67,
   "metadata": {},
   "outputs": [],
   "source": [
    "tags_subject_ = tag_df.subject.apply(pd.Series).merge(tag_df, right_index=True, left_index=True) \\\n",
    "        .drop(['title','subject'],axis=1).melt(id_vars=['id'], value_name='tags').drop('variable', axis=1)\n",
    "\n"
   ]
  },
  {
   "cell_type": "code",
   "execution_count": 68,
   "metadata": {},
   "outputs": [],
   "source": [
    "tags_subject_ = tags_subject_[tags_subject_.tags.apply(filter_tags)]"
   ]
  },
  {
   "cell_type": "code",
   "execution_count": 69,
   "metadata": {},
   "outputs": [],
   "source": [
    "taglist_subject = list(get_taglist(tags_subject_, n=1).tags.unique())\n",
    "#taglist_subject"
   ]
  },
  {
   "cell_type": "code",
   "execution_count": 70,
   "metadata": {},
   "outputs": [],
   "source": [
    "#some manual work\n",
    "\n",
    "taglist_title_final = ['député', 'ambassade', 'ministre', 'bordas',\n",
    "       'compositeur', 'général', 'chinois', 'journaliste',\n",
    "       'opéra', 'sculpteur', 'vaudeviliste', 'peintre',\n",
    "       'colonel', 'auteur', 'historien', 'comédien', 'amiral',\n",
    "       'baretta', 'prince', 'chimiste', 'avocat',\n",
    "       'piccolo', 'comédie', 'romancier', 'abbé', \n",
    "       'écrivain', 'capitaine', 'navigation', 'vaudeville', \n",
    "       'châtelet', 'explorateur', 'aéronaute',\n",
    "       'critique', 'cantatrice', 'princesse', 'poète', 'violoniste',\n",
    "       'docteur',  'journal', 'marquis',\n",
    "       'dessinateur', 'musicien', 'chanteur',\n",
    "       'publiciste', 'chef', 'couturier', 'lanthelme', 'famille',\n",
    "       'opéra-comique', 'écuyère', 'actrice',\n",
    "       'napoléon', 'directeur', 'ecrivain', 'suite', 'anglaise',\n",
    "       'palais-royal', 'folies', 'cirque', 'ecuyère',\n",
    "        'théâtre-français', 'gymnase', 'frère',\n",
    "      'roi', 'folies-dramatiques',\n",
    "       'mousquetaires', 'bouffes-parisiens', 'professeur', 'groupe',\n",
    "       'littérateur', 'président', 'maison',\n",
    "       \n",
    "       'lyrique', 'cluny', 'reichemberg', 'folies-dramatiques', 'frères',\n",
    "       \n",
    "       'chevallier', 'danseuse',  \n",
    "       'décorateur', 'ambassadeur', \n",
    "       'politique', 'saint', 'république',\n",
    "        'droit',\n",
    "        'marquise', \n",
    "       'sénateur',\n",
    "       'artiste', 'cloches',\n",
    "       'majesté', 'japonaise', 'dramatique',\n",
    "       'comique', 'française', 'aérienne', 'conservatoire', 'bourgeois',\n",
    "       'italien', 'royal', \"l'institut\", \n",
    "       \"d'orchestre\", 'comédie-française', \n",
    "       'revue', 'bergère', \"d'hiver\", 'potter', 'dramatiques', \n",
    "       'suédoise', \"l'académie\", 'opéra-comique',\n",
    "       'orphée',\n",
    "       \n",
    "       'folies-dramatiques',\n",
    "       'vaudevill', 'odéon', 'phèdre', 'assassin', 'décoré',\n",
    "       'saint-martin', 'trouvère', 'vénus', \"l'arlésienne\",\n",
    "       'assommoir', \n",
    "       'cantinière', \"s'amuse\", 'amour', 'opéra', 'serment', 'rouge',\n",
    "       \n",
    "       'mascotte', 'gymnase',\n",
    "       'châtelet', \n",
    "       \n",
    "       'africaine',\n",
    "        'juanita', 'perse', 'musique',\n",
    "       'nouveau', 'lettres', 'russe', 'breuil', 'lantelme', 'hanovre',\n",
    "       'pyrénées', 'parisienne', 'ventre',\n",
    "\n",
    "       'chevalier', 'séville', 'américaine',  \"l'impératrice\",\n",
    "       'commune', 'cigale', 'saturnales', 'cendrillonnette', 'tzigane',\n",
    "       \n",
    "       'camarade', 'marchande', 'bicyclistes',\n",
    "       'sans-gêne', 'cousin-cousine', \"d'avignon\", 'pilules', 'fétiche',\n",
    "       'cliquette', \n",
    "       'patard', 'patart', 'joyeusetés', 'fantaisies-parisiennes',\n",
    "       'dramatiques', 'carreau',  'suzette', 'enfers', 'école',\n",
    "       \n",
    "       \n",
    "        'trèfle', \n",
    "\n",
    "        'tambour-major', 'couronne',\n",
    "        'diable',\n",
    "       'pyrennées', 'christ', 'hussard', 'galles', \"l'année\", 'chèvres',\n",
    "       'seigneur', 'clairette']"
   ]
  },
  {
   "cell_type": "code",
   "execution_count": null,
   "metadata": {},
   "outputs": [],
   "source": []
  },
  {
   "cell_type": "code",
   "execution_count": null,
   "metadata": {},
   "outputs": [],
   "source": []
  },
  {
   "cell_type": "code",
   "execution_count": 71,
   "metadata": {},
   "outputs": [],
   "source": [
    "tag_df['tags_title'] = tag_df.title.apply(lambda x: list(set(x).intersection(set(taglist_title_final)))) \n",
    "tag_df['tags_subject'] = tag_df.subject.apply(lambda x: list(set(x).intersection(set(taglist_subject)))) "
   ]
  },
  {
   "cell_type": "code",
   "execution_count": 72,
   "metadata": {},
   "outputs": [],
   "source": [
    "tag_df['tags'] = tag_df.tags_title + tag_df.tags_subject"
   ]
  },
  {
   "cell_type": "code",
   "execution_count": 73,
   "metadata": {},
   "outputs": [],
   "source": [
    "tag_df['len'] = tag_df.tags.apply(lambda x: len(x))"
   ]
  },
  {
   "cell_type": "code",
   "execution_count": 74,
   "metadata": {},
   "outputs": [
    {
     "data": {
      "text/html": [
       "<div>\n",
       "<style scoped>\n",
       "    .dataframe tbody tr th:only-of-type {\n",
       "        vertical-align: middle;\n",
       "    }\n",
       "\n",
       "    .dataframe tbody tr th {\n",
       "        vertical-align: top;\n",
       "    }\n",
       "\n",
       "    .dataframe thead th {\n",
       "        text-align: right;\n",
       "    }\n",
       "</style>\n",
       "<table border=\"1\" class=\"dataframe\">\n",
       "  <thead>\n",
       "    <tr style=\"text-align: right;\">\n",
       "      <th></th>\n",
       "      <th>id</th>\n",
       "      <th>title</th>\n",
       "      <th>subject</th>\n",
       "      <th>tags_title</th>\n",
       "      <th>tags_subject</th>\n",
       "      <th>tags</th>\n",
       "      <th>len</th>\n",
       "    </tr>\n",
       "  </thead>\n",
       "  <tbody>\n",
       "    <tr>\n",
       "      <th>14</th>\n",
       "      <td>https://gallica.bnf.fr/ark:/12148/btv1b53168871g</td>\n",
       "      <td>[me, opéra-comique]</td>\n",
       "      <td>[]</td>\n",
       "      <td>[opéra-comique]</td>\n",
       "      <td>[]</td>\n",
       "      <td>[opéra-comique]</td>\n",
       "      <td>1</td>\n",
       "    </tr>\n",
       "    <tr>\n",
       "      <th>38</th>\n",
       "      <td>https://gallica.bnf.fr/ark:/12148/btv1b53171027z</td>\n",
       "      <td>[me, variétés, les, variétés, de, l'année]</td>\n",
       "      <td>[]</td>\n",
       "      <td>[l'année]</td>\n",
       "      <td>[]</td>\n",
       "      <td>[l'année]</td>\n",
       "      <td>1</td>\n",
       "    </tr>\n",
       "    <tr>\n",
       "      <th>39</th>\n",
       "      <td>https://gallica.bnf.fr/ark:/12148/btv1b53171028d</td>\n",
       "      <td>[me, variétés, les, variétés, de, l'année]</td>\n",
       "      <td>[]</td>\n",
       "      <td>[l'année]</td>\n",
       "      <td>[]</td>\n",
       "      <td>[l'année]</td>\n",
       "      <td>1</td>\n",
       "    </tr>\n",
       "    <tr>\n",
       "      <th>45</th>\n",
       "      <td>https://gallica.bnf.fr/ark:/12148/btv1b53165012c</td>\n",
       "      <td>[me, folies-dramatiques, juanita]</td>\n",
       "      <td>[]</td>\n",
       "      <td>[folies-dramatiques, juanita]</td>\n",
       "      <td>[]</td>\n",
       "      <td>[folies-dramatiques, juanita]</td>\n",
       "      <td>2</td>\n",
       "    </tr>\n",
       "    <tr>\n",
       "      <th>50</th>\n",
       "      <td>https://gallica.bnf.fr/ark:/12148/btv1b53165010g</td>\n",
       "      <td>[m, folies-dramatiques, juanita]</td>\n",
       "      <td>[]</td>\n",
       "      <td>[folies-dramatiques, juanita]</td>\n",
       "      <td>[]</td>\n",
       "      <td>[folies-dramatiques, juanita]</td>\n",
       "      <td>2</td>\n",
       "    </tr>\n",
       "    <tr>\n",
       "      <th>...</th>\n",
       "      <td>...</td>\n",
       "      <td>...</td>\n",
       "      <td>...</td>\n",
       "      <td>...</td>\n",
       "      <td>...</td>\n",
       "      <td>...</td>\n",
       "      <td>...</td>\n",
       "    </tr>\n",
       "    <tr>\n",
       "      <th>23516</th>\n",
       "      <td>https://gallica.bnf.fr/ark:/12148/btv1b530506270</td>\n",
       "      <td>[de, journaliste]</td>\n",
       "      <td>[]</td>\n",
       "      <td>[journaliste]</td>\n",
       "      <td>[]</td>\n",
       "      <td>[journaliste]</td>\n",
       "      <td>1</td>\n",
       "    </tr>\n",
       "    <tr>\n",
       "      <th>23517</th>\n",
       "      <td>https://gallica.bnf.fr/ark:/12148/btv1b53065782n</td>\n",
       "      <td>[homme, de, lettres]</td>\n",
       "      <td>[]</td>\n",
       "      <td>[lettres]</td>\n",
       "      <td>[]</td>\n",
       "      <td>[lettres]</td>\n",
       "      <td>1</td>\n",
       "    </tr>\n",
       "    <tr>\n",
       "      <th>23519</th>\n",
       "      <td>https://gallica.bnf.fr/ark:/12148/btv1b53066278c</td>\n",
       "      <td>[directeur, des, bouffes]</td>\n",
       "      <td>[]</td>\n",
       "      <td>[directeur]</td>\n",
       "      <td>[]</td>\n",
       "      <td>[directeur]</td>\n",
       "      <td>1</td>\n",
       "    </tr>\n",
       "    <tr>\n",
       "      <th>23523</th>\n",
       "      <td>https://gallica.bnf.fr/ark:/12148/btv1b53118792t</td>\n",
       "      <td>[docteur]</td>\n",
       "      <td>[]</td>\n",
       "      <td>[docteur]</td>\n",
       "      <td>[]</td>\n",
       "      <td>[docteur]</td>\n",
       "      <td>1</td>\n",
       "    </tr>\n",
       "    <tr>\n",
       "      <th>23528</th>\n",
       "      <td>https://gallica.bnf.fr/ark:/12148/btv1b531203810</td>\n",
       "      <td>[m, hignette]</td>\n",
       "      <td>[Ombre portée]</td>\n",
       "      <td>[]</td>\n",
       "      <td>[Ombre portée]</td>\n",
       "      <td>[Ombre portée]</td>\n",
       "      <td>1</td>\n",
       "    </tr>\n",
       "  </tbody>\n",
       "</table>\n",
       "<p>6904 rows × 7 columns</p>\n",
       "</div>"
      ],
      "text/plain": [
       "                                                     id  \\\n",
       "14     https://gallica.bnf.fr/ark:/12148/btv1b53168871g   \n",
       "38     https://gallica.bnf.fr/ark:/12148/btv1b53171027z   \n",
       "39     https://gallica.bnf.fr/ark:/12148/btv1b53171028d   \n",
       "45     https://gallica.bnf.fr/ark:/12148/btv1b53165012c   \n",
       "50     https://gallica.bnf.fr/ark:/12148/btv1b53165010g   \n",
       "...                                                 ...   \n",
       "23516  https://gallica.bnf.fr/ark:/12148/btv1b530506270   \n",
       "23517  https://gallica.bnf.fr/ark:/12148/btv1b53065782n   \n",
       "23519  https://gallica.bnf.fr/ark:/12148/btv1b53066278c   \n",
       "23523  https://gallica.bnf.fr/ark:/12148/btv1b53118792t   \n",
       "23528  https://gallica.bnf.fr/ark:/12148/btv1b531203810   \n",
       "\n",
       "                                            title         subject  \\\n",
       "14                            [me, opéra-comique]              []   \n",
       "38     [me, variétés, les, variétés, de, l'année]              []   \n",
       "39     [me, variétés, les, variétés, de, l'année]              []   \n",
       "45              [me, folies-dramatiques, juanita]              []   \n",
       "50               [m, folies-dramatiques, juanita]              []   \n",
       "...                                           ...             ...   \n",
       "23516                           [de, journaliste]              []   \n",
       "23517                        [homme, de, lettres]              []   \n",
       "23519                   [directeur, des, bouffes]              []   \n",
       "23523                                   [docteur]              []   \n",
       "23528                               [m, hignette]  [Ombre portée]   \n",
       "\n",
       "                          tags_title    tags_subject  \\\n",
       "14                   [opéra-comique]              []   \n",
       "38                         [l'année]              []   \n",
       "39                         [l'année]              []   \n",
       "45     [folies-dramatiques, juanita]              []   \n",
       "50     [folies-dramatiques, juanita]              []   \n",
       "...                              ...             ...   \n",
       "23516                  [journaliste]              []   \n",
       "23517                      [lettres]              []   \n",
       "23519                    [directeur]              []   \n",
       "23523                      [docteur]              []   \n",
       "23528                             []  [Ombre portée]   \n",
       "\n",
       "                                tags  len  \n",
       "14                   [opéra-comique]    1  \n",
       "38                         [l'année]    1  \n",
       "39                         [l'année]    1  \n",
       "45     [folies-dramatiques, juanita]    2  \n",
       "50     [folies-dramatiques, juanita]    2  \n",
       "...                              ...  ...  \n",
       "23516                  [journaliste]    1  \n",
       "23517                      [lettres]    1  \n",
       "23519                    [directeur]    1  \n",
       "23523                      [docteur]    1  \n",
       "23528                 [Ombre portée]    1  \n",
       "\n",
       "[6904 rows x 7 columns]"
      ]
     },
     "execution_count": 74,
     "metadata": {},
     "output_type": "execute_result"
    }
   ],
   "source": [
    "tag_df[tag_df.len >0]"
   ]
  },
  {
   "cell_type": "code",
   "execution_count": null,
   "metadata": {},
   "outputs": [],
   "source": []
  },
  {
   "cell_type": "code",
   "execution_count": 729,
   "metadata": {},
   "outputs": [],
   "source": [
    "tag_id_df = pd.DataFrame(tag_df[['id','tags']], columns=['id','tags'])"
   ]
  },
  {
   "cell_type": "code",
   "execution_count": 734,
   "metadata": {},
   "outputs": [],
   "source": [
    "tag_id_df.to_pickle('data/tag-id.pkl')"
   ]
  },
  {
   "cell_type": "code",
   "execution_count": null,
   "metadata": {},
   "outputs": [],
   "source": []
  },
  {
   "cell_type": "markdown",
   "metadata": {},
   "source": [
    "# Fetch wikipedia article"
   ]
  },
  {
   "cell_type": "code",
   "execution_count": 77,
   "metadata": {},
   "outputs": [],
   "source": [
    "wiki_df = pd.DataFrame(df2[['id','subjects']])"
   ]
  },
  {
   "cell_type": "code",
   "execution_count": 78,
   "metadata": {},
   "outputs": [],
   "source": [
    "wiki_df['names'] = wiki_df.subjects.apply(is_name)"
   ]
  },
  {
   "cell_type": "code",
   "execution_count": 79,
   "metadata": {},
   "outputs": [
    {
     "data": {
      "text/plain": [
       "69       [Georges, Édouard (1829-1903), Armand, Victori...\n",
       "119      [Chevreul, Eugène (1786-1889), Chevreul, Henri...\n",
       "120      [Chevreul, Eugène (1786-1889), Chevreul, Henri...\n",
       "121      [Chevreul, Eugène (1786-1889), Nadar (1820-191...\n",
       "135      [Chevreul, Eugène (1786-1889), Chevreul, Henri...\n",
       "                               ...                        \n",
       "23392    [Hadamar, Zélie (1849-1902 ; actrice), Lambert...\n",
       "23445    [Hamburger, Edouard (18..-1886), Baron, Vincen...\n",
       "23450    [Lavallière, Ève (1866-1929), Dupuis, Joseph (...\n",
       "23468    [Mary-Albert, Madame (1855-....), Duhamel, Bia...\n",
       "23469    [Mary-Albert, Madame (1855-....), Duhamel, Bia...\n",
       "Name: names, Length: 65, dtype: object"
      ]
     },
     "execution_count": 79,
     "metadata": {},
     "output_type": "execute_result"
    }
   ],
   "source": [
    "wiki_df['names'][wiki_df.names.apply(lambda x:len(x)>2)]"
   ]
  },
  {
   "cell_type": "code",
   "execution_count": 80,
   "metadata": {},
   "outputs": [
    {
     "data": {
      "text/plain": [
       "['Auguez,', 'Mathilde', '(1868-1955)']"
      ]
     },
     "execution_count": 80,
     "metadata": {},
     "output_type": "execute_result"
    }
   ],
   "source": [
    "re.findall('[\\S]+','Auguez, Mathilde (1868-1955)')"
   ]
  },
  {
   "cell_type": "code",
   "execution_count": 82,
   "metadata": {},
   "outputs": [],
   "source": [
    "wiki_explode = wiki_df.explode('names')"
   ]
  },
  {
   "cell_type": "code",
   "execution_count": null,
   "metadata": {},
   "outputs": [],
   "source": []
  },
  {
   "cell_type": "code",
   "execution_count": null,
   "metadata": {},
   "outputs": [],
   "source": []
  },
  {
   "cell_type": "code",
   "execution_count": 198,
   "metadata": {},
   "outputs": [],
   "source": []
  },
  {
   "cell_type": "code",
   "execution_count": null,
   "metadata": {},
   "outputs": [],
   "source": []
  },
  {
   "cell_type": "code",
   "execution_count": null,
   "metadata": {},
   "outputs": [],
   "source": []
  },
  {
   "cell_type": "code",
   "execution_count": 85,
   "metadata": {},
   "outputs": [],
   "source": []
  },
  {
   "cell_type": "code",
   "execution_count": 86,
   "metadata": {},
   "outputs": [],
   "source": [
    "def hacked_summary(x):\n",
    "    try:\n",
    "        x = re.sub('[,(\\-)]', ' ', x)\n",
    "        keywords = re.findall('[\\S]+', x.lower())\n",
    "\n",
    "        s = wikipedia.summary(x, sentences=2)\n",
    "        mask = list(map(lambda x: s.lower().find(x) != -1 ,keywords))\n",
    "        se = list(compress(keywords, mask))\n",
    "        \n",
    "        #se = set(keywords).intersection(set(s.lower().split()))\n",
    "        return (s, list(se))\n",
    "    except:\n",
    "        return ''"
   ]
  },
  {
   "cell_type": "code",
   "execution_count": 87,
   "metadata": {},
   "outputs": [],
   "source": [
    "wiki_reset = False\n",
    "\n",
    "if wiki_reset:\n",
    "    wikipedia.set_lang('en')\n",
    "    wiki = pd.DataFrame(wiki_names, columns=['name'])\n",
    "\n",
    "    wiki['result'] = wiki.name.apply(hacked_summary)\n",
    "\n",
    "    wiki[['summary','keyword']] = pd.DataFrame(wiki.result.values.tolist(), index= wiki.index)\n",
    "    \n",
    "    wikipedia.set_lang('fr')\n",
    "    wiki['result_fr'] = wiki.name.apply(hacked_summary)\n",
    "    wiki[['summary_fr','keyword_fr']] = pd.DataFrame(wiki.result_fr.values.tolist(), index= wiki.index)\n",
    "    wiki.to_pickle('data/wiki_summaries.pkl')\n",
    "    #   wiki[['name','summary','summary_fr']][(~wiki.summary.isnull() & wiki.keyword.apply(lambda x: x!=[]))| \\\n",
    " #                              (~wiki.summary_fr.isnull() & wiki.keyword_fr.apply(lambda x:x!=[]))].to_pickle('wiki_summaries.pkl')"
   ]
  },
  {
   "cell_type": "code",
   "execution_count": 90,
   "metadata": {},
   "outputs": [],
   "source": [
    "wiki = pd.read_pickle('data/wiki_summaries.pkl')\n",
    "wiki"
   ]
  },
  {
   "cell_type": "code",
   "execution_count": 735,
   "metadata": {},
   "outputs": [],
   "source": []
  },
  {
   "cell_type": "code",
   "execution_count": 89,
   "metadata": {},
   "outputs": [
    {
     "ename": "AttributeError",
     "evalue": "'DataFrame' object has no attribute 'keyword'",
     "output_type": "error",
     "traceback": [
      "\u001b[1;31m---------------------------------------------------------------------------\u001b[0m",
      "\u001b[1;31mAttributeError\u001b[0m                            Traceback (most recent call last)",
      "\u001b[1;32m<ipython-input-89-fc2b7b4b2319>\u001b[0m in \u001b[0;36m<module>\u001b[1;34m\u001b[0m\n\u001b[0;32m      1\u001b[0m \u001b[0mwiki_notnull\u001b[0m \u001b[1;33m=\u001b[0m \u001b[0mwiki\u001b[0m\u001b[1;33m[\u001b[0m\u001b[1;33m~\u001b[0m\u001b[0mwiki\u001b[0m\u001b[1;33m.\u001b[0m\u001b[0msummary\u001b[0m\u001b[1;33m.\u001b[0m\u001b[0misnull\u001b[0m\u001b[1;33m(\u001b[0m\u001b[1;33m)\u001b[0m\u001b[1;33m]\u001b[0m\u001b[1;33m\u001b[0m\u001b[1;33m\u001b[0m\u001b[0m\n\u001b[1;32m----> 2\u001b[1;33m \u001b[0mwiki_mismatch\u001b[0m \u001b[1;33m=\u001b[0m \u001b[0mwiki_notnull\u001b[0m\u001b[1;33m[\u001b[0m\u001b[1;33m[\u001b[0m\u001b[1;34m'name'\u001b[0m\u001b[1;33m,\u001b[0m\u001b[1;34m'summary'\u001b[0m\u001b[1;33m]\u001b[0m\u001b[1;33m]\u001b[0m\u001b[1;33m[\u001b[0m\u001b[0mwiki_notnull\u001b[0m\u001b[1;33m.\u001b[0m\u001b[0mkeyword\u001b[0m\u001b[1;33m.\u001b[0m\u001b[0mapply\u001b[0m\u001b[1;33m(\u001b[0m\u001b[1;32mlambda\u001b[0m \u001b[0mx\u001b[0m\u001b[1;33m:\u001b[0m \u001b[0mlen\u001b[0m\u001b[1;33m(\u001b[0m\u001b[0mx\u001b[0m\u001b[1;33m)\u001b[0m\u001b[1;33m==\u001b[0m \u001b[1;36m0\u001b[0m\u001b[1;33m)\u001b[0m\u001b[1;33m]\u001b[0m\u001b[1;33m\u001b[0m\u001b[1;33m\u001b[0m\u001b[0m\n\u001b[0m\u001b[0;32m      3\u001b[0m \u001b[0mwiki_dict\u001b[0m \u001b[1;33m=\u001b[0m \u001b[0mwiki_mismatch\u001b[0m\u001b[1;33m.\u001b[0m\u001b[0mto_dict\u001b[0m\u001b[1;33m(\u001b[0m\u001b[0morient\u001b[0m\u001b[1;33m=\u001b[0m\u001b[1;34m'records'\u001b[0m\u001b[1;33m)\u001b[0m\u001b[1;33m\u001b[0m\u001b[1;33m\u001b[0m\u001b[0m\n",
      "\u001b[1;32m~\\Anaconda3\\lib\\site-packages\\pandas\\core\\generic.py\u001b[0m in \u001b[0;36m__getattr__\u001b[1;34m(self, name)\u001b[0m\n\u001b[0;32m   5177\u001b[0m             \u001b[1;32mif\u001b[0m \u001b[0mself\u001b[0m\u001b[1;33m.\u001b[0m\u001b[0m_info_axis\u001b[0m\u001b[1;33m.\u001b[0m\u001b[0m_can_hold_identifiers_and_holds_name\u001b[0m\u001b[1;33m(\u001b[0m\u001b[0mname\u001b[0m\u001b[1;33m)\u001b[0m\u001b[1;33m:\u001b[0m\u001b[1;33m\u001b[0m\u001b[1;33m\u001b[0m\u001b[0m\n\u001b[0;32m   5178\u001b[0m                 \u001b[1;32mreturn\u001b[0m \u001b[0mself\u001b[0m\u001b[1;33m[\u001b[0m\u001b[0mname\u001b[0m\u001b[1;33m]\u001b[0m\u001b[1;33m\u001b[0m\u001b[1;33m\u001b[0m\u001b[0m\n\u001b[1;32m-> 5179\u001b[1;33m             \u001b[1;32mreturn\u001b[0m \u001b[0mobject\u001b[0m\u001b[1;33m.\u001b[0m\u001b[0m__getattribute__\u001b[0m\u001b[1;33m(\u001b[0m\u001b[0mself\u001b[0m\u001b[1;33m,\u001b[0m \u001b[0mname\u001b[0m\u001b[1;33m)\u001b[0m\u001b[1;33m\u001b[0m\u001b[1;33m\u001b[0m\u001b[0m\n\u001b[0m\u001b[0;32m   5180\u001b[0m \u001b[1;33m\u001b[0m\u001b[0m\n\u001b[0;32m   5181\u001b[0m     \u001b[1;32mdef\u001b[0m \u001b[0m__setattr__\u001b[0m\u001b[1;33m(\u001b[0m\u001b[0mself\u001b[0m\u001b[1;33m,\u001b[0m \u001b[0mname\u001b[0m\u001b[1;33m,\u001b[0m \u001b[0mvalue\u001b[0m\u001b[1;33m)\u001b[0m\u001b[1;33m:\u001b[0m\u001b[1;33m\u001b[0m\u001b[1;33m\u001b[0m\u001b[0m\n",
      "\u001b[1;31mAttributeError\u001b[0m: 'DataFrame' object has no attribute 'keyword'"
     ]
    }
   ],
   "source": [
    "wiki_notnull = wiki[~wiki.summary.isnull()]\n",
    "wiki_mismatch = wiki_notnull[['name','summary']][wiki_notnull.keyword.apply(lambda x: len(x)== 0)]\n",
    "wiki_dict = wiki_mismatch.to_dict(orient='records')"
   ]
  },
  {
   "cell_type": "code",
   "execution_count": null,
   "metadata": {},
   "outputs": [],
   "source": [
    "wiki_explode.names.unique()"
   ]
  },
  {
   "cell_type": "code",
   "execution_count": null,
   "metadata": {},
   "outputs": [],
   "source": []
  },
  {
   "cell_type": "code",
   "execution_count": null,
   "metadata": {},
   "outputs": [],
   "source": []
  },
  {
   "cell_type": "code",
   "execution_count": null,
   "metadata": {},
   "outputs": [],
   "source": []
  },
  {
   "cell_type": "code",
   "execution_count": 95,
   "metadata": {},
   "outputs": [],
   "source": [
    "def reorder_names(x):\n",
    "    names_order = {1:[0],2:[1,0], 3:[2,0,1], 4:[3,0,1,2], 5:[4,0,1,2,3]}\n",
    "    s = x.split(',')\n",
    "    m = names_order[len(s)]\n",
    "    return ' '.join([y.strip() for x,y in sorted(zip(m,s))])\n",
    "    "
   ]
  },
  {
   "cell_type": "code",
   "execution_count": null,
   "metadata": {},
   "outputs": [],
   "source": []
  },
  {
   "cell_type": "code",
   "execution_count": 678,
   "metadata": {},
   "outputs": [],
   "source": [
    "names_df = wiki_explode[['names']].dropna().drop_duplicates()"
   ]
  },
  {
   "cell_type": "code",
   "execution_count": 680,
   "metadata": {},
   "outputs": [],
   "source": [
    "names_df = names_df.rename(columns={'names':'title'})"
   ]
  },
  {
   "cell_type": "code",
   "execution_count": null,
   "metadata": {},
   "outputs": [],
   "source": []
  },
  {
   "cell_type": "code",
   "execution_count": 681,
   "metadata": {},
   "outputs": [],
   "source": [
    "names_df['name'] = names_df.title.apply(lambda x: x.split('(')[0].strip())"
   ]
  },
  {
   "cell_type": "code",
   "execution_count": 682,
   "metadata": {},
   "outputs": [],
   "source": [
    "names_df['ordered_name'] = names_df.name.apply(reorder_names)"
   ]
  },
  {
   "cell_type": "code",
   "execution_count": 683,
   "metadata": {},
   "outputs": [
    {
     "data": {
      "text/html": [
       "<div>\n",
       "<style scoped>\n",
       "    .dataframe tbody tr th:only-of-type {\n",
       "        vertical-align: middle;\n",
       "    }\n",
       "\n",
       "    .dataframe tbody tr th {\n",
       "        vertical-align: top;\n",
       "    }\n",
       "\n",
       "    .dataframe thead th {\n",
       "        text-align: right;\n",
       "    }\n",
       "</style>\n",
       "<table border=\"1\" class=\"dataframe\">\n",
       "  <thead>\n",
       "    <tr style=\"text-align: right;\">\n",
       "      <th></th>\n",
       "      <th>title</th>\n",
       "      <th>name</th>\n",
       "      <th>ordered_name</th>\n",
       "    </tr>\n",
       "  </thead>\n",
       "  <tbody>\n",
       "    <tr>\n",
       "      <th>7</th>\n",
       "      <td>Auguez, Mathilde (1868-1955)</td>\n",
       "      <td>Auguez, Mathilde</td>\n",
       "      <td>Mathilde Auguez</td>\n",
       "    </tr>\n",
       "    <tr>\n",
       "      <th>9</th>\n",
       "      <td>Bruant, Aristide (1851-1925)</td>\n",
       "      <td>Bruant, Aristide</td>\n",
       "      <td>Aristide Bruant</td>\n",
       "    </tr>\n",
       "    <tr>\n",
       "      <th>13</th>\n",
       "      <td>Brasseur, Albert (1862-1932)</td>\n",
       "      <td>Brasseur, Albert</td>\n",
       "      <td>Albert Brasseur</td>\n",
       "    </tr>\n",
       "    <tr>\n",
       "      <th>19</th>\n",
       "      <td>Decroza, Francine (1868-19..)</td>\n",
       "      <td>Decroza, Francine</td>\n",
       "      <td>Francine Decroza</td>\n",
       "    </tr>\n",
       "    <tr>\n",
       "      <th>30</th>\n",
       "      <td>Lender, Marcelle (1862-1926)</td>\n",
       "      <td>Lender, Marcelle</td>\n",
       "      <td>Marcelle Lender</td>\n",
       "    </tr>\n",
       "    <tr>\n",
       "      <th>...</th>\n",
       "      <td>...</td>\n",
       "      <td>...</td>\n",
       "      <td>...</td>\n",
       "    </tr>\n",
       "    <tr>\n",
       "      <th>23236</th>\n",
       "      <td>Jackson, Stonewall (1824-1863)</td>\n",
       "      <td>Jackson, Stonewall</td>\n",
       "      <td>Stonewall Jackson</td>\n",
       "    </tr>\n",
       "    <tr>\n",
       "      <th>23241</th>\n",
       "      <td>Delaunay, Louis Arsène (1826-1903)</td>\n",
       "      <td>Delaunay, Louis Arsène</td>\n",
       "      <td>Louis Arsène Delaunay</td>\n",
       "    </tr>\n",
       "    <tr>\n",
       "      <th>23445</th>\n",
       "      <td>Hamburger, Edouard (18..-1886)</td>\n",
       "      <td>Hamburger, Edouard</td>\n",
       "      <td>Edouard Hamburger</td>\n",
       "    </tr>\n",
       "    <tr>\n",
       "      <th>23445</th>\n",
       "      <td>Lamy, François (18..-1903)</td>\n",
       "      <td>Lamy, François</td>\n",
       "      <td>François Lamy</td>\n",
       "    </tr>\n",
       "    <tr>\n",
       "      <th>23518</th>\n",
       "      <td>Delessert, Eugène (1819-1877)</td>\n",
       "      <td>Delessert, Eugène</td>\n",
       "      <td>Eugène Delessert</td>\n",
       "    </tr>\n",
       "  </tbody>\n",
       "</table>\n",
       "<p>1963 rows × 3 columns</p>\n",
       "</div>"
      ],
      "text/plain": [
       "                                    title                    name  \\\n",
       "7            Auguez, Mathilde (1868-1955)        Auguez, Mathilde   \n",
       "9            Bruant, Aristide (1851-1925)        Bruant, Aristide   \n",
       "13           Brasseur, Albert (1862-1932)        Brasseur, Albert   \n",
       "19          Decroza, Francine (1868-19..)       Decroza, Francine   \n",
       "30           Lender, Marcelle (1862-1926)        Lender, Marcelle   \n",
       "...                                   ...                     ...   \n",
       "23236      Jackson, Stonewall (1824-1863)      Jackson, Stonewall   \n",
       "23241  Delaunay, Louis Arsène (1826-1903)  Delaunay, Louis Arsène   \n",
       "23445      Hamburger, Edouard (18..-1886)      Hamburger, Edouard   \n",
       "23445          Lamy, François (18..-1903)          Lamy, François   \n",
       "23518       Delessert, Eugène (1819-1877)       Delessert, Eugène   \n",
       "\n",
       "                ordered_name  \n",
       "7            Mathilde Auguez  \n",
       "9            Aristide Bruant  \n",
       "13           Albert Brasseur  \n",
       "19          Francine Decroza  \n",
       "30           Marcelle Lender  \n",
       "...                      ...  \n",
       "23236      Stonewall Jackson  \n",
       "23241  Louis Arsène Delaunay  \n",
       "23445      Edouard Hamburger  \n",
       "23445          François Lamy  \n",
       "23518       Eugène Delessert  \n",
       "\n",
       "[1963 rows x 3 columns]"
      ]
     },
     "execution_count": 683,
     "metadata": {},
     "output_type": "execute_result"
    }
   ],
   "source": [
    "names_df"
   ]
  },
  {
   "cell_type": "code",
   "execution_count": 685,
   "metadata": {},
   "outputs": [],
   "source": [
    "names_df['sup'] =  names_df.title.apply(lambda x: str(re.findall('\\(\\S+\\)',x)).strip(\"['']\"))"
   ]
  },
  {
   "cell_type": "code",
   "execution_count": 539,
   "metadata": {},
   "outputs": [
    {
     "data": {
      "text/html": [
       "<div>\n",
       "<style scoped>\n",
       "    .dataframe tbody tr th:only-of-type {\n",
       "        vertical-align: middle;\n",
       "    }\n",
       "\n",
       "    .dataframe tbody tr th {\n",
       "        vertical-align: top;\n",
       "    }\n",
       "\n",
       "    .dataframe thead th {\n",
       "        text-align: right;\n",
       "    }\n",
       "</style>\n",
       "<table border=\"1\" class=\"dataframe\">\n",
       "  <thead>\n",
       "    <tr style=\"text-align: right;\">\n",
       "      <th></th>\n",
       "      <th>title</th>\n",
       "      <th>name</th>\n",
       "      <th>ordered_name</th>\n",
       "      <th>year</th>\n",
       "      <th>sup</th>\n",
       "    </tr>\n",
       "  </thead>\n",
       "  <tbody>\n",
       "    <tr>\n",
       "      <th>7</th>\n",
       "      <td>Auguez, Mathilde (1868-1955)</td>\n",
       "      <td>Auguez, Mathilde</td>\n",
       "      <td>Mathilde Auguez</td>\n",
       "      <td>(1868-1955)</td>\n",
       "      <td>(1868-1955)</td>\n",
       "    </tr>\n",
       "    <tr>\n",
       "      <th>9</th>\n",
       "      <td>Bruant, Aristide (1851-1925)</td>\n",
       "      <td>Bruant, Aristide</td>\n",
       "      <td>Aristide Bruant</td>\n",
       "      <td>(1851-1925)</td>\n",
       "      <td>(1851-1925)</td>\n",
       "    </tr>\n",
       "    <tr>\n",
       "      <th>13</th>\n",
       "      <td>Brasseur, Albert (1862-1932)</td>\n",
       "      <td>Brasseur, Albert</td>\n",
       "      <td>Albert Brasseur</td>\n",
       "      <td>(1862-1932)</td>\n",
       "      <td>(1862-1932)</td>\n",
       "    </tr>\n",
       "    <tr>\n",
       "      <th>19</th>\n",
       "      <td>Decroza, Francine (1868-19..)</td>\n",
       "      <td>Decroza, Francine</td>\n",
       "      <td>Francine Decroza</td>\n",
       "      <td>(1868-19..)</td>\n",
       "      <td>(1868-19..)</td>\n",
       "    </tr>\n",
       "    <tr>\n",
       "      <th>30</th>\n",
       "      <td>Lender, Marcelle (1862-1926)</td>\n",
       "      <td>Lender, Marcelle</td>\n",
       "      <td>Marcelle Lender</td>\n",
       "      <td>(1862-1926)</td>\n",
       "      <td>(1862-1926)</td>\n",
       "    </tr>\n",
       "    <tr>\n",
       "      <th>...</th>\n",
       "      <td>...</td>\n",
       "      <td>...</td>\n",
       "      <td>...</td>\n",
       "      <td>...</td>\n",
       "      <td>...</td>\n",
       "    </tr>\n",
       "    <tr>\n",
       "      <th>23236</th>\n",
       "      <td>Jackson, Stonewall (1824-1863)</td>\n",
       "      <td>Jackson, Stonewall</td>\n",
       "      <td>Stonewall Jackson</td>\n",
       "      <td>(1824-1863)</td>\n",
       "      <td>(1824-1863)</td>\n",
       "    </tr>\n",
       "    <tr>\n",
       "      <th>23241</th>\n",
       "      <td>Delaunay, Louis Arsène (1826-1903)</td>\n",
       "      <td>Delaunay, Louis Arsène</td>\n",
       "      <td>Louis Arsène Delaunay</td>\n",
       "      <td>(1826-1903)</td>\n",
       "      <td>(1826-1903)</td>\n",
       "    </tr>\n",
       "    <tr>\n",
       "      <th>23445</th>\n",
       "      <td>Hamburger, Edouard (18..-1886)</td>\n",
       "      <td>Hamburger, Edouard</td>\n",
       "      <td>Edouard Hamburger</td>\n",
       "      <td>(18..-1886)</td>\n",
       "      <td>(18..-1886)</td>\n",
       "    </tr>\n",
       "    <tr>\n",
       "      <th>23445</th>\n",
       "      <td>Lamy, François (18..-1903)</td>\n",
       "      <td>Lamy, François</td>\n",
       "      <td>François Lamy</td>\n",
       "      <td>(18..-1903)</td>\n",
       "      <td>(18..-1903)</td>\n",
       "    </tr>\n",
       "    <tr>\n",
       "      <th>23518</th>\n",
       "      <td>Delessert, Eugène (1819-1877)</td>\n",
       "      <td>Delessert, Eugène</td>\n",
       "      <td>Eugène Delessert</td>\n",
       "      <td>(1819-1877)</td>\n",
       "      <td>(1819-1877)</td>\n",
       "    </tr>\n",
       "  </tbody>\n",
       "</table>\n",
       "<p>1963 rows × 5 columns</p>\n",
       "</div>"
      ],
      "text/plain": [
       "                                    title                    name  \\\n",
       "7            Auguez, Mathilde (1868-1955)        Auguez, Mathilde   \n",
       "9            Bruant, Aristide (1851-1925)        Bruant, Aristide   \n",
       "13           Brasseur, Albert (1862-1932)        Brasseur, Albert   \n",
       "19          Decroza, Francine (1868-19..)       Decroza, Francine   \n",
       "30           Lender, Marcelle (1862-1926)        Lender, Marcelle   \n",
       "...                                   ...                     ...   \n",
       "23236      Jackson, Stonewall (1824-1863)      Jackson, Stonewall   \n",
       "23241  Delaunay, Louis Arsène (1826-1903)  Delaunay, Louis Arsène   \n",
       "23445      Hamburger, Edouard (18..-1886)      Hamburger, Edouard   \n",
       "23445          Lamy, François (18..-1903)          Lamy, François   \n",
       "23518       Delessert, Eugène (1819-1877)       Delessert, Eugène   \n",
       "\n",
       "                ordered_name         year          sup  \n",
       "7            Mathilde Auguez  (1868-1955)  (1868-1955)  \n",
       "9            Aristide Bruant  (1851-1925)  (1851-1925)  \n",
       "13           Albert Brasseur  (1862-1932)  (1862-1932)  \n",
       "19          Francine Decroza  (1868-19..)  (1868-19..)  \n",
       "30           Marcelle Lender  (1862-1926)  (1862-1926)  \n",
       "...                      ...          ...          ...  \n",
       "23236      Stonewall Jackson  (1824-1863)  (1824-1863)  \n",
       "23241  Louis Arsène Delaunay  (1826-1903)  (1826-1903)  \n",
       "23445      Edouard Hamburger  (18..-1886)  (18..-1886)  \n",
       "23445          François Lamy  (18..-1903)  (18..-1903)  \n",
       "23518       Eugène Delessert  (1819-1877)  (1819-1877)  \n",
       "\n",
       "[1963 rows x 5 columns]"
      ]
     },
     "execution_count": 539,
     "metadata": {},
     "output_type": "execute_result"
    }
   ],
   "source": [
    "names_df[names_df.name == 'Nicolas II']\n",
    "names_df\n",
    "#names_df['year'] =  names_df.title.apply(lambda x: str(re.findall('\\(1[789].+-1[89\\.].+',x)).strip(\"['']\"))"
   ]
  },
  {
   "cell_type": "code",
   "execution_count": null,
   "metadata": {},
   "outputs": [],
   "source": []
  },
  {
   "cell_type": "code",
   "execution_count": 97,
   "metadata": {},
   "outputs": [],
   "source": []
  },
  {
   "cell_type": "code",
   "execution_count": null,
   "metadata": {},
   "outputs": [],
   "source": []
  },
  {
   "cell_type": "code",
   "execution_count": 98,
   "metadata": {},
   "outputs": [],
   "source": [
    "def sparql_str() :\n",
    "    pass"
   ]
  },
  {
   "cell_type": "code",
   "execution_count": 366,
   "metadata": {},
   "outputs": [],
   "source": [
    "def sparql_uri(x, option='name'):\n",
    "    if option == 'name':\n",
    "        sparql_str.__doc__ = 'PREFIX foaf: <http://xmlns.com/foaf/0.1/>    SELECT ?pers     WHERE {    ?pers foaf:name \"%s\".    }    LIMIT 200' % (x)\n",
    "    elif option == 'familyName':        \n",
    "        sparql_str.__doc__ = 'PREFIX foaf: <http://xmlns.com/foaf/0.1/>    SELECT ?pers     WHERE {    ?pers foaf:familyName \"%s\".    }    LIMIT 200' % (x)        \n",
    "    elif option == 'givenName':\n",
    "        pass\n",
    "        \n",
    "    sparql = SPARQLWrapper(\"http://data.bnf.fr/sparql\")\n",
    "    sparql.setQuery(sparql_str.__doc__)\n",
    "    sparql.setReturnFormat(XML)\n",
    "    results = sparql.query().convert()\n",
    "    xml_ = results.toxml()\n",
    "    return list(map(lambda x: x[5:-6], re.findall(\"<uri>\\S*</uri>\", xml_)))"
   ]
  },
  {
   "cell_type": "code",
   "execution_count": 297,
   "metadata": {},
   "outputs": [
    {
     "data": {
      "text/html": [
       "<div>\n",
       "<style scoped>\n",
       "    .dataframe tbody tr th:only-of-type {\n",
       "        vertical-align: middle;\n",
       "    }\n",
       "\n",
       "    .dataframe tbody tr th {\n",
       "        vertical-align: top;\n",
       "    }\n",
       "\n",
       "    .dataframe thead th {\n",
       "        text-align: right;\n",
       "    }\n",
       "</style>\n",
       "<table border=\"1\" class=\"dataframe\">\n",
       "  <thead>\n",
       "    <tr style=\"text-align: right;\">\n",
       "      <th></th>\n",
       "      <th>title</th>\n",
       "      <th>name</th>\n",
       "      <th>ordered_name</th>\n",
       "      <th>year</th>\n",
       "    </tr>\n",
       "  </thead>\n",
       "  <tbody>\n",
       "    <tr>\n",
       "      <th>7</th>\n",
       "      <td>Auguez, Mathilde (1868-1955)</td>\n",
       "      <td>Auguez, Mathilde</td>\n",
       "      <td>Mathilde Auguez</td>\n",
       "      <td>(1868-1955)</td>\n",
       "    </tr>\n",
       "    <tr>\n",
       "      <th>9</th>\n",
       "      <td>Bruant, Aristide (1851-1925)</td>\n",
       "      <td>Bruant, Aristide</td>\n",
       "      <td>Aristide Bruant</td>\n",
       "      <td>(1851-1925)</td>\n",
       "    </tr>\n",
       "    <tr>\n",
       "      <th>13</th>\n",
       "      <td>Brasseur, Albert (1862-1932)</td>\n",
       "      <td>Brasseur, Albert</td>\n",
       "      <td>Albert Brasseur</td>\n",
       "      <td>(1862-1932)</td>\n",
       "    </tr>\n",
       "    <tr>\n",
       "      <th>19</th>\n",
       "      <td>Decroza, Francine (1868-19..)</td>\n",
       "      <td>Decroza, Francine</td>\n",
       "      <td>Francine Decroza</td>\n",
       "      <td>(1868-19..)</td>\n",
       "    </tr>\n",
       "    <tr>\n",
       "      <th>30</th>\n",
       "      <td>Lender, Marcelle (1862-1926)</td>\n",
       "      <td>Lender, Marcelle</td>\n",
       "      <td>Marcelle Lender</td>\n",
       "      <td>(1862-1926)</td>\n",
       "    </tr>\n",
       "    <tr>\n",
       "      <th>...</th>\n",
       "      <td>...</td>\n",
       "      <td>...</td>\n",
       "      <td>...</td>\n",
       "      <td>...</td>\n",
       "    </tr>\n",
       "    <tr>\n",
       "      <th>23236</th>\n",
       "      <td>Jackson, Stonewall (1824-1863)</td>\n",
       "      <td>Jackson, Stonewall</td>\n",
       "      <td>Stonewall Jackson</td>\n",
       "      <td>(1824-1863)</td>\n",
       "    </tr>\n",
       "    <tr>\n",
       "      <th>23241</th>\n",
       "      <td>Delaunay, Louis Arsène (1826-1903)</td>\n",
       "      <td>Delaunay, Louis Arsène</td>\n",
       "      <td>Louis Arsène Delaunay</td>\n",
       "      <td>(1826-1903)</td>\n",
       "    </tr>\n",
       "    <tr>\n",
       "      <th>23445</th>\n",
       "      <td>Hamburger, Edouard (18..-1886)</td>\n",
       "      <td>Hamburger, Edouard</td>\n",
       "      <td>Edouard Hamburger</td>\n",
       "      <td>(18..-1886)</td>\n",
       "    </tr>\n",
       "    <tr>\n",
       "      <th>23445</th>\n",
       "      <td>Lamy, François (18..-1903)</td>\n",
       "      <td>Lamy, François</td>\n",
       "      <td>François Lamy</td>\n",
       "      <td>(18..-1903)</td>\n",
       "    </tr>\n",
       "    <tr>\n",
       "      <th>23518</th>\n",
       "      <td>Delessert, Eugène (1819-1877)</td>\n",
       "      <td>Delessert, Eugène</td>\n",
       "      <td>Eugène Delessert</td>\n",
       "      <td>(1819-1877)</td>\n",
       "    </tr>\n",
       "  </tbody>\n",
       "</table>\n",
       "<p>1963 rows × 4 columns</p>\n",
       "</div>"
      ],
      "text/plain": [
       "                                    title                    name  \\\n",
       "7            Auguez, Mathilde (1868-1955)        Auguez, Mathilde   \n",
       "9            Bruant, Aristide (1851-1925)        Bruant, Aristide   \n",
       "13           Brasseur, Albert (1862-1932)        Brasseur, Albert   \n",
       "19          Decroza, Francine (1868-19..)       Decroza, Francine   \n",
       "30           Lender, Marcelle (1862-1926)        Lender, Marcelle   \n",
       "...                                   ...                     ...   \n",
       "23236      Jackson, Stonewall (1824-1863)      Jackson, Stonewall   \n",
       "23241  Delaunay, Louis Arsène (1826-1903)  Delaunay, Louis Arsène   \n",
       "23445      Hamburger, Edouard (18..-1886)      Hamburger, Edouard   \n",
       "23445          Lamy, François (18..-1903)          Lamy, François   \n",
       "23518       Delessert, Eugène (1819-1877)       Delessert, Eugène   \n",
       "\n",
       "                ordered_name         year  \n",
       "7            Mathilde Auguez  (1868-1955)  \n",
       "9            Aristide Bruant  (1851-1925)  \n",
       "13           Albert Brasseur  (1862-1932)  \n",
       "19          Francine Decroza  (1868-19..)  \n",
       "30           Marcelle Lender  (1862-1926)  \n",
       "...                      ...          ...  \n",
       "23236      Stonewall Jackson  (1824-1863)  \n",
       "23241  Louis Arsène Delaunay  (1826-1903)  \n",
       "23445      Edouard Hamburger  (18..-1886)  \n",
       "23445          François Lamy  (18..-1903)  \n",
       "23518       Eugène Delessert  (1819-1877)  \n",
       "\n",
       "[1963 rows x 4 columns]"
      ]
     },
     "execution_count": 297,
     "metadata": {},
     "output_type": "execute_result"
    }
   ],
   "source": [
    "names_df"
   ]
  },
  {
   "cell_type": "code",
   "execution_count": 409,
   "metadata": {},
   "outputs": [],
   "source": [
    "bnf_namelist = names_df.ordered_name#[0:60]\n",
    "bnf_name_error = []\n",
    "bnf_not_found = []\n",
    "bnf_link = {}"
   ]
  },
  {
   "cell_type": "code",
   "execution_count": 725,
   "metadata": {},
   "outputs": [],
   "source": []
  },
  {
   "cell_type": "code",
   "execution_count": 410,
   "metadata": {},
   "outputs": [
    {
     "data": {
      "application/vnd.jupyter.widget-view+json": {
       "model_id": "637a400a92044813b0ba98f2cf441a03",
       "version_major": 2,
       "version_minor": 0
      },
      "text/plain": [
       "HBox(children=(IntProgress(value=0, max=1963), HTML(value='')))"
      ]
     },
     "metadata": {},
     "output_type": "display_data"
    },
    {
     "name": "stdout",
     "output_type": "stream",
     "text": [
      "\n"
     ]
    }
   ],
   "source": [
    "bnf_reset = False\n",
    "\n",
    "if bnf_reset:\n",
    "    for i in tqdm(bnf_namelist):\n",
    "        l = i.split()\n",
    "        try:\n",
    "            s = sparql_uri(i)\n",
    "            \n",
    "            if s == []:\n",
    "                #try by familyname\n",
    "                s = sparql_uri(l[0], option='familyName')\n",
    "                \n",
    "                if s == []:\n",
    "                    s = sparql_uri(l[-1], option='familyName')\n",
    "                    \n",
    "                    if s == []:\n",
    "                        s = sparql_uri(i, option='familyName')\n",
    "                        \n",
    "                        if s == []:\n",
    "                            bnf_not_found3.append(i)\n",
    "                        else:\n",
    "                            pass\n",
    "                    else:\n",
    "                        pass\n",
    "                else:\n",
    "                    pass\n",
    "            else:\n",
    "                pass\n",
    "                      \n",
    "            bnf_link[i] = [s]\n",
    "        except:\n",
    "            bnf_name_error.append(i)\n",
    "            \n",
    "    with open('bnf_link.json', 'w') as fp:\n",
    "        json.dump(bnf_link, fp)\n",
    "# takes about 20 minutes"
   ]
  },
  {
   "cell_type": "code",
   "execution_count": 727,
   "metadata": {},
   "outputs": [],
   "source": [
    "with open('bnf_name_error.json', 'w') as fp:\n",
    "    json.dump(bnf_name_error, fp)\n",
    "with open('bnf_not_found.json', 'w') as fp:\n",
    "    json.dump(bnf_not_found, fp)"
   ]
  },
  {
   "cell_type": "code",
   "execution_count": 107,
   "metadata": {},
   "outputs": [],
   "source": [
    "with open('bnf_link.json','r') as fp:\n",
    "    bnf_link =  json.load(fp)"
   ]
  },
  {
   "cell_type": "code",
   "execution_count": 413,
   "metadata": {},
   "outputs": [],
   "source": [
    "bnf_df_ = pd.DataFrame.from_dict(bnf_link, orient='index', columns=['links'])"
   ]
  },
  {
   "cell_type": "code",
   "execution_count": 389,
   "metadata": {},
   "outputs": [],
   "source": [
    "def get_bnf_description(links):\n",
    "    result = {}\n",
    "\n",
    "    for link in links:\n",
    "        try:\n",
    "            page = requests.get(link)\n",
    "            soup = BeautifulSoup(page.content, 'html.parser')\n",
    "            try:\n",
    "                bnf_text = soup.find(\"div\", {\"itemprop\": \"description\"}).get_text()\n",
    "            except:\n",
    "                bnf_text = ''\n",
    "            \n",
    "            bnf_title = soup.find(\"title\").get_text()\n",
    "            result[bnf_title] = bnf_text\n",
    "\n",
    "        except:\n",
    "            pass\n",
    "            \n",
    "        \n",
    "    return result"
   ]
  },
  {
   "cell_type": "code",
   "execution_count": 189,
   "metadata": {},
   "outputs": [],
   "source": []
  },
  {
   "cell_type": "code",
   "execution_count": 414,
   "metadata": {},
   "outputs": [],
   "source": [
    "bnf_df_['bnf'] = bnf_df_.links.apply(get_bnf_description)\n",
    "bnf_df_ = bnf_df_.reset_index().rename(columns={'index':'ordered_name'})"
   ]
  },
  {
   "cell_type": "code",
   "execution_count": 414,
   "metadata": {},
   "outputs": [],
   "source": []
  },
  {
   "cell_type": "code",
   "execution_count": 736,
   "metadata": {},
   "outputs": [],
   "source": [
    "bnf_df_.to_pickle('data/bnf_text_raw.pkl')"
   ]
  },
  {
   "cell_type": "code",
   "execution_count": 710,
   "metadata": {},
   "outputs": [],
   "source": [
    "bnf_df_merge = pd.merge(bnf_df_, names_df[['ordered_name','sup']], on='ordered_name')"
   ]
  },
  {
   "cell_type": "code",
   "execution_count": 711,
   "metadata": {},
   "outputs": [
    {
     "data": {
      "text/html": [
       "<div>\n",
       "<style scoped>\n",
       "    .dataframe tbody tr th:only-of-type {\n",
       "        vertical-align: middle;\n",
       "    }\n",
       "\n",
       "    .dataframe tbody tr th {\n",
       "        vertical-align: top;\n",
       "    }\n",
       "\n",
       "    .dataframe thead th {\n",
       "        text-align: right;\n",
       "    }\n",
       "</style>\n",
       "<table border=\"1\" class=\"dataframe\">\n",
       "  <thead>\n",
       "    <tr style=\"text-align: right;\">\n",
       "      <th></th>\n",
       "      <th>ordered_name</th>\n",
       "      <th>links</th>\n",
       "      <th>bnf</th>\n",
       "      <th>sup</th>\n",
       "    </tr>\n",
       "  </thead>\n",
       "  <tbody>\n",
       "    <tr>\n",
       "      <th>0</th>\n",
       "      <td>Mathilde Auguez</td>\n",
       "      <td>[http://data.bnf.fr/ark:/12148/cb149853704#about]</td>\n",
       "      <td>{'Mathilde Auguez (1868-1955)': 'Chanteuse lyr...</td>\n",
       "      <td>(1868-1955)</td>\n",
       "    </tr>\n",
       "    <tr>\n",
       "      <th>1</th>\n",
       "      <td>Aristide Bruant</td>\n",
       "      <td>[http://data.bnf.fr/ark:/12148/cb11894238r#about]</td>\n",
       "      <td>{'Aristide Bruant (1851-1925)': 'Chansonnier e...</td>\n",
       "      <td>(1851-1925)</td>\n",
       "    </tr>\n",
       "    <tr>\n",
       "      <th>2</th>\n",
       "      <td>Albert Brasseur</td>\n",
       "      <td>[http://data.bnf.fr/ark:/12148/cb10728832j#about]</td>\n",
       "      <td>{'Albert Brasseur (1862-1932)': 'Acteur. - Dir...</td>\n",
       "      <td>(1862-1932)</td>\n",
       "    </tr>\n",
       "    <tr>\n",
       "      <th>3</th>\n",
       "      <td>Francine Decroza</td>\n",
       "      <td>[http://data.bnf.fr/ark:/12148/cb169379381#about]</td>\n",
       "      <td>{'Francine Decroza (1868-19..)': 'Artiste lyri...</td>\n",
       "      <td>(1868-19..)</td>\n",
       "    </tr>\n",
       "    <tr>\n",
       "      <th>4</th>\n",
       "      <td>Marcelle Lender</td>\n",
       "      <td>[http://data.bnf.fr/ark:/12148/cb14653634g#about]</td>\n",
       "      <td>{'Marcelle Lender (1862-1926)': 'Actrice'}</td>\n",
       "      <td>(1862-1926)</td>\n",
       "    </tr>\n",
       "    <tr>\n",
       "      <th>...</th>\n",
       "      <td>...</td>\n",
       "      <td>...</td>\n",
       "      <td>...</td>\n",
       "      <td>...</td>\n",
       "    </tr>\n",
       "    <tr>\n",
       "      <th>1983</th>\n",
       "      <td>Stonewall Jackson</td>\n",
       "      <td>[http://data.bnf.fr/ark:/12148/cb138955263#abo...</td>\n",
       "      <td>{'Stonewall Jackson': 'Vocaliste. - Guitariste...</td>\n",
       "      <td>(1824-1863)</td>\n",
       "    </tr>\n",
       "    <tr>\n",
       "      <th>1984</th>\n",
       "      <td>Louis Arsène Delaunay</td>\n",
       "      <td>[http://data.bnf.fr/ark:/12148/cb14654126q#about]</td>\n",
       "      <td>{'Louis Arsène Delaunay (1826-1903)': 'Acteur ...</td>\n",
       "      <td>(1826-1903)</td>\n",
       "    </tr>\n",
       "    <tr>\n",
       "      <th>1985</th>\n",
       "      <td>Edouard Hamburger</td>\n",
       "      <td>[http://data.bnf.fr/ark:/12148/cb15094430q#about]</td>\n",
       "      <td>{'Edouard Hamburger (18..-1886)': 'Acteur de t...</td>\n",
       "      <td>(18..-1886)</td>\n",
       "    </tr>\n",
       "    <tr>\n",
       "      <th>1986</th>\n",
       "      <td>François Lamy</td>\n",
       "      <td>[http://data.bnf.fr/ark:/12148/cb135452617#abo...</td>\n",
       "      <td>{'François Lamy': 'Attaché parlementaire. - Dé...</td>\n",
       "      <td>(18..-1903)</td>\n",
       "    </tr>\n",
       "    <tr>\n",
       "      <th>1987</th>\n",
       "      <td>Eugène Delessert</td>\n",
       "      <td>[http://data.bnf.fr/ark:/12148/cb13763201n#abo...</td>\n",
       "      <td>{'Eugène Delessert (1819-1877)': 'Auteur de ré...</td>\n",
       "      <td>(1819-1877)</td>\n",
       "    </tr>\n",
       "  </tbody>\n",
       "</table>\n",
       "<p>1988 rows × 4 columns</p>\n",
       "</div>"
      ],
      "text/plain": [
       "               ordered_name  \\\n",
       "0           Mathilde Auguez   \n",
       "1           Aristide Bruant   \n",
       "2           Albert Brasseur   \n",
       "3          Francine Decroza   \n",
       "4           Marcelle Lender   \n",
       "...                     ...   \n",
       "1983      Stonewall Jackson   \n",
       "1984  Louis Arsène Delaunay   \n",
       "1985      Edouard Hamburger   \n",
       "1986          François Lamy   \n",
       "1987       Eugène Delessert   \n",
       "\n",
       "                                                  links  \\\n",
       "0     [http://data.bnf.fr/ark:/12148/cb149853704#about]   \n",
       "1     [http://data.bnf.fr/ark:/12148/cb11894238r#about]   \n",
       "2     [http://data.bnf.fr/ark:/12148/cb10728832j#about]   \n",
       "3     [http://data.bnf.fr/ark:/12148/cb169379381#about]   \n",
       "4     [http://data.bnf.fr/ark:/12148/cb14653634g#about]   \n",
       "...                                                 ...   \n",
       "1983  [http://data.bnf.fr/ark:/12148/cb138955263#abo...   \n",
       "1984  [http://data.bnf.fr/ark:/12148/cb14654126q#about]   \n",
       "1985  [http://data.bnf.fr/ark:/12148/cb15094430q#about]   \n",
       "1986  [http://data.bnf.fr/ark:/12148/cb135452617#abo...   \n",
       "1987  [http://data.bnf.fr/ark:/12148/cb13763201n#abo...   \n",
       "\n",
       "                                                    bnf          sup  \n",
       "0     {'Mathilde Auguez (1868-1955)': 'Chanteuse lyr...  (1868-1955)  \n",
       "1     {'Aristide Bruant (1851-1925)': 'Chansonnier e...  (1851-1925)  \n",
       "2     {'Albert Brasseur (1862-1932)': 'Acteur. - Dir...  (1862-1932)  \n",
       "3     {'Francine Decroza (1868-19..)': 'Artiste lyri...  (1868-19..)  \n",
       "4            {'Marcelle Lender (1862-1926)': 'Actrice'}  (1862-1926)  \n",
       "...                                                 ...          ...  \n",
       "1983  {'Stonewall Jackson': 'Vocaliste. - Guitariste...  (1824-1863)  \n",
       "1984  {'Louis Arsène Delaunay (1826-1903)': 'Acteur ...  (1826-1903)  \n",
       "1985  {'Edouard Hamburger (18..-1886)': 'Acteur de t...  (18..-1886)  \n",
       "1986  {'François Lamy': 'Attaché parlementaire. - Dé...  (18..-1903)  \n",
       "1987  {'Eugène Delessert (1819-1877)': 'Auteur de ré...  (1819-1877)  \n",
       "\n",
       "[1988 rows x 4 columns]"
      ]
     },
     "execution_count": 711,
     "metadata": {},
     "output_type": "execute_result"
    }
   ],
   "source": [
    "bnf_df_merge"
   ]
  },
  {
   "cell_type": "code",
   "execution_count": 712,
   "metadata": {},
   "outputs": [],
   "source": [
    "import numpy as np\n",
    "\n",
    "def handle_year(years):\n",
    "    try:\n",
    "        byear = years[0]\n",
    "        dyear = years[1]\n",
    "\n",
    "        try:\n",
    "            byear =  int(byear)\n",
    "        except:\n",
    "            byear =  1855\n",
    "\n",
    "        try:\n",
    "            dyear =  int(dyear)\n",
    "        except:\n",
    "            dyear =  1910\n",
    "        return  min(1910, dyear) - max(1855, byear)\n",
    "\n",
    "    except:\n",
    "        return 0\n",
    "    \n",
    "        \n",
    "        \n",
    "\n",
    "def bnf_match(keys):\n",
    "    activity = range(1855, 1910)\n",
    "    \n",
    "    \n",
    "#    years = list(map(lambda x: re.findall('1[.89].+-1[.89].+',x),keys))\n",
    "    years = list(map(lambda x: str(re.findall('1[89].+-1[89].+',x)).strip(\"['()']\"), keys))\n",
    "\n",
    "    years_list = list(map(lambda x: handle_year(x.split('-')),years))\n",
    "    \n",
    "    \n",
    "    \n",
    "#    keys_new = list(compress(keys, map(lambda x: x != '',years)))\n",
    "    \n",
    "        \n",
    "    try :\n",
    "        return keys[np.argmax(years_list)]\n",
    "    except:\n",
    "        return np.nan\n"
   ]
  },
  {
   "cell_type": "code",
   "execution_count": 713,
   "metadata": {},
   "outputs": [],
   "source": [
    "bnf_df_merge['names'] = bnf_df_merge.bnf.apply(lambda x: list(x.keys()))"
   ]
  },
  {
   "cell_type": "code",
   "execution_count": 714,
   "metadata": {},
   "outputs": [],
   "source": [
    "bnf_df_merge['title'] = bnf_df_merge.apply(lambda x:str(x.ordered_name + ' ' + x.sup).strip(), axis=1)"
   ]
  },
  {
   "cell_type": "code",
   "execution_count": 715,
   "metadata": {},
   "outputs": [],
   "source": [
    "bnf_df_merge['key_title'] = bnf_df_merge.apply(lambda x: list(compress(x.names, list(map(lambda y: x.title in y, x.names)))), axis=1)\n",
    "bnf_df_merge['key_name'] = bnf_df_merge.apply(lambda x: list(compress(x.names, list(map(lambda y: x.ordered_name in y, x.names)))), axis=1)\n",
    "bnf_df_merge['key_sup'] = bnf_df_merge.apply(lambda x: list(compress(x.names, list(map(lambda y: x.sup in y, x.names)))), axis=1)"
   ]
  },
  {
   "cell_type": "code",
   "execution_count": 716,
   "metadata": {},
   "outputs": [],
   "source": [
    "bnf_df_merge['key'] = bnf_df_merge.apply(lambda x: list(set.intersection(set(x.key_title), set(x.key_name), set(x.key_sup))), axis=1)"
   ]
  },
  {
   "cell_type": "code",
   "execution_count": 717,
   "metadata": {},
   "outputs": [
    {
     "data": {
      "text/plain": [
       "1      1867\n",
       "0        73\n",
       "2        11\n",
       "3         5\n",
       "5         4\n",
       "175       3\n",
       "131       2\n",
       "6         2\n",
       "7         2\n",
       "9         2\n",
       "10        2\n",
       "12        1\n",
       "8         1\n",
       "11        1\n",
       "187       1\n",
       "176       1\n",
       "16        1\n",
       "23        1\n",
       "30        1\n",
       "42        1\n",
       "67        1\n",
       "76        1\n",
       "88        1\n",
       "90        1\n",
       "95        1\n",
       "13        1\n",
       "Name: key, dtype: int64"
      ]
     },
     "execution_count": 717,
     "metadata": {},
     "output_type": "execute_result"
    }
   ],
   "source": [
    "bnf_df_merge.key.apply(lambda x: len(x)).value_counts(ascending=False)"
   ]
  },
  {
   "cell_type": "code",
   "execution_count": 718,
   "metadata": {},
   "outputs": [],
   "source": [
    "bnf_df_merge['key_match'] = bnf_df_merge.key.apply(bnf_match)#.apply(lambda x: len(x)).value_counts(ascending=False)"
   ]
  },
  {
   "cell_type": "code",
   "execution_count": 719,
   "metadata": {},
   "outputs": [],
   "source": [
    "bnf_df_merge['description'] = bnf_df_merge.dropna(axis=0).apply(lambda x: x.bnf[x.key_match],axis=1)"
   ]
  },
  {
   "cell_type": "code",
   "execution_count": 737,
   "metadata": {},
   "outputs": [],
   "source": [
    "bnf_df_merge[['ordered_name','description']].to_pickle('data/bnf_description.pkl')#.description.dropna(axis=0)"
   ]
  },
  {
   "cell_type": "code",
   "execution_count": null,
   "metadata": {},
   "outputs": [],
   "source": []
  }
 ],
 "metadata": {
  "kernelspec": {
   "display_name": "Python 3",
   "language": "python",
   "name": "python3"
  },
  "language_info": {
   "codemirror_mode": {
    "name": "ipython",
    "version": 3
   },
   "file_extension": ".py",
   "mimetype": "text/x-python",
   "name": "python",
   "nbconvert_exporter": "python",
   "pygments_lexer": "ipython3",
   "version": "3.7.3"
  }
 },
 "nbformat": 4,
 "nbformat_minor": 4
}
