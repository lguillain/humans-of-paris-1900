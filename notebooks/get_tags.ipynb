{
 "cells": [
  {
   "cell_type": "code",
   "execution_count": 3,
   "metadata": {},
   "outputs": [
    {
     "name": "stderr",
     "output_type": "stream",
     "text": [
      "C:\\Users\\haeeun\\Anaconda3\\lib\\site-packages\\tqdm\\autonotebook.py:17: TqdmExperimentalWarning: Using `tqdm.autonotebook.tqdm` in notebook mode. Use `tqdm.tqdm` instead to force console mode (e.g. in jupyter console)\n",
      "  \" (e.g. in jupyter console)\", TqdmExperimentalWarning)\n"
     ]
    }
   ],
   "source": [
    "from fdh_gallica import Periodical, Search, Document\n",
    "from fdh_gallica.parallel_process import iiif_urls_for_documents\n",
    "from tqdm.autonotebook import tqdm\n",
    "import json\n",
    "import pandas as pd\n",
    "from pandas.io.json import json_normalize\n",
    "import itertools\n",
    "from itertools import chain\n",
    "from itertools import compress\n",
    "import re\n",
    "import wikipedia\n",
    "from bs4 import BeautifulSoup\n",
    "import requests\n",
    "from SPARQLWrapper import SPARQLWrapper, XML"
   ]
  },
  {
   "cell_type": "code",
   "execution_count": 4,
   "metadata": {},
   "outputs": [],
   "source": [
    "%matplotlib inline"
   ]
  },
  {
   "cell_type": "markdown",
   "metadata": {},
   "source": [
    "get all images with relevant query"
   ]
  },
  {
   "cell_type": "code",
   "execution_count": 5,
   "metadata": {},
   "outputs": [],
   "source": [
    "re_execute = False\n",
    "if re_execute:\n",
    "    obj = Search(all_fields='atelier Nadar', dc_type='image', dc_creator='Atelier Nadar')\n",
    "    obj.execute()\n",
    "    print(f'number of fetched documents: {len(obj.documents)}')\n",
    "    print(f'total records {obj.total_records}')\n",
    "    print('retry fetching ...')\n",
    "    obj.retry()\n",
    "    print(f'number of fetched documents: {len(obj.documents)}')\n",
    "\n",
    "    df = json_normalize(json.loads(json.dumps(obj.records)))\n",
    "    print('save documents to local')\n",
    "    # list handling becomes a pain of we save as csv\n",
    "    df.to_pickle('../data/raw_df.pkl')"
   ]
  },
  {
   "cell_type": "code",
   "execution_count": 6,
   "metadata": {},
   "outputs": [],
   "source": [
    "df = pd.read_pickle('../data/raw_df.pkl')"
   ]
  },
  {
   "cell_type": "markdown",
   "metadata": {},
   "source": [
    "parse identifier for easier access:"
   ]
  },
  {
   "cell_type": "code",
   "execution_count": 7,
   "metadata": {},
   "outputs": [],
   "source": [
    "image_dataframe = pd.DataFrame(df['dc:identifier']\\\n",
    "                               .map(lambda x: x[0] if type(x) == list else x))\\\n",
    "                               .rename(columns={'dc:identifier':'identifier'})\n",
    "\n",
    "df['id'] = image_dataframe"
   ]
  },
  {
   "cell_type": "markdown",
   "metadata": {},
   "source": [
    "### useless dataframes"
   ]
  },
  {
   "cell_type": "markdown",
   "metadata": {},
   "source": [
    "remove them for ease of use, next ones contain all the same content"
   ]
  },
  {
   "cell_type": "markdown",
   "metadata": {},
   "source": [
    "### removing them"
   ]
  },
  {
   "cell_type": "code",
   "execution_count": 8,
   "metadata": {},
   "outputs": [],
   "source": [
    "del df['dc:type']\n",
    "del df['dc:language']\n",
    "del df['dc:format']\n",
    "del df['dc:identifier']\n",
    "del df['dc:rights']\n",
    "del df['dc:publisher']"
   ]
  },
  {
   "cell_type": "markdown",
   "metadata": {},
   "source": [
    "# getting information about subjects -> use as tags"
   ]
  },
  {
   "cell_type": "code",
   "execution_count": 9,
   "metadata": {},
   "outputs": [],
   "source": [
    "#some objects are stored as list, others arent, use if else to handle\n",
    "df['subject_is_list'] = df['dc:subject'].map(lambda x: type(x) == list)"
   ]
  },
  {
   "cell_type": "code",
   "execution_count": 10,
   "metadata": {},
   "outputs": [],
   "source": [
    "df['len_list'] = df[df.subject_is_list]['dc:subject'].map(len)"
   ]
  },
  {
   "cell_type": "markdown",
   "metadata": {},
   "source": [
    "length is non uniform ... we will have to unnest"
   ]
  },
  {
   "cell_type": "code",
   "execution_count": 11,
   "metadata": {},
   "outputs": [
    {
     "data": {
      "text/plain": [
       "2.0    12834\n",
       "3.0      748\n",
       "4.0      239\n",
       "5.0      233\n",
       "6.0       10\n",
       "7.0        9\n",
       "Name: len_list, dtype: int64"
      ]
     },
     "execution_count": 11,
     "metadata": {},
     "output_type": "execute_result"
    }
   ],
   "source": [
    "df.len_list.value_counts()"
   ]
  },
  {
   "cell_type": "code",
   "execution_count": 12,
   "metadata": {},
   "outputs": [
    {
     "data": {
      "text/plain": [
       "[Bernhardt, Sarah (1844-1923) -- Portraits, Portraits du théâtre -- 19e siècle]          266\n",
       "[Réjane (1856-1920) -- Portraits, Portraits du théâtre -- 19e siècle]                    118\n",
       "[Théo, Louise (1854-1922) -- Portraits, Portraits du théâtre -- 19e siècle]              109\n",
       "[Simon-Girard, Juliette (1859-1959) -- Portraits, Portraits du théâtre -- 19e siècle]     84\n",
       "[Lantelme, Marie -- Portraits, Portraits du théâtre -- 19e siècle]                        83\n",
       "Name: dc:subject, dtype: int64"
      ]
     },
     "execution_count": 12,
     "metadata": {},
     "output_type": "execute_result"
    }
   ],
   "source": [
    "df[df.subject_is_list]['dc:subject'].map(lambda x: x).value_counts().head()"
   ]
  },
  {
   "cell_type": "code",
   "execution_count": 13,
   "metadata": {},
   "outputs": [],
   "source": [
    "df2 = df[['id','dc:subject','dc:title','subject_is_list','len_list']]"
   ]
  },
  {
   "cell_type": "code",
   "execution_count": 14,
   "metadata": {},
   "outputs": [],
   "source": [
    "subject1 = df2['dc:subject'][~df2.subject_is_list].unique().tolist()"
   ]
  },
  {
   "cell_type": "code",
   "execution_count": 15,
   "metadata": {},
   "outputs": [
    {
     "data": {
      "text/plain": [
       "['Portraits du théâtre -- 19e siècle',\n",
       " 'Portraits de studio -- 19e siècle',\n",
       " 'Portraits collectifs -- 19e siècle',\n",
       " 'Scènes théâtrales -- 19e siècle',\n",
       " 'Portraits -- 19e siècle',\n",
       " 'Portraits équestres -- 19e siècle',\n",
       " 'Expositions de photographie',\n",
       " 'Tableaux vivants et mises en scène -- 19e siècle',\n",
       " 'Portraits de plein air -- 19e siècle',\n",
       " 'Portraits après décès -- 19e siècle',\n",
       " 'Portraits de studio',\n",
       " \"Vues d'intérieur -- 19e siècle\",\n",
       " 'Luco, François (18..-1882) -- Portraits',\n",
       " 'Paysages -- 19e siècle',\n",
       " 'Cham (1818-1879) -- Oeuvres -- Dessin',\n",
       " 'Carvalho, Léon (1825-1897) -- Tombes',\n",
       " 'Sand, George (1804-1876) -- Statues',\n",
       " 'Caricatures et dessins humoristiques -- 19e siècle',\n",
       " 'Figuet, Gabrielle (1862-1889) -- Portraits',\n",
       " 'Delmas, Jean-François (1861-1933) -- Portraits']"
      ]
     },
     "execution_count": 15,
     "metadata": {},
     "output_type": "execute_result"
    }
   ],
   "source": [
    "subject1"
   ]
  },
  {
   "cell_type": "code",
   "execution_count": 16,
   "metadata": {},
   "outputs": [],
   "source": [
    "subjects_to_exclude = list(set(subject1) - set(['Luco, François (18..-1882) -- Portraits',\n",
    "                                                'Figuet, Gabrielle (1862-1889) -- Portraits',\n",
    "                                                'Cham (1818-1879) -- Oeuvres -- Dessin',\n",
    "                                                'Delmas, Jean-François (1861-1933) -- Portraits',\n",
    "                                                'Carvalho, Léon (1825-1897) -- Tombes',\n",
    "                                                'Sand, George (1804-1876) -- Statues']))"
   ]
  },
  {
   "cell_type": "code",
   "execution_count": 17,
   "metadata": {},
   "outputs": [
    {
     "data": {
      "text/plain": [
       "len_list\n",
       "2.0    12834\n",
       "3.0      748\n",
       "4.0      239\n",
       "5.0      233\n",
       "6.0       10\n",
       "7.0        9\n",
       "Name: len_list, dtype: int64"
      ]
     },
     "execution_count": 17,
     "metadata": {},
     "output_type": "execute_result"
    }
   ],
   "source": [
    "df2['len_list'][~df2.len_list.isna()].groupby(df2.len_list).size()"
   ]
  },
  {
   "cell_type": "code",
   "execution_count": 18,
   "metadata": {},
   "outputs": [],
   "source": [
    "def subject_filter(x):\n",
    "    if type(x) == str:\n",
    "        if x in subjects_to_exclude:\n",
    "            result = ''\n",
    "        else:\n",
    "            result = [x]\n",
    "    elif type(x) == list:\n",
    "        temp = []\n",
    "        for s in x:\n",
    "            if s not in subjects_to_exclude:\n",
    "                #x.remove(s)\n",
    "                temp.append(s)\n",
    "        result = temp\n",
    "    else:\n",
    "        result = type(x)\n",
    "    return result"
   ]
  },
  {
   "cell_type": "code",
   "execution_count": 19,
   "metadata": {},
   "outputs": [
    {
     "name": "stderr",
     "output_type": "stream",
     "text": [
      "C:\\Users\\haeeun\\Anaconda3\\lib\\site-packages\\ipykernel_launcher.py:1: SettingWithCopyWarning: \n",
      "A value is trying to be set on a copy of a slice from a DataFrame.\n",
      "Try using .loc[row_indexer,col_indexer] = value instead\n",
      "\n",
      "See the caveats in the documentation: http://pandas.pydata.org/pandas-docs/stable/user_guide/indexing.html#returning-a-view-versus-a-copy\n",
      "  \"\"\"Entry point for launching an IPython kernel.\n"
     ]
    }
   ],
   "source": [
    "df2['subjects'] = df2['dc:subject'].apply(subject_filter)"
   ]
  },
  {
   "cell_type": "code",
   "execution_count": null,
   "metadata": {},
   "outputs": [],
   "source": []
  },
  {
   "cell_type": "code",
   "execution_count": 20,
   "metadata": {},
   "outputs": [
    {
     "name": "stderr",
     "output_type": "stream",
     "text": [
      "C:\\Users\\haeeun\\Anaconda3\\lib\\site-packages\\ipykernel_launcher.py:1: SettingWithCopyWarning: \n",
      "A value is trying to be set on a copy of a slice from a DataFrame.\n",
      "Try using .loc[row_indexer,col_indexer] = value instead\n",
      "\n",
      "See the caveats in the documentation: http://pandas.pydata.org/pandas-docs/stable/user_guide/indexing.html#returning-a-view-versus-a-copy\n",
      "  \"\"\"Entry point for launching an IPython kernel.\n"
     ]
    }
   ],
   "source": [
    "df2['number_of_subjects'] = df2['subjects'].apply(len)"
   ]
  },
  {
   "cell_type": "code",
   "execution_count": 21,
   "metadata": {},
   "outputs": [
    {
     "data": {
      "text/plain": [
       "number_of_subjects\n",
       "0     9599\n",
       "1    12881\n",
       "2      853\n",
       "3      189\n",
       "4        9\n",
       "5        3\n",
       "6        1\n",
       "dtype: int64"
      ]
     },
     "execution_count": 21,
     "metadata": {},
     "output_type": "execute_result"
    }
   ],
   "source": [
    "df2.groupby(df2.number_of_subjects).size()"
   ]
  },
  {
   "cell_type": "code",
   "execution_count": 22,
   "metadata": {},
   "outputs": [],
   "source": [
    "df2 = df2.drop(['dc:subject', 'subject_is_list','len_list'],axis=1)"
   ]
  },
  {
   "cell_type": "code",
   "execution_count": 23,
   "metadata": {},
   "outputs": [],
   "source": [
    "df2 = df2[df2.number_of_subjects != 0]"
   ]
  },
  {
   "cell_type": "code",
   "execution_count": 24,
   "metadata": {},
   "outputs": [],
   "source": [
    "#df2"
   ]
  },
  {
   "cell_type": "code",
   "execution_count": 25,
   "metadata": {},
   "outputs": [],
   "source": [
    "def title_filter(x):\n",
    "    if type(x) == list:\n",
    "        x = ''.join(x)\n",
    "    \n",
    "    if type(x) == str:\n",
    "        try:\n",
    "            result = x.split(':')[0].strip().strip('[]')\n",
    "        except:\n",
    "            result = x\n",
    "    else:\n",
    "        result = x\n",
    "        \n",
    "    return result\n",
    "        "
   ]
  },
  {
   "cell_type": "code",
   "execution_count": 26,
   "metadata": {},
   "outputs": [],
   "source": [
    "df2['title'] = df2['dc:title'].apply(title_filter)"
   ]
  },
  {
   "cell_type": "code",
   "execution_count": 27,
   "metadata": {},
   "outputs": [],
   "source": [
    "#df2"
   ]
  },
  {
   "cell_type": "code",
   "execution_count": 28,
   "metadata": {},
   "outputs": [],
   "source": [
    "def name_filter(x):\n",
    "    return [s.split('--')[0].strip() for s in x]"
   ]
  },
  {
   "cell_type": "code",
   "execution_count": 29,
   "metadata": {},
   "outputs": [],
   "source": [
    "_prenames = df2.subjects.apply(name_filter)    "
   ]
  },
  {
   "cell_type": "code",
   "execution_count": 30,
   "metadata": {},
   "outputs": [],
   "source": [
    "#_prenames"
   ]
  },
  {
   "cell_type": "code",
   "execution_count": null,
   "metadata": {},
   "outputs": [],
   "source": []
  },
  {
   "cell_type": "code",
   "execution_count": 31,
   "metadata": {},
   "outputs": [],
   "source": [
    "def is_name(x):\n",
    "    names = []\n",
    "    for s in x:\n",
    "        if '(' not in s and ',' not in s:\n",
    "            pass\n",
    "        else:\n",
    "            names.append(s.split('--')[0].strip())\n",
    "    return names\n",
    "\n",
    "def not_name(x):\n",
    "    words = []\n",
    "    for s in x:\n",
    "        if '(' not in s and ',' not in s:\n",
    "            words.append(s)\n",
    "        else:\n",
    "            pass\n",
    "    return words"
   ]
  },
  {
   "cell_type": "code",
   "execution_count": 32,
   "metadata": {},
   "outputs": [],
   "source": [
    "not_names = _prenames.apply(not_name).tolist()\n",
    "is_names = _prenames.apply(is_name).tolist()"
   ]
  },
  {
   "cell_type": "code",
   "execution_count": 33,
   "metadata": {},
   "outputs": [],
   "source": [
    "is_names = list(set(chain.from_iterable(is_names)))\n",
    "not_names = list(set(chain.from_iterable(not_names)))"
   ]
  },
  {
   "cell_type": "code",
   "execution_count": 34,
   "metadata": {},
   "outputs": [],
   "source": [
    "names = []\n",
    "for n in is_names:\n",
    "    name_ = n.split('(')[0].strip().lower().split(',')\n",
    "    names.append(name_)\n",
    "        \n",
    "names = list(set(chain.from_iterable(names)))\n",
    "names = list(set(list(map(lambda x:x.strip(),names))))"
   ]
  },
  {
   "cell_type": "code",
   "execution_count": 35,
   "metadata": {},
   "outputs": [],
   "source": [
    "mask_tags = list(map((lambda x: ',' not in x), not_names))\n",
    "subject_tags = list(compress(not_names, mask_tags))"
   ]
  },
  {
   "cell_type": "code",
   "execution_count": 36,
   "metadata": {},
   "outputs": [],
   "source": [
    "#subject_tags"
   ]
  },
  {
   "cell_type": "code",
   "execution_count": 37,
   "metadata": {},
   "outputs": [],
   "source": [
    "mask_names = list(map((lambda x: ',' in x), subject_tags))\n",
    "\n",
    "subject_names = list(compress(subject_tags, mask_names))\n",
    "#subject_names"
   ]
  },
  {
   "cell_type": "code",
   "execution_count": 38,
   "metadata": {},
   "outputs": [],
   "source": [
    "def exclude_title_name(x):\n",
    "    temp = []\n",
    "    for t in x:\n",
    "        t = re.sub('[\\[\\] (\".,\")]', '', t)\n",
    "\n",
    "        if t.lower() in names:\n",
    "            pass\n",
    "        else:\n",
    "            temp.append(t.lower())\n",
    "    return temp"
   ]
  },
  {
   "cell_type": "code",
   "execution_count": 39,
   "metadata": {},
   "outputs": [],
   "source": [
    "df2['title_broken'] = df2.title.apply(lambda x: re.findall('[\\S]+',x))"
   ]
  },
  {
   "cell_type": "code",
   "execution_count": 40,
   "metadata": {},
   "outputs": [
    {
     "data": {
      "text/plain": [
       "7              [Me, Auguez]\n",
       "8              [Me, Auguez]\n",
       "9              [M., Bruant]\n",
       "10             [Me, Auguez]\n",
       "13       [M., A., Brasseur]\n",
       "                ...        \n",
       "23528        [M., Hignette]\n",
       "23530             [Brémont]\n",
       "23531               [Caron]\n",
       "23533           [Croizette]\n",
       "23534              [Capoul]\n",
       "Name: title_broken, Length: 13936, dtype: object"
      ]
     },
     "execution_count": 40,
     "metadata": {},
     "output_type": "execute_result"
    }
   ],
   "source": [
    "df2.title_broken"
   ]
  },
  {
   "cell_type": "code",
   "execution_count": 41,
   "metadata": {},
   "outputs": [],
   "source": [
    "tag_df = pd.DataFrame(df2.id)\n",
    "tag_df['title'] = df2['title_broken'].apply(exclude_title_name)\n",
    "tag_df['subject'] = df2.subjects.apply(name_filter).apply(not_name)"
   ]
  },
  {
   "cell_type": "code",
   "execution_count": 42,
   "metadata": {},
   "outputs": [
    {
     "data": {
      "text/html": [
       "<div>\n",
       "<style scoped>\n",
       "    .dataframe tbody tr th:only-of-type {\n",
       "        vertical-align: middle;\n",
       "    }\n",
       "\n",
       "    .dataframe tbody tr th {\n",
       "        vertical-align: top;\n",
       "    }\n",
       "\n",
       "    .dataframe thead th {\n",
       "        text-align: right;\n",
       "    }\n",
       "</style>\n",
       "<table border=\"1\" class=\"dataframe\">\n",
       "  <thead>\n",
       "    <tr style=\"text-align: right;\">\n",
       "      <th></th>\n",
       "      <th>id</th>\n",
       "      <th>title</th>\n",
       "      <th>subject</th>\n",
       "    </tr>\n",
       "  </thead>\n",
       "  <tbody>\n",
       "    <tr>\n",
       "      <th>7</th>\n",
       "      <td>https://gallica.bnf.fr/ark:/12148/btv1b53168872x</td>\n",
       "      <td>[me]</td>\n",
       "      <td>[]</td>\n",
       "    </tr>\n",
       "    <tr>\n",
       "      <th>8</th>\n",
       "      <td>https://gallica.bnf.fr/ark:/12148/btv1b531688701</td>\n",
       "      <td>[me]</td>\n",
       "      <td>[]</td>\n",
       "    </tr>\n",
       "    <tr>\n",
       "      <th>9</th>\n",
       "      <td>https://gallica.bnf.fr/ark:/12148/btv1b53171770j</td>\n",
       "      <td>[m]</td>\n",
       "      <td>[]</td>\n",
       "    </tr>\n",
       "    <tr>\n",
       "      <th>10</th>\n",
       "      <td>https://gallica.bnf.fr/ark:/12148/btv1b53168873c</td>\n",
       "      <td>[me]</td>\n",
       "      <td>[]</td>\n",
       "    </tr>\n",
       "    <tr>\n",
       "      <th>13</th>\n",
       "      <td>https://gallica.bnf.fr/ark:/12148/btv1b531651494</td>\n",
       "      <td>[m]</td>\n",
       "      <td>[]</td>\n",
       "    </tr>\n",
       "    <tr>\n",
       "      <th>...</th>\n",
       "      <td>...</td>\n",
       "      <td>...</td>\n",
       "      <td>...</td>\n",
       "    </tr>\n",
       "    <tr>\n",
       "      <th>23528</th>\n",
       "      <td>https://gallica.bnf.fr/ark:/12148/btv1b531203810</td>\n",
       "      <td>[m, hignette]</td>\n",
       "      <td>[Ombre portée]</td>\n",
       "    </tr>\n",
       "    <tr>\n",
       "      <th>23530</th>\n",
       "      <td>https://gallica.bnf.fr/ark:/12148/btv1b53123957r</td>\n",
       "      <td>[]</td>\n",
       "      <td>[]</td>\n",
       "    </tr>\n",
       "    <tr>\n",
       "      <th>23531</th>\n",
       "      <td>https://gallica.bnf.fr/ark:/12148/btv1b53124037v</td>\n",
       "      <td>[]</td>\n",
       "      <td>[]</td>\n",
       "    </tr>\n",
       "    <tr>\n",
       "      <th>23533</th>\n",
       "      <td>https://gallica.bnf.fr/ark:/12148/btv1b53124131j</td>\n",
       "      <td>[]</td>\n",
       "      <td>[]</td>\n",
       "    </tr>\n",
       "    <tr>\n",
       "      <th>23534</th>\n",
       "      <td>https://gallica.bnf.fr/ark:/12148/btv1b53124259b</td>\n",
       "      <td>[]</td>\n",
       "      <td>[]</td>\n",
       "    </tr>\n",
       "  </tbody>\n",
       "</table>\n",
       "<p>13936 rows × 3 columns</p>\n",
       "</div>"
      ],
      "text/plain": [
       "                                                     id          title  \\\n",
       "7      https://gallica.bnf.fr/ark:/12148/btv1b53168872x           [me]   \n",
       "8      https://gallica.bnf.fr/ark:/12148/btv1b531688701           [me]   \n",
       "9      https://gallica.bnf.fr/ark:/12148/btv1b53171770j            [m]   \n",
       "10     https://gallica.bnf.fr/ark:/12148/btv1b53168873c           [me]   \n",
       "13     https://gallica.bnf.fr/ark:/12148/btv1b531651494            [m]   \n",
       "...                                                 ...            ...   \n",
       "23528  https://gallica.bnf.fr/ark:/12148/btv1b531203810  [m, hignette]   \n",
       "23530  https://gallica.bnf.fr/ark:/12148/btv1b53123957r             []   \n",
       "23531  https://gallica.bnf.fr/ark:/12148/btv1b53124037v             []   \n",
       "23533  https://gallica.bnf.fr/ark:/12148/btv1b53124131j             []   \n",
       "23534  https://gallica.bnf.fr/ark:/12148/btv1b53124259b             []   \n",
       "\n",
       "              subject  \n",
       "7                  []  \n",
       "8                  []  \n",
       "9                  []  \n",
       "10                 []  \n",
       "13                 []  \n",
       "...               ...  \n",
       "23528  [Ombre portée]  \n",
       "23530              []  \n",
       "23531              []  \n",
       "23533              []  \n",
       "23534              []  \n",
       "\n",
       "[13936 rows x 3 columns]"
      ]
     },
     "execution_count": 42,
     "metadata": {},
     "output_type": "execute_result"
    }
   ],
   "source": [
    "tag_df"
   ]
  },
  {
   "cell_type": "code",
   "execution_count": 43,
   "metadata": {},
   "outputs": [],
   "source": [
    "def filter_tags(x):\n",
    "    tag_4 = ['cure', 'chef', 'lord', 'abbé']\n",
    "    \n",
    "    if type(x) != str:\n",
    "        return False\n",
    "    \n",
    "    if x.find(',') != -1:\n",
    "        return False\n",
    "    \n",
    "    if len(x) < 3:\n",
    "        return False\n",
    "    \n",
    "    elif len(x) == 3:\n",
    "        if x == 'roi':\n",
    "            return True\n",
    "        else:\n",
    "            return False\n",
    "    elif len(x) == 4:\n",
    "        if x in tag_4:\n",
    "            return True\n",
    "        else:\n",
    "            return False        \n",
    "    else:\n",
    "        return True"
   ]
  },
  {
   "cell_type": "code",
   "execution_count": null,
   "metadata": {},
   "outputs": [],
   "source": []
  },
  {
   "cell_type": "code",
   "execution_count": null,
   "metadata": {},
   "outputs": [],
   "source": []
  },
  {
   "cell_type": "code",
   "execution_count": 44,
   "metadata": {},
   "outputs": [],
   "source": [
    "tags_title_ = tag_df.title.apply(pd.Series).merge(tag_df, right_index=True, left_index=True) \\\n",
    "        .drop(['title','subject'],axis=1).melt(id_vars=['id'], value_name='tags').drop('variable', axis=1)"
   ]
  },
  {
   "cell_type": "code",
   "execution_count": 45,
   "metadata": {},
   "outputs": [],
   "source": [
    "tags_title_ = tags_title_[tags_title_.tags.apply(filter_tags)]"
   ]
  },
  {
   "cell_type": "code",
   "execution_count": 46,
   "metadata": {},
   "outputs": [
    {
     "data": {
      "text/html": [
       "<div>\n",
       "<style scoped>\n",
       "    .dataframe tbody tr th:only-of-type {\n",
       "        vertical-align: middle;\n",
       "    }\n",
       "\n",
       "    .dataframe tbody tr th {\n",
       "        vertical-align: top;\n",
       "    }\n",
       "\n",
       "    .dataframe thead th {\n",
       "        text-align: right;\n",
       "    }\n",
       "</style>\n",
       "<table border=\"1\" class=\"dataframe\">\n",
       "  <thead>\n",
       "    <tr style=\"text-align: right;\">\n",
       "      <th></th>\n",
       "      <th>id</th>\n",
       "      <th>tags</th>\n",
       "    </tr>\n",
       "  </thead>\n",
       "  <tbody>\n",
       "    <tr>\n",
       "      <th>10</th>\n",
       "      <td>https://gallica.bnf.fr/ark:/12148/btv1b53162160w</td>\n",
       "      <td>d'arc</td>\n",
       "    </tr>\n",
       "    <tr>\n",
       "      <th>19</th>\n",
       "      <td>https://gallica.bnf.fr/ark:/12148/btv1b53162161b</td>\n",
       "      <td>d'arc</td>\n",
       "    </tr>\n",
       "    <tr>\n",
       "      <th>26</th>\n",
       "      <td>https://gallica.bnf.fr/ark:/12148/btv1b530922119</td>\n",
       "      <td>schah</td>\n",
       "    </tr>\n",
       "    <tr>\n",
       "      <th>33</th>\n",
       "      <td>https://gallica.bnf.fr/ark:/12148/btv1b530653663</td>\n",
       "      <td>député</td>\n",
       "    </tr>\n",
       "    <tr>\n",
       "      <th>34</th>\n",
       "      <td>https://gallica.bnf.fr/ark:/12148/btv1b530923448</td>\n",
       "      <td>schah</td>\n",
       "    </tr>\n",
       "    <tr>\n",
       "      <th>...</th>\n",
       "      <td>...</td>\n",
       "      <td>...</td>\n",
       "    </tr>\n",
       "    <tr>\n",
       "      <th>206335</th>\n",
       "      <td>https://gallica.bnf.fr/ark:/12148/btv1b531595399</td>\n",
       "      <td>majesté</td>\n",
       "    </tr>\n",
       "    <tr>\n",
       "      <th>207456</th>\n",
       "      <td>https://gallica.bnf.fr/ark:/12148/btv1b530921667</td>\n",
       "      <td>forme</td>\n",
       "    </tr>\n",
       "    <tr>\n",
       "      <th>220271</th>\n",
       "      <td>https://gallica.bnf.fr/ark:/12148/btv1b531595399</td>\n",
       "      <td>suite</td>\n",
       "    </tr>\n",
       "    <tr>\n",
       "      <th>262079</th>\n",
       "      <td>https://gallica.bnf.fr/ark:/12148/btv1b531595399</td>\n",
       "      <td>naser</td>\n",
       "    </tr>\n",
       "    <tr>\n",
       "      <th>276015</th>\n",
       "      <td>https://gallica.bnf.fr/ark:/12148/btv1b531595399</td>\n",
       "      <td>al-din</td>\n",
       "    </tr>\n",
       "  </tbody>\n",
       "</table>\n",
       "<p>19652 rows × 2 columns</p>\n",
       "</div>"
      ],
      "text/plain": [
       "                                                      id     tags\n",
       "10      https://gallica.bnf.fr/ark:/12148/btv1b53162160w    d'arc\n",
       "19      https://gallica.bnf.fr/ark:/12148/btv1b53162161b    d'arc\n",
       "26      https://gallica.bnf.fr/ark:/12148/btv1b530922119    schah\n",
       "33      https://gallica.bnf.fr/ark:/12148/btv1b530653663   député\n",
       "34      https://gallica.bnf.fr/ark:/12148/btv1b530923448    schah\n",
       "...                                                  ...      ...\n",
       "206335  https://gallica.bnf.fr/ark:/12148/btv1b531595399  majesté\n",
       "207456  https://gallica.bnf.fr/ark:/12148/btv1b530921667    forme\n",
       "220271  https://gallica.bnf.fr/ark:/12148/btv1b531595399    suite\n",
       "262079  https://gallica.bnf.fr/ark:/12148/btv1b531595399    naser\n",
       "276015  https://gallica.bnf.fr/ark:/12148/btv1b531595399   al-din\n",
       "\n",
       "[19652 rows x 2 columns]"
      ]
     },
     "execution_count": 46,
     "metadata": {},
     "output_type": "execute_result"
    }
   ],
   "source": [
    "tags_title_"
   ]
  },
  {
   "cell_type": "code",
   "execution_count": 47,
   "metadata": {},
   "outputs": [],
   "source": [
    "def get_taglist(df, n=10):\n",
    "    \n",
    "    return df[df['tags'].map(df['tags'].value_counts()) > n]"
   ]
  },
  {
   "cell_type": "code",
   "execution_count": 48,
   "metadata": {},
   "outputs": [],
   "source": [
    "taglist_title = list(get_taglist(tags_title_).tags.unique())"
   ]
  },
  {
   "cell_type": "code",
   "execution_count": 49,
   "metadata": {},
   "outputs": [],
   "source": [
    "#taglist_title"
   ]
  },
  {
   "cell_type": "code",
   "execution_count": 50,
   "metadata": {},
   "outputs": [],
   "source": [
    "tags_subject_ = tag_df.subject.apply(pd.Series).merge(tag_df, right_index=True, left_index=True) \\\n",
    "        .drop(['title','subject'],axis=1).melt(id_vars=['id'], value_name='tags').drop('variable', axis=1)\n",
    "\n"
   ]
  },
  {
   "cell_type": "code",
   "execution_count": 51,
   "metadata": {},
   "outputs": [],
   "source": [
    "tags_subject_ = tags_subject_[tags_subject_.tags.apply(filter_tags)]"
   ]
  },
  {
   "cell_type": "code",
   "execution_count": 52,
   "metadata": {},
   "outputs": [],
   "source": [
    "taglist_subject = list(get_taglist(tags_subject_, n=1).tags.unique())\n",
    "#taglist_subject"
   ]
  },
  {
   "cell_type": "code",
   "execution_count": 53,
   "metadata": {},
   "outputs": [],
   "source": [
    "#some manual work\n",
    "\n",
    "taglist_title_final = ['député', 'ambassade', 'ministre', 'bordas',\n",
    "       'compositeur', 'général', 'chinois', 'journaliste',\n",
    "       'opéra', 'sculpteur', 'vaudeviliste', 'peintre',\n",
    "       'colonel', 'auteur', 'historien', 'comédien', 'amiral',\n",
    "       'baretta', 'prince', 'chimiste', 'avocat',\n",
    "       'piccolo', 'comédie', 'romancier', 'abbé', \n",
    "       'écrivain', 'capitaine', 'navigation', 'vaudeville', \n",
    "       'châtelet', 'explorateur', 'aéronaute',\n",
    "       'critique', 'cantatrice', 'princesse', 'poète', 'violoniste',\n",
    "       'docteur',  'journal', 'marquis',\n",
    "       'dessinateur', 'musicien', 'chanteur',\n",
    "       'publiciste', 'chef', 'couturier', 'lanthelme', 'famille',\n",
    "       'opéra-comique', 'écuyère', 'actrice',\n",
    "       'napoléon', 'directeur', 'ecrivain', 'suite', 'anglaise',\n",
    "       'palais-royal', 'folies', 'cirque', 'ecuyère',\n",
    "        'théâtre-français', 'gymnase', 'frère',\n",
    "      'roi', 'folies-dramatiques',\n",
    "       'mousquetaires', 'bouffes-parisiens', 'professeur', 'groupe',\n",
    "       'littérateur', 'président', 'maison',\n",
    "       \n",
    "       'lyrique', 'cluny', 'reichemberg', 'folies-dramatiques', 'frères',\n",
    "       \n",
    "       'chevallier', 'danseuse',  \n",
    "       'décorateur', 'ambassadeur', \n",
    "       'politique', 'saint', 'république',\n",
    "        'droit',\n",
    "        'marquise', \n",
    "       'sénateur',\n",
    "       'artiste', 'cloches',\n",
    "       'majesté', 'japonaise', 'dramatique',\n",
    "       'comique', 'française', 'aérienne', 'conservatoire', 'bourgeois',\n",
    "       'italien', 'royal', \"l'institut\", \n",
    "       \"d'orchestre\", 'comédie-française', \n",
    "       'revue', 'bergère', \"d'hiver\", 'potter', 'dramatiques', \n",
    "       'suédoise', \"l'académie\", 'opéra-comique',\n",
    "       'orphée',\n",
    "       \n",
    "       'folies-dramatiques',\n",
    "       'vaudevill', 'odéon', 'phèdre', 'assassin', 'décoré',\n",
    "       'saint-martin', 'trouvère', 'vénus', \"l'arlésienne\",\n",
    "       'assommoir', \n",
    "       'cantinière', \"s'amuse\", 'amour', 'opéra', 'serment', 'rouge',\n",
    "       \n",
    "       'mascotte', 'gymnase',\n",
    "       'châtelet', \n",
    "       \n",
    "       'africaine',\n",
    "        'juanita', 'perse', 'musique',\n",
    "       'nouveau', 'lettres', 'russe', 'breuil', 'lantelme', 'hanovre',\n",
    "       'pyrénées', 'parisienne', 'ventre',\n",
    "\n",
    "       'chevalier', 'séville', 'américaine',  \"l'impératrice\",\n",
    "       'commune', 'cigale', 'saturnales', 'cendrillonnette', 'tzigane',\n",
    "       \n",
    "       'camarade', 'marchande', 'bicyclistes',\n",
    "       'sans-gêne', 'cousin-cousine', \"d'avignon\", 'pilules', 'fétiche',\n",
    "       'cliquette', \n",
    "       'patard', 'patart', 'joyeusetés', 'fantaisies-parisiennes',\n",
    "       'dramatiques', 'carreau',  'suzette', 'enfers', 'école',\n",
    "       \n",
    "       \n",
    "        'trèfle', \n",
    "\n",
    "        'tambour-major', 'couronne',\n",
    "        'diable',\n",
    "       'pyrennées', 'christ', 'hussard', 'galles', \"l'année\", 'chèvres',\n",
    "       'seigneur', 'clairette']"
   ]
  },
  {
   "cell_type": "code",
   "execution_count": null,
   "metadata": {},
   "outputs": [],
   "source": []
  },
  {
   "cell_type": "code",
   "execution_count": null,
   "metadata": {},
   "outputs": [],
   "source": []
  },
  {
   "cell_type": "code",
   "execution_count": 54,
   "metadata": {},
   "outputs": [],
   "source": [
    "tag_df['tags_title'] = tag_df.title.apply(lambda x: list(set(x).intersection(set(taglist_title_final)))) \n",
    "tag_df['tags_subject'] = tag_df.subject.apply(lambda x: list(set(x).intersection(set(taglist_subject)))) "
   ]
  },
  {
   "cell_type": "code",
   "execution_count": 55,
   "metadata": {},
   "outputs": [],
   "source": [
    "tag_df['tags'] = tag_df.tags_title + tag_df.tags_subject"
   ]
  },
  {
   "cell_type": "code",
   "execution_count": 56,
   "metadata": {},
   "outputs": [],
   "source": [
    "tag_df['len'] = tag_df.tags.apply(lambda x: len(x))"
   ]
  },
  {
   "cell_type": "code",
   "execution_count": 57,
   "metadata": {},
   "outputs": [
    {
     "data": {
      "text/html": [
       "<div>\n",
       "<style scoped>\n",
       "    .dataframe tbody tr th:only-of-type {\n",
       "        vertical-align: middle;\n",
       "    }\n",
       "\n",
       "    .dataframe tbody tr th {\n",
       "        vertical-align: top;\n",
       "    }\n",
       "\n",
       "    .dataframe thead th {\n",
       "        text-align: right;\n",
       "    }\n",
       "</style>\n",
       "<table border=\"1\" class=\"dataframe\">\n",
       "  <thead>\n",
       "    <tr style=\"text-align: right;\">\n",
       "      <th></th>\n",
       "      <th>id</th>\n",
       "      <th>title</th>\n",
       "      <th>subject</th>\n",
       "      <th>tags_title</th>\n",
       "      <th>tags_subject</th>\n",
       "      <th>tags</th>\n",
       "      <th>len</th>\n",
       "    </tr>\n",
       "  </thead>\n",
       "  <tbody>\n",
       "    <tr>\n",
       "      <th>14</th>\n",
       "      <td>https://gallica.bnf.fr/ark:/12148/btv1b53168871g</td>\n",
       "      <td>[me, opéra-comique]</td>\n",
       "      <td>[]</td>\n",
       "      <td>[opéra-comique]</td>\n",
       "      <td>[]</td>\n",
       "      <td>[opéra-comique]</td>\n",
       "      <td>1</td>\n",
       "    </tr>\n",
       "    <tr>\n",
       "      <th>38</th>\n",
       "      <td>https://gallica.bnf.fr/ark:/12148/btv1b53171027z</td>\n",
       "      <td>[me, variétés, les, variétés, de, l'année]</td>\n",
       "      <td>[]</td>\n",
       "      <td>[l'année]</td>\n",
       "      <td>[]</td>\n",
       "      <td>[l'année]</td>\n",
       "      <td>1</td>\n",
       "    </tr>\n",
       "    <tr>\n",
       "      <th>39</th>\n",
       "      <td>https://gallica.bnf.fr/ark:/12148/btv1b53171028d</td>\n",
       "      <td>[me, variétés, les, variétés, de, l'année]</td>\n",
       "      <td>[]</td>\n",
       "      <td>[l'année]</td>\n",
       "      <td>[]</td>\n",
       "      <td>[l'année]</td>\n",
       "      <td>1</td>\n",
       "    </tr>\n",
       "    <tr>\n",
       "      <th>45</th>\n",
       "      <td>https://gallica.bnf.fr/ark:/12148/btv1b53165012c</td>\n",
       "      <td>[me, folies-dramatiques, juanita]</td>\n",
       "      <td>[]</td>\n",
       "      <td>[juanita, folies-dramatiques]</td>\n",
       "      <td>[]</td>\n",
       "      <td>[juanita, folies-dramatiques]</td>\n",
       "      <td>2</td>\n",
       "    </tr>\n",
       "    <tr>\n",
       "      <th>50</th>\n",
       "      <td>https://gallica.bnf.fr/ark:/12148/btv1b53165010g</td>\n",
       "      <td>[m, folies-dramatiques, juanita]</td>\n",
       "      <td>[]</td>\n",
       "      <td>[juanita, folies-dramatiques]</td>\n",
       "      <td>[]</td>\n",
       "      <td>[juanita, folies-dramatiques]</td>\n",
       "      <td>2</td>\n",
       "    </tr>\n",
       "    <tr>\n",
       "      <th>...</th>\n",
       "      <td>...</td>\n",
       "      <td>...</td>\n",
       "      <td>...</td>\n",
       "      <td>...</td>\n",
       "      <td>...</td>\n",
       "      <td>...</td>\n",
       "      <td>...</td>\n",
       "    </tr>\n",
       "    <tr>\n",
       "      <th>23516</th>\n",
       "      <td>https://gallica.bnf.fr/ark:/12148/btv1b530506270</td>\n",
       "      <td>[de, journaliste]</td>\n",
       "      <td>[]</td>\n",
       "      <td>[journaliste]</td>\n",
       "      <td>[]</td>\n",
       "      <td>[journaliste]</td>\n",
       "      <td>1</td>\n",
       "    </tr>\n",
       "    <tr>\n",
       "      <th>23517</th>\n",
       "      <td>https://gallica.bnf.fr/ark:/12148/btv1b53065782n</td>\n",
       "      <td>[homme, de, lettres]</td>\n",
       "      <td>[]</td>\n",
       "      <td>[lettres]</td>\n",
       "      <td>[]</td>\n",
       "      <td>[lettres]</td>\n",
       "      <td>1</td>\n",
       "    </tr>\n",
       "    <tr>\n",
       "      <th>23519</th>\n",
       "      <td>https://gallica.bnf.fr/ark:/12148/btv1b53066278c</td>\n",
       "      <td>[directeur, des, bouffes]</td>\n",
       "      <td>[]</td>\n",
       "      <td>[directeur]</td>\n",
       "      <td>[]</td>\n",
       "      <td>[directeur]</td>\n",
       "      <td>1</td>\n",
       "    </tr>\n",
       "    <tr>\n",
       "      <th>23523</th>\n",
       "      <td>https://gallica.bnf.fr/ark:/12148/btv1b53118792t</td>\n",
       "      <td>[docteur]</td>\n",
       "      <td>[]</td>\n",
       "      <td>[docteur]</td>\n",
       "      <td>[]</td>\n",
       "      <td>[docteur]</td>\n",
       "      <td>1</td>\n",
       "    </tr>\n",
       "    <tr>\n",
       "      <th>23528</th>\n",
       "      <td>https://gallica.bnf.fr/ark:/12148/btv1b531203810</td>\n",
       "      <td>[m, hignette]</td>\n",
       "      <td>[Ombre portée]</td>\n",
       "      <td>[]</td>\n",
       "      <td>[Ombre portée]</td>\n",
       "      <td>[Ombre portée]</td>\n",
       "      <td>1</td>\n",
       "    </tr>\n",
       "  </tbody>\n",
       "</table>\n",
       "<p>6904 rows × 7 columns</p>\n",
       "</div>"
      ],
      "text/plain": [
       "                                                     id  \\\n",
       "14     https://gallica.bnf.fr/ark:/12148/btv1b53168871g   \n",
       "38     https://gallica.bnf.fr/ark:/12148/btv1b53171027z   \n",
       "39     https://gallica.bnf.fr/ark:/12148/btv1b53171028d   \n",
       "45     https://gallica.bnf.fr/ark:/12148/btv1b53165012c   \n",
       "50     https://gallica.bnf.fr/ark:/12148/btv1b53165010g   \n",
       "...                                                 ...   \n",
       "23516  https://gallica.bnf.fr/ark:/12148/btv1b530506270   \n",
       "23517  https://gallica.bnf.fr/ark:/12148/btv1b53065782n   \n",
       "23519  https://gallica.bnf.fr/ark:/12148/btv1b53066278c   \n",
       "23523  https://gallica.bnf.fr/ark:/12148/btv1b53118792t   \n",
       "23528  https://gallica.bnf.fr/ark:/12148/btv1b531203810   \n",
       "\n",
       "                                            title         subject  \\\n",
       "14                            [me, opéra-comique]              []   \n",
       "38     [me, variétés, les, variétés, de, l'année]              []   \n",
       "39     [me, variétés, les, variétés, de, l'année]              []   \n",
       "45              [me, folies-dramatiques, juanita]              []   \n",
       "50               [m, folies-dramatiques, juanita]              []   \n",
       "...                                           ...             ...   \n",
       "23516                           [de, journaliste]              []   \n",
       "23517                        [homme, de, lettres]              []   \n",
       "23519                   [directeur, des, bouffes]              []   \n",
       "23523                                   [docteur]              []   \n",
       "23528                               [m, hignette]  [Ombre portée]   \n",
       "\n",
       "                          tags_title    tags_subject  \\\n",
       "14                   [opéra-comique]              []   \n",
       "38                         [l'année]              []   \n",
       "39                         [l'année]              []   \n",
       "45     [juanita, folies-dramatiques]              []   \n",
       "50     [juanita, folies-dramatiques]              []   \n",
       "...                              ...             ...   \n",
       "23516                  [journaliste]              []   \n",
       "23517                      [lettres]              []   \n",
       "23519                    [directeur]              []   \n",
       "23523                      [docteur]              []   \n",
       "23528                             []  [Ombre portée]   \n",
       "\n",
       "                                tags  len  \n",
       "14                   [opéra-comique]    1  \n",
       "38                         [l'année]    1  \n",
       "39                         [l'année]    1  \n",
       "45     [juanita, folies-dramatiques]    2  \n",
       "50     [juanita, folies-dramatiques]    2  \n",
       "...                              ...  ...  \n",
       "23516                  [journaliste]    1  \n",
       "23517                      [lettres]    1  \n",
       "23519                    [directeur]    1  \n",
       "23523                      [docteur]    1  \n",
       "23528                 [Ombre portée]    1  \n",
       "\n",
       "[6904 rows x 7 columns]"
      ]
     },
     "execution_count": 57,
     "metadata": {},
     "output_type": "execute_result"
    }
   ],
   "source": [
    "tag_df[tag_df.len >0]"
   ]
  },
  {
   "cell_type": "code",
   "execution_count": null,
   "metadata": {},
   "outputs": [],
   "source": []
  },
  {
   "cell_type": "code",
   "execution_count": 58,
   "metadata": {},
   "outputs": [],
   "source": [
    "tag_id_df = pd.DataFrame(tag_df[['id','tags']], columns=['id','tags'])"
   ]
  },
  {
   "cell_type": "code",
   "execution_count": 59,
   "metadata": {},
   "outputs": [],
   "source": [
    "tag_id_df.to_pickle('data/tag-id.pkl')"
   ]
  },
  {
   "cell_type": "code",
   "execution_count": null,
   "metadata": {},
   "outputs": [],
   "source": []
  },
  {
   "cell_type": "markdown",
   "metadata": {},
   "source": [
    "# Fetch wikipedia article"
   ]
  },
  {
   "cell_type": "code",
   "execution_count": 60,
   "metadata": {},
   "outputs": [],
   "source": [
    "wiki_df = pd.DataFrame(df2[['id','subjects']])"
   ]
  },
  {
   "cell_type": "code",
   "execution_count": 61,
   "metadata": {},
   "outputs": [],
   "source": [
    "wiki_df['names'] = wiki_df.subjects.apply(is_name)"
   ]
  },
  {
   "cell_type": "code",
   "execution_count": 62,
   "metadata": {},
   "outputs": [
    {
     "data": {
      "text/plain": [
       "69       [Georges, Édouard (1829-1903), Armand, Victori...\n",
       "119      [Chevreul, Eugène (1786-1889), Chevreul, Henri...\n",
       "120      [Chevreul, Eugène (1786-1889), Chevreul, Henri...\n",
       "121      [Chevreul, Eugène (1786-1889), Nadar (1820-191...\n",
       "135      [Chevreul, Eugène (1786-1889), Chevreul, Henri...\n",
       "                               ...                        \n",
       "23392    [Hadamar, Zélie (1849-1902 ; actrice), Lambert...\n",
       "23445    [Hamburger, Edouard (18..-1886), Baron, Vincen...\n",
       "23450    [Lavallière, Ève (1866-1929), Dupuis, Joseph (...\n",
       "23468    [Mary-Albert, Madame (1855-....), Duhamel, Bia...\n",
       "23469    [Mary-Albert, Madame (1855-....), Duhamel, Bia...\n",
       "Name: names, Length: 65, dtype: object"
      ]
     },
     "execution_count": 62,
     "metadata": {},
     "output_type": "execute_result"
    }
   ],
   "source": [
    "wiki_df['names'][wiki_df.names.apply(lambda x:len(x)>2)]"
   ]
  },
  {
   "cell_type": "code",
   "execution_count": 63,
   "metadata": {},
   "outputs": [],
   "source": [
    "wiki_explode = wiki_df.explode('names')\n",
    "wiki_names = wiki_explode.names.unique()\n",
    "wiki_names = wiki_df.explode('names').unique()"
   ]
  },
  {
   "cell_type": "code",
   "execution_count": 64,
   "metadata": {},
   "outputs": [],
   "source": [
    "def hacked_summary(x):\n",
    "        \n",
    "    try:\n",
    "        x = re.sub('[,(;\\-)]', ' ', x)\n",
    "        keywords = re.findall('[\\S]+', x.lower())\n",
    "        keywords = list(compress(keywords, list(map(lambda x: re.findall('[\\d]+[\\.\\?]+', x.lower()) == [], keywords))))\n",
    "\n",
    "\n",
    "        p = wikipedia.page(x)\n",
    "\n",
    "        url = p.url\n",
    "        s = p.summary\n",
    "        weight = len(p.images)\n",
    "\n",
    "        mask = list(map(lambda x: s.lower().find(x) != -1 ,keywords))\n",
    "        se = list(compress(keywords, mask))\n",
    "\n",
    "        if len(se) == 0:\n",
    "            s = ''\n",
    "            weight = -1\n",
    "            url = -1\n",
    "                    \n",
    "        return [s, list(keywords), list(se), weight, url]\n",
    "        \n",
    "    except:\n",
    "        return ['', [], [],-1,'']"
   ]
  },
  {
   "cell_type": "code",
   "execution_count": 67,
   "metadata": {},
   "outputs": [
    {
     "name": "stderr",
     "output_type": "stream",
     "text": [
      "C:\\Users\\haeeun\\Anaconda3\\lib\\site-packages\\wikipedia\\wikipedia.py:389: UserWarning: No parser was explicitly specified, so I'm using the best available HTML parser for this system (\"lxml\"). This usually isn't a problem, but if you run this code on another system, or in a different virtual environment, it may use a different parser and behave differently.\n",
      "\n",
      "The code that caused this warning is on line 389 of the file C:\\Users\\haeeun\\Anaconda3\\lib\\site-packages\\wikipedia\\wikipedia.py. To get rid of this warning, pass the additional argument 'features=\"lxml\"' to the BeautifulSoup constructor.\n",
      "\n",
      "  lis = BeautifulSoup(html).find_all('li')\n"
     ]
    }
   ],
   "source": [
    "wiki_names = wiki_df.explode('names').unique()\n",
    "\n",
    "wiki_reset = False\n",
    "\n",
    "if wiki_reset:\n",
    "    wikipedia.set_lang('en')\n",
    "    wiki_en = pd.DataFrame(wiki_names, columns=['name'])\n",
    "    wiki_en['result'] = wiki_en.name.apply(hacked_summary)\n",
    "    wiki_en[['summary','keyword', 'keyword_found','weight','url']] = pd.DataFrame(wiki_en.result.values.tolist(), index= wiki_en.index)\n",
    "    \n",
    "    wikipedia.set_lang('fr')\n",
    "    wiki_fr = pd.DataFrame(wiki_names, columns=['name'])\n",
    "    wiki_fr['result_fr'] = wiki_fr.name.apply(hacked_summary)\n",
    "    wiki_fr[['summary_fr','keyword_fr', 'keyword_found_fr','weight_fr', 'url_fr']] = pd.DataFrame(wiki_fr.result_fr.values.tolist(), index= wiki_fr.index)\n",
    "\n",
    "# takes 2 hours"
   ]
  },
  {
   "cell_type": "code",
   "execution_count": 89,
   "metadata": {},
   "outputs": [],
   "source": [
    "#wiki.to_pickle('data/wiki_raw.pkl')\n",
    "\n",
    "\n",
    "if wiki_reset = False:\n",
    "\n",
    "    wiki = pd.read_pickle('data/wiki_raw.pkl')\n",
    "    wiki = wiki[(wiki.weight != -1) | (wiki.weight_fr != -1)]\n",
    "\n",
    "    wiki_en = wiki[['name','keyword_found','weight','url']]\n",
    "    wiki_fr = wiki[['name','keyword_found_fr','weight_fr','url_fr']]"
   ]
  },
  {
   "cell_type": "code",
   "execution_count": 101,
   "metadata": {},
   "outputs": [
    {
     "data": {
      "text/html": [
       "<div>\n",
       "<style scoped>\n",
       "    .dataframe tbody tr th:only-of-type {\n",
       "        vertical-align: middle;\n",
       "    }\n",
       "\n",
       "    .dataframe tbody tr th {\n",
       "        vertical-align: top;\n",
       "    }\n",
       "\n",
       "    .dataframe thead th {\n",
       "        text-align: right;\n",
       "    }\n",
       "</style>\n",
       "<table border=\"1\" class=\"dataframe\">\n",
       "  <thead>\n",
       "    <tr style=\"text-align: right;\">\n",
       "      <th></th>\n",
       "      <th>name</th>\n",
       "      <th>keyword_found</th>\n",
       "      <th>weight</th>\n",
       "      <th>url</th>\n",
       "    </tr>\n",
       "  </thead>\n",
       "  <tbody>\n",
       "    <tr>\n",
       "      <th>0</th>\n",
       "      <td>Auguez, Mathilde (1868-1955)</td>\n",
       "      <td>[auguez, mathilde, 1868, 1955]</td>\n",
       "      <td>6</td>\n",
       "      <td>https://en.wikipedia.org/wiki/Mathilde_Auguez</td>\n",
       "    </tr>\n",
       "    <tr>\n",
       "      <th>1</th>\n",
       "      <td>Bruant, Aristide (1851-1925)</td>\n",
       "      <td>[bruant, aristide, 1851, 1925]</td>\n",
       "      <td>3</td>\n",
       "      <td>https://en.wikipedia.org/wiki/Aristide_Bruant</td>\n",
       "    </tr>\n",
       "    <tr>\n",
       "      <th>4</th>\n",
       "      <td>Lender, Marcelle (1862-1926)</td>\n",
       "      <td>[lender, marcelle, 1862, 1926]</td>\n",
       "      <td>7</td>\n",
       "      <td>https://en.wikipedia.org/wiki/Marcelle_Lender</td>\n",
       "    </tr>\n",
       "    <tr>\n",
       "      <th>5</th>\n",
       "      <td>Bernhardt, Sarah (1844-1923)</td>\n",
       "      <td>[bernhardt, sarah, 1844, 1923]</td>\n",
       "      <td>45</td>\n",
       "      <td>https://en.wikipedia.org/wiki/Sarah_Bernhardt</td>\n",
       "    </tr>\n",
       "    <tr>\n",
       "      <th>11</th>\n",
       "      <td>Gille, Philippe (1831-1901)</td>\n",
       "      <td>[gille, philippe, 1831, 1901]</td>\n",
       "      <td>3</td>\n",
       "      <td>https://en.wikipedia.org/wiki/Philippe_Gille</td>\n",
       "    </tr>\n",
       "    <tr>\n",
       "      <th>...</th>\n",
       "      <td>...</td>\n",
       "      <td>...</td>\n",
       "      <td>...</td>\n",
       "      <td>...</td>\n",
       "    </tr>\n",
       "    <tr>\n",
       "      <th>1939</th>\n",
       "      <td>Schrader, Franz (1844-1924)</td>\n",
       "      <td>[schrader, franz, 1844, 1924]</td>\n",
       "      <td>4</td>\n",
       "      <td>https://en.wikipedia.org/wiki/Franz_Schrader</td>\n",
       "    </tr>\n",
       "    <tr>\n",
       "      <th>1940</th>\n",
       "      <td>Wolff, Pierre (1865-1944)</td>\n",
       "      <td>[wolff, pierre, 1865, 1944]</td>\n",
       "      <td>4</td>\n",
       "      <td>https://en.wikipedia.org/wiki/Pierre_Wolff</td>\n",
       "    </tr>\n",
       "    <tr>\n",
       "      <th>1943</th>\n",
       "      <td>Kaemmerer, Frederik Hendrik (1839-1902)</td>\n",
       "      <td>[kaemmerer, frederik, hendrik, 1839, 1902]</td>\n",
       "      <td>9</td>\n",
       "      <td>https://en.wikipedia.org/wiki/Frederik_Hendrik...</td>\n",
       "    </tr>\n",
       "    <tr>\n",
       "      <th>1953</th>\n",
       "      <td>Roujon, Henry (1853-1914)</td>\n",
       "      <td>[roujon, henry, 1853, 1914]</td>\n",
       "      <td>6</td>\n",
       "      <td>https://en.wikipedia.org/wiki/Henry_Roujon</td>\n",
       "    </tr>\n",
       "    <tr>\n",
       "      <th>1959</th>\n",
       "      <td>Jackson, Stonewall (1824-1863)</td>\n",
       "      <td>[jackson, stonewall, 1824, 1863]</td>\n",
       "      <td>48</td>\n",
       "      <td>https://en.wikipedia.org/wiki/Stonewall_Jackson</td>\n",
       "    </tr>\n",
       "  </tbody>\n",
       "</table>\n",
       "<p>714 rows × 4 columns</p>\n",
       "</div>"
      ],
      "text/plain": [
       "                                         name  \\\n",
       "0                Auguez, Mathilde (1868-1955)   \n",
       "1                Bruant, Aristide (1851-1925)   \n",
       "4                Lender, Marcelle (1862-1926)   \n",
       "5                Bernhardt, Sarah (1844-1923)   \n",
       "11                Gille, Philippe (1831-1901)   \n",
       "...                                       ...   \n",
       "1939              Schrader, Franz (1844-1924)   \n",
       "1940                Wolff, Pierre (1865-1944)   \n",
       "1943  Kaemmerer, Frederik Hendrik (1839-1902)   \n",
       "1953                Roujon, Henry (1853-1914)   \n",
       "1959           Jackson, Stonewall (1824-1863)   \n",
       "\n",
       "                                   keyword_found  weight  \\\n",
       "0                 [auguez, mathilde, 1868, 1955]       6   \n",
       "1                 [bruant, aristide, 1851, 1925]       3   \n",
       "4                 [lender, marcelle, 1862, 1926]       7   \n",
       "5                 [bernhardt, sarah, 1844, 1923]      45   \n",
       "11                 [gille, philippe, 1831, 1901]       3   \n",
       "...                                          ...     ...   \n",
       "1939               [schrader, franz, 1844, 1924]       4   \n",
       "1940                 [wolff, pierre, 1865, 1944]       4   \n",
       "1943  [kaemmerer, frederik, hendrik, 1839, 1902]       9   \n",
       "1953                 [roujon, henry, 1853, 1914]       6   \n",
       "1959            [jackson, stonewall, 1824, 1863]      48   \n",
       "\n",
       "                                                    url  \n",
       "0         https://en.wikipedia.org/wiki/Mathilde_Auguez  \n",
       "1         https://en.wikipedia.org/wiki/Aristide_Bruant  \n",
       "4         https://en.wikipedia.org/wiki/Marcelle_Lender  \n",
       "5         https://en.wikipedia.org/wiki/Sarah_Bernhardt  \n",
       "11         https://en.wikipedia.org/wiki/Philippe_Gille  \n",
       "...                                                 ...  \n",
       "1939       https://en.wikipedia.org/wiki/Franz_Schrader  \n",
       "1940         https://en.wikipedia.org/wiki/Pierre_Wolff  \n",
       "1943  https://en.wikipedia.org/wiki/Frederik_Hendrik...  \n",
       "1953         https://en.wikipedia.org/wiki/Henry_Roujon  \n",
       "1959    https://en.wikipedia.org/wiki/Stonewall_Jackson  \n",
       "\n",
       "[714 rows x 4 columns]"
      ]
     },
     "execution_count": 101,
     "metadata": {},
     "output_type": "execute_result"
    }
   ],
   "source": [
    "wiki_exclude_en = wiki_en['name'][wiki_en.keyword_found.apply(lambda x: len(x) == 1)].tolist()\n",
    "wiki_exclude_en.remove('Beraud, Jeanne (18..-1...)')\n",
    "\n",
    "wiki_en = wiki_en[wiki_en.weight != -1]\n",
    "wiki_en = wiki_en[wiki_en.name.apply(lambda x: x not in wiki_exclude_en)]\n",
    "wiki_en"
   ]
  },
  {
   "cell_type": "code",
   "execution_count": null,
   "metadata": {},
   "outputs": [],
   "source": [
    "wiki_exclude_fr = wiki_fr['name'][wiki_fr.keyword_found_fr.apply(lambda x: len(x) == 1)].tolist()\n",
    "wiki_exclude_fr.remove('Lockroy (1803-1891)')\n",
    "#wiki_exclude_fr"
   ]
  },
  {
   "cell_type": "code",
   "execution_count": null,
   "metadata": {},
   "outputs": [],
   "source": [
    "wiki_fr = wiki_fr[wiki_fr.weight_fr != -1]\n",
    "wiki_fr = wiki_fr[wiki_fr.name.apply(lambda x: x not in wiki_exclude_fr)]\n",
    "#wiki_fr"
   ]
  },
  {
   "cell_type": "code",
   "execution_count": 115,
   "metadata": {},
   "outputs": [
    {
     "data": {
      "text/html": [
       "<div>\n",
       "<style scoped>\n",
       "    .dataframe tbody tr th:only-of-type {\n",
       "        vertical-align: middle;\n",
       "    }\n",
       "\n",
       "    .dataframe tbody tr th {\n",
       "        vertical-align: top;\n",
       "    }\n",
       "\n",
       "    .dataframe thead th {\n",
       "        text-align: right;\n",
       "    }\n",
       "</style>\n",
       "<table border=\"1\" class=\"dataframe\">\n",
       "  <thead>\n",
       "    <tr style=\"text-align: right;\">\n",
       "      <th></th>\n",
       "      <th>name</th>\n",
       "      <th>keyword_found_fr</th>\n",
       "      <th>weight_fr</th>\n",
       "      <th>url_fr</th>\n",
       "    </tr>\n",
       "  </thead>\n",
       "  <tbody>\n",
       "    <tr>\n",
       "      <th>0</th>\n",
       "      <td>Auguez, Mathilde (1868-1955)</td>\n",
       "      <td>[auguez, mathilde, 1868, 1955]</td>\n",
       "      <td>7</td>\n",
       "      <td>https://fr.wikipedia.org/wiki/Mathilde_Auguez</td>\n",
       "    </tr>\n",
       "    <tr>\n",
       "      <th>1</th>\n",
       "      <td>Bruant, Aristide (1851-1925)</td>\n",
       "      <td>[bruant, aristide, 1851, 1925]</td>\n",
       "      <td>16</td>\n",
       "      <td>https://fr.wikipedia.org/wiki/Aristide_Bruant</td>\n",
       "    </tr>\n",
       "    <tr>\n",
       "      <th>2</th>\n",
       "      <td>Brasseur, Albert (1862-1932)</td>\n",
       "      <td>[brasseur, albert, 1862, 1932]</td>\n",
       "      <td>13</td>\n",
       "      <td>https://fr.wikipedia.org/wiki/Albert_Brasseur</td>\n",
       "    </tr>\n",
       "    <tr>\n",
       "      <th>5</th>\n",
       "      <td>Bernhardt, Sarah (1844-1923)</td>\n",
       "      <td>[bernhardt, sarah, 1844, 1923]</td>\n",
       "      <td>43</td>\n",
       "      <td>https://fr.wikipedia.org/wiki/Sarah_Bernhardt</td>\n",
       "    </tr>\n",
       "    <tr>\n",
       "      <th>9</th>\n",
       "      <td>Gobin, Charles Constant (1843-1907)</td>\n",
       "      <td>[gobin, charles, constant, 1843, 1907]</td>\n",
       "      <td>12</td>\n",
       "      <td>https://fr.wikipedia.org/wiki/Charles_Constant...</td>\n",
       "    </tr>\n",
       "    <tr>\n",
       "      <th>...</th>\n",
       "      <td>...</td>\n",
       "      <td>...</td>\n",
       "      <td>...</td>\n",
       "      <td>...</td>\n",
       "    </tr>\n",
       "    <tr>\n",
       "      <th>1943</th>\n",
       "      <td>Kaemmerer, Frederik Hendrik (1839-1902)</td>\n",
       "      <td>[kaemmerer, frederik, hendrik, 1839, 1902]</td>\n",
       "      <td>5</td>\n",
       "      <td>https://fr.wikipedia.org/wiki/Frederik_Hendrik...</td>\n",
       "    </tr>\n",
       "    <tr>\n",
       "      <th>1953</th>\n",
       "      <td>Roujon, Henry (1853-1914)</td>\n",
       "      <td>[roujon, henry, 1853, 1914]</td>\n",
       "      <td>8</td>\n",
       "      <td>https://fr.wikipedia.org/wiki/Henry_Roujon</td>\n",
       "    </tr>\n",
       "    <tr>\n",
       "      <th>1955</th>\n",
       "      <td>Maison Doucet (Paris)</td>\n",
       "      <td>[doucet, paris]</td>\n",
       "      <td>24</td>\n",
       "      <td>https://fr.wikipedia.org/wiki/Jacques_Doucet_(...</td>\n",
       "    </tr>\n",
       "    <tr>\n",
       "      <th>1959</th>\n",
       "      <td>Jackson, Stonewall (1824-1863)</td>\n",
       "      <td>[jackson, stonewall, 1824, 1863]</td>\n",
       "      <td>13</td>\n",
       "      <td>https://fr.wikipedia.org/wiki/Thomas_Jonathan_...</td>\n",
       "    </tr>\n",
       "    <tr>\n",
       "      <th>1960</th>\n",
       "      <td>Delaunay, Louis Arsène (1826-1903)</td>\n",
       "      <td>[delaunay, louis, arsène, 1826, 1903]</td>\n",
       "      <td>5</td>\n",
       "      <td>https://fr.wikipedia.org/wiki/Louis-Ars%C3%A8n...</td>\n",
       "    </tr>\n",
       "  </tbody>\n",
       "</table>\n",
       "<p>1039 rows × 4 columns</p>\n",
       "</div>"
      ],
      "text/plain": [
       "                                         name  \\\n",
       "0                Auguez, Mathilde (1868-1955)   \n",
       "1                Bruant, Aristide (1851-1925)   \n",
       "2                Brasseur, Albert (1862-1932)   \n",
       "5                Bernhardt, Sarah (1844-1923)   \n",
       "9         Gobin, Charles Constant (1843-1907)   \n",
       "...                                       ...   \n",
       "1943  Kaemmerer, Frederik Hendrik (1839-1902)   \n",
       "1953                Roujon, Henry (1853-1914)   \n",
       "1955                    Maison Doucet (Paris)   \n",
       "1959           Jackson, Stonewall (1824-1863)   \n",
       "1960       Delaunay, Louis Arsène (1826-1903)   \n",
       "\n",
       "                                keyword_found_fr  weight_fr  \\\n",
       "0                 [auguez, mathilde, 1868, 1955]          7   \n",
       "1                 [bruant, aristide, 1851, 1925]         16   \n",
       "2                 [brasseur, albert, 1862, 1932]         13   \n",
       "5                 [bernhardt, sarah, 1844, 1923]         43   \n",
       "9         [gobin, charles, constant, 1843, 1907]         12   \n",
       "...                                          ...        ...   \n",
       "1943  [kaemmerer, frederik, hendrik, 1839, 1902]          5   \n",
       "1953                 [roujon, henry, 1853, 1914]          8   \n",
       "1955                             [doucet, paris]         24   \n",
       "1959            [jackson, stonewall, 1824, 1863]         13   \n",
       "1960       [delaunay, louis, arsène, 1826, 1903]          5   \n",
       "\n",
       "                                                 url_fr  \n",
       "0         https://fr.wikipedia.org/wiki/Mathilde_Auguez  \n",
       "1         https://fr.wikipedia.org/wiki/Aristide_Bruant  \n",
       "2         https://fr.wikipedia.org/wiki/Albert_Brasseur  \n",
       "5         https://fr.wikipedia.org/wiki/Sarah_Bernhardt  \n",
       "9     https://fr.wikipedia.org/wiki/Charles_Constant...  \n",
       "...                                                 ...  \n",
       "1943  https://fr.wikipedia.org/wiki/Frederik_Hendrik...  \n",
       "1953         https://fr.wikipedia.org/wiki/Henry_Roujon  \n",
       "1955  https://fr.wikipedia.org/wiki/Jacques_Doucet_(...  \n",
       "1959  https://fr.wikipedia.org/wiki/Thomas_Jonathan_...  \n",
       "1960  https://fr.wikipedia.org/wiki/Louis-Ars%C3%A8n...  \n",
       "\n",
       "[1039 rows x 4 columns]"
      ]
     },
     "execution_count": 115,
     "metadata": {},
     "output_type": "execute_result"
    }
   ],
   "source": [
    "wiki_fr"
   ]
  },
  {
   "cell_type": "code",
   "execution_count": 120,
   "metadata": {},
   "outputs": [
    {
     "data": {
      "text/html": [
       "<div>\n",
       "<style scoped>\n",
       "    .dataframe tbody tr th:only-of-type {\n",
       "        vertical-align: middle;\n",
       "    }\n",
       "\n",
       "    .dataframe tbody tr th {\n",
       "        vertical-align: top;\n",
       "    }\n",
       "\n",
       "    .dataframe thead th {\n",
       "        text-align: right;\n",
       "    }\n",
       "</style>\n",
       "<table border=\"1\" class=\"dataframe\">\n",
       "  <thead>\n",
       "    <tr style=\"text-align: right;\">\n",
       "      <th></th>\n",
       "      <th>name</th>\n",
       "      <th>keyword_found_fr</th>\n",
       "      <th>weight_fr</th>\n",
       "      <th>url_fr</th>\n",
       "    </tr>\n",
       "  </thead>\n",
       "  <tbody>\n",
       "    <tr>\n",
       "      <th>365</th>\n",
       "      <td>Lockroy (1803-1891)</td>\n",
       "      <td>[lockroy]</td>\n",
       "      <td>6</td>\n",
       "      <td>https://fr.wikipedia.org/wiki/Lockroy</td>\n",
       "    </tr>\n",
       "  </tbody>\n",
       "</table>\n",
       "</div>"
      ],
      "text/plain": [
       "                    name keyword_found_fr  weight_fr  \\\n",
       "365  Lockroy (1803-1891)        [lockroy]          6   \n",
       "\n",
       "                                    url_fr  \n",
       "365  https://fr.wikipedia.org/wiki/Lockroy  "
      ]
     },
     "execution_count": 120,
     "metadata": {},
     "output_type": "execute_result"
    }
   ],
   "source": [
    "lockroy = wikipedia.page('Lockroy', auto_suggest=False)\n",
    "wiki_fr.loc[wiki_fr['name'] == 'Lockroy (1803-1891)', ['weight_fr', 'url_fr']] = [len(lockroy.images), lockroy.url]\n",
    "wiki_fr[wiki_fr.name == 'Lockroy (1803-1891)']"
   ]
  },
  {
   "cell_type": "code",
   "execution_count": null,
   "metadata": {},
   "outputs": [],
   "source": [
    "wiki_en.to_pickle('data/wiki_en_summaries.pkl')\n",
    "wiki_fr.to_pickle('data/wiki_fr_summaries.pkl')"
   ]
  },
  {
   "cell_type": "code",
   "execution_count": 122,
   "metadata": {},
   "outputs": [],
   "source": []
  },
  {
   "cell_type": "code",
   "execution_count": null,
   "metadata": {},
   "outputs": [],
   "source": []
  },
  {
   "cell_type": "code",
   "execution_count": null,
   "metadata": {},
   "outputs": [],
   "source": []
  },
  {
   "cell_type": "code",
   "execution_count": null,
   "metadata": {},
   "outputs": [],
   "source": []
  },
  {
   "cell_type": "code",
   "execution_count": null,
   "metadata": {},
   "outputs": [],
   "source": []
  },
  {
   "cell_type": "code",
   "execution_count": null,
   "metadata": {},
   "outputs": [],
   "source": []
  },
  {
   "cell_type": "code",
   "execution_count": null,
   "metadata": {},
   "outputs": [],
   "source": []
  },
  {
   "cell_type": "markdown",
   "metadata": {},
   "source": [
    "# Fetch BnF description"
   ]
  },
  {
   "cell_type": "code",
   "execution_count": null,
   "metadata": {},
   "outputs": [],
   "source": []
  },
  {
   "cell_type": "code",
   "execution_count": 95,
   "metadata": {},
   "outputs": [],
   "source": [
    "def reorder_names(x):\n",
    "    names_order = {1:[0],2:[1,0], 3:[2,0,1], 4:[3,0,1,2], 5:[4,0,1,2,3]}\n",
    "    s = x.split(',')\n",
    "    m = names_order[len(s)]\n",
    "    return ' '.join([y.strip() for x,y in sorted(zip(m,s))])\n",
    "    "
   ]
  },
  {
   "cell_type": "code",
   "execution_count": null,
   "metadata": {},
   "outputs": [],
   "source": []
  },
  {
   "cell_type": "code",
   "execution_count": 678,
   "metadata": {},
   "outputs": [],
   "source": [
    "names_df = wiki_df.explode('names')[['names']].dropna().drop_duplicates()"
   ]
  },
  {
   "cell_type": "code",
   "execution_count": 680,
   "metadata": {},
   "outputs": [],
   "source": [
    "names_df = names_df.rename(columns={'names':'title'})"
   ]
  },
  {
   "cell_type": "code",
   "execution_count": null,
   "metadata": {},
   "outputs": [],
   "source": []
  },
  {
   "cell_type": "code",
   "execution_count": 681,
   "metadata": {},
   "outputs": [],
   "source": [
    "names_df['name'] = names_df.title.apply(lambda x: x.split('(')[0].strip())"
   ]
  },
  {
   "cell_type": "code",
   "execution_count": 682,
   "metadata": {},
   "outputs": [],
   "source": [
    "names_df['ordered_name'] = names_df.name.apply(reorder_names)"
   ]
  },
  {
   "cell_type": "code",
   "execution_count": 683,
   "metadata": {},
   "outputs": [
    {
     "data": {
      "text/html": [
       "<div>\n",
       "<style scoped>\n",
       "    .dataframe tbody tr th:only-of-type {\n",
       "        vertical-align: middle;\n",
       "    }\n",
       "\n",
       "    .dataframe tbody tr th {\n",
       "        vertical-align: top;\n",
       "    }\n",
       "\n",
       "    .dataframe thead th {\n",
       "        text-align: right;\n",
       "    }\n",
       "</style>\n",
       "<table border=\"1\" class=\"dataframe\">\n",
       "  <thead>\n",
       "    <tr style=\"text-align: right;\">\n",
       "      <th></th>\n",
       "      <th>title</th>\n",
       "      <th>name</th>\n",
       "      <th>ordered_name</th>\n",
       "    </tr>\n",
       "  </thead>\n",
       "  <tbody>\n",
       "    <tr>\n",
       "      <th>7</th>\n",
       "      <td>Auguez, Mathilde (1868-1955)</td>\n",
       "      <td>Auguez, Mathilde</td>\n",
       "      <td>Mathilde Auguez</td>\n",
       "    </tr>\n",
       "    <tr>\n",
       "      <th>9</th>\n",
       "      <td>Bruant, Aristide (1851-1925)</td>\n",
       "      <td>Bruant, Aristide</td>\n",
       "      <td>Aristide Bruant</td>\n",
       "    </tr>\n",
       "    <tr>\n",
       "      <th>13</th>\n",
       "      <td>Brasseur, Albert (1862-1932)</td>\n",
       "      <td>Brasseur, Albert</td>\n",
       "      <td>Albert Brasseur</td>\n",
       "    </tr>\n",
       "    <tr>\n",
       "      <th>19</th>\n",
       "      <td>Decroza, Francine (1868-19..)</td>\n",
       "      <td>Decroza, Francine</td>\n",
       "      <td>Francine Decroza</td>\n",
       "    </tr>\n",
       "    <tr>\n",
       "      <th>30</th>\n",
       "      <td>Lender, Marcelle (1862-1926)</td>\n",
       "      <td>Lender, Marcelle</td>\n",
       "      <td>Marcelle Lender</td>\n",
       "    </tr>\n",
       "    <tr>\n",
       "      <th>...</th>\n",
       "      <td>...</td>\n",
       "      <td>...</td>\n",
       "      <td>...</td>\n",
       "    </tr>\n",
       "    <tr>\n",
       "      <th>23236</th>\n",
       "      <td>Jackson, Stonewall (1824-1863)</td>\n",
       "      <td>Jackson, Stonewall</td>\n",
       "      <td>Stonewall Jackson</td>\n",
       "    </tr>\n",
       "    <tr>\n",
       "      <th>23241</th>\n",
       "      <td>Delaunay, Louis Arsène (1826-1903)</td>\n",
       "      <td>Delaunay, Louis Arsène</td>\n",
       "      <td>Louis Arsène Delaunay</td>\n",
       "    </tr>\n",
       "    <tr>\n",
       "      <th>23445</th>\n",
       "      <td>Hamburger, Edouard (18..-1886)</td>\n",
       "      <td>Hamburger, Edouard</td>\n",
       "      <td>Edouard Hamburger</td>\n",
       "    </tr>\n",
       "    <tr>\n",
       "      <th>23445</th>\n",
       "      <td>Lamy, François (18..-1903)</td>\n",
       "      <td>Lamy, François</td>\n",
       "      <td>François Lamy</td>\n",
       "    </tr>\n",
       "    <tr>\n",
       "      <th>23518</th>\n",
       "      <td>Delessert, Eugène (1819-1877)</td>\n",
       "      <td>Delessert, Eugène</td>\n",
       "      <td>Eugène Delessert</td>\n",
       "    </tr>\n",
       "  </tbody>\n",
       "</table>\n",
       "<p>1963 rows × 3 columns</p>\n",
       "</div>"
      ],
      "text/plain": [
       "                                    title                    name  \\\n",
       "7            Auguez, Mathilde (1868-1955)        Auguez, Mathilde   \n",
       "9            Bruant, Aristide (1851-1925)        Bruant, Aristide   \n",
       "13           Brasseur, Albert (1862-1932)        Brasseur, Albert   \n",
       "19          Decroza, Francine (1868-19..)       Decroza, Francine   \n",
       "30           Lender, Marcelle (1862-1926)        Lender, Marcelle   \n",
       "...                                   ...                     ...   \n",
       "23236      Jackson, Stonewall (1824-1863)      Jackson, Stonewall   \n",
       "23241  Delaunay, Louis Arsène (1826-1903)  Delaunay, Louis Arsène   \n",
       "23445      Hamburger, Edouard (18..-1886)      Hamburger, Edouard   \n",
       "23445          Lamy, François (18..-1903)          Lamy, François   \n",
       "23518       Delessert, Eugène (1819-1877)       Delessert, Eugène   \n",
       "\n",
       "                ordered_name  \n",
       "7            Mathilde Auguez  \n",
       "9            Aristide Bruant  \n",
       "13           Albert Brasseur  \n",
       "19          Francine Decroza  \n",
       "30           Marcelle Lender  \n",
       "...                      ...  \n",
       "23236      Stonewall Jackson  \n",
       "23241  Louis Arsène Delaunay  \n",
       "23445      Edouard Hamburger  \n",
       "23445          François Lamy  \n",
       "23518       Eugène Delessert  \n",
       "\n",
       "[1963 rows x 3 columns]"
      ]
     },
     "execution_count": 683,
     "metadata": {},
     "output_type": "execute_result"
    }
   ],
   "source": [
    "names_df"
   ]
  },
  {
   "cell_type": "code",
   "execution_count": 685,
   "metadata": {},
   "outputs": [],
   "source": [
    "names_df['sup'] =  names_df.title.apply(lambda x: str(re.findall('\\(\\S+\\)',x)).strip(\"['']\"))"
   ]
  },
  {
   "cell_type": "code",
   "execution_count": 539,
   "metadata": {},
   "outputs": [
    {
     "data": {
      "text/html": [
       "<div>\n",
       "<style scoped>\n",
       "    .dataframe tbody tr th:only-of-type {\n",
       "        vertical-align: middle;\n",
       "    }\n",
       "\n",
       "    .dataframe tbody tr th {\n",
       "        vertical-align: top;\n",
       "    }\n",
       "\n",
       "    .dataframe thead th {\n",
       "        text-align: right;\n",
       "    }\n",
       "</style>\n",
       "<table border=\"1\" class=\"dataframe\">\n",
       "  <thead>\n",
       "    <tr style=\"text-align: right;\">\n",
       "      <th></th>\n",
       "      <th>title</th>\n",
       "      <th>name</th>\n",
       "      <th>ordered_name</th>\n",
       "      <th>year</th>\n",
       "      <th>sup</th>\n",
       "    </tr>\n",
       "  </thead>\n",
       "  <tbody>\n",
       "    <tr>\n",
       "      <th>7</th>\n",
       "      <td>Auguez, Mathilde (1868-1955)</td>\n",
       "      <td>Auguez, Mathilde</td>\n",
       "      <td>Mathilde Auguez</td>\n",
       "      <td>(1868-1955)</td>\n",
       "      <td>(1868-1955)</td>\n",
       "    </tr>\n",
       "    <tr>\n",
       "      <th>9</th>\n",
       "      <td>Bruant, Aristide (1851-1925)</td>\n",
       "      <td>Bruant, Aristide</td>\n",
       "      <td>Aristide Bruant</td>\n",
       "      <td>(1851-1925)</td>\n",
       "      <td>(1851-1925)</td>\n",
       "    </tr>\n",
       "    <tr>\n",
       "      <th>13</th>\n",
       "      <td>Brasseur, Albert (1862-1932)</td>\n",
       "      <td>Brasseur, Albert</td>\n",
       "      <td>Albert Brasseur</td>\n",
       "      <td>(1862-1932)</td>\n",
       "      <td>(1862-1932)</td>\n",
       "    </tr>\n",
       "    <tr>\n",
       "      <th>19</th>\n",
       "      <td>Decroza, Francine (1868-19..)</td>\n",
       "      <td>Decroza, Francine</td>\n",
       "      <td>Francine Decroza</td>\n",
       "      <td>(1868-19..)</td>\n",
       "      <td>(1868-19..)</td>\n",
       "    </tr>\n",
       "    <tr>\n",
       "      <th>30</th>\n",
       "      <td>Lender, Marcelle (1862-1926)</td>\n",
       "      <td>Lender, Marcelle</td>\n",
       "      <td>Marcelle Lender</td>\n",
       "      <td>(1862-1926)</td>\n",
       "      <td>(1862-1926)</td>\n",
       "    </tr>\n",
       "    <tr>\n",
       "      <th>...</th>\n",
       "      <td>...</td>\n",
       "      <td>...</td>\n",
       "      <td>...</td>\n",
       "      <td>...</td>\n",
       "      <td>...</td>\n",
       "    </tr>\n",
       "    <tr>\n",
       "      <th>23236</th>\n",
       "      <td>Jackson, Stonewall (1824-1863)</td>\n",
       "      <td>Jackson, Stonewall</td>\n",
       "      <td>Stonewall Jackson</td>\n",
       "      <td>(1824-1863)</td>\n",
       "      <td>(1824-1863)</td>\n",
       "    </tr>\n",
       "    <tr>\n",
       "      <th>23241</th>\n",
       "      <td>Delaunay, Louis Arsène (1826-1903)</td>\n",
       "      <td>Delaunay, Louis Arsène</td>\n",
       "      <td>Louis Arsène Delaunay</td>\n",
       "      <td>(1826-1903)</td>\n",
       "      <td>(1826-1903)</td>\n",
       "    </tr>\n",
       "    <tr>\n",
       "      <th>23445</th>\n",
       "      <td>Hamburger, Edouard (18..-1886)</td>\n",
       "      <td>Hamburger, Edouard</td>\n",
       "      <td>Edouard Hamburger</td>\n",
       "      <td>(18..-1886)</td>\n",
       "      <td>(18..-1886)</td>\n",
       "    </tr>\n",
       "    <tr>\n",
       "      <th>23445</th>\n",
       "      <td>Lamy, François (18..-1903)</td>\n",
       "      <td>Lamy, François</td>\n",
       "      <td>François Lamy</td>\n",
       "      <td>(18..-1903)</td>\n",
       "      <td>(18..-1903)</td>\n",
       "    </tr>\n",
       "    <tr>\n",
       "      <th>23518</th>\n",
       "      <td>Delessert, Eugène (1819-1877)</td>\n",
       "      <td>Delessert, Eugène</td>\n",
       "      <td>Eugène Delessert</td>\n",
       "      <td>(1819-1877)</td>\n",
       "      <td>(1819-1877)</td>\n",
       "    </tr>\n",
       "  </tbody>\n",
       "</table>\n",
       "<p>1963 rows × 5 columns</p>\n",
       "</div>"
      ],
      "text/plain": [
       "                                    title                    name  \\\n",
       "7            Auguez, Mathilde (1868-1955)        Auguez, Mathilde   \n",
       "9            Bruant, Aristide (1851-1925)        Bruant, Aristide   \n",
       "13           Brasseur, Albert (1862-1932)        Brasseur, Albert   \n",
       "19          Decroza, Francine (1868-19..)       Decroza, Francine   \n",
       "30           Lender, Marcelle (1862-1926)        Lender, Marcelle   \n",
       "...                                   ...                     ...   \n",
       "23236      Jackson, Stonewall (1824-1863)      Jackson, Stonewall   \n",
       "23241  Delaunay, Louis Arsène (1826-1903)  Delaunay, Louis Arsène   \n",
       "23445      Hamburger, Edouard (18..-1886)      Hamburger, Edouard   \n",
       "23445          Lamy, François (18..-1903)          Lamy, François   \n",
       "23518       Delessert, Eugène (1819-1877)       Delessert, Eugène   \n",
       "\n",
       "                ordered_name         year          sup  \n",
       "7            Mathilde Auguez  (1868-1955)  (1868-1955)  \n",
       "9            Aristide Bruant  (1851-1925)  (1851-1925)  \n",
       "13           Albert Brasseur  (1862-1932)  (1862-1932)  \n",
       "19          Francine Decroza  (1868-19..)  (1868-19..)  \n",
       "30           Marcelle Lender  (1862-1926)  (1862-1926)  \n",
       "...                      ...          ...          ...  \n",
       "23236      Stonewall Jackson  (1824-1863)  (1824-1863)  \n",
       "23241  Louis Arsène Delaunay  (1826-1903)  (1826-1903)  \n",
       "23445      Edouard Hamburger  (18..-1886)  (18..-1886)  \n",
       "23445          François Lamy  (18..-1903)  (18..-1903)  \n",
       "23518       Eugène Delessert  (1819-1877)  (1819-1877)  \n",
       "\n",
       "[1963 rows x 5 columns]"
      ]
     },
     "execution_count": 539,
     "metadata": {},
     "output_type": "execute_result"
    }
   ],
   "source": [
    "names_df[names_df.name == 'Nicolas II']\n",
    "names_df\n",
    "#names_df['year'] =  names_df.title.apply(lambda x: str(re.findall('\\(1[789].+-1[89\\.].+',x)).strip(\"['']\"))"
   ]
  },
  {
   "cell_type": "code",
   "execution_count": null,
   "metadata": {},
   "outputs": [],
   "source": []
  },
  {
   "cell_type": "code",
   "execution_count": 97,
   "metadata": {},
   "outputs": [],
   "source": []
  },
  {
   "cell_type": "code",
   "execution_count": null,
   "metadata": {},
   "outputs": [],
   "source": []
  },
  {
   "cell_type": "code",
   "execution_count": 98,
   "metadata": {},
   "outputs": [],
   "source": [
    "def sparql_str() :\n",
    "    pass"
   ]
  },
  {
   "cell_type": "code",
   "execution_count": 366,
   "metadata": {},
   "outputs": [],
   "source": [
    "def sparql_uri(x, option='name'):\n",
    "    if option == 'name':\n",
    "        sparql_str.__doc__ = 'PREFIX foaf: <http://xmlns.com/foaf/0.1/>    SELECT ?pers     WHERE {    ?pers foaf:name \"%s\".    }    LIMIT 200' % (x)\n",
    "    elif option == 'familyName':        \n",
    "        sparql_str.__doc__ = 'PREFIX foaf: <http://xmlns.com/foaf/0.1/>    SELECT ?pers     WHERE {    ?pers foaf:familyName \"%s\".    }    LIMIT 200' % (x)        \n",
    "    elif option == 'givenName':\n",
    "        pass\n",
    "        \n",
    "    sparql = SPARQLWrapper(\"http://data.bnf.fr/sparql\")\n",
    "    sparql.setQuery(sparql_str.__doc__)\n",
    "    sparql.setReturnFormat(XML)\n",
    "    results = sparql.query().convert()\n",
    "    xml_ = results.toxml()\n",
    "    return list(map(lambda x: x[5:-6], re.findall(\"<uri>\\S*</uri>\", xml_)))"
   ]
  },
  {
   "cell_type": "code",
   "execution_count": 297,
   "metadata": {},
   "outputs": [
    {
     "data": {
      "text/html": [
       "<div>\n",
       "<style scoped>\n",
       "    .dataframe tbody tr th:only-of-type {\n",
       "        vertical-align: middle;\n",
       "    }\n",
       "\n",
       "    .dataframe tbody tr th {\n",
       "        vertical-align: top;\n",
       "    }\n",
       "\n",
       "    .dataframe thead th {\n",
       "        text-align: right;\n",
       "    }\n",
       "</style>\n",
       "<table border=\"1\" class=\"dataframe\">\n",
       "  <thead>\n",
       "    <tr style=\"text-align: right;\">\n",
       "      <th></th>\n",
       "      <th>title</th>\n",
       "      <th>name</th>\n",
       "      <th>ordered_name</th>\n",
       "      <th>year</th>\n",
       "    </tr>\n",
       "  </thead>\n",
       "  <tbody>\n",
       "    <tr>\n",
       "      <th>7</th>\n",
       "      <td>Auguez, Mathilde (1868-1955)</td>\n",
       "      <td>Auguez, Mathilde</td>\n",
       "      <td>Mathilde Auguez</td>\n",
       "      <td>(1868-1955)</td>\n",
       "    </tr>\n",
       "    <tr>\n",
       "      <th>9</th>\n",
       "      <td>Bruant, Aristide (1851-1925)</td>\n",
       "      <td>Bruant, Aristide</td>\n",
       "      <td>Aristide Bruant</td>\n",
       "      <td>(1851-1925)</td>\n",
       "    </tr>\n",
       "    <tr>\n",
       "      <th>13</th>\n",
       "      <td>Brasseur, Albert (1862-1932)</td>\n",
       "      <td>Brasseur, Albert</td>\n",
       "      <td>Albert Brasseur</td>\n",
       "      <td>(1862-1932)</td>\n",
       "    </tr>\n",
       "    <tr>\n",
       "      <th>19</th>\n",
       "      <td>Decroza, Francine (1868-19..)</td>\n",
       "      <td>Decroza, Francine</td>\n",
       "      <td>Francine Decroza</td>\n",
       "      <td>(1868-19..)</td>\n",
       "    </tr>\n",
       "    <tr>\n",
       "      <th>30</th>\n",
       "      <td>Lender, Marcelle (1862-1926)</td>\n",
       "      <td>Lender, Marcelle</td>\n",
       "      <td>Marcelle Lender</td>\n",
       "      <td>(1862-1926)</td>\n",
       "    </tr>\n",
       "    <tr>\n",
       "      <th>...</th>\n",
       "      <td>...</td>\n",
       "      <td>...</td>\n",
       "      <td>...</td>\n",
       "      <td>...</td>\n",
       "    </tr>\n",
       "    <tr>\n",
       "      <th>23236</th>\n",
       "      <td>Jackson, Stonewall (1824-1863)</td>\n",
       "      <td>Jackson, Stonewall</td>\n",
       "      <td>Stonewall Jackson</td>\n",
       "      <td>(1824-1863)</td>\n",
       "    </tr>\n",
       "    <tr>\n",
       "      <th>23241</th>\n",
       "      <td>Delaunay, Louis Arsène (1826-1903)</td>\n",
       "      <td>Delaunay, Louis Arsène</td>\n",
       "      <td>Louis Arsène Delaunay</td>\n",
       "      <td>(1826-1903)</td>\n",
       "    </tr>\n",
       "    <tr>\n",
       "      <th>23445</th>\n",
       "      <td>Hamburger, Edouard (18..-1886)</td>\n",
       "      <td>Hamburger, Edouard</td>\n",
       "      <td>Edouard Hamburger</td>\n",
       "      <td>(18..-1886)</td>\n",
       "    </tr>\n",
       "    <tr>\n",
       "      <th>23445</th>\n",
       "      <td>Lamy, François (18..-1903)</td>\n",
       "      <td>Lamy, François</td>\n",
       "      <td>François Lamy</td>\n",
       "      <td>(18..-1903)</td>\n",
       "    </tr>\n",
       "    <tr>\n",
       "      <th>23518</th>\n",
       "      <td>Delessert, Eugène (1819-1877)</td>\n",
       "      <td>Delessert, Eugène</td>\n",
       "      <td>Eugène Delessert</td>\n",
       "      <td>(1819-1877)</td>\n",
       "    </tr>\n",
       "  </tbody>\n",
       "</table>\n",
       "<p>1963 rows × 4 columns</p>\n",
       "</div>"
      ],
      "text/plain": [
       "                                    title                    name  \\\n",
       "7            Auguez, Mathilde (1868-1955)        Auguez, Mathilde   \n",
       "9            Bruant, Aristide (1851-1925)        Bruant, Aristide   \n",
       "13           Brasseur, Albert (1862-1932)        Brasseur, Albert   \n",
       "19          Decroza, Francine (1868-19..)       Decroza, Francine   \n",
       "30           Lender, Marcelle (1862-1926)        Lender, Marcelle   \n",
       "...                                   ...                     ...   \n",
       "23236      Jackson, Stonewall (1824-1863)      Jackson, Stonewall   \n",
       "23241  Delaunay, Louis Arsène (1826-1903)  Delaunay, Louis Arsène   \n",
       "23445      Hamburger, Edouard (18..-1886)      Hamburger, Edouard   \n",
       "23445          Lamy, François (18..-1903)          Lamy, François   \n",
       "23518       Delessert, Eugène (1819-1877)       Delessert, Eugène   \n",
       "\n",
       "                ordered_name         year  \n",
       "7            Mathilde Auguez  (1868-1955)  \n",
       "9            Aristide Bruant  (1851-1925)  \n",
       "13           Albert Brasseur  (1862-1932)  \n",
       "19          Francine Decroza  (1868-19..)  \n",
       "30           Marcelle Lender  (1862-1926)  \n",
       "...                      ...          ...  \n",
       "23236      Stonewall Jackson  (1824-1863)  \n",
       "23241  Louis Arsène Delaunay  (1826-1903)  \n",
       "23445      Edouard Hamburger  (18..-1886)  \n",
       "23445          François Lamy  (18..-1903)  \n",
       "23518       Eugène Delessert  (1819-1877)  \n",
       "\n",
       "[1963 rows x 4 columns]"
      ]
     },
     "execution_count": 297,
     "metadata": {},
     "output_type": "execute_result"
    }
   ],
   "source": [
    "names_df"
   ]
  },
  {
   "cell_type": "code",
   "execution_count": 409,
   "metadata": {},
   "outputs": [],
   "source": [
    "bnf_namelist = names_df.ordered_name#[0:60]\n",
    "bnf_name_error = []\n",
    "bnf_not_found = []\n",
    "bnf_link = {}"
   ]
  },
  {
   "cell_type": "code",
   "execution_count": 725,
   "metadata": {},
   "outputs": [],
   "source": []
  },
  {
   "cell_type": "code",
   "execution_count": 410,
   "metadata": {},
   "outputs": [
    {
     "data": {
      "application/vnd.jupyter.widget-view+json": {
       "model_id": "637a400a92044813b0ba98f2cf441a03",
       "version_major": 2,
       "version_minor": 0
      },
      "text/plain": [
       "HBox(children=(IntProgress(value=0, max=1963), HTML(value='')))"
      ]
     },
     "metadata": {},
     "output_type": "display_data"
    },
    {
     "name": "stdout",
     "output_type": "stream",
     "text": [
      "\n"
     ]
    }
   ],
   "source": [
    "bnf_reset = False\n",
    "\n",
    "if bnf_reset:\n",
    "    for i in tqdm(bnf_namelist):\n",
    "        l = i.split()\n",
    "        try:\n",
    "            s = sparql_uri(i)\n",
    "            \n",
    "            if s == []:\n",
    "                #try by familyname\n",
    "                s = sparql_uri(l[0], option='familyName')\n",
    "                \n",
    "                if s == []:\n",
    "                    s = sparql_uri(l[-1], option='familyName')\n",
    "                    \n",
    "                    if s == []:\n",
    "                        s = sparql_uri(i, option='familyName')\n",
    "                        \n",
    "                        if s == []:\n",
    "                            bnf_not_found3.append(i)\n",
    "                        else:\n",
    "                            pass\n",
    "                    else:\n",
    "                        pass\n",
    "                else:\n",
    "                    pass\n",
    "            else:\n",
    "                pass\n",
    "                      \n",
    "            bnf_link[i] = [s]\n",
    "        except:\n",
    "            bnf_name_error.append(i)\n",
    "            \n",
    "    with open('bnf_link.json', 'w') as fp:\n",
    "        json.dump(bnf_link, fp)\n",
    "# takes about 20 minutes"
   ]
  },
  {
   "cell_type": "code",
   "execution_count": 738,
   "metadata": {},
   "outputs": [],
   "source": [
    "with open('data/bnf_name_error.json', 'w') as fp:\n",
    "    json.dump(bnf_name_error, fp)\n",
    "with open('data/bnf_not_found.json', 'w') as fp:\n",
    "    json.dump(bnf_not_found, fp)"
   ]
  },
  {
   "cell_type": "code",
   "execution_count": 107,
   "metadata": {},
   "outputs": [],
   "source": [
    "with open('bnf_link.json','r') as fp:\n",
    "    bnf_link =  json.load(fp)"
   ]
  },
  {
   "cell_type": "code",
   "execution_count": 413,
   "metadata": {},
   "outputs": [],
   "source": [
    "bnf_df_ = pd.DataFrame.from_dict(bnf_link, orient='index', columns=['links'])"
   ]
  },
  {
   "cell_type": "code",
   "execution_count": 389,
   "metadata": {},
   "outputs": [],
   "source": [
    "def get_bnf_description(links):\n",
    "    result = {}\n",
    "\n",
    "    for link in links:\n",
    "        try:\n",
    "            page = requests.get(link)\n",
    "            soup = BeautifulSoup(page.content, 'html.parser')\n",
    "            try:\n",
    "                bnf_text = soup.find(\"div\", {\"itemprop\": \"description\"}).get_text()\n",
    "            except:\n",
    "                bnf_text = ''\n",
    "            \n",
    "            bnf_title = soup.find(\"title\").get_text()\n",
    "            result[bnf_title] = bnf_text\n",
    "\n",
    "        except:\n",
    "            pass\n",
    "            \n",
    "        \n",
    "    return result"
   ]
  },
  {
   "cell_type": "code",
   "execution_count": 189,
   "metadata": {},
   "outputs": [],
   "source": []
  },
  {
   "cell_type": "code",
   "execution_count": 414,
   "metadata": {},
   "outputs": [],
   "source": [
    "bnf_df_['bnf'] = bnf_df_.links.apply(get_bnf_description)\n",
    "bnf_df_ = bnf_df_.reset_index().rename(columns={'index':'ordered_name'})"
   ]
  },
  {
   "cell_type": "code",
   "execution_count": 414,
   "metadata": {},
   "outputs": [],
   "source": []
  },
  {
   "cell_type": "code",
   "execution_count": 736,
   "metadata": {},
   "outputs": [],
   "source": [
    "bnf_df_.to_pickle('data/bnf_text_raw.pkl')"
   ]
  },
  {
   "cell_type": "code",
   "execution_count": 710,
   "metadata": {},
   "outputs": [],
   "source": [
    "bnf_df_merge = pd.merge(bnf_df_, names_df[['ordered_name','sup']], on='ordered_name')"
   ]
  },
  {
   "cell_type": "code",
   "execution_count": 711,
   "metadata": {},
   "outputs": [
    {
     "data": {
      "text/html": [
       "<div>\n",
       "<style scoped>\n",
       "    .dataframe tbody tr th:only-of-type {\n",
       "        vertical-align: middle;\n",
       "    }\n",
       "\n",
       "    .dataframe tbody tr th {\n",
       "        vertical-align: top;\n",
       "    }\n",
       "\n",
       "    .dataframe thead th {\n",
       "        text-align: right;\n",
       "    }\n",
       "</style>\n",
       "<table border=\"1\" class=\"dataframe\">\n",
       "  <thead>\n",
       "    <tr style=\"text-align: right;\">\n",
       "      <th></th>\n",
       "      <th>ordered_name</th>\n",
       "      <th>links</th>\n",
       "      <th>bnf</th>\n",
       "      <th>sup</th>\n",
       "    </tr>\n",
       "  </thead>\n",
       "  <tbody>\n",
       "    <tr>\n",
       "      <th>0</th>\n",
       "      <td>Mathilde Auguez</td>\n",
       "      <td>[http://data.bnf.fr/ark:/12148/cb149853704#about]</td>\n",
       "      <td>{'Mathilde Auguez (1868-1955)': 'Chanteuse lyr...</td>\n",
       "      <td>(1868-1955)</td>\n",
       "    </tr>\n",
       "    <tr>\n",
       "      <th>1</th>\n",
       "      <td>Aristide Bruant</td>\n",
       "      <td>[http://data.bnf.fr/ark:/12148/cb11894238r#about]</td>\n",
       "      <td>{'Aristide Bruant (1851-1925)': 'Chansonnier e...</td>\n",
       "      <td>(1851-1925)</td>\n",
       "    </tr>\n",
       "    <tr>\n",
       "      <th>2</th>\n",
       "      <td>Albert Brasseur</td>\n",
       "      <td>[http://data.bnf.fr/ark:/12148/cb10728832j#about]</td>\n",
       "      <td>{'Albert Brasseur (1862-1932)': 'Acteur. - Dir...</td>\n",
       "      <td>(1862-1932)</td>\n",
       "    </tr>\n",
       "    <tr>\n",
       "      <th>3</th>\n",
       "      <td>Francine Decroza</td>\n",
       "      <td>[http://data.bnf.fr/ark:/12148/cb169379381#about]</td>\n",
       "      <td>{'Francine Decroza (1868-19..)': 'Artiste lyri...</td>\n",
       "      <td>(1868-19..)</td>\n",
       "    </tr>\n",
       "    <tr>\n",
       "      <th>4</th>\n",
       "      <td>Marcelle Lender</td>\n",
       "      <td>[http://data.bnf.fr/ark:/12148/cb14653634g#about]</td>\n",
       "      <td>{'Marcelle Lender (1862-1926)': 'Actrice'}</td>\n",
       "      <td>(1862-1926)</td>\n",
       "    </tr>\n",
       "    <tr>\n",
       "      <th>...</th>\n",
       "      <td>...</td>\n",
       "      <td>...</td>\n",
       "      <td>...</td>\n",
       "      <td>...</td>\n",
       "    </tr>\n",
       "    <tr>\n",
       "      <th>1983</th>\n",
       "      <td>Stonewall Jackson</td>\n",
       "      <td>[http://data.bnf.fr/ark:/12148/cb138955263#abo...</td>\n",
       "      <td>{'Stonewall Jackson': 'Vocaliste. - Guitariste...</td>\n",
       "      <td>(1824-1863)</td>\n",
       "    </tr>\n",
       "    <tr>\n",
       "      <th>1984</th>\n",
       "      <td>Louis Arsène Delaunay</td>\n",
       "      <td>[http://data.bnf.fr/ark:/12148/cb14654126q#about]</td>\n",
       "      <td>{'Louis Arsène Delaunay (1826-1903)': 'Acteur ...</td>\n",
       "      <td>(1826-1903)</td>\n",
       "    </tr>\n",
       "    <tr>\n",
       "      <th>1985</th>\n",
       "      <td>Edouard Hamburger</td>\n",
       "      <td>[http://data.bnf.fr/ark:/12148/cb15094430q#about]</td>\n",
       "      <td>{'Edouard Hamburger (18..-1886)': 'Acteur de t...</td>\n",
       "      <td>(18..-1886)</td>\n",
       "    </tr>\n",
       "    <tr>\n",
       "      <th>1986</th>\n",
       "      <td>François Lamy</td>\n",
       "      <td>[http://data.bnf.fr/ark:/12148/cb135452617#abo...</td>\n",
       "      <td>{'François Lamy': 'Attaché parlementaire. - Dé...</td>\n",
       "      <td>(18..-1903)</td>\n",
       "    </tr>\n",
       "    <tr>\n",
       "      <th>1987</th>\n",
       "      <td>Eugène Delessert</td>\n",
       "      <td>[http://data.bnf.fr/ark:/12148/cb13763201n#abo...</td>\n",
       "      <td>{'Eugène Delessert (1819-1877)': 'Auteur de ré...</td>\n",
       "      <td>(1819-1877)</td>\n",
       "    </tr>\n",
       "  </tbody>\n",
       "</table>\n",
       "<p>1988 rows × 4 columns</p>\n",
       "</div>"
      ],
      "text/plain": [
       "               ordered_name  \\\n",
       "0           Mathilde Auguez   \n",
       "1           Aristide Bruant   \n",
       "2           Albert Brasseur   \n",
       "3          Francine Decroza   \n",
       "4           Marcelle Lender   \n",
       "...                     ...   \n",
       "1983      Stonewall Jackson   \n",
       "1984  Louis Arsène Delaunay   \n",
       "1985      Edouard Hamburger   \n",
       "1986          François Lamy   \n",
       "1987       Eugène Delessert   \n",
       "\n",
       "                                                  links  \\\n",
       "0     [http://data.bnf.fr/ark:/12148/cb149853704#about]   \n",
       "1     [http://data.bnf.fr/ark:/12148/cb11894238r#about]   \n",
       "2     [http://data.bnf.fr/ark:/12148/cb10728832j#about]   \n",
       "3     [http://data.bnf.fr/ark:/12148/cb169379381#about]   \n",
       "4     [http://data.bnf.fr/ark:/12148/cb14653634g#about]   \n",
       "...                                                 ...   \n",
       "1983  [http://data.bnf.fr/ark:/12148/cb138955263#abo...   \n",
       "1984  [http://data.bnf.fr/ark:/12148/cb14654126q#about]   \n",
       "1985  [http://data.bnf.fr/ark:/12148/cb15094430q#about]   \n",
       "1986  [http://data.bnf.fr/ark:/12148/cb135452617#abo...   \n",
       "1987  [http://data.bnf.fr/ark:/12148/cb13763201n#abo...   \n",
       "\n",
       "                                                    bnf          sup  \n",
       "0     {'Mathilde Auguez (1868-1955)': 'Chanteuse lyr...  (1868-1955)  \n",
       "1     {'Aristide Bruant (1851-1925)': 'Chansonnier e...  (1851-1925)  \n",
       "2     {'Albert Brasseur (1862-1932)': 'Acteur. - Dir...  (1862-1932)  \n",
       "3     {'Francine Decroza (1868-19..)': 'Artiste lyri...  (1868-19..)  \n",
       "4            {'Marcelle Lender (1862-1926)': 'Actrice'}  (1862-1926)  \n",
       "...                                                 ...          ...  \n",
       "1983  {'Stonewall Jackson': 'Vocaliste. - Guitariste...  (1824-1863)  \n",
       "1984  {'Louis Arsène Delaunay (1826-1903)': 'Acteur ...  (1826-1903)  \n",
       "1985  {'Edouard Hamburger (18..-1886)': 'Acteur de t...  (18..-1886)  \n",
       "1986  {'François Lamy': 'Attaché parlementaire. - Dé...  (18..-1903)  \n",
       "1987  {'Eugène Delessert (1819-1877)': 'Auteur de ré...  (1819-1877)  \n",
       "\n",
       "[1988 rows x 4 columns]"
      ]
     },
     "execution_count": 711,
     "metadata": {},
     "output_type": "execute_result"
    }
   ],
   "source": [
    "bnf_df_merge"
   ]
  },
  {
   "cell_type": "code",
   "execution_count": 712,
   "metadata": {},
   "outputs": [],
   "source": [
    "import numpy as np\n",
    "\n",
    "def handle_year(years):\n",
    "    try:\n",
    "        byear = years[0]\n",
    "        dyear = years[1]\n",
    "\n",
    "        try:\n",
    "            byear =  int(byear)\n",
    "        except:\n",
    "            byear =  1855\n",
    "\n",
    "        try:\n",
    "            dyear =  int(dyear)\n",
    "        except:\n",
    "            dyear =  1910\n",
    "        return  min(1910, dyear) - max(1855, byear)\n",
    "\n",
    "    except:\n",
    "        return 0\n",
    "    \n",
    "        \n",
    "        \n",
    "\n",
    "def bnf_match(keys):\n",
    "    activity = range(1855, 1910)\n",
    "    \n",
    "    \n",
    "#    years = list(map(lambda x: re.findall('1[.89].+-1[.89].+',x),keys))\n",
    "    years = list(map(lambda x: str(re.findall('1[89].+-1[89].+',x)).strip(\"['()']\"), keys))\n",
    "\n",
    "    years_list = list(map(lambda x: handle_year(x.split('-')),years))\n",
    "    \n",
    "    \n",
    "    \n",
    "#    keys_new = list(compress(keys, map(lambda x: x != '',years)))\n",
    "    \n",
    "        \n",
    "    try :\n",
    "        return keys[np.argmax(years_list)]\n",
    "    except:\n",
    "        return np.nan\n"
   ]
  },
  {
   "cell_type": "code",
   "execution_count": 713,
   "metadata": {},
   "outputs": [],
   "source": [
    "bnf_df_merge['names'] = bnf_df_merge.bnf.apply(lambda x: list(x.keys()))"
   ]
  },
  {
   "cell_type": "code",
   "execution_count": 714,
   "metadata": {},
   "outputs": [],
   "source": [
    "bnf_df_merge['title'] = bnf_df_merge.apply(lambda x:str(x.ordered_name + ' ' + x.sup).strip(), axis=1)"
   ]
  },
  {
   "cell_type": "code",
   "execution_count": 715,
   "metadata": {},
   "outputs": [],
   "source": [
    "bnf_df_merge['key_title'] = bnf_df_merge.apply(lambda x: list(compress(x.names, list(map(lambda y: x.title in y, x.names)))), axis=1)\n",
    "bnf_df_merge['key_name'] = bnf_df_merge.apply(lambda x: list(compress(x.names, list(map(lambda y: x.ordered_name in y, x.names)))), axis=1)\n",
    "bnf_df_merge['key_sup'] = bnf_df_merge.apply(lambda x: list(compress(x.names, list(map(lambda y: x.sup in y, x.names)))), axis=1)"
   ]
  },
  {
   "cell_type": "code",
   "execution_count": 716,
   "metadata": {},
   "outputs": [],
   "source": [
    "bnf_df_merge['key'] = bnf_df_merge.apply(lambda x: list(set.intersection(set(x.key_title), set(x.key_name), set(x.key_sup))), axis=1)"
   ]
  },
  {
   "cell_type": "code",
   "execution_count": 717,
   "metadata": {},
   "outputs": [
    {
     "data": {
      "text/plain": [
       "1      1867\n",
       "0        73\n",
       "2        11\n",
       "3         5\n",
       "5         4\n",
       "175       3\n",
       "131       2\n",
       "6         2\n",
       "7         2\n",
       "9         2\n",
       "10        2\n",
       "12        1\n",
       "8         1\n",
       "11        1\n",
       "187       1\n",
       "176       1\n",
       "16        1\n",
       "23        1\n",
       "30        1\n",
       "42        1\n",
       "67        1\n",
       "76        1\n",
       "88        1\n",
       "90        1\n",
       "95        1\n",
       "13        1\n",
       "Name: key, dtype: int64"
      ]
     },
     "execution_count": 717,
     "metadata": {},
     "output_type": "execute_result"
    }
   ],
   "source": [
    "bnf_df_merge.key.apply(lambda x: len(x)).value_counts(ascending=False)"
   ]
  },
  {
   "cell_type": "code",
   "execution_count": 718,
   "metadata": {},
   "outputs": [],
   "source": [
    "bnf_df_merge['key_match'] = bnf_df_merge.key.apply(bnf_match)#.apply(lambda x: len(x)).value_counts(ascending=False)"
   ]
  },
  {
   "cell_type": "code",
   "execution_count": 719,
   "metadata": {},
   "outputs": [],
   "source": [
    "bnf_df_merge['description'] = bnf_df_merge.dropna(axis=0).apply(lambda x: x.bnf[x.key_match],axis=1)"
   ]
  },
  {
   "cell_type": "code",
   "execution_count": 737,
   "metadata": {},
   "outputs": [],
   "source": [
    "bnf_df_merge[['ordered_name','description']].to_pickle('data/bnf_description.pkl')#.description.dropna(axis=0)"
   ]
  },
  {
   "cell_type": "code",
   "execution_count": null,
   "metadata": {},
   "outputs": [],
   "source": []
  }
 ],
 "metadata": {
  "kernelspec": {
   "display_name": "Humans of Paris",
   "language": "python",
   "name": "humans-of-paris"
  },
  "language_info": {
   "codemirror_mode": {
    "name": "ipython",
    "version": 3
   },
   "file_extension": ".py",
   "mimetype": "text/x-python",
   "name": "python",
   "nbconvert_exporter": "python",
   "pygments_lexer": "ipython3",
   "version": "3.7.3"
  }
 },
 "nbformat": 4,
 "nbformat_minor": 4
}
