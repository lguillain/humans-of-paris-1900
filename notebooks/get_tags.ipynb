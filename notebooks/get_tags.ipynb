{
 "cells": [
  {
   "cell_type": "code",
   "execution_count": 2,
   "metadata": {},
   "outputs": [],
   "source": [
    "from fdh_gallica import Periodical, Search, Document\n",
    "from fdh_gallica.parallel_process import iiif_urls_for_documents\n",
    "\n",
    "from tqdm.autonotebook import tqdm\n",
    "\n",
    "import json\n",
    "import pandas as pd\n",
    "from pandas.io.json import json_normalize\n",
    "\n",
    "\n",
    "from itertools import chain\n",
    "from itertools import compress\n",
    "import re\n"
   ]
  },
  {
   "cell_type": "code",
   "execution_count": 3,
   "metadata": {},
   "outputs": [],
   "source": [
    "%matplotlib inline"
   ]
  },
  {
   "cell_type": "markdown",
   "metadata": {},
   "source": [
    "get all images with relevant query"
   ]
  },
  {
   "cell_type": "code",
   "execution_count": 4,
   "metadata": {},
   "outputs": [],
   "source": [
    "re_execute = False\n",
    "if re_execute:\n",
    "    obj = Search(all_fields='atelier Nadar', dc_type='image', dc_creator='Atelier Nadar')\n",
    "    obj.execute()\n",
    "    print(f'number of fetched documents: {len(obj.documents)}')\n",
    "    print(f'total records {obj.total_records}')\n",
    "    print('retry fetching ...')\n",
    "    obj.retry()\n",
    "    print(f'number of fetched documents: {len(obj.documents)}')\n",
    "\n",
    "    df = json_normalize(json.loads(json.dumps(obj.records)))\n",
    "    print('save documents to local')\n",
    "    # list handling becomes a pain of we save as csv\n",
    "    df.to_pickle('raw_df.pkl')"
   ]
  },
  {
   "cell_type": "code",
   "execution_count": 5,
   "metadata": {},
   "outputs": [],
   "source": [
    "df = pd.read_pickle('raw_df.pkl')"
   ]
  },
  {
   "cell_type": "markdown",
   "metadata": {},
   "source": [
    "parse identifier for easier access:"
   ]
  },
  {
   "cell_type": "code",
   "execution_count": 6,
   "metadata": {},
   "outputs": [],
   "source": [
    "image_dataframe = pd.DataFrame(df['dc:identifier']\\\n",
    "                               .map(lambda x: x[0] if type(x) == list else x))\\\n",
    "                               .rename(columns={'dc:identifier':'identifier'})\n",
    "\n",
    "df['id'] = image_dataframe"
   ]
  },
  {
   "cell_type": "code",
   "execution_count": null,
   "metadata": {},
   "outputs": [],
   "source": []
  },
  {
   "cell_type": "markdown",
   "metadata": {},
   "source": [
    "### useless dataframes"
   ]
  },
  {
   "cell_type": "markdown",
   "metadata": {},
   "source": [
    "remove them for ease of use, next ones contain all the same content"
   ]
  },
  {
   "cell_type": "markdown",
   "metadata": {},
   "source": [
    "### removing them"
   ]
  },
  {
   "cell_type": "code",
   "execution_count": 7,
   "metadata": {},
   "outputs": [],
   "source": [
    "del df['dc:type']\n",
    "del df['dc:language']\n",
    "del df['dc:format']\n",
    "del df['dc:identifier']\n",
    "del df['dc:rights']\n",
    "del df['dc:publisher']"
   ]
  },
  {
   "cell_type": "markdown",
   "metadata": {},
   "source": [
    "# getting information about subjects"
   ]
  },
  {
   "cell_type": "code",
   "execution_count": 9,
   "metadata": {},
   "outputs": [],
   "source": [
    "#some objects are stored as list, others arent, use if else to handle\n",
    "df['subject_is_list'] = df['dc:subject'].map(lambda x: type(x) == list)"
   ]
  },
  {
   "cell_type": "code",
   "execution_count": 10,
   "metadata": {},
   "outputs": [],
   "source": [
    "df['len_list'] = df[df.subject_is_list]['dc:subject'].map(len)"
   ]
  },
  {
   "cell_type": "markdown",
   "metadata": {},
   "source": [
    "length is non uniform ... we will have to unnest"
   ]
  },
  {
   "cell_type": "code",
   "execution_count": 132,
   "metadata": {},
   "outputs": [
    {
     "data": {
      "text/plain": [
       "2.0    12834\n",
       "3.0      748\n",
       "4.0      239\n",
       "5.0      233\n",
       "6.0       10\n",
       "7.0        9\n",
       "Name: len_list, dtype: int64"
      ]
     },
     "execution_count": 132,
     "metadata": {},
     "output_type": "execute_result"
    }
   ],
   "source": [
    "df.len_list.value_counts()"
   ]
  },
  {
   "cell_type": "code",
   "execution_count": 11,
   "metadata": {},
   "outputs": [
    {
     "data": {
      "text/plain": [
       "[Bernhardt, Sarah (1844-1923) -- Portraits, Portraits du théâtre -- 19e siècle]          266\n",
       "[Réjane (1856-1920) -- Portraits, Portraits du théâtre -- 19e siècle]                    118\n",
       "[Théo, Louise (1854-1922) -- Portraits, Portraits du théâtre -- 19e siècle]              109\n",
       "[Simon-Girard, Juliette (1859-1959) -- Portraits, Portraits du théâtre -- 19e siècle]     84\n",
       "[Lantelme, Marie -- Portraits, Portraits du théâtre -- 19e siècle]                        83\n",
       "Name: dc:subject, dtype: int64"
      ]
     },
     "execution_count": 11,
     "metadata": {},
     "output_type": "execute_result"
    }
   ],
   "source": [
    "df[df.subject_is_list]['dc:subject'].map(lambda x: x).value_counts().head()"
   ]
  },
  {
   "cell_type": "code",
   "execution_count": 12,
   "metadata": {},
   "outputs": [],
   "source": [
    "df2 = df[['id','dc:subject','dc:title','subject_is_list','len_list']]"
   ]
  },
  {
   "cell_type": "code",
   "execution_count": 13,
   "metadata": {},
   "outputs": [],
   "source": [
    "subject1 = df2['dc:subject'][~df2.subject_is_list].unique().tolist()"
   ]
  },
  {
   "cell_type": "code",
   "execution_count": null,
   "metadata": {},
   "outputs": [],
   "source": []
  },
  {
   "cell_type": "code",
   "execution_count": 14,
   "metadata": {},
   "outputs": [],
   "source": [
    "subjects_to_exclude = list(set(subject1) - set(['Luco, François (18..-1882) -- Portraits', 'Figuet, Gabrielle (1862-1889) -- Portraits',\n",
    "                        'Delmas, Jean-François (1861-1933) -- Portraits','Carvalho, Léon (1825-1897) -- Tombes','Sand, George (1804-1876) -- Statues']))"
   ]
  },
  {
   "cell_type": "code",
   "execution_count": 15,
   "metadata": {},
   "outputs": [
    {
     "data": {
      "text/plain": [
       "len_list\n",
       "2.0    12834\n",
       "3.0      748\n",
       "4.0      239\n",
       "5.0      233\n",
       "6.0       10\n",
       "7.0        9\n",
       "Name: len_list, dtype: int64"
      ]
     },
     "execution_count": 15,
     "metadata": {},
     "output_type": "execute_result"
    }
   ],
   "source": [
    "df2['len_list'][~df2.len_list.isna()].groupby(df2.len_list).size()"
   ]
  },
  {
   "cell_type": "code",
   "execution_count": 138,
   "metadata": {},
   "outputs": [
    {
     "data": {
      "text/plain": [
       "[['Larnaudie, Louis François (1819-1899) -- Portraits',\n",
       "  'Narong, Phra (1836?-18..) -- Portraits',\n",
       "  'Navaï, Phra (1828?-18..) -- Portraits',\n",
       "  'Rajikosa Thipusi (1818?-18..?) -- Portraits',\n",
       "  'Sarb Vijisy -- Portraits',\n",
       "  'Xai, Pho (1849?-19..?) -- Portraits',\n",
       "  'Portraits collectifs -- 19e siècle'],\n",
       " ['Mary-Albert, Madame (1855-....) -- Portraits',\n",
       "  'Duhamel, Biana (1870-1910) -- Portraits',\n",
       "  'Christian (1821-1890) -- Portraits',\n",
       "  'Scipion (18..-19.. ; acteur) -- Portraits',\n",
       "  'Portraits du théâtre -- 19e siècle',\n",
       "  'Portraits collectifs -- 19e siècle',\n",
       "  'Scènes théâtrales -- 19e siècle'],\n",
       " ['Mary-Albert, Madame (1855-....) -- Portraits',\n",
       "  'Duhamel, Biana (1870-1910) -- Portraits',\n",
       "  'Christian (1821-1890) -- Portraits',\n",
       "  'Scipion (18..-19.. ; acteur) -- Portraits',\n",
       "  'Portraits du théâtre -- 19e siècle',\n",
       "  'Portraits collectifs -- 19e siècle',\n",
       "  'Scènes théâtrales -- 19e siècle'],\n",
       " ['Mary-Albert, Madame (1855-....) -- Portraits',\n",
       "  'Duhamel, Biana (1870-1910) -- Portraits',\n",
       "  'Christian (1821-1890) -- Portraits',\n",
       "  'Scipion (18..-19.. ; acteur) -- Portraits',\n",
       "  'Portraits du théâtre -- 19e siècle',\n",
       "  'Portraits collectifs -- 19e siècle',\n",
       "  'Scènes théâtrales -- 19e siècle'],\n",
       " ['Mary-Albert, Madame (1855-....) -- Portraits',\n",
       "  'Duhamel, Biana (1870-1910) -- Portraits',\n",
       "  'Christian (1821-1890) -- Portraits',\n",
       "  'Scipion (18..-19.. ; acteur) -- Portraits',\n",
       "  'Portraits du théâtre -- 19e siècle',\n",
       "  'Portraits collectifs -- 19e siècle',\n",
       "  'Scènes théâtrales -- 19e siècle'],\n",
       " ['Gélabert, Conchita, Marie (1858-19.. ; actrice) -- Portraits',\n",
       "  'Vois, Ernest (1846-1902) -- Portraits',\n",
       "  'Milher (1834-1898) -- Portraits',\n",
       "  'Luco, François (18..-1882) -- Portraits',\n",
       "  'Portraits du théâtre -- 19e siècle',\n",
       "  'Portraits collectifs -- 19e siècle',\n",
       "  'Scènes théâtrales -- 19e siècle'],\n",
       " ['Gélabert, Conchita, Marie (1858-19.. ; actrice) -- Portraits',\n",
       "  'Vois, Ernest (1846-1902) -- Portraits',\n",
       "  'Milher (1834-1898) -- Portraits',\n",
       "  'Luco, François (18..-1882) -- Portraits',\n",
       "  'Portraits du théâtre -- 19e siècle',\n",
       "  'Portraits collectifs -- 19e siècle',\n",
       "  'Scènes théâtrales -- 19e siècle'],\n",
       " ['Mary-Albert, Madame (1855-....) -- Portraits',\n",
       "  'Duhamel, Biana (1870-1910) -- Portraits',\n",
       "  'Christian (1821-1890) -- Portraits',\n",
       "  'Scipion (18..-19.. ; acteur) -- Portraits',\n",
       "  'Portraits du théâtre -- 19e siècle',\n",
       "  'Portraits collectifs -- 19e siècle',\n",
       "  'Scènes théâtrales -- 19e siècle'],\n",
       " ['Mary-Albert, Madame (1855-....) -- Portraits',\n",
       "  'Duhamel, Biana (1870-1910) -- Portraits',\n",
       "  'Christian (1821-1890) -- Portraits',\n",
       "  'Scipion (18..-19.. ; acteur) -- Portraits',\n",
       "  'Portraits du théâtre -- 19e siècle',\n",
       "  'Portraits collectifs -- 19e siècle',\n",
       "  'Scènes théâtrales -- 19e siècle']]"
      ]
     },
     "execution_count": 138,
     "metadata": {},
     "output_type": "execute_result"
    }
   ],
   "source": [
    "df2['dc:subject'][df2.len_list == 7].tolist()"
   ]
  },
  {
   "cell_type": "code",
   "execution_count": null,
   "metadata": {},
   "outputs": [],
   "source": []
  },
  {
   "cell_type": "code",
   "execution_count": 16,
   "metadata": {},
   "outputs": [],
   "source": [
    "def subject_filter(x):\n",
    "    if type(x) == str:\n",
    "        if x in subjects_to_exclude:\n",
    "            result = ''\n",
    "        else:\n",
    "            result = [x]\n",
    "    elif type(x) == list:\n",
    "        temp = []\n",
    "        for s in x:\n",
    "            if s not in subjects_to_exclude:\n",
    "                #x.remove(s)\n",
    "                temp.append(s)\n",
    "        result = temp\n",
    "    else:\n",
    "        result = type(x)\n",
    "    return result"
   ]
  },
  {
   "cell_type": "code",
   "execution_count": 17,
   "metadata": {},
   "outputs": [
    {
     "name": "stderr",
     "output_type": "stream",
     "text": [
      "C:\\Users\\haeeun\\Anaconda3\\lib\\site-packages\\ipykernel_launcher.py:1: SettingWithCopyWarning: \n",
      "A value is trying to be set on a copy of a slice from a DataFrame.\n",
      "Try using .loc[row_indexer,col_indexer] = value instead\n",
      "\n",
      "See the caveats in the documentation: http://pandas.pydata.org/pandas-docs/stable/user_guide/indexing.html#returning-a-view-versus-a-copy\n",
      "  \"\"\"Entry point for launching an IPython kernel.\n"
     ]
    }
   ],
   "source": [
    "df2['subjects'] = df2['dc:subject'].apply(subject_filter)"
   ]
  },
  {
   "cell_type": "code",
   "execution_count": 18,
   "metadata": {},
   "outputs": [
    {
     "data": {
      "text/plain": [
       "[['Larnaudie, Louis François (1819-1899) -- Portraits',\n",
       "  'Narong, Phra (1836?-18..) -- Portraits',\n",
       "  'Navaï, Phra (1828?-18..) -- Portraits',\n",
       "  'Rajikosa Thipusi (1818?-18..?) -- Portraits',\n",
       "  'Sarb Vijisy -- Portraits',\n",
       "  'Xai, Pho (1849?-19..?) -- Portraits'],\n",
       " ['Mary-Albert, Madame (1855-....) -- Portraits',\n",
       "  'Duhamel, Biana (1870-1910) -- Portraits',\n",
       "  'Christian (1821-1890) -- Portraits',\n",
       "  'Scipion (18..-19.. ; acteur) -- Portraits'],\n",
       " ['Mary-Albert, Madame (1855-....) -- Portraits',\n",
       "  'Duhamel, Biana (1870-1910) -- Portraits',\n",
       "  'Christian (1821-1890) -- Portraits',\n",
       "  'Scipion (18..-19.. ; acteur) -- Portraits'],\n",
       " ['Mary-Albert, Madame (1855-....) -- Portraits',\n",
       "  'Duhamel, Biana (1870-1910) -- Portraits',\n",
       "  'Christian (1821-1890) -- Portraits',\n",
       "  'Scipion (18..-19.. ; acteur) -- Portraits'],\n",
       " ['Mary-Albert, Madame (1855-....) -- Portraits',\n",
       "  'Duhamel, Biana (1870-1910) -- Portraits',\n",
       "  'Christian (1821-1890) -- Portraits',\n",
       "  'Scipion (18..-19.. ; acteur) -- Portraits'],\n",
       " ['Gélabert, Conchita, Marie (1858-19.. ; actrice) -- Portraits',\n",
       "  'Vois, Ernest (1846-1902) -- Portraits',\n",
       "  'Milher (1834-1898) -- Portraits',\n",
       "  'Luco, François (18..-1882) -- Portraits'],\n",
       " ['Gélabert, Conchita, Marie (1858-19.. ; actrice) -- Portraits',\n",
       "  'Vois, Ernest (1846-1902) -- Portraits',\n",
       "  'Milher (1834-1898) -- Portraits',\n",
       "  'Luco, François (18..-1882) -- Portraits'],\n",
       " ['Mary-Albert, Madame (1855-....) -- Portraits',\n",
       "  'Duhamel, Biana (1870-1910) -- Portraits',\n",
       "  'Christian (1821-1890) -- Portraits',\n",
       "  'Scipion (18..-19.. ; acteur) -- Portraits'],\n",
       " ['Mary-Albert, Madame (1855-....) -- Portraits',\n",
       "  'Duhamel, Biana (1870-1910) -- Portraits',\n",
       "  'Christian (1821-1890) -- Portraits',\n",
       "  'Scipion (18..-19.. ; acteur) -- Portraits']]"
      ]
     },
     "execution_count": 18,
     "metadata": {},
     "output_type": "execute_result"
    }
   ],
   "source": [
    "df2['subjects'][df2.len_list== 7].tolist()"
   ]
  },
  {
   "cell_type": "code",
   "execution_count": 20,
   "metadata": {},
   "outputs": [
    {
     "name": "stderr",
     "output_type": "stream",
     "text": [
      "C:\\Users\\haeeun\\Anaconda3\\lib\\site-packages\\ipykernel_launcher.py:1: SettingWithCopyWarning: \n",
      "A value is trying to be set on a copy of a slice from a DataFrame.\n",
      "Try using .loc[row_indexer,col_indexer] = value instead\n",
      "\n",
      "See the caveats in the documentation: http://pandas.pydata.org/pandas-docs/stable/user_guide/indexing.html#returning-a-view-versus-a-copy\n",
      "  \"\"\"Entry point for launching an IPython kernel.\n"
     ]
    }
   ],
   "source": [
    "df2['number_of_subjects'] = df2['subjects'].apply(len)"
   ]
  },
  {
   "cell_type": "code",
   "execution_count": 21,
   "metadata": {},
   "outputs": [
    {
     "data": {
      "text/plain": [
       "number_of_subjects\n",
       "0     9600\n",
       "1    12880\n",
       "2      853\n",
       "3      189\n",
       "4        9\n",
       "5        3\n",
       "6        1\n",
       "dtype: int64"
      ]
     },
     "execution_count": 21,
     "metadata": {},
     "output_type": "execute_result"
    }
   ],
   "source": [
    "df2.groupby(df2.number_of_subjects).size()"
   ]
  },
  {
   "cell_type": "code",
   "execution_count": 22,
   "metadata": {},
   "outputs": [],
   "source": [
    "df2 = df2.drop(['dc:subject', 'subject_is_list','len_list'],axis=1)"
   ]
  },
  {
   "cell_type": "code",
   "execution_count": 23,
   "metadata": {},
   "outputs": [],
   "source": [
    "df2 = df2[df2.number_of_subjects != 0]"
   ]
  },
  {
   "cell_type": "code",
   "execution_count": 24,
   "metadata": {},
   "outputs": [
    {
     "data": {
      "text/html": [
       "<div>\n",
       "<style scoped>\n",
       "    .dataframe tbody tr th:only-of-type {\n",
       "        vertical-align: middle;\n",
       "    }\n",
       "\n",
       "    .dataframe tbody tr th {\n",
       "        vertical-align: top;\n",
       "    }\n",
       "\n",
       "    .dataframe thead th {\n",
       "        text-align: right;\n",
       "    }\n",
       "</style>\n",
       "<table border=\"1\" class=\"dataframe\">\n",
       "  <thead>\n",
       "    <tr style=\"text-align: right;\">\n",
       "      <th></th>\n",
       "      <th>id</th>\n",
       "      <th>dc:title</th>\n",
       "      <th>subjects</th>\n",
       "      <th>number_of_subjects</th>\n",
       "    </tr>\n",
       "  </thead>\n",
       "  <tbody>\n",
       "    <tr>\n",
       "      <th>7</th>\n",
       "      <td>https://gallica.bnf.fr/ark:/12148/btv1b53168872x</td>\n",
       "      <td>[Me Auguez] : [photographie, tirage de démonst...</td>\n",
       "      <td>[Auguez, Mathilde (1868-1955) -- Portraits]</td>\n",
       "      <td>1</td>\n",
       "    </tr>\n",
       "    <tr>\n",
       "      <th>8</th>\n",
       "      <td>https://gallica.bnf.fr/ark:/12148/btv1b531688701</td>\n",
       "      <td>[Me Auguez] : [photographie, tirage de démonst...</td>\n",
       "      <td>[Auguez, Mathilde (1868-1955) -- Portraits]</td>\n",
       "      <td>1</td>\n",
       "    </tr>\n",
       "    <tr>\n",
       "      <th>9</th>\n",
       "      <td>https://gallica.bnf.fr/ark:/12148/btv1b53171770j</td>\n",
       "      <td>M. Bruant : [photographie, tirage de démonstra...</td>\n",
       "      <td>[Bruant, Aristide (1851-1925) -- Portraits]</td>\n",
       "      <td>1</td>\n",
       "    </tr>\n",
       "    <tr>\n",
       "      <th>10</th>\n",
       "      <td>https://gallica.bnf.fr/ark:/12148/btv1b53168873c</td>\n",
       "      <td>Me Auguez : [photographie, tirage de démonstra...</td>\n",
       "      <td>[Auguez, Mathilde (1868-1955) -- Portraits]</td>\n",
       "      <td>1</td>\n",
       "    </tr>\n",
       "    <tr>\n",
       "      <th>13</th>\n",
       "      <td>https://gallica.bnf.fr/ark:/12148/btv1b531651494</td>\n",
       "      <td>M. A. Brasseur : [photographie, tirage de démo...</td>\n",
       "      <td>[Brasseur, Albert (1862-1932) -- Portraits]</td>\n",
       "      <td>1</td>\n",
       "    </tr>\n",
       "    <tr>\n",
       "      <th>...</th>\n",
       "      <td>...</td>\n",
       "      <td>...</td>\n",
       "      <td>...</td>\n",
       "      <td>...</td>\n",
       "    </tr>\n",
       "    <tr>\n",
       "      <th>23528</th>\n",
       "      <td>https://gallica.bnf.fr/ark:/12148/btv1b531203810</td>\n",
       "      <td>M. Hignette : [photographie, tirage de démonst...</td>\n",
       "      <td>[Ombre portée]</td>\n",
       "      <td>1</td>\n",
       "    </tr>\n",
       "    <tr>\n",
       "      <th>23530</th>\n",
       "      <td>https://gallica.bnf.fr/ark:/12148/btv1b53123957r</td>\n",
       "      <td>[Brémont] : [photographie, tirage de démonstra...</td>\n",
       "      <td>[Brémont, Léon (1852-1939) -- Portraits]</td>\n",
       "      <td>1</td>\n",
       "    </tr>\n",
       "    <tr>\n",
       "      <th>23531</th>\n",
       "      <td>https://gallica.bnf.fr/ark:/12148/btv1b53124037v</td>\n",
       "      <td>[Caron] : [photographie, tirage de démonstrati...</td>\n",
       "      <td>[Caron, Cécile (1852-1923) -- Portraits]</td>\n",
       "      <td>1</td>\n",
       "    </tr>\n",
       "    <tr>\n",
       "      <th>23533</th>\n",
       "      <td>https://gallica.bnf.fr/ark:/12148/btv1b53124131j</td>\n",
       "      <td>Croizette : [photographie, tirage de démonstra...</td>\n",
       "      <td>[Croizette, Sophie (1847-1901) -- Portraits]</td>\n",
       "      <td>1</td>\n",
       "    </tr>\n",
       "    <tr>\n",
       "      <th>23534</th>\n",
       "      <td>https://gallica.bnf.fr/ark:/12148/btv1b53124259b</td>\n",
       "      <td>[Capoul] : [photographie, tirage de démonstrat...</td>\n",
       "      <td>[Capoul, Victor (1839-1924) -- Portraits]</td>\n",
       "      <td>1</td>\n",
       "    </tr>\n",
       "  </tbody>\n",
       "</table>\n",
       "<p>13935 rows × 4 columns</p>\n",
       "</div>"
      ],
      "text/plain": [
       "                                                     id  \\\n",
       "7      https://gallica.bnf.fr/ark:/12148/btv1b53168872x   \n",
       "8      https://gallica.bnf.fr/ark:/12148/btv1b531688701   \n",
       "9      https://gallica.bnf.fr/ark:/12148/btv1b53171770j   \n",
       "10     https://gallica.bnf.fr/ark:/12148/btv1b53168873c   \n",
       "13     https://gallica.bnf.fr/ark:/12148/btv1b531651494   \n",
       "...                                                 ...   \n",
       "23528  https://gallica.bnf.fr/ark:/12148/btv1b531203810   \n",
       "23530  https://gallica.bnf.fr/ark:/12148/btv1b53123957r   \n",
       "23531  https://gallica.bnf.fr/ark:/12148/btv1b53124037v   \n",
       "23533  https://gallica.bnf.fr/ark:/12148/btv1b53124131j   \n",
       "23534  https://gallica.bnf.fr/ark:/12148/btv1b53124259b   \n",
       "\n",
       "                                                dc:title  \\\n",
       "7      [Me Auguez] : [photographie, tirage de démonst...   \n",
       "8      [Me Auguez] : [photographie, tirage de démonst...   \n",
       "9      M. Bruant : [photographie, tirage de démonstra...   \n",
       "10     Me Auguez : [photographie, tirage de démonstra...   \n",
       "13     M. A. Brasseur : [photographie, tirage de démo...   \n",
       "...                                                  ...   \n",
       "23528  M. Hignette : [photographie, tirage de démonst...   \n",
       "23530  [Brémont] : [photographie, tirage de démonstra...   \n",
       "23531  [Caron] : [photographie, tirage de démonstrati...   \n",
       "23533  Croizette : [photographie, tirage de démonstra...   \n",
       "23534  [Capoul] : [photographie, tirage de démonstrat...   \n",
       "\n",
       "                                           subjects  number_of_subjects  \n",
       "7       [Auguez, Mathilde (1868-1955) -- Portraits]                   1  \n",
       "8       [Auguez, Mathilde (1868-1955) -- Portraits]                   1  \n",
       "9       [Bruant, Aristide (1851-1925) -- Portraits]                   1  \n",
       "10      [Auguez, Mathilde (1868-1955) -- Portraits]                   1  \n",
       "13      [Brasseur, Albert (1862-1932) -- Portraits]                   1  \n",
       "...                                             ...                 ...  \n",
       "23528                                [Ombre portée]                   1  \n",
       "23530      [Brémont, Léon (1852-1939) -- Portraits]                   1  \n",
       "23531      [Caron, Cécile (1852-1923) -- Portraits]                   1  \n",
       "23533  [Croizette, Sophie (1847-1901) -- Portraits]                   1  \n",
       "23534     [Capoul, Victor (1839-1924) -- Portraits]                   1  \n",
       "\n",
       "[13935 rows x 4 columns]"
      ]
     },
     "execution_count": 24,
     "metadata": {},
     "output_type": "execute_result"
    }
   ],
   "source": [
    "df2"
   ]
  },
  {
   "cell_type": "code",
   "execution_count": 25,
   "metadata": {},
   "outputs": [],
   "source": [
    "def title_filter(x):\n",
    "    if type(x) == list:\n",
    "        x = ''.join(x)\n",
    "    \n",
    "    if type(x) == str:\n",
    "        try:\n",
    "            result = x.split(':')[0].strip().strip('[]')\n",
    "        except:\n",
    "            result = x\n",
    "    else:\n",
    "        result = x\n",
    "        \n",
    "    return result\n",
    "        "
   ]
  },
  {
   "cell_type": "code",
   "execution_count": 27,
   "metadata": {},
   "outputs": [],
   "source": [
    "df2['title'] = df2['dc:title'].apply(title_filter)\n",
    "#df2 = df2[df2.number_of_subjects!=0]"
   ]
  },
  {
   "cell_type": "code",
   "execution_count": 28,
   "metadata": {},
   "outputs": [
    {
     "data": {
      "text/html": [
       "<div>\n",
       "<style scoped>\n",
       "    .dataframe tbody tr th:only-of-type {\n",
       "        vertical-align: middle;\n",
       "    }\n",
       "\n",
       "    .dataframe tbody tr th {\n",
       "        vertical-align: top;\n",
       "    }\n",
       "\n",
       "    .dataframe thead th {\n",
       "        text-align: right;\n",
       "    }\n",
       "</style>\n",
       "<table border=\"1\" class=\"dataframe\">\n",
       "  <thead>\n",
       "    <tr style=\"text-align: right;\">\n",
       "      <th></th>\n",
       "      <th>id</th>\n",
       "      <th>dc:title</th>\n",
       "      <th>subjects</th>\n",
       "      <th>number_of_subjects</th>\n",
       "      <th>title</th>\n",
       "    </tr>\n",
       "  </thead>\n",
       "  <tbody>\n",
       "    <tr>\n",
       "      <th>7</th>\n",
       "      <td>https://gallica.bnf.fr/ark:/12148/btv1b53168872x</td>\n",
       "      <td>[Me Auguez] : [photographie, tirage de démonst...</td>\n",
       "      <td>[Auguez, Mathilde (1868-1955) -- Portraits]</td>\n",
       "      <td>1</td>\n",
       "      <td>Me Auguez</td>\n",
       "    </tr>\n",
       "    <tr>\n",
       "      <th>8</th>\n",
       "      <td>https://gallica.bnf.fr/ark:/12148/btv1b531688701</td>\n",
       "      <td>[Me Auguez] : [photographie, tirage de démonst...</td>\n",
       "      <td>[Auguez, Mathilde (1868-1955) -- Portraits]</td>\n",
       "      <td>1</td>\n",
       "      <td>Me Auguez</td>\n",
       "    </tr>\n",
       "    <tr>\n",
       "      <th>9</th>\n",
       "      <td>https://gallica.bnf.fr/ark:/12148/btv1b53171770j</td>\n",
       "      <td>M. Bruant : [photographie, tirage de démonstra...</td>\n",
       "      <td>[Bruant, Aristide (1851-1925) -- Portraits]</td>\n",
       "      <td>1</td>\n",
       "      <td>M. Bruant</td>\n",
       "    </tr>\n",
       "    <tr>\n",
       "      <th>10</th>\n",
       "      <td>https://gallica.bnf.fr/ark:/12148/btv1b53168873c</td>\n",
       "      <td>Me Auguez : [photographie, tirage de démonstra...</td>\n",
       "      <td>[Auguez, Mathilde (1868-1955) -- Portraits]</td>\n",
       "      <td>1</td>\n",
       "      <td>Me Auguez</td>\n",
       "    </tr>\n",
       "    <tr>\n",
       "      <th>13</th>\n",
       "      <td>https://gallica.bnf.fr/ark:/12148/btv1b531651494</td>\n",
       "      <td>M. A. Brasseur : [photographie, tirage de démo...</td>\n",
       "      <td>[Brasseur, Albert (1862-1932) -- Portraits]</td>\n",
       "      <td>1</td>\n",
       "      <td>M. A. Brasseur</td>\n",
       "    </tr>\n",
       "    <tr>\n",
       "      <th>...</th>\n",
       "      <td>...</td>\n",
       "      <td>...</td>\n",
       "      <td>...</td>\n",
       "      <td>...</td>\n",
       "      <td>...</td>\n",
       "    </tr>\n",
       "    <tr>\n",
       "      <th>23528</th>\n",
       "      <td>https://gallica.bnf.fr/ark:/12148/btv1b531203810</td>\n",
       "      <td>M. Hignette : [photographie, tirage de démonst...</td>\n",
       "      <td>[Ombre portée]</td>\n",
       "      <td>1</td>\n",
       "      <td>M. Hignette</td>\n",
       "    </tr>\n",
       "    <tr>\n",
       "      <th>23530</th>\n",
       "      <td>https://gallica.bnf.fr/ark:/12148/btv1b53123957r</td>\n",
       "      <td>[Brémont] : [photographie, tirage de démonstra...</td>\n",
       "      <td>[Brémont, Léon (1852-1939) -- Portraits]</td>\n",
       "      <td>1</td>\n",
       "      <td>Brémont</td>\n",
       "    </tr>\n",
       "    <tr>\n",
       "      <th>23531</th>\n",
       "      <td>https://gallica.bnf.fr/ark:/12148/btv1b53124037v</td>\n",
       "      <td>[Caron] : [photographie, tirage de démonstrati...</td>\n",
       "      <td>[Caron, Cécile (1852-1923) -- Portraits]</td>\n",
       "      <td>1</td>\n",
       "      <td>Caron</td>\n",
       "    </tr>\n",
       "    <tr>\n",
       "      <th>23533</th>\n",
       "      <td>https://gallica.bnf.fr/ark:/12148/btv1b53124131j</td>\n",
       "      <td>Croizette : [photographie, tirage de démonstra...</td>\n",
       "      <td>[Croizette, Sophie (1847-1901) -- Portraits]</td>\n",
       "      <td>1</td>\n",
       "      <td>Croizette</td>\n",
       "    </tr>\n",
       "    <tr>\n",
       "      <th>23534</th>\n",
       "      <td>https://gallica.bnf.fr/ark:/12148/btv1b53124259b</td>\n",
       "      <td>[Capoul] : [photographie, tirage de démonstrat...</td>\n",
       "      <td>[Capoul, Victor (1839-1924) -- Portraits]</td>\n",
       "      <td>1</td>\n",
       "      <td>Capoul</td>\n",
       "    </tr>\n",
       "  </tbody>\n",
       "</table>\n",
       "<p>13935 rows × 5 columns</p>\n",
       "</div>"
      ],
      "text/plain": [
       "                                                     id  \\\n",
       "7      https://gallica.bnf.fr/ark:/12148/btv1b53168872x   \n",
       "8      https://gallica.bnf.fr/ark:/12148/btv1b531688701   \n",
       "9      https://gallica.bnf.fr/ark:/12148/btv1b53171770j   \n",
       "10     https://gallica.bnf.fr/ark:/12148/btv1b53168873c   \n",
       "13     https://gallica.bnf.fr/ark:/12148/btv1b531651494   \n",
       "...                                                 ...   \n",
       "23528  https://gallica.bnf.fr/ark:/12148/btv1b531203810   \n",
       "23530  https://gallica.bnf.fr/ark:/12148/btv1b53123957r   \n",
       "23531  https://gallica.bnf.fr/ark:/12148/btv1b53124037v   \n",
       "23533  https://gallica.bnf.fr/ark:/12148/btv1b53124131j   \n",
       "23534  https://gallica.bnf.fr/ark:/12148/btv1b53124259b   \n",
       "\n",
       "                                                dc:title  \\\n",
       "7      [Me Auguez] : [photographie, tirage de démonst...   \n",
       "8      [Me Auguez] : [photographie, tirage de démonst...   \n",
       "9      M. Bruant : [photographie, tirage de démonstra...   \n",
       "10     Me Auguez : [photographie, tirage de démonstra...   \n",
       "13     M. A. Brasseur : [photographie, tirage de démo...   \n",
       "...                                                  ...   \n",
       "23528  M. Hignette : [photographie, tirage de démonst...   \n",
       "23530  [Brémont] : [photographie, tirage de démonstra...   \n",
       "23531  [Caron] : [photographie, tirage de démonstrati...   \n",
       "23533  Croizette : [photographie, tirage de démonstra...   \n",
       "23534  [Capoul] : [photographie, tirage de démonstrat...   \n",
       "\n",
       "                                           subjects  number_of_subjects  \\\n",
       "7       [Auguez, Mathilde (1868-1955) -- Portraits]                   1   \n",
       "8       [Auguez, Mathilde (1868-1955) -- Portraits]                   1   \n",
       "9       [Bruant, Aristide (1851-1925) -- Portraits]                   1   \n",
       "10      [Auguez, Mathilde (1868-1955) -- Portraits]                   1   \n",
       "13      [Brasseur, Albert (1862-1932) -- Portraits]                   1   \n",
       "...                                             ...                 ...   \n",
       "23528                                [Ombre portée]                   1   \n",
       "23530      [Brémont, Léon (1852-1939) -- Portraits]                   1   \n",
       "23531      [Caron, Cécile (1852-1923) -- Portraits]                   1   \n",
       "23533  [Croizette, Sophie (1847-1901) -- Portraits]                   1   \n",
       "23534     [Capoul, Victor (1839-1924) -- Portraits]                   1   \n",
       "\n",
       "                title  \n",
       "7           Me Auguez  \n",
       "8           Me Auguez  \n",
       "9           M. Bruant  \n",
       "10          Me Auguez  \n",
       "13     M. A. Brasseur  \n",
       "...               ...  \n",
       "23528     M. Hignette  \n",
       "23530         Brémont  \n",
       "23531           Caron  \n",
       "23533       Croizette  \n",
       "23534          Capoul  \n",
       "\n",
       "[13935 rows x 5 columns]"
      ]
     },
     "execution_count": 28,
     "metadata": {},
     "output_type": "execute_result"
    }
   ],
   "source": [
    "df2"
   ]
  },
  {
   "cell_type": "code",
   "execution_count": 29,
   "metadata": {},
   "outputs": [],
   "source": [
    "def name_filter(x):\n",
    "    return [s.split('--')[0].strip() for s in x]"
   ]
  },
  {
   "cell_type": "code",
   "execution_count": 30,
   "metadata": {},
   "outputs": [],
   "source": [
    "_prenames = df2.subjects.apply(name_filter)    "
   ]
  },
  {
   "cell_type": "code",
   "execution_count": 104,
   "metadata": {},
   "outputs": [
    {
     "data": {
      "text/plain": [
       "7         [Auguez, Mathilde (1868-1955)]\n",
       "8         [Auguez, Mathilde (1868-1955)]\n",
       "9         [Bruant, Aristide (1851-1925)]\n",
       "10        [Auguez, Mathilde (1868-1955)]\n",
       "13        [Brasseur, Albert (1862-1932)]\n",
       "                      ...               \n",
       "23528                     [Ombre portée]\n",
       "23530        [Brémont, Léon (1852-1939)]\n",
       "23531        [Caron, Cécile (1852-1923)]\n",
       "23533    [Croizette, Sophie (1847-1901)]\n",
       "23534       [Capoul, Victor (1839-1924)]\n",
       "Name: subjects, Length: 13935, dtype: object"
      ]
     },
     "execution_count": 104,
     "metadata": {},
     "output_type": "execute_result"
    }
   ],
   "source": [
    "_prenames[_prenames.apply(lambda x: '(' not in x)]"
   ]
  },
  {
   "cell_type": "code",
   "execution_count": 121,
   "metadata": {},
   "outputs": [],
   "source": [
    "def sort_names(x):\n",
    "    is_name = []\n",
    "    not_name = []\n",
    "\n",
    "    for s in x:\n",
    "        if '(' not in s and ',' not in s:\n",
    "            not_name.append(s)\n",
    "        else:\n",
    "            is_name.append(s)\n",
    "    return is_name, not_name"
   ]
  },
  {
   "cell_type": "code",
   "execution_count": 132,
   "metadata": {},
   "outputs": [],
   "source": [
    "def is_name(x):\n",
    "    names = []\n",
    "    for s in x:\n",
    "        if '(' not in s and ',' not in s:\n",
    "            pass\n",
    "        else:\n",
    "            names.append(s)\n",
    "    return names\n",
    "\n",
    "def not_name(x):\n",
    "    words = []\n",
    "    for s in x:\n",
    "        if '(' not in s and ',' not in s:\n",
    "            words.append(s)\n",
    "        else:\n",
    "            pass\n",
    "    return words"
   ]
  },
  {
   "cell_type": "code",
   "execution_count": null,
   "metadata": {},
   "outputs": [],
   "source": []
  },
  {
   "cell_type": "code",
   "execution_count": null,
   "metadata": {},
   "outputs": [],
   "source": []
  },
  {
   "cell_type": "code",
   "execution_count": 133,
   "metadata": {},
   "outputs": [],
   "source": [
    "not_names = _prenames.apply(not_name).tolist()\n",
    "is_names = _prenames.apply(is_name).tolist()"
   ]
  },
  {
   "cell_type": "code",
   "execution_count": 134,
   "metadata": {},
   "outputs": [],
   "source": [
    "is_names = list(set(chain.from_iterable(is_names)))\n",
    "not_names = list(set(chain.from_iterable(not_names)))"
   ]
  },
  {
   "cell_type": "code",
   "execution_count": 135,
   "metadata": {},
   "outputs": [
    {
     "data": {
      "text/plain": [
       "['République',\n",
       " 'Ambassadeurs chinois',\n",
       " 'Haltérophiles',\n",
       " 'Alliance franco-russe',\n",
       " 'Singes',\n",
       " 'Âne',\n",
       " 'Sarb Vijisy',\n",
       " 'Chien',\n",
       " \"Montreurs d'animaux savants\",\n",
       " 'Oiseaux parleurs',\n",
       " 'Franck-Mel',\n",
       " 'Cavalières',\n",
       " 'Diplomates russes',\n",
       " 'Tournée Brasseur',\n",
       " 'Présidents',\n",
       " 'Animaux de cirque',\n",
       " 'Cyclistes',\n",
       " 'Chat domestique',\n",
       " 'Scènes historiques',\n",
       " 'Poupées',\n",
       " 'Casseroles',\n",
       " 'Aéronautes',\n",
       " 'Avocats',\n",
       " 'Escrimeurs',\n",
       " 'France. Ministère des finances',\n",
       " \"Portraits d'intérieur\",\n",
       " 'Pianistes',\n",
       " 'Hôtels particuliers',\n",
       " 'Sculpture de figures humaines',\n",
       " 'Cornistes',\n",
       " 'Hôpitaux',\n",
       " 'Vigne',\n",
       " 'Mères et nourrissons',\n",
       " 'Trapézistes',\n",
       " 'Mandoline',\n",
       " 'Autobus',\n",
       " 'Chasseurs',\n",
       " 'Antonine',\n",
       " 'Représentations animalières',\n",
       " 'Cravaches',\n",
       " 'Autoportraits',\n",
       " 'Paysages urbains',\n",
       " 'Journaux français',\n",
       " 'Scènes',\n",
       " \"Indiens d'Amérique\",\n",
       " 'Piano',\n",
       " 'Nourrissons',\n",
       " 'Dessin',\n",
       " \"Ateliers d'artistes\",\n",
       " 'Cour et courtisans',\n",
       " 'Travestis',\n",
       " 'Sang',\n",
       " 'Ombre portée',\n",
       " 'Géants',\n",
       " 'Enfants',\n",
       " 'Noirs',\n",
       " 'Femmes',\n",
       " 'Juges',\n",
       " 'Violonistes',\n",
       " 'Peinture',\n",
       " \"Représentations d'objet\",\n",
       " 'Nageurs',\n",
       " 'Bicyclettes',\n",
       " 'Religieux',\n",
       " 'Généraux',\n",
       " 'Ensembles de musique de chambre',\n",
       " 'Décorations militaires',\n",
       " 'Minstrel shows',\n",
       " 'Ballons',\n",
       " 'Phénomènes de cirque',\n",
       " 'Clowns',\n",
       " 'Ambassadeurs portugais',\n",
       " 'Actrices travesties',\n",
       " 'Hommes',\n",
       " 'Costumes',\n",
       " 'Danse orientale',\n",
       " 'Scènes théâtrales',\n",
       " 'Ambassadeurs uruguayens',\n",
       " 'Harpistes',\n",
       " 'Enfants acteurs',\n",
       " 'Ambassadeurs japonais',\n",
       " 'Diplomates danois',\n",
       " \"Vues d'architecture\",\n",
       " 'Roues',\n",
       " 'Tricycles',\n",
       " 'Prêtres',\n",
       " 'Acteurs travestis',\n",
       " 'Violoncellistes',\n",
       " 'Danseuses',\n",
       " 'Jumeaux siamois',\n",
       " 'Colonisation',\n",
       " 'Appareils photographiques',\n",
       " 'Statues']"
      ]
     },
     "execution_count": 135,
     "metadata": {},
     "output_type": "execute_result"
    }
   ],
   "source": [
    "not_names"
   ]
  },
  {
   "cell_type": "code",
   "execution_count": 119,
   "metadata": {},
   "outputs": [
    {
     "name": "stdout",
     "output_type": "stream",
     "text": [
      "yes\n"
     ]
    }
   ],
   "source": [
    "s = 'Nadar asdf 1820-1910'\n",
    "\n",
    "if '(' not in s and ',' not in s:\n",
    "     print('yes')\n"
   ]
  },
  {
   "cell_type": "code",
   "execution_count": 136,
   "metadata": {},
   "outputs": [],
   "source": [
    "names = []\n",
    "for n in is_names:\n",
    "    name_ = n.split('(')[0].strip().lower().split(',')\n",
    "    names.append(name_)\n",
    "        \n",
    "names = list(set(chain.from_iterable(names)))\n",
    "names = list(set(list(map(lambda x:x.strip(),names))))"
   ]
  },
  {
   "cell_type": "code",
   "execution_count": 137,
   "metadata": {},
   "outputs": [],
   "source": [
    "mask_tags = list(map((lambda x: ',' not in x), not_names))\n",
    "subject_tags = list(compress(not_names, mask_tags))\n",
    "#subject_tags"
   ]
  },
  {
   "cell_type": "code",
   "execution_count": 138,
   "metadata": {},
   "outputs": [],
   "source": [
    "mask_names = list(map((lambda x: ',' in x), subject_tags))\n",
    "\n",
    "subject_names = list(compress(subject_tags, mask_names))\n",
    "#subject_names"
   ]
  },
  {
   "cell_type": "code",
   "execution_count": 139,
   "metadata": {},
   "outputs": [],
   "source": [
    "def exclude_title_name(x):\n",
    "    temp = []\n",
    "    for t in x:\n",
    "        t_ = ''\n",
    "        while t_ != t:\n",
    "            t = t.strip('[]')\n",
    "            t = t.strip('()')\n",
    "            t = t.strip('\"\"')\n",
    "            t = t.strip('.')\n",
    "            t = t.strip(',')\n",
    "            t_ = t\n",
    "\n",
    "        if t.lower() in names:\n",
    "            pass\n",
    "        else:\n",
    "            temp.append(t.lower())\n",
    "    return temp"
   ]
  },
  {
   "cell_type": "code",
   "execution_count": 140,
   "metadata": {},
   "outputs": [],
   "source": [
    "df2['title_broken'] = df2.title.apply(lambda x: re.findall('[\\S]+',x))"
   ]
  },
  {
   "cell_type": "code",
   "execution_count": 141,
   "metadata": {},
   "outputs": [
    {
     "data": {
      "text/plain": [
       "7              [Me, Auguez]\n",
       "8              [Me, Auguez]\n",
       "9              [M., Bruant]\n",
       "10             [Me, Auguez]\n",
       "13       [M., A., Brasseur]\n",
       "                ...        \n",
       "23528        [M., Hignette]\n",
       "23530             [Brémont]\n",
       "23531               [Caron]\n",
       "23533           [Croizette]\n",
       "23534              [Capoul]\n",
       "Name: title_broken, Length: 13935, dtype: object"
      ]
     },
     "execution_count": 141,
     "metadata": {},
     "output_type": "execute_result"
    }
   ],
   "source": [
    "df2.title_broken"
   ]
  },
  {
   "cell_type": "code",
   "execution_count": 169,
   "metadata": {},
   "outputs": [],
   "source": [
    "tag_df = pd.DataFrame(df2.id)\n",
    "#tag_df['subjects'] = df2['subjects']\n",
    "tag_df['title'] = df2['title_broken'].apply(exclude_title_name)\n",
    "tag_df['subject'] = df2.subjects.apply(name_filter).apply(not_name)"
   ]
  },
  {
   "cell_type": "code",
   "execution_count": 170,
   "metadata": {},
   "outputs": [
    {
     "data": {
      "text/html": [
       "<div>\n",
       "<style scoped>\n",
       "    .dataframe tbody tr th:only-of-type {\n",
       "        vertical-align: middle;\n",
       "    }\n",
       "\n",
       "    .dataframe tbody tr th {\n",
       "        vertical-align: top;\n",
       "    }\n",
       "\n",
       "    .dataframe thead th {\n",
       "        text-align: right;\n",
       "    }\n",
       "</style>\n",
       "<table border=\"1\" class=\"dataframe\">\n",
       "  <thead>\n",
       "    <tr style=\"text-align: right;\">\n",
       "      <th></th>\n",
       "      <th>id</th>\n",
       "      <th>title</th>\n",
       "      <th>subject</th>\n",
       "    </tr>\n",
       "  </thead>\n",
       "  <tbody>\n",
       "    <tr>\n",
       "      <th>7</th>\n",
       "      <td>https://gallica.bnf.fr/ark:/12148/btv1b53168872x</td>\n",
       "      <td>[me]</td>\n",
       "      <td>[]</td>\n",
       "    </tr>\n",
       "    <tr>\n",
       "      <th>8</th>\n",
       "      <td>https://gallica.bnf.fr/ark:/12148/btv1b531688701</td>\n",
       "      <td>[me]</td>\n",
       "      <td>[]</td>\n",
       "    </tr>\n",
       "    <tr>\n",
       "      <th>9</th>\n",
       "      <td>https://gallica.bnf.fr/ark:/12148/btv1b53171770j</td>\n",
       "      <td>[m]</td>\n",
       "      <td>[]</td>\n",
       "    </tr>\n",
       "    <tr>\n",
       "      <th>10</th>\n",
       "      <td>https://gallica.bnf.fr/ark:/12148/btv1b53168873c</td>\n",
       "      <td>[me]</td>\n",
       "      <td>[]</td>\n",
       "    </tr>\n",
       "    <tr>\n",
       "      <th>13</th>\n",
       "      <td>https://gallica.bnf.fr/ark:/12148/btv1b531651494</td>\n",
       "      <td>[m]</td>\n",
       "      <td>[]</td>\n",
       "    </tr>\n",
       "    <tr>\n",
       "      <th>...</th>\n",
       "      <td>...</td>\n",
       "      <td>...</td>\n",
       "      <td>...</td>\n",
       "    </tr>\n",
       "    <tr>\n",
       "      <th>23528</th>\n",
       "      <td>https://gallica.bnf.fr/ark:/12148/btv1b531203810</td>\n",
       "      <td>[m, hignette]</td>\n",
       "      <td>[Ombre portée]</td>\n",
       "    </tr>\n",
       "    <tr>\n",
       "      <th>23530</th>\n",
       "      <td>https://gallica.bnf.fr/ark:/12148/btv1b53123957r</td>\n",
       "      <td>[]</td>\n",
       "      <td>[]</td>\n",
       "    </tr>\n",
       "    <tr>\n",
       "      <th>23531</th>\n",
       "      <td>https://gallica.bnf.fr/ark:/12148/btv1b53124037v</td>\n",
       "      <td>[]</td>\n",
       "      <td>[]</td>\n",
       "    </tr>\n",
       "    <tr>\n",
       "      <th>23533</th>\n",
       "      <td>https://gallica.bnf.fr/ark:/12148/btv1b53124131j</td>\n",
       "      <td>[]</td>\n",
       "      <td>[]</td>\n",
       "    </tr>\n",
       "    <tr>\n",
       "      <th>23534</th>\n",
       "      <td>https://gallica.bnf.fr/ark:/12148/btv1b53124259b</td>\n",
       "      <td>[]</td>\n",
       "      <td>[]</td>\n",
       "    </tr>\n",
       "  </tbody>\n",
       "</table>\n",
       "<p>13935 rows × 3 columns</p>\n",
       "</div>"
      ],
      "text/plain": [
       "                                                     id          title  \\\n",
       "7      https://gallica.bnf.fr/ark:/12148/btv1b53168872x           [me]   \n",
       "8      https://gallica.bnf.fr/ark:/12148/btv1b531688701           [me]   \n",
       "9      https://gallica.bnf.fr/ark:/12148/btv1b53171770j            [m]   \n",
       "10     https://gallica.bnf.fr/ark:/12148/btv1b53168873c           [me]   \n",
       "13     https://gallica.bnf.fr/ark:/12148/btv1b531651494            [m]   \n",
       "...                                                 ...            ...   \n",
       "23528  https://gallica.bnf.fr/ark:/12148/btv1b531203810  [m, hignette]   \n",
       "23530  https://gallica.bnf.fr/ark:/12148/btv1b53123957r             []   \n",
       "23531  https://gallica.bnf.fr/ark:/12148/btv1b53124037v             []   \n",
       "23533  https://gallica.bnf.fr/ark:/12148/btv1b53124131j             []   \n",
       "23534  https://gallica.bnf.fr/ark:/12148/btv1b53124259b             []   \n",
       "\n",
       "              subject  \n",
       "7                  []  \n",
       "8                  []  \n",
       "9                  []  \n",
       "10                 []  \n",
       "13                 []  \n",
       "...               ...  \n",
       "23528  [Ombre portée]  \n",
       "23530              []  \n",
       "23531              []  \n",
       "23533              []  \n",
       "23534              []  \n",
       "\n",
       "[13935 rows x 3 columns]"
      ]
     },
     "execution_count": 170,
     "metadata": {},
     "output_type": "execute_result"
    }
   ],
   "source": [
    "tag_df"
   ]
  },
  {
   "cell_type": "code",
   "execution_count": 144,
   "metadata": {},
   "outputs": [],
   "source": [
    "def filter_tags(x):\n",
    "    tag_4 = ['cure', 'chef', 'lord', 'abbé']\n",
    "    \n",
    "    if type(x) != str:\n",
    "        return False\n",
    "    \n",
    "    if x.find(',') != -1:\n",
    "        return False\n",
    "    \n",
    "    if len(x) < 3:\n",
    "        return False\n",
    "    \n",
    "    elif len(x) == 3:\n",
    "        if x == 'roi':\n",
    "            return True\n",
    "        else:\n",
    "            return False\n",
    "    elif len(x) == 4:\n",
    "        if x in tag_4:\n",
    "            return True\n",
    "        else:\n",
    "            return False        \n",
    "    else:\n",
    "        return True"
   ]
  },
  {
   "cell_type": "code",
   "execution_count": null,
   "metadata": {},
   "outputs": [],
   "source": []
  },
  {
   "cell_type": "code",
   "execution_count": null,
   "metadata": {},
   "outputs": [],
   "source": []
  },
  {
   "cell_type": "code",
   "execution_count": 171,
   "metadata": {},
   "outputs": [],
   "source": [
    "tags_title_ = tag_df.title.apply(pd.Series).merge(tag_df, right_index=True, left_index=True) \\\n",
    "        .drop(['title','subject'],axis=1).melt(id_vars=['id'], value_name='tags').drop('variable', axis=1)"
   ]
  },
  {
   "cell_type": "code",
   "execution_count": 172,
   "metadata": {},
   "outputs": [],
   "source": [
    "tags_title_ = tags_title_[tags_title_.tags.apply(filter_tags)]"
   ]
  },
  {
   "cell_type": "code",
   "execution_count": 173,
   "metadata": {},
   "outputs": [
    {
     "data": {
      "text/html": [
       "<div>\n",
       "<style scoped>\n",
       "    .dataframe tbody tr th:only-of-type {\n",
       "        vertical-align: middle;\n",
       "    }\n",
       "\n",
       "    .dataframe tbody tr th {\n",
       "        vertical-align: top;\n",
       "    }\n",
       "\n",
       "    .dataframe thead th {\n",
       "        text-align: right;\n",
       "    }\n",
       "</style>\n",
       "<table border=\"1\" class=\"dataframe\">\n",
       "  <thead>\n",
       "    <tr style=\"text-align: right;\">\n",
       "      <th></th>\n",
       "      <th>id</th>\n",
       "      <th>tags</th>\n",
       "    </tr>\n",
       "  </thead>\n",
       "  <tbody>\n",
       "    <tr>\n",
       "      <th>10</th>\n",
       "      <td>https://gallica.bnf.fr/ark:/12148/btv1b53162160w</td>\n",
       "      <td>d'arc</td>\n",
       "    </tr>\n",
       "    <tr>\n",
       "      <th>19</th>\n",
       "      <td>https://gallica.bnf.fr/ark:/12148/btv1b53162161b</td>\n",
       "      <td>d'arc</td>\n",
       "    </tr>\n",
       "    <tr>\n",
       "      <th>26</th>\n",
       "      <td>https://gallica.bnf.fr/ark:/12148/btv1b530922119</td>\n",
       "      <td>schah</td>\n",
       "    </tr>\n",
       "    <tr>\n",
       "      <th>33</th>\n",
       "      <td>https://gallica.bnf.fr/ark:/12148/btv1b530653663</td>\n",
       "      <td>député</td>\n",
       "    </tr>\n",
       "    <tr>\n",
       "      <th>34</th>\n",
       "      <td>https://gallica.bnf.fr/ark:/12148/btv1b530923448</td>\n",
       "      <td>schah</td>\n",
       "    </tr>\n",
       "    <tr>\n",
       "      <th>...</th>\n",
       "      <td>...</td>\n",
       "      <td>...</td>\n",
       "    </tr>\n",
       "    <tr>\n",
       "      <th>206320</th>\n",
       "      <td>https://gallica.bnf.fr/ark:/12148/btv1b531595399</td>\n",
       "      <td>majesté</td>\n",
       "    </tr>\n",
       "    <tr>\n",
       "      <th>207441</th>\n",
       "      <td>https://gallica.bnf.fr/ark:/12148/btv1b530921667</td>\n",
       "      <td>forme</td>\n",
       "    </tr>\n",
       "    <tr>\n",
       "      <th>220255</th>\n",
       "      <td>https://gallica.bnf.fr/ark:/12148/btv1b531595399</td>\n",
       "      <td>suite</td>\n",
       "    </tr>\n",
       "    <tr>\n",
       "      <th>262060</th>\n",
       "      <td>https://gallica.bnf.fr/ark:/12148/btv1b531595399</td>\n",
       "      <td>naser</td>\n",
       "    </tr>\n",
       "    <tr>\n",
       "      <th>275995</th>\n",
       "      <td>https://gallica.bnf.fr/ark:/12148/btv1b531595399</td>\n",
       "      <td>al-din</td>\n",
       "    </tr>\n",
       "  </tbody>\n",
       "</table>\n",
       "<p>20832 rows × 2 columns</p>\n",
       "</div>"
      ],
      "text/plain": [
       "                                                      id     tags\n",
       "10      https://gallica.bnf.fr/ark:/12148/btv1b53162160w    d'arc\n",
       "19      https://gallica.bnf.fr/ark:/12148/btv1b53162161b    d'arc\n",
       "26      https://gallica.bnf.fr/ark:/12148/btv1b530922119    schah\n",
       "33      https://gallica.bnf.fr/ark:/12148/btv1b530653663   député\n",
       "34      https://gallica.bnf.fr/ark:/12148/btv1b530923448    schah\n",
       "...                                                  ...      ...\n",
       "206320  https://gallica.bnf.fr/ark:/12148/btv1b531595399  majesté\n",
       "207441  https://gallica.bnf.fr/ark:/12148/btv1b530921667    forme\n",
       "220255  https://gallica.bnf.fr/ark:/12148/btv1b531595399    suite\n",
       "262060  https://gallica.bnf.fr/ark:/12148/btv1b531595399    naser\n",
       "275995  https://gallica.bnf.fr/ark:/12148/btv1b531595399   al-din\n",
       "\n",
       "[20832 rows x 2 columns]"
      ]
     },
     "execution_count": 173,
     "metadata": {},
     "output_type": "execute_result"
    }
   ],
   "source": [
    "tags_title_"
   ]
  },
  {
   "cell_type": "code",
   "execution_count": 148,
   "metadata": {},
   "outputs": [],
   "source": [
    "def get_taglist(df, n=10):\n",
    "    \n",
    "    return df[df['tags'].map(df['tags'].value_counts()) > n]"
   ]
  },
  {
   "cell_type": "code",
   "execution_count": 149,
   "metadata": {},
   "outputs": [],
   "source": [
    "taglist_title = list(get_taglist(tags_title_).tags.unique())"
   ]
  },
  {
   "cell_type": "code",
   "execution_count": 150,
   "metadata": {},
   "outputs": [],
   "source": [
    "#taglist_title"
   ]
  },
  {
   "cell_type": "code",
   "execution_count": 174,
   "metadata": {},
   "outputs": [],
   "source": [
    "tags_subject_ = tag_df.subject.apply(pd.Series).merge(tag_df, right_index=True, left_index=True) \\\n",
    "        .drop(['title','subject'],axis=1).melt(id_vars=['id'], value_name='tags').drop('variable', axis=1)\n",
    "\n"
   ]
  },
  {
   "cell_type": "code",
   "execution_count": 175,
   "metadata": {},
   "outputs": [],
   "source": [
    "tags_subject_ = tags_subject_[tags_subject_.tags.apply(filter_tags)]"
   ]
  },
  {
   "cell_type": "code",
   "execution_count": 153,
   "metadata": {},
   "outputs": [],
   "source": [
    "taglist_subject = list(get_taglist(tags_subject_, n=1).tags.unique())\n",
    "#taglist_subject"
   ]
  },
  {
   "cell_type": "code",
   "execution_count": 209,
   "metadata": {},
   "outputs": [],
   "source": [
    "#some manual work\n",
    "\n",
    "taglist_title_final = ['député', 'ambassade', 'ministre', 'bordas',\n",
    "       'compositeur', 'général', 'chinois', 'journaliste',\n",
    "       'opéra', 'sculpteur', 'vaudeviliste', 'peintre',\n",
    "       'colonel', 'auteur', 'historien', 'comédien', 'amiral',\n",
    "       'baretta', 'prince', 'chimiste', 'avocat',\n",
    "       'piccolo', 'comédie', 'romancier', 'abbé', \n",
    "       'écrivain', 'capitaine', 'navigation', 'vaudeville', \n",
    "       'châtelet', 'explorateur', 'aéronaute',\n",
    "       'critique', 'cantatrice', 'princesse', 'poète', 'violoniste',\n",
    "       'docteur',  'journal', 'marquis',\n",
    "       'dessinateur', 'musicien', 'chanteur',\n",
    "       'publiciste', 'chef', 'couturier', 'lanthelme', 'famille',\n",
    "       'opéra-comique', 'écuyère', 'actrice',\n",
    "       'napoléon', 'directeur', 'ecrivain', 'suite', 'anglaise',\n",
    "       'palais-royal', 'folies', 'cirque', 'ecuyère',\n",
    "        'théâtre-français', 'gymnase', 'frère',\n",
    "      'roi', 'folies-dramatiques',\n",
    "       'mousquetaires', 'bouffes-parisiens', 'professeur', 'groupe',\n",
    "       'littérateur', 'président', 'maison',\n",
    "       \n",
    "       'lyrique', 'cluny', 'reichemberg', 'folies-dramatiques', 'frères',\n",
    "       \n",
    "       'chevallier', 'danseuse',  \n",
    "       'décorateur', 'ambassadeur', \n",
    "       'politique', 'saint', 'république',\n",
    "        'droit',\n",
    "        'marquise', \n",
    "       'sénateur',\n",
    "       'artiste', 'cloches',\n",
    "       'majesté', 'japonaise', 'dramatique',\n",
    "       'comique', 'française', 'aérienne', 'conservatoire', 'bourgeois',\n",
    "       'italien', 'royal', \"l'institut\", \n",
    "       \"d'orchestre\", 'comédie-française', \n",
    "       'revue', 'bergère', \"d'hiver\", 'potter', 'dramatiques', \n",
    "       'suédoise', \"l'académie\", 'opéra-comique',\n",
    "       'orphée',\n",
    "       \n",
    "       'folies-dramatiques',\n",
    "       'vaudevill', 'odéon', 'phèdre', 'assassin', 'décoré',\n",
    "       'saint-martin', 'trouvère', 'vénus', \"l'arlésienne\",\n",
    "       'assommoir', \n",
    "       'cantinière', \"s'amuse\", 'amour', 'opéra', 'serment', 'rouge',\n",
    "       \n",
    "       'mascotte', 'gymnase',\n",
    "       'châtelet', \n",
    "       \n",
    "       'africaine',\n",
    "        'juanita', 'perse', 'musique',\n",
    "       'nouveau', 'lettres', 'russe', 'breuil', 'lantelme', 'hanovre',\n",
    "       'pyrénées', 'parisienne', 'ventre',\n",
    "\n",
    "       'chevalier', 'séville', 'américaine',  \"l'impératrice\",\n",
    "       'commune', 'cigale', 'saturnales', 'cendrillonnette', 'tzigane',\n",
    "       \n",
    "       'camarade', 'marchande', 'bicyclistes',\n",
    "       'sans-gêne', 'cousin-cousine', \"d'avignon\", 'pilules', 'fétiche',\n",
    "       'cliquette', \n",
    "       'patard', 'patart', 'joyeusetés', 'fantaisies-parisiennes',\n",
    "       'dramatiques', 'carreau',  'suzette', 'enfers', 'école',\n",
    "       \n",
    "       \n",
    "        'trèfle', \n",
    "\n",
    "        'tambour-major', 'couronne',\n",
    "        'diable',\n",
    "       'pyrennées', 'christ', 'hussard', 'galles', \"l'année\", 'chèvres',\n",
    "       'seigneur', 'clairette']"
   ]
  },
  {
   "cell_type": "code",
   "execution_count": null,
   "metadata": {},
   "outputs": [],
   "source": []
  },
  {
   "cell_type": "code",
   "execution_count": 180,
   "metadata": {},
   "outputs": [],
   "source": []
  },
  {
   "cell_type": "code",
   "execution_count": 210,
   "metadata": {},
   "outputs": [],
   "source": [
    "tag_df['tags_title'] = tag_df.title.apply(lambda x: list(set(x).intersection(set(taglist_title_final)))) \n",
    "tag_df['tags_subject'] = tag_df.subject.apply(lambda x: list(set(x).intersection(set(taglist_subject)))) "
   ]
  },
  {
   "cell_type": "code",
   "execution_count": 211,
   "metadata": {},
   "outputs": [],
   "source": [
    "tag_df['tags'] = tag_df.tags_title + tag_df.tags_subject"
   ]
  },
  {
   "cell_type": "code",
   "execution_count": 212,
   "metadata": {},
   "outputs": [],
   "source": [
    "tag_df['len'] = tag_df.tags.apply(lambda x: len(x))"
   ]
  },
  {
   "cell_type": "code",
   "execution_count": 213,
   "metadata": {},
   "outputs": [
    {
     "data": {
      "text/html": [
       "<div>\n",
       "<style scoped>\n",
       "    .dataframe tbody tr th:only-of-type {\n",
       "        vertical-align: middle;\n",
       "    }\n",
       "\n",
       "    .dataframe tbody tr th {\n",
       "        vertical-align: top;\n",
       "    }\n",
       "\n",
       "    .dataframe thead th {\n",
       "        text-align: right;\n",
       "    }\n",
       "</style>\n",
       "<table border=\"1\" class=\"dataframe\">\n",
       "  <thead>\n",
       "    <tr style=\"text-align: right;\">\n",
       "      <th></th>\n",
       "      <th>id</th>\n",
       "      <th>title</th>\n",
       "      <th>subject</th>\n",
       "      <th>tags_title</th>\n",
       "      <th>tags_subject</th>\n",
       "      <th>tags</th>\n",
       "      <th>len</th>\n",
       "    </tr>\n",
       "  </thead>\n",
       "  <tbody>\n",
       "    <tr>\n",
       "      <th>14</th>\n",
       "      <td>https://gallica.bnf.fr/ark:/12148/btv1b53168871g</td>\n",
       "      <td>[me, opéra-comique]</td>\n",
       "      <td>[]</td>\n",
       "      <td>[opéra-comique]</td>\n",
       "      <td>[]</td>\n",
       "      <td>[opéra-comique]</td>\n",
       "      <td>1</td>\n",
       "    </tr>\n",
       "    <tr>\n",
       "      <th>38</th>\n",
       "      <td>https://gallica.bnf.fr/ark:/12148/btv1b53171027z</td>\n",
       "      <td>[me, variétés, les, variétés, de, l'année]</td>\n",
       "      <td>[]</td>\n",
       "      <td>[l'année]</td>\n",
       "      <td>[]</td>\n",
       "      <td>[l'année]</td>\n",
       "      <td>1</td>\n",
       "    </tr>\n",
       "    <tr>\n",
       "      <th>39</th>\n",
       "      <td>https://gallica.bnf.fr/ark:/12148/btv1b53171028d</td>\n",
       "      <td>[me, variétés), les, variétés, de, l'année]</td>\n",
       "      <td>[]</td>\n",
       "      <td>[l'année]</td>\n",
       "      <td>[]</td>\n",
       "      <td>[l'année]</td>\n",
       "      <td>1</td>\n",
       "    </tr>\n",
       "    <tr>\n",
       "      <th>45</th>\n",
       "      <td>https://gallica.bnf.fr/ark:/12148/btv1b53165012c</td>\n",
       "      <td>[me, folies-dramatiques, juanita]</td>\n",
       "      <td>[]</td>\n",
       "      <td>[folies-dramatiques, juanita]</td>\n",
       "      <td>[]</td>\n",
       "      <td>[folies-dramatiques, juanita]</td>\n",
       "      <td>2</td>\n",
       "    </tr>\n",
       "    <tr>\n",
       "      <th>50</th>\n",
       "      <td>https://gallica.bnf.fr/ark:/12148/btv1b53165010g</td>\n",
       "      <td>[m, folies-dramatiques, juanita]</td>\n",
       "      <td>[]</td>\n",
       "      <td>[folies-dramatiques, juanita]</td>\n",
       "      <td>[]</td>\n",
       "      <td>[folies-dramatiques, juanita]</td>\n",
       "      <td>2</td>\n",
       "    </tr>\n",
       "    <tr>\n",
       "      <th>...</th>\n",
       "      <td>...</td>\n",
       "      <td>...</td>\n",
       "      <td>...</td>\n",
       "      <td>...</td>\n",
       "      <td>...</td>\n",
       "      <td>...</td>\n",
       "      <td>...</td>\n",
       "    </tr>\n",
       "    <tr>\n",
       "      <th>23516</th>\n",
       "      <td>https://gallica.bnf.fr/ark:/12148/btv1b530506270</td>\n",
       "      <td>[de, journaliste]</td>\n",
       "      <td>[]</td>\n",
       "      <td>[journaliste]</td>\n",
       "      <td>[]</td>\n",
       "      <td>[journaliste]</td>\n",
       "      <td>1</td>\n",
       "    </tr>\n",
       "    <tr>\n",
       "      <th>23517</th>\n",
       "      <td>https://gallica.bnf.fr/ark:/12148/btv1b53065782n</td>\n",
       "      <td>[homme, de, lettres]</td>\n",
       "      <td>[]</td>\n",
       "      <td>[lettres]</td>\n",
       "      <td>[]</td>\n",
       "      <td>[lettres]</td>\n",
       "      <td>1</td>\n",
       "    </tr>\n",
       "    <tr>\n",
       "      <th>23519</th>\n",
       "      <td>https://gallica.bnf.fr/ark:/12148/btv1b53066278c</td>\n",
       "      <td>[directeur, des, bouffes]</td>\n",
       "      <td>[]</td>\n",
       "      <td>[directeur]</td>\n",
       "      <td>[]</td>\n",
       "      <td>[directeur]</td>\n",
       "      <td>1</td>\n",
       "    </tr>\n",
       "    <tr>\n",
       "      <th>23523</th>\n",
       "      <td>https://gallica.bnf.fr/ark:/12148/btv1b53118792t</td>\n",
       "      <td>[docteur]</td>\n",
       "      <td>[]</td>\n",
       "      <td>[docteur]</td>\n",
       "      <td>[]</td>\n",
       "      <td>[docteur]</td>\n",
       "      <td>1</td>\n",
       "    </tr>\n",
       "    <tr>\n",
       "      <th>23528</th>\n",
       "      <td>https://gallica.bnf.fr/ark:/12148/btv1b531203810</td>\n",
       "      <td>[m, hignette]</td>\n",
       "      <td>[Ombre portée]</td>\n",
       "      <td>[]</td>\n",
       "      <td>[Ombre portée]</td>\n",
       "      <td>[Ombre portée]</td>\n",
       "      <td>1</td>\n",
       "    </tr>\n",
       "  </tbody>\n",
       "</table>\n",
       "<p>6679 rows × 7 columns</p>\n",
       "</div>"
      ],
      "text/plain": [
       "                                                     id  \\\n",
       "14     https://gallica.bnf.fr/ark:/12148/btv1b53168871g   \n",
       "38     https://gallica.bnf.fr/ark:/12148/btv1b53171027z   \n",
       "39     https://gallica.bnf.fr/ark:/12148/btv1b53171028d   \n",
       "45     https://gallica.bnf.fr/ark:/12148/btv1b53165012c   \n",
       "50     https://gallica.bnf.fr/ark:/12148/btv1b53165010g   \n",
       "...                                                 ...   \n",
       "23516  https://gallica.bnf.fr/ark:/12148/btv1b530506270   \n",
       "23517  https://gallica.bnf.fr/ark:/12148/btv1b53065782n   \n",
       "23519  https://gallica.bnf.fr/ark:/12148/btv1b53066278c   \n",
       "23523  https://gallica.bnf.fr/ark:/12148/btv1b53118792t   \n",
       "23528  https://gallica.bnf.fr/ark:/12148/btv1b531203810   \n",
       "\n",
       "                                             title         subject  \\\n",
       "14                             [me, opéra-comique]              []   \n",
       "38      [me, variétés, les, variétés, de, l'année]              []   \n",
       "39     [me, variétés), les, variétés, de, l'année]              []   \n",
       "45               [me, folies-dramatiques, juanita]              []   \n",
       "50                [m, folies-dramatiques, juanita]              []   \n",
       "...                                            ...             ...   \n",
       "23516                            [de, journaliste]              []   \n",
       "23517                         [homme, de, lettres]              []   \n",
       "23519                    [directeur, des, bouffes]              []   \n",
       "23523                                    [docteur]              []   \n",
       "23528                                [m, hignette]  [Ombre portée]   \n",
       "\n",
       "                          tags_title    tags_subject  \\\n",
       "14                   [opéra-comique]              []   \n",
       "38                         [l'année]              []   \n",
       "39                         [l'année]              []   \n",
       "45     [folies-dramatiques, juanita]              []   \n",
       "50     [folies-dramatiques, juanita]              []   \n",
       "...                              ...             ...   \n",
       "23516                  [journaliste]              []   \n",
       "23517                      [lettres]              []   \n",
       "23519                    [directeur]              []   \n",
       "23523                      [docteur]              []   \n",
       "23528                             []  [Ombre portée]   \n",
       "\n",
       "                                tags  len  \n",
       "14                   [opéra-comique]    1  \n",
       "38                         [l'année]    1  \n",
       "39                         [l'année]    1  \n",
       "45     [folies-dramatiques, juanita]    2  \n",
       "50     [folies-dramatiques, juanita]    2  \n",
       "...                              ...  ...  \n",
       "23516                  [journaliste]    1  \n",
       "23517                      [lettres]    1  \n",
       "23519                    [directeur]    1  \n",
       "23523                      [docteur]    1  \n",
       "23528                 [Ombre portée]    1  \n",
       "\n",
       "[6679 rows x 7 columns]"
      ]
     },
     "execution_count": 213,
     "metadata": {},
     "output_type": "execute_result"
    }
   ],
   "source": [
    "tag_df[tag_df.len >0]"
   ]
  },
  {
   "cell_type": "code",
   "execution_count": null,
   "metadata": {},
   "outputs": [],
   "source": []
  },
  {
   "cell_type": "code",
   "execution_count": 214,
   "metadata": {},
   "outputs": [],
   "source": [
    "tag_id_df = pd.DataFrame(tag_df[['id','tags']], columns=['id','tags'])"
   ]
  },
  {
   "cell_type": "code",
   "execution_count": 218,
   "metadata": {},
   "outputs": [],
   "source": [
    "tag_id_df.to_pickle('tag-id.pkl')"
   ]
  },
  {
   "cell_type": "code",
   "execution_count": null,
   "metadata": {},
   "outputs": [],
   "source": []
  },
  {
   "cell_type": "code",
   "execution_count": null,
   "metadata": {},
   "outputs": [],
   "source": []
  },
  {
   "cell_type": "code",
   "execution_count": 160,
   "metadata": {},
   "outputs": [],
   "source": []
  },
  {
   "cell_type": "code",
   "execution_count": null,
   "metadata": {},
   "outputs": [],
   "source": []
  },
  {
   "cell_type": "code",
   "execution_count": 393,
   "metadata": {},
   "outputs": [
    {
     "data": {
      "text/plain": [
       "array([\"d'arc\", 'député', 'ambassade', 'ministre', 'caricature', 'bordas',\n",
       "       'compositeur', 'général', 'chinois', 'statue', 'journaliste',\n",
       "       'opéra', 'sculpteur', 'vaudeviliste', 'ambigu', 'peintre',\n",
       "       'colonel', 'auteur', 'historien', 'comédien', 'variétés', 'amiral',\n",
       "       'baretta', 'prince', 'm[lle', 'comte', 'chimiste', 'avocat',\n",
       "       'piccolo', 'comédie', 'romancier', 'abbé', 'maréchal', 'baretti',\n",
       "       'écrivain', 'capitaine', 'navigation', 'vaudeville', 'gaîté',\n",
       "       'nouveautés', 'châtelet', 'explorateur', 'melle', 'aéronaute',\n",
       "       'critique', 'cantatrice', 'princesse', 'poète', 'violoniste',\n",
       "       'palais', 'figaro', 'bouffes', 'odéon', 'renaissance', 'nixau',\n",
       "       'docteur', 'portrait', 'théâtre', 'homme', 'journal', 'marquis',\n",
       "       'dessinateur', 'feighine', 'musicien', 'oncle', 'chanteur',\n",
       "       'publiciste', 'chef', 'couturier', 'lanthelme', 'famille',\n",
       "       'opéra-comique', 'menus-plaisirs', 'écuyère', 'actrice',\n",
       "       'napoléon', 'directeur', 'ecrivain', 'suite', 'anglaise',\n",
       "       'palais-royal', 'folies', 'cirque', \"d'alençon\", 'ecuyère',\n",
       "       'porte', 'gelabert', 'théâtre-français', 'gymnase', 'frère',\n",
       "       'membre', \"d'asco\", 'roi', 'clémenceau', 'folies-dramatiques',\n",
       "       'mousquetaires', 'bouffes-parisiens', 'professeur', 'groupe',\n",
       "       'littérateur', 'merys', 'cadet', 'président', 'bréjean', 'maison',\n",
       "       'statuettes', 'bouffes]', 'fille', 'monvel', 'price', 'vanda',\n",
       "       'lyrique', 'cluny', 'reichemberg', 'folies-dramatiques]', 'frères',\n",
       "       'bouffard', 'rosavella', 'verneuil', 'gaîté]', 'modes',\n",
       "       'chevallier', 'danseuse', 'heilbron', 'gobain', 'mariage',\n",
       "       'décorateur', 'ambassadeur', 'mesmacker', 'hernani', 'trocadéro',\n",
       "       'petite', 'voyage', 'politique', 'saint', 'république', 'hadamard',\n",
       "       'albert]', 'babiole', 'régnault', 'bernhardt]', 'hanlon', 'weber',\n",
       "       'chatterton', 'babolin', 'poucet', \"l'ami\", 'ophélie', 'darcourt]',\n",
       "       'jeannette', 'dharcourt', 'nouveautés]', 'mealy', 'droit',\n",
       "       'martial', 'meyer', 'brasseur]', 'marquise', 'renaissance]',\n",
       "       'milly', 'femme', 'menus', 'carmen', 'bouffar]', 'troupe',\n",
       "       'desprez', 'beaumarchais', 'ritter', 'sénateur', 'thibault]',\n",
       "       'artiste', 'groupes', 'théodora', 'camargo', 'faust', 'cloches',\n",
       "       'variétés)', 'majesté', 'japonaise', 'géraldine', 'dramatique',\n",
       "       'comique', 'française', 'aérienne', 'conservatoire', 'bourgeois',\n",
       "       'italien', 'royal', \"l'institut\", 'zandt', \"l'opéra\",\n",
       "       \"d'orchestre\", 'reszké', 'comédie-française', 'ghell', 'lepus',\n",
       "       'revue', 'bergère', \"d'hiver\", 'potter', 'dramatiques', 'mignon',\n",
       "       'beers', 'suédoise', \"l'académie\", 'fériel', 'opéra-comique)',\n",
       "       'marguerite]', 'orphée', 'renaissance)', 'tartarin', 'château',\n",
       "       'milly-meyer', \"l'oeuf\", 'tarquini', 'tournée',\n",
       "       'folies-dramatiques)', 'gaîté)', \"l'amour\", 'chatte', 'coeur',\n",
       "       'vaudeville)', 'odéon)', 'phèdre', 'assassin', 'décoré',\n",
       "       'saint-martin', 'surcouf', 'trouvère', 'vénus', \"l'arlésienne\",\n",
       "       'assommoir', 'plutus', 'nouveautés)', 'severo', 'boniface',\n",
       "       'cantinière', \"s'amuse\", 'amour', 'opéra)', 'serment', 'rouge',\n",
       "       \"mam'zelle\", 'cocard', 'royaume', 'cluny)', 'labounskaya',\n",
       "       'mascotte', 'fritz', 'sosie', 'gymnase)', 'litini', 'trois',\n",
       "       'châtelet)', 'menus-plaisirs)', \"d'aînesse\", 'harding', 'macbeth',\n",
       "       'petits', 'labouskaya', 'plaisirs', 'fauvette', 'conte', 'actéon',\n",
       "       'st-martin', 'amants', 'fatinitza', 'madrid', 'africaine',\n",
       "       'coquin', 'larigot', 'pincés', 'juanita', 'perse', 'musique',\n",
       "       'nouveau', 'lettres', 'russe', 'breuil', 'lantelme]', 'hanovre',\n",
       "       'pyrénées', 'parisienne', 'ventre', 'lakmé', 'mariée', 'gismonda',\n",
       "       \"d'eau\", 'haute', 'grossmann', 'izeyl', 'reichenberg]', 'abbott]',\n",
       "       'chevalier]', 'séville', 'américaine', 'gobin]', \"l'impératrice\",\n",
       "       'commune', 'cigale', 'saturnales', 'cendrillonnette', 'tzigane',\n",
       "       'torelli', 'mouillé', 'jours', 'belle', 'champignol', \"d'amour\",\n",
       "       'bossu', 'camarade', 'crénom', 'marchande', 'bicyclistes',\n",
       "       'sans-gêne', 'cousin-cousine', \"d'avignon\", 'pilules', 'fétiche',\n",
       "       'cliquette', \"d'arles\", 'moderne', 'mily]-meyer', \"d'avril\",\n",
       "       'patard', 'patart', 'joyeusetés', 'fantaisies-parisiennes',\n",
       "       'dramatiques)', 'carreau', 'scène', 'suzette', 'enfers', 'école',\n",
       "       'angot', 'rieuse', 'douze', 'nicolas', 'jacobites', 'intimes',\n",
       "       'robinson', 'bicoquet', 'femmes', 'talisman', 'corneville',\n",
       "       'bonne', 'trèfle', 'tosca', 'siècle', 'troisième', 'manque',\n",
       "       'trébizonde', 'marionnettes', 'vérone', 'printemps',\n",
       "       'mesdemoiselles', 'panthéon', 'alpes', 'tambour-major', 'couronne',\n",
       "       \"d'eau]\", 'poucette', 'jobards', 'sourires', 'barbassou', 'diable',\n",
       "       'pyrennées', 'christ', 'hussard', 'galles', \"l'année\", 'chèvres',\n",
       "       'seigneur', 'japhet', 'seymour', 'clairette'], dtype=object)"
      ]
     },
     "execution_count": 393,
     "metadata": {},
     "output_type": "execute_result"
    }
   ],
   "source": [
    "tag_lists.tags.unique()"
   ]
  },
  {
   "cell_type": "code",
   "execution_count": 162,
   "metadata": {},
   "outputs": [],
   "source": []
  },
  {
   "cell_type": "code",
   "execution_count": null,
   "metadata": {},
   "outputs": [],
   "source": []
  },
  {
   "cell_type": "code",
   "execution_count": null,
   "metadata": {},
   "outputs": [],
   "source": []
  }
 ],
 "metadata": {
  "kernelspec": {
   "display_name": "Python 3",
   "language": "python",
   "name": "python3"
  },
  "language_info": {
   "codemirror_mode": {
    "name": "ipython",
    "version": 3
   },
   "file_extension": ".py",
   "mimetype": "text/x-python",
   "name": "python",
   "nbconvert_exporter": "python",
   "pygments_lexer": "ipython3",
   "version": "3.7.3"
  }
 },
 "nbformat": 4,
 "nbformat_minor": 4
}
