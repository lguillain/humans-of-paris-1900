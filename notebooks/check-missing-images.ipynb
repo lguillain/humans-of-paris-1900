{
 "cells": [
  {
   "cell_type": "code",
   "execution_count": 14,
   "metadata": {},
   "outputs": [],
   "source": [
    "import pandas as pd\n",
    "import pickle\n",
    "import os"
   ]
  },
  {
   "cell_type": "code",
   "execution_count": 15,
   "metadata": {},
   "outputs": [],
   "source": [
    "pickle_in = open('data/merged_dataframe.pkl', 'rb')\n",
    "merged_dataframe = pickle.load(pickle_in)\n",
    "merged_dataframe['id2'] = merged_dataframe.id.apply(lambda x: x.split('/')[-1] if isinstance(x, str) else None)\n",
    "ids_merged_dataframe  = list(merged_dataframe.id2.values)\n",
    "\n",
    "age_gender = pd.read_json('data/age_gender_labeles.json')\n",
    "age_gender['id2'] = age_gender.id.apply(lambda x: x.split('/')[-1] if x else None)\n",
    "ids_age_gender  = list(age_gender.id2.values)\n",
    "\n",
    "ids_img_full = os.listdir('../humans_of_paris/app/static/img_full/')\n",
    "ids_img_full = [x.split('.')[0] for x in ids_img_full]"
   ]
  },
  {
   "cell_type": "code",
   "execution_count": 16,
   "metadata": {},
   "outputs": [
    {
     "name": "stdout",
     "output_type": "stream",
     "text": [
      "1945\n",
      "1894\n",
      "12385\n"
     ]
    }
   ],
   "source": [
    "print(len(ids_merged_dataframe))\n",
    "print(len(ids_age_gender))\n",
    "print(len(ids_img_full))"
   ]
  },
  {
   "cell_type": "code",
   "execution_count": 17,
   "metadata": {},
   "outputs": [
    {
     "name": "stdout",
     "output_type": "stream",
     "text": [
      "169\n",
      "169\n"
     ]
    }
   ],
   "source": [
    "print(len(set(ids_merged_dataframe) - set(ids_img_full)))\n",
    "print(len(set(ids_age_gender) - set(ids_img_full)))"
   ]
  },
  {
   "cell_type": "code",
   "execution_count": 18,
   "metadata": {},
   "outputs": [],
   "source": [
    "to_crawl = list(set(ids_age_gender) - set(ids_img_full))"
   ]
  },
  {
   "cell_type": "code",
   "execution_count": 22,
   "metadata": {},
   "outputs": [
    {
     "data": {
      "text/plain": [
       "757     https://gallica.bnf.fr/ark:/12148/btv1b530658052\n",
       "215     https://gallica.bnf.fr/ark:/12148/btv1b53050824d\n",
       "116     https://gallica.bnf.fr/ark:/12148/btv1b531187794\n",
       "1761    https://gallica.bnf.fr/ark:/12148/btv1b53169280h\n",
       "1414    https://gallica.bnf.fr/ark:/12148/btv1b53118918z\n",
       "                              ...                       \n",
       "955     https://gallica.bnf.fr/ark:/12148/btv1b53050836q\n",
       "904     https://gallica.bnf.fr/ark:/12148/btv1b53050651j\n",
       "899     https://gallica.bnf.fr/ark:/12148/btv1b550092156\n",
       "891     https://gallica.bnf.fr/ark:/12148/btv1b531469508\n",
       "941     https://gallica.bnf.fr/ark:/12148/btv1b530664695\n",
       "Name: id, Length: 168, dtype: object"
      ]
     },
     "execution_count": 22,
     "metadata": {},
     "output_type": "execute_result"
    }
   ],
   "source": [
    "merged_dataframe[merged_dataframe.id2.isin(to_crawl)].id.dropna()"
   ]
  },
  {
   "cell_type": "code",
   "execution_count": 23,
   "metadata": {},
   "outputs": [
    {
     "name": "stderr",
     "output_type": "stream",
     "text": [
      "/Users/lguillain/opt/anaconda3/envs/fdh/lib/python3.7/site-packages/ipykernel_launcher.py:1: FutureWarning: The signature of `Series.to_csv` was aligned to that of `DataFrame.to_csv`, and argument 'header' will change its default value from False to True: please pass an explicit value to suppress this warning.\n",
      "  \"\"\"Entry point for launching an IPython kernel.\n"
     ]
    }
   ],
   "source": [
    "merged_dataframe[merged_dataframe.id2.isin(to_crawl)].id.dropna().to_csv('../../ndl-crop/identifiers.csv')"
   ]
  },
  {
   "cell_type": "code",
   "execution_count": null,
   "metadata": {},
   "outputs": [],
   "source": []
  }
 ],
 "metadata": {
  "kernelspec": {
   "display_name": "Python 3",
   "language": "python",
   "name": "python3"
  },
  "language_info": {
   "codemirror_mode": {
    "name": "ipython",
    "version": 3
   },
   "file_extension": ".py",
   "mimetype": "text/x-python",
   "name": "python",
   "nbconvert_exporter": "python",
   "pygments_lexer": "ipython3",
   "version": "3.7.0"
  }
 },
 "nbformat": 4,
 "nbformat_minor": 2
}
