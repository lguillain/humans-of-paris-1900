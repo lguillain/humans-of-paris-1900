{
 "cells": [
  {
   "cell_type": "code",
   "execution_count": 54,
   "metadata": {},
   "outputs": [],
   "source": [
    "import pandas as pd\n",
    "import pickle\n",
    "import os"
   ]
  },
  {
   "cell_type": "code",
   "execution_count": 51,
   "metadata": {},
   "outputs": [],
   "source": [
    "pickle_in = open('data/merged_dataframe.pkl', 'rb')\n",
    "merged_dataframe = pickle.load(pickle_in)\n",
    "merged_dataframe['id'] = merged_dataframe.id.apply(lambda x: x.split('/')[-1] if isinstance(x, str) else None)\n",
    "ids_merged_dataframe  = list(merged_dataframe.id.values)\n",
    "\n",
    "age_gender = pd.read_json('data/age_gender_labeles.json')\n",
    "age_gender['id'] = age_gender.id.apply(lambda x: x.split('/')[-1] if x else None)\n",
    "ids_age_gender  = list(age_gender.id.values)\n",
    "\n",
    "ids_img_full = os.listdir('../humans_of_paris/app/static/img_full/')\n",
    "ids_img_full = [x.split('.')[0] for x in ids_img_full]"
   ]
  },
  {
   "cell_type": "code",
   "execution_count": 52,
   "metadata": {},
   "outputs": [
    {
     "name": "stdout",
     "output_type": "stream",
     "text": [
      "1966\n",
      "1894\n",
      "12386\n"
     ]
    }
   ],
   "source": [
    "print(len(ids_merged_dataframe))\n",
    "print(len(ids_age_gender))\n",
    "print(len(img_full))"
   ]
  },
  {
   "cell_type": "code",
   "execution_count": 53,
   "metadata": {},
   "outputs": [
    {
     "name": "stdout",
     "output_type": "stream",
     "text": [
      "168\n",
      "169\n"
     ]
    }
   ],
   "source": [
    "print(len(set(ids_merged_dataframe) - set(ids_img_full)))\n",
    "print(len(set(ids_age_gender) - set(ids_img_full)))"
   ]
  }
 ],
 "metadata": {
  "kernelspec": {
   "display_name": "Humans of Paris",
   "language": "python",
   "name": "humans-of-paris"
  },
  "language_info": {
   "codemirror_mode": {
    "name": "ipython",
    "version": 3
   },
   "file_extension": ".py",
   "mimetype": "text/x-python",
   "name": "python",
   "nbconvert_exporter": "python",
   "pygments_lexer": "ipython3",
   "version": "3.6.7"
  }
 },
 "nbformat": 4,
 "nbformat_minor": 2
}
